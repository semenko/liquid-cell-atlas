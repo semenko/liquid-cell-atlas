{
  "nbformat": 4,
  "nbformat_minor": 0,
  "metadata": {
    "colab": {
      "name": "altair_visualizations.ipynb",
      "provenance": [],
      "authorship_tag": "ABX9TyODYRifAvgWYhnAacL41w8X",
      "include_colab_link": true
    },
    "kernelspec": {
      "name": "python3",
      "display_name": "Python 3"
    },
    "language_info": {
      "name": "python"
    }
  },
  "cells": [
    {
      "cell_type": "markdown",
      "metadata": {
        "id": "view-in-github",
        "colab_type": "text"
      },
      "source": [
        "<a href=\"https://colab.research.google.com/github/semenko/liquid-cell-atlas/blob/main/altair_visualizations.ipynb\" target=\"_parent\"><img src=\"https://colab.research.google.com/assets/colab-badge.svg\" alt=\"Open In Colab\"/></a>"
      ]
    },
    {
      "cell_type": "markdown",
      "source": [
        "# Import Necessary Libraries"
      ],
      "metadata": {
        "id": "kWtMnCKKhynT"
      }
    },
    {
      "cell_type": "code",
      "source": [
        "import numpy as np\n",
        "import altair as alt\n",
        "import pandas as pd"
      ],
      "metadata": {
        "id": "PncQzodK60LN"
      },
      "execution_count": 20,
      "outputs": []
    },
    {
      "cell_type": "markdown",
      "source": [
        "# Generate Ground Truth Dictionaries"
      ],
      "metadata": {
        "id": "5E9F2Q1rh3-s"
      }
    },
    {
      "cell_type": "code",
      "execution_count": 21,
      "metadata": {
        "id": "NmAj899l5cM7"
      },
      "outputs": [],
      "source": [
        "# PBMC Ground Truth Internal Data:\n",
        "\n",
        "CELL_TYPES = ['T_CD4_naive', 'T_CD4_central_memory', 'T_CD4_effector_memory', 'T_CD8_naive', 'T_CD8_central_memory', 'T_CD8_effector_memory', 'T_CD8_effector_memory_terminal', 'Treg', 'NK_Cell', 'B_Cell_naive', 'B_Cell_memory', 'Plasma_Cell', 'Monocyte', 'Dendritic']\n",
        "CELL_TYPES_DOTS = [i.replace('_', '.') for i in CELL_TYPES]\n",
        "\n",
        "## PBMC Mixture --> Ground Truth Percentages\n",
        "# This maps sample ID to cell type percentage.\n",
        "PBMC_MIXTURE_TRUTH_BY_CYTOF = {\n",
        "    '03': [11.42,9.7,9.5,8.9,1.9,8.9,5.4,0.29,8.3,5.92,1.86,0.02,7.54,1.8],\n",
        "    '14': [7.83,7,6.9,9.96,1.2,10.3,2.8,0.14,12.7,8.44,2.05,0.01,6.65,1.3],\n",
        "    '24': [15.1,12.2,14.6,8.63,1,7.2,4.5,0.5,7.08,4.92,1.82,0.05,4.12,1.22],\n",
        "    '31': [10.8,6.9,9.9,8.4,0.8,7.3,4.9,0.12,14.96,5.58,1.99,0.01,5.13,1.25],\n",
        "    '49': [9.84,8.4,16.6,10.8,1.2,8.2,4.5,0.19,5.49,7.64,2.00,0.01,7.63,1.12],\n",
        "    '50': [6.2,4.3,5.9,4.04,0.9,3.5,1.8,0.27,9.43,5.66,1.21,0.13,7.14,1.75],\n",
        "    '51': [10.4,6.1,7.1,5.2,0.4,3,2.1,0.18,14.17,6.50,4.39,0.02,10.5,1.65],\n",
        "}\n",
        "\n",
        "# Using \"Second Flow\" in Abul's. spreadsheet\n",
        "PBMC_MIXTURE_TRUTH_BY_FLOW_SECOND = {\n",
        "    '03': [11.55,6.910,7.244,21.07,None,None,None,0.34,4.45,5.70,2.36,None,6.31,1.16],\n",
        "    '14': [8.56,6.504,3.649,19.89,None,None,None,0.22,5.15,7.23,5.29,None,5.78,0.81],\n",
        "    '24': [24.75,9.305,5.088,14.26,None,None,None,0.44,5.02,4.76,1.99,None,5.02,1.12],\n",
        "    '31': [13.5,6.967,4.343,14.77,None,None,None,0.18,4.98,2.23,0.97,None,3.22,0.88],\n",
        "    '49': [13.68,7.324,8.396,21.25,None,None,None,0.16,3.9,6.73,3.27,None,8.8,0.5],\n",
        "    '50': [8.56,5.823,2.675,6.12,None,None,None,0.22,6.14,5.76,1.25,None,15.9,0.83],\n",
        "    '51': [10.61,5.612,3.489,9.11,None,None,None,0.21,10.12,3.83,3.55,None,10.21,1.02],\n",
        "}\n",
        "\n",
        "# Using \"First Flow\" in Abul's. spreadsheet\n",
        "# One flow experiment with missing samples and no corresponding CyTOF\n",
        "PBMC_MIXTURE_TRUTH_BY_FLOW_FIRST = {\n",
        "    '03': [13.95,10.146,4.844,24.16,None,None,None,0.28,6.2,5.25,2.29,None,5.43,0.69],\n",
        "    '14': [11.51,8.508,3.232,23.85,None,None,None,0.12,11.99,4.73,4.29,None,4.94,0.44],\n",
        "    '31': [15.48,8.244,3.624,23.93,None,None,None,0.11,14.17,5.58,2.94,None,7.77,0.35],\n",
        "    '49': [12.74,8.389,6.605,23.95,None,None,None,0.19,3.74,6.96,3.06,None,6.39,0.34],\n",
        "    '50': [14.53,7.674,1.654,10.83,None,None,None,0.14,6.16,8.99,2.14,None,22.45,0.52],\n",
        "}\n",
        "\n",
        "assert all([len(e) == len(CELL_TYPES) for e in PBMC_MIXTURE_TRUTH_BY_CYTOF.values()])\n",
        "assert all([len(e) == len(CELL_TYPES) for e in PBMC_MIXTURE_TRUTH_BY_FLOW_SECOND.values()])\n",
        "assert all([len(e) == len(CELL_TYPES) for e in PBMC_MIXTURE_TRUTH_BY_FLOW_FIRST.values()])\n",
        "\n",
        "# Nested dicts, so you can run:\n",
        "#  PBMC_TRUTH_DICT_FLOW['03']['Treg']\n",
        "PBMC_TRUTH_DICT_FLOW_FIRST = {k:dict.fromkeys(CELL_TYPES_DOTS, v) for k,v in PBMC_MIXTURE_TRUTH_BY_FLOW_FIRST}\n",
        "PBMC_TRUTH_DICT_FLOW_SECOND = {k:dict.fromkeys(CELL_TYPES_DOTS, v) for k,v in PBMC_MIXTURE_TRUTH_BY_FLOW_SECOND}\n",
        "PBMC_TRUTH_DICT_CYTOF = {k:dict.fromkeys(CELL_TYPES_DOTS, v) for k,v in PBMC_MIXTURE_TRUTH_BY_CYTOF}"
      ]
    },
    {
      "cell_type": "markdown",
      "source": [
        "# Generate Random Predictions"
      ],
      "metadata": {
        "id": "uiMMbywOh8rj"
      }
    },
    {
      "cell_type": "code",
      "source": [
        "# Generate random predictions\n",
        "np.random.seed(seed = 2022)\n",
        "\n",
        "PBMC_MIXTURE_PRED_BY_FLOW_FIRST = {}\n",
        "for patient in PBMC_MIXTURE_TRUTH_BY_FLOW_FIRST.keys():\n",
        "    prob_list = []\n",
        "    for i in range(len(CELL_TYPES)):\n",
        "        prob_list.append(np.random.uniform(0,1))\n",
        "    prob_list = 100 * np.array(prob_list) / np.sum(prob_list)\n",
        "    PBMC_MIXTURE_PRED_BY_FLOW_FIRST[patient] = list(prob_list)  \n",
        "\n",
        "PBMC_MIXTURE_PRED_BY_FLOW_SECOND = {}\n",
        "for patient in PBMC_MIXTURE_TRUTH_BY_FLOW_SECOND.keys():\n",
        "    prob_list = []\n",
        "    for i in range(len(CELL_TYPES)):\n",
        "        prob_list.append(np.random.uniform(0,1))\n",
        "    prob_list = 100 * np.array(prob_list) / np.sum(prob_list)\n",
        "    PBMC_MIXTURE_PRED_BY_FLOW_SECOND[patient] = list(prob_list)     \n",
        "\n",
        "PBMC_MIXTURE_PRED_BY_CYTOF = {}\n",
        "for patient in PBMC_MIXTURE_TRUTH_BY_CYTOF.keys():\n",
        "    prob_list = []\n",
        "    for i in range(len(CELL_TYPES)):\n",
        "        prob_list.append(np.random.uniform(0,1))\n",
        "    prob_list = 100 * np.array(prob_list) / np.sum(prob_list)\n",
        "    PBMC_MIXTURE_PRED_BY_CYTOF[patient] = list(prob_list) "
      ],
      "metadata": {
        "id": "9__O7YGo6M_7"
      },
      "execution_count": 22,
      "outputs": []
    },
    {
      "cell_type": "markdown",
      "source": [
        "Calculate the difference between the predictions and ground truth"
      ],
      "metadata": {
        "id": "QcJABY4oQb9t"
      }
    },
    {
      "cell_type": "code",
      "source": [
        "PBMC_MIXTURE_DIFF_BY_FLOW_FIRST = {}\n",
        "for patient in PBMC_MIXTURE_TRUTH_BY_FLOW_FIRST:\n",
        "    truth_arr = [0 if val is None else val for val in PBMC_MIXTURE_TRUTH_BY_FLOW_FIRST[patient]]\n",
        "    PBMC_MIXTURE_DIFF_BY_FLOW_FIRST[patient] = list(np.array(truth_arr) - np.array(PBMC_MIXTURE_PRED_BY_FLOW_FIRST[patient]))\n",
        "\n",
        "PBMC_MIXTURE_DIFF_BY_FLOW_SECOND = {}\n",
        "for patient in PBMC_MIXTURE_TRUTH_BY_FLOW_SECOND:\n",
        "    truth_arr = [0 if val is None else val for val in PBMC_MIXTURE_TRUTH_BY_FLOW_SECOND[patient]]\n",
        "    PBMC_MIXTURE_DIFF_BY_FLOW_SECOND[patient] = list(np.array(truth_arr) - np.array(PBMC_MIXTURE_PRED_BY_FLOW_SECOND[patient]))\n",
        "\n",
        "PBMC_MIXTURE_DIFF_BY_CYTOF = {}\n",
        "for patient in PBMC_MIXTURE_TRUTH_BY_CYTOF:\n",
        "    truth_arr = [0 if val is None else val for val in PBMC_MIXTURE_TRUTH_BY_CYTOF[patient]]\n",
        "    PBMC_MIXTURE_DIFF_BY_CYTOF[patient] = list(np.array(truth_arr) - np.array(PBMC_MIXTURE_PRED_BY_CYTOF[patient]))"
      ],
      "metadata": {
        "id": "VnDtW2Oih0X9"
      },
      "execution_count": 7,
      "outputs": []
    },
    {
      "cell_type": "markdown",
      "source": [
        "# Calculate Statistics"
      ],
      "metadata": {
        "id": "J5b4GWfnSptx"
      }
    },
    {
      "cell_type": "markdown",
      "source": [
        "Mean squared error over all three, per cell type"
      ],
      "metadata": {
        "id": "hVkY9XWZXhsi"
      }
    },
    {
      "cell_type": "code",
      "source": [
        "flow_first_diff = np.array(list((PBMC_MIXTURE_DIFF_BY_FLOW_FIRST.values())))\n",
        "flow_second_diff = np.array(list(PBMC_MIXTURE_DIFF_BY_FLOW_SECOND.values()))\n",
        "cytof_diff = np.array(list(PBMC_MIXTURE_DIFF_BY_CYTOF.values()))\n",
        "combined_diff = np.concatenate((flow_first_diff, flow_second_diff, cytof_diff), axis = 0)\n",
        "\n",
        "mean_dev = np.mean([np.mean(flow_first_diff, axis = 0), \n",
        "                    np.mean(flow_second_diff, axis = 0),\n",
        "                    np.mean(cytof_diff, axis = 0)], axis = 0)\n",
        "std_dev = np.std(combined_diff, axis = 0)\n",
        "\n",
        "data = [[cell, mean_dev[i], std_dev[i]] for i, cell in list(enumerate(CELL_TYPES))]\n",
        "pd.DataFrame(data, columns = [\"Cell Types\", \"Mean Deviation\", \"Standard Deviation\"])"
      ],
      "metadata": {
        "colab": {
          "base_uri": "https://localhost:8080/",
          "height": 488
        },
        "id": "1tTXPLXzSrkC",
        "outputId": "6c68a7db-8040-4ca0-8515-ba91e82574b7"
      },
      "execution_count": 41,
      "outputs": [
        {
          "output_type": "execute_result",
          "data": {
            "text/plain": [
              "                        Cell Types  Mean Deviation  Standard Deviation\n",
              "0                      T_CD4_naive        7.391690            5.691704\n",
              "1             T_CD4_central_memory        0.931626            5.177019\n",
              "2            T_CD4_effector_memory       -1.043748            3.782160\n",
              "3                      T_CD8_naive        6.953081            8.764130\n",
              "4             T_CD8_central_memory       -7.937088            4.728944\n",
              "5            T_CD8_effector_memory       -4.428017            5.195738\n",
              "6   T_CD8_effector_memory_terminal       -5.176219            4.346269\n",
              "7                             Treg       -6.445784            4.718628\n",
              "8                          NK_Cell       -0.325529            4.353026\n",
              "9                     B_Cell_naive       -2.226452            3.964545\n",
              "10                   B_Cell_memory       -4.466262            5.148699\n",
              "11                     Plasma_Cell       -9.192697            4.253256\n",
              "12                        Monocyte        2.777187            6.795044\n",
              "13                       Dendritic       -5.698024            4.231824"
            ],
            "text/html": [
              "\n",
              "  <div id=\"df-6925e787-a0a5-4dd8-9183-eae018cb1c56\">\n",
              "    <div class=\"colab-df-container\">\n",
              "      <div>\n",
              "<style scoped>\n",
              "    .dataframe tbody tr th:only-of-type {\n",
              "        vertical-align: middle;\n",
              "    }\n",
              "\n",
              "    .dataframe tbody tr th {\n",
              "        vertical-align: top;\n",
              "    }\n",
              "\n",
              "    .dataframe thead th {\n",
              "        text-align: right;\n",
              "    }\n",
              "</style>\n",
              "<table border=\"1\" class=\"dataframe\">\n",
              "  <thead>\n",
              "    <tr style=\"text-align: right;\">\n",
              "      <th></th>\n",
              "      <th>Cell Types</th>\n",
              "      <th>Mean Deviation</th>\n",
              "      <th>Standard Deviation</th>\n",
              "    </tr>\n",
              "  </thead>\n",
              "  <tbody>\n",
              "    <tr>\n",
              "      <th>0</th>\n",
              "      <td>T_CD4_naive</td>\n",
              "      <td>7.391690</td>\n",
              "      <td>5.691704</td>\n",
              "    </tr>\n",
              "    <tr>\n",
              "      <th>1</th>\n",
              "      <td>T_CD4_central_memory</td>\n",
              "      <td>0.931626</td>\n",
              "      <td>5.177019</td>\n",
              "    </tr>\n",
              "    <tr>\n",
              "      <th>2</th>\n",
              "      <td>T_CD4_effector_memory</td>\n",
              "      <td>-1.043748</td>\n",
              "      <td>3.782160</td>\n",
              "    </tr>\n",
              "    <tr>\n",
              "      <th>3</th>\n",
              "      <td>T_CD8_naive</td>\n",
              "      <td>6.953081</td>\n",
              "      <td>8.764130</td>\n",
              "    </tr>\n",
              "    <tr>\n",
              "      <th>4</th>\n",
              "      <td>T_CD8_central_memory</td>\n",
              "      <td>-7.937088</td>\n",
              "      <td>4.728944</td>\n",
              "    </tr>\n",
              "    <tr>\n",
              "      <th>5</th>\n",
              "      <td>T_CD8_effector_memory</td>\n",
              "      <td>-4.428017</td>\n",
              "      <td>5.195738</td>\n",
              "    </tr>\n",
              "    <tr>\n",
              "      <th>6</th>\n",
              "      <td>T_CD8_effector_memory_terminal</td>\n",
              "      <td>-5.176219</td>\n",
              "      <td>4.346269</td>\n",
              "    </tr>\n",
              "    <tr>\n",
              "      <th>7</th>\n",
              "      <td>Treg</td>\n",
              "      <td>-6.445784</td>\n",
              "      <td>4.718628</td>\n",
              "    </tr>\n",
              "    <tr>\n",
              "      <th>8</th>\n",
              "      <td>NK_Cell</td>\n",
              "      <td>-0.325529</td>\n",
              "      <td>4.353026</td>\n",
              "    </tr>\n",
              "    <tr>\n",
              "      <th>9</th>\n",
              "      <td>B_Cell_naive</td>\n",
              "      <td>-2.226452</td>\n",
              "      <td>3.964545</td>\n",
              "    </tr>\n",
              "    <tr>\n",
              "      <th>10</th>\n",
              "      <td>B_Cell_memory</td>\n",
              "      <td>-4.466262</td>\n",
              "      <td>5.148699</td>\n",
              "    </tr>\n",
              "    <tr>\n",
              "      <th>11</th>\n",
              "      <td>Plasma_Cell</td>\n",
              "      <td>-9.192697</td>\n",
              "      <td>4.253256</td>\n",
              "    </tr>\n",
              "    <tr>\n",
              "      <th>12</th>\n",
              "      <td>Monocyte</td>\n",
              "      <td>2.777187</td>\n",
              "      <td>6.795044</td>\n",
              "    </tr>\n",
              "    <tr>\n",
              "      <th>13</th>\n",
              "      <td>Dendritic</td>\n",
              "      <td>-5.698024</td>\n",
              "      <td>4.231824</td>\n",
              "    </tr>\n",
              "  </tbody>\n",
              "</table>\n",
              "</div>\n",
              "      <button class=\"colab-df-convert\" onclick=\"convertToInteractive('df-6925e787-a0a5-4dd8-9183-eae018cb1c56')\"\n",
              "              title=\"Convert this dataframe to an interactive table.\"\n",
              "              style=\"display:none;\">\n",
              "        \n",
              "  <svg xmlns=\"http://www.w3.org/2000/svg\" height=\"24px\"viewBox=\"0 0 24 24\"\n",
              "       width=\"24px\">\n",
              "    <path d=\"M0 0h24v24H0V0z\" fill=\"none\"/>\n",
              "    <path d=\"M18.56 5.44l.94 2.06.94-2.06 2.06-.94-2.06-.94-.94-2.06-.94 2.06-2.06.94zm-11 1L8.5 8.5l.94-2.06 2.06-.94-2.06-.94L8.5 2.5l-.94 2.06-2.06.94zm10 10l.94 2.06.94-2.06 2.06-.94-2.06-.94-.94-2.06-.94 2.06-2.06.94z\"/><path d=\"M17.41 7.96l-1.37-1.37c-.4-.4-.92-.59-1.43-.59-.52 0-1.04.2-1.43.59L10.3 9.45l-7.72 7.72c-.78.78-.78 2.05 0 2.83L4 21.41c.39.39.9.59 1.41.59.51 0 1.02-.2 1.41-.59l7.78-7.78 2.81-2.81c.8-.78.8-2.07 0-2.86zM5.41 20L4 18.59l7.72-7.72 1.47 1.35L5.41 20z\"/>\n",
              "  </svg>\n",
              "      </button>\n",
              "      \n",
              "  <style>\n",
              "    .colab-df-container {\n",
              "      display:flex;\n",
              "      flex-wrap:wrap;\n",
              "      gap: 12px;\n",
              "    }\n",
              "\n",
              "    .colab-df-convert {\n",
              "      background-color: #E8F0FE;\n",
              "      border: none;\n",
              "      border-radius: 50%;\n",
              "      cursor: pointer;\n",
              "      display: none;\n",
              "      fill: #1967D2;\n",
              "      height: 32px;\n",
              "      padding: 0 0 0 0;\n",
              "      width: 32px;\n",
              "    }\n",
              "\n",
              "    .colab-df-convert:hover {\n",
              "      background-color: #E2EBFA;\n",
              "      box-shadow: 0px 1px 2px rgba(60, 64, 67, 0.3), 0px 1px 3px 1px rgba(60, 64, 67, 0.15);\n",
              "      fill: #174EA6;\n",
              "    }\n",
              "\n",
              "    [theme=dark] .colab-df-convert {\n",
              "      background-color: #3B4455;\n",
              "      fill: #D2E3FC;\n",
              "    }\n",
              "\n",
              "    [theme=dark] .colab-df-convert:hover {\n",
              "      background-color: #434B5C;\n",
              "      box-shadow: 0px 1px 3px 1px rgba(0, 0, 0, 0.15);\n",
              "      filter: drop-shadow(0px 1px 2px rgba(0, 0, 0, 0.3));\n",
              "      fill: #FFFFFF;\n",
              "    }\n",
              "  </style>\n",
              "\n",
              "      <script>\n",
              "        const buttonEl =\n",
              "          document.querySelector('#df-6925e787-a0a5-4dd8-9183-eae018cb1c56 button.colab-df-convert');\n",
              "        buttonEl.style.display =\n",
              "          google.colab.kernel.accessAllowed ? 'block' : 'none';\n",
              "\n",
              "        async function convertToInteractive(key) {\n",
              "          const element = document.querySelector('#df-6925e787-a0a5-4dd8-9183-eae018cb1c56');\n",
              "          const dataTable =\n",
              "            await google.colab.kernel.invokeFunction('convertToInteractive',\n",
              "                                                     [key], {});\n",
              "          if (!dataTable) return;\n",
              "\n",
              "          const docLinkHtml = 'Like what you see? Visit the ' +\n",
              "            '<a target=\"_blank\" href=https://colab.research.google.com/notebooks/data_table.ipynb>data table notebook</a>'\n",
              "            + ' to learn more about interactive tables.';\n",
              "          element.innerHTML = '';\n",
              "          dataTable['output_type'] = 'display_data';\n",
              "          await google.colab.output.renderOutput(dataTable, element);\n",
              "          const docLink = document.createElement('div');\n",
              "          docLink.innerHTML = docLinkHtml;\n",
              "          element.appendChild(docLink);\n",
              "        }\n",
              "      </script>\n",
              "    </div>\n",
              "  </div>\n",
              "  "
            ]
          },
          "metadata": {},
          "execution_count": 41
        }
      ]
    },
    {
      "cell_type": "code",
      "source": [
        "mean_dev.shape"
      ],
      "metadata": {
        "colab": {
          "base_uri": "https://localhost:8080/"
        },
        "id": "bMR450fZzMaB",
        "outputId": "6bb3187a-b1f5-4d81-f7b4-97b3e2a1d195"
      },
      "execution_count": 39,
      "outputs": [
        {
          "output_type": "execute_result",
          "data": {
            "text/plain": [
              "(14,)"
            ]
          },
          "metadata": {},
          "execution_count": 39
        }
      ]
    },
    {
      "cell_type": "markdown",
      "source": [
        "# Plot Visualizations"
      ],
      "metadata": {
        "id": "YlazyXwIiDMt"
      }
    },
    {
      "cell_type": "markdown",
      "source": [
        "Plot Grouped Bar Graphs for each patient (Flow First Data)"
      ],
      "metadata": {
        "id": "4ZGKyMYJPmJ1"
      }
    },
    {
      "cell_type": "code",
      "source": [
        "df = pd.DataFrame(PBMC_MIXTURE_TRUTH_BY_FLOW_FIRST)\n",
        "df[\"Cell Type\"] = CELL_TYPES\n",
        "df[\"Truth/Pred\"] = \"Truth\"\n",
        "\n",
        "df2 = pd.DataFrame(PBMC_MIXTURE_PRED_BY_FLOW_FIRST)\n",
        "df2[\"Cell Type\"] = CELL_TYPES\n",
        "df2[\"Truth/Pred\"] = \"Prediction\"\n",
        "\n",
        "data = pd.concat([df, df2]).fillna(0)"
      ],
      "metadata": {
        "id": "_fxxYWLh963G"
      },
      "execution_count": 8,
      "outputs": []
    },
    {
      "cell_type": "code",
      "source": [
        "# Still figuring out how to move the labels to the bottom\n",
        "flag = True\n",
        "\n",
        "for patient in PBMC_MIXTURE_PRED_BY_FLOW_FIRST: \n",
        "    title = alt.TitleParams('Patient {}: Truth vs Predictions for Cell Type Percentages(Flow First Data)'.format(patient), anchor='middle')\n",
        "    chart = alt.Chart(data, title = title).mark_bar().encode(\n",
        "        x=alt.X('Truth/Pred', title = ''),\n",
        "        y=alt.Y(patient, title = 'Percent'),\n",
        "        color=alt.Color('Truth/Pred'),\n",
        "        column=alt.Column('Cell Type', title = '', header = alt.Header(orient='bottom', labelAngle=-45, labelAlign='left', labels = flag))\n",
        "    ).configure_axisX(disable = True)\n",
        "\n",
        "    chart.display()\n",
        "    flag = False"
      ],
      "metadata": {
        "colab": {
          "base_uri": "https://localhost:8080/",
          "height": 1000
        },
        "id": "OnSQWwjnDZvd",
        "outputId": "6e37391d-8d45-4122-c589-0431553fbbb5"
      },
      "execution_count": 9,
      "outputs": [
        {
          "output_type": "display_data",
          "data": {
            "text/html": [
              "\n",
              "<div id=\"altair-viz-7da5d9192ac64b9384a2d58c3c983489\"></div>\n",
              "<script type=\"text/javascript\">\n",
              "  var VEGA_DEBUG = (typeof VEGA_DEBUG == \"undefined\") ? {} : VEGA_DEBUG;\n",
              "  (function(spec, embedOpt){\n",
              "    let outputDiv = document.currentScript.previousElementSibling;\n",
              "    if (outputDiv.id !== \"altair-viz-7da5d9192ac64b9384a2d58c3c983489\") {\n",
              "      outputDiv = document.getElementById(\"altair-viz-7da5d9192ac64b9384a2d58c3c983489\");\n",
              "    }\n",
              "    const paths = {\n",
              "      \"vega\": \"https://cdn.jsdelivr.net/npm//vega@5?noext\",\n",
              "      \"vega-lib\": \"https://cdn.jsdelivr.net/npm//vega-lib?noext\",\n",
              "      \"vega-lite\": \"https://cdn.jsdelivr.net/npm//vega-lite@4.17.0?noext\",\n",
              "      \"vega-embed\": \"https://cdn.jsdelivr.net/npm//vega-embed@6?noext\",\n",
              "    };\n",
              "\n",
              "    function maybeLoadScript(lib, version) {\n",
              "      var key = `${lib.replace(\"-\", \"\")}_version`;\n",
              "      return (VEGA_DEBUG[key] == version) ?\n",
              "        Promise.resolve(paths[lib]) :\n",
              "        new Promise(function(resolve, reject) {\n",
              "          var s = document.createElement('script');\n",
              "          document.getElementsByTagName(\"head\")[0].appendChild(s);\n",
              "          s.async = true;\n",
              "          s.onload = () => {\n",
              "            VEGA_DEBUG[key] = version;\n",
              "            return resolve(paths[lib]);\n",
              "          };\n",
              "          s.onerror = () => reject(`Error loading script: ${paths[lib]}`);\n",
              "          s.src = paths[lib];\n",
              "        });\n",
              "    }\n",
              "\n",
              "    function showError(err) {\n",
              "      outputDiv.innerHTML = `<div class=\"error\" style=\"color:red;\">${err}</div>`;\n",
              "      throw err;\n",
              "    }\n",
              "\n",
              "    function displayChart(vegaEmbed) {\n",
              "      vegaEmbed(outputDiv, spec, embedOpt)\n",
              "        .catch(err => showError(`Javascript Error: ${err.message}<br>This usually means there's a typo in your chart specification. See the javascript console for the full traceback.`));\n",
              "    }\n",
              "\n",
              "    if(typeof define === \"function\" && define.amd) {\n",
              "      requirejs.config({paths});\n",
              "      require([\"vega-embed\"], displayChart, err => showError(`Error loading script: ${err.message}`));\n",
              "    } else {\n",
              "      maybeLoadScript(\"vega\", \"5\")\n",
              "        .then(() => maybeLoadScript(\"vega-lite\", \"4.17.0\"))\n",
              "        .then(() => maybeLoadScript(\"vega-embed\", \"6\"))\n",
              "        .catch(showError)\n",
              "        .then(() => displayChart(vegaEmbed));\n",
              "    }\n",
              "  })({\"config\": {\"view\": {\"continuousWidth\": 400, \"continuousHeight\": 300}, \"axisX\": {\"disable\": true}}, \"data\": {\"name\": \"data-b12d9ac2fb1f15c85a33e56b1ceed771\"}, \"mark\": \"bar\", \"encoding\": {\"color\": {\"field\": \"Truth/Pred\", \"type\": \"nominal\"}, \"column\": {\"field\": \"Cell Type\", \"header\": {\"labelAlign\": \"left\", \"labelAngle\": -45, \"labels\": true, \"orient\": \"bottom\"}, \"title\": \"\", \"type\": \"nominal\"}, \"x\": {\"field\": \"Truth/Pred\", \"title\": \"\", \"type\": \"nominal\"}, \"y\": {\"field\": \"03\", \"title\": \"Percent\", \"type\": \"quantitative\"}}, \"title\": {\"text\": \"Patient 03: Truth vs Predictions for Cell Type Percentages(Flow First Data)\", \"anchor\": \"middle\"}, \"$schema\": \"https://vega.github.io/schema/vega-lite/v4.17.0.json\", \"datasets\": {\"data-b12d9ac2fb1f15c85a33e56b1ceed771\": [{\"03\": 13.95, \"14\": 11.51, \"31\": 15.48, \"49\": 12.74, \"50\": 14.53, \"Cell Type\": \"T_CD4_naive\", \"Truth/Pred\": \"Truth\"}, {\"03\": 10.146, \"14\": 8.508, \"31\": 8.244, \"49\": 8.389, \"50\": 7.674, \"Cell Type\": \"T_CD4_central_memory\", \"Truth/Pred\": \"Truth\"}, {\"03\": 4.844, \"14\": 3.232, \"31\": 3.624, \"49\": 6.605, \"50\": 1.654, \"Cell Type\": \"T_CD4_effector_memory\", \"Truth/Pred\": \"Truth\"}, {\"03\": 24.16, \"14\": 23.85, \"31\": 23.93, \"49\": 23.95, \"50\": 10.83, \"Cell Type\": \"T_CD8_naive\", \"Truth/Pred\": \"Truth\"}, {\"03\": 0.0, \"14\": 0.0, \"31\": 0.0, \"49\": 0.0, \"50\": 0.0, \"Cell Type\": \"T_CD8_central_memory\", \"Truth/Pred\": \"Truth\"}, {\"03\": 0.0, \"14\": 0.0, \"31\": 0.0, \"49\": 0.0, \"50\": 0.0, \"Cell Type\": \"T_CD8_effector_memory\", \"Truth/Pred\": \"Truth\"}, {\"03\": 0.0, \"14\": 0.0, \"31\": 0.0, \"49\": 0.0, \"50\": 0.0, \"Cell Type\": \"T_CD8_effector_memory_terminal\", \"Truth/Pred\": \"Truth\"}, {\"03\": 0.28, \"14\": 0.12, \"31\": 0.11, \"49\": 0.19, \"50\": 0.14, \"Cell Type\": \"Treg\", \"Truth/Pred\": \"Truth\"}, {\"03\": 6.2, \"14\": 11.99, \"31\": 14.17, \"49\": 3.74, \"50\": 6.16, \"Cell Type\": \"NK_Cell\", \"Truth/Pred\": \"Truth\"}, {\"03\": 5.25, \"14\": 4.73, \"31\": 5.58, \"49\": 6.96, \"50\": 8.99, \"Cell Type\": \"B_Cell_naive\", \"Truth/Pred\": \"Truth\"}, {\"03\": 2.29, \"14\": 4.29, \"31\": 2.94, \"49\": 3.06, \"50\": 2.14, \"Cell Type\": \"B_Cell_memory\", \"Truth/Pred\": \"Truth\"}, {\"03\": 0.0, \"14\": 0.0, \"31\": 0.0, \"49\": 0.0, \"50\": 0.0, \"Cell Type\": \"Plasma_Cell\", \"Truth/Pred\": \"Truth\"}, {\"03\": 5.43, \"14\": 4.94, \"31\": 7.77, \"49\": 6.39, \"50\": 22.45, \"Cell Type\": \"Monocyte\", \"Truth/Pred\": \"Truth\"}, {\"03\": 0.69, \"14\": 0.44, \"31\": 0.35, \"49\": 0.34, \"50\": 0.52, \"Cell Type\": \"Dendritic\", \"Truth/Pred\": \"Truth\"}, {\"03\": 0.11066216757156937, \"14\": 5.42893016663467, \"31\": 3.079166273014567, \"49\": 5.269578481215808, \"50\": 14.054663946101307, \"Cell Type\": \"T_CD4_naive\", \"Truth/Pred\": \"Prediction\"}, {\"03\": 5.901175134140313, \"14\": 7.299224404345026, \"31\": 6.895459942610074, \"49\": 6.45751487638773, \"50\": 0.12244374176984059, \"Cell Type\": \"T_CD4_central_memory\", \"Truth/Pred\": \"Prediction\"}, {\"03\": 1.3407204478339831, \"14\": 5.0080181715158805, \"31\": 8.194095433300136, \"49\": 8.704422689370716, \"50\": 6.0804064147808825, \"Cell Type\": \"T_CD4_effector_memory\", \"Truth/Pred\": \"Prediction\"}, {\"03\": 0.5909243919445896, \"14\": 9.137044925105153, \"31\": 5.070651421059026, \"49\": 11.869471166805662, \"50\": 13.474265605633462, \"Cell Type\": \"T_CD8_naive\", \"Truth/Pred\": \"Prediction\"}, {\"03\": 8.10469281102557, \"14\": 14.419291827885614, \"31\": 14.161641633222873, \"49\": 11.956397144331504, \"50\": 3.0774632286546204, \"Cell Type\": \"T_CD8_central_memory\", \"Truth/Pred\": \"Prediction\"}, {\"03\": 5.7584548649214815, \"14\": 1.4224598760695613, \"31\": 0.5488156270578883, \"49\": 10.157579239397462, \"50\": 0.3281680745392974, \"Cell Type\": \"T_CD8_effector_memory\", \"Truth/Pred\": \"Prediction\"}, {\"03\": 10.6144666779686, \"14\": 10.977597131433454, \"31\": 11.525835870158001, \"49\": 1.4309057463413977, \"50\": 10.506421793110828, \"Cell Type\": \"T_CD8_effector_memory_terminal\", \"Truth/Pred\": \"Prediction\"}, {\"03\": 7.655882700032483, \"14\": 4.314585574403531, \"31\": 5.193319354560272, \"49\": 15.949765407408105, \"50\": 2.8787528665149917, \"Cell Type\": \"Treg\", \"Truth/Pred\": \"Prediction\"}, {\"03\": 10.606259157468488, \"14\": 4.405684368112994, \"31\": 10.85388238459188, \"49\": 0.6815837625916197, \"50\": 8.234833923604496, \"Cell Type\": \"NK_Cell\", \"Truth/Pred\": \"Prediction\"}, {\"03\": 8.52715541127719, \"14\": 11.099545393815978, \"31\": 13.270661528855047, \"49\": 13.887769478017976, \"50\": 9.090701804773687, \"Cell Type\": \"B_Cell_naive\", \"Truth/Pred\": \"Prediction\"}, {\"03\": 9.83044855262663, \"14\": 0.2753039148872262, \"31\": 5.4077928523265575, \"49\": 0.650829279491283, \"50\": 14.901284124741856, \"Cell Type\": \"B_Cell_memory\", \"Truth/Pred\": \"Prediction\"}, {\"03\": 9.785688157455075, \"14\": 7.725518116107065, \"31\": 14.001653012010403, \"49\": 4.743817630069175, \"50\": 1.393177028477986, \"Cell Type\": \"Plasma_Cell\", \"Truth/Pred\": \"Prediction\"}, {\"03\": 9.856772114984178, \"14\": 12.751073990347715, \"31\": 1.181008263915207, \"49\": 3.6437251157068884, \"50\": 0.9688203599241738, \"Cell Type\": \"Monocyte\", \"Truth/Pred\": \"Prediction\"}, {\"03\": 11.316697410749853, \"14\": 5.735722139336126, \"31\": 0.6160164033180632, \"49\": 4.596639982864682, \"50\": 14.8885970873726, \"Cell Type\": \"Dendritic\", \"Truth/Pred\": \"Prediction\"}]}}, {\"mode\": \"vega-lite\"});\n",
              "</script>"
            ],
            "text/plain": [
              "alt.Chart(...)"
            ]
          },
          "metadata": {}
        },
        {
          "output_type": "display_data",
          "data": {
            "text/html": [
              "\n",
              "<div id=\"altair-viz-d6e5dc9a98d4453dba48855fa058a19b\"></div>\n",
              "<script type=\"text/javascript\">\n",
              "  var VEGA_DEBUG = (typeof VEGA_DEBUG == \"undefined\") ? {} : VEGA_DEBUG;\n",
              "  (function(spec, embedOpt){\n",
              "    let outputDiv = document.currentScript.previousElementSibling;\n",
              "    if (outputDiv.id !== \"altair-viz-d6e5dc9a98d4453dba48855fa058a19b\") {\n",
              "      outputDiv = document.getElementById(\"altair-viz-d6e5dc9a98d4453dba48855fa058a19b\");\n",
              "    }\n",
              "    const paths = {\n",
              "      \"vega\": \"https://cdn.jsdelivr.net/npm//vega@5?noext\",\n",
              "      \"vega-lib\": \"https://cdn.jsdelivr.net/npm//vega-lib?noext\",\n",
              "      \"vega-lite\": \"https://cdn.jsdelivr.net/npm//vega-lite@4.17.0?noext\",\n",
              "      \"vega-embed\": \"https://cdn.jsdelivr.net/npm//vega-embed@6?noext\",\n",
              "    };\n",
              "\n",
              "    function maybeLoadScript(lib, version) {\n",
              "      var key = `${lib.replace(\"-\", \"\")}_version`;\n",
              "      return (VEGA_DEBUG[key] == version) ?\n",
              "        Promise.resolve(paths[lib]) :\n",
              "        new Promise(function(resolve, reject) {\n",
              "          var s = document.createElement('script');\n",
              "          document.getElementsByTagName(\"head\")[0].appendChild(s);\n",
              "          s.async = true;\n",
              "          s.onload = () => {\n",
              "            VEGA_DEBUG[key] = version;\n",
              "            return resolve(paths[lib]);\n",
              "          };\n",
              "          s.onerror = () => reject(`Error loading script: ${paths[lib]}`);\n",
              "          s.src = paths[lib];\n",
              "        });\n",
              "    }\n",
              "\n",
              "    function showError(err) {\n",
              "      outputDiv.innerHTML = `<div class=\"error\" style=\"color:red;\">${err}</div>`;\n",
              "      throw err;\n",
              "    }\n",
              "\n",
              "    function displayChart(vegaEmbed) {\n",
              "      vegaEmbed(outputDiv, spec, embedOpt)\n",
              "        .catch(err => showError(`Javascript Error: ${err.message}<br>This usually means there's a typo in your chart specification. See the javascript console for the full traceback.`));\n",
              "    }\n",
              "\n",
              "    if(typeof define === \"function\" && define.amd) {\n",
              "      requirejs.config({paths});\n",
              "      require([\"vega-embed\"], displayChart, err => showError(`Error loading script: ${err.message}`));\n",
              "    } else {\n",
              "      maybeLoadScript(\"vega\", \"5\")\n",
              "        .then(() => maybeLoadScript(\"vega-lite\", \"4.17.0\"))\n",
              "        .then(() => maybeLoadScript(\"vega-embed\", \"6\"))\n",
              "        .catch(showError)\n",
              "        .then(() => displayChart(vegaEmbed));\n",
              "    }\n",
              "  })({\"config\": {\"view\": {\"continuousWidth\": 400, \"continuousHeight\": 300}, \"axisX\": {\"disable\": true}}, \"data\": {\"name\": \"data-b12d9ac2fb1f15c85a33e56b1ceed771\"}, \"mark\": \"bar\", \"encoding\": {\"color\": {\"field\": \"Truth/Pred\", \"type\": \"nominal\"}, \"column\": {\"field\": \"Cell Type\", \"header\": {\"labelAlign\": \"left\", \"labelAngle\": -45, \"labels\": false, \"orient\": \"bottom\"}, \"title\": \"\", \"type\": \"nominal\"}, \"x\": {\"field\": \"Truth/Pred\", \"title\": \"\", \"type\": \"nominal\"}, \"y\": {\"field\": \"14\", \"title\": \"Percent\", \"type\": \"quantitative\"}}, \"title\": {\"text\": \"Patient 14: Truth vs Predictions for Cell Type Percentages(Flow First Data)\", \"anchor\": \"middle\"}, \"$schema\": \"https://vega.github.io/schema/vega-lite/v4.17.0.json\", \"datasets\": {\"data-b12d9ac2fb1f15c85a33e56b1ceed771\": [{\"03\": 13.95, \"14\": 11.51, \"31\": 15.48, \"49\": 12.74, \"50\": 14.53, \"Cell Type\": \"T_CD4_naive\", \"Truth/Pred\": \"Truth\"}, {\"03\": 10.146, \"14\": 8.508, \"31\": 8.244, \"49\": 8.389, \"50\": 7.674, \"Cell Type\": \"T_CD4_central_memory\", \"Truth/Pred\": \"Truth\"}, {\"03\": 4.844, \"14\": 3.232, \"31\": 3.624, \"49\": 6.605, \"50\": 1.654, \"Cell Type\": \"T_CD4_effector_memory\", \"Truth/Pred\": \"Truth\"}, {\"03\": 24.16, \"14\": 23.85, \"31\": 23.93, \"49\": 23.95, \"50\": 10.83, \"Cell Type\": \"T_CD8_naive\", \"Truth/Pred\": \"Truth\"}, {\"03\": 0.0, \"14\": 0.0, \"31\": 0.0, \"49\": 0.0, \"50\": 0.0, \"Cell Type\": \"T_CD8_central_memory\", \"Truth/Pred\": \"Truth\"}, {\"03\": 0.0, \"14\": 0.0, \"31\": 0.0, \"49\": 0.0, \"50\": 0.0, \"Cell Type\": \"T_CD8_effector_memory\", \"Truth/Pred\": \"Truth\"}, {\"03\": 0.0, \"14\": 0.0, \"31\": 0.0, \"49\": 0.0, \"50\": 0.0, \"Cell Type\": \"T_CD8_effector_memory_terminal\", \"Truth/Pred\": \"Truth\"}, {\"03\": 0.28, \"14\": 0.12, \"31\": 0.11, \"49\": 0.19, \"50\": 0.14, \"Cell Type\": \"Treg\", \"Truth/Pred\": \"Truth\"}, {\"03\": 6.2, \"14\": 11.99, \"31\": 14.17, \"49\": 3.74, \"50\": 6.16, \"Cell Type\": \"NK_Cell\", \"Truth/Pred\": \"Truth\"}, {\"03\": 5.25, \"14\": 4.73, \"31\": 5.58, \"49\": 6.96, \"50\": 8.99, \"Cell Type\": \"B_Cell_naive\", \"Truth/Pred\": \"Truth\"}, {\"03\": 2.29, \"14\": 4.29, \"31\": 2.94, \"49\": 3.06, \"50\": 2.14, \"Cell Type\": \"B_Cell_memory\", \"Truth/Pred\": \"Truth\"}, {\"03\": 0.0, \"14\": 0.0, \"31\": 0.0, \"49\": 0.0, \"50\": 0.0, \"Cell Type\": \"Plasma_Cell\", \"Truth/Pred\": \"Truth\"}, {\"03\": 5.43, \"14\": 4.94, \"31\": 7.77, \"49\": 6.39, \"50\": 22.45, \"Cell Type\": \"Monocyte\", \"Truth/Pred\": \"Truth\"}, {\"03\": 0.69, \"14\": 0.44, \"31\": 0.35, \"49\": 0.34, \"50\": 0.52, \"Cell Type\": \"Dendritic\", \"Truth/Pred\": \"Truth\"}, {\"03\": 0.11066216757156937, \"14\": 5.42893016663467, \"31\": 3.079166273014567, \"49\": 5.269578481215808, \"50\": 14.054663946101307, \"Cell Type\": \"T_CD4_naive\", \"Truth/Pred\": \"Prediction\"}, {\"03\": 5.901175134140313, \"14\": 7.299224404345026, \"31\": 6.895459942610074, \"49\": 6.45751487638773, \"50\": 0.12244374176984059, \"Cell Type\": \"T_CD4_central_memory\", \"Truth/Pred\": \"Prediction\"}, {\"03\": 1.3407204478339831, \"14\": 5.0080181715158805, \"31\": 8.194095433300136, \"49\": 8.704422689370716, \"50\": 6.0804064147808825, \"Cell Type\": \"T_CD4_effector_memory\", \"Truth/Pred\": \"Prediction\"}, {\"03\": 0.5909243919445896, \"14\": 9.137044925105153, \"31\": 5.070651421059026, \"49\": 11.869471166805662, \"50\": 13.474265605633462, \"Cell Type\": \"T_CD8_naive\", \"Truth/Pred\": \"Prediction\"}, {\"03\": 8.10469281102557, \"14\": 14.419291827885614, \"31\": 14.161641633222873, \"49\": 11.956397144331504, \"50\": 3.0774632286546204, \"Cell Type\": \"T_CD8_central_memory\", \"Truth/Pred\": \"Prediction\"}, {\"03\": 5.7584548649214815, \"14\": 1.4224598760695613, \"31\": 0.5488156270578883, \"49\": 10.157579239397462, \"50\": 0.3281680745392974, \"Cell Type\": \"T_CD8_effector_memory\", \"Truth/Pred\": \"Prediction\"}, {\"03\": 10.6144666779686, \"14\": 10.977597131433454, \"31\": 11.525835870158001, \"49\": 1.4309057463413977, \"50\": 10.506421793110828, \"Cell Type\": \"T_CD8_effector_memory_terminal\", \"Truth/Pred\": \"Prediction\"}, {\"03\": 7.655882700032483, \"14\": 4.314585574403531, \"31\": 5.193319354560272, \"49\": 15.949765407408105, \"50\": 2.8787528665149917, \"Cell Type\": \"Treg\", \"Truth/Pred\": \"Prediction\"}, {\"03\": 10.606259157468488, \"14\": 4.405684368112994, \"31\": 10.85388238459188, \"49\": 0.6815837625916197, \"50\": 8.234833923604496, \"Cell Type\": \"NK_Cell\", \"Truth/Pred\": \"Prediction\"}, {\"03\": 8.52715541127719, \"14\": 11.099545393815978, \"31\": 13.270661528855047, \"49\": 13.887769478017976, \"50\": 9.090701804773687, \"Cell Type\": \"B_Cell_naive\", \"Truth/Pred\": \"Prediction\"}, {\"03\": 9.83044855262663, \"14\": 0.2753039148872262, \"31\": 5.4077928523265575, \"49\": 0.650829279491283, \"50\": 14.901284124741856, \"Cell Type\": \"B_Cell_memory\", \"Truth/Pred\": \"Prediction\"}, {\"03\": 9.785688157455075, \"14\": 7.725518116107065, \"31\": 14.001653012010403, \"49\": 4.743817630069175, \"50\": 1.393177028477986, \"Cell Type\": \"Plasma_Cell\", \"Truth/Pred\": \"Prediction\"}, {\"03\": 9.856772114984178, \"14\": 12.751073990347715, \"31\": 1.181008263915207, \"49\": 3.6437251157068884, \"50\": 0.9688203599241738, \"Cell Type\": \"Monocyte\", \"Truth/Pred\": \"Prediction\"}, {\"03\": 11.316697410749853, \"14\": 5.735722139336126, \"31\": 0.6160164033180632, \"49\": 4.596639982864682, \"50\": 14.8885970873726, \"Cell Type\": \"Dendritic\", \"Truth/Pred\": \"Prediction\"}]}}, {\"mode\": \"vega-lite\"});\n",
              "</script>"
            ],
            "text/plain": [
              "alt.Chart(...)"
            ]
          },
          "metadata": {}
        },
        {
          "output_type": "display_data",
          "data": {
            "text/html": [
              "\n",
              "<div id=\"altair-viz-482d181286014ab7ae389e7e72fa77e4\"></div>\n",
              "<script type=\"text/javascript\">\n",
              "  var VEGA_DEBUG = (typeof VEGA_DEBUG == \"undefined\") ? {} : VEGA_DEBUG;\n",
              "  (function(spec, embedOpt){\n",
              "    let outputDiv = document.currentScript.previousElementSibling;\n",
              "    if (outputDiv.id !== \"altair-viz-482d181286014ab7ae389e7e72fa77e4\") {\n",
              "      outputDiv = document.getElementById(\"altair-viz-482d181286014ab7ae389e7e72fa77e4\");\n",
              "    }\n",
              "    const paths = {\n",
              "      \"vega\": \"https://cdn.jsdelivr.net/npm//vega@5?noext\",\n",
              "      \"vega-lib\": \"https://cdn.jsdelivr.net/npm//vega-lib?noext\",\n",
              "      \"vega-lite\": \"https://cdn.jsdelivr.net/npm//vega-lite@4.17.0?noext\",\n",
              "      \"vega-embed\": \"https://cdn.jsdelivr.net/npm//vega-embed@6?noext\",\n",
              "    };\n",
              "\n",
              "    function maybeLoadScript(lib, version) {\n",
              "      var key = `${lib.replace(\"-\", \"\")}_version`;\n",
              "      return (VEGA_DEBUG[key] == version) ?\n",
              "        Promise.resolve(paths[lib]) :\n",
              "        new Promise(function(resolve, reject) {\n",
              "          var s = document.createElement('script');\n",
              "          document.getElementsByTagName(\"head\")[0].appendChild(s);\n",
              "          s.async = true;\n",
              "          s.onload = () => {\n",
              "            VEGA_DEBUG[key] = version;\n",
              "            return resolve(paths[lib]);\n",
              "          };\n",
              "          s.onerror = () => reject(`Error loading script: ${paths[lib]}`);\n",
              "          s.src = paths[lib];\n",
              "        });\n",
              "    }\n",
              "\n",
              "    function showError(err) {\n",
              "      outputDiv.innerHTML = `<div class=\"error\" style=\"color:red;\">${err}</div>`;\n",
              "      throw err;\n",
              "    }\n",
              "\n",
              "    function displayChart(vegaEmbed) {\n",
              "      vegaEmbed(outputDiv, spec, embedOpt)\n",
              "        .catch(err => showError(`Javascript Error: ${err.message}<br>This usually means there's a typo in your chart specification. See the javascript console for the full traceback.`));\n",
              "    }\n",
              "\n",
              "    if(typeof define === \"function\" && define.amd) {\n",
              "      requirejs.config({paths});\n",
              "      require([\"vega-embed\"], displayChart, err => showError(`Error loading script: ${err.message}`));\n",
              "    } else {\n",
              "      maybeLoadScript(\"vega\", \"5\")\n",
              "        .then(() => maybeLoadScript(\"vega-lite\", \"4.17.0\"))\n",
              "        .then(() => maybeLoadScript(\"vega-embed\", \"6\"))\n",
              "        .catch(showError)\n",
              "        .then(() => displayChart(vegaEmbed));\n",
              "    }\n",
              "  })({\"config\": {\"view\": {\"continuousWidth\": 400, \"continuousHeight\": 300}, \"axisX\": {\"disable\": true}}, \"data\": {\"name\": \"data-b12d9ac2fb1f15c85a33e56b1ceed771\"}, \"mark\": \"bar\", \"encoding\": {\"color\": {\"field\": \"Truth/Pred\", \"type\": \"nominal\"}, \"column\": {\"field\": \"Cell Type\", \"header\": {\"labelAlign\": \"left\", \"labelAngle\": -45, \"labels\": false, \"orient\": \"bottom\"}, \"title\": \"\", \"type\": \"nominal\"}, \"x\": {\"field\": \"Truth/Pred\", \"title\": \"\", \"type\": \"nominal\"}, \"y\": {\"field\": \"31\", \"title\": \"Percent\", \"type\": \"quantitative\"}}, \"title\": {\"text\": \"Patient 31: Truth vs Predictions for Cell Type Percentages(Flow First Data)\", \"anchor\": \"middle\"}, \"$schema\": \"https://vega.github.io/schema/vega-lite/v4.17.0.json\", \"datasets\": {\"data-b12d9ac2fb1f15c85a33e56b1ceed771\": [{\"03\": 13.95, \"14\": 11.51, \"31\": 15.48, \"49\": 12.74, \"50\": 14.53, \"Cell Type\": \"T_CD4_naive\", \"Truth/Pred\": \"Truth\"}, {\"03\": 10.146, \"14\": 8.508, \"31\": 8.244, \"49\": 8.389, \"50\": 7.674, \"Cell Type\": \"T_CD4_central_memory\", \"Truth/Pred\": \"Truth\"}, {\"03\": 4.844, \"14\": 3.232, \"31\": 3.624, \"49\": 6.605, \"50\": 1.654, \"Cell Type\": \"T_CD4_effector_memory\", \"Truth/Pred\": \"Truth\"}, {\"03\": 24.16, \"14\": 23.85, \"31\": 23.93, \"49\": 23.95, \"50\": 10.83, \"Cell Type\": \"T_CD8_naive\", \"Truth/Pred\": \"Truth\"}, {\"03\": 0.0, \"14\": 0.0, \"31\": 0.0, \"49\": 0.0, \"50\": 0.0, \"Cell Type\": \"T_CD8_central_memory\", \"Truth/Pred\": \"Truth\"}, {\"03\": 0.0, \"14\": 0.0, \"31\": 0.0, \"49\": 0.0, \"50\": 0.0, \"Cell Type\": \"T_CD8_effector_memory\", \"Truth/Pred\": \"Truth\"}, {\"03\": 0.0, \"14\": 0.0, \"31\": 0.0, \"49\": 0.0, \"50\": 0.0, \"Cell Type\": \"T_CD8_effector_memory_terminal\", \"Truth/Pred\": \"Truth\"}, {\"03\": 0.28, \"14\": 0.12, \"31\": 0.11, \"49\": 0.19, \"50\": 0.14, \"Cell Type\": \"Treg\", \"Truth/Pred\": \"Truth\"}, {\"03\": 6.2, \"14\": 11.99, \"31\": 14.17, \"49\": 3.74, \"50\": 6.16, \"Cell Type\": \"NK_Cell\", \"Truth/Pred\": \"Truth\"}, {\"03\": 5.25, \"14\": 4.73, \"31\": 5.58, \"49\": 6.96, \"50\": 8.99, \"Cell Type\": \"B_Cell_naive\", \"Truth/Pred\": \"Truth\"}, {\"03\": 2.29, \"14\": 4.29, \"31\": 2.94, \"49\": 3.06, \"50\": 2.14, \"Cell Type\": \"B_Cell_memory\", \"Truth/Pred\": \"Truth\"}, {\"03\": 0.0, \"14\": 0.0, \"31\": 0.0, \"49\": 0.0, \"50\": 0.0, \"Cell Type\": \"Plasma_Cell\", \"Truth/Pred\": \"Truth\"}, {\"03\": 5.43, \"14\": 4.94, \"31\": 7.77, \"49\": 6.39, \"50\": 22.45, \"Cell Type\": \"Monocyte\", \"Truth/Pred\": \"Truth\"}, {\"03\": 0.69, \"14\": 0.44, \"31\": 0.35, \"49\": 0.34, \"50\": 0.52, \"Cell Type\": \"Dendritic\", \"Truth/Pred\": \"Truth\"}, {\"03\": 0.11066216757156937, \"14\": 5.42893016663467, \"31\": 3.079166273014567, \"49\": 5.269578481215808, \"50\": 14.054663946101307, \"Cell Type\": \"T_CD4_naive\", \"Truth/Pred\": \"Prediction\"}, {\"03\": 5.901175134140313, \"14\": 7.299224404345026, \"31\": 6.895459942610074, \"49\": 6.45751487638773, \"50\": 0.12244374176984059, \"Cell Type\": \"T_CD4_central_memory\", \"Truth/Pred\": \"Prediction\"}, {\"03\": 1.3407204478339831, \"14\": 5.0080181715158805, \"31\": 8.194095433300136, \"49\": 8.704422689370716, \"50\": 6.0804064147808825, \"Cell Type\": \"T_CD4_effector_memory\", \"Truth/Pred\": \"Prediction\"}, {\"03\": 0.5909243919445896, \"14\": 9.137044925105153, \"31\": 5.070651421059026, \"49\": 11.869471166805662, \"50\": 13.474265605633462, \"Cell Type\": \"T_CD8_naive\", \"Truth/Pred\": \"Prediction\"}, {\"03\": 8.10469281102557, \"14\": 14.419291827885614, \"31\": 14.161641633222873, \"49\": 11.956397144331504, \"50\": 3.0774632286546204, \"Cell Type\": \"T_CD8_central_memory\", \"Truth/Pred\": \"Prediction\"}, {\"03\": 5.7584548649214815, \"14\": 1.4224598760695613, \"31\": 0.5488156270578883, \"49\": 10.157579239397462, \"50\": 0.3281680745392974, \"Cell Type\": \"T_CD8_effector_memory\", \"Truth/Pred\": \"Prediction\"}, {\"03\": 10.6144666779686, \"14\": 10.977597131433454, \"31\": 11.525835870158001, \"49\": 1.4309057463413977, \"50\": 10.506421793110828, \"Cell Type\": \"T_CD8_effector_memory_terminal\", \"Truth/Pred\": \"Prediction\"}, {\"03\": 7.655882700032483, \"14\": 4.314585574403531, \"31\": 5.193319354560272, \"49\": 15.949765407408105, \"50\": 2.8787528665149917, \"Cell Type\": \"Treg\", \"Truth/Pred\": \"Prediction\"}, {\"03\": 10.606259157468488, \"14\": 4.405684368112994, \"31\": 10.85388238459188, \"49\": 0.6815837625916197, \"50\": 8.234833923604496, \"Cell Type\": \"NK_Cell\", \"Truth/Pred\": \"Prediction\"}, {\"03\": 8.52715541127719, \"14\": 11.099545393815978, \"31\": 13.270661528855047, \"49\": 13.887769478017976, \"50\": 9.090701804773687, \"Cell Type\": \"B_Cell_naive\", \"Truth/Pred\": \"Prediction\"}, {\"03\": 9.83044855262663, \"14\": 0.2753039148872262, \"31\": 5.4077928523265575, \"49\": 0.650829279491283, \"50\": 14.901284124741856, \"Cell Type\": \"B_Cell_memory\", \"Truth/Pred\": \"Prediction\"}, {\"03\": 9.785688157455075, \"14\": 7.725518116107065, \"31\": 14.001653012010403, \"49\": 4.743817630069175, \"50\": 1.393177028477986, \"Cell Type\": \"Plasma_Cell\", \"Truth/Pred\": \"Prediction\"}, {\"03\": 9.856772114984178, \"14\": 12.751073990347715, \"31\": 1.181008263915207, \"49\": 3.6437251157068884, \"50\": 0.9688203599241738, \"Cell Type\": \"Monocyte\", \"Truth/Pred\": \"Prediction\"}, {\"03\": 11.316697410749853, \"14\": 5.735722139336126, \"31\": 0.6160164033180632, \"49\": 4.596639982864682, \"50\": 14.8885970873726, \"Cell Type\": \"Dendritic\", \"Truth/Pred\": \"Prediction\"}]}}, {\"mode\": \"vega-lite\"});\n",
              "</script>"
            ],
            "text/plain": [
              "alt.Chart(...)"
            ]
          },
          "metadata": {}
        },
        {
          "output_type": "display_data",
          "data": {
            "text/html": [
              "\n",
              "<div id=\"altair-viz-13fc1b24ab464afe934844d95ae193a9\"></div>\n",
              "<script type=\"text/javascript\">\n",
              "  var VEGA_DEBUG = (typeof VEGA_DEBUG == \"undefined\") ? {} : VEGA_DEBUG;\n",
              "  (function(spec, embedOpt){\n",
              "    let outputDiv = document.currentScript.previousElementSibling;\n",
              "    if (outputDiv.id !== \"altair-viz-13fc1b24ab464afe934844d95ae193a9\") {\n",
              "      outputDiv = document.getElementById(\"altair-viz-13fc1b24ab464afe934844d95ae193a9\");\n",
              "    }\n",
              "    const paths = {\n",
              "      \"vega\": \"https://cdn.jsdelivr.net/npm//vega@5?noext\",\n",
              "      \"vega-lib\": \"https://cdn.jsdelivr.net/npm//vega-lib?noext\",\n",
              "      \"vega-lite\": \"https://cdn.jsdelivr.net/npm//vega-lite@4.17.0?noext\",\n",
              "      \"vega-embed\": \"https://cdn.jsdelivr.net/npm//vega-embed@6?noext\",\n",
              "    };\n",
              "\n",
              "    function maybeLoadScript(lib, version) {\n",
              "      var key = `${lib.replace(\"-\", \"\")}_version`;\n",
              "      return (VEGA_DEBUG[key] == version) ?\n",
              "        Promise.resolve(paths[lib]) :\n",
              "        new Promise(function(resolve, reject) {\n",
              "          var s = document.createElement('script');\n",
              "          document.getElementsByTagName(\"head\")[0].appendChild(s);\n",
              "          s.async = true;\n",
              "          s.onload = () => {\n",
              "            VEGA_DEBUG[key] = version;\n",
              "            return resolve(paths[lib]);\n",
              "          };\n",
              "          s.onerror = () => reject(`Error loading script: ${paths[lib]}`);\n",
              "          s.src = paths[lib];\n",
              "        });\n",
              "    }\n",
              "\n",
              "    function showError(err) {\n",
              "      outputDiv.innerHTML = `<div class=\"error\" style=\"color:red;\">${err}</div>`;\n",
              "      throw err;\n",
              "    }\n",
              "\n",
              "    function displayChart(vegaEmbed) {\n",
              "      vegaEmbed(outputDiv, spec, embedOpt)\n",
              "        .catch(err => showError(`Javascript Error: ${err.message}<br>This usually means there's a typo in your chart specification. See the javascript console for the full traceback.`));\n",
              "    }\n",
              "\n",
              "    if(typeof define === \"function\" && define.amd) {\n",
              "      requirejs.config({paths});\n",
              "      require([\"vega-embed\"], displayChart, err => showError(`Error loading script: ${err.message}`));\n",
              "    } else {\n",
              "      maybeLoadScript(\"vega\", \"5\")\n",
              "        .then(() => maybeLoadScript(\"vega-lite\", \"4.17.0\"))\n",
              "        .then(() => maybeLoadScript(\"vega-embed\", \"6\"))\n",
              "        .catch(showError)\n",
              "        .then(() => displayChart(vegaEmbed));\n",
              "    }\n",
              "  })({\"config\": {\"view\": {\"continuousWidth\": 400, \"continuousHeight\": 300}, \"axisX\": {\"disable\": true}}, \"data\": {\"name\": \"data-b12d9ac2fb1f15c85a33e56b1ceed771\"}, \"mark\": \"bar\", \"encoding\": {\"color\": {\"field\": \"Truth/Pred\", \"type\": \"nominal\"}, \"column\": {\"field\": \"Cell Type\", \"header\": {\"labelAlign\": \"left\", \"labelAngle\": -45, \"labels\": false, \"orient\": \"bottom\"}, \"title\": \"\", \"type\": \"nominal\"}, \"x\": {\"field\": \"Truth/Pred\", \"title\": \"\", \"type\": \"nominal\"}, \"y\": {\"field\": \"49\", \"title\": \"Percent\", \"type\": \"quantitative\"}}, \"title\": {\"text\": \"Patient 49: Truth vs Predictions for Cell Type Percentages(Flow First Data)\", \"anchor\": \"middle\"}, \"$schema\": \"https://vega.github.io/schema/vega-lite/v4.17.0.json\", \"datasets\": {\"data-b12d9ac2fb1f15c85a33e56b1ceed771\": [{\"03\": 13.95, \"14\": 11.51, \"31\": 15.48, \"49\": 12.74, \"50\": 14.53, \"Cell Type\": \"T_CD4_naive\", \"Truth/Pred\": \"Truth\"}, {\"03\": 10.146, \"14\": 8.508, \"31\": 8.244, \"49\": 8.389, \"50\": 7.674, \"Cell Type\": \"T_CD4_central_memory\", \"Truth/Pred\": \"Truth\"}, {\"03\": 4.844, \"14\": 3.232, \"31\": 3.624, \"49\": 6.605, \"50\": 1.654, \"Cell Type\": \"T_CD4_effector_memory\", \"Truth/Pred\": \"Truth\"}, {\"03\": 24.16, \"14\": 23.85, \"31\": 23.93, \"49\": 23.95, \"50\": 10.83, \"Cell Type\": \"T_CD8_naive\", \"Truth/Pred\": \"Truth\"}, {\"03\": 0.0, \"14\": 0.0, \"31\": 0.0, \"49\": 0.0, \"50\": 0.0, \"Cell Type\": \"T_CD8_central_memory\", \"Truth/Pred\": \"Truth\"}, {\"03\": 0.0, \"14\": 0.0, \"31\": 0.0, \"49\": 0.0, \"50\": 0.0, \"Cell Type\": \"T_CD8_effector_memory\", \"Truth/Pred\": \"Truth\"}, {\"03\": 0.0, \"14\": 0.0, \"31\": 0.0, \"49\": 0.0, \"50\": 0.0, \"Cell Type\": \"T_CD8_effector_memory_terminal\", \"Truth/Pred\": \"Truth\"}, {\"03\": 0.28, \"14\": 0.12, \"31\": 0.11, \"49\": 0.19, \"50\": 0.14, \"Cell Type\": \"Treg\", \"Truth/Pred\": \"Truth\"}, {\"03\": 6.2, \"14\": 11.99, \"31\": 14.17, \"49\": 3.74, \"50\": 6.16, \"Cell Type\": \"NK_Cell\", \"Truth/Pred\": \"Truth\"}, {\"03\": 5.25, \"14\": 4.73, \"31\": 5.58, \"49\": 6.96, \"50\": 8.99, \"Cell Type\": \"B_Cell_naive\", \"Truth/Pred\": \"Truth\"}, {\"03\": 2.29, \"14\": 4.29, \"31\": 2.94, \"49\": 3.06, \"50\": 2.14, \"Cell Type\": \"B_Cell_memory\", \"Truth/Pred\": \"Truth\"}, {\"03\": 0.0, \"14\": 0.0, \"31\": 0.0, \"49\": 0.0, \"50\": 0.0, \"Cell Type\": \"Plasma_Cell\", \"Truth/Pred\": \"Truth\"}, {\"03\": 5.43, \"14\": 4.94, \"31\": 7.77, \"49\": 6.39, \"50\": 22.45, \"Cell Type\": \"Monocyte\", \"Truth/Pred\": \"Truth\"}, {\"03\": 0.69, \"14\": 0.44, \"31\": 0.35, \"49\": 0.34, \"50\": 0.52, \"Cell Type\": \"Dendritic\", \"Truth/Pred\": \"Truth\"}, {\"03\": 0.11066216757156937, \"14\": 5.42893016663467, \"31\": 3.079166273014567, \"49\": 5.269578481215808, \"50\": 14.054663946101307, \"Cell Type\": \"T_CD4_naive\", \"Truth/Pred\": \"Prediction\"}, {\"03\": 5.901175134140313, \"14\": 7.299224404345026, \"31\": 6.895459942610074, \"49\": 6.45751487638773, \"50\": 0.12244374176984059, \"Cell Type\": \"T_CD4_central_memory\", \"Truth/Pred\": \"Prediction\"}, {\"03\": 1.3407204478339831, \"14\": 5.0080181715158805, \"31\": 8.194095433300136, \"49\": 8.704422689370716, \"50\": 6.0804064147808825, \"Cell Type\": \"T_CD4_effector_memory\", \"Truth/Pred\": \"Prediction\"}, {\"03\": 0.5909243919445896, \"14\": 9.137044925105153, \"31\": 5.070651421059026, \"49\": 11.869471166805662, \"50\": 13.474265605633462, \"Cell Type\": \"T_CD8_naive\", \"Truth/Pred\": \"Prediction\"}, {\"03\": 8.10469281102557, \"14\": 14.419291827885614, \"31\": 14.161641633222873, \"49\": 11.956397144331504, \"50\": 3.0774632286546204, \"Cell Type\": \"T_CD8_central_memory\", \"Truth/Pred\": \"Prediction\"}, {\"03\": 5.7584548649214815, \"14\": 1.4224598760695613, \"31\": 0.5488156270578883, \"49\": 10.157579239397462, \"50\": 0.3281680745392974, \"Cell Type\": \"T_CD8_effector_memory\", \"Truth/Pred\": \"Prediction\"}, {\"03\": 10.6144666779686, \"14\": 10.977597131433454, \"31\": 11.525835870158001, \"49\": 1.4309057463413977, \"50\": 10.506421793110828, \"Cell Type\": \"T_CD8_effector_memory_terminal\", \"Truth/Pred\": \"Prediction\"}, {\"03\": 7.655882700032483, \"14\": 4.314585574403531, \"31\": 5.193319354560272, \"49\": 15.949765407408105, \"50\": 2.8787528665149917, \"Cell Type\": \"Treg\", \"Truth/Pred\": \"Prediction\"}, {\"03\": 10.606259157468488, \"14\": 4.405684368112994, \"31\": 10.85388238459188, \"49\": 0.6815837625916197, \"50\": 8.234833923604496, \"Cell Type\": \"NK_Cell\", \"Truth/Pred\": \"Prediction\"}, {\"03\": 8.52715541127719, \"14\": 11.099545393815978, \"31\": 13.270661528855047, \"49\": 13.887769478017976, \"50\": 9.090701804773687, \"Cell Type\": \"B_Cell_naive\", \"Truth/Pred\": \"Prediction\"}, {\"03\": 9.83044855262663, \"14\": 0.2753039148872262, \"31\": 5.4077928523265575, \"49\": 0.650829279491283, \"50\": 14.901284124741856, \"Cell Type\": \"B_Cell_memory\", \"Truth/Pred\": \"Prediction\"}, {\"03\": 9.785688157455075, \"14\": 7.725518116107065, \"31\": 14.001653012010403, \"49\": 4.743817630069175, \"50\": 1.393177028477986, \"Cell Type\": \"Plasma_Cell\", \"Truth/Pred\": \"Prediction\"}, {\"03\": 9.856772114984178, \"14\": 12.751073990347715, \"31\": 1.181008263915207, \"49\": 3.6437251157068884, \"50\": 0.9688203599241738, \"Cell Type\": \"Monocyte\", \"Truth/Pred\": \"Prediction\"}, {\"03\": 11.316697410749853, \"14\": 5.735722139336126, \"31\": 0.6160164033180632, \"49\": 4.596639982864682, \"50\": 14.8885970873726, \"Cell Type\": \"Dendritic\", \"Truth/Pred\": \"Prediction\"}]}}, {\"mode\": \"vega-lite\"});\n",
              "</script>"
            ],
            "text/plain": [
              "alt.Chart(...)"
            ]
          },
          "metadata": {}
        },
        {
          "output_type": "display_data",
          "data": {
            "text/html": [
              "\n",
              "<div id=\"altair-viz-e4c86217654d4fe1a8927867b05b190a\"></div>\n",
              "<script type=\"text/javascript\">\n",
              "  var VEGA_DEBUG = (typeof VEGA_DEBUG == \"undefined\") ? {} : VEGA_DEBUG;\n",
              "  (function(spec, embedOpt){\n",
              "    let outputDiv = document.currentScript.previousElementSibling;\n",
              "    if (outputDiv.id !== \"altair-viz-e4c86217654d4fe1a8927867b05b190a\") {\n",
              "      outputDiv = document.getElementById(\"altair-viz-e4c86217654d4fe1a8927867b05b190a\");\n",
              "    }\n",
              "    const paths = {\n",
              "      \"vega\": \"https://cdn.jsdelivr.net/npm//vega@5?noext\",\n",
              "      \"vega-lib\": \"https://cdn.jsdelivr.net/npm//vega-lib?noext\",\n",
              "      \"vega-lite\": \"https://cdn.jsdelivr.net/npm//vega-lite@4.17.0?noext\",\n",
              "      \"vega-embed\": \"https://cdn.jsdelivr.net/npm//vega-embed@6?noext\",\n",
              "    };\n",
              "\n",
              "    function maybeLoadScript(lib, version) {\n",
              "      var key = `${lib.replace(\"-\", \"\")}_version`;\n",
              "      return (VEGA_DEBUG[key] == version) ?\n",
              "        Promise.resolve(paths[lib]) :\n",
              "        new Promise(function(resolve, reject) {\n",
              "          var s = document.createElement('script');\n",
              "          document.getElementsByTagName(\"head\")[0].appendChild(s);\n",
              "          s.async = true;\n",
              "          s.onload = () => {\n",
              "            VEGA_DEBUG[key] = version;\n",
              "            return resolve(paths[lib]);\n",
              "          };\n",
              "          s.onerror = () => reject(`Error loading script: ${paths[lib]}`);\n",
              "          s.src = paths[lib];\n",
              "        });\n",
              "    }\n",
              "\n",
              "    function showError(err) {\n",
              "      outputDiv.innerHTML = `<div class=\"error\" style=\"color:red;\">${err}</div>`;\n",
              "      throw err;\n",
              "    }\n",
              "\n",
              "    function displayChart(vegaEmbed) {\n",
              "      vegaEmbed(outputDiv, spec, embedOpt)\n",
              "        .catch(err => showError(`Javascript Error: ${err.message}<br>This usually means there's a typo in your chart specification. See the javascript console for the full traceback.`));\n",
              "    }\n",
              "\n",
              "    if(typeof define === \"function\" && define.amd) {\n",
              "      requirejs.config({paths});\n",
              "      require([\"vega-embed\"], displayChart, err => showError(`Error loading script: ${err.message}`));\n",
              "    } else {\n",
              "      maybeLoadScript(\"vega\", \"5\")\n",
              "        .then(() => maybeLoadScript(\"vega-lite\", \"4.17.0\"))\n",
              "        .then(() => maybeLoadScript(\"vega-embed\", \"6\"))\n",
              "        .catch(showError)\n",
              "        .then(() => displayChart(vegaEmbed));\n",
              "    }\n",
              "  })({\"config\": {\"view\": {\"continuousWidth\": 400, \"continuousHeight\": 300}, \"axisX\": {\"disable\": true}}, \"data\": {\"name\": \"data-b12d9ac2fb1f15c85a33e56b1ceed771\"}, \"mark\": \"bar\", \"encoding\": {\"color\": {\"field\": \"Truth/Pred\", \"type\": \"nominal\"}, \"column\": {\"field\": \"Cell Type\", \"header\": {\"labelAlign\": \"left\", \"labelAngle\": -45, \"labels\": false, \"orient\": \"bottom\"}, \"title\": \"\", \"type\": \"nominal\"}, \"x\": {\"field\": \"Truth/Pred\", \"title\": \"\", \"type\": \"nominal\"}, \"y\": {\"field\": \"50\", \"title\": \"Percent\", \"type\": \"quantitative\"}}, \"title\": {\"text\": \"Patient 50: Truth vs Predictions for Cell Type Percentages(Flow First Data)\", \"anchor\": \"middle\"}, \"$schema\": \"https://vega.github.io/schema/vega-lite/v4.17.0.json\", \"datasets\": {\"data-b12d9ac2fb1f15c85a33e56b1ceed771\": [{\"03\": 13.95, \"14\": 11.51, \"31\": 15.48, \"49\": 12.74, \"50\": 14.53, \"Cell Type\": \"T_CD4_naive\", \"Truth/Pred\": \"Truth\"}, {\"03\": 10.146, \"14\": 8.508, \"31\": 8.244, \"49\": 8.389, \"50\": 7.674, \"Cell Type\": \"T_CD4_central_memory\", \"Truth/Pred\": \"Truth\"}, {\"03\": 4.844, \"14\": 3.232, \"31\": 3.624, \"49\": 6.605, \"50\": 1.654, \"Cell Type\": \"T_CD4_effector_memory\", \"Truth/Pred\": \"Truth\"}, {\"03\": 24.16, \"14\": 23.85, \"31\": 23.93, \"49\": 23.95, \"50\": 10.83, \"Cell Type\": \"T_CD8_naive\", \"Truth/Pred\": \"Truth\"}, {\"03\": 0.0, \"14\": 0.0, \"31\": 0.0, \"49\": 0.0, \"50\": 0.0, \"Cell Type\": \"T_CD8_central_memory\", \"Truth/Pred\": \"Truth\"}, {\"03\": 0.0, \"14\": 0.0, \"31\": 0.0, \"49\": 0.0, \"50\": 0.0, \"Cell Type\": \"T_CD8_effector_memory\", \"Truth/Pred\": \"Truth\"}, {\"03\": 0.0, \"14\": 0.0, \"31\": 0.0, \"49\": 0.0, \"50\": 0.0, \"Cell Type\": \"T_CD8_effector_memory_terminal\", \"Truth/Pred\": \"Truth\"}, {\"03\": 0.28, \"14\": 0.12, \"31\": 0.11, \"49\": 0.19, \"50\": 0.14, \"Cell Type\": \"Treg\", \"Truth/Pred\": \"Truth\"}, {\"03\": 6.2, \"14\": 11.99, \"31\": 14.17, \"49\": 3.74, \"50\": 6.16, \"Cell Type\": \"NK_Cell\", \"Truth/Pred\": \"Truth\"}, {\"03\": 5.25, \"14\": 4.73, \"31\": 5.58, \"49\": 6.96, \"50\": 8.99, \"Cell Type\": \"B_Cell_naive\", \"Truth/Pred\": \"Truth\"}, {\"03\": 2.29, \"14\": 4.29, \"31\": 2.94, \"49\": 3.06, \"50\": 2.14, \"Cell Type\": \"B_Cell_memory\", \"Truth/Pred\": \"Truth\"}, {\"03\": 0.0, \"14\": 0.0, \"31\": 0.0, \"49\": 0.0, \"50\": 0.0, \"Cell Type\": \"Plasma_Cell\", \"Truth/Pred\": \"Truth\"}, {\"03\": 5.43, \"14\": 4.94, \"31\": 7.77, \"49\": 6.39, \"50\": 22.45, \"Cell Type\": \"Monocyte\", \"Truth/Pred\": \"Truth\"}, {\"03\": 0.69, \"14\": 0.44, \"31\": 0.35, \"49\": 0.34, \"50\": 0.52, \"Cell Type\": \"Dendritic\", \"Truth/Pred\": \"Truth\"}, {\"03\": 0.11066216757156937, \"14\": 5.42893016663467, \"31\": 3.079166273014567, \"49\": 5.269578481215808, \"50\": 14.054663946101307, \"Cell Type\": \"T_CD4_naive\", \"Truth/Pred\": \"Prediction\"}, {\"03\": 5.901175134140313, \"14\": 7.299224404345026, \"31\": 6.895459942610074, \"49\": 6.45751487638773, \"50\": 0.12244374176984059, \"Cell Type\": \"T_CD4_central_memory\", \"Truth/Pred\": \"Prediction\"}, {\"03\": 1.3407204478339831, \"14\": 5.0080181715158805, \"31\": 8.194095433300136, \"49\": 8.704422689370716, \"50\": 6.0804064147808825, \"Cell Type\": \"T_CD4_effector_memory\", \"Truth/Pred\": \"Prediction\"}, {\"03\": 0.5909243919445896, \"14\": 9.137044925105153, \"31\": 5.070651421059026, \"49\": 11.869471166805662, \"50\": 13.474265605633462, \"Cell Type\": \"T_CD8_naive\", \"Truth/Pred\": \"Prediction\"}, {\"03\": 8.10469281102557, \"14\": 14.419291827885614, \"31\": 14.161641633222873, \"49\": 11.956397144331504, \"50\": 3.0774632286546204, \"Cell Type\": \"T_CD8_central_memory\", \"Truth/Pred\": \"Prediction\"}, {\"03\": 5.7584548649214815, \"14\": 1.4224598760695613, \"31\": 0.5488156270578883, \"49\": 10.157579239397462, \"50\": 0.3281680745392974, \"Cell Type\": \"T_CD8_effector_memory\", \"Truth/Pred\": \"Prediction\"}, {\"03\": 10.6144666779686, \"14\": 10.977597131433454, \"31\": 11.525835870158001, \"49\": 1.4309057463413977, \"50\": 10.506421793110828, \"Cell Type\": \"T_CD8_effector_memory_terminal\", \"Truth/Pred\": \"Prediction\"}, {\"03\": 7.655882700032483, \"14\": 4.314585574403531, \"31\": 5.193319354560272, \"49\": 15.949765407408105, \"50\": 2.8787528665149917, \"Cell Type\": \"Treg\", \"Truth/Pred\": \"Prediction\"}, {\"03\": 10.606259157468488, \"14\": 4.405684368112994, \"31\": 10.85388238459188, \"49\": 0.6815837625916197, \"50\": 8.234833923604496, \"Cell Type\": \"NK_Cell\", \"Truth/Pred\": \"Prediction\"}, {\"03\": 8.52715541127719, \"14\": 11.099545393815978, \"31\": 13.270661528855047, \"49\": 13.887769478017976, \"50\": 9.090701804773687, \"Cell Type\": \"B_Cell_naive\", \"Truth/Pred\": \"Prediction\"}, {\"03\": 9.83044855262663, \"14\": 0.2753039148872262, \"31\": 5.4077928523265575, \"49\": 0.650829279491283, \"50\": 14.901284124741856, \"Cell Type\": \"B_Cell_memory\", \"Truth/Pred\": \"Prediction\"}, {\"03\": 9.785688157455075, \"14\": 7.725518116107065, \"31\": 14.001653012010403, \"49\": 4.743817630069175, \"50\": 1.393177028477986, \"Cell Type\": \"Plasma_Cell\", \"Truth/Pred\": \"Prediction\"}, {\"03\": 9.856772114984178, \"14\": 12.751073990347715, \"31\": 1.181008263915207, \"49\": 3.6437251157068884, \"50\": 0.9688203599241738, \"Cell Type\": \"Monocyte\", \"Truth/Pred\": \"Prediction\"}, {\"03\": 11.316697410749853, \"14\": 5.735722139336126, \"31\": 0.6160164033180632, \"49\": 4.596639982864682, \"50\": 14.8885970873726, \"Cell Type\": \"Dendritic\", \"Truth/Pred\": \"Prediction\"}]}}, {\"mode\": \"vega-lite\"});\n",
              "</script>"
            ],
            "text/plain": [
              "alt.Chart(...)"
            ]
          },
          "metadata": {}
        }
      ]
    },
    {
      "cell_type": "code",
      "source": [
        ""
      ],
      "metadata": {
        "id": "FBWowW15sQrD"
      },
      "execution_count": null,
      "outputs": []
    }
  ]
}