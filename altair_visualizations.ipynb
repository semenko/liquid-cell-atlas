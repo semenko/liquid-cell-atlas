{
  "nbformat": 4,
  "nbformat_minor": 0,
  "metadata": {
    "colab": {
      "name": "altair_visualizations.ipynb",
      "provenance": [],
      "authorship_tag": "ABX9TyMmcWgxvsnvev53rcuwXf3r",
      "include_colab_link": true
    },
    "kernelspec": {
      "name": "python3",
      "display_name": "Python 3"
    },
    "language_info": {
      "name": "python"
    }
  },
  "cells": [
    {
      "cell_type": "markdown",
      "metadata": {
        "id": "view-in-github",
        "colab_type": "text"
      },
      "source": [
        "<a href=\"https://colab.research.google.com/github/semenko/liquid-cell-atlas/blob/main/altair_visualizations.ipynb\" target=\"_parent\"><img src=\"https://colab.research.google.com/assets/colab-badge.svg\" alt=\"Open In Colab\"/></a>"
      ]
    },
    {
      "cell_type": "markdown",
      "source": [
        "# Import Necessary Libraries"
      ],
      "metadata": {
        "id": "kWtMnCKKhynT"
      }
    },
    {
      "cell_type": "code",
      "source": [
        "import numpy as np\n",
        "import altair as alt\n",
        "import pandas as pd"
      ],
      "metadata": {
        "id": "PncQzodK60LN"
      },
      "execution_count": 2,
      "outputs": []
    },
    {
      "cell_type": "markdown",
      "source": [
        "# Generate Ground Truth Dictionaries"
      ],
      "metadata": {
        "id": "5E9F2Q1rh3-s"
      }
    },
    {
      "cell_type": "code",
      "execution_count": 3,
      "metadata": {
        "id": "NmAj899l5cM7"
      },
      "outputs": [],
      "source": [
        "# PBMC Ground Truth Internal Data:\n",
        "\n",
        "CELL_TYPES = ['T_CD4_naive', 'T_CD4_central_memory', 'T_CD4_effector_memory', 'T_CD8_naive', 'T_CD8_central_memory', 'T_CD8_effector_memory', 'T_CD8_effector_memory_terminal', 'Treg', 'NK_Cell', 'B_Cell_naive', 'B_Cell_memory', 'Plasma_Cell', 'Monocyte', 'Dendritic']\n",
        "CELL_TYPES_DOTS = [i.replace('_', '.') for i in CELL_TYPES]\n",
        "\n",
        "## PBMC Mixture --> Ground Truth Percentages\n",
        "# This maps sample ID to cell type percentage.\n",
        "PBMC_MIXTURE_TRUTH_BY_CYTOF = {\n",
        "    '03': [11.42,9.7,9.5,8.9,1.9,8.9,5.4,0.29,8.3,5.92,1.86,0.02,7.54,1.8],\n",
        "    '14': [7.83,7,6.9,9.96,1.2,10.3,2.8,0.14,12.7,8.44,2.05,0.01,6.65,1.3],\n",
        "    '24': [15.1,12.2,14.6,8.63,1,7.2,4.5,0.5,7.08,4.92,1.82,0.05,4.12,1.22],\n",
        "    '31': [10.8,6.9,9.9,8.4,0.8,7.3,4.9,0.12,14.96,5.58,1.99,0.01,5.13,1.25],\n",
        "    '49': [9.84,8.4,16.6,10.8,1.2,8.2,4.5,0.19,5.49,7.64,2.00,0.01,7.63,1.12],\n",
        "    '50': [6.2,4.3,5.9,4.04,0.9,3.5,1.8,0.27,9.43,5.66,1.21,0.13,7.14,1.75],\n",
        "    '51': [10.4,6.1,7.1,5.2,0.4,3,2.1,0.18,14.17,6.50,4.39,0.02,10.5,1.65],\n",
        "}\n",
        "\n",
        "# Using \"Second Flow\" in Abul's. spreadsheet\n",
        "PBMC_MIXTURE_TRUTH_BY_FLOW_SECOND = {\n",
        "    '03': [11.55,6.910,7.244,21.07,None,None,None,0.34,4.45,5.70,2.36,None,6.31,1.16],\n",
        "    '14': [8.56,6.504,3.649,19.89,None,None,None,0.22,5.15,7.23,5.29,None,5.78,0.81],\n",
        "    '24': [24.75,9.305,5.088,14.26,None,None,None,0.44,5.02,4.76,1.99,None,5.02,1.12],\n",
        "    '31': [13.5,6.967,4.343,14.77,None,None,None,0.18,4.98,2.23,0.97,None,3.22,0.88],\n",
        "    '49': [13.68,7.324,8.396,21.25,None,None,None,0.16,3.9,6.73,3.27,None,8.8,0.5],\n",
        "    '50': [8.56,5.823,2.675,6.12,None,None,None,0.22,6.14,5.76,1.25,None,15.9,0.83],\n",
        "    '51': [10.61,5.612,3.489,9.11,None,None,None,0.21,10.12,3.83,3.55,None,10.21,1.02],\n",
        "}\n",
        "\n",
        "# Using \"First Flow\" in Abul's. spreadsheet\n",
        "# One flow experiment with missing samples and no corresponding CyTOF\n",
        "PBMC_MIXTURE_TRUTH_BY_FLOW_FIRST = {\n",
        "    '03': [13.95,10.146,4.844,24.16,None,None,None,0.28,6.2,5.25,2.29,None,5.43,0.69],\n",
        "    '14': [11.51,8.508,3.232,23.85,None,None,None,0.12,11.99,4.73,4.29,None,4.94,0.44],\n",
        "    '31': [15.48,8.244,3.624,23.93,None,None,None,0.11,14.17,5.58,2.94,None,7.77,0.35],\n",
        "    '49': [12.74,8.389,6.605,23.95,None,None,None,0.19,3.74,6.96,3.06,None,6.39,0.34],\n",
        "    '50': [14.53,7.674,1.654,10.83,None,None,None,0.14,6.16,8.99,2.14,None,22.45,0.52],\n",
        "}\n",
        "\n",
        "assert all([len(e) == len(CELL_TYPES) for e in PBMC_MIXTURE_TRUTH_BY_CYTOF.values()])\n",
        "assert all([len(e) == len(CELL_TYPES) for e in PBMC_MIXTURE_TRUTH_BY_FLOW_SECOND.values()])\n",
        "assert all([len(e) == len(CELL_TYPES) for e in PBMC_MIXTURE_TRUTH_BY_FLOW_FIRST.values()])\n",
        "\n",
        "# Nested dicts, so you can run:\n",
        "#  PBMC_TRUTH_DICT_FLOW['03']['Treg']\n",
        "PBMC_TRUTH_DICT_FLOW_FIRST = {k:dict.fromkeys(CELL_TYPES_DOTS, v) for k,v in PBMC_MIXTURE_TRUTH_BY_FLOW_FIRST}\n",
        "PBMC_TRUTH_DICT_FLOW_SECOND = {k:dict.fromkeys(CELL_TYPES_DOTS, v) for k,v in PBMC_MIXTURE_TRUTH_BY_FLOW_SECOND}\n",
        "PBMC_TRUTH_DICT_CYTOF = {k:dict.fromkeys(CELL_TYPES_DOTS, v) for k,v in PBMC_MIXTURE_TRUTH_BY_CYTOF}"
      ]
    },
    {
      "cell_type": "markdown",
      "source": [
        "# Generate Random Predictions"
      ],
      "metadata": {
        "id": "uiMMbywOh8rj"
      }
    },
    {
      "cell_type": "code",
      "source": [
        "# Generate random predictions\n",
        "np.random.seed(seed = 2022)\n",
        "\n",
        "PBMC_MIXTURE_PRED_BY_FLOW_FIRST = {}\n",
        "for patient in PBMC_MIXTURE_TRUTH_BY_FLOW_FIRST.keys():\n",
        "    prob_list = []\n",
        "    for i in range(len(CELL_TYPES)):\n",
        "        prob_list.append(np.random.uniform(0,1))\n",
        "    prob_list = 100 * np.array(prob_list) / np.sum(prob_list)\n",
        "    PBMC_MIXTURE_PRED_BY_FLOW_FIRST[patient] = list(prob_list)  \n",
        "\n",
        "PBMC_MIXTURE_PRED_BY_FLOW_SECOND = {}\n",
        "for patient in PBMC_MIXTURE_TRUTH_BY_FLOW_SECOND.keys():\n",
        "    prob_list = []\n",
        "    for i in range(len(CELL_TYPES)):\n",
        "        prob_list.append(np.random.uniform(0,1))\n",
        "    prob_list = 100 * np.array(prob_list) / np.sum(prob_list)\n",
        "    PBMC_MIXTURE_PRED_BY_FLOW_SECOND[patient] = list(prob_list)     \n",
        "\n",
        "PBMC_MIXTURE_PRED_BY_CYTOF = {}\n",
        "for patient in PBMC_MIXTURE_TRUTH_BY_CYTOF.keys():\n",
        "    prob_list = []\n",
        "    for i in range(len(CELL_TYPES)):\n",
        "        prob_list.append(np.random.uniform(0,1))\n",
        "    prob_list = 100 * np.array(prob_list) / np.sum(prob_list)\n",
        "    PBMC_MIXTURE_PRED_BY_CYTOF[patient] = list(prob_list) "
      ],
      "metadata": {
        "id": "9__O7YGo6M_7"
      },
      "execution_count": 4,
      "outputs": []
    },
    {
      "cell_type": "markdown",
      "source": [
        "Calculate the difference between the predictions and ground truth"
      ],
      "metadata": {
        "id": "QcJABY4oQb9t"
      }
    },
    {
      "cell_type": "code",
      "source": [
        "PBMC_MIXTURE_DIFF_BY_FLOW_FIRST = {}\n",
        "for patient in PBMC_MIXTURE_TRUTH_BY_FLOW_FIRST:\n",
        "    truth_arr = [0 if val is None else val for val in PBMC_MIXTURE_TRUTH_BY_FLOW_FIRST[patient]]\n",
        "    PBMC_MIXTURE_DIFF_BY_FLOW_FIRST[patient] = list(np.array(truth_arr) - np.array(PBMC_MIXTURE_PRED_BY_FLOW_FIRST[patient]))\n",
        "\n",
        "PBMC_MIXTURE_DIFF_BY_FLOW_SECOND = {}\n",
        "for patient in PBMC_MIXTURE_TRUTH_BY_FLOW_SECOND:\n",
        "    truth_arr = [0 if val is None else val for val in PBMC_MIXTURE_TRUTH_BY_FLOW_SECOND[patient]]\n",
        "    PBMC_MIXTURE_DIFF_BY_FLOW_SECOND[patient] = list(np.array(truth_arr) - np.array(PBMC_MIXTURE_PRED_BY_FLOW_SECOND[patient]))\n",
        "\n",
        "PBMC_MIXTURE_DIFF_BY_CYTOF = {}\n",
        "for patient in PBMC_MIXTURE_TRUTH_BY_CYTOF:\n",
        "    truth_arr = [0 if val is None else val for val in PBMC_MIXTURE_TRUTH_BY_CYTOF[patient]]\n",
        "    PBMC_MIXTURE_DIFF_BY_CYTOF[patient] = list(np.array(truth_arr) - np.array(PBMC_MIXTURE_PRED_BY_CYTOF[patient]))"
      ],
      "metadata": {
        "id": "VnDtW2Oih0X9"
      },
      "execution_count": 5,
      "outputs": []
    },
    {
      "cell_type": "markdown",
      "source": [
        "# Calculate Statistics"
      ],
      "metadata": {
        "id": "J5b4GWfnSptx"
      }
    },
    {
      "cell_type": "markdown",
      "source": [
        "Mean squared error over all three, per cell type"
      ],
      "metadata": {
        "id": "hVkY9XWZXhsi"
      }
    },
    {
      "cell_type": "code",
      "source": [
        "flow_first_diff = np.array(list((PBMC_MIXTURE_DIFF_BY_FLOW_FIRST.values())))\n",
        "flow_second_diff = np.array(list(PBMC_MIXTURE_DIFF_BY_FLOW_SECOND.values()))\n",
        "cytof_diff = np.array(list(PBMC_MIXTURE_DIFF_BY_CYTOF.values()))\n",
        "combined_diff = np.concatenate((flow_first_diff, flow_second_diff, cytof_diff), axis = 0)\n",
        "\n",
        "mean_dev = np.mean(combined_diff, axis = 0)                  \n",
        "std_dev = np.std(combined_diff, axis = 0)\n",
        "\n",
        "data = [[cell, mean_dev[i], std_dev[i]] for i, cell in list(enumerate(CELL_TYPES))]\n",
        "dev_data = pd.DataFrame(data, columns = [\"Cell Types\", \"Mean Difference\", \"Standard Deviation of Diff.\"])\n",
        "dev_data"
      ],
      "metadata": {
        "colab": {
          "base_uri": "https://localhost:8080/",
          "height": 488
        },
        "id": "1tTXPLXzSrkC",
        "outputId": "ec9a14f9-d827-4642-a1d3-a8c1ee42d985"
      },
      "execution_count": 71,
      "outputs": [
        {
          "output_type": "execute_result",
          "data": {
            "text/plain": [
              "                        Cell Types  Mean Difference  \\\n",
              "0                      T_CD4_naive         7.322036   \n",
              "1             T_CD4_central_memory         0.686845   \n",
              "2            T_CD4_effector_memory        -0.956382   \n",
              "3                      T_CD8_naive         6.283350   \n",
              "4             T_CD8_central_memory        -7.683740   \n",
              "5            T_CD8_effector_memory        -4.510640   \n",
              "6   T_CD8_effector_memory_terminal        -4.772554   \n",
              "7                             Treg        -6.384239   \n",
              "8                          NK_Cell        -0.517222   \n",
              "9                     B_Cell_naive        -1.947851   \n",
              "10                   B_Cell_memory        -4.592276   \n",
              "11                     Plasma_Cell        -9.367721   \n",
              "12                        Monocyte         2.678394   \n",
              "13                       Dendritic        -5.564897   \n",
              "\n",
              "    Standard Deviation of Diff.  \n",
              "0                      5.691704  \n",
              "1                      5.177019  \n",
              "2                      3.782160  \n",
              "3                      8.764130  \n",
              "4                      4.728944  \n",
              "5                      5.195738  \n",
              "6                      4.346269  \n",
              "7                      4.718628  \n",
              "8                      4.353026  \n",
              "9                      3.964545  \n",
              "10                     5.148699  \n",
              "11                     4.253256  \n",
              "12                     6.795044  \n",
              "13                     4.231824  "
            ],
            "text/html": [
              "\n",
              "  <div id=\"df-d5312ea6-0631-47c0-89e4-25ee4b60c92f\">\n",
              "    <div class=\"colab-df-container\">\n",
              "      <div>\n",
              "<style scoped>\n",
              "    .dataframe tbody tr th:only-of-type {\n",
              "        vertical-align: middle;\n",
              "    }\n",
              "\n",
              "    .dataframe tbody tr th {\n",
              "        vertical-align: top;\n",
              "    }\n",
              "\n",
              "    .dataframe thead th {\n",
              "        text-align: right;\n",
              "    }\n",
              "</style>\n",
              "<table border=\"1\" class=\"dataframe\">\n",
              "  <thead>\n",
              "    <tr style=\"text-align: right;\">\n",
              "      <th></th>\n",
              "      <th>Cell Types</th>\n",
              "      <th>Mean Difference</th>\n",
              "      <th>Standard Deviation of Diff.</th>\n",
              "    </tr>\n",
              "  </thead>\n",
              "  <tbody>\n",
              "    <tr>\n",
              "      <th>0</th>\n",
              "      <td>T_CD4_naive</td>\n",
              "      <td>7.322036</td>\n",
              "      <td>5.691704</td>\n",
              "    </tr>\n",
              "    <tr>\n",
              "      <th>1</th>\n",
              "      <td>T_CD4_central_memory</td>\n",
              "      <td>0.686845</td>\n",
              "      <td>5.177019</td>\n",
              "    </tr>\n",
              "    <tr>\n",
              "      <th>2</th>\n",
              "      <td>T_CD4_effector_memory</td>\n",
              "      <td>-0.956382</td>\n",
              "      <td>3.782160</td>\n",
              "    </tr>\n",
              "    <tr>\n",
              "      <th>3</th>\n",
              "      <td>T_CD8_naive</td>\n",
              "      <td>6.283350</td>\n",
              "      <td>8.764130</td>\n",
              "    </tr>\n",
              "    <tr>\n",
              "      <th>4</th>\n",
              "      <td>T_CD8_central_memory</td>\n",
              "      <td>-7.683740</td>\n",
              "      <td>4.728944</td>\n",
              "    </tr>\n",
              "    <tr>\n",
              "      <th>5</th>\n",
              "      <td>T_CD8_effector_memory</td>\n",
              "      <td>-4.510640</td>\n",
              "      <td>5.195738</td>\n",
              "    </tr>\n",
              "    <tr>\n",
              "      <th>6</th>\n",
              "      <td>T_CD8_effector_memory_terminal</td>\n",
              "      <td>-4.772554</td>\n",
              "      <td>4.346269</td>\n",
              "    </tr>\n",
              "    <tr>\n",
              "      <th>7</th>\n",
              "      <td>Treg</td>\n",
              "      <td>-6.384239</td>\n",
              "      <td>4.718628</td>\n",
              "    </tr>\n",
              "    <tr>\n",
              "      <th>8</th>\n",
              "      <td>NK_Cell</td>\n",
              "      <td>-0.517222</td>\n",
              "      <td>4.353026</td>\n",
              "    </tr>\n",
              "    <tr>\n",
              "      <th>9</th>\n",
              "      <td>B_Cell_naive</td>\n",
              "      <td>-1.947851</td>\n",
              "      <td>3.964545</td>\n",
              "    </tr>\n",
              "    <tr>\n",
              "      <th>10</th>\n",
              "      <td>B_Cell_memory</td>\n",
              "      <td>-4.592276</td>\n",
              "      <td>5.148699</td>\n",
              "    </tr>\n",
              "    <tr>\n",
              "      <th>11</th>\n",
              "      <td>Plasma_Cell</td>\n",
              "      <td>-9.367721</td>\n",
              "      <td>4.253256</td>\n",
              "    </tr>\n",
              "    <tr>\n",
              "      <th>12</th>\n",
              "      <td>Monocyte</td>\n",
              "      <td>2.678394</td>\n",
              "      <td>6.795044</td>\n",
              "    </tr>\n",
              "    <tr>\n",
              "      <th>13</th>\n",
              "      <td>Dendritic</td>\n",
              "      <td>-5.564897</td>\n",
              "      <td>4.231824</td>\n",
              "    </tr>\n",
              "  </tbody>\n",
              "</table>\n",
              "</div>\n",
              "      <button class=\"colab-df-convert\" onclick=\"convertToInteractive('df-d5312ea6-0631-47c0-89e4-25ee4b60c92f')\"\n",
              "              title=\"Convert this dataframe to an interactive table.\"\n",
              "              style=\"display:none;\">\n",
              "        \n",
              "  <svg xmlns=\"http://www.w3.org/2000/svg\" height=\"24px\"viewBox=\"0 0 24 24\"\n",
              "       width=\"24px\">\n",
              "    <path d=\"M0 0h24v24H0V0z\" fill=\"none\"/>\n",
              "    <path d=\"M18.56 5.44l.94 2.06.94-2.06 2.06-.94-2.06-.94-.94-2.06-.94 2.06-2.06.94zm-11 1L8.5 8.5l.94-2.06 2.06-.94-2.06-.94L8.5 2.5l-.94 2.06-2.06.94zm10 10l.94 2.06.94-2.06 2.06-.94-2.06-.94-.94-2.06-.94 2.06-2.06.94z\"/><path d=\"M17.41 7.96l-1.37-1.37c-.4-.4-.92-.59-1.43-.59-.52 0-1.04.2-1.43.59L10.3 9.45l-7.72 7.72c-.78.78-.78 2.05 0 2.83L4 21.41c.39.39.9.59 1.41.59.51 0 1.02-.2 1.41-.59l7.78-7.78 2.81-2.81c.8-.78.8-2.07 0-2.86zM5.41 20L4 18.59l7.72-7.72 1.47 1.35L5.41 20z\"/>\n",
              "  </svg>\n",
              "      </button>\n",
              "      \n",
              "  <style>\n",
              "    .colab-df-container {\n",
              "      display:flex;\n",
              "      flex-wrap:wrap;\n",
              "      gap: 12px;\n",
              "    }\n",
              "\n",
              "    .colab-df-convert {\n",
              "      background-color: #E8F0FE;\n",
              "      border: none;\n",
              "      border-radius: 50%;\n",
              "      cursor: pointer;\n",
              "      display: none;\n",
              "      fill: #1967D2;\n",
              "      height: 32px;\n",
              "      padding: 0 0 0 0;\n",
              "      width: 32px;\n",
              "    }\n",
              "\n",
              "    .colab-df-convert:hover {\n",
              "      background-color: #E2EBFA;\n",
              "      box-shadow: 0px 1px 2px rgba(60, 64, 67, 0.3), 0px 1px 3px 1px rgba(60, 64, 67, 0.15);\n",
              "      fill: #174EA6;\n",
              "    }\n",
              "\n",
              "    [theme=dark] .colab-df-convert {\n",
              "      background-color: #3B4455;\n",
              "      fill: #D2E3FC;\n",
              "    }\n",
              "\n",
              "    [theme=dark] .colab-df-convert:hover {\n",
              "      background-color: #434B5C;\n",
              "      box-shadow: 0px 1px 3px 1px rgba(0, 0, 0, 0.15);\n",
              "      filter: drop-shadow(0px 1px 2px rgba(0, 0, 0, 0.3));\n",
              "      fill: #FFFFFF;\n",
              "    }\n",
              "  </style>\n",
              "\n",
              "      <script>\n",
              "        const buttonEl =\n",
              "          document.querySelector('#df-d5312ea6-0631-47c0-89e4-25ee4b60c92f button.colab-df-convert');\n",
              "        buttonEl.style.display =\n",
              "          google.colab.kernel.accessAllowed ? 'block' : 'none';\n",
              "\n",
              "        async function convertToInteractive(key) {\n",
              "          const element = document.querySelector('#df-d5312ea6-0631-47c0-89e4-25ee4b60c92f');\n",
              "          const dataTable =\n",
              "            await google.colab.kernel.invokeFunction('convertToInteractive',\n",
              "                                                     [key], {});\n",
              "          if (!dataTable) return;\n",
              "\n",
              "          const docLinkHtml = 'Like what you see? Visit the ' +\n",
              "            '<a target=\"_blank\" href=https://colab.research.google.com/notebooks/data_table.ipynb>data table notebook</a>'\n",
              "            + ' to learn more about interactive tables.';\n",
              "          element.innerHTML = '';\n",
              "          dataTable['output_type'] = 'display_data';\n",
              "          await google.colab.output.renderOutput(dataTable, element);\n",
              "          const docLink = document.createElement('div');\n",
              "          docLink.innerHTML = docLinkHtml;\n",
              "          element.appendChild(docLink);\n",
              "        }\n",
              "      </script>\n",
              "    </div>\n",
              "  </div>\n",
              "  "
            ]
          },
          "metadata": {},
          "execution_count": 71
        }
      ]
    },
    {
      "cell_type": "markdown",
      "source": [
        "# Plot Visualizations"
      ],
      "metadata": {
        "id": "YlazyXwIiDMt"
      }
    },
    {
      "cell_type": "markdown",
      "source": [
        "Plot Grouped Bar Graphs for each patient (Flow First Data)"
      ],
      "metadata": {
        "id": "4ZGKyMYJPmJ1"
      }
    },
    {
      "cell_type": "code",
      "source": [
        "df = pd.DataFrame(PBMC_MIXTURE_TRUTH_BY_FLOW_FIRST)\n",
        "df[\"Cell Type\"] = CELL_TYPES\n",
        "df[\"Truth/Pred\"] = \"Truth\"\n",
        "\n",
        "df2 = pd.DataFrame(PBMC_MIXTURE_PRED_BY_FLOW_FIRST)\n",
        "df2[\"Cell Type\"] = CELL_TYPES\n",
        "df2[\"Truth/Pred\"] = \"Prediction\"\n",
        "\n",
        "data = pd.concat([df, df2]).fillna(0)"
      ],
      "metadata": {
        "id": "_fxxYWLh963G"
      },
      "execution_count": 7,
      "outputs": []
    },
    {
      "cell_type": "code",
      "source": [
        "# Still figuring out how to move the labels to the bottom\n",
        "flag = True\n",
        "\n",
        "for patient in PBMC_MIXTURE_PRED_BY_FLOW_FIRST: \n",
        "    title = alt.TitleParams('Patient {}: Truth vs Predictions for Cell Type Percentages(Flow First Data)'.format(patient), anchor='middle')\n",
        "    chart = alt.Chart(data, title = title).mark_bar().encode(\n",
        "        x=alt.X('Truth/Pred', title = ''),\n",
        "        y=alt.Y(patient, title = 'Percent'),\n",
        "        color=alt.Color('Truth/Pred'),\n",
        "        column=alt.Column('Cell Type', title = '', header = alt.Header(orient='bottom', labelAngle=-45, labelAlign='left', labels = flag))\n",
        "    ).configure_axisX(disable = True)\n",
        "\n",
        "    chart.display()\n",
        "    flag = False"
      ],
      "metadata": {
        "colab": {
          "base_uri": "https://localhost:8080/",
          "height": 1000
        },
        "id": "OnSQWwjnDZvd",
        "outputId": "56dd5bbb-dc7f-46cf-b09a-42b32fbcab11"
      },
      "execution_count": 9,
      "outputs": [
        {
          "output_type": "display_data",
          "data": {
            "text/html": [
              "\n",
              "<div id=\"altair-viz-cb87ba10e86d4170abc31046acc4f5ed\"></div>\n",
              "<script type=\"text/javascript\">\n",
              "  var VEGA_DEBUG = (typeof VEGA_DEBUG == \"undefined\") ? {} : VEGA_DEBUG;\n",
              "  (function(spec, embedOpt){\n",
              "    let outputDiv = document.currentScript.previousElementSibling;\n",
              "    if (outputDiv.id !== \"altair-viz-cb87ba10e86d4170abc31046acc4f5ed\") {\n",
              "      outputDiv = document.getElementById(\"altair-viz-cb87ba10e86d4170abc31046acc4f5ed\");\n",
              "    }\n",
              "    const paths = {\n",
              "      \"vega\": \"https://cdn.jsdelivr.net/npm//vega@5?noext\",\n",
              "      \"vega-lib\": \"https://cdn.jsdelivr.net/npm//vega-lib?noext\",\n",
              "      \"vega-lite\": \"https://cdn.jsdelivr.net/npm//vega-lite@4.17.0?noext\",\n",
              "      \"vega-embed\": \"https://cdn.jsdelivr.net/npm//vega-embed@6?noext\",\n",
              "    };\n",
              "\n",
              "    function maybeLoadScript(lib, version) {\n",
              "      var key = `${lib.replace(\"-\", \"\")}_version`;\n",
              "      return (VEGA_DEBUG[key] == version) ?\n",
              "        Promise.resolve(paths[lib]) :\n",
              "        new Promise(function(resolve, reject) {\n",
              "          var s = document.createElement('script');\n",
              "          document.getElementsByTagName(\"head\")[0].appendChild(s);\n",
              "          s.async = true;\n",
              "          s.onload = () => {\n",
              "            VEGA_DEBUG[key] = version;\n",
              "            return resolve(paths[lib]);\n",
              "          };\n",
              "          s.onerror = () => reject(`Error loading script: ${paths[lib]}`);\n",
              "          s.src = paths[lib];\n",
              "        });\n",
              "    }\n",
              "\n",
              "    function showError(err) {\n",
              "      outputDiv.innerHTML = `<div class=\"error\" style=\"color:red;\">${err}</div>`;\n",
              "      throw err;\n",
              "    }\n",
              "\n",
              "    function displayChart(vegaEmbed) {\n",
              "      vegaEmbed(outputDiv, spec, embedOpt)\n",
              "        .catch(err => showError(`Javascript Error: ${err.message}<br>This usually means there's a typo in your chart specification. See the javascript console for the full traceback.`));\n",
              "    }\n",
              "\n",
              "    if(typeof define === \"function\" && define.amd) {\n",
              "      requirejs.config({paths});\n",
              "      require([\"vega-embed\"], displayChart, err => showError(`Error loading script: ${err.message}`));\n",
              "    } else {\n",
              "      maybeLoadScript(\"vega\", \"5\")\n",
              "        .then(() => maybeLoadScript(\"vega-lite\", \"4.17.0\"))\n",
              "        .then(() => maybeLoadScript(\"vega-embed\", \"6\"))\n",
              "        .catch(showError)\n",
              "        .then(() => displayChart(vegaEmbed));\n",
              "    }\n",
              "  })({\"config\": {\"view\": {\"continuousWidth\": 400, \"continuousHeight\": 300}, \"axisX\": {\"disable\": true}}, \"data\": {\"name\": \"data-b12d9ac2fb1f15c85a33e56b1ceed771\"}, \"mark\": \"bar\", \"encoding\": {\"color\": {\"field\": \"Truth/Pred\", \"type\": \"nominal\"}, \"column\": {\"field\": \"Cell Type\", \"header\": {\"labelAlign\": \"left\", \"labelAngle\": -45, \"labels\": true, \"orient\": \"bottom\"}, \"title\": \"\", \"type\": \"nominal\"}, \"x\": {\"field\": \"Truth/Pred\", \"title\": \"\", \"type\": \"nominal\"}, \"y\": {\"field\": \"03\", \"title\": \"Percent\", \"type\": \"quantitative\"}}, \"title\": {\"text\": \"Patient 03: Truth vs Predictions for Cell Type Percentages(Flow First Data)\", \"anchor\": \"middle\"}, \"$schema\": \"https://vega.github.io/schema/vega-lite/v4.17.0.json\", \"datasets\": {\"data-b12d9ac2fb1f15c85a33e56b1ceed771\": [{\"03\": 13.95, \"14\": 11.51, \"31\": 15.48, \"49\": 12.74, \"50\": 14.53, \"Cell Type\": \"T_CD4_naive\", \"Truth/Pred\": \"Truth\"}, {\"03\": 10.146, \"14\": 8.508, \"31\": 8.244, \"49\": 8.389, \"50\": 7.674, \"Cell Type\": \"T_CD4_central_memory\", \"Truth/Pred\": \"Truth\"}, {\"03\": 4.844, \"14\": 3.232, \"31\": 3.624, \"49\": 6.605, \"50\": 1.654, \"Cell Type\": \"T_CD4_effector_memory\", \"Truth/Pred\": \"Truth\"}, {\"03\": 24.16, \"14\": 23.85, \"31\": 23.93, \"49\": 23.95, \"50\": 10.83, \"Cell Type\": \"T_CD8_naive\", \"Truth/Pred\": \"Truth\"}, {\"03\": 0.0, \"14\": 0.0, \"31\": 0.0, \"49\": 0.0, \"50\": 0.0, \"Cell Type\": \"T_CD8_central_memory\", \"Truth/Pred\": \"Truth\"}, {\"03\": 0.0, \"14\": 0.0, \"31\": 0.0, \"49\": 0.0, \"50\": 0.0, \"Cell Type\": \"T_CD8_effector_memory\", \"Truth/Pred\": \"Truth\"}, {\"03\": 0.0, \"14\": 0.0, \"31\": 0.0, \"49\": 0.0, \"50\": 0.0, \"Cell Type\": \"T_CD8_effector_memory_terminal\", \"Truth/Pred\": \"Truth\"}, {\"03\": 0.28, \"14\": 0.12, \"31\": 0.11, \"49\": 0.19, \"50\": 0.14, \"Cell Type\": \"Treg\", \"Truth/Pred\": \"Truth\"}, {\"03\": 6.2, \"14\": 11.99, \"31\": 14.17, \"49\": 3.74, \"50\": 6.16, \"Cell Type\": \"NK_Cell\", \"Truth/Pred\": \"Truth\"}, {\"03\": 5.25, \"14\": 4.73, \"31\": 5.58, \"49\": 6.96, \"50\": 8.99, \"Cell Type\": \"B_Cell_naive\", \"Truth/Pred\": \"Truth\"}, {\"03\": 2.29, \"14\": 4.29, \"31\": 2.94, \"49\": 3.06, \"50\": 2.14, \"Cell Type\": \"B_Cell_memory\", \"Truth/Pred\": \"Truth\"}, {\"03\": 0.0, \"14\": 0.0, \"31\": 0.0, \"49\": 0.0, \"50\": 0.0, \"Cell Type\": \"Plasma_Cell\", \"Truth/Pred\": \"Truth\"}, {\"03\": 5.43, \"14\": 4.94, \"31\": 7.77, \"49\": 6.39, \"50\": 22.45, \"Cell Type\": \"Monocyte\", \"Truth/Pred\": \"Truth\"}, {\"03\": 0.69, \"14\": 0.44, \"31\": 0.35, \"49\": 0.34, \"50\": 0.52, \"Cell Type\": \"Dendritic\", \"Truth/Pred\": \"Truth\"}, {\"03\": 0.11066216757156937, \"14\": 5.42893016663467, \"31\": 3.079166273014567, \"49\": 5.269578481215808, \"50\": 14.054663946101307, \"Cell Type\": \"T_CD4_naive\", \"Truth/Pred\": \"Prediction\"}, {\"03\": 5.901175134140313, \"14\": 7.299224404345026, \"31\": 6.895459942610074, \"49\": 6.45751487638773, \"50\": 0.12244374176984059, \"Cell Type\": \"T_CD4_central_memory\", \"Truth/Pred\": \"Prediction\"}, {\"03\": 1.3407204478339831, \"14\": 5.0080181715158805, \"31\": 8.194095433300136, \"49\": 8.704422689370716, \"50\": 6.0804064147808825, \"Cell Type\": \"T_CD4_effector_memory\", \"Truth/Pred\": \"Prediction\"}, {\"03\": 0.5909243919445896, \"14\": 9.137044925105153, \"31\": 5.070651421059026, \"49\": 11.869471166805662, \"50\": 13.474265605633462, \"Cell Type\": \"T_CD8_naive\", \"Truth/Pred\": \"Prediction\"}, {\"03\": 8.10469281102557, \"14\": 14.419291827885614, \"31\": 14.161641633222873, \"49\": 11.956397144331504, \"50\": 3.0774632286546204, \"Cell Type\": \"T_CD8_central_memory\", \"Truth/Pred\": \"Prediction\"}, {\"03\": 5.7584548649214815, \"14\": 1.4224598760695613, \"31\": 0.5488156270578883, \"49\": 10.157579239397462, \"50\": 0.3281680745392974, \"Cell Type\": \"T_CD8_effector_memory\", \"Truth/Pred\": \"Prediction\"}, {\"03\": 10.6144666779686, \"14\": 10.977597131433454, \"31\": 11.525835870158001, \"49\": 1.4309057463413977, \"50\": 10.506421793110828, \"Cell Type\": \"T_CD8_effector_memory_terminal\", \"Truth/Pred\": \"Prediction\"}, {\"03\": 7.655882700032483, \"14\": 4.314585574403531, \"31\": 5.193319354560272, \"49\": 15.949765407408105, \"50\": 2.8787528665149917, \"Cell Type\": \"Treg\", \"Truth/Pred\": \"Prediction\"}, {\"03\": 10.606259157468488, \"14\": 4.405684368112994, \"31\": 10.85388238459188, \"49\": 0.6815837625916197, \"50\": 8.234833923604496, \"Cell Type\": \"NK_Cell\", \"Truth/Pred\": \"Prediction\"}, {\"03\": 8.52715541127719, \"14\": 11.099545393815978, \"31\": 13.270661528855047, \"49\": 13.887769478017976, \"50\": 9.090701804773687, \"Cell Type\": \"B_Cell_naive\", \"Truth/Pred\": \"Prediction\"}, {\"03\": 9.83044855262663, \"14\": 0.2753039148872262, \"31\": 5.4077928523265575, \"49\": 0.650829279491283, \"50\": 14.901284124741856, \"Cell Type\": \"B_Cell_memory\", \"Truth/Pred\": \"Prediction\"}, {\"03\": 9.785688157455075, \"14\": 7.725518116107065, \"31\": 14.001653012010403, \"49\": 4.743817630069175, \"50\": 1.393177028477986, \"Cell Type\": \"Plasma_Cell\", \"Truth/Pred\": \"Prediction\"}, {\"03\": 9.856772114984178, \"14\": 12.751073990347715, \"31\": 1.181008263915207, \"49\": 3.6437251157068884, \"50\": 0.9688203599241738, \"Cell Type\": \"Monocyte\", \"Truth/Pred\": \"Prediction\"}, {\"03\": 11.316697410749853, \"14\": 5.735722139336126, \"31\": 0.6160164033180632, \"49\": 4.596639982864682, \"50\": 14.8885970873726, \"Cell Type\": \"Dendritic\", \"Truth/Pred\": \"Prediction\"}]}}, {\"mode\": \"vega-lite\"});\n",
              "</script>"
            ],
            "text/plain": [
              "alt.Chart(...)"
            ]
          },
          "metadata": {}
        },
        {
          "output_type": "display_data",
          "data": {
            "text/html": [
              "\n",
              "<div id=\"altair-viz-8a847f337d34457fa58f797c86cba133\"></div>\n",
              "<script type=\"text/javascript\">\n",
              "  var VEGA_DEBUG = (typeof VEGA_DEBUG == \"undefined\") ? {} : VEGA_DEBUG;\n",
              "  (function(spec, embedOpt){\n",
              "    let outputDiv = document.currentScript.previousElementSibling;\n",
              "    if (outputDiv.id !== \"altair-viz-8a847f337d34457fa58f797c86cba133\") {\n",
              "      outputDiv = document.getElementById(\"altair-viz-8a847f337d34457fa58f797c86cba133\");\n",
              "    }\n",
              "    const paths = {\n",
              "      \"vega\": \"https://cdn.jsdelivr.net/npm//vega@5?noext\",\n",
              "      \"vega-lib\": \"https://cdn.jsdelivr.net/npm//vega-lib?noext\",\n",
              "      \"vega-lite\": \"https://cdn.jsdelivr.net/npm//vega-lite@4.17.0?noext\",\n",
              "      \"vega-embed\": \"https://cdn.jsdelivr.net/npm//vega-embed@6?noext\",\n",
              "    };\n",
              "\n",
              "    function maybeLoadScript(lib, version) {\n",
              "      var key = `${lib.replace(\"-\", \"\")}_version`;\n",
              "      return (VEGA_DEBUG[key] == version) ?\n",
              "        Promise.resolve(paths[lib]) :\n",
              "        new Promise(function(resolve, reject) {\n",
              "          var s = document.createElement('script');\n",
              "          document.getElementsByTagName(\"head\")[0].appendChild(s);\n",
              "          s.async = true;\n",
              "          s.onload = () => {\n",
              "            VEGA_DEBUG[key] = version;\n",
              "            return resolve(paths[lib]);\n",
              "          };\n",
              "          s.onerror = () => reject(`Error loading script: ${paths[lib]}`);\n",
              "          s.src = paths[lib];\n",
              "        });\n",
              "    }\n",
              "\n",
              "    function showError(err) {\n",
              "      outputDiv.innerHTML = `<div class=\"error\" style=\"color:red;\">${err}</div>`;\n",
              "      throw err;\n",
              "    }\n",
              "\n",
              "    function displayChart(vegaEmbed) {\n",
              "      vegaEmbed(outputDiv, spec, embedOpt)\n",
              "        .catch(err => showError(`Javascript Error: ${err.message}<br>This usually means there's a typo in your chart specification. See the javascript console for the full traceback.`));\n",
              "    }\n",
              "\n",
              "    if(typeof define === \"function\" && define.amd) {\n",
              "      requirejs.config({paths});\n",
              "      require([\"vega-embed\"], displayChart, err => showError(`Error loading script: ${err.message}`));\n",
              "    } else {\n",
              "      maybeLoadScript(\"vega\", \"5\")\n",
              "        .then(() => maybeLoadScript(\"vega-lite\", \"4.17.0\"))\n",
              "        .then(() => maybeLoadScript(\"vega-embed\", \"6\"))\n",
              "        .catch(showError)\n",
              "        .then(() => displayChart(vegaEmbed));\n",
              "    }\n",
              "  })({\"config\": {\"view\": {\"continuousWidth\": 400, \"continuousHeight\": 300}, \"axisX\": {\"disable\": true}}, \"data\": {\"name\": \"data-b12d9ac2fb1f15c85a33e56b1ceed771\"}, \"mark\": \"bar\", \"encoding\": {\"color\": {\"field\": \"Truth/Pred\", \"type\": \"nominal\"}, \"column\": {\"field\": \"Cell Type\", \"header\": {\"labelAlign\": \"left\", \"labelAngle\": -45, \"labels\": false, \"orient\": \"bottom\"}, \"title\": \"\", \"type\": \"nominal\"}, \"x\": {\"field\": \"Truth/Pred\", \"title\": \"\", \"type\": \"nominal\"}, \"y\": {\"field\": \"14\", \"title\": \"Percent\", \"type\": \"quantitative\"}}, \"title\": {\"text\": \"Patient 14: Truth vs Predictions for Cell Type Percentages(Flow First Data)\", \"anchor\": \"middle\"}, \"$schema\": \"https://vega.github.io/schema/vega-lite/v4.17.0.json\", \"datasets\": {\"data-b12d9ac2fb1f15c85a33e56b1ceed771\": [{\"03\": 13.95, \"14\": 11.51, \"31\": 15.48, \"49\": 12.74, \"50\": 14.53, \"Cell Type\": \"T_CD4_naive\", \"Truth/Pred\": \"Truth\"}, {\"03\": 10.146, \"14\": 8.508, \"31\": 8.244, \"49\": 8.389, \"50\": 7.674, \"Cell Type\": \"T_CD4_central_memory\", \"Truth/Pred\": \"Truth\"}, {\"03\": 4.844, \"14\": 3.232, \"31\": 3.624, \"49\": 6.605, \"50\": 1.654, \"Cell Type\": \"T_CD4_effector_memory\", \"Truth/Pred\": \"Truth\"}, {\"03\": 24.16, \"14\": 23.85, \"31\": 23.93, \"49\": 23.95, \"50\": 10.83, \"Cell Type\": \"T_CD8_naive\", \"Truth/Pred\": \"Truth\"}, {\"03\": 0.0, \"14\": 0.0, \"31\": 0.0, \"49\": 0.0, \"50\": 0.0, \"Cell Type\": \"T_CD8_central_memory\", \"Truth/Pred\": \"Truth\"}, {\"03\": 0.0, \"14\": 0.0, \"31\": 0.0, \"49\": 0.0, \"50\": 0.0, \"Cell Type\": \"T_CD8_effector_memory\", \"Truth/Pred\": \"Truth\"}, {\"03\": 0.0, \"14\": 0.0, \"31\": 0.0, \"49\": 0.0, \"50\": 0.0, \"Cell Type\": \"T_CD8_effector_memory_terminal\", \"Truth/Pred\": \"Truth\"}, {\"03\": 0.28, \"14\": 0.12, \"31\": 0.11, \"49\": 0.19, \"50\": 0.14, \"Cell Type\": \"Treg\", \"Truth/Pred\": \"Truth\"}, {\"03\": 6.2, \"14\": 11.99, \"31\": 14.17, \"49\": 3.74, \"50\": 6.16, \"Cell Type\": \"NK_Cell\", \"Truth/Pred\": \"Truth\"}, {\"03\": 5.25, \"14\": 4.73, \"31\": 5.58, \"49\": 6.96, \"50\": 8.99, \"Cell Type\": \"B_Cell_naive\", \"Truth/Pred\": \"Truth\"}, {\"03\": 2.29, \"14\": 4.29, \"31\": 2.94, \"49\": 3.06, \"50\": 2.14, \"Cell Type\": \"B_Cell_memory\", \"Truth/Pred\": \"Truth\"}, {\"03\": 0.0, \"14\": 0.0, \"31\": 0.0, \"49\": 0.0, \"50\": 0.0, \"Cell Type\": \"Plasma_Cell\", \"Truth/Pred\": \"Truth\"}, {\"03\": 5.43, \"14\": 4.94, \"31\": 7.77, \"49\": 6.39, \"50\": 22.45, \"Cell Type\": \"Monocyte\", \"Truth/Pred\": \"Truth\"}, {\"03\": 0.69, \"14\": 0.44, \"31\": 0.35, \"49\": 0.34, \"50\": 0.52, \"Cell Type\": \"Dendritic\", \"Truth/Pred\": \"Truth\"}, {\"03\": 0.11066216757156937, \"14\": 5.42893016663467, \"31\": 3.079166273014567, \"49\": 5.269578481215808, \"50\": 14.054663946101307, \"Cell Type\": \"T_CD4_naive\", \"Truth/Pred\": \"Prediction\"}, {\"03\": 5.901175134140313, \"14\": 7.299224404345026, \"31\": 6.895459942610074, \"49\": 6.45751487638773, \"50\": 0.12244374176984059, \"Cell Type\": \"T_CD4_central_memory\", \"Truth/Pred\": \"Prediction\"}, {\"03\": 1.3407204478339831, \"14\": 5.0080181715158805, \"31\": 8.194095433300136, \"49\": 8.704422689370716, \"50\": 6.0804064147808825, \"Cell Type\": \"T_CD4_effector_memory\", \"Truth/Pred\": \"Prediction\"}, {\"03\": 0.5909243919445896, \"14\": 9.137044925105153, \"31\": 5.070651421059026, \"49\": 11.869471166805662, \"50\": 13.474265605633462, \"Cell Type\": \"T_CD8_naive\", \"Truth/Pred\": \"Prediction\"}, {\"03\": 8.10469281102557, \"14\": 14.419291827885614, \"31\": 14.161641633222873, \"49\": 11.956397144331504, \"50\": 3.0774632286546204, \"Cell Type\": \"T_CD8_central_memory\", \"Truth/Pred\": \"Prediction\"}, {\"03\": 5.7584548649214815, \"14\": 1.4224598760695613, \"31\": 0.5488156270578883, \"49\": 10.157579239397462, \"50\": 0.3281680745392974, \"Cell Type\": \"T_CD8_effector_memory\", \"Truth/Pred\": \"Prediction\"}, {\"03\": 10.6144666779686, \"14\": 10.977597131433454, \"31\": 11.525835870158001, \"49\": 1.4309057463413977, \"50\": 10.506421793110828, \"Cell Type\": \"T_CD8_effector_memory_terminal\", \"Truth/Pred\": \"Prediction\"}, {\"03\": 7.655882700032483, \"14\": 4.314585574403531, \"31\": 5.193319354560272, \"49\": 15.949765407408105, \"50\": 2.8787528665149917, \"Cell Type\": \"Treg\", \"Truth/Pred\": \"Prediction\"}, {\"03\": 10.606259157468488, \"14\": 4.405684368112994, \"31\": 10.85388238459188, \"49\": 0.6815837625916197, \"50\": 8.234833923604496, \"Cell Type\": \"NK_Cell\", \"Truth/Pred\": \"Prediction\"}, {\"03\": 8.52715541127719, \"14\": 11.099545393815978, \"31\": 13.270661528855047, \"49\": 13.887769478017976, \"50\": 9.090701804773687, \"Cell Type\": \"B_Cell_naive\", \"Truth/Pred\": \"Prediction\"}, {\"03\": 9.83044855262663, \"14\": 0.2753039148872262, \"31\": 5.4077928523265575, \"49\": 0.650829279491283, \"50\": 14.901284124741856, \"Cell Type\": \"B_Cell_memory\", \"Truth/Pred\": \"Prediction\"}, {\"03\": 9.785688157455075, \"14\": 7.725518116107065, \"31\": 14.001653012010403, \"49\": 4.743817630069175, \"50\": 1.393177028477986, \"Cell Type\": \"Plasma_Cell\", \"Truth/Pred\": \"Prediction\"}, {\"03\": 9.856772114984178, \"14\": 12.751073990347715, \"31\": 1.181008263915207, \"49\": 3.6437251157068884, \"50\": 0.9688203599241738, \"Cell Type\": \"Monocyte\", \"Truth/Pred\": \"Prediction\"}, {\"03\": 11.316697410749853, \"14\": 5.735722139336126, \"31\": 0.6160164033180632, \"49\": 4.596639982864682, \"50\": 14.8885970873726, \"Cell Type\": \"Dendritic\", \"Truth/Pred\": \"Prediction\"}]}}, {\"mode\": \"vega-lite\"});\n",
              "</script>"
            ],
            "text/plain": [
              "alt.Chart(...)"
            ]
          },
          "metadata": {}
        },
        {
          "output_type": "display_data",
          "data": {
            "text/html": [
              "\n",
              "<div id=\"altair-viz-a4f1d41747c345afa966b18e3edfa511\"></div>\n",
              "<script type=\"text/javascript\">\n",
              "  var VEGA_DEBUG = (typeof VEGA_DEBUG == \"undefined\") ? {} : VEGA_DEBUG;\n",
              "  (function(spec, embedOpt){\n",
              "    let outputDiv = document.currentScript.previousElementSibling;\n",
              "    if (outputDiv.id !== \"altair-viz-a4f1d41747c345afa966b18e3edfa511\") {\n",
              "      outputDiv = document.getElementById(\"altair-viz-a4f1d41747c345afa966b18e3edfa511\");\n",
              "    }\n",
              "    const paths = {\n",
              "      \"vega\": \"https://cdn.jsdelivr.net/npm//vega@5?noext\",\n",
              "      \"vega-lib\": \"https://cdn.jsdelivr.net/npm//vega-lib?noext\",\n",
              "      \"vega-lite\": \"https://cdn.jsdelivr.net/npm//vega-lite@4.17.0?noext\",\n",
              "      \"vega-embed\": \"https://cdn.jsdelivr.net/npm//vega-embed@6?noext\",\n",
              "    };\n",
              "\n",
              "    function maybeLoadScript(lib, version) {\n",
              "      var key = `${lib.replace(\"-\", \"\")}_version`;\n",
              "      return (VEGA_DEBUG[key] == version) ?\n",
              "        Promise.resolve(paths[lib]) :\n",
              "        new Promise(function(resolve, reject) {\n",
              "          var s = document.createElement('script');\n",
              "          document.getElementsByTagName(\"head\")[0].appendChild(s);\n",
              "          s.async = true;\n",
              "          s.onload = () => {\n",
              "            VEGA_DEBUG[key] = version;\n",
              "            return resolve(paths[lib]);\n",
              "          };\n",
              "          s.onerror = () => reject(`Error loading script: ${paths[lib]}`);\n",
              "          s.src = paths[lib];\n",
              "        });\n",
              "    }\n",
              "\n",
              "    function showError(err) {\n",
              "      outputDiv.innerHTML = `<div class=\"error\" style=\"color:red;\">${err}</div>`;\n",
              "      throw err;\n",
              "    }\n",
              "\n",
              "    function displayChart(vegaEmbed) {\n",
              "      vegaEmbed(outputDiv, spec, embedOpt)\n",
              "        .catch(err => showError(`Javascript Error: ${err.message}<br>This usually means there's a typo in your chart specification. See the javascript console for the full traceback.`));\n",
              "    }\n",
              "\n",
              "    if(typeof define === \"function\" && define.amd) {\n",
              "      requirejs.config({paths});\n",
              "      require([\"vega-embed\"], displayChart, err => showError(`Error loading script: ${err.message}`));\n",
              "    } else {\n",
              "      maybeLoadScript(\"vega\", \"5\")\n",
              "        .then(() => maybeLoadScript(\"vega-lite\", \"4.17.0\"))\n",
              "        .then(() => maybeLoadScript(\"vega-embed\", \"6\"))\n",
              "        .catch(showError)\n",
              "        .then(() => displayChart(vegaEmbed));\n",
              "    }\n",
              "  })({\"config\": {\"view\": {\"continuousWidth\": 400, \"continuousHeight\": 300}, \"axisX\": {\"disable\": true}}, \"data\": {\"name\": \"data-b12d9ac2fb1f15c85a33e56b1ceed771\"}, \"mark\": \"bar\", \"encoding\": {\"color\": {\"field\": \"Truth/Pred\", \"type\": \"nominal\"}, \"column\": {\"field\": \"Cell Type\", \"header\": {\"labelAlign\": \"left\", \"labelAngle\": -45, \"labels\": false, \"orient\": \"bottom\"}, \"title\": \"\", \"type\": \"nominal\"}, \"x\": {\"field\": \"Truth/Pred\", \"title\": \"\", \"type\": \"nominal\"}, \"y\": {\"field\": \"31\", \"title\": \"Percent\", \"type\": \"quantitative\"}}, \"title\": {\"text\": \"Patient 31: Truth vs Predictions for Cell Type Percentages(Flow First Data)\", \"anchor\": \"middle\"}, \"$schema\": \"https://vega.github.io/schema/vega-lite/v4.17.0.json\", \"datasets\": {\"data-b12d9ac2fb1f15c85a33e56b1ceed771\": [{\"03\": 13.95, \"14\": 11.51, \"31\": 15.48, \"49\": 12.74, \"50\": 14.53, \"Cell Type\": \"T_CD4_naive\", \"Truth/Pred\": \"Truth\"}, {\"03\": 10.146, \"14\": 8.508, \"31\": 8.244, \"49\": 8.389, \"50\": 7.674, \"Cell Type\": \"T_CD4_central_memory\", \"Truth/Pred\": \"Truth\"}, {\"03\": 4.844, \"14\": 3.232, \"31\": 3.624, \"49\": 6.605, \"50\": 1.654, \"Cell Type\": \"T_CD4_effector_memory\", \"Truth/Pred\": \"Truth\"}, {\"03\": 24.16, \"14\": 23.85, \"31\": 23.93, \"49\": 23.95, \"50\": 10.83, \"Cell Type\": \"T_CD8_naive\", \"Truth/Pred\": \"Truth\"}, {\"03\": 0.0, \"14\": 0.0, \"31\": 0.0, \"49\": 0.0, \"50\": 0.0, \"Cell Type\": \"T_CD8_central_memory\", \"Truth/Pred\": \"Truth\"}, {\"03\": 0.0, \"14\": 0.0, \"31\": 0.0, \"49\": 0.0, \"50\": 0.0, \"Cell Type\": \"T_CD8_effector_memory\", \"Truth/Pred\": \"Truth\"}, {\"03\": 0.0, \"14\": 0.0, \"31\": 0.0, \"49\": 0.0, \"50\": 0.0, \"Cell Type\": \"T_CD8_effector_memory_terminal\", \"Truth/Pred\": \"Truth\"}, {\"03\": 0.28, \"14\": 0.12, \"31\": 0.11, \"49\": 0.19, \"50\": 0.14, \"Cell Type\": \"Treg\", \"Truth/Pred\": \"Truth\"}, {\"03\": 6.2, \"14\": 11.99, \"31\": 14.17, \"49\": 3.74, \"50\": 6.16, \"Cell Type\": \"NK_Cell\", \"Truth/Pred\": \"Truth\"}, {\"03\": 5.25, \"14\": 4.73, \"31\": 5.58, \"49\": 6.96, \"50\": 8.99, \"Cell Type\": \"B_Cell_naive\", \"Truth/Pred\": \"Truth\"}, {\"03\": 2.29, \"14\": 4.29, \"31\": 2.94, \"49\": 3.06, \"50\": 2.14, \"Cell Type\": \"B_Cell_memory\", \"Truth/Pred\": \"Truth\"}, {\"03\": 0.0, \"14\": 0.0, \"31\": 0.0, \"49\": 0.0, \"50\": 0.0, \"Cell Type\": \"Plasma_Cell\", \"Truth/Pred\": \"Truth\"}, {\"03\": 5.43, \"14\": 4.94, \"31\": 7.77, \"49\": 6.39, \"50\": 22.45, \"Cell Type\": \"Monocyte\", \"Truth/Pred\": \"Truth\"}, {\"03\": 0.69, \"14\": 0.44, \"31\": 0.35, \"49\": 0.34, \"50\": 0.52, \"Cell Type\": \"Dendritic\", \"Truth/Pred\": \"Truth\"}, {\"03\": 0.11066216757156937, \"14\": 5.42893016663467, \"31\": 3.079166273014567, \"49\": 5.269578481215808, \"50\": 14.054663946101307, \"Cell Type\": \"T_CD4_naive\", \"Truth/Pred\": \"Prediction\"}, {\"03\": 5.901175134140313, \"14\": 7.299224404345026, \"31\": 6.895459942610074, \"49\": 6.45751487638773, \"50\": 0.12244374176984059, \"Cell Type\": \"T_CD4_central_memory\", \"Truth/Pred\": \"Prediction\"}, {\"03\": 1.3407204478339831, \"14\": 5.0080181715158805, \"31\": 8.194095433300136, \"49\": 8.704422689370716, \"50\": 6.0804064147808825, \"Cell Type\": \"T_CD4_effector_memory\", \"Truth/Pred\": \"Prediction\"}, {\"03\": 0.5909243919445896, \"14\": 9.137044925105153, \"31\": 5.070651421059026, \"49\": 11.869471166805662, \"50\": 13.474265605633462, \"Cell Type\": \"T_CD8_naive\", \"Truth/Pred\": \"Prediction\"}, {\"03\": 8.10469281102557, \"14\": 14.419291827885614, \"31\": 14.161641633222873, \"49\": 11.956397144331504, \"50\": 3.0774632286546204, \"Cell Type\": \"T_CD8_central_memory\", \"Truth/Pred\": \"Prediction\"}, {\"03\": 5.7584548649214815, \"14\": 1.4224598760695613, \"31\": 0.5488156270578883, \"49\": 10.157579239397462, \"50\": 0.3281680745392974, \"Cell Type\": \"T_CD8_effector_memory\", \"Truth/Pred\": \"Prediction\"}, {\"03\": 10.6144666779686, \"14\": 10.977597131433454, \"31\": 11.525835870158001, \"49\": 1.4309057463413977, \"50\": 10.506421793110828, \"Cell Type\": \"T_CD8_effector_memory_terminal\", \"Truth/Pred\": \"Prediction\"}, {\"03\": 7.655882700032483, \"14\": 4.314585574403531, \"31\": 5.193319354560272, \"49\": 15.949765407408105, \"50\": 2.8787528665149917, \"Cell Type\": \"Treg\", \"Truth/Pred\": \"Prediction\"}, {\"03\": 10.606259157468488, \"14\": 4.405684368112994, \"31\": 10.85388238459188, \"49\": 0.6815837625916197, \"50\": 8.234833923604496, \"Cell Type\": \"NK_Cell\", \"Truth/Pred\": \"Prediction\"}, {\"03\": 8.52715541127719, \"14\": 11.099545393815978, \"31\": 13.270661528855047, \"49\": 13.887769478017976, \"50\": 9.090701804773687, \"Cell Type\": \"B_Cell_naive\", \"Truth/Pred\": \"Prediction\"}, {\"03\": 9.83044855262663, \"14\": 0.2753039148872262, \"31\": 5.4077928523265575, \"49\": 0.650829279491283, \"50\": 14.901284124741856, \"Cell Type\": \"B_Cell_memory\", \"Truth/Pred\": \"Prediction\"}, {\"03\": 9.785688157455075, \"14\": 7.725518116107065, \"31\": 14.001653012010403, \"49\": 4.743817630069175, \"50\": 1.393177028477986, \"Cell Type\": \"Plasma_Cell\", \"Truth/Pred\": \"Prediction\"}, {\"03\": 9.856772114984178, \"14\": 12.751073990347715, \"31\": 1.181008263915207, \"49\": 3.6437251157068884, \"50\": 0.9688203599241738, \"Cell Type\": \"Monocyte\", \"Truth/Pred\": \"Prediction\"}, {\"03\": 11.316697410749853, \"14\": 5.735722139336126, \"31\": 0.6160164033180632, \"49\": 4.596639982864682, \"50\": 14.8885970873726, \"Cell Type\": \"Dendritic\", \"Truth/Pred\": \"Prediction\"}]}}, {\"mode\": \"vega-lite\"});\n",
              "</script>"
            ],
            "text/plain": [
              "alt.Chart(...)"
            ]
          },
          "metadata": {}
        },
        {
          "output_type": "display_data",
          "data": {
            "text/html": [
              "\n",
              "<div id=\"altair-viz-e9ed9c1e4b944f1f976d45b4618a208b\"></div>\n",
              "<script type=\"text/javascript\">\n",
              "  var VEGA_DEBUG = (typeof VEGA_DEBUG == \"undefined\") ? {} : VEGA_DEBUG;\n",
              "  (function(spec, embedOpt){\n",
              "    let outputDiv = document.currentScript.previousElementSibling;\n",
              "    if (outputDiv.id !== \"altair-viz-e9ed9c1e4b944f1f976d45b4618a208b\") {\n",
              "      outputDiv = document.getElementById(\"altair-viz-e9ed9c1e4b944f1f976d45b4618a208b\");\n",
              "    }\n",
              "    const paths = {\n",
              "      \"vega\": \"https://cdn.jsdelivr.net/npm//vega@5?noext\",\n",
              "      \"vega-lib\": \"https://cdn.jsdelivr.net/npm//vega-lib?noext\",\n",
              "      \"vega-lite\": \"https://cdn.jsdelivr.net/npm//vega-lite@4.17.0?noext\",\n",
              "      \"vega-embed\": \"https://cdn.jsdelivr.net/npm//vega-embed@6?noext\",\n",
              "    };\n",
              "\n",
              "    function maybeLoadScript(lib, version) {\n",
              "      var key = `${lib.replace(\"-\", \"\")}_version`;\n",
              "      return (VEGA_DEBUG[key] == version) ?\n",
              "        Promise.resolve(paths[lib]) :\n",
              "        new Promise(function(resolve, reject) {\n",
              "          var s = document.createElement('script');\n",
              "          document.getElementsByTagName(\"head\")[0].appendChild(s);\n",
              "          s.async = true;\n",
              "          s.onload = () => {\n",
              "            VEGA_DEBUG[key] = version;\n",
              "            return resolve(paths[lib]);\n",
              "          };\n",
              "          s.onerror = () => reject(`Error loading script: ${paths[lib]}`);\n",
              "          s.src = paths[lib];\n",
              "        });\n",
              "    }\n",
              "\n",
              "    function showError(err) {\n",
              "      outputDiv.innerHTML = `<div class=\"error\" style=\"color:red;\">${err}</div>`;\n",
              "      throw err;\n",
              "    }\n",
              "\n",
              "    function displayChart(vegaEmbed) {\n",
              "      vegaEmbed(outputDiv, spec, embedOpt)\n",
              "        .catch(err => showError(`Javascript Error: ${err.message}<br>This usually means there's a typo in your chart specification. See the javascript console for the full traceback.`));\n",
              "    }\n",
              "\n",
              "    if(typeof define === \"function\" && define.amd) {\n",
              "      requirejs.config({paths});\n",
              "      require([\"vega-embed\"], displayChart, err => showError(`Error loading script: ${err.message}`));\n",
              "    } else {\n",
              "      maybeLoadScript(\"vega\", \"5\")\n",
              "        .then(() => maybeLoadScript(\"vega-lite\", \"4.17.0\"))\n",
              "        .then(() => maybeLoadScript(\"vega-embed\", \"6\"))\n",
              "        .catch(showError)\n",
              "        .then(() => displayChart(vegaEmbed));\n",
              "    }\n",
              "  })({\"config\": {\"view\": {\"continuousWidth\": 400, \"continuousHeight\": 300}, \"axisX\": {\"disable\": true}}, \"data\": {\"name\": \"data-b12d9ac2fb1f15c85a33e56b1ceed771\"}, \"mark\": \"bar\", \"encoding\": {\"color\": {\"field\": \"Truth/Pred\", \"type\": \"nominal\"}, \"column\": {\"field\": \"Cell Type\", \"header\": {\"labelAlign\": \"left\", \"labelAngle\": -45, \"labels\": false, \"orient\": \"bottom\"}, \"title\": \"\", \"type\": \"nominal\"}, \"x\": {\"field\": \"Truth/Pred\", \"title\": \"\", \"type\": \"nominal\"}, \"y\": {\"field\": \"49\", \"title\": \"Percent\", \"type\": \"quantitative\"}}, \"title\": {\"text\": \"Patient 49: Truth vs Predictions for Cell Type Percentages(Flow First Data)\", \"anchor\": \"middle\"}, \"$schema\": \"https://vega.github.io/schema/vega-lite/v4.17.0.json\", \"datasets\": {\"data-b12d9ac2fb1f15c85a33e56b1ceed771\": [{\"03\": 13.95, \"14\": 11.51, \"31\": 15.48, \"49\": 12.74, \"50\": 14.53, \"Cell Type\": \"T_CD4_naive\", \"Truth/Pred\": \"Truth\"}, {\"03\": 10.146, \"14\": 8.508, \"31\": 8.244, \"49\": 8.389, \"50\": 7.674, \"Cell Type\": \"T_CD4_central_memory\", \"Truth/Pred\": \"Truth\"}, {\"03\": 4.844, \"14\": 3.232, \"31\": 3.624, \"49\": 6.605, \"50\": 1.654, \"Cell Type\": \"T_CD4_effector_memory\", \"Truth/Pred\": \"Truth\"}, {\"03\": 24.16, \"14\": 23.85, \"31\": 23.93, \"49\": 23.95, \"50\": 10.83, \"Cell Type\": \"T_CD8_naive\", \"Truth/Pred\": \"Truth\"}, {\"03\": 0.0, \"14\": 0.0, \"31\": 0.0, \"49\": 0.0, \"50\": 0.0, \"Cell Type\": \"T_CD8_central_memory\", \"Truth/Pred\": \"Truth\"}, {\"03\": 0.0, \"14\": 0.0, \"31\": 0.0, \"49\": 0.0, \"50\": 0.0, \"Cell Type\": \"T_CD8_effector_memory\", \"Truth/Pred\": \"Truth\"}, {\"03\": 0.0, \"14\": 0.0, \"31\": 0.0, \"49\": 0.0, \"50\": 0.0, \"Cell Type\": \"T_CD8_effector_memory_terminal\", \"Truth/Pred\": \"Truth\"}, {\"03\": 0.28, \"14\": 0.12, \"31\": 0.11, \"49\": 0.19, \"50\": 0.14, \"Cell Type\": \"Treg\", \"Truth/Pred\": \"Truth\"}, {\"03\": 6.2, \"14\": 11.99, \"31\": 14.17, \"49\": 3.74, \"50\": 6.16, \"Cell Type\": \"NK_Cell\", \"Truth/Pred\": \"Truth\"}, {\"03\": 5.25, \"14\": 4.73, \"31\": 5.58, \"49\": 6.96, \"50\": 8.99, \"Cell Type\": \"B_Cell_naive\", \"Truth/Pred\": \"Truth\"}, {\"03\": 2.29, \"14\": 4.29, \"31\": 2.94, \"49\": 3.06, \"50\": 2.14, \"Cell Type\": \"B_Cell_memory\", \"Truth/Pred\": \"Truth\"}, {\"03\": 0.0, \"14\": 0.0, \"31\": 0.0, \"49\": 0.0, \"50\": 0.0, \"Cell Type\": \"Plasma_Cell\", \"Truth/Pred\": \"Truth\"}, {\"03\": 5.43, \"14\": 4.94, \"31\": 7.77, \"49\": 6.39, \"50\": 22.45, \"Cell Type\": \"Monocyte\", \"Truth/Pred\": \"Truth\"}, {\"03\": 0.69, \"14\": 0.44, \"31\": 0.35, \"49\": 0.34, \"50\": 0.52, \"Cell Type\": \"Dendritic\", \"Truth/Pred\": \"Truth\"}, {\"03\": 0.11066216757156937, \"14\": 5.42893016663467, \"31\": 3.079166273014567, \"49\": 5.269578481215808, \"50\": 14.054663946101307, \"Cell Type\": \"T_CD4_naive\", \"Truth/Pred\": \"Prediction\"}, {\"03\": 5.901175134140313, \"14\": 7.299224404345026, \"31\": 6.895459942610074, \"49\": 6.45751487638773, \"50\": 0.12244374176984059, \"Cell Type\": \"T_CD4_central_memory\", \"Truth/Pred\": \"Prediction\"}, {\"03\": 1.3407204478339831, \"14\": 5.0080181715158805, \"31\": 8.194095433300136, \"49\": 8.704422689370716, \"50\": 6.0804064147808825, \"Cell Type\": \"T_CD4_effector_memory\", \"Truth/Pred\": \"Prediction\"}, {\"03\": 0.5909243919445896, \"14\": 9.137044925105153, \"31\": 5.070651421059026, \"49\": 11.869471166805662, \"50\": 13.474265605633462, \"Cell Type\": \"T_CD8_naive\", \"Truth/Pred\": \"Prediction\"}, {\"03\": 8.10469281102557, \"14\": 14.419291827885614, \"31\": 14.161641633222873, \"49\": 11.956397144331504, \"50\": 3.0774632286546204, \"Cell Type\": \"T_CD8_central_memory\", \"Truth/Pred\": \"Prediction\"}, {\"03\": 5.7584548649214815, \"14\": 1.4224598760695613, \"31\": 0.5488156270578883, \"49\": 10.157579239397462, \"50\": 0.3281680745392974, \"Cell Type\": \"T_CD8_effector_memory\", \"Truth/Pred\": \"Prediction\"}, {\"03\": 10.6144666779686, \"14\": 10.977597131433454, \"31\": 11.525835870158001, \"49\": 1.4309057463413977, \"50\": 10.506421793110828, \"Cell Type\": \"T_CD8_effector_memory_terminal\", \"Truth/Pred\": \"Prediction\"}, {\"03\": 7.655882700032483, \"14\": 4.314585574403531, \"31\": 5.193319354560272, \"49\": 15.949765407408105, \"50\": 2.8787528665149917, \"Cell Type\": \"Treg\", \"Truth/Pred\": \"Prediction\"}, {\"03\": 10.606259157468488, \"14\": 4.405684368112994, \"31\": 10.85388238459188, \"49\": 0.6815837625916197, \"50\": 8.234833923604496, \"Cell Type\": \"NK_Cell\", \"Truth/Pred\": \"Prediction\"}, {\"03\": 8.52715541127719, \"14\": 11.099545393815978, \"31\": 13.270661528855047, \"49\": 13.887769478017976, \"50\": 9.090701804773687, \"Cell Type\": \"B_Cell_naive\", \"Truth/Pred\": \"Prediction\"}, {\"03\": 9.83044855262663, \"14\": 0.2753039148872262, \"31\": 5.4077928523265575, \"49\": 0.650829279491283, \"50\": 14.901284124741856, \"Cell Type\": \"B_Cell_memory\", \"Truth/Pred\": \"Prediction\"}, {\"03\": 9.785688157455075, \"14\": 7.725518116107065, \"31\": 14.001653012010403, \"49\": 4.743817630069175, \"50\": 1.393177028477986, \"Cell Type\": \"Plasma_Cell\", \"Truth/Pred\": \"Prediction\"}, {\"03\": 9.856772114984178, \"14\": 12.751073990347715, \"31\": 1.181008263915207, \"49\": 3.6437251157068884, \"50\": 0.9688203599241738, \"Cell Type\": \"Monocyte\", \"Truth/Pred\": \"Prediction\"}, {\"03\": 11.316697410749853, \"14\": 5.735722139336126, \"31\": 0.6160164033180632, \"49\": 4.596639982864682, \"50\": 14.8885970873726, \"Cell Type\": \"Dendritic\", \"Truth/Pred\": \"Prediction\"}]}}, {\"mode\": \"vega-lite\"});\n",
              "</script>"
            ],
            "text/plain": [
              "alt.Chart(...)"
            ]
          },
          "metadata": {}
        },
        {
          "output_type": "display_data",
          "data": {
            "text/html": [
              "\n",
              "<div id=\"altair-viz-7e940e8c9e9146c980ec75e5bfa95f30\"></div>\n",
              "<script type=\"text/javascript\">\n",
              "  var VEGA_DEBUG = (typeof VEGA_DEBUG == \"undefined\") ? {} : VEGA_DEBUG;\n",
              "  (function(spec, embedOpt){\n",
              "    let outputDiv = document.currentScript.previousElementSibling;\n",
              "    if (outputDiv.id !== \"altair-viz-7e940e8c9e9146c980ec75e5bfa95f30\") {\n",
              "      outputDiv = document.getElementById(\"altair-viz-7e940e8c9e9146c980ec75e5bfa95f30\");\n",
              "    }\n",
              "    const paths = {\n",
              "      \"vega\": \"https://cdn.jsdelivr.net/npm//vega@5?noext\",\n",
              "      \"vega-lib\": \"https://cdn.jsdelivr.net/npm//vega-lib?noext\",\n",
              "      \"vega-lite\": \"https://cdn.jsdelivr.net/npm//vega-lite@4.17.0?noext\",\n",
              "      \"vega-embed\": \"https://cdn.jsdelivr.net/npm//vega-embed@6?noext\",\n",
              "    };\n",
              "\n",
              "    function maybeLoadScript(lib, version) {\n",
              "      var key = `${lib.replace(\"-\", \"\")}_version`;\n",
              "      return (VEGA_DEBUG[key] == version) ?\n",
              "        Promise.resolve(paths[lib]) :\n",
              "        new Promise(function(resolve, reject) {\n",
              "          var s = document.createElement('script');\n",
              "          document.getElementsByTagName(\"head\")[0].appendChild(s);\n",
              "          s.async = true;\n",
              "          s.onload = () => {\n",
              "            VEGA_DEBUG[key] = version;\n",
              "            return resolve(paths[lib]);\n",
              "          };\n",
              "          s.onerror = () => reject(`Error loading script: ${paths[lib]}`);\n",
              "          s.src = paths[lib];\n",
              "        });\n",
              "    }\n",
              "\n",
              "    function showError(err) {\n",
              "      outputDiv.innerHTML = `<div class=\"error\" style=\"color:red;\">${err}</div>`;\n",
              "      throw err;\n",
              "    }\n",
              "\n",
              "    function displayChart(vegaEmbed) {\n",
              "      vegaEmbed(outputDiv, spec, embedOpt)\n",
              "        .catch(err => showError(`Javascript Error: ${err.message}<br>This usually means there's a typo in your chart specification. See the javascript console for the full traceback.`));\n",
              "    }\n",
              "\n",
              "    if(typeof define === \"function\" && define.amd) {\n",
              "      requirejs.config({paths});\n",
              "      require([\"vega-embed\"], displayChart, err => showError(`Error loading script: ${err.message}`));\n",
              "    } else {\n",
              "      maybeLoadScript(\"vega\", \"5\")\n",
              "        .then(() => maybeLoadScript(\"vega-lite\", \"4.17.0\"))\n",
              "        .then(() => maybeLoadScript(\"vega-embed\", \"6\"))\n",
              "        .catch(showError)\n",
              "        .then(() => displayChart(vegaEmbed));\n",
              "    }\n",
              "  })({\"config\": {\"view\": {\"continuousWidth\": 400, \"continuousHeight\": 300}, \"axisX\": {\"disable\": true}}, \"data\": {\"name\": \"data-b12d9ac2fb1f15c85a33e56b1ceed771\"}, \"mark\": \"bar\", \"encoding\": {\"color\": {\"field\": \"Truth/Pred\", \"type\": \"nominal\"}, \"column\": {\"field\": \"Cell Type\", \"header\": {\"labelAlign\": \"left\", \"labelAngle\": -45, \"labels\": false, \"orient\": \"bottom\"}, \"title\": \"\", \"type\": \"nominal\"}, \"x\": {\"field\": \"Truth/Pred\", \"title\": \"\", \"type\": \"nominal\"}, \"y\": {\"field\": \"50\", \"title\": \"Percent\", \"type\": \"quantitative\"}}, \"title\": {\"text\": \"Patient 50: Truth vs Predictions for Cell Type Percentages(Flow First Data)\", \"anchor\": \"middle\"}, \"$schema\": \"https://vega.github.io/schema/vega-lite/v4.17.0.json\", \"datasets\": {\"data-b12d9ac2fb1f15c85a33e56b1ceed771\": [{\"03\": 13.95, \"14\": 11.51, \"31\": 15.48, \"49\": 12.74, \"50\": 14.53, \"Cell Type\": \"T_CD4_naive\", \"Truth/Pred\": \"Truth\"}, {\"03\": 10.146, \"14\": 8.508, \"31\": 8.244, \"49\": 8.389, \"50\": 7.674, \"Cell Type\": \"T_CD4_central_memory\", \"Truth/Pred\": \"Truth\"}, {\"03\": 4.844, \"14\": 3.232, \"31\": 3.624, \"49\": 6.605, \"50\": 1.654, \"Cell Type\": \"T_CD4_effector_memory\", \"Truth/Pred\": \"Truth\"}, {\"03\": 24.16, \"14\": 23.85, \"31\": 23.93, \"49\": 23.95, \"50\": 10.83, \"Cell Type\": \"T_CD8_naive\", \"Truth/Pred\": \"Truth\"}, {\"03\": 0.0, \"14\": 0.0, \"31\": 0.0, \"49\": 0.0, \"50\": 0.0, \"Cell Type\": \"T_CD8_central_memory\", \"Truth/Pred\": \"Truth\"}, {\"03\": 0.0, \"14\": 0.0, \"31\": 0.0, \"49\": 0.0, \"50\": 0.0, \"Cell Type\": \"T_CD8_effector_memory\", \"Truth/Pred\": \"Truth\"}, {\"03\": 0.0, \"14\": 0.0, \"31\": 0.0, \"49\": 0.0, \"50\": 0.0, \"Cell Type\": \"T_CD8_effector_memory_terminal\", \"Truth/Pred\": \"Truth\"}, {\"03\": 0.28, \"14\": 0.12, \"31\": 0.11, \"49\": 0.19, \"50\": 0.14, \"Cell Type\": \"Treg\", \"Truth/Pred\": \"Truth\"}, {\"03\": 6.2, \"14\": 11.99, \"31\": 14.17, \"49\": 3.74, \"50\": 6.16, \"Cell Type\": \"NK_Cell\", \"Truth/Pred\": \"Truth\"}, {\"03\": 5.25, \"14\": 4.73, \"31\": 5.58, \"49\": 6.96, \"50\": 8.99, \"Cell Type\": \"B_Cell_naive\", \"Truth/Pred\": \"Truth\"}, {\"03\": 2.29, \"14\": 4.29, \"31\": 2.94, \"49\": 3.06, \"50\": 2.14, \"Cell Type\": \"B_Cell_memory\", \"Truth/Pred\": \"Truth\"}, {\"03\": 0.0, \"14\": 0.0, \"31\": 0.0, \"49\": 0.0, \"50\": 0.0, \"Cell Type\": \"Plasma_Cell\", \"Truth/Pred\": \"Truth\"}, {\"03\": 5.43, \"14\": 4.94, \"31\": 7.77, \"49\": 6.39, \"50\": 22.45, \"Cell Type\": \"Monocyte\", \"Truth/Pred\": \"Truth\"}, {\"03\": 0.69, \"14\": 0.44, \"31\": 0.35, \"49\": 0.34, \"50\": 0.52, \"Cell Type\": \"Dendritic\", \"Truth/Pred\": \"Truth\"}, {\"03\": 0.11066216757156937, \"14\": 5.42893016663467, \"31\": 3.079166273014567, \"49\": 5.269578481215808, \"50\": 14.054663946101307, \"Cell Type\": \"T_CD4_naive\", \"Truth/Pred\": \"Prediction\"}, {\"03\": 5.901175134140313, \"14\": 7.299224404345026, \"31\": 6.895459942610074, \"49\": 6.45751487638773, \"50\": 0.12244374176984059, \"Cell Type\": \"T_CD4_central_memory\", \"Truth/Pred\": \"Prediction\"}, {\"03\": 1.3407204478339831, \"14\": 5.0080181715158805, \"31\": 8.194095433300136, \"49\": 8.704422689370716, \"50\": 6.0804064147808825, \"Cell Type\": \"T_CD4_effector_memory\", \"Truth/Pred\": \"Prediction\"}, {\"03\": 0.5909243919445896, \"14\": 9.137044925105153, \"31\": 5.070651421059026, \"49\": 11.869471166805662, \"50\": 13.474265605633462, \"Cell Type\": \"T_CD8_naive\", \"Truth/Pred\": \"Prediction\"}, {\"03\": 8.10469281102557, \"14\": 14.419291827885614, \"31\": 14.161641633222873, \"49\": 11.956397144331504, \"50\": 3.0774632286546204, \"Cell Type\": \"T_CD8_central_memory\", \"Truth/Pred\": \"Prediction\"}, {\"03\": 5.7584548649214815, \"14\": 1.4224598760695613, \"31\": 0.5488156270578883, \"49\": 10.157579239397462, \"50\": 0.3281680745392974, \"Cell Type\": \"T_CD8_effector_memory\", \"Truth/Pred\": \"Prediction\"}, {\"03\": 10.6144666779686, \"14\": 10.977597131433454, \"31\": 11.525835870158001, \"49\": 1.4309057463413977, \"50\": 10.506421793110828, \"Cell Type\": \"T_CD8_effector_memory_terminal\", \"Truth/Pred\": \"Prediction\"}, {\"03\": 7.655882700032483, \"14\": 4.314585574403531, \"31\": 5.193319354560272, \"49\": 15.949765407408105, \"50\": 2.8787528665149917, \"Cell Type\": \"Treg\", \"Truth/Pred\": \"Prediction\"}, {\"03\": 10.606259157468488, \"14\": 4.405684368112994, \"31\": 10.85388238459188, \"49\": 0.6815837625916197, \"50\": 8.234833923604496, \"Cell Type\": \"NK_Cell\", \"Truth/Pred\": \"Prediction\"}, {\"03\": 8.52715541127719, \"14\": 11.099545393815978, \"31\": 13.270661528855047, \"49\": 13.887769478017976, \"50\": 9.090701804773687, \"Cell Type\": \"B_Cell_naive\", \"Truth/Pred\": \"Prediction\"}, {\"03\": 9.83044855262663, \"14\": 0.2753039148872262, \"31\": 5.4077928523265575, \"49\": 0.650829279491283, \"50\": 14.901284124741856, \"Cell Type\": \"B_Cell_memory\", \"Truth/Pred\": \"Prediction\"}, {\"03\": 9.785688157455075, \"14\": 7.725518116107065, \"31\": 14.001653012010403, \"49\": 4.743817630069175, \"50\": 1.393177028477986, \"Cell Type\": \"Plasma_Cell\", \"Truth/Pred\": \"Prediction\"}, {\"03\": 9.856772114984178, \"14\": 12.751073990347715, \"31\": 1.181008263915207, \"49\": 3.6437251157068884, \"50\": 0.9688203599241738, \"Cell Type\": \"Monocyte\", \"Truth/Pred\": \"Prediction\"}, {\"03\": 11.316697410749853, \"14\": 5.735722139336126, \"31\": 0.6160164033180632, \"49\": 4.596639982864682, \"50\": 14.8885970873726, \"Cell Type\": \"Dendritic\", \"Truth/Pred\": \"Prediction\"}]}}, {\"mode\": \"vega-lite\"});\n",
              "</script>"
            ],
            "text/plain": [
              "alt.Chart(...)"
            ]
          },
          "metadata": {}
        }
      ]
    },
    {
      "cell_type": "code",
      "source": [
        "flow_first_diff"
      ],
      "metadata": {
        "colab": {
          "base_uri": "https://localhost:8080/"
        },
        "id": "28ndDKVb-j9X",
        "outputId": "aca07016-6e0e-4d33-84cf-761e07ca2bf3"
      },
      "execution_count": 74,
      "outputs": [
        {
          "output_type": "execute_result",
          "data": {
            "text/plain": [
              "array([[ 13.83933783,   4.24482487,   3.50327955,  23.56907561,\n",
              "         -8.10469281,  -5.75845486, -10.61446668,  -7.3758827 ,\n",
              "         -4.40625916,  -3.27715541,  -7.54044855,  -9.78568816,\n",
              "         -4.42677211, -10.62669741],\n",
              "       [  6.08106983,   1.2087756 ,  -1.77601817,  14.71295507,\n",
              "        -14.41929183,  -1.42245988, -10.97759713,  -4.19458557,\n",
              "          7.58431563,  -6.36954539,   4.01469609,  -7.72551812,\n",
              "         -7.81107399,  -5.29572214],\n",
              "       [ 12.40083373,   1.34854006,  -4.57009543,  18.85934858,\n",
              "        -14.16164163,  -0.54881563, -11.52583587,  -5.08331935,\n",
              "          3.31611762,  -7.69066153,  -2.46779285, -14.00165301,\n",
              "          6.58899174,  -0.2660164 ],\n",
              "       [  7.47042152,   1.93148512,  -2.09942269,  12.08052883,\n",
              "        -11.95639714, -10.15757924,  -1.43090575, -15.75976541,\n",
              "          3.05841624,  -6.92776948,   2.40917072,  -4.74381763,\n",
              "          2.74627488,  -4.25663998],\n",
              "       [  0.47533605,   7.55155626,  -4.42640641,  -2.64426561,\n",
              "         -3.07746323,  -0.32816807, -10.50642179,  -2.73875287,\n",
              "         -2.07483392,  -0.1007018 , -12.76128412,  -1.39317703,\n",
              "         21.48117964, -14.36859709]])"
            ]
          },
          "metadata": {},
          "execution_count": 74
        }
      ]
    },
    {
      "cell_type": "code",
      "source": [
        "diff_data = np.concatenate(([x for xs in flow_first_diff for x in xs],\n",
        "                            [x for xs in flow_second_diff for x in xs],\n",
        "                            [x for xs in cytof_diff for x in xs]))\n",
        "\n",
        "diff_dataf = pd.DataFrame(diff_data, columns = [\"Percentage\"])\n",
        "diff_dataf[\"Cell Type\"] = (len(diff_dataf) // len(CELL_TYPES)) * CELL_TYPES"
      ],
      "metadata": {
        "id": "c178MUIKl2pe"
      },
      "execution_count": 76,
      "outputs": []
    },
    {
      "cell_type": "code",
      "source": [
        "title = alt.TitleParams('Box-whisker Plot: Difference between Truth and Prediction per Cell Type', anchor='middle')\n",
        "alt.Chart(diff_dataf, title = title).mark_boxplot(extent='min-max').encode(\n",
        "    x=alt.X('Cell Type'),\n",
        "    y=alt.Y('Percentage', title = \"Percentage Difference\")\n",
        ")"
      ],
      "metadata": {
        "id": "FBWowW15sQrD",
        "colab": {
          "base_uri": "https://localhost:8080/",
          "height": 530
        },
        "outputId": "8b8215f0-3a38-4cc2-9878-e5ec53c805de"
      },
      "execution_count": 80,
      "outputs": [
        {
          "output_type": "execute_result",
          "data": {
            "text/html": [
              "\n",
              "<div id=\"altair-viz-00a515a092304c7aabebf4cfc00dab0d\"></div>\n",
              "<script type=\"text/javascript\">\n",
              "  var VEGA_DEBUG = (typeof VEGA_DEBUG == \"undefined\") ? {} : VEGA_DEBUG;\n",
              "  (function(spec, embedOpt){\n",
              "    let outputDiv = document.currentScript.previousElementSibling;\n",
              "    if (outputDiv.id !== \"altair-viz-00a515a092304c7aabebf4cfc00dab0d\") {\n",
              "      outputDiv = document.getElementById(\"altair-viz-00a515a092304c7aabebf4cfc00dab0d\");\n",
              "    }\n",
              "    const paths = {\n",
              "      \"vega\": \"https://cdn.jsdelivr.net/npm//vega@5?noext\",\n",
              "      \"vega-lib\": \"https://cdn.jsdelivr.net/npm//vega-lib?noext\",\n",
              "      \"vega-lite\": \"https://cdn.jsdelivr.net/npm//vega-lite@4.17.0?noext\",\n",
              "      \"vega-embed\": \"https://cdn.jsdelivr.net/npm//vega-embed@6?noext\",\n",
              "    };\n",
              "\n",
              "    function maybeLoadScript(lib, version) {\n",
              "      var key = `${lib.replace(\"-\", \"\")}_version`;\n",
              "      return (VEGA_DEBUG[key] == version) ?\n",
              "        Promise.resolve(paths[lib]) :\n",
              "        new Promise(function(resolve, reject) {\n",
              "          var s = document.createElement('script');\n",
              "          document.getElementsByTagName(\"head\")[0].appendChild(s);\n",
              "          s.async = true;\n",
              "          s.onload = () => {\n",
              "            VEGA_DEBUG[key] = version;\n",
              "            return resolve(paths[lib]);\n",
              "          };\n",
              "          s.onerror = () => reject(`Error loading script: ${paths[lib]}`);\n",
              "          s.src = paths[lib];\n",
              "        });\n",
              "    }\n",
              "\n",
              "    function showError(err) {\n",
              "      outputDiv.innerHTML = `<div class=\"error\" style=\"color:red;\">${err}</div>`;\n",
              "      throw err;\n",
              "    }\n",
              "\n",
              "    function displayChart(vegaEmbed) {\n",
              "      vegaEmbed(outputDiv, spec, embedOpt)\n",
              "        .catch(err => showError(`Javascript Error: ${err.message}<br>This usually means there's a typo in your chart specification. See the javascript console for the full traceback.`));\n",
              "    }\n",
              "\n",
              "    if(typeof define === \"function\" && define.amd) {\n",
              "      requirejs.config({paths});\n",
              "      require([\"vega-embed\"], displayChart, err => showError(`Error loading script: ${err.message}`));\n",
              "    } else {\n",
              "      maybeLoadScript(\"vega\", \"5\")\n",
              "        .then(() => maybeLoadScript(\"vega-lite\", \"4.17.0\"))\n",
              "        .then(() => maybeLoadScript(\"vega-embed\", \"6\"))\n",
              "        .catch(showError)\n",
              "        .then(() => displayChart(vegaEmbed));\n",
              "    }\n",
              "  })({\"config\": {\"view\": {\"continuousWidth\": 400, \"continuousHeight\": 300}}, \"data\": {\"name\": \"data-edd74dc2dd060219ef3f48fa2ac08b34\"}, \"mark\": {\"type\": \"boxplot\", \"extent\": \"min-max\"}, \"encoding\": {\"x\": {\"field\": \"Cell Type\", \"type\": \"nominal\"}, \"y\": {\"field\": \"Percentage\", \"title\": \"Percentage Difference\", \"type\": \"quantitative\"}}, \"title\": {\"text\": \"Box-whisker Plot: Difference between Truth and Prediction per Cell Type\", \"anchor\": \"middle\"}, \"$schema\": \"https://vega.github.io/schema/vega-lite/v4.17.0.json\", \"datasets\": {\"data-edd74dc2dd060219ef3f48fa2ac08b34\": [{\"Percentage\": 13.83933783242843, \"Cell Type\": \"T_CD4_naive\"}, {\"Percentage\": 4.244824865859687, \"Cell Type\": \"T_CD4_central_memory\"}, {\"Percentage\": 3.503279552166017, \"Cell Type\": \"T_CD4_effector_memory\"}, {\"Percentage\": 23.56907560805541, \"Cell Type\": \"T_CD8_naive\"}, {\"Percentage\": -8.10469281102557, \"Cell Type\": \"T_CD8_central_memory\"}, {\"Percentage\": -5.7584548649214815, \"Cell Type\": \"T_CD8_effector_memory\"}, {\"Percentage\": -10.6144666779686, \"Cell Type\": \"T_CD8_effector_memory_terminal\"}, {\"Percentage\": -7.3758827000324825, \"Cell Type\": \"Treg\"}, {\"Percentage\": -4.4062591574684875, \"Cell Type\": \"NK_Cell\"}, {\"Percentage\": -3.2771554112771906, \"Cell Type\": \"B_Cell_naive\"}, {\"Percentage\": -7.540448552626629, \"Cell Type\": \"B_Cell_memory\"}, {\"Percentage\": -9.785688157455075, \"Cell Type\": \"Plasma_Cell\"}, {\"Percentage\": -4.426772114984178, \"Cell Type\": \"Monocyte\"}, {\"Percentage\": -10.626697410749854, \"Cell Type\": \"Dendritic\"}, {\"Percentage\": 6.08106983336533, \"Cell Type\": \"T_CD4_naive\"}, {\"Percentage\": 1.2087755956549735, \"Cell Type\": \"T_CD4_central_memory\"}, {\"Percentage\": -1.7760181715158803, \"Cell Type\": \"T_CD4_effector_memory\"}, {\"Percentage\": 14.712955074894849, \"Cell Type\": \"T_CD8_naive\"}, {\"Percentage\": -14.419291827885614, \"Cell Type\": \"T_CD8_central_memory\"}, {\"Percentage\": -1.4224598760695613, \"Cell Type\": \"T_CD8_effector_memory\"}, {\"Percentage\": -10.977597131433454, \"Cell Type\": \"T_CD8_effector_memory_terminal\"}, {\"Percentage\": -4.194585574403531, \"Cell Type\": \"Treg\"}, {\"Percentage\": 7.584315631887006, \"Cell Type\": \"NK_Cell\"}, {\"Percentage\": -6.369545393815978, \"Cell Type\": \"B_Cell_naive\"}, {\"Percentage\": 4.0146960851127735, \"Cell Type\": \"B_Cell_memory\"}, {\"Percentage\": -7.725518116107065, \"Cell Type\": \"Plasma_Cell\"}, {\"Percentage\": -7.811073990347714, \"Cell Type\": \"Monocyte\"}, {\"Percentage\": -5.295722139336125, \"Cell Type\": \"Dendritic\"}, {\"Percentage\": 12.400833726985434, \"Cell Type\": \"T_CD4_naive\"}, {\"Percentage\": 1.3485400573899256, \"Cell Type\": \"T_CD4_central_memory\"}, {\"Percentage\": -4.570095433300136, \"Cell Type\": \"T_CD4_effector_memory\"}, {\"Percentage\": 18.859348578940974, \"Cell Type\": \"T_CD8_naive\"}, {\"Percentage\": -14.161641633222873, \"Cell Type\": \"T_CD8_central_memory\"}, {\"Percentage\": -0.5488156270578883, \"Cell Type\": \"T_CD8_effector_memory\"}, {\"Percentage\": -11.525835870158001, \"Cell Type\": \"T_CD8_effector_memory_terminal\"}, {\"Percentage\": -5.083319354560271, \"Cell Type\": \"Treg\"}, {\"Percentage\": 3.3161176154081193, \"Cell Type\": \"NK_Cell\"}, {\"Percentage\": -7.690661528855047, \"Cell Type\": \"B_Cell_naive\"}, {\"Percentage\": -2.4677928523265575, \"Cell Type\": \"B_Cell_memory\"}, {\"Percentage\": -14.001653012010403, \"Cell Type\": \"Plasma_Cell\"}, {\"Percentage\": 6.588991736084792, \"Cell Type\": \"Monocyte\"}, {\"Percentage\": -0.2660164033180632, \"Cell Type\": \"Dendritic\"}, {\"Percentage\": 7.4704215187841925, \"Cell Type\": \"T_CD4_naive\"}, {\"Percentage\": 1.9314851236122692, \"Cell Type\": \"T_CD4_central_memory\"}, {\"Percentage\": -2.0994226893707157, \"Cell Type\": \"T_CD4_effector_memory\"}, {\"Percentage\": 12.080528833194338, \"Cell Type\": \"T_CD8_naive\"}, {\"Percentage\": -11.956397144331504, \"Cell Type\": \"T_CD8_central_memory\"}, {\"Percentage\": -10.157579239397462, \"Cell Type\": \"T_CD8_effector_memory\"}, {\"Percentage\": -1.4309057463413977, \"Cell Type\": \"T_CD8_effector_memory_terminal\"}, {\"Percentage\": -15.759765407408105, \"Cell Type\": \"Treg\"}, {\"Percentage\": 3.0584162374083803, \"Cell Type\": \"NK_Cell\"}, {\"Percentage\": -6.927769478017976, \"Cell Type\": \"B_Cell_naive\"}, {\"Percentage\": 2.409170720508717, \"Cell Type\": \"B_Cell_memory\"}, {\"Percentage\": -4.743817630069175, \"Cell Type\": \"Plasma_Cell\"}, {\"Percentage\": 2.7462748842931113, \"Cell Type\": \"Monocyte\"}, {\"Percentage\": -4.256639982864682, \"Cell Type\": \"Dendritic\"}, {\"Percentage\": 0.47533605389869216, \"Cell Type\": \"T_CD4_naive\"}, {\"Percentage\": 7.55155625823016, \"Cell Type\": \"T_CD4_central_memory\"}, {\"Percentage\": -4.426406414780883, \"Cell Type\": \"T_CD4_effector_memory\"}, {\"Percentage\": -2.6442656056334624, \"Cell Type\": \"T_CD8_naive\"}, {\"Percentage\": -3.0774632286546204, \"Cell Type\": \"T_CD8_central_memory\"}, {\"Percentage\": -0.3281680745392974, \"Cell Type\": \"T_CD8_effector_memory\"}, {\"Percentage\": -10.506421793110828, \"Cell Type\": \"T_CD8_effector_memory_terminal\"}, {\"Percentage\": -2.7387528665149916, \"Cell Type\": \"Treg\"}, {\"Percentage\": -2.074833923604496, \"Cell Type\": \"NK_Cell\"}, {\"Percentage\": -0.10070180477368673, \"Cell Type\": \"B_Cell_naive\"}, {\"Percentage\": -12.761284124741856, \"Cell Type\": \"B_Cell_memory\"}, {\"Percentage\": -1.393177028477986, \"Cell Type\": \"Plasma_Cell\"}, {\"Percentage\": 21.481179640075826, \"Cell Type\": \"Monocyte\"}, {\"Percentage\": -14.368597087372601, \"Cell Type\": \"Dendritic\"}, {\"Percentage\": 5.360853642323951, \"Cell Type\": \"T_CD4_naive\"}, {\"Percentage\": -4.779642989159401, \"Cell Type\": \"T_CD4_central_memory\"}, {\"Percentage\": 1.7484056232171792, \"Cell Type\": \"T_CD4_effector_memory\"}, {\"Percentage\": 15.755636198554416, \"Cell Type\": \"T_CD8_naive\"}, {\"Percentage\": -12.107122269810203, \"Cell Type\": \"T_CD8_central_memory\"}, {\"Percentage\": -8.92520240407005, \"Cell Type\": \"T_CD8_effector_memory\"}, {\"Percentage\": -10.634013899370391, \"Cell Type\": \"T_CD8_effector_memory_terminal\"}, {\"Percentage\": -0.9787078433244227, \"Cell Type\": \"Treg\"}, {\"Percentage\": -8.776304508838386, \"Cell Type\": \"NK_Cell\"}, {\"Percentage\": 1.2883567612998066, \"Cell Type\": \"B_Cell_naive\"}, {\"Percentage\": -1.6533367187196482, \"Cell Type\": \"B_Cell_memory\"}, {\"Percentage\": -9.604982339925712, \"Cell Type\": \"Plasma_Cell\"}, {\"Percentage\": 1.4053471233254697, \"Cell Type\": \"Monocyte\"}, {\"Percentage\": -1.0052863755026131, \"Cell Type\": \"Dendritic\"}, {\"Percentage\": 8.438135679148186, \"Cell Type\": \"T_CD4_naive\"}, {\"Percentage\": -5.785100366202361, \"Cell Type\": \"T_CD4_central_memory\"}, {\"Percentage\": -5.626293539382604, \"Cell Type\": \"T_CD4_effector_memory\"}, {\"Percentage\": 6.987280850478831, \"Cell Type\": \"T_CD8_naive\"}, {\"Percentage\": -9.267330331198224, \"Cell Type\": \"T_CD8_central_memory\"}, {\"Percentage\": -1.9342524025684615, \"Cell Type\": \"T_CD8_effector_memory\"}, {\"Percentage\": -6.698785848884759, \"Cell Type\": \"T_CD8_effector_memory_terminal\"}, {\"Percentage\": -2.65795719881743, \"Cell Type\": \"Treg\"}, {\"Percentage\": -8.83986605565965, \"Cell Type\": \"NK_Cell\"}, {\"Percentage\": 1.0412821841675122, \"Cell Type\": \"B_Cell_naive\"}, {\"Percentage\": 4.12083013620343, \"Cell Type\": \"B_Cell_memory\"}, {\"Percentage\": -12.827892615907471, \"Cell Type\": \"Plasma_Cell\"}, {\"Percentage\": -4.384455718770135, \"Cell Type\": \"Monocyte\"}, {\"Percentage\": 0.517405227393126, \"Cell Type\": \"Dendritic\"}, {\"Percentage\": 23.67598241700358, \"Cell Type\": \"T_CD4_naive\"}, {\"Percentage\": 8.939547303945893, \"Cell Type\": \"T_CD4_central_memory\"}, {\"Percentage\": -1.386975245853482, \"Cell Type\": \"T_CD4_effector_memory\"}, {\"Percentage\": 6.909740070070107, \"Cell Type\": \"T_CD8_naive\"}, {\"Percentage\": -11.171242909878524, \"Cell Type\": \"T_CD8_central_memory\"}, {\"Percentage\": -4.108099237460489, \"Cell Type\": \"T_CD8_effector_memory\"}, {\"Percentage\": -1.130177528278883, \"Cell Type\": \"T_CD8_effector_memory_terminal\"}, {\"Percentage\": -12.765749546964972, \"Cell Type\": \"Treg\"}, {\"Percentage\": -4.254233554662445, \"Cell Type\": \"NK_Cell\"}, {\"Percentage\": -7.026859563685729, \"Cell Type\": \"B_Cell_naive\"}, {\"Percentage\": -7.192820178585029, \"Cell Type\": \"B_Cell_memory\"}, {\"Percentage\": -11.124876944512353, \"Cell Type\": \"Plasma_Cell\"}, {\"Percentage\": 2.06002431621974, \"Cell Type\": \"Monocyte\"}, {\"Percentage\": -9.67125939735741, \"Cell Type\": \"Dendritic\"}, {\"Percentage\": 10.76351518027323, \"Cell Type\": \"T_CD4_naive\"}, {\"Percentage\": 2.3726398704601017, \"Cell Type\": \"T_CD4_central_memory\"}, {\"Percentage\": -2.0083125243662394, \"Cell Type\": \"T_CD4_effector_memory\"}, {\"Percentage\": 10.623874044468181, \"Cell Type\": \"T_CD8_naive\"}, {\"Percentage\": -3.9836427926240114, \"Cell Type\": \"T_CD8_central_memory\"}, {\"Percentage\": -13.894888666505656, \"Cell Type\": \"T_CD8_effector_memory\"}, {\"Percentage\": -0.34563599679600976, \"Cell Type\": \"T_CD8_effector_memory_terminal\"}, {\"Percentage\": -14.597504702265514, \"Cell Type\": \"Treg\"}, {\"Percentage\": -2.2216732330025, \"Cell Type\": \"NK_Cell\"}, {\"Percentage\": -2.162039627979459, \"Cell Type\": \"B_Cell_naive\"}, {\"Percentage\": -13.978009239088223, \"Cell Type\": \"B_Cell_memory\"}, {\"Percentage\": -9.244055582543885, \"Cell Type\": \"Plasma_Cell\"}, {\"Percentage\": 1.4196027717813104, \"Cell Type\": \"Monocyte\"}, {\"Percentage\": -10.703869501811319, \"Cell Type\": \"Dendritic\"}, {\"Percentage\": 3.1555900201104627, \"Cell Type\": \"T_CD4_naive\"}, {\"Percentage\": -2.123230717650987, \"Cell Type\": \"T_CD4_central_memory\"}, {\"Percentage\": -4.241486301961878, \"Cell Type\": \"T_CD4_effector_memory\"}, {\"Percentage\": 19.213707879000548, \"Cell Type\": \"T_CD8_naive\"}, {\"Percentage\": -12.639862289132086, \"Cell Type\": \"T_CD8_central_memory\"}, {\"Percentage\": -9.290892032516146, \"Cell Type\": \"T_CD8_effector_memory\"}, {\"Percentage\": -7.6766122791748845, \"Cell Type\": \"T_CD8_effector_memory_terminal\"}, {\"Percentage\": -1.8658542069949793, \"Cell Type\": \"Treg\"}, {\"Percentage\": 2.9618797274366213, \"Cell Type\": \"NK_Cell\"}, {\"Percentage\": 3.946520179946833, \"Cell Type\": \"B_Cell_naive\"}, {\"Percentage\": -0.6224847325641676, \"Cell Type\": \"B_Cell_memory\"}, {\"Percentage\": -10.323754172377988, \"Cell Type\": \"Plasma_Cell\"}, {\"Percentage\": 4.1299805986098574, \"Cell Type\": \"Monocyte\"}, {\"Percentage\": -10.613501672731202, \"Cell Type\": \"Dendritic\"}, {\"Percentage\": 6.411611232231008, \"Cell Type\": \"T_CD4_naive\"}, {\"Percentage\": -4.208996633128798, \"Cell Type\": \"T_CD4_central_memory\"}, {\"Percentage\": -2.6260440698594536, \"Cell Type\": \"T_CD4_effector_memory\"}, {\"Percentage\": -3.420007083211952, \"Cell Type\": \"T_CD8_naive\"}, {\"Percentage\": -9.760294560843702, \"Cell Type\": \"T_CD8_central_memory\"}, {\"Percentage\": -6.851651083444747, \"Cell Type\": \"T_CD8_effector_memory\"}, {\"Percentage\": -0.08611123885554939, \"Cell Type\": \"T_CD8_effector_memory_terminal\"}, {\"Percentage\": -1.6395594441066554, \"Cell Type\": \"Treg\"}, {\"Percentage\": 0.8718860555692105, \"Cell Type\": \"NK_Cell\"}, {\"Percentage\": -8.75528522342448, \"Cell Type\": \"B_Cell_naive\"}, {\"Percentage\": -8.751361211080212, \"Cell Type\": \"B_Cell_memory\"}, {\"Percentage\": -20.471348445850683, \"Cell Type\": \"Plasma_Cell\"}, {\"Percentage\": 13.88748516480772, \"Cell Type\": \"Monocyte\"}, {\"Percentage\": -1.3223234588017254, \"Cell Type\": \"Dendritic\"}, {\"Percentage\": 2.0362379909122392, \"Cell Type\": \"T_CD4_naive\"}, {\"Percentage\": -7.171742668621819, \"Cell Type\": \"T_CD4_central_memory\"}, {\"Percentage\": -7.726771974481131, \"Cell Type\": \"T_CD4_effector_memory\"}, {\"Percentage\": -3.42929068683625, \"Cell Type\": \"T_CD8_naive\"}, {\"Percentage\": -3.079767767812856, \"Cell Type\": \"T_CD8_central_memory\"}, {\"Percentage\": -12.321142686537538, \"Cell Type\": \"T_CD8_effector_memory\"}, {\"Percentage\": -3.034588604910786, \"Cell Type\": \"T_CD8_effector_memory_terminal\"}, {\"Percentage\": -5.94177922591857, \"Cell Type\": \"Treg\"}, {\"Percentage\": 0.14025551456389174, \"Cell Type\": \"NK_Cell\"}, {\"Percentage\": 2.3888713706267604, \"Cell Type\": \"B_Cell_naive\"}, {\"Percentage\": -4.34759520362281, \"Cell Type\": \"B_Cell_memory\"}, {\"Percentage\": -5.809641238334925, \"Cell Type\": \"Plasma_Cell\"}, {\"Percentage\": 9.115873679821874, \"Cell Type\": \"Monocyte\"}, {\"Percentage\": -3.057918498848085, \"Cell Type\": \"Dendritic\"}, {\"Percentage\": 7.2997201814735195, \"Cell Type\": \"T_CD4_naive\"}, {\"Percentage\": 5.12413728098022, \"Cell Type\": \"T_CD4_central_memory\"}, {\"Percentage\": -0.8205325839881947, \"Cell Type\": \"T_CD4_effector_memory\"}, {\"Percentage\": -2.3536427722017397, \"Cell Type\": \"T_CD8_naive\"}, {\"Percentage\": -0.845161829764169, \"Cell Type\": \"T_CD8_central_memory\"}, {\"Percentage\": -1.9340707865535016, \"Cell Type\": \"T_CD8_effector_memory\"}, {\"Percentage\": -2.8271086630638447, \"Cell Type\": \"T_CD8_effector_memory_terminal\"}, {\"Percentage\": -2.8185757267701494, \"Cell Type\": \"Treg\"}, {\"Percentage\": 4.4208152108798195, \"Cell Type\": \"NK_Cell\"}, {\"Percentage\": -3.014521092492778, \"Cell Type\": \"B_Cell_naive\"}, {\"Percentage\": -7.453235879406354, \"Cell Type\": \"B_Cell_memory\"}, {\"Percentage\": -10.525055329607417, \"Cell Type\": \"Plasma_Cell\"}, {\"Percentage\": 0.6599740843261817, \"Cell Type\": \"Monocyte\"}, {\"Percentage\": -3.4627420938115865, \"Cell Type\": \"Dendritic\"}, {\"Percentage\": 2.808656429316229, \"Cell Type\": \"T_CD4_naive\"}, {\"Percentage\": -0.6620720847353985, \"Cell Type\": \"T_CD4_central_memory\"}, {\"Percentage\": -2.5600192721911235, \"Cell Type\": \"T_CD4_effector_memory\"}, {\"Percentage\": -2.664906236046221, \"Cell Type\": \"T_CD8_naive\"}, {\"Percentage\": 0.25938474185751115, \"Cell Type\": \"T_CD8_central_memory\"}, {\"Percentage\": 8.009763839404313, \"Cell Type\": \"T_CD8_effector_memory\"}, {\"Percentage\": -0.2828915347903598, \"Cell Type\": \"T_CD8_effector_memory_terminal\"}, {\"Percentage\": -11.625956103158558, \"Cell Type\": \"Treg\"}, {\"Percentage\": 1.2238256084115378, \"Cell Type\": \"NK_Cell\"}, {\"Percentage\": -1.570868764713376, \"Cell Type\": \"B_Cell_naive\"}, {\"Percentage\": -4.743632774041395, \"Cell Type\": \"B_Cell_memory\"}, {\"Percentage\": -10.001181971824542, \"Cell Type\": \"Plasma_Cell\"}, {\"Percentage\": 5.347456036083165, \"Cell Type\": \"Monocyte\"}, {\"Percentage\": -6.257557913571778, \"Cell Type\": \"Dendritic\"}, {\"Percentage\": 11.68276810712131, \"Cell Type\": \"T_CD4_naive\"}, {\"Percentage\": 11.661755635420322, \"Cell Type\": \"T_CD4_central_memory\"}, {\"Percentage\": 1.6140082421901933, \"Cell Type\": \"T_CD4_effector_memory\"}, {\"Percentage\": 7.275805581799965, \"Cell Type\": \"T_CD8_naive\"}, {\"Percentage\": -8.411188730067442, \"Cell Type\": \"T_CD8_central_memory\"}, {\"Percentage\": 2.669186460207068, \"Cell Type\": \"T_CD8_effector_memory\"}, {\"Percentage\": -5.210904573669744, \"Cell Type\": \"T_CD8_effector_memory_terminal\"}, {\"Percentage\": -6.854056462000568, \"Cell Type\": \"Treg\"}, {\"Percentage\": -6.414658591124969, \"Cell Type\": \"NK_Cell\"}, {\"Percentage\": -2.2280854814635793, \"Cell Type\": \"B_Cell_naive\"}, {\"Percentage\": -1.2302791885363862, \"Cell Type\": \"B_Cell_memory\"}, {\"Percentage\": -14.11959861272917, \"Cell Type\": \"Plasma_Cell\"}, {\"Percentage\": 0.9329981348263892, \"Cell Type\": \"Monocyte\"}, {\"Percentage\": -8.42775052197337, \"Cell Type\": \"Dendritic\"}, {\"Percentage\": 7.495774988957034, \"Cell Type\": \"T_CD4_naive\"}, {\"Percentage\": -6.978167242461097, \"Cell Type\": \"T_CD4_central_memory\"}, {\"Percentage\": 6.943547949231551, \"Cell Type\": \"T_CD4_effector_memory\"}, {\"Percentage\": 0.5148174499852791, \"Cell Type\": \"T_CD8_naive\"}, {\"Percentage\": -10.441934779799299, \"Cell Type\": \"T_CD8_central_memory\"}, {\"Percentage\": -1.656055720765047, \"Cell Type\": \"T_CD8_effector_memory\"}, {\"Percentage\": 3.117379786374341, \"Cell Type\": \"T_CD8_effector_memory_terminal\"}, {\"Percentage\": -0.8185785088568369, \"Cell Type\": \"Treg\"}, {\"Percentage\": 2.440295035233005, \"Cell Type\": \"NK_Cell\"}, {\"Percentage\": 5.034374294259834, \"Cell Type\": \"B_Cell_naive\"}, {\"Percentage\": -11.769641065268155, \"Cell Type\": \"B_Cell_memory\"}, {\"Percentage\": -4.244921747756551, \"Cell Type\": \"Plasma_Cell\"}, {\"Percentage\": -4.864513700025456, \"Cell Type\": \"Monocyte\"}, {\"Percentage\": -6.732376739108606, \"Cell Type\": \"Dendritic\"}, {\"Percentage\": 5.552636524575047, \"Cell Type\": \"T_CD4_naive\"}, {\"Percentage\": 1.3676223095859905, \"Cell Type\": \"T_CD4_central_memory\"}, {\"Percentage\": 4.06617725594619, \"Cell Type\": \"T_CD4_effector_memory\"}, {\"Percentage\": 1.5708123793793227, \"Cell Type\": \"T_CD8_naive\"}, {\"Percentage\": -0.7779104873412745, \"Cell Type\": \"T_CD8_central_memory\"}, {\"Percentage\": -3.873745499342542, \"Cell Type\": \"T_CD8_effector_memory\"}, {\"Percentage\": -4.6712188617000905, \"Cell Type\": \"T_CD8_effector_memory_terminal\"}, {\"Percentage\": -11.43323878506209, \"Cell Type\": \"Treg\"}, {\"Percentage\": 0.9650982772721104, \"Cell Type\": \"NK_Cell\"}, {\"Percentage\": 0.5797467796240499, \"Cell Type\": \"B_Cell_naive\"}, {\"Percentage\": -7.07700912856688, \"Cell Type\": \"B_Cell_memory\"}, {\"Percentage\": -6.822362070819038, \"Cell Type\": \"Plasma_Cell\"}, {\"Percentage\": 6.225499554052608, \"Cell Type\": \"Monocyte\"}, {\"Percentage\": -2.0521082476033983, \"Cell Type\": \"Dendritic\"}, {\"Percentage\": -3.8685338135575575, \"Cell Type\": \"T_CD4_naive\"}, {\"Percentage\": -2.349827252147506, \"Cell Type\": \"T_CD4_central_memory\"}, {\"Percentage\": 5.2059429237309915, \"Cell Type\": \"T_CD4_effector_memory\"}, {\"Percentage\": -1.192957819944505, \"Cell Type\": \"T_CD8_naive\"}, {\"Percentage\": -2.2339361132080193, \"Cell Type\": \"T_CD8_central_memory\"}, {\"Percentage\": -6.492594909936534, \"Cell Type\": \"T_CD8_effector_memory\"}, {\"Percentage\": -3.292287526101555, \"Cell Type\": \"T_CD8_effector_memory_terminal\"}, {\"Percentage\": -9.45938382649188, \"Cell Type\": \"Treg\"}, {\"Percentage\": -1.7377774235563148, \"Cell Type\": \"NK_Cell\"}, {\"Percentage\": -3.630560408079228, \"Cell Type\": \"B_Cell_naive\"}, {\"Percentage\": -4.904644991484599, \"Cell Type\": \"B_Cell_memory\"}, {\"Percentage\": -10.704264355461545, \"Cell Type\": \"Plasma_Cell\"}, {\"Percentage\": -2.589853999094321, \"Cell Type\": \"Monocyte\"}, {\"Percentage\": -0.5193204846674151, \"Cell Type\": \"Dendritic\"}, {\"Percentage\": 8.03874559503111, \"Cell Type\": \"T_CD4_naive\"}, {\"Percentage\": 1.357958910230506, \"Cell Type\": \"T_CD4_central_memory\"}, {\"Percentage\": -1.3842358298083308, \"Cell Type\": \"T_CD4_effector_memory\"}, {\"Percentage\": -2.984860387588765, \"Cell Type\": \"T_CD8_naive\"}, {\"Percentage\": -9.811558830175137, \"Cell Type\": \"T_CD8_central_memory\"}, {\"Percentage\": -6.883036283090098, \"Cell Type\": \"T_CD8_effector_memory\"}, {\"Percentage\": -2.8503331916551757, \"Cell Type\": \"T_CD8_effector_memory_terminal\"}, {\"Percentage\": -2.6913348341504464, \"Cell Type\": \"Treg\"}, {\"Percentage\": 1.915487602656512, \"Cell Type\": \"NK_Cell\"}, {\"Percentage\": 1.4657337248300637, \"Cell Type\": \"B_Cell_naive\"}, {\"Percentage\": -1.3043637105608816, \"Cell Type\": \"B_Cell_memory\"}, {\"Percentage\": -4.512916133849537, \"Cell Type\": \"Plasma_Cell\"}, {\"Percentage\": -1.0345250158253556, \"Cell Type\": \"Monocyte\"}, {\"Percentage\": -7.610761616044467, \"Cell Type\": \"Dendritic\"}]}}, {\"mode\": \"vega-lite\"});\n",
              "</script>"
            ],
            "text/plain": [
              "alt.Chart(...)"
            ]
          },
          "metadata": {},
          "execution_count": 80
        }
      ]
    },
    {
      "cell_type": "code",
      "source": [
        ""
      ],
      "metadata": {
        "id": "YU22cb4SpWbK"
      },
      "execution_count": null,
      "outputs": []
    }
  ]
}