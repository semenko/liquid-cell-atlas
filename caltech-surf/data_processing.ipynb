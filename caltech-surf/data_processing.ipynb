{
  "cells": [
    {
      "cell_type": "markdown",
      "metadata": {
        "id": "view-in-github",
        "colab_type": "text"
      },
      "source": [
        "<a href=\"https://colab.research.google.com/github/semenko/liquid-cell-atlas/blob/main/data_processing.ipynb\" target=\"_parent\"><img src=\"https://colab.research.google.com/assets/colab-badge.svg\" alt=\"Open In Colab\"/></a>"
      ]
    },
    {
      "cell_type": "markdown",
      "metadata": {
        "id": "NT3ulHYicog6"
      },
      "source": [
        "# Import Necessary Libraries"
      ]
    },
    {
      "cell_type": "code",
      "execution_count": 1,
      "metadata": {
        "colab": {
          "base_uri": "https://localhost:8080/",
          "height": 1000
        },
        "id": "LcfesrKDApQG",
        "outputId": "45a7f6c8-748a-49ba-c726-24531dcceb83"
      },
      "outputs": [
        {
          "output_type": "stream",
          "name": "stdout",
          "text": [
            "Looking in indexes: https://pypi.org/simple, https://us-python.pkg.dev/colab-wheels/public/simple/\n",
            "Collecting pyBigWig\n",
            "  Downloading pyBigWig-0.3.18.tar.gz (64 kB)\n",
            "\u001b[K     |████████████████████████████████| 64 kB 976 kB/s \n",
            "\u001b[?25hCollecting pybedtools\n",
            "  Downloading pybedtools-0.9.0.tar.gz (12.5 MB)\n",
            "\u001b[K     |████████████████████████████████| 12.5 MB 23.4 MB/s \n",
            "\u001b[?25hCollecting gunzip\n",
            "  Downloading gunzip-0.1.10-py2.py3-none-any.whl (3.0 kB)\n",
            "Collecting bedparse\n",
            "  Downloading bedparse-0.2.3-py3-none-any.whl (21 kB)\n",
            "Collecting deeptools\n",
            "  Downloading deepTools-3.5.1-py3-none-any.whl (233 kB)\n",
            "\u001b[K     |████████████████████████████████| 233 kB 39.7 MB/s \n",
            "\u001b[?25hCollecting pyGenomeTracks\n",
            "  Downloading pyGenomeTracks-3.7-py2.py3-none-any.whl (112 kB)\n",
            "\u001b[K     |████████████████████████████████| 112 kB 44.1 MB/s \n",
            "\u001b[?25hRequirement already satisfied: six in /usr/local/lib/python3.7/dist-packages (from pybedtools) (1.15.0)\n",
            "Collecting pysam\n",
            "  Downloading pysam-0.19.1-cp37-cp37m-manylinux_2_24_x86_64.whl (15.1 MB)\n",
            "\u001b[K     |████████████████████████████████| 15.1 MB 40.7 MB/s \n",
            "\u001b[?25hCollecting microapp>=0.2.3\n",
            "  Downloading microapp-0.3.15-py2.py3-none-any.whl (31 kB)\n",
            "Requirement already satisfied: setuptools in /usr/local/lib/python3.7/dist-packages (from bedparse) (57.4.0)\n",
            "Collecting argparse\n",
            "  Downloading argparse-1.4.0-py2.py3-none-any.whl (23 kB)\n",
            "Collecting numpydoc>=0.5\n",
            "  Downloading numpydoc-1.4.0-py3-none-any.whl (51 kB)\n",
            "\u001b[K     |████████████████████████████████| 51 kB 679 kB/s \n",
            "\u001b[?25hCollecting matplotlib>=3.3.0\n",
            "  Downloading matplotlib-3.5.2-cp37-cp37m-manylinux_2_5_x86_64.manylinux1_x86_64.whl (11.2 MB)\n",
            "\u001b[K     |████████████████████████████████| 11.2 MB 15.9 MB/s \n",
            "\u001b[?25hRequirement already satisfied: plotly>=4.9 in /usr/local/lib/python3.7/dist-packages (from deeptools) (5.5.0)\n",
            "Requirement already satisfied: numpy>=1.9.0 in /usr/local/lib/python3.7/dist-packages (from deeptools) (1.21.6)\n",
            "Collecting deeptoolsintervals>=0.1.8\n",
            "  Downloading deeptoolsintervals-0.1.9.tar.gz (41 kB)\n",
            "\u001b[K     |████████████████████████████████| 41 kB 132 kB/s \n",
            "\u001b[?25hCollecting py2bit>=0.2.0\n",
            "  Downloading py2bit-0.3.0.tar.gz (16 kB)\n",
            "Requirement already satisfied: scipy>=0.17.0 in /usr/local/lib/python3.7/dist-packages (from deeptools) (1.7.3)\n",
            "Requirement already satisfied: python-dateutil>=2.7 in /usr/local/lib/python3.7/dist-packages (from matplotlib>=3.3.0->deeptools) (2.8.2)\n",
            "Requirement already satisfied: pyparsing>=2.2.1 in /usr/local/lib/python3.7/dist-packages (from matplotlib>=3.3.0->deeptools) (3.0.9)\n",
            "Requirement already satisfied: packaging>=20.0 in /usr/local/lib/python3.7/dist-packages (from matplotlib>=3.3.0->deeptools) (21.3)\n",
            "Collecting fonttools>=4.22.0\n",
            "  Downloading fonttools-4.34.4-py3-none-any.whl (944 kB)\n",
            "\u001b[K     |████████████████████████████████| 944 kB 45.1 MB/s \n",
            "\u001b[?25hRequirement already satisfied: pillow>=6.2.0 in /usr/local/lib/python3.7/dist-packages (from matplotlib>=3.3.0->deeptools) (7.1.2)\n",
            "Requirement already satisfied: kiwisolver>=1.0.1 in /usr/local/lib/python3.7/dist-packages (from matplotlib>=3.3.0->deeptools) (1.4.4)\n",
            "Requirement already satisfied: cycler>=0.10 in /usr/local/lib/python3.7/dist-packages (from matplotlib>=3.3.0->deeptools) (0.11.0)\n",
            "Requirement already satisfied: typing-extensions in /usr/local/lib/python3.7/dist-packages (from kiwisolver>=1.0.1->matplotlib>=3.3.0->deeptools) (4.1.1)\n",
            "Requirement already satisfied: Jinja2>=2.10 in /usr/local/lib/python3.7/dist-packages (from numpydoc>=0.5->deeptools) (2.11.3)\n",
            "Collecting sphinx>=3.0\n",
            "  Downloading Sphinx-5.1.0-py3-none-any.whl (3.2 MB)\n",
            "\u001b[K     |████████████████████████████████| 3.2 MB 38.2 MB/s \n",
            "\u001b[?25hRequirement already satisfied: MarkupSafe>=0.23 in /usr/local/lib/python3.7/dist-packages (from Jinja2>=2.10->numpydoc>=0.5->deeptools) (2.0.1)\n",
            "Requirement already satisfied: tenacity>=6.2.0 in /usr/local/lib/python3.7/dist-packages (from plotly>=4.9->deeptools) (8.0.1)\n",
            "Collecting sphinxcontrib-htmlhelp>=2.0.0\n",
            "  Downloading sphinxcontrib_htmlhelp-2.0.0-py2.py3-none-any.whl (100 kB)\n",
            "\u001b[K     |████████████████████████████████| 100 kB 5.1 MB/s \n",
            "\u001b[?25hRequirement already satisfied: requests>=2.5.0 in /usr/local/lib/python3.7/dist-packages (from sphinx>=3.0->numpydoc>=0.5->deeptools) (2.23.0)\n",
            "Requirement already satisfied: sphinxcontrib-serializinghtml>=1.1.5 in /usr/local/lib/python3.7/dist-packages (from sphinx>=3.0->numpydoc>=0.5->deeptools) (1.1.5)\n",
            "Requirement already satisfied: snowballstemmer>=1.1 in /usr/local/lib/python3.7/dist-packages (from sphinx>=3.0->numpydoc>=0.5->deeptools) (2.2.0)\n",
            "Requirement already satisfied: babel>=1.3 in /usr/local/lib/python3.7/dist-packages (from sphinx>=3.0->numpydoc>=0.5->deeptools) (2.10.3)\n",
            "Requirement already satisfied: Pygments>=2.0 in /usr/local/lib/python3.7/dist-packages (from sphinx>=3.0->numpydoc>=0.5->deeptools) (2.6.1)\n",
            "Requirement already satisfied: imagesize in /usr/local/lib/python3.7/dist-packages (from sphinx>=3.0->numpydoc>=0.5->deeptools) (1.4.1)\n",
            "Requirement already satisfied: docutils<0.20,>=0.14 in /usr/local/lib/python3.7/dist-packages (from sphinx>=3.0->numpydoc>=0.5->deeptools) (0.17.1)\n",
            "Collecting sphinxcontrib-jsmath\n",
            "  Downloading sphinxcontrib_jsmath-1.0.1-py2.py3-none-any.whl (5.1 kB)\n",
            "Collecting sphinxcontrib-applehelp\n",
            "  Downloading sphinxcontrib_applehelp-1.0.2-py2.py3-none-any.whl (121 kB)\n",
            "\u001b[K     |████████████████████████████████| 121 kB 50.2 MB/s \n",
            "\u001b[?25hRequirement already satisfied: importlib-metadata>=4.4 in /usr/local/lib/python3.7/dist-packages (from sphinx>=3.0->numpydoc>=0.5->deeptools) (4.12.0)\n",
            "Collecting sphinxcontrib-devhelp\n",
            "  Downloading sphinxcontrib_devhelp-1.0.2-py2.py3-none-any.whl (84 kB)\n",
            "\u001b[K     |████████████████████████████████| 84 kB 2.1 MB/s \n",
            "\u001b[?25hCollecting sphinxcontrib-qthelp\n",
            "  Downloading sphinxcontrib_qthelp-1.0.3-py2.py3-none-any.whl (90 kB)\n",
            "\u001b[K     |████████████████████████████████| 90 kB 7.0 MB/s \n",
            "\u001b[?25hRequirement already satisfied: alabaster<0.8,>=0.7 in /usr/local/lib/python3.7/dist-packages (from sphinx>=3.0->numpydoc>=0.5->deeptools) (0.7.12)\n",
            "Requirement already satisfied: pytz>=2015.7 in /usr/local/lib/python3.7/dist-packages (from babel>=1.3->sphinx>=3.0->numpydoc>=0.5->deeptools) (2022.1)\n",
            "Requirement already satisfied: zipp>=0.5 in /usr/local/lib/python3.7/dist-packages (from importlib-metadata>=4.4->sphinx>=3.0->numpydoc>=0.5->deeptools) (3.8.1)\n",
            "Requirement already satisfied: certifi>=2017.4.17 in /usr/local/lib/python3.7/dist-packages (from requests>=2.5.0->sphinx>=3.0->numpydoc>=0.5->deeptools) (2022.6.15)\n",
            "Requirement already satisfied: urllib3!=1.25.0,!=1.25.1,<1.26,>=1.21.1 in /usr/local/lib/python3.7/dist-packages (from requests>=2.5.0->sphinx>=3.0->numpydoc>=0.5->deeptools) (1.24.3)\n",
            "Requirement already satisfied: idna<3,>=2.5 in /usr/local/lib/python3.7/dist-packages (from requests>=2.5.0->sphinx>=3.0->numpydoc>=0.5->deeptools) (2.10)\n",
            "Requirement already satisfied: chardet<4,>=3.0.2 in /usr/local/lib/python3.7/dist-packages (from requests>=2.5.0->sphinx>=3.0->numpydoc>=0.5->deeptools) (3.0.4)\n",
            "Requirement already satisfied: tqdm>=4.20 in /usr/local/lib/python3.7/dist-packages (from pyGenomeTracks) (4.64.0)\n",
            "Collecting future>=0.17.0\n",
            "  Downloading future-0.18.2.tar.gz (829 kB)\n",
            "\u001b[K     |████████████████████████████████| 829 kB 45.0 MB/s \n",
            "\u001b[?25hRequirement already satisfied: pytest in /usr/local/lib/python3.7/dist-packages (from pyGenomeTracks) (3.6.4)\n",
            "Collecting hicmatrix>=15\n",
            "  Downloading HiCMatrix-15-py3-none-any.whl (37 kB)\n",
            "Collecting pyfaidx>=0.1.3\n",
            "  Downloading pyfaidx-0.7.0.tar.gz (102 kB)\n",
            "\u001b[K     |████████████████████████████████| 102 kB 46.9 MB/s \n",
            "\u001b[?25hCollecting gffutils>=0.9\n",
            "  Downloading gffutils-0.11.0.tar.gz (1.6 MB)\n",
            "\u001b[K     |████████████████████████████████| 1.6 MB 56.5 MB/s \n",
            "\u001b[?25hRequirement already satisfied: intervaltree>=2.1.0 in /usr/local/lib/python3.7/dist-packages (from pyGenomeTracks) (2.1.0)\n",
            "Collecting matplotlib>=3.3.0\n",
            "  Downloading matplotlib-3.5.1-cp37-cp37m-manylinux_2_5_x86_64.manylinux1_x86_64.whl (11.2 MB)\n",
            "\u001b[K     |████████████████████████████████| 11.2 MB 11.7 MB/s \n",
            "\u001b[?25hCollecting bx-python>=0.8.13\n",
            "  Downloading bx_python-0.8.13-cp37-cp37m-manylinux_2_17_x86_64.manylinux2014_x86_64.whl (4.2 MB)\n",
            "\u001b[K     |████████████████████████████████| 4.2 MB 44.9 MB/s \n",
            "\u001b[?25hCollecting argh>=0.26.2\n",
            "  Downloading argh-0.26.2-py2.py3-none-any.whl (30 kB)\n",
            "Collecting argcomplete>=1.9.4\n",
            "  Downloading argcomplete-2.0.0-py2.py3-none-any.whl (37 kB)\n",
            "Collecting simplejson\n",
            "  Downloading simplejson-3.17.6-cp37-cp37m-manylinux_2_5_x86_64.manylinux1_x86_64.manylinux_2_12_x86_64.manylinux2010_x86_64.whl (130 kB)\n",
            "\u001b[K     |████████████████████████████████| 130 kB 55.8 MB/s \n",
            "\u001b[?25hCollecting cooler>=0.8.9\n",
            "  Downloading cooler-0.8.11-py2.py3-none-any.whl (100 kB)\n",
            "\u001b[K     |████████████████████████████████| 100 kB 11.5 MB/s \n",
            "\u001b[?25hRequirement already satisfied: pandas>=0.25.* in /usr/local/lib/python3.7/dist-packages (from hicmatrix>=15->pyGenomeTracks) (1.3.5)\n",
            "Requirement already satisfied: tables>=3.5.* in /usr/local/lib/python3.7/dist-packages (from hicmatrix>=15->pyGenomeTracks) (3.7.0)\n",
            "Collecting intervaltree>=2.1.0\n",
            "  Downloading intervaltree-3.1.0.tar.gz (32 kB)\n",
            "Collecting pypairix\n",
            "  Downloading pypairix-0.3.7.tar.gz (65 kB)\n",
            "\u001b[K     |████████████████████████████████| 65 kB 5.1 MB/s \n",
            "\u001b[?25hCollecting cytoolz<0.11\n",
            "  Downloading cytoolz-0.10.1.tar.gz (475 kB)\n",
            "\u001b[K     |████████████████████████████████| 475 kB 51.2 MB/s \n",
            "\u001b[?25hRequirement already satisfied: h5py>=2.5 in /usr/local/lib/python3.7/dist-packages (from cooler>=0.8.9->hicmatrix>=15->pyGenomeTracks) (3.1.0)\n",
            "Collecting asciitree\n",
            "  Downloading asciitree-0.3.3.tar.gz (4.0 kB)\n",
            "Requirement already satisfied: click>=7 in /usr/local/lib/python3.7/dist-packages (from cooler>=0.8.9->hicmatrix>=15->pyGenomeTracks) (7.1.2)\n",
            "Requirement already satisfied: pyyaml in /usr/local/lib/python3.7/dist-packages (from cooler>=0.8.9->hicmatrix>=15->pyGenomeTracks) (3.13)\n",
            "Requirement already satisfied: multiprocess in /usr/local/lib/python3.7/dist-packages (from cooler>=0.8.9->hicmatrix>=15->pyGenomeTracks) (0.70.13)\n",
            "Requirement already satisfied: toolz>=0.8.0 in /usr/local/lib/python3.7/dist-packages (from cytoolz<0.11->cooler>=0.8.9->hicmatrix>=15->pyGenomeTracks) (0.12.0)\n",
            "Requirement already satisfied: cached-property in /usr/local/lib/python3.7/dist-packages (from h5py>=2.5->cooler>=0.8.9->hicmatrix>=15->pyGenomeTracks) (1.5.2)\n",
            "Requirement already satisfied: sortedcontainers<3.0,>=2.0 in /usr/local/lib/python3.7/dist-packages (from intervaltree>=2.1.0->pyGenomeTracks) (2.4.0)\n",
            "Requirement already satisfied: numexpr>=2.6.2 in /usr/local/lib/python3.7/dist-packages (from tables>=3.5.*->hicmatrix>=15->pyGenomeTracks) (2.8.3)\n",
            "Requirement already satisfied: dill>=0.3.5.1 in /usr/local/lib/python3.7/dist-packages (from multiprocess->cooler>=0.8.9->hicmatrix>=15->pyGenomeTracks) (0.3.5.1)\n",
            "Requirement already satisfied: pluggy<0.8,>=0.5 in /usr/local/lib/python3.7/dist-packages (from pytest->pyGenomeTracks) (0.7.1)\n",
            "Requirement already satisfied: more-itertools>=4.0.0 in /usr/local/lib/python3.7/dist-packages (from pytest->pyGenomeTracks) (8.13.0)\n",
            "Requirement already satisfied: attrs>=17.4.0 in /usr/local/lib/python3.7/dist-packages (from pytest->pyGenomeTracks) (21.4.0)\n",
            "Requirement already satisfied: atomicwrites>=1.0 in /usr/local/lib/python3.7/dist-packages (from pytest->pyGenomeTracks) (1.4.1)\n",
            "Requirement already satisfied: py>=1.5.0 in /usr/local/lib/python3.7/dist-packages (from pytest->pyGenomeTracks) (1.11.0)\n",
            "Building wheels for collected packages: pyBigWig, pybedtools, deeptoolsintervals, py2bit, future, gffutils, cytoolz, intervaltree, pyfaidx, asciitree, pypairix\n",
            "  Building wheel for pyBigWig (setup.py) ... \u001b[?25l\u001b[?25hdone\n",
            "  Created wheel for pyBigWig: filename=pyBigWig-0.3.18-cp37-cp37m-linux_x86_64.whl size=197559 sha256=a9d8029ed62cac62700d5f645d00d15df41417fd1c2be1613e883e47a2cc0373\n",
            "  Stored in directory: /root/.cache/pip/wheels/28/eb/46/c761563ba38bd516bcc6accde3d4188cd84eec067f9201cbec\n",
            "  Building wheel for pybedtools (setup.py) ... \u001b[?25l\u001b[?25hdone\n",
            "  Created wheel for pybedtools: filename=pybedtools-0.9.0-cp37-cp37m-linux_x86_64.whl size=13616811 sha256=d2d16cf02c9e9eb8ac919295a161cab3c21b07e0e749ec060c910bff1cb2a2e8\n",
            "  Stored in directory: /root/.cache/pip/wheels/7a/44/0d/3a7449885adaf8ebb157da8c3c834a712f48b3b3b84ba51dda\n",
            "  Building wheel for deeptoolsintervals (setup.py) ... \u001b[?25l\u001b[?25hdone\n",
            "  Created wheel for deeptoolsintervals: filename=deeptoolsintervals-0.1.9-cp37-cp37m-linux_x86_64.whl size=109456 sha256=d4b5910d200eab96a37af62de6d950cdbd1f202ec6329df756925e5e7d95021d\n",
            "  Stored in directory: /root/.cache/pip/wheels/b5/62/44/d9b409078c4ff6f98b59f31816291b08ffe1e55091fdaf5d12\n",
            "  Building wheel for py2bit (setup.py) ... \u001b[?25l\u001b[?25hdone\n",
            "  Created wheel for py2bit: filename=py2bit-0.3.0-cp37-cp37m-linux_x86_64.whl size=44547 sha256=d4bab58408b4b48fb7700aadd3d2cf907b427b6ec526e9f503bfa78cd933e8b9\n",
            "  Stored in directory: /root/.cache/pip/wheels/a3/6f/d1/85fafa2537b2f5744215f97523911abde76d6e3f471095c0e0\n",
            "  Building wheel for future (setup.py) ... \u001b[?25l\u001b[?25hdone\n",
            "  Created wheel for future: filename=future-0.18.2-py3-none-any.whl size=491070 sha256=59385bd542c362855df687272f4f8ca5a48d96cb160310269cc711614dd7bcb4\n",
            "  Stored in directory: /root/.cache/pip/wheels/56/b0/fe/4410d17b32f1f0c3cf54cdfb2bc04d7b4b8f4ae377e2229ba0\n",
            "  Building wheel for gffutils (setup.py) ... \u001b[?25l\u001b[?25hdone\n",
            "  Created wheel for gffutils: filename=gffutils-0.11.0-py3-none-any.whl size=1617539 sha256=ae85b6d973a0645cd37f5a01d2468ae2fdb174c7296b03c1fcc5023f677a4027\n",
            "  Stored in directory: /root/.cache/pip/wheels/ed/42/98/e79a4e6a3a69299717be407322cf2b771c825f918954f6419f\n",
            "  Building wheel for cytoolz (setup.py) ... \u001b[?25l\u001b[?25hdone\n",
            "  Created wheel for cytoolz: filename=cytoolz-0.10.1-cp37-cp37m-linux_x86_64.whl size=1238267 sha256=245725632a0bcb3161126c002817f14f641b9ffa9ebc1baa8d9b69690b44c7f4\n",
            "  Stored in directory: /root/.cache/pip/wheels/db/f0/a6/8d56aaec49585b245b0694bf8972e50a3b2a83331657ea7e95\n",
            "  Building wheel for intervaltree (setup.py) ... \u001b[?25l\u001b[?25hdone\n",
            "  Created wheel for intervaltree: filename=intervaltree-3.1.0-py2.py3-none-any.whl size=26119 sha256=1bf442a45f96fe1d7bd21dad2fe2cab3eda3c8b57a17b632767853ea325a8bcc\n",
            "  Stored in directory: /root/.cache/pip/wheels/16/85/bd/1001cbb46dcfb71c2001cd7401c6fb250392f22a81ce3722f7\n",
            "  Building wheel for pyfaidx (setup.py) ... \u001b[?25l\u001b[?25hdone\n",
            "  Created wheel for pyfaidx: filename=pyfaidx-0.7.0-py3-none-any.whl size=27697 sha256=847773c09d3540e33d2c6bca408c6c2f5f9853ff136e444728543ef08f2ad45b\n",
            "  Stored in directory: /root/.cache/pip/wheels/df/6b/ce/46374a70af569061fa10a6c16525b0d8efe2d9a4069f8a144a\n",
            "  Building wheel for asciitree (setup.py) ... \u001b[?25l\u001b[?25hdone\n",
            "  Created wheel for asciitree: filename=asciitree-0.3.3-py3-none-any.whl size=5050 sha256=fcca44c0b5c82f8b84b6fb35cbd0ebb367f8baff74959896358d07ac67ed04d3\n",
            "  Stored in directory: /root/.cache/pip/wheels/12/1c/38/0def51e15add93bff3f4bf9c248b94db0839b980b8535e72a0\n",
            "  Building wheel for pypairix (setup.py) ... \u001b[?25l\u001b[?25hdone\n",
            "  Created wheel for pypairix: filename=pypairix-0.3.7-cp37-cp37m-linux_x86_64.whl size=142859 sha256=6f5a0ef992ee98a621efc6325ba9d1837ea5e6855a98d36a3514bac27183b2e5\n",
            "  Stored in directory: /root/.cache/pip/wheels/c7/8e/06/7c0d1ddd07b0311ea0b859c34e63b395cb931857033ab3cff3\n",
            "Successfully built pyBigWig pybedtools deeptoolsintervals py2bit future gffutils cytoolz intervaltree pyfaidx asciitree pypairix\n",
            "Installing collected packages: sphinxcontrib-qthelp, sphinxcontrib-jsmath, sphinxcontrib-htmlhelp, sphinxcontrib-devhelp, sphinxcontrib-applehelp, simplejson, pypairix, pyfaidx, cytoolz, asciitree, sphinx, pysam, intervaltree, fonttools, cooler, argh, argcomplete, pyBigWig, pybedtools, py2bit, numpydoc, microapp, matplotlib, hicmatrix, gffutils, future, deeptoolsintervals, bx-python, argparse, pyGenomeTracks, gunzip, deeptools, bedparse\n",
            "  Attempting uninstall: sphinx\n",
            "    Found existing installation: Sphinx 1.8.6\n",
            "    Uninstalling Sphinx-1.8.6:\n",
            "      Successfully uninstalled Sphinx-1.8.6\n",
            "  Attempting uninstall: intervaltree\n",
            "    Found existing installation: intervaltree 2.1.0\n",
            "    Uninstalling intervaltree-2.1.0:\n",
            "      Successfully uninstalled intervaltree-2.1.0\n",
            "  Attempting uninstall: matplotlib\n",
            "    Found existing installation: matplotlib 3.2.2\n",
            "    Uninstalling matplotlib-3.2.2:\n",
            "      Successfully uninstalled matplotlib-3.2.2\n",
            "  Attempting uninstall: future\n",
            "    Found existing installation: future 0.16.0\n",
            "    Uninstalling future-0.16.0:\n",
            "      Successfully uninstalled future-0.16.0\n",
            "\u001b[31mERROR: pip's dependency resolver does not currently take into account all the packages that are installed. This behaviour is the source of the following dependency conflicts.\n",
            "datascience 0.10.6 requires folium==0.2.1, but you have folium 0.8.3 which is incompatible.\n",
            "albumentations 0.1.12 requires imgaug<0.2.7,>=0.2.5, but you have imgaug 0.2.9 which is incompatible.\u001b[0m\n",
            "Successfully installed argcomplete-2.0.0 argh-0.26.2 argparse-1.4.0 asciitree-0.3.3 bedparse-0.2.3 bx-python-0.8.13 cooler-0.8.11 cytoolz-0.10.1 deeptools-3.5.1 deeptoolsintervals-0.1.9 fonttools-4.34.4 future-0.18.2 gffutils-0.11.0 gunzip-0.1.10 hicmatrix-15 intervaltree-3.1.0 matplotlib-3.5.1 microapp-0.3.15 numpydoc-1.4.0 py2bit-0.3.0 pyBigWig-0.3.18 pyGenomeTracks-3.7 pybedtools-0.9.0 pyfaidx-0.7.0 pypairix-0.3.7 pysam-0.19.1 simplejson-3.17.6 sphinx-5.1.0 sphinxcontrib-applehelp-1.0.2 sphinxcontrib-devhelp-1.0.2 sphinxcontrib-htmlhelp-2.0.0 sphinxcontrib-jsmath-1.0.1 sphinxcontrib-qthelp-1.0.3\n"
          ]
        },
        {
          "output_type": "display_data",
          "data": {
            "application/vnd.colab-display-data+json": {
              "pip_warning": {
                "packages": [
                  "argparse",
                  "matplotlib",
                  "mpl_toolkits",
                  "sphinxcontrib"
                ]
              }
            }
          },
          "metadata": {}
        },
        {
          "output_type": "stream",
          "name": "stdout",
          "text": [
            "Reading package lists... Done\n",
            "Building dependency tree       \n",
            "Reading state information... Done\n",
            "The following package was automatically installed and is no longer required:\n",
            "  libnvidia-common-460\n",
            "Use 'apt autoremove' to remove it.\n",
            "The following NEW packages will be installed:\n",
            "  bedtools\n",
            "0 upgraded, 1 newly installed, 0 to remove and 49 not upgraded.\n",
            "Need to get 577 kB of archives.\n",
            "After this operation, 2,040 kB of additional disk space will be used.\n",
            "Get:1 http://archive.ubuntu.com/ubuntu bionic/universe amd64 bedtools amd64 2.26.0+dfsg-5 [577 kB]\n",
            "Fetched 577 kB in 1s (919 kB/s)\n",
            "Selecting previously unselected package bedtools.\n",
            "(Reading database ... 155653 files and directories currently installed.)\n",
            "Preparing to unpack .../bedtools_2.26.0+dfsg-5_amd64.deb ...\n",
            "Unpacking bedtools (2.26.0+dfsg-5) ...\n",
            "Setting up bedtools (2.26.0+dfsg-5) ...\n"
          ]
        }
      ],
      "source": [
        "!pip install pyBigWig pybedtools gunzip bedparse deeptools pyGenomeTracks\n",
        "!apt install bedtools"
      ]
    },
    {
      "cell_type": "code",
      "execution_count": 2,
      "metadata": {
        "id": "9_mdlbHEVKH6",
        "colab": {
          "base_uri": "https://localhost:8080/"
        },
        "outputId": "90549408-b6d1-4a10-e8d8-38f25839996a"
      },
      "outputs": [
        {
          "output_type": "stream",
          "name": "stdout",
          "text": [
            "Mounted at /content/drive\n"
          ]
        }
      ],
      "source": [
        "import pandas as pd\n",
        "from google.colab import files\n",
        "import io\n",
        "import json\n",
        "import itertools\n",
        "import numpy as np\n",
        "import altair as alt\n",
        "from tqdm.notebook import tqdm\n",
        "import csv\n",
        "import os\n",
        "import urllib\n",
        "import pandas as pd\n",
        "from altair import data_transformers\n",
        "import pickle\n",
        "from IPython.display import Image\n",
        "from google.colab import drive\n",
        "\n",
        "import pyBigWig\n",
        "import pybedtools\n",
        "\n",
        "drive.mount(\"/content/drive\")"
      ]
    },
    {
      "cell_type": "markdown",
      "metadata": {
        "id": "9NPsWXlCcp99"
      },
      "source": [
        "# Get TSV of all data from Blueprint, Filter and Download it"
      ]
    },
    {
      "cell_type": "code",
      "execution_count": 3,
      "metadata": {
        "id": "rUVY8WOqba1c",
        "colab": {
          "base_uri": "https://localhost:8080/"
        },
        "outputId": "d42153bd-fa16-49b9-b34a-91198659eb38"
      },
      "outputs": [
        {
          "output_type": "stream",
          "name": "stdout",
          "text": [
            "--2022-07-25 03:10:34--  http://dcc.blueprint-epigenome.eu/data/blueprint_files.tsv\n",
            "Resolving dcc.blueprint-epigenome.eu (dcc.blueprint-epigenome.eu)... 193.62.192.83, 193.62.193.83\n",
            "Connecting to dcc.blueprint-epigenome.eu (dcc.blueprint-epigenome.eu)|193.62.192.83|:80... connected.\n",
            "HTTP request sent, awaiting response... 200 OK\n",
            "Length: 4341342 (4.1M) [text/tab-separated-values]\n",
            "Saving to: ‘blueprint_files.tsv’\n",
            "\n",
            "blueprint_files.tsv 100%[===================>]   4.14M  1.22MB/s    in 3.4s    \n",
            "\n",
            "2022-07-25 03:10:38 (1.22 MB/s) - ‘blueprint_files.tsv’ saved [4341342/4341342]\n",
            "\n"
          ]
        }
      ],
      "source": [
        "# Download the TSV file from http://dcc.blueprint-epigenome.eu/#/files, and upload it here\n",
        "# file = files.upload()\n",
        "! wget 'http://dcc.blueprint-epigenome.eu/data/blueprint_files.tsv'\n",
        "data_tsv = pd.read_csv('blueprint_files.tsv', sep='\\t')"
      ]
    },
    {
      "cell_type": "markdown",
      "metadata": {
        "id": "Ymwfdg0jw5VA"
      },
      "source": [
        "Filtering the tsv file to get rid of individuals with diseases, and only keeping the bigWig file format. We also only keep bisulfite sequencing data."
      ]
    },
    {
      "cell_type": "code",
      "execution_count": 4,
      "metadata": {
        "id": "VOQY2CHkbzDn"
      },
      "outputs": [],
      "source": [
        "noDisease_bw_data = data_tsv[(data_tsv['Disease'] == 'None') & \n",
        "                             (data_tsv['Format'] == 'bigWig') & \n",
        "                             (data_tsv['Experiment'] == 'Bisulfite-Seq')]"
      ]
    },
    {
      "cell_type": "markdown",
      "metadata": {
        "id": "TcZMPRBRxBF9"
      },
      "source": [
        "Types of cells present in the dataset. For now, I'll choose a macrophage sample, and a plasma cell"
      ]
    },
    {
      "cell_type": "code",
      "execution_count": 5,
      "metadata": {
        "colab": {
          "base_uri": "https://localhost:8080/"
        },
        "id": "76vT2Ulwm-v3",
        "outputId": "ad12993c-6f35-4cd5-ff3b-edc580da5f4d"
      },
      "outputs": [
        {
          "output_type": "execute_result",
          "data": {
            "text/plain": [
              "array(['band form neutrophil', 'neutrophilic metamyelocyte',\n",
              "       'neutrophilic myelocyte', 'segmented neutrophil of bone marrow',\n",
              "       'hematopoietic multipotent progenitor cell', 'precursor B cell',\n",
              "       'precursor lymphocyte of B lineage', 'plasma cell',\n",
              "       'mature neutrophil', 'CD38-negative naive B cell',\n",
              "       'CD14-positive, CD16-negative classical monocyte',\n",
              "       'CD8-positive, alpha-beta T cell',\n",
              "       'cytotoxic CD56-dim natural killer cell',\n",
              "       'inflammatory macrophage', 'erythroblast',\n",
              "       'CD34-negative, CD41-positive, CD42-positive megakaryocyte cell',\n",
              "       'macrophage', 'endothelial cell of umbilical vein (proliferating)',\n",
              "       'endothelial cell of umbilical vein (resting)',\n",
              "       'alternatively activated macrophage',\n",
              "       'conventional dendritic cell',\n",
              "       'CD3-negative, CD4-positive, CD8-positive, double positive thymocyte',\n",
              "       'CD3-positive, CD4-positive, CD8-positive, double positive thymocyte',\n",
              "       'CD4-positive, alpha-beta thymocyte',\n",
              "       'CD8-positive, alpha-beta thymocyte', 'thymocyte',\n",
              "       'germinal center B cell', 'CD4-positive, alpha-beta T cell',\n",
              "       'immature conventional dendritic cell',\n",
              "       'mature conventional dendritic cell', 'osteoclast',\n",
              "       'effector memory CD8-positive, alpha-beta T cell',\n",
              "       'class switched memory B cell', 'memory B cell',\n",
              "       'central memory CD8-positive, alpha-beta T cell', 'monocyte',\n",
              "       'naive B cell', 'effector memory CD4-positive, alpha-beta T cell',\n",
              "       'regulatory T cell',\n",
              "       'effector memory CD8-positive, alpha-beta T cell, terminally differentiated',\n",
              "       'mature eosinophil',\n",
              "       'central memory CD4-positive, alpha-beta T cell',\n",
              "       'adult endothelial progenitor cell',\n",
              "       'mesenchymal stem cell of the bone marrow'], dtype=object)"
            ]
          },
          "metadata": {},
          "execution_count": 5
        }
      ],
      "source": [
        "cell_types = noDisease_bw_data['Cell type'].unique()\n",
        "cell_types"
      ]
    },
    {
      "cell_type": "markdown",
      "metadata": {
        "id": "ot6wpC656LXS"
      },
      "source": [
        "Get example of macrophage and plasma data, and extract its url."
      ]
    },
    {
      "cell_type": "code",
      "execution_count": 6,
      "metadata": {
        "id": "S_oc8tqHzkXK"
      },
      "outputs": [],
      "source": [
        "cell_type_1 = 'macrophage'\n",
        "cell_type_2 = 'plasma cell'\n",
        "\n",
        "assert cell_type_1 in cell_types, \"{} not a valid cell type\".format(cell_type_1)\n",
        "assert cell_type_2 in cell_types, \"{} not a valid cell type\".format(cell_type_2)\n",
        "\n",
        "cell1_data = noDisease_bw_data[noDisease_bw_data['Cell type'] == cell_type_1]\n",
        "cell2_data = noDisease_bw_data[noDisease_bw_data['Cell type'] == cell_type_2]\n",
        "\n",
        "cell1_call = cell1_data.iloc[0]\n",
        "cell1_cov = cell1_data.iloc[1]\n",
        "cell2_call = cell2_data.iloc[0]\n",
        "cell2_cov = cell2_data.iloc[1]\n",
        "\n",
        "cell1_call_url = cell1_call['URL']\n",
        "cell1_cov_url = cell1_cov['URL']\n",
        "cell2_call_url = cell2_call['URL']\n",
        "cell2_cov_url = cell2_cov['URL']\n",
        "\n",
        "cell1_call_filename = cell1_call_url.split(\"/\")[-1]\n",
        "cell1_cov_filename = cell1_cov_url.split(\"/\")[-1]\n",
        "cell2_call_filename = cell2_call_url.split(\"/\")[-1]\n",
        "cell2_cov_filename = cell2_cov_url.split(\"/\")[-1]"
      ]
    },
    {
      "cell_type": "markdown",
      "metadata": {
        "id": "pgrJ3vQrMP2b"
      },
      "source": [
        "Downloading the data at the four URLs! This will take around 10 minutes."
      ]
    },
    {
      "cell_type": "code",
      "execution_count": 7,
      "metadata": {
        "colab": {
          "base_uri": "https://localhost:8080/"
        },
        "id": "HvfCQqP5o71o",
        "outputId": "63362e7a-7f1b-4008-9ffb-90da384a0c59"
      },
      "outputs": [
        {
          "output_type": "stream",
          "name": "stdout",
          "text": [
            "--2022-07-25 03:10:38--  http://ftp.ebi.ac.uk/pub/databases/blueprint/data/homo_sapiens/GRCh38/cord_blood/S00BHQ/macrophage/Bisulfite-Seq/CNAG/S00BHQ51.CPG_methylation_calls.bs_call.GRCh38.20160531.bw\n",
            "Resolving ftp.ebi.ac.uk (ftp.ebi.ac.uk)... 193.62.193.138\n",
            "Connecting to ftp.ebi.ac.uk (ftp.ebi.ac.uk)|193.62.193.138|:80... connected.\n",
            "HTTP request sent, awaiting response... 200 OK\n",
            "Length: 125016699 (119M) [application/octet-stream]\n",
            "Saving to: ‘S00BHQ51.CPG_methylation_calls.bs_call.GRCh38.20160531.bw’\n",
            "\n",
            "S00BHQ51.CPG_methyl   0%[                    ]       0  --.-KB/s    in 15m 0s  \n",
            "\n",
            "2022-07-25 03:25:39 (0.00 B/s) - Read error at byte 0/125016699 (Connection timed out). Retrying.\n",
            "\n",
            "--2022-07-25 03:25:40--  (try: 2)  http://ftp.ebi.ac.uk/pub/databases/blueprint/data/homo_sapiens/GRCh38/cord_blood/S00BHQ/macrophage/Bisulfite-Seq/CNAG/S00BHQ51.CPG_methylation_calls.bs_call.GRCh38.20160531.bw\n",
            "Connecting to ftp.ebi.ac.uk (ftp.ebi.ac.uk)|193.62.193.138|:80... connected.\n",
            "HTTP request sent, awaiting response... 200 OK\n",
            "Length: 125016699 (119M) [application/octet-stream]\n",
            "Saving to: ‘S00BHQ51.CPG_methylation_calls.bs_call.GRCh38.20160531.bw’\n",
            "\n",
            "S00BHQ51.CPG_methyl   0%[                    ]       0  --.-KB/s    in 15m 0s  \n",
            "\n",
            "2022-07-25 03:40:40 (0.00 B/s) - Read error at byte 0/125016699 (Connection timed out). Retrying.\n",
            "\n",
            "--2022-07-25 03:40:42--  (try: 3)  http://ftp.ebi.ac.uk/pub/databases/blueprint/data/homo_sapiens/GRCh38/cord_blood/S00BHQ/macrophage/Bisulfite-Seq/CNAG/S00BHQ51.CPG_methylation_calls.bs_call.GRCh38.20160531.bw\n",
            "Connecting to ftp.ebi.ac.uk (ftp.ebi.ac.uk)|193.62.193.138|:80... connected.\n",
            "HTTP request sent, awaiting response... 200 OK\n",
            "Length: 125016699 (119M) [application/octet-stream]\n",
            "Saving to: ‘S00BHQ51.CPG_methylation_calls.bs_call.GRCh38.20160531.bw’\n",
            "\n",
            "S00BHQ51.CPG_methyl 100%[===================>] 119.22M  1.38MB/s    in 89s     \n",
            "\n",
            "2022-07-25 03:42:11 (1.34 MB/s) - ‘S00BHQ51.CPG_methylation_calls.bs_call.GRCh38.20160531.bw’ saved [125016699/125016699]\n",
            "\n",
            "--2022-07-25 03:42:12--  http://ftp.ebi.ac.uk/pub/databases/blueprint/data/homo_sapiens/GRCh38/cord_blood/S00BHQ/macrophage/Bisulfite-Seq/CNAG/S00BHQ51.CPG_methylation_calls.bs_cov.GRCh38.20160531.bw\n",
            "Resolving ftp.ebi.ac.uk (ftp.ebi.ac.uk)... 193.62.193.138\n",
            "Connecting to ftp.ebi.ac.uk (ftp.ebi.ac.uk)|193.62.193.138|:80... connected.\n",
            "HTTP request sent, awaiting response... 200 OK\n",
            "Length: 112923116 (108M) [application/octet-stream]\n",
            "Saving to: ‘S00BHQ51.CPG_methylation_calls.bs_cov.GRCh38.20160531.bw’\n",
            "\n",
            "S00BHQ51.CPG_methyl 100%[===================>] 107.69M  1.35MB/s    in 79s     \n",
            "\n",
            "2022-07-25 03:43:31 (1.36 MB/s) - ‘S00BHQ51.CPG_methylation_calls.bs_cov.GRCh38.20160531.bw’ saved [112923116/112923116]\n",
            "\n",
            "--2022-07-25 03:43:31--  http://ftp.ebi.ac.uk/pub/databases/blueprint/data/homo_sapiens/GRCh38/bone_marrow/MO7071/plasma_cell/Bisulfite-Seq/CNAG/G202.CPG_methylation_calls.bs_call.GRCh38.20160531.bw\n",
            "Resolving ftp.ebi.ac.uk (ftp.ebi.ac.uk)... 193.62.193.138\n",
            "Connecting to ftp.ebi.ac.uk (ftp.ebi.ac.uk)|193.62.193.138|:80... connected.\n",
            "HTTP request sent, awaiting response... 200 OK\n",
            "Length: 154166573 (147M) [application/octet-stream]\n",
            "Saving to: ‘G202.CPG_methylation_calls.bs_call.GRCh38.20160531.bw’\n",
            "\n",
            "G202.CPG_methylatio   0%[                    ]  13.55K  13.6KB/s    in 6m 53s  \n",
            "\n",
            "2022-07-25 03:50:25 (33.6 B/s) - Connection closed at byte 13880. Retrying.\n",
            "\n",
            "--2022-07-25 03:50:26--  (try: 2)  http://ftp.ebi.ac.uk/pub/databases/blueprint/data/homo_sapiens/GRCh38/bone_marrow/MO7071/plasma_cell/Bisulfite-Seq/CNAG/G202.CPG_methylation_calls.bs_call.GRCh38.20160531.bw\n",
            "Connecting to ftp.ebi.ac.uk (ftp.ebi.ac.uk)|193.62.193.138|:80... connected.\n",
            "HTTP request sent, awaiting response... 206 Partial Content\n",
            "Length: 154166573 (147M), 154152693 (147M) remaining [application/octet-stream]\n",
            "Saving to: ‘G202.CPG_methylation_calls.bs_call.GRCh38.20160531.bw’\n",
            "\n",
            "G202.CPG_methylatio 100%[===================>] 147.02M   187KB/s    in 3m 56s  \n",
            "\n",
            "2022-07-25 03:54:23 (637 KB/s) - ‘G202.CPG_methylation_calls.bs_call.GRCh38.20160531.bw’ saved [154166573/154166573]\n",
            "\n",
            "--2022-07-25 03:54:23--  http://ftp.ebi.ac.uk/pub/databases/blueprint/data/homo_sapiens/GRCh38/bone_marrow/MO7071/plasma_cell/Bisulfite-Seq/CNAG/G202.CPG_methylation_calls.bs_cov.GRCh38.20160531.bw\n",
            "Resolving ftp.ebi.ac.uk (ftp.ebi.ac.uk)... 193.62.193.138\n",
            "Connecting to ftp.ebi.ac.uk (ftp.ebi.ac.uk)|193.62.193.138|:80... connected.\n",
            "HTTP request sent, awaiting response... 200 OK\n",
            "Length: 121094058 (115M) [application/octet-stream]\n",
            "Saving to: ‘G202.CPG_methylation_calls.bs_cov.GRCh38.20160531.bw’\n",
            "\n",
            "G202.CPG_methylatio 100%[===================>] 115.48M  1.37MB/s    in 2m 2s   \n",
            "\n",
            "2022-07-25 03:56:25 (971 KB/s) - ‘G202.CPG_methylation_calls.bs_cov.GRCh38.20160531.bw’ saved [121094058/121094058]\n",
            "\n"
          ]
        }
      ],
      "source": [
        "! wget '$cell1_call_url'\n",
        "! wget '$cell1_cov_url'\n",
        "! wget '$cell2_call_url'\n",
        "! wget '$cell2_cov_url'"
      ]
    },
    {
      "cell_type": "code",
      "execution_count": 8,
      "metadata": {
        "colab": {
          "base_uri": "https://localhost:8080/"
        },
        "id": "sB3SAaUpbO_5",
        "outputId": "3e8377b0-0778-485e-b719-dbef8ec7642d"
      },
      "outputs": [
        {
          "output_type": "stream",
          "name": "stdout",
          "text": [
            "Dictionary signature for cache files: 76de60e0\n",
            "\n",
            "Number of Blueprint cell types: 2\n",
            "Number of Blueprint raw files: 2\n"
          ]
        }
      ],
      "source": [
        "# Annotations & bs_cov / bs_call names\n",
        "CELL_TYPE_TO_FILE_ID = {\n",
        "    \"Macrophage\": [\"S00BHQ51\"],\n",
        "    \"Plasma_cell\": [\"G202\"]\n",
        "}\n",
        "\n",
        "# Reverse mapping of file id -> cell type\n",
        "# e.g.  'S01BHIA1': 'Monocyte'\n",
        "FILE_ID_TO_CELL_TYPE = {sample:cell_type for cell_type, sample_list in CELL_TYPE_TO_FILE_ID.items() for sample in sample_list}\n",
        "\n",
        "# If the blueprint dict changes, we need to replace our cache files\n",
        "# This is a tiny checksum of the dictionary state, which we incorporate into\n",
        "# our cache filenames below.\n",
        "CELL_TYPE_DICT_SIG = str(hex(abs(hash(json.dumps(CELL_TYPE_TO_FILE_ID, sort_keys=True))))[2:10])\n",
        "print(f\"Dictionary signature for cache files: {CELL_TYPE_DICT_SIG}\\n\")\n",
        "\n",
        "\n",
        "BLUEPRINT_FILEKEYS = list(itertools.chain.from_iterable(CELL_TYPE_TO_FILE_ID.values()))\n",
        "\n",
        "# Validity testing\n",
        "# assert all(len(vals) > 1 for vals in CELL_TYPE_TO_FILE_ID.values()), \"We need more than one example per cell type.\"\n",
        "assert len(BLUEPRINT_FILEKEYS) == len(set(BLUEPRINT_FILEKEYS)), \"One filename is duplicated in the cell types\"\n",
        "\n",
        "print(f\"Number of Blueprint cell types: {len(CELL_TYPE_TO_FILE_ID.keys())}\")\n",
        "print(f\"Number of Blueprint raw files: {len(BLUEPRINT_FILEKEYS)}\")\n",
        "\n",
        "CHROMOSOMES = [\"chr\" + str(i) for i in range(1, 23)] + [\"chrX\"]\n",
        "CHROMOSOMES = [\"chr7\", \"chr17\"]"
      ]
    },
    {
      "cell_type": "markdown",
      "metadata": {
        "id": "s0_wxaaTEdZM"
      },
      "source": [
        "# Create shared **cov** map\n",
        "\n",
        "Load coverage (if >minimum below) across all files, then determine the set() shared across **all** samples.\n",
        "\n",
        "IF a locus (e.g. \"chr1:123\") is missing from **one** single sample, it will be **excluded** from our entire analysis.\n",
        "\n",
        "IF a locus has \\<20 reads in **one** single sample, it will be **excluded** from our entire analysis."
      ]
    },
    {
      "cell_type": "code",
      "execution_count": 9,
      "metadata": {
        "colab": {
          "base_uri": "https://localhost:8080/",
          "height": 170,
          "referenced_widgets": [
            "22c99431fb974af2af22661f1e46038f",
            "20a5ae576bb44de3b0861031e7cf46f9",
            "f49c46256da84258b8bd829e88028fb6",
            "370efde789dc4df7a0bbd56ffaedbc44",
            "e6c9a46955a748d0a26af3af960ff72b",
            "dccdd16624f0489c8e6171642774a807",
            "f637e191c52344b0a69c72b66c8fc96c",
            "0ccce2d63adb41f9a0b05b16476691c6",
            "349ae8cdcb374ed9951dc6a836748c71",
            "8d929335c6634f15bd34f7944e91ea61",
            "129f58f096214ef1974773a5ac48e08b"
          ]
        },
        "id": "AFBC6h3kiOmB",
        "outputId": "edb51640-03aa-4829-dd34-7187250e183b"
      },
      "outputs": [
        {
          "output_type": "stream",
          "name": "stdout",
          "text": [
            "Minimum Blueprint coverage limit: 10\n",
            " (CpGs with fewer than 10 reads in *any* sample will be ignored.)\n",
            "\n",
            "Coverage BED: intersected_bs_cov_min_10_76de60e0.bed\n",
            "\t.bed does not exist yet -- parsing bs_cov .bw files.\n"
          ]
        },
        {
          "output_type": "display_data",
          "data": {
            "text/plain": [
              "  0%|          | 0/2 [00:00<?, ?it/s]"
            ],
            "application/vnd.jupyter.widget-view+json": {
              "version_major": 2,
              "version_minor": 0,
              "model_id": "22c99431fb974af2af22661f1e46038f"
            }
          },
          "metadata": {}
        },
        {
          "output_type": "stream",
          "name": "stdout",
          "text": [
            "\n",
            "Wrote data to: intersected_bs_cov_min_10_76de60e0.bed\n"
          ]
        }
      ],
      "source": [
        "IGNORE_CACHE = False\n",
        "\n",
        "BLUEPRINT_CPG_COV_MINIMUM = 10\n",
        "\n",
        "RUN_SIGNATURE = f\"{BLUEPRINT_CPG_COV_MINIMUM}_{CELL_TYPE_DICT_SIG}\"\n",
        "\n",
        "assert type(BLUEPRINT_CPG_COV_MINIMUM) is int\n",
        "assert BLUEPRINT_CPG_COV_MINIMUM > 0\n",
        "\n",
        "print(f\"Minimum Blueprint coverage limit: {BLUEPRINT_CPG_COV_MINIMUM}\")\n",
        "print(f\" (CpGs with fewer than {BLUEPRINT_CPG_COV_MINIMUM} reads in *any* sample will be ignored.)\\n\")\n",
        "\n",
        "# Our output / save file\n",
        "INTERSECTED_COVERAGE_BED = f\"intersected_bs_cov_min_{RUN_SIGNATURE}.bed\"\n",
        "CLEAN_INTERSECTED_COVERAGE_BED = f\"intersected_bs_cov_min_{RUN_SIGNATURE}_clean.bed\"\n",
        "\n",
        "print(f\"Coverage BED: {INTERSECTED_COVERAGE_BED}\")\n",
        "\n",
        "if os.path.exists(INTERSECTED_COVERAGE_BED) and not IGNORE_CACHE:\n",
        "    print(\"\\tPost-processed cov .bed already exists. (Skipping raw Blueprint bs_cov parsing.)\")\n",
        "else:\n",
        "    print(\"\\t.bed does not exist yet -- parsing bs_cov .bw files.\")\n",
        "    INTERSECTED_BS_COV_POSITIONS = {}\n",
        "    MAX_CHROMOSOME_SIZE = {}\n",
        "\n",
        "    for file_key in tqdm(BLUEPRINT_FILEKEYS):\n",
        "        with pyBigWig.open(file_key + \".CPG_methylation_calls.bs_cov.GRCh38.20160531.bw\") as bw_object:\n",
        "            bw_header = bw_object.header()\n",
        "            if bw_header['nBasesCovered'] < 1e7 or bw_header['sumData'] < 1e8:\n",
        "                print('\\t\\t*** WARNING: Input .bw has few reads or low coverage. This may cause unexpected results, consider removing this file.')\n",
        "                print(f\"\\t\\tnBasesCovered: {bw_header['nBasesCovered']}, sumData: {bw_header['sumData']}\")\n",
        "            for chrom in CHROMOSOMES:\n",
        "                current_loop_values = set([start for start, _, cov in bw_object.intervals(chrom) if cov >= BLUEPRINT_CPG_COV_MINIMUM])\n",
        "                MAX_CHROMOSOME_SIZE[chrom] = np.max(list(current_loop_values))\n",
        "                existing_values = INTERSECTED_BS_COV_POSITIONS.get(chrom, current_loop_values)\n",
        "                INTERSECTED_BS_COV_POSITIONS[chrom] = existing_values.intersection(current_loop_values)\n",
        "            # print(track)\n",
        "\n",
        "    # Save this hard work as a .bed for later recovery if needed\n",
        "    with open(INTERSECTED_COVERAGE_BED, 'w') as outfile:\n",
        "        # A .bed is just a .tsv with ['chrom', 'chromStart', 'chromEnd']\n",
        "        bed_writer = csv.writer(outfile, delimiter='\\t')\n",
        "        for chr in CHROMOSOMES:\n",
        "            for entry in INTERSECTED_BS_COV_POSITIONS[chr]:\n",
        "                bed_writer.writerow([chr, entry, entry+1])\n",
        "\n",
        "    print(f\"\\nWrote data to: {INTERSECTED_COVERAGE_BED}\") # Unsorted\n",
        "\n",
        "! cat {INTERSECTED_COVERAGE_BED} | tr -d '\\r' > {CLEAN_INTERSECTED_COVERAGE_BED}"
      ]
    },
    {
      "cell_type": "markdown",
      "metadata": {
        "id": "WItxmabtqkIE"
      },
      "source": [
        "# Removing ENCODE Regions"
      ]
    },
    {
      "cell_type": "markdown",
      "metadata": {
        "id": "hI5ItooDEtVF"
      },
      "source": [
        "Encode defines a standard list of \"bad\" regions -- very low complexity / information content, etc. that show up in some studies but are not informative. We remove them and do some other standard data cleaning."
      ]
    },
    {
      "cell_type": "code",
      "execution_count": 10,
      "metadata": {
        "colab": {
          "base_uri": "https://localhost:8080/"
        },
        "id": "O2PpXQc-D53g",
        "outputId": "eb067a84-97c2-4f80-c169-b4591805dc1c"
      },
      "outputs": [
        {
          "output_type": "stream",
          "name": "stdout",
          "text": [
            "Number of entries in bs_cov (raw): 1,940,103\n",
            "Downloading ENCODE DAC Exclusion List\n",
            "Number of entries in excluded_regions: 910\n",
            "Number of remaining bs_cov entries: 1,926,990\n"
          ]
        }
      ],
      "source": [
        "# Load the .bed from above\n",
        "raw_bs_cov_bed = pybedtools.BedTool(CLEAN_INTERSECTED_COVERAGE_BED)\n",
        "print(f\"Number of entries in bs_cov (raw): {len(raw_bs_cov_bed):,}\")\n",
        "\n",
        "if not os.path.exists(\"ENCFF356LFX.bed.gz\"):\n",
        "    print(\"Downloading ENCODE DAC Exclusion List\")\n",
        "    urllib.request.urlretrieve(\"https://www.encodeproject.org/files/ENCFF356LFX/@@download/ENCFF356LFX.bed.gz\", \"ENCFF356LFX.bed.gz\")\n",
        "\n",
        "! gunzip ENCFF356LFX.bed.gz\n",
        "excluded_regions = pybedtools.BedTool(\"ENCFF356LFX.bed\")\n",
        "print(f\"Number of entries in excluded_regions: {len(excluded_regions):,}\")\n",
        "assert len(excluded_regions) > 900 # 910 as of 1/2022\n",
        "\n",
        "# .saveas forces this to render, otherwise may be a generator\n",
        "# TODO: Fix path to be more specific\n",
        "cleaned_sorted_bs_cov = raw_bs_cov_bed.subtract(excluded_regions).sort().saveas('bs_cov_cleaned_sorted.bed')\n",
        "print(f\"Number of remaining bs_cov entries: {len(cleaned_sorted_bs_cov):,}\")\n",
        "# assert len(cleaned_sorted_bs_cov) > 90000 # We expect about 90k entries\n",
        "\n",
        "\n",
        "# Convert `bs_cov_cleaned_sorted` to a dict too:\n",
        "#  key: chr\n",
        "#  val: [sorted list of bs_cov positions]\n",
        "# NOTE: This works because dicts are insertion ordered as of Python>3.7\n",
        "BS_COV_POSITIONS = {}\n",
        "for bed_entry in cleaned_sorted_bs_cov:\n",
        "    BS_COV_POSITIONS.setdefault(bed_entry.chrom, []).append(bed_entry.start)"
      ]
    },
    {
      "cell_type": "markdown",
      "metadata": {
        "id": "hlav7jFbqshl"
      },
      "source": [
        "# Load bs_call data"
      ]
    },
    {
      "cell_type": "code",
      "execution_count": 11,
      "metadata": {
        "colab": {
          "base_uri": "https://localhost:8080/",
          "height": 101,
          "referenced_widgets": [
            "ec0b1df6a4aa47eabbf0269ed566ab61",
            "0f3d27760359427aa3529016e69b2829",
            "c94eb4c304dc4ebcaccde8fda49af1a1",
            "3541c56d54cb427cbb26b900456d33c2",
            "1ba725963fbc4481a789ffe5f03a250f",
            "5a39af1f84d84f828fc91a31c04e14b9",
            "fd3185341a0e47238ea3d509c30c72fa",
            "df9ba2863f9841dc9791fc63223425ed",
            "b88a430089b94b82a4bfbb941cf34305",
            "93f72a6795f14e15b6496f04269707d6",
            "6433a45f30c44cbd9bbe5cec387b5173"
          ]
        },
        "id": "gfy9TJrlAfeB",
        "outputId": "a2fb1c7f-6401-400e-97a9-49208bc2b3e9"
      },
      "outputs": [
        {
          "output_type": "stream",
          "name": "stdout",
          "text": [
            "Parsing bs_call files.\n"
          ]
        },
        {
          "output_type": "display_data",
          "data": {
            "text/plain": [
              "  0%|          | 0/2 [00:00<?, ?it/s]"
            ],
            "application/vnd.jupyter.widget-view+json": {
              "version_major": 2,
              "version_minor": 0,
              "model_id": "ec0b1df6a4aa47eabbf0269ed566ab61"
            }
          },
          "metadata": {}
        },
        {
          "output_type": "stream",
          "name": "stdout",
          "text": [
            "S00BHQ51\n",
            "G202\n"
          ]
        }
      ],
      "source": [
        "FILE_ID_TO_CPG_CALLS = { }\n",
        "\n",
        "# cache_file = \"bs_call_min_\" + str(BLUEPRINT_CPG_COV_MINIMUM) + \".json\"\n",
        "print(\"Parsing bs_call files.\")\n",
        "for file_key in tqdm(BLUEPRINT_FILEKEYS):\n",
        "    print(f\"{file_key}\")\n",
        "    FILE_ID_TO_CPG_CALLS[file_key] = {}\n",
        "    with pyBigWig.open(file_key + \".CPG_methylation_calls.bs_call.GRCh38.20160531.bw\") as bw_object:\n",
        "        for chrom in CHROMOSOMES:\n",
        "            # This is more nuanced than the bs_cov data, since we only want to look at the \n",
        "            # CpGs that were covered across all samples. (The intervals now in BS_COV_POSITIONS).\n",
        "\n",
        "            # Each .bw interval is a nested tuple of: ((start, end, value))\n",
        "            # We extract all the values that overlap our bs_cov set.\n",
        "            # FILE_ID_TO_CPG_CALLS[file_key][chrom] = [bw_object.intervals(chrom, pos, pos+1)[0][2] for pos in INTERSECTED_BS_COV_POSITIONS[chrom]]\n",
        "            temp = []\n",
        "            for pos in BS_COV_POSITIONS[chrom]:\n",
        "                temp.append(bw_object.intervals(chrom, pos, pos+1)[0][2])\n",
        "                FILE_ID_TO_CPG_CALLS[file_key][chrom] = temp\n",
        "\n",
        "SCALED_BS_COV_POSITIONS = {}\n",
        "for chrom in CHROMOSOMES:\n",
        "    SCALED_BS_COV_POSITIONS[chrom] = np.array(BS_COV_POSITIONS[chrom]) / MAX_CHROMOSOME_SIZE[chrom]"
      ]
    },
    {
      "cell_type": "markdown",
      "source": [
        "# Checkpoint: Download the Relevant Files"
      ],
      "metadata": {
        "id": "Y_t_XEZaIK60"
      }
    },
    {
      "cell_type": "markdown",
      "source": [
        "We are using pickle to dump and load the dictionaries for the locations, scaled locations, and the methylation calls!"
      ],
      "metadata": {
        "id": "wy0MmSr7Jk_Y"
      }
    },
    {
      "cell_type": "code",
      "source": [
        "pickle.dump(SCALED_BS_COV_POSITIONS, open(\"scaled_bs_cov_positions.p\", \"wb\"))\n",
        "pickle.dump(FILE_ID_TO_CPG_CALLS, open(\"file_id_to_cpg_calls.p\", \"wb\"))\n",
        "pickle.dump(BS_COV_POSITIONS, open(\"bs_cov_positions.p\", \"wb\"))\n",
        "\n",
        "files.download(\"scaled_bs_cov_positions.p\")\n",
        "files.download(\"file_id_to_cpg_calls.p\")\n",
        "files.download(\"bs_cov_positions.p\")"
      ],
      "metadata": {
        "id": "JQLy_oLBACp-",
        "colab": {
          "base_uri": "https://localhost:8080/",
          "height": 235
        },
        "outputId": "523fe467-7643-46a1-cd78-5cec5ffe6a30"
      },
      "execution_count": null,
      "outputs": [
        {
          "output_type": "error",
          "ename": "NameError",
          "evalue": "ignored",
          "traceback": [
            "\u001b[0;31m---------------------------------------------------------------------------\u001b[0m",
            "\u001b[0;31mNameError\u001b[0m                                 Traceback (most recent call last)",
            "\u001b[0;32m<ipython-input-3-bafb6a7b0d43>\u001b[0m in \u001b[0;36m<module>\u001b[0;34m()\u001b[0m\n\u001b[0;32m----> 1\u001b[0;31m \u001b[0mpickle\u001b[0m\u001b[0;34m.\u001b[0m\u001b[0mdump\u001b[0m\u001b[0;34m(\u001b[0m\u001b[0mSCALED_BS_COV_POSITIONS\u001b[0m\u001b[0;34m,\u001b[0m \u001b[0mopen\u001b[0m\u001b[0;34m(\u001b[0m\u001b[0;34m\"scaled_bs_cov_positions.p\"\u001b[0m\u001b[0;34m,\u001b[0m \u001b[0;34m\"wb\"\u001b[0m\u001b[0;34m)\u001b[0m\u001b[0;34m)\u001b[0m\u001b[0;34m\u001b[0m\u001b[0;34m\u001b[0m\u001b[0m\n\u001b[0m\u001b[1;32m      2\u001b[0m \u001b[0mpickle\u001b[0m\u001b[0;34m.\u001b[0m\u001b[0mdump\u001b[0m\u001b[0;34m(\u001b[0m\u001b[0mFILE_ID_TO_CPG_CALLS\u001b[0m\u001b[0;34m,\u001b[0m \u001b[0mopen\u001b[0m\u001b[0;34m(\u001b[0m\u001b[0;34m\"file_id_to_cpg_calls.p\"\u001b[0m\u001b[0;34m,\u001b[0m \u001b[0;34m\"wb\"\u001b[0m\u001b[0;34m)\u001b[0m\u001b[0;34m)\u001b[0m\u001b[0;34m\u001b[0m\u001b[0;34m\u001b[0m\u001b[0m\n\u001b[1;32m      3\u001b[0m \u001b[0mpickle\u001b[0m\u001b[0;34m.\u001b[0m\u001b[0mdump\u001b[0m\u001b[0;34m(\u001b[0m\u001b[0mBS_COV_POSITIONS\u001b[0m\u001b[0;34m,\u001b[0m \u001b[0mopen\u001b[0m\u001b[0;34m(\u001b[0m\u001b[0;34m\"bs_cov_positions.p\"\u001b[0m\u001b[0;34m,\u001b[0m \u001b[0;34m\"wb\"\u001b[0m\u001b[0;34m)\u001b[0m\u001b[0;34m)\u001b[0m\u001b[0;34m\u001b[0m\u001b[0;34m\u001b[0m\u001b[0m\n\u001b[1;32m      4\u001b[0m \u001b[0;34m\u001b[0m\u001b[0m\n\u001b[1;32m      5\u001b[0m \u001b[0mfiles\u001b[0m\u001b[0;34m.\u001b[0m\u001b[0mdownload\u001b[0m\u001b[0;34m(\u001b[0m\u001b[0;34m\"scaled_bs_cov_positions.p\"\u001b[0m\u001b[0;34m)\u001b[0m\u001b[0;34m\u001b[0m\u001b[0;34m\u001b[0m\u001b[0m\n",
            "\u001b[0;31mNameError\u001b[0m: name 'SCALED_BS_COV_POSITIONS' is not defined"
          ]
        }
      ]
    },
    {
      "cell_type": "code",
      "source": [
        "# files.download(\"S00BHQ51.CPG_methylation_calls.bs_call.GRCh38.20160531.bw\")\n",
        "files.download(\"S00BHQ51.CPG_methylation_calls.bs_cov.GRCh38.20160531.bw\")\n",
        "files.download(\"G202.CPG_methylation_calls.bs_call.GRCh38.20160531.bw\")\n",
        "files.download(\"G202.CPG_methylation_calls.bs_cov.GRCh38.20160531.bw\")"
      ],
      "metadata": {
        "colab": {
          "base_uri": "https://localhost:8080/",
          "height": 17
        },
        "id": "7MaseF3aqHoX",
        "outputId": "2e3cbb90-8e82-44dd-af61-35a934da5131"
      },
      "execution_count": 21,
      "outputs": [
        {
          "output_type": "display_data",
          "data": {
            "text/plain": [
              "<IPython.core.display.Javascript object>"
            ],
            "application/javascript": [
              "\n",
              "    async function download(id, filename, size) {\n",
              "      if (!google.colab.kernel.accessAllowed) {\n",
              "        return;\n",
              "      }\n",
              "      const div = document.createElement('div');\n",
              "      const label = document.createElement('label');\n",
              "      label.textContent = `Downloading \"${filename}\": `;\n",
              "      div.appendChild(label);\n",
              "      const progress = document.createElement('progress');\n",
              "      progress.max = size;\n",
              "      div.appendChild(progress);\n",
              "      document.body.appendChild(div);\n",
              "\n",
              "      const buffers = [];\n",
              "      let downloaded = 0;\n",
              "\n",
              "      const channel = await google.colab.kernel.comms.open(id);\n",
              "      // Send a message to notify the kernel that we're ready.\n",
              "      channel.send({})\n",
              "\n",
              "      for await (const message of channel.messages) {\n",
              "        // Send a message to notify the kernel that we're ready.\n",
              "        channel.send({})\n",
              "        if (message.buffers) {\n",
              "          for (const buffer of message.buffers) {\n",
              "            buffers.push(buffer);\n",
              "            downloaded += buffer.byteLength;\n",
              "            progress.value = downloaded;\n",
              "          }\n",
              "        }\n",
              "      }\n",
              "      const blob = new Blob(buffers, {type: 'application/binary'});\n",
              "      const a = document.createElement('a');\n",
              "      a.href = window.URL.createObjectURL(blob);\n",
              "      a.download = filename;\n",
              "      div.appendChild(a);\n",
              "      a.click();\n",
              "      div.remove();\n",
              "    }\n",
              "  "
            ]
          },
          "metadata": {}
        },
        {
          "output_type": "display_data",
          "data": {
            "text/plain": [
              "<IPython.core.display.Javascript object>"
            ],
            "application/javascript": [
              "download(\"download_2ce512ab-ae9f-41ee-bf89-6a1edf91473b\", \"S00BHQ51.CPG_methylation_calls.bs_cov.GRCh38.20160531.bw\", 112923116)"
            ]
          },
          "metadata": {}
        },
        {
          "output_type": "display_data",
          "data": {
            "text/plain": [
              "<IPython.core.display.Javascript object>"
            ],
            "application/javascript": [
              "\n",
              "    async function download(id, filename, size) {\n",
              "      if (!google.colab.kernel.accessAllowed) {\n",
              "        return;\n",
              "      }\n",
              "      const div = document.createElement('div');\n",
              "      const label = document.createElement('label');\n",
              "      label.textContent = `Downloading \"${filename}\": `;\n",
              "      div.appendChild(label);\n",
              "      const progress = document.createElement('progress');\n",
              "      progress.max = size;\n",
              "      div.appendChild(progress);\n",
              "      document.body.appendChild(div);\n",
              "\n",
              "      const buffers = [];\n",
              "      let downloaded = 0;\n",
              "\n",
              "      const channel = await google.colab.kernel.comms.open(id);\n",
              "      // Send a message to notify the kernel that we're ready.\n",
              "      channel.send({})\n",
              "\n",
              "      for await (const message of channel.messages) {\n",
              "        // Send a message to notify the kernel that we're ready.\n",
              "        channel.send({})\n",
              "        if (message.buffers) {\n",
              "          for (const buffer of message.buffers) {\n",
              "            buffers.push(buffer);\n",
              "            downloaded += buffer.byteLength;\n",
              "            progress.value = downloaded;\n",
              "          }\n",
              "        }\n",
              "      }\n",
              "      const blob = new Blob(buffers, {type: 'application/binary'});\n",
              "      const a = document.createElement('a');\n",
              "      a.href = window.URL.createObjectURL(blob);\n",
              "      a.download = filename;\n",
              "      div.appendChild(a);\n",
              "      a.click();\n",
              "      div.remove();\n",
              "    }\n",
              "  "
            ]
          },
          "metadata": {}
        },
        {
          "output_type": "display_data",
          "data": {
            "text/plain": [
              "<IPython.core.display.Javascript object>"
            ],
            "application/javascript": [
              "download(\"download_a9b33cdb-9dff-4987-93e4-19ed681440bb\", \"G202.CPG_methylation_calls.bs_call.GRCh38.20160531.bw\", 154166573)"
            ]
          },
          "metadata": {}
        },
        {
          "output_type": "display_data",
          "data": {
            "text/plain": [
              "<IPython.core.display.Javascript object>"
            ],
            "application/javascript": [
              "\n",
              "    async function download(id, filename, size) {\n",
              "      if (!google.colab.kernel.accessAllowed) {\n",
              "        return;\n",
              "      }\n",
              "      const div = document.createElement('div');\n",
              "      const label = document.createElement('label');\n",
              "      label.textContent = `Downloading \"${filename}\": `;\n",
              "      div.appendChild(label);\n",
              "      const progress = document.createElement('progress');\n",
              "      progress.max = size;\n",
              "      div.appendChild(progress);\n",
              "      document.body.appendChild(div);\n",
              "\n",
              "      const buffers = [];\n",
              "      let downloaded = 0;\n",
              "\n",
              "      const channel = await google.colab.kernel.comms.open(id);\n",
              "      // Send a message to notify the kernel that we're ready.\n",
              "      channel.send({})\n",
              "\n",
              "      for await (const message of channel.messages) {\n",
              "        // Send a message to notify the kernel that we're ready.\n",
              "        channel.send({})\n",
              "        if (message.buffers) {\n",
              "          for (const buffer of message.buffers) {\n",
              "            buffers.push(buffer);\n",
              "            downloaded += buffer.byteLength;\n",
              "            progress.value = downloaded;\n",
              "          }\n",
              "        }\n",
              "      }\n",
              "      const blob = new Blob(buffers, {type: 'application/binary'});\n",
              "      const a = document.createElement('a');\n",
              "      a.href = window.URL.createObjectURL(blob);\n",
              "      a.download = filename;\n",
              "      div.appendChild(a);\n",
              "      a.click();\n",
              "      div.remove();\n",
              "    }\n",
              "  "
            ]
          },
          "metadata": {}
        },
        {
          "output_type": "display_data",
          "data": {
            "text/plain": [
              "<IPython.core.display.Javascript object>"
            ],
            "application/javascript": [
              "download(\"download_93f60c70-5de6-463c-8770-89d7351b72d3\", \"G202.CPG_methylation_calls.bs_cov.GRCh38.20160531.bw\", 121094058)"
            ]
          },
          "metadata": {}
        }
      ]
    },
    {
      "cell_type": "markdown",
      "source": [
        "Upload the files into your Google Drive. I put them in the main directory, although you could put them somewhere else. Just change the path below to wherever the file is!"
      ],
      "metadata": {
        "id": "hJTjm2xDjWxX"
      }
    },
    {
      "cell_type": "code",
      "source": [
        "SCALED_BS_COV_POSITIONS = pickle.load(open(\"/content/drive/My Drive/scaled_bs_cov_positions.p\", \"rb\"))\n",
        "FILE_ID_TO_CPG_CALLS = pickle.load(open(\"/content/drive/My Drive/file_id_to_cpg_calls.p\", \"rb\"))\n",
        "BS_COV_POSITIONS = pickle.load(open(\"/content/drive/My Drive/bs_cov_positions.p\", \"rb\"))"
      ],
      "metadata": {
        "id": "GvpNeYZMK8YD"
      },
      "execution_count": 16,
      "outputs": []
    },
    {
      "cell_type": "code",
      "source": [
        "with open(\"bs_cov_cleaned_sorted.bed\", 'w') as outfile:\n",
        "    # A .bed is just a .tsv with ['chrom', 'chromStart', 'chromEnd']\n",
        "    bed_writer = csv.writer(outfile, delimiter='\\t')\n",
        "    for chr in CHROMOSOMES:\n",
        "        for entry in BS_COV_POSITIONS[chr]:\n",
        "            bed_writer.writerow([chr, entry, entry+1])"
      ],
      "metadata": {
        "id": "u2Tz6bB4X3Xv"
      },
      "execution_count": 17,
      "outputs": []
    },
    {
      "cell_type": "markdown",
      "source": [
        "# Visualize the Methylation Data"
      ],
      "metadata": {
        "id": "dFQWeUSLi1kE"
      }
    },
    {
      "cell_type": "markdown",
      "source": [
        "We create a Pandas dataframe with columns for cell type, location, and corresponding methylation! This way, we can plot the location on the chromosome vs methylation for different cell types.\n",
        "\n",
        "Every 5000 rows was averaged in order to generage a readable graph, as there are millions of data points, and plotting all of them results in a line chart too dense to make sense of."
      ],
      "metadata": {
        "id": "9wGnx89rKNVB"
      }
    },
    {
      "cell_type": "code",
      "source": [
        "line_df = pd.DataFrame(columns = [\"cell type\", \"location_percent\", \"methylation\"])\n",
        "\n",
        "CHROMOSOMES = [\"chr1\"]\n",
        "\n",
        "for file_key in BLUEPRINT_FILEKEYS:\n",
        "    for chrom in CHROMOSOMES:\n",
        "        lengt = len(SCALED_BS_COV_POSITIONS[chrom])\n",
        "        temp = [[(SCALED_BS_COV_POSITIONS[chrom])[i], (FILE_ID_TO_CPG_CALLS[file_key][chrom])[i]] for i in range(lengt)]\n",
        "        temp_df = pd.DataFrame(temp, columns = [\"location_percent\", \"methylation\"])\n",
        "        temp_df_avg = temp_df.groupby(np.arange(len(temp_df))//5000).mean()\n",
        "        temp_df_avg[\"cell type\"] = FILE_ID_TO_CELL_TYPE[file_key]\n",
        "        line_df = pd.concat([line_df, temp_df_avg], axis=0)"
      ],
      "metadata": {
        "id": "wZZmz-VVi5CB"
      },
      "execution_count": null,
      "outputs": []
    },
    {
      "cell_type": "code",
      "source": [
        "alt.data_transformers.enable('default', max_rows=None)\n",
        "\n",
        "alt.Chart(line_df).mark_line().encode(\n",
        "    x='location_percent',\n",
        "    y='methylation',\n",
        "    color='cell type'\n",
        ")"
      ],
      "metadata": {
        "colab": {
          "base_uri": "https://localhost:8080/",
          "height": 369
        },
        "id": "EpQVslUq0EKo",
        "outputId": "346a5ca8-4154-484e-9ba5-2d110d16e5bf"
      },
      "execution_count": null,
      "outputs": [
        {
          "output_type": "execute_result",
          "data": {
            "text/html": [
              "\n",
              "<div id=\"altair-viz-cb0a51bc98e94460818c1a050960abb7\"></div>\n",
              "<script type=\"text/javascript\">\n",
              "  var VEGA_DEBUG = (typeof VEGA_DEBUG == \"undefined\") ? {} : VEGA_DEBUG;\n",
              "  (function(spec, embedOpt){\n",
              "    let outputDiv = document.currentScript.previousElementSibling;\n",
              "    if (outputDiv.id !== \"altair-viz-cb0a51bc98e94460818c1a050960abb7\") {\n",
              "      outputDiv = document.getElementById(\"altair-viz-cb0a51bc98e94460818c1a050960abb7\");\n",
              "    }\n",
              "    const paths = {\n",
              "      \"vega\": \"https://cdn.jsdelivr.net/npm//vega@5?noext\",\n",
              "      \"vega-lib\": \"https://cdn.jsdelivr.net/npm//vega-lib?noext\",\n",
              "      \"vega-lite\": \"https://cdn.jsdelivr.net/npm//vega-lite@4.17.0?noext\",\n",
              "      \"vega-embed\": \"https://cdn.jsdelivr.net/npm//vega-embed@6?noext\",\n",
              "    };\n",
              "\n",
              "    function maybeLoadScript(lib, version) {\n",
              "      var key = `${lib.replace(\"-\", \"\")}_version`;\n",
              "      return (VEGA_DEBUG[key] == version) ?\n",
              "        Promise.resolve(paths[lib]) :\n",
              "        new Promise(function(resolve, reject) {\n",
              "          var s = document.createElement('script');\n",
              "          document.getElementsByTagName(\"head\")[0].appendChild(s);\n",
              "          s.async = true;\n",
              "          s.onload = () => {\n",
              "            VEGA_DEBUG[key] = version;\n",
              "            return resolve(paths[lib]);\n",
              "          };\n",
              "          s.onerror = () => reject(`Error loading script: ${paths[lib]}`);\n",
              "          s.src = paths[lib];\n",
              "        });\n",
              "    }\n",
              "\n",
              "    function showError(err) {\n",
              "      outputDiv.innerHTML = `<div class=\"error\" style=\"color:red;\">${err}</div>`;\n",
              "      throw err;\n",
              "    }\n",
              "\n",
              "    function displayChart(vegaEmbed) {\n",
              "      vegaEmbed(outputDiv, spec, embedOpt)\n",
              "        .catch(err => showError(`Javascript Error: ${err.message}<br>This usually means there's a typo in your chart specification. See the javascript console for the full traceback.`));\n",
              "    }\n",
              "\n",
              "    if(typeof define === \"function\" && define.amd) {\n",
              "      requirejs.config({paths});\n",
              "      require([\"vega-embed\"], displayChart, err => showError(`Error loading script: ${err.message}`));\n",
              "    } else {\n",
              "      maybeLoadScript(\"vega\", \"5\")\n",
              "        .then(() => maybeLoadScript(\"vega-lite\", \"4.17.0\"))\n",
              "        .then(() => maybeLoadScript(\"vega-embed\", \"6\"))\n",
              "        .catch(showError)\n",
              "        .then(() => displayChart(vegaEmbed));\n",
              "    }\n",
              "  })({\"config\": {\"view\": {\"continuousWidth\": 400, \"continuousHeight\": 300}}, \"data\": {\"name\": \"data-c09e5781e91e43a092118354ddee278b\"}, \"mark\": \"line\", \"encoding\": {\"color\": {\"field\": \"cell type\", \"type\": \"nominal\"}, \"x\": {\"field\": \"location_percent\", \"type\": \"quantitative\"}, \"y\": {\"field\": \"methylation\", \"type\": \"quantitative\"}}, \"selection\": {\"selector004\": {\"type\": \"interval\", \"bind\": \"scales\", \"encodings\": [\"x\", \"y\"]}}, \"$schema\": \"https://vega.github.io/schema/vega-lite/v4.17.0.json\", \"datasets\": {\"data-c09e5781e91e43a092118354ddee278b\": [{\"cell type\": \"Macrophage\", \"location_percent\": 0.003676119763053545, \"methylation\": 0.5582042004946619}, {\"cell type\": \"Macrophage\", \"location_percent\": 0.004465720273871209, \"methylation\": 0.7666112001178786}, {\"cell type\": \"Macrophage\", \"location_percent\": 0.0051001949308608656, \"methylation\": 0.7187010001178831}, {\"cell type\": \"Macrophage\", \"location_percent\": 0.005732162152368408, \"methylation\": 0.6719960001025349}, {\"cell type\": \"Macrophage\", \"location_percent\": 0.006603782688887392, \"methylation\": 0.7016594006147235}, {\"cell type\": \"Macrophage\", \"location_percent\": 0.0077641144942953684, \"methylation\": 0.7673066001169383}, {\"cell type\": \"Macrophage\", \"location_percent\": 0.008547084066766198, \"methylation\": 0.8034454004202038}, {\"cell type\": \"Macrophage\", \"location_percent\": 0.009266068247657518, \"methylation\": 0.7640076001316309}, {\"cell type\": \"Macrophage\", \"location_percent\": 0.009999537494175072, \"methylation\": 0.7046304002104327}, {\"cell type\": \"Macrophage\", \"location_percent\": 0.011260355398151518, \"methylation\": 0.8194621999572963}, {\"cell type\": \"Macrophage\", \"location_percent\": 0.01236374524192954, \"methylation\": 0.7875032002441585}, {\"cell type\": \"Macrophage\", \"location_percent\": 0.013180077405713593, \"methylation\": 0.8661408003292977}, {\"cell type\": \"Macrophage\", \"location_percent\": 0.014015607969029682, \"methylation\": 0.8618038002658636}, {\"cell type\": \"Macrophage\", \"location_percent\": 0.014848286059466687, \"methylation\": 0.7079820002246648}, {\"cell type\": \"Macrophage\", \"location_percent\": 0.015976448039732954, \"methylation\": 0.8308697999488562}, {\"cell type\": \"Macrophage\", \"location_percent\": 0.0180896116743192, \"methylation\": 0.7849235997445881}, {\"cell type\": \"Macrophage\", \"location_percent\": 0.02041491478511762, \"methylation\": 0.8565401998266577}, {\"cell type\": \"Macrophage\", \"location_percent\": 0.022996190597601787, \"methylation\": 0.8610137999802828}, {\"cell type\": \"Macrophage\", \"location_percent\": 0.024356066097746522, \"methylation\": 0.8049385999588295}, {\"cell type\": \"Macrophage\", \"location_percent\": 0.025349393752694696, \"methylation\": 0.6501758004114032}, {\"cell type\": \"Macrophage\", \"location_percent\": 0.026379789968144354, \"methylation\": 0.6827896001545712}, {\"cell type\": \"Macrophage\", \"location_percent\": 0.028012696572336654, \"methylation\": 0.8297296000363306}, {\"cell type\": \"Macrophage\", \"location_percent\": 0.030060316146137696, \"methylation\": 0.8695609999343753}, {\"cell type\": \"Macrophage\", \"location_percent\": 0.031769214034499775, \"methylation\": 0.7502164002865553}, {\"cell type\": \"Macrophage\", \"location_percent\": 0.03375410728584114, \"methylation\": 0.8503286004256457}, {\"cell type\": \"Macrophage\", \"location_percent\": 0.036169383744949574, \"methylation\": 0.7944147998675704}, {\"cell type\": \"Macrophage\", \"location_percent\": 0.03763205595750637, \"methylation\": 0.8088818001639098}, {\"cell type\": \"Macrophage\", \"location_percent\": 0.03897295142184893, \"methylation\": 0.7789946002488956}, {\"cell type\": \"Macrophage\", \"location_percent\": 0.0406708003993602, \"methylation\": 0.8173116001531482}, {\"cell type\": \"Macrophage\", \"location_percent\": 0.042509547502040695, \"methylation\": 0.8142946000576019}, {\"cell type\": \"Macrophage\", \"location_percent\": 0.04374688586169062, \"methylation\": 0.7879354001713916}, {\"cell type\": \"Macrophage\", \"location_percent\": 0.04552760753532779, \"methylation\": 0.8209736001372337}, {\"cell type\": \"Macrophage\", \"location_percent\": 0.047202162765234236, \"methylation\": 0.7215456001546234}, {\"cell type\": \"Macrophage\", \"location_percent\": 0.0487361095843471, \"methylation\": 0.8210000001983717}, {\"cell type\": \"Macrophage\", \"location_percent\": 0.05179764520695356, \"methylation\": 0.8366701998820528}, {\"cell type\": \"Macrophage\", \"location_percent\": 0.05552232233015758, \"methylation\": 0.8130434000235051}, {\"cell type\": \"Macrophage\", \"location_percent\": 0.05881692233144541, \"methylation\": 0.8414081999577582}, {\"cell type\": \"Macrophage\", \"location_percent\": 0.0607528680861553, \"methylation\": 0.8236682007467374}, {\"cell type\": \"Macrophage\", \"location_percent\": 0.06254098394406007, \"methylation\": 0.7985068003851921}, {\"cell type\": \"Macrophage\", \"location_percent\": 0.0641523559694098, \"methylation\": 0.7499250001071021}, {\"cell type\": \"Macrophage\", \"location_percent\": 0.06607136459262927, \"methylation\": 0.747571599962283}, {\"cell type\": \"Macrophage\", \"location_percent\": 0.06884246590923274, \"methylation\": 0.8335204004948958}, {\"cell type\": \"Macrophage\", \"location_percent\": 0.07063640412588974, \"methylation\": 0.8137166004667059}, {\"cell type\": \"Macrophage\", \"location_percent\": 0.07278444585808003, \"methylation\": 0.7916767997892573}, {\"cell type\": \"Macrophage\", \"location_percent\": 0.07519659228923681, \"methylation\": 0.7174068000571803}, {\"cell type\": \"Macrophage\", \"location_percent\": 0.07711387744231522, \"methylation\": 0.7894040003269911}, {\"cell type\": \"Macrophage\", \"location_percent\": 0.07914268042914459, \"methylation\": 0.7780408001353964}, {\"cell type\": \"Macrophage\", \"location_percent\": 0.0816932947621655, \"methylation\": 0.7168775994999335}, {\"cell type\": \"Macrophage\", \"location_percent\": 0.08382884105705694, \"methylation\": 0.7843500002609566}, {\"cell type\": \"Macrophage\", \"location_percent\": 0.08625534036570597, \"methylation\": 0.746816600002721}, {\"cell type\": \"Macrophage\", \"location_percent\": 0.08803454684396413, \"methylation\": 0.812585800251551}, {\"cell type\": \"Macrophage\", \"location_percent\": 0.0899805551807631, \"methylation\": 0.7964980001250281}, {\"cell type\": \"Macrophage\", \"location_percent\": 0.09195357171975715, \"methylation\": 0.7969480000013486}, {\"cell type\": \"Macrophage\", \"location_percent\": 0.09427404100827994, \"methylation\": 0.7373276002798229}, {\"cell type\": \"Macrophage\", \"location_percent\": 0.09634276493368989, \"methylation\": 0.7589810002360493}, {\"cell type\": \"Macrophage\", \"location_percent\": 0.09861375662013698, \"methylation\": 0.7982092000631615}, {\"cell type\": \"Macrophage\", \"location_percent\": 0.10072550466600903, \"methylation\": 0.7852046005442739}, {\"cell type\": \"Macrophage\", \"location_percent\": 0.10314810654485072, \"methylation\": 0.7420384002052247}, {\"cell type\": \"Macrophage\", \"location_percent\": 0.10500989629568619, \"methylation\": 0.6826508003091439}, {\"cell type\": \"Macrophage\", \"location_percent\": 0.10696839320080212, \"methylation\": 0.7109945999788121}, {\"cell type\": \"Macrophage\", \"location_percent\": 0.1088393614258599, \"methylation\": 0.78831420033928}, {\"cell type\": \"Macrophage\", \"location_percent\": 0.1106391993813546, \"methylation\": 0.7088128000713885}, {\"cell type\": \"Macrophage\", \"location_percent\": 0.11287308602376726, \"methylation\": 0.7869088001163677}, {\"cell type\": \"Macrophage\", \"location_percent\": 0.1149275348526619, \"methylation\": 0.7735252002913505}, {\"cell type\": \"Macrophage\", \"location_percent\": 0.11687812663694418, \"methylation\": 0.7374402003722266}, {\"cell type\": \"Macrophage\", \"location_percent\": 0.1194711289889599, \"methylation\": 0.8308936000339687}, {\"cell type\": \"Macrophage\", \"location_percent\": 0.12266920308550329, \"methylation\": 0.7925561997717246}, {\"cell type\": \"Macrophage\", \"location_percent\": 0.1252249086934554, \"methylation\": 0.7947160003146156}, {\"cell type\": \"Macrophage\", \"location_percent\": 0.12753433901869862, \"methylation\": 0.7587697999997064}, {\"cell type\": \"Macrophage\", \"location_percent\": 0.12952089101509007, \"methylation\": 0.7339928000330925}, {\"cell type\": \"Macrophage\", \"location_percent\": 0.13146775860046847, \"methylation\": 0.7348412002103403}, {\"cell type\": \"Macrophage\", \"location_percent\": 0.13363001110095765, \"methylation\": 0.7270380003495142}, {\"cell type\": \"Macrophage\", \"location_percent\": 0.13691717304084958, \"methylation\": 0.8080788001671434}, {\"cell type\": \"Macrophage\", \"location_percent\": 0.1405201083761454, \"methylation\": 0.7683486003641039}, {\"cell type\": \"Macrophage\", \"location_percent\": 0.14346140693805493, \"methylation\": 0.7744332003235816}, {\"cell type\": \"Macrophage\", \"location_percent\": 0.14576311543903747, \"methylation\": 0.7442338000604883}, {\"cell type\": \"Macrophage\", \"location_percent\": 0.148083932949594, \"methylation\": 0.7662141997480765}, {\"cell type\": \"Macrophage\", \"location_percent\": 0.1509290806684358, \"methylation\": 0.6878214002171531}, {\"cell type\": \"Macrophage\", \"location_percent\": 0.15301173763916362, \"methylation\": 0.7453118001904339}, {\"cell type\": \"Macrophage\", \"location_percent\": 0.15599036303931144, \"methylation\": 0.7664597998585552}, {\"cell type\": \"Macrophage\", \"location_percent\": 0.15855704044877122, \"methylation\": 0.7432794003542512}, {\"cell type\": \"Macrophage\", \"location_percent\": 0.161017342693857, \"methylation\": 0.7440456004658714}, {\"cell type\": \"Macrophage\", \"location_percent\": 0.16379412579610042, \"methylation\": 0.7335584003830329}, {\"cell type\": \"Macrophage\", \"location_percent\": 0.16652037774949732, \"methylation\": 0.7614597999958321}, {\"cell type\": \"Macrophage\", \"location_percent\": 0.16964790396813012, \"methylation\": 0.7704864005165175}, {\"cell type\": \"Macrophage\", \"location_percent\": 0.17278576043178726, \"methylation\": 0.8055116000894457}, {\"cell type\": \"Macrophage\", \"location_percent\": 0.17496416900991005, \"methylation\": 0.8137712002923713}, {\"cell type\": \"Macrophage\", \"location_percent\": 0.17717439249970804, \"methylation\": 0.7382594000073149}, {\"cell type\": \"Macrophage\", \"location_percent\": 0.17949280176770155, \"methylation\": 0.7768506004516035}, {\"cell type\": \"Macrophage\", \"location_percent\": 0.18201696530315353, \"methylation\": 0.7839933998873457}, {\"cell type\": \"Macrophage\", \"location_percent\": 0.18500077710840998, \"methylation\": 0.8216710002295673}, {\"cell type\": \"Macrophage\", \"location_percent\": 0.1878000537821199, \"methylation\": 0.6700639998128638}, {\"cell type\": \"Macrophage\", \"location_percent\": 0.19113291148438302, \"methylation\": 0.6601262000130489}, {\"cell type\": \"Macrophage\", \"location_percent\": 0.19509046546386563, \"methylation\": 0.8371773996941745}, {\"cell type\": \"Macrophage\", \"location_percent\": 0.20231891742081426, \"methylation\": 0.7462598001474514}, {\"cell type\": \"Macrophage\", \"location_percent\": 0.20677058627069914, \"methylation\": 0.8157496000340209}, {\"cell type\": \"Macrophage\", \"location_percent\": 0.21031169639273484, \"methylation\": 0.7765722002632915}, {\"cell type\": \"Macrophage\", \"location_percent\": 0.21297447779077183, \"methylation\": 0.8357312002182007}, {\"cell type\": \"Macrophage\", \"location_percent\": 0.2150321480709555, \"methylation\": 0.8189964005837217}, {\"cell type\": \"Macrophage\", \"location_percent\": 0.21743524913590517, \"methylation\": 0.8565348003659398}, {\"cell type\": \"Macrophage\", \"location_percent\": 0.2195583145388682, \"methylation\": 0.7807634002456442}, {\"cell type\": \"Macrophage\", \"location_percent\": 0.22294307000646635, \"methylation\": 0.8491407999312505}, {\"cell type\": \"Macrophage\", \"location_percent\": 0.22901837034175423, \"methylation\": 0.8060303997509182}, {\"cell type\": \"Macrophage\", \"location_percent\": 0.23476671318199283, \"methylation\": 0.7549204000735655}, {\"cell type\": \"Macrophage\", \"location_percent\": 0.24033117140335658, \"methylation\": 0.8786372002795338}, {\"cell type\": \"Macrophage\", \"location_percent\": 0.2464464129202352, \"methylation\": 0.8170684004675597}, {\"cell type\": \"Macrophage\", \"location_percent\": 0.25036602955118764, \"methylation\": 0.8350092002926395}, {\"cell type\": \"Macrophage\", \"location_percent\": 0.2544928921040527, \"methylation\": 0.7262026004400104}, {\"cell type\": \"Macrophage\", \"location_percent\": 0.25932785080333487, \"methylation\": 0.8322640001825988}, {\"cell type\": \"Macrophage\", \"location_percent\": 0.2640151825918596, \"methylation\": 0.7799619996637106}, {\"cell type\": \"Macrophage\", \"location_percent\": 0.2706226402342726, \"methylation\": 0.8071376003576443}, {\"cell type\": \"Macrophage\", \"location_percent\": 0.2766666142770889, \"methylation\": 0.8350685997156426}, {\"cell type\": \"Macrophage\", \"location_percent\": 0.2847918813711238, \"methylation\": 0.851346799678728}, {\"cell type\": \"Macrophage\", \"location_percent\": 0.29537009721766505, \"methylation\": 0.8613391997359693}, {\"cell type\": \"Macrophage\", \"location_percent\": 0.3045138566634441, \"methylation\": 0.8060891999289393}, {\"cell type\": \"Macrophage\", \"location_percent\": 0.3115117321451832, \"methylation\": 0.808716400087066}, {\"cell type\": \"Macrophage\", \"location_percent\": 0.3189619716298273, \"methylation\": 0.8779317993214354}, {\"cell type\": \"Macrophage\", \"location_percent\": 0.32834059771365975, \"methylation\": 0.8850319998191669}, {\"cell type\": \"Macrophage\", \"location_percent\": 0.33746458840544213, \"methylation\": 0.8039037997853011}, {\"cell type\": \"Macrophage\", \"location_percent\": 0.3431155959916944, \"methylation\": 0.7174442002920434}, {\"cell type\": \"Macrophage\", \"location_percent\": 0.349223177236014, \"methylation\": 0.8230189996125177}, {\"cell type\": \"Macrophage\", \"location_percent\": 0.3551782492072984, \"methylation\": 0.8778953999496997}, {\"cell type\": \"Macrophage\", \"location_percent\": 0.3613557431632069, \"methylation\": 0.7766620000824332}, {\"cell type\": \"Macrophage\", \"location_percent\": 0.3666328984015835, \"methylation\": 0.7649167999824509}, {\"cell type\": \"Macrophage\", \"location_percent\": 0.3709133591322385, \"methylation\": 0.7940628000028431}, {\"cell type\": \"Macrophage\", \"location_percent\": 0.3752804868199321, \"methylation\": 0.7861208000935614}, {\"cell type\": \"Macrophage\", \"location_percent\": 0.3792445783766482, \"methylation\": 0.770575400048308}, {\"cell type\": \"Macrophage\", \"location_percent\": 0.3845214066161367, \"methylation\": 0.8417155999355018}, {\"cell type\": \"Macrophage\", \"location_percent\": 0.39332841692634596, \"methylation\": 0.8485888000210747}, {\"cell type\": \"Macrophage\", \"location_percent\": 0.4015865050029145, \"methylation\": 0.8115621998516843}, {\"cell type\": \"Macrophage\", \"location_percent\": 0.40851637072207087, \"methylation\": 0.8545149999961257}, {\"cell type\": \"Macrophage\", \"location_percent\": 0.41991969660196965, \"methylation\": 0.8648753997290507}, {\"cell type\": \"Macrophage\", \"location_percent\": 0.43055078448131806, \"methylation\": 0.8222404000388458}, {\"cell type\": \"Macrophage\", \"location_percent\": 0.4369902250330292, \"methylation\": 0.7594804003307596}, {\"cell type\": \"Macrophage\", \"location_percent\": 0.4395067366592089, \"methylation\": 0.7388932001736015}, {\"cell type\": \"Macrophage\", \"location_percent\": 0.4420931474502205, \"methylation\": 0.6734513996200636}, {\"cell type\": \"Macrophage\", \"location_percent\": 0.4452618576669903, \"methylation\": 0.7429072001082823}, {\"cell type\": \"Macrophage\", \"location_percent\": 0.4499488783765972, \"methylation\": 0.7508517998315394}, {\"cell type\": \"Macrophage\", \"location_percent\": 0.4534552790646619, \"methylation\": 0.7952515998482704}, {\"cell type\": \"Macrophage\", \"location_percent\": 0.4573720282025615, \"methylation\": 0.7962108000632375}, {\"cell type\": \"Macrophage\", \"location_percent\": 0.4619238703841752, \"methylation\": 0.7935792002305389}, {\"cell type\": \"Macrophage\", \"location_percent\": 0.46672478787931104, \"methylation\": 0.7707222003094852}, {\"cell type\": \"Macrophage\", \"location_percent\": 0.4706645074671437, \"methylation\": 0.8188222000349313}, {\"cell type\": \"Macrophage\", \"location_percent\": 0.4765971852181486, \"methylation\": 0.7680979999210685}, {\"cell type\": \"Macrophage\", \"location_percent\": 0.49318729804896927, \"methylation\": 0.7721384005162865}, {\"cell type\": \"Macrophage\", \"location_percent\": 0.5837070715570246, \"methylation\": 0.6355608000587673}, {\"cell type\": \"Macrophage\", \"location_percent\": 0.5932961326920843, \"methylation\": 0.736063199939765}, {\"cell type\": \"Macrophage\", \"location_percent\": 0.6029214567580978, \"methylation\": 0.7574622001679614}, {\"cell type\": \"Macrophage\", \"location_percent\": 0.6055732679091862, \"methylation\": 0.7988614001052454}, {\"cell type\": \"Macrophage\", \"location_percent\": 0.6077022394427554, \"methylation\": 0.7808114000525326}, {\"cell type\": \"Macrophage\", \"location_percent\": 0.6104178443585025, \"methylation\": 0.7291510001605377}, {\"cell type\": \"Macrophage\", \"location_percent\": 0.6157125803800931, \"methylation\": 0.7845111999532208}, {\"cell type\": \"Macrophage\", \"location_percent\": 0.6184204048811724, \"methylation\": 0.799183199818246}, {\"cell type\": \"Macrophage\", \"location_percent\": 0.6207319653467976, \"methylation\": 0.7711288000481203}, {\"cell type\": \"Macrophage\", \"location_percent\": 0.622788606610108, \"methylation\": 0.6513454002857209}, {\"cell type\": \"Macrophage\", \"location_percent\": 0.6246950499637894, \"methylation\": 0.8222032003475354}, {\"cell type\": \"Macrophage\", \"location_percent\": 0.6270935050341544, \"methylation\": 0.7674674001280218}, {\"cell type\": \"Macrophage\", \"location_percent\": 0.6291087694448274, \"methylation\": 0.5990182000871748}, {\"cell type\": \"Macrophage\", \"location_percent\": 0.6315553395201383, \"methylation\": 0.7833190001912415}, {\"cell type\": \"Macrophage\", \"location_percent\": 0.6369300797855547, \"methylation\": 0.8630742001786827}, {\"cell type\": \"Macrophage\", \"location_percent\": 0.6426828889551266, \"methylation\": 0.7857624003022909}, {\"cell type\": \"Macrophage\", \"location_percent\": 0.6462539087541876, \"methylation\": 0.8121940003709868}, {\"cell type\": \"Macrophage\", \"location_percent\": 0.6492823702385347, \"methylation\": 0.7216906000947579}, {\"cell type\": \"Macrophage\", \"location_percent\": 0.6540522282959242, \"methylation\": 0.8693027999922633}, {\"cell type\": \"Macrophage\", \"location_percent\": 0.6612437606834008, \"methylation\": 0.8450103994959965}, {\"cell type\": \"Macrophage\", \"location_percent\": 0.6661231769994157, \"methylation\": 0.7329695998024195}, {\"cell type\": \"Macrophage\", \"location_percent\": 0.6712346930191128, \"methylation\": 0.7628147999882698}, {\"cell type\": \"Macrophage\", \"location_percent\": 0.6748450476172889, \"methylation\": 0.79682380005382}, {\"cell type\": \"Macrophage\", \"location_percent\": 0.6805365489485318, \"methylation\": 0.8443677999868989}, {\"cell type\": \"Macrophage\", \"location_percent\": 0.6876716958374319, \"methylation\": 0.8121018002215773}, {\"cell type\": \"Macrophage\", \"location_percent\": 0.694325260010548, \"methylation\": 0.8737858001725748}, {\"cell type\": \"Macrophage\", \"location_percent\": 0.7004137970732184, \"methylation\": 0.8661894002418965}, {\"cell type\": \"Macrophage\", \"location_percent\": 0.7054695633583825, \"methylation\": 0.8537049997920171}, {\"cell type\": \"Macrophage\", \"location_percent\": 0.7118303446916582, \"methylation\": 0.8383925997957588}, {\"cell type\": \"Macrophage\", \"location_percent\": 0.7174651007399062, \"methylation\": 0.814890000090003}, {\"cell type\": \"Macrophage\", \"location_percent\": 0.7212811779511834, \"methylation\": 0.7845372001914307}, {\"cell type\": \"Macrophage\", \"location_percent\": 0.7248587794970401, \"methylation\": 0.7948600002463907}, {\"cell type\": \"Macrophage\", \"location_percent\": 0.7284803735170797, \"methylation\": 0.764939399892278}, {\"cell type\": \"Macrophage\", \"location_percent\": 0.7330908291358866, \"methylation\": 0.7793794001080095}, {\"cell type\": \"Macrophage\", \"location_percent\": 0.7374085680523033, \"methylation\": 0.8129365999070928}, {\"cell type\": \"Macrophage\", \"location_percent\": 0.7425568189502147, \"methylation\": 0.824906400251016}, {\"cell type\": \"Macrophage\", \"location_percent\": 0.7494033132658772, \"methylation\": 0.8827705998998135}, {\"cell type\": \"Macrophage\", \"location_percent\": 0.759217443257359, \"methylation\": 0.8929031995452941}, {\"cell type\": \"Macrophage\", \"location_percent\": 0.7706853867844782, \"methylation\": 0.9001879999596626}, {\"cell type\": \"Macrophage\", \"location_percent\": 0.7792251973449464, \"methylation\": 0.8718301995113492}, {\"cell type\": \"Macrophage\", \"location_percent\": 0.7898608836140232, \"methylation\": 0.8748089998843148}, {\"cell type\": \"Macrophage\", \"location_percent\": 0.7985752763376359, \"methylation\": 0.8369448002368212}, {\"cell type\": \"Macrophage\", \"location_percent\": 0.8049222505151525, \"methylation\": 0.8187738000687211}, {\"cell type\": \"Macrophage\", \"location_percent\": 0.8079318178894391, \"methylation\": 0.7940927997685969}, {\"cell type\": \"Macrophage\", \"location_percent\": 0.810279670180732, \"methylation\": 0.7577575999386609}, {\"cell type\": \"Macrophage\", \"location_percent\": 0.8129344940255101, \"methylation\": 0.7921572003267705}, {\"cell type\": \"Macrophage\", \"location_percent\": 0.8160544135608904, \"methylation\": 0.7540933997780085}, {\"cell type\": \"Macrophage\", \"location_percent\": 0.8189395613015843, \"methylation\": 0.819543600565195}, {\"cell type\": \"Macrophage\", \"location_percent\": 0.8216391194296188, \"methylation\": 0.8082809999793767}, {\"cell type\": \"Macrophage\", \"location_percent\": 0.8242860105482898, \"methylation\": 0.7976578000729904}, {\"cell type\": \"Macrophage\", \"location_percent\": 0.8269761212842719, \"methylation\": 0.8017490004394203}, {\"cell type\": \"Macrophage\", \"location_percent\": 0.8310516870008683, \"methylation\": 0.7737910004287958}, {\"cell type\": \"Macrophage\", \"location_percent\": 0.8355418661229882, \"methylation\": 0.7722317999968306}, {\"cell type\": \"Macrophage\", \"location_percent\": 0.840376011175697, \"methylation\": 0.8350866000181064}, {\"cell type\": \"Macrophage\", \"location_percent\": 0.8451330140860845, \"methylation\": 0.8034961997419596}, {\"cell type\": \"Macrophage\", \"location_percent\": 0.8496745395051599, \"methylation\": 0.752692600190267}, {\"cell type\": \"Macrophage\", \"location_percent\": 0.8531758783159292, \"methylation\": 0.7644842002518475}, {\"cell type\": \"Macrophage\", \"location_percent\": 0.856714572359139, \"methylation\": 0.8432891998240725}, {\"cell type\": \"Macrophage\", \"location_percent\": 0.8612751257892354, \"methylation\": 0.809821399869956}, {\"cell type\": \"Macrophage\", \"location_percent\": 0.8677996284354785, \"methylation\": 0.846535999879241}, {\"cell type\": \"Macrophage\", \"location_percent\": 0.8749202297088777, \"methylation\": 0.8034809995315969}, {\"cell type\": \"Macrophage\", \"location_percent\": 0.88159259376087, \"methylation\": 0.8535305999366567}, {\"cell type\": \"Macrophage\", \"location_percent\": 0.8866891622292005, \"methylation\": 0.7690768000837416}, {\"cell type\": \"Macrophage\", \"location_percent\": 0.892249445162003, \"methylation\": 0.854193999807164}, {\"cell type\": \"Macrophage\", \"location_percent\": 0.8969789503849379, \"methylation\": 0.8267413999630139}, {\"cell type\": \"Macrophage\", \"location_percent\": 0.9005567096337822, \"methylation\": 0.7954884003231302}, {\"cell type\": \"Macrophage\", \"location_percent\": 0.9046366042984666, \"methylation\": 0.8412748000895605}, {\"cell type\": \"Macrophage\", \"location_percent\": 0.9077000767787482, \"methylation\": 0.722574600334838}, {\"cell type\": \"Macrophage\", \"location_percent\": 0.9098472533919907, \"methylation\": 0.7762157999863848}, {\"cell type\": \"Macrophage\", \"location_percent\": 0.9125930484175775, \"methylation\": 0.813342799751088}, {\"cell type\": \"Macrophage\", \"location_percent\": 0.9155984321191282, \"methylation\": 0.6616874000579118}, {\"cell type\": \"Macrophage\", \"location_percent\": 0.9169905774913368, \"methylation\": 0.7852028004089371}, {\"cell type\": \"Macrophage\", \"location_percent\": 0.918998821902921, \"methylation\": 0.7265637999694794}, {\"cell type\": \"Macrophage\", \"location_percent\": 0.9219377527765761, \"methylation\": 0.7562664002997801}, {\"cell type\": \"Macrophage\", \"location_percent\": 0.9247761978023201, \"methylation\": 0.8264348002310842}, {\"cell type\": \"Macrophage\", \"location_percent\": 0.9275374539228393, \"methylation\": 0.7805977996537462}, {\"cell type\": \"Macrophage\", \"location_percent\": 0.9304286387956668, \"methylation\": 0.8297280001593754}, {\"cell type\": \"Macrophage\", \"location_percent\": 0.9344372594491072, \"methylation\": 0.8616915998240933}, {\"cell type\": \"Macrophage\", \"location_percent\": 0.9385212190640084, \"methylation\": 0.8092690003311261}, {\"cell type\": \"Macrophage\", \"location_percent\": 0.9422075720017229, \"methylation\": 0.7609190002165734}, {\"cell type\": \"Macrophage\", \"location_percent\": 0.9447104832469769, \"methylation\": 0.8390502002634108}, {\"cell type\": \"Macrophage\", \"location_percent\": 0.9473024342840383, \"methylation\": 0.7706324001776055}, {\"cell type\": \"Macrophage\", \"location_percent\": 0.9499878036470109, \"methylation\": 0.8222875999946148}, {\"cell type\": \"Macrophage\", \"location_percent\": 0.9534658990722653, \"methylation\": 0.8641836000634358}, {\"cell type\": \"Macrophage\", \"location_percent\": 0.9594835723119759, \"methylation\": 0.8914206000320614}, {\"cell type\": \"Macrophage\", \"location_percent\": 0.9647579441344416, \"methylation\": 0.8351347995245829}, {\"cell type\": \"Macrophage\", \"location_percent\": 0.9686440305604781, \"methylation\": 0.8322861998360604}, {\"cell type\": \"Macrophage\", \"location_percent\": 0.973088910002595, \"methylation\": 0.8563517996998504}, {\"cell type\": \"Macrophage\", \"location_percent\": 0.9785908489792103, \"methylation\": 0.8489304001724347}, {\"cell type\": \"Macrophage\", \"location_percent\": 0.9820751162031897, \"methylation\": 0.8470094001561403}, {\"cell type\": \"Macrophage\", \"location_percent\": 0.9845915049051218, \"methylation\": 0.7763026002814993}, {\"cell type\": \"Macrophage\", \"location_percent\": 0.9868355889287743, \"methylation\": 0.91095600030981}, {\"cell type\": \"Macrophage\", \"location_percent\": 0.9900470819912088, \"methylation\": 0.8723186003440991}, {\"cell type\": \"Macrophage\", \"location_percent\": 0.9927289756035415, \"methylation\": 0.7936676000718027}, {\"cell type\": \"Macrophage\", \"location_percent\": 0.9967784688411874, \"methylation\": 0.807841000143066}, {\"cell type\": \"Macrophage\", \"location_percent\": 0.9997851491467284, \"methylation\": 0.5778705883917271}, {\"cell type\": \"Plasma_cell\", \"location_percent\": 0.003676119763053545, \"methylation\": 0.45805380001850426}, {\"cell type\": \"Plasma_cell\", \"location_percent\": 0.004465720273871209, \"methylation\": 0.5980377999836579}, {\"cell type\": \"Plasma_cell\", \"location_percent\": 0.0051001949308608656, \"methylation\": 0.6252418002812192}, {\"cell type\": \"Plasma_cell\", \"location_percent\": 0.005732162152368408, \"methylation\": 0.6108261998612433}, {\"cell type\": \"Plasma_cell\", \"location_percent\": 0.006603782688887392, \"methylation\": 0.639062999852933}, {\"cell type\": \"Plasma_cell\", \"location_percent\": 0.0077641144942953684, \"methylation\": 0.6242105998136103}, {\"cell type\": \"Plasma_cell\", \"location_percent\": 0.008547084066766198, \"methylation\": 0.7042376002378762}, {\"cell type\": \"Plasma_cell\", \"location_percent\": 0.009266068247657518, \"methylation\": 0.6460956003233791}, {\"cell type\": \"Plasma_cell\", \"location_percent\": 0.009999537494175072, \"methylation\": 0.5437941997561604}, {\"cell type\": \"Plasma_cell\", \"location_percent\": 0.011260355398151518, \"methylation\": 0.6322751995965838}, {\"cell type\": \"Plasma_cell\", \"location_percent\": 0.01236374524192954, \"methylation\": 0.6273446003861726}, {\"cell type\": \"Plasma_cell\", \"location_percent\": 0.013180077405713593, \"methylation\": 0.6660191999496892}, {\"cell type\": \"Plasma_cell\", \"location_percent\": 0.014015607969029682, \"methylation\": 0.5950645999850706}, {\"cell type\": \"Plasma_cell\", \"location_percent\": 0.014848286059466687, \"methylation\": 0.5935472000965849}, {\"cell type\": \"Plasma_cell\", \"location_percent\": 0.015976448039732954, \"methylation\": 0.6748811999626457}, {\"cell type\": \"Plasma_cell\", \"location_percent\": 0.0180896116743192, \"methylation\": 0.5725520001577213}, {\"cell type\": \"Plasma_cell\", \"location_percent\": 0.02041491478511762, \"methylation\": 0.5790579997239634}, {\"cell type\": \"Plasma_cell\", \"location_percent\": 0.022996190597601787, \"methylation\": 0.6530868001230061}, {\"cell type\": \"Plasma_cell\", \"location_percent\": 0.024356066097746522, \"methylation\": 0.7172948002895341}, {\"cell type\": \"Plasma_cell\", \"location_percent\": 0.025349393752694696, \"methylation\": 0.5998028004009277}, {\"cell type\": \"Plasma_cell\", \"location_percent\": 0.026379789968144354, \"methylation\": 0.6055346003770828}, {\"cell type\": \"Plasma_cell\", \"location_percent\": 0.028012696572336654, \"methylation\": 0.6383536002261564}, {\"cell type\": \"Plasma_cell\", \"location_percent\": 0.030060316146137696, \"methylation\": 0.584288000193052}, {\"cell type\": \"Plasma_cell\", \"location_percent\": 0.031769214034499775, \"methylation\": 0.6277938001073897}, {\"cell type\": \"Plasma_cell\", \"location_percent\": 0.03375410728584114, \"methylation\": 0.7377215998265892}, {\"cell type\": \"Plasma_cell\", \"location_percent\": 0.036169383744949574, \"methylation\": 0.6568066004311666}, {\"cell type\": \"Plasma_cell\", \"location_percent\": 0.03763205595750637, \"methylation\": 0.6845285997714847}, {\"cell type\": \"Plasma_cell\", \"location_percent\": 0.03897295142184893, \"methylation\": 0.6896710002083332}, {\"cell type\": \"Plasma_cell\", \"location_percent\": 0.0406708003993602, \"methylation\": 0.7698742002433165}, {\"cell type\": \"Plasma_cell\", \"location_percent\": 0.042509547502040695, \"methylation\": 0.7632203998919577}, {\"cell type\": \"Plasma_cell\", \"location_percent\": 0.04374688586169062, \"methylation\": 0.6010246002830565}, {\"cell type\": \"Plasma_cell\", \"location_percent\": 0.04552760753532779, \"methylation\": 0.6708372001498938}, {\"cell type\": \"Plasma_cell\", \"location_percent\": 0.047202162765234236, \"methylation\": 0.5938006001757458}, {\"cell type\": \"Plasma_cell\", \"location_percent\": 0.0487361095843471, \"methylation\": 0.7272102003447711}, {\"cell type\": \"Plasma_cell\", \"location_percent\": 0.05179764520695356, \"methylation\": 0.647719199948199}, {\"cell type\": \"Plasma_cell\", \"location_percent\": 0.05552232233015758, \"methylation\": 0.6197350003384053}, {\"cell type\": \"Plasma_cell\", \"location_percent\": 0.05881692233144541, \"methylation\": 0.5788770001348108}, {\"cell type\": \"Plasma_cell\", \"location_percent\": 0.0607528680861553, \"methylation\": 0.5990997997952625}, {\"cell type\": \"Plasma_cell\", \"location_percent\": 0.06254098394406007, \"methylation\": 0.702269000130333}, {\"cell type\": \"Plasma_cell\", \"location_percent\": 0.0641523559694098, \"methylation\": 0.5981512003213167}, {\"cell type\": \"Plasma_cell\", \"location_percent\": 0.06607136459262927, \"methylation\": 0.6676642001211643}, {\"cell type\": \"Plasma_cell\", \"location_percent\": 0.06884246590923274, \"methylation\": 0.6425445997193455}, {\"cell type\": \"Plasma_cell\", \"location_percent\": 0.07063640412588974, \"methylation\": 0.5973834001833573}, {\"cell type\": \"Plasma_cell\", \"location_percent\": 0.07278444585808003, \"methylation\": 0.5279610001422465}, {\"cell type\": \"Plasma_cell\", \"location_percent\": 0.07519659228923681, \"methylation\": 0.5608701998749748}, {\"cell type\": \"Plasma_cell\", \"location_percent\": 0.07711387744231522, \"methylation\": 0.7015092005103827}, {\"cell type\": \"Plasma_cell\", \"location_percent\": 0.07914268042914459, \"methylation\": 0.6640574000637979}, {\"cell type\": \"Plasma_cell\", \"location_percent\": 0.0816932947621655, \"methylation\": 0.5460046000603587}, {\"cell type\": \"Plasma_cell\", \"location_percent\": 0.08382884105705694, \"methylation\": 0.7141740001969039}, {\"cell type\": \"Plasma_cell\", \"location_percent\": 0.08625534036570597, \"methylation\": 0.6161441999979317}, {\"cell type\": \"Plasma_cell\", \"location_percent\": 0.08803454684396413, \"methylation\": 0.6693304000766948}, {\"cell type\": \"Plasma_cell\", \"location_percent\": 0.0899805551807631, \"methylation\": 0.6134393998589367}, {\"cell type\": \"Plasma_cell\", \"location_percent\": 0.09195357171975715, \"methylation\": 0.601867600329779}, {\"cell type\": \"Plasma_cell\", \"location_percent\": 0.09427404100827994, \"methylation\": 0.6097186001690105}, {\"cell type\": \"Plasma_cell\", \"location_percent\": 0.09634276493368989, \"methylation\": 0.6404433998659254}, {\"cell type\": \"Plasma_cell\", \"location_percent\": 0.09861375662013698, \"methylation\": 0.7014596005136147}, {\"cell type\": \"Plasma_cell\", \"location_percent\": 0.10072550466600903, \"methylation\": 0.624398600162752}, {\"cell type\": \"Plasma_cell\", \"location_percent\": 0.10314810654485072, \"methylation\": 0.5972300000129268}, {\"cell type\": \"Plasma_cell\", \"location_percent\": 0.10500989629568619, \"methylation\": 0.5764550001163036}, {\"cell type\": \"Plasma_cell\", \"location_percent\": 0.10696839320080212, \"methylation\": 0.639655200120993}, {\"cell type\": \"Plasma_cell\", \"location_percent\": 0.1088393614258599, \"methylation\": 0.6739318000968546}, {\"cell type\": \"Plasma_cell\", \"location_percent\": 0.1106391993813546, \"methylation\": 0.6502186001202092}, {\"cell type\": \"Plasma_cell\", \"location_percent\": 0.11287308602376726, \"methylation\": 0.7083422002274543}, {\"cell type\": \"Plasma_cell\", \"location_percent\": 0.1149275348526619, \"methylation\": 0.7134934005493299}, {\"cell type\": \"Plasma_cell\", \"location_percent\": 0.11687812663694418, \"methylation\": 0.6490266002796591}, {\"cell type\": \"Plasma_cell\", \"location_percent\": 0.1194711289889599, \"methylation\": 0.5094376001326367}, {\"cell type\": \"Plasma_cell\", \"location_percent\": 0.12266920308550329, \"methylation\": 0.502733000282757}, {\"cell type\": \"Plasma_cell\", \"location_percent\": 0.1252249086934554, \"methylation\": 0.6417633998697624}, {\"cell type\": \"Plasma_cell\", \"location_percent\": 0.12753433901869862, \"methylation\": 0.59423000042364}, {\"cell type\": \"Plasma_cell\", \"location_percent\": 0.12952089101509007, \"methylation\": 0.651210400063172}, {\"cell type\": \"Plasma_cell\", \"location_percent\": 0.13146775860046847, \"methylation\": 0.6413950002824887}, {\"cell type\": \"Plasma_cell\", \"location_percent\": 0.13363001110095765, \"methylation\": 0.6195921999527142}, {\"cell type\": \"Plasma_cell\", \"location_percent\": 0.13691717304084958, \"methylation\": 0.5444774001283571}, {\"cell type\": \"Plasma_cell\", \"location_percent\": 0.1405201083761454, \"methylation\": 0.6354315998125821}, {\"cell type\": \"Plasma_cell\", \"location_percent\": 0.14346140693805493, \"methylation\": 0.7308578003026545}, {\"cell type\": \"Plasma_cell\", \"location_percent\": 0.14576311543903747, \"methylation\": 0.6737366001293064}, {\"cell type\": \"Plasma_cell\", \"location_percent\": 0.148083932949594, \"methylation\": 0.5074729998758063}, {\"cell type\": \"Plasma_cell\", \"location_percent\": 0.1509290806684358, \"methylation\": 0.5696730001168325}, {\"cell type\": \"Plasma_cell\", \"location_percent\": 0.15301173763916362, \"methylation\": 0.6447894001752138}, {\"cell type\": \"Plasma_cell\", \"location_percent\": 0.15599036303931144, \"methylation\": 0.6490958003010601}, {\"cell type\": \"Plasma_cell\", \"location_percent\": 0.15855704044877122, \"methylation\": 0.6864930002870038}, {\"cell type\": \"Plasma_cell\", \"location_percent\": 0.161017342693857, \"methylation\": 0.6745080000594258}, {\"cell type\": \"Plasma_cell\", \"location_percent\": 0.16379412579610042, \"methylation\": 0.6360019999813289}, {\"cell type\": \"Plasma_cell\", \"location_percent\": 0.16652037774949732, \"methylation\": 0.6147598000284284}, {\"cell type\": \"Plasma_cell\", \"location_percent\": 0.16964790396813012, \"methylation\": 0.6402034002348781}, {\"cell type\": \"Plasma_cell\", \"location_percent\": 0.17278576043178726, \"methylation\": 0.6711656001562253}, {\"cell type\": \"Plasma_cell\", \"location_percent\": 0.17496416900991005, \"methylation\": 0.6970212003778666}, {\"cell type\": \"Plasma_cell\", \"location_percent\": 0.17717439249970804, \"methylation\": 0.6556828002570197}, {\"cell type\": \"Plasma_cell\", \"location_percent\": 0.17949280176770155, \"methylation\": 0.6609810000604018}, {\"cell type\": \"Plasma_cell\", \"location_percent\": 0.18201696530315353, \"methylation\": 0.6867640004713088}, {\"cell type\": \"Plasma_cell\", \"location_percent\": 0.18500077710840998, \"methylation\": 0.7329770001936704}, {\"cell type\": \"Plasma_cell\", \"location_percent\": 0.1878000537821199, \"methylation\": 0.568348400032334}, {\"cell type\": \"Plasma_cell\", \"location_percent\": 0.19113291148438302, \"methylation\": 0.5140539998902008}, {\"cell type\": \"Plasma_cell\", \"location_percent\": 0.19509046546386563, \"methylation\": 0.5686267998985947}, {\"cell type\": \"Plasma_cell\", \"location_percent\": 0.20231891742081426, \"methylation\": 0.6492902001997456}, {\"cell type\": \"Plasma_cell\", \"location_percent\": 0.20677058627069914, \"methylation\": 0.7010258001964539}, {\"cell type\": \"Plasma_cell\", \"location_percent\": 0.21031169639273484, \"methylation\": 0.6903474001329393}, {\"cell type\": \"Plasma_cell\", \"location_percent\": 0.21297447779077183, \"methylation\": 0.7425264001440257}, {\"cell type\": \"Plasma_cell\", \"location_percent\": 0.2150321480709555, \"methylation\": 0.6097416003528983}, {\"cell type\": \"Plasma_cell\", \"location_percent\": 0.21743524913590517, \"methylation\": 0.7845220001026988}, {\"cell type\": \"Plasma_cell\", \"location_percent\": 0.2195583145388682, \"methylation\": 0.6320293998422101}, {\"cell type\": \"Plasma_cell\", \"location_percent\": 0.22294307000646635, \"methylation\": 0.6097804001534358}, {\"cell type\": \"Plasma_cell\", \"location_percent\": 0.22901837034175423, \"methylation\": 0.5606960000447929}, {\"cell type\": \"Plasma_cell\", \"location_percent\": 0.23476671318199283, \"methylation\": 0.6048686003705487}, {\"cell type\": \"Plasma_cell\", \"location_percent\": 0.24033117140335658, \"methylation\": 0.6652132003145292}, {\"cell type\": \"Plasma_cell\", \"location_percent\": 0.2464464129202352, \"methylation\": 0.6153187998564914}, {\"cell type\": \"Plasma_cell\", \"location_percent\": 0.25036602955118764, \"methylation\": 0.6815434001669287}, {\"cell type\": \"Plasma_cell\", \"location_percent\": 0.2544928921040527, \"methylation\": 0.6095578003687784}, {\"cell type\": \"Plasma_cell\", \"location_percent\": 0.25932785080333487, \"methylation\": 0.6152134001528844}, {\"cell type\": \"Plasma_cell\", \"location_percent\": 0.2640151825918596, \"methylation\": 0.5623884002443403}, {\"cell type\": \"Plasma_cell\", \"location_percent\": 0.2706226402342726, \"methylation\": 0.6397554002027959}, {\"cell type\": \"Plasma_cell\", \"location_percent\": 0.2766666142770889, \"methylation\": 0.5708435996763408}, {\"cell type\": \"Plasma_cell\", \"location_percent\": 0.2847918813711238, \"methylation\": 0.6305080001702532}, {\"cell type\": \"Plasma_cell\", \"location_percent\": 0.29537009721766505, \"methylation\": 0.6118920000350103}, {\"cell type\": \"Plasma_cell\", \"location_percent\": 0.3045138566634441, \"methylation\": 0.5830115996520966}, {\"cell type\": \"Plasma_cell\", \"location_percent\": 0.3115117321451832, \"methylation\": 0.6617588005334138}, {\"cell type\": \"Plasma_cell\", \"location_percent\": 0.3189619716298273, \"methylation\": 0.6392809997487813}, {\"cell type\": \"Plasma_cell\", \"location_percent\": 0.32834059771365975, \"methylation\": 0.6152872000703589}, {\"cell type\": \"Plasma_cell\", \"location_percent\": 0.33746458840544213, \"methylation\": 0.636038000266999}, {\"cell type\": \"Plasma_cell\", \"location_percent\": 0.3431155959916944, \"methylation\": 0.576149600093253}, {\"cell type\": \"Plasma_cell\", \"location_percent\": 0.349223177236014, \"methylation\": 0.6900669997494667}, {\"cell type\": \"Plasma_cell\", \"location_percent\": 0.3551782492072984, \"methylation\": 0.7605232003478334}, {\"cell type\": \"Plasma_cell\", \"location_percent\": 0.3613557431632069, \"methylation\": 0.6529000000305474}, {\"cell type\": \"Plasma_cell\", \"location_percent\": 0.3666328984015835, \"methylation\": 0.6607882001543418}, {\"cell type\": \"Plasma_cell\", \"location_percent\": 0.3709133591322385, \"methylation\": 0.7074479996057227}, {\"cell type\": \"Plasma_cell\", \"location_percent\": 0.3752804868199321, \"methylation\": 0.6911472001478076}, {\"cell type\": \"Plasma_cell\", \"location_percent\": 0.3792445783766482, \"methylation\": 0.56209340008609}, {\"cell type\": \"Plasma_cell\", \"location_percent\": 0.3845214066161367, \"methylation\": 0.5991896001473069}, {\"cell type\": \"Plasma_cell\", \"location_percent\": 0.39332841692634596, \"methylation\": 0.5774478002488613}, {\"cell type\": \"Plasma_cell\", \"location_percent\": 0.4015865050029145, \"methylation\": 0.6689652000810951}, {\"cell type\": \"Plasma_cell\", \"location_percent\": 0.40851637072207087, \"methylation\": 0.6564854001544416}, {\"cell type\": \"Plasma_cell\", \"location_percent\": 0.41991969660196965, \"methylation\": 0.6134064003180713}, {\"cell type\": \"Plasma_cell\", \"location_percent\": 0.43055078448131806, \"methylation\": 0.6409900001851842}, {\"cell type\": \"Plasma_cell\", \"location_percent\": 0.4369902250330292, \"methylation\": 0.6755432001810521}, {\"cell type\": \"Plasma_cell\", \"location_percent\": 0.4395067366592089, \"methylation\": 0.6229492002617568}, {\"cell type\": \"Plasma_cell\", \"location_percent\": 0.4420931474502205, \"methylation\": 0.5416870001737029}, {\"cell type\": \"Plasma_cell\", \"location_percent\": 0.4452618576669903, \"methylation\": 0.6041707995733246}, {\"cell type\": \"Plasma_cell\", \"location_percent\": 0.4499488783765972, \"methylation\": 0.5562164002414792}, {\"cell type\": \"Plasma_cell\", \"location_percent\": 0.4534552790646619, \"methylation\": 0.7140680002620444}, {\"cell type\": \"Plasma_cell\", \"location_percent\": 0.4573720282025615, \"methylation\": 0.6204956003626808}, {\"cell type\": \"Plasma_cell\", \"location_percent\": 0.4619238703841752, \"methylation\": 0.5957415999678894}, {\"cell type\": \"Plasma_cell\", \"location_percent\": 0.46672478787931104, \"methylation\": 0.603755599958077}, {\"cell type\": \"Plasma_cell\", \"location_percent\": 0.4706645074671437, \"methylation\": 0.670714799929969}, {\"cell type\": \"Plasma_cell\", \"location_percent\": 0.4765971852181486, \"methylation\": 0.6330272002095356}, {\"cell type\": \"Plasma_cell\", \"location_percent\": 0.49318729804896927, \"methylation\": 0.6713160000873729}, {\"cell type\": \"Plasma_cell\", \"location_percent\": 0.5837070715570246, \"methylation\": 0.6048124002307653}, {\"cell type\": \"Plasma_cell\", \"location_percent\": 0.5932961326920843, \"methylation\": 0.6324216002438218}, {\"cell type\": \"Plasma_cell\", \"location_percent\": 0.6029214567580978, \"methylation\": 0.7062598000800238}, {\"cell type\": \"Plasma_cell\", \"location_percent\": 0.6055732679091862, \"methylation\": 0.7352930001236498}, {\"cell type\": \"Plasma_cell\", \"location_percent\": 0.6077022394427554, \"methylation\": 0.7206469998670741}, {\"cell type\": \"Plasma_cell\", \"location_percent\": 0.6104178443585025, \"methylation\": 0.6195268000703305}, {\"cell type\": \"Plasma_cell\", \"location_percent\": 0.6157125803800931, \"methylation\": 0.5718187997689471}, {\"cell type\": \"Plasma_cell\", \"location_percent\": 0.6184204048811724, \"methylation\": 0.7138503997860476}, {\"cell type\": \"Plasma_cell\", \"location_percent\": 0.6207319653467976, \"methylation\": 0.6782380003683269}, {\"cell type\": \"Plasma_cell\", \"location_percent\": 0.622788606610108, \"methylation\": 0.552281400003098}, {\"cell type\": \"Plasma_cell\", \"location_percent\": 0.6246950499637894, \"methylation\": 0.7823712002916261}, {\"cell type\": \"Plasma_cell\", \"location_percent\": 0.6270935050341544, \"methylation\": 0.693318399831839}, {\"cell type\": \"Plasma_cell\", \"location_percent\": 0.6291087694448274, \"methylation\": 0.5407631998378783}, {\"cell type\": \"Plasma_cell\", \"location_percent\": 0.6315553395201383, \"methylation\": 0.5959752004990354}, {\"cell type\": \"Plasma_cell\", \"location_percent\": 0.6369300797855547, \"methylation\": 0.6501728000570088}, {\"cell type\": \"Plasma_cell\", \"location_percent\": 0.6426828889551266, \"methylation\": 0.6275308000355959}, {\"cell type\": \"Plasma_cell\", \"location_percent\": 0.6462539087541876, \"methylation\": 0.7024100003261119}, {\"cell type\": \"Plasma_cell\", \"location_percent\": 0.6492823702385347, \"methylation\": 0.6278096005897968}, {\"cell type\": \"Plasma_cell\", \"location_percent\": 0.6540522282959242, \"methylation\": 0.6632545998418704}, {\"cell type\": \"Plasma_cell\", \"location_percent\": 0.6612437606834008, \"methylation\": 0.571404199773632}, {\"cell type\": \"Plasma_cell\", \"location_percent\": 0.6661231769994157, \"methylation\": 0.5815334002731368}, {\"cell type\": \"Plasma_cell\", \"location_percent\": 0.6712346930191128, \"methylation\": 0.6131356001097709}, {\"cell type\": \"Plasma_cell\", \"location_percent\": 0.6748450476172889, \"methylation\": 0.6882956001138315}, {\"cell type\": \"Plasma_cell\", \"location_percent\": 0.6805365489485318, \"methylation\": 0.6614553999314084}, {\"cell type\": \"Plasma_cell\", \"location_percent\": 0.6876716958374319, \"methylation\": 0.6311326000206172}, {\"cell type\": \"Plasma_cell\", \"location_percent\": 0.694325260010548, \"methylation\": 0.7373776000738144}, {\"cell type\": \"Plasma_cell\", \"location_percent\": 0.7004137970732184, \"methylation\": 0.7935050000388175}, {\"cell type\": \"Plasma_cell\", \"location_percent\": 0.7054695633583825, \"methylation\": 0.6998319999771193}, {\"cell type\": \"Plasma_cell\", \"location_percent\": 0.7118303446916582, \"methylation\": 0.5500326000407338}, {\"cell type\": \"Plasma_cell\", \"location_percent\": 0.7174651007399062, \"methylation\": 0.6627818003758789}, {\"cell type\": \"Plasma_cell\", \"location_percent\": 0.7212811779511834, \"methylation\": 0.6921098002197221}, {\"cell type\": \"Plasma_cell\", \"location_percent\": 0.7248587794970401, \"methylation\": 0.7035734002804384}, {\"cell type\": \"Plasma_cell\", \"location_percent\": 0.7284803735170797, \"methylation\": 0.5963356000879779}, {\"cell type\": \"Plasma_cell\", \"location_percent\": 0.7330908291358866, \"methylation\": 0.6386567999362945}, {\"cell type\": \"Plasma_cell\", \"location_percent\": 0.7374085680523033, \"methylation\": 0.6292051999714225}, {\"cell type\": \"Plasma_cell\", \"location_percent\": 0.7425568189502147, \"methylation\": 0.6766234000569209}, {\"cell type\": \"Plasma_cell\", \"location_percent\": 0.7494033132658772, \"methylation\": 0.6570109999170527}, {\"cell type\": \"Plasma_cell\", \"location_percent\": 0.759217443257359, \"methylation\": 0.6259991995910182}, {\"cell type\": \"Plasma_cell\", \"location_percent\": 0.7706853867844782, \"methylation\": 0.627379800234735}, {\"cell type\": \"Plasma_cell\", \"location_percent\": 0.7792251973449464, \"methylation\": 0.6467868000481277}, {\"cell type\": \"Plasma_cell\", \"location_percent\": 0.7898608836140232, \"methylation\": 0.6373416000723838}, {\"cell type\": \"Plasma_cell\", \"location_percent\": 0.7985752763376359, \"methylation\": 0.6828305999690667}, {\"cell type\": \"Plasma_cell\", \"location_percent\": 0.8049222505151525, \"methylation\": 0.6848136003402993}, {\"cell type\": \"Plasma_cell\", \"location_percent\": 0.8079318178894391, \"methylation\": 0.6275779999449849}, {\"cell type\": \"Plasma_cell\", \"location_percent\": 0.810279670180732, \"methylation\": 0.6193466003904119}, {\"cell type\": \"Plasma_cell\", \"location_percent\": 0.8129344940255101, \"methylation\": 0.6338847999382764}, {\"cell type\": \"Plasma_cell\", \"location_percent\": 0.8160544135608904, \"methylation\": 0.5725856003720313}, {\"cell type\": \"Plasma_cell\", \"location_percent\": 0.8189395613015843, \"methylation\": 0.6575380000859499}, {\"cell type\": \"Plasma_cell\", \"location_percent\": 0.8216391194296188, \"methylation\": 0.6086007999863475}, {\"cell type\": \"Plasma_cell\", \"location_percent\": 0.8242860105482898, \"methylation\": 0.6335114001944662}, {\"cell type\": \"Plasma_cell\", \"location_percent\": 0.8269761212842719, \"methylation\": 0.6689686001228169}, {\"cell type\": \"Plasma_cell\", \"location_percent\": 0.8310516870008683, \"methylation\": 0.6354876003777609}, {\"cell type\": \"Plasma_cell\", \"location_percent\": 0.8355418661229882, \"methylation\": 0.5881571999063715}, {\"cell type\": \"Plasma_cell\", \"location_percent\": 0.840376011175697, \"methylation\": 0.585123000029102}, {\"cell type\": \"Plasma_cell\", \"location_percent\": 0.8451330140860845, \"methylation\": 0.5869249998327345}, {\"cell type\": \"Plasma_cell\", \"location_percent\": 0.8496745395051599, \"methylation\": 0.6344378001965583}, {\"cell type\": \"Plasma_cell\", \"location_percent\": 0.8531758783159292, \"methylation\": 0.6763142004098743}, {\"cell type\": \"Plasma_cell\", \"location_percent\": 0.856714572359139, \"methylation\": 0.6599850002812222}, {\"cell type\": \"Plasma_cell\", \"location_percent\": 0.8612751257892354, \"methylation\": 0.6293784001685679}, {\"cell type\": \"Plasma_cell\", \"location_percent\": 0.8677996284354785, \"methylation\": 0.5722327997367829}, {\"cell type\": \"Plasma_cell\", \"location_percent\": 0.8749202297088777, \"methylation\": 0.6206270001400263}, {\"cell type\": \"Plasma_cell\", \"location_percent\": 0.88159259376087, \"methylation\": 0.6654806000364945}, {\"cell type\": \"Plasma_cell\", \"location_percent\": 0.8866891622292005, \"methylation\": 0.6536073996232823}, {\"cell type\": \"Plasma_cell\", \"location_percent\": 0.892249445162003, \"methylation\": 0.6703446003604681}, {\"cell type\": \"Plasma_cell\", \"location_percent\": 0.8969789503849379, \"methylation\": 0.6092119998127222}, {\"cell type\": \"Plasma_cell\", \"location_percent\": 0.9005567096337822, \"methylation\": 0.705410600292869}, {\"cell type\": \"Plasma_cell\", \"location_percent\": 0.9046366042984666, \"methylation\": 0.6308180000398308}, {\"cell type\": \"Plasma_cell\", \"location_percent\": 0.9077000767787482, \"methylation\": 0.6229720002837479}, {\"cell type\": \"Plasma_cell\", \"location_percent\": 0.9098472533919907, \"methylation\": 0.6363108000652865}, {\"cell type\": \"Plasma_cell\", \"location_percent\": 0.9125930484175775, \"methylation\": 0.6802797999948264}, {\"cell type\": \"Plasma_cell\", \"location_percent\": 0.9155984321191282, \"methylation\": 0.5260810000911355}, {\"cell type\": \"Plasma_cell\", \"location_percent\": 0.9169905774913368, \"methylation\": 0.6453973995998502}, {\"cell type\": \"Plasma_cell\", \"location_percent\": 0.918998821902921, \"methylation\": 0.5889137997421436}, {\"cell type\": \"Plasma_cell\", \"location_percent\": 0.9219377527765761, \"methylation\": 0.6562510004315525}, {\"cell type\": \"Plasma_cell\", \"location_percent\": 0.9247761978023201, \"methylation\": 0.6836072000650689}, {\"cell type\": \"Plasma_cell\", \"location_percent\": 0.9275374539228393, \"methylation\": 0.6422462004611269}, {\"cell type\": \"Plasma_cell\", \"location_percent\": 0.9304286387956668, \"methylation\": 0.6675910002481192}, {\"cell type\": \"Plasma_cell\", \"location_percent\": 0.9344372594491072, \"methylation\": 0.6135852000324056}, {\"cell type\": \"Plasma_cell\", \"location_percent\": 0.9385212190640084, \"methylation\": 0.6161589999761432}, {\"cell type\": \"Plasma_cell\", \"location_percent\": 0.9422075720017229, \"methylation\": 0.6601260000312701}, {\"cell type\": \"Plasma_cell\", \"location_percent\": 0.9447104832469769, \"methylation\": 0.7730750002402812}, {\"cell type\": \"Plasma_cell\", \"location_percent\": 0.9473024342840383, \"methylation\": 0.660233200215362}, {\"cell type\": \"Plasma_cell\", \"location_percent\": 0.9499878036470109, \"methylation\": 0.6794897998463363}, {\"cell type\": \"Plasma_cell\", \"location_percent\": 0.9534658990722653, \"methylation\": 0.6362431997977197}, {\"cell type\": \"Plasma_cell\", \"location_percent\": 0.9594835723119759, \"methylation\": 0.6008158003004268}, {\"cell type\": \"Plasma_cell\", \"location_percent\": 0.9647579441344416, \"methylation\": 0.6096434001430869}, {\"cell type\": \"Plasma_cell\", \"location_percent\": 0.9686440305604781, \"methylation\": 0.6158172001084313}, {\"cell type\": \"Plasma_cell\", \"location_percent\": 0.973088910002595, \"methylation\": 0.636086400311999}, {\"cell type\": \"Plasma_cell\", \"location_percent\": 0.9785908489792103, \"methylation\": 0.7455822001855821}, {\"cell type\": \"Plasma_cell\", \"location_percent\": 0.9820751162031897, \"methylation\": 0.6946200002146885}, {\"cell type\": \"Plasma_cell\", \"location_percent\": 0.9845915049051218, \"methylation\": 0.6103866003591567}, {\"cell type\": \"Plasma_cell\", \"location_percent\": 0.9868355889287743, \"methylation\": 0.7392622000191361}, {\"cell type\": \"Plasma_cell\", \"location_percent\": 0.9900470819912088, \"methylation\": 0.8107250003345311}, {\"cell type\": \"Plasma_cell\", \"location_percent\": 0.9927289756035415, \"methylation\": 0.7280156000450253}, {\"cell type\": \"Plasma_cell\", \"location_percent\": 0.9967784688411874, \"methylation\": 0.6330117999142035}, {\"cell type\": \"Plasma_cell\", \"location_percent\": 0.9997851491467284, \"methylation\": 0.5212117644702541}]}}, {\"mode\": \"vega-lite\"});\n",
              "</script>"
            ],
            "text/plain": [
              "alt.Chart(...)"
            ]
          },
          "metadata": {},
          "execution_count": 15
        }
      ]
    },
    {
      "cell_type": "markdown",
      "source": [
        "# Getting Methylation for Gene Promoters"
      ],
      "metadata": {
        "id": "7dIyxmbVl36W"
      }
    },
    {
      "cell_type": "markdown",
      "source": [
        "Download the genomic database and convert it into a bed file."
      ],
      "metadata": {
        "id": "hZyfOkKI3Ab9"
      }
    },
    {
      "cell_type": "code",
      "source": [
        "! wget https://ftp.ebi.ac.uk/pub/databases/gencode/Gencode_human/release_40/gencode.v40.annotation.gtf.gz\n",
        "! gunzip gencode.v40.annotation.gtf.gz\n",
        "! bedparse gtf2bed <gencode.v40.annotation.gtf> output.bed --extraFields gene_id,gene_name\n",
        "output_bed = pybedtools.BedTool(\"output.bed\")"
      ],
      "metadata": {
        "id": "zxUkDDsIkF0V",
        "colab": {
          "base_uri": "https://localhost:8080/"
        },
        "outputId": "39f24f73-d60b-44a3-fb21-b7f664a79257"
      },
      "execution_count": 22,
      "outputs": [
        {
          "output_type": "stream",
          "name": "stdout",
          "text": [
            "--2022-07-25 06:27:08--  https://ftp.ebi.ac.uk/pub/databases/gencode/Gencode_human/release_40/gencode.v40.annotation.gtf.gz\n",
            "Resolving ftp.ebi.ac.uk (ftp.ebi.ac.uk)... 193.62.193.138\n",
            "Connecting to ftp.ebi.ac.uk (ftp.ebi.ac.uk)|193.62.193.138|:443... connected.\n",
            "HTTP request sent, awaiting response... 200 OK\n",
            "Length: 48043727 (46M) [application/octet-stream]\n",
            "Saving to: ‘gencode.v40.annotation.gtf.gz’\n",
            "\n",
            "gencode.v40.annotat   0%[                    ]       0  --.-KB/s    in 15m 0s  \n",
            "\n",
            "2022-07-25 06:42:09 (0.00 B/s) - Read error at byte 0/48043727 (Connection timed out). Retrying.\n",
            "\n",
            "--2022-07-25 06:42:10--  (try: 2)  https://ftp.ebi.ac.uk/pub/databases/gencode/Gencode_human/release_40/gencode.v40.annotation.gtf.gz\n",
            "Connecting to ftp.ebi.ac.uk (ftp.ebi.ac.uk)|193.62.193.138|:443... connected.\n",
            "HTTP request sent, awaiting response... 200 OK\n",
            "Length: 48043727 (46M) [application/octet-stream]\n",
            "Saving to: ‘gencode.v40.annotation.gtf.gz’\n",
            "\n",
            "gencode.v40.annotat 100%[===================>]  45.82M  1.37MB/s    in 34s     \n",
            "\n",
            "2022-07-25 06:42:45 (1.33 MB/s) - ‘gencode.v40.annotation.gtf.gz’ saved [48043727/48043727]\n",
            "\n"
          ]
        }
      ]
    },
    {
      "cell_type": "markdown",
      "source": [
        "Convert the bed file into a pandas dataframe, and remove any unneccessary colummns! The only ones we keep are those relating to the chromosome number, the start and end base pair, the strandedness, the gene_id, and gene_name!"
      ],
      "metadata": {
        "id": "lX0TrHA03FBS"
      }
    },
    {
      "cell_type": "code",
      "source": [
        "gene_loc = pd.read_csv(\"output.bed\", sep = '\\t', names = [\"chrom\", \"start\", \"end\", \"name\", \"e1\", \"strand\", \"e2\", \"e3\", \"e4\", \"e5\", \"e6\", \"e7\", \"gene_id\", \"gene_name\"])\n",
        "gene_loc = gene_loc[[\"chrom\", \"start\", \"end\", \"strand\", \"gene_id\", \"gene_name\"]]"
      ],
      "metadata": {
        "id": "doDwlJqI94_2"
      },
      "execution_count": 24,
      "outputs": []
    },
    {
      "cell_type": "markdown",
      "source": [
        "We can make another bed file with the gene locations, but with padding, for the purposes of creating a heatmap later!"
      ],
      "metadata": {
        "id": "mExqCb4VT1iM"
      }
    },
    {
      "cell_type": "code",
      "source": [
        "padding = int(input(\"How many base pairs do you want around the gene locations? \"))\n",
        "\n",
        "with open(\"gene_locs.bed\", 'w') as outfile:\n",
        "    # A .bed is just a .tsv with ['chrom', 'chromStart', 'chromEnd']\n",
        "    bed_writer = csv.writer(outfile, delimiter='\\t')\n",
        "    for chr in CHROMOSOMES:\n",
        "        for index, row in gene_loc.iterrows():\n",
        "            if row[\"chrom\"] == \"chr1\":\n",
        "                bed_writer.writerow([row[\"chrom\"], row[\"start\"] - padding, row[\"end\"] + padding])"
      ],
      "metadata": {
        "colab": {
          "base_uri": "https://localhost:8080/"
        },
        "id": "QED_y8KxTS5c",
        "outputId": "2f8e3395-f5bf-4d76-a08b-60b0773c586b"
      },
      "execution_count": 35,
      "outputs": [
        {
          "name": "stdout",
          "output_type": "stream",
          "text": [
            "How many base pairs do you want around the gene locations? 1000\n"
          ]
        }
      ]
    },
    {
      "cell_type": "code",
      "source": [
        "genes = {\"ACTB\": \"ENSG00000075624\", \"UBB\": \"ENSG00000170315\"}\n",
        "promoter_loc = {}\n",
        "gene_chr = {}\n",
        "\n",
        "for gene in genes.keys():\n",
        "    gene_location = gene_loc[gene_loc[\"gene_id\"].str.contains(genes[gene])].iloc[0]\n",
        "    promoter = (gene_location[\"end\"], gene_location[\"end\"] + 500)\n",
        "    promoter_loc[gene] = promoter\n",
        "    gene_chr[gene] = gene_location[\"chrom\"]"
      ],
      "metadata": {
        "id": "hmqT4Zc92-vK"
      },
      "execution_count": 36,
      "outputs": []
    },
    {
      "cell_type": "code",
      "source": [
        "promoter_cov = {}\n",
        "for gene in genes.keys():\n",
        "    cov = [x for x in list(range(promoter_loc[gene][0], promoter_loc[gene][1])) if x in BS_COV_POSITIONS[gene_chr[gene]]]\n",
        "    promoter_cov[gene] = cov\n",
        "\n",
        "indeces = [BS_COV_POSITIONS[gene_chr[\"ACTB\"]].index(i) for i in promoter_cov[\"ACTB\"]]\n",
        "\n",
        "# gene_methylation = {}\n",
        "# for gene in genes.key():\n",
        "#     methylation = [FILE_ID_TO_CPG_CALLS[gene_chr[gene]][promoter_cov[gene].index(x)] for x in promoter_cov[gene]]\n",
        "    \n",
        "# methylation = [FILE_ID_TO_CPG_CALLS[\"chr7\"][promoter_loc.index(x)] for x in promoter_loc]"
      ],
      "metadata": {
        "id": "D4GaUmpOOw68"
      },
      "execution_count": 27,
      "outputs": []
    },
    {
      "cell_type": "code",
      "source": [
        "line_df = pd.DataFrame(columns = [\"cell type\", \"location\", \"methylation\"])\n",
        "\n",
        "for file_key in BLUEPRINT_FILEKEYS:\n",
        "    for chrom in CHROMOSOMES:\n",
        "        lengt = len(promoter_cov[\"ACTB\"])\n",
        "        temp = [[promoter_cov[\"ACTB\"][i], (FILE_ID_TO_CPG_CALLS[file_key][chrom])[indeces[i]]] for i in range(lengt)]\n",
        "        temp_df = pd.DataFrame(temp, columns = [\"location\", \"methylation\"])\n",
        "        temp_df[\"cell type\"] = FILE_ID_TO_CELL_TYPE[file_key]\n",
        "        line_df = pd.concat([line_df, temp_df], axis=0)"
      ],
      "metadata": {
        "id": "IfkidIQdPZT0"
      },
      "execution_count": 28,
      "outputs": []
    },
    {
      "cell_type": "code",
      "source": [
        "alt.data_transformers.enable('default', max_rows=None)\n",
        "\n",
        "alt.Chart(line_df).mark_line().encode(\n",
        "    x='location',\n",
        "    y='methylation',\n",
        "    color='cell type'\n",
        ")"
      ],
      "metadata": {
        "colab": {
          "base_uri": "https://localhost:8080/",
          "height": 369
        },
        "id": "NmhUmTj6bNer",
        "outputId": "acb9058d-e0bd-49a7-bb05-8992637718be"
      },
      "execution_count": 29,
      "outputs": [
        {
          "output_type": "execute_result",
          "data": {
            "text/html": [
              "\n",
              "<div id=\"altair-viz-7d6eba2b22bf4244938758cd818fadda\"></div>\n",
              "<script type=\"text/javascript\">\n",
              "  var VEGA_DEBUG = (typeof VEGA_DEBUG == \"undefined\") ? {} : VEGA_DEBUG;\n",
              "  (function(spec, embedOpt){\n",
              "    let outputDiv = document.currentScript.previousElementSibling;\n",
              "    if (outputDiv.id !== \"altair-viz-7d6eba2b22bf4244938758cd818fadda\") {\n",
              "      outputDiv = document.getElementById(\"altair-viz-7d6eba2b22bf4244938758cd818fadda\");\n",
              "    }\n",
              "    const paths = {\n",
              "      \"vega\": \"https://cdn.jsdelivr.net/npm//vega@5?noext\",\n",
              "      \"vega-lib\": \"https://cdn.jsdelivr.net/npm//vega-lib?noext\",\n",
              "      \"vega-lite\": \"https://cdn.jsdelivr.net/npm//vega-lite@4.17.0?noext\",\n",
              "      \"vega-embed\": \"https://cdn.jsdelivr.net/npm//vega-embed@6?noext\",\n",
              "    };\n",
              "\n",
              "    function maybeLoadScript(lib, version) {\n",
              "      var key = `${lib.replace(\"-\", \"\")}_version`;\n",
              "      return (VEGA_DEBUG[key] == version) ?\n",
              "        Promise.resolve(paths[lib]) :\n",
              "        new Promise(function(resolve, reject) {\n",
              "          var s = document.createElement('script');\n",
              "          document.getElementsByTagName(\"head\")[0].appendChild(s);\n",
              "          s.async = true;\n",
              "          s.onload = () => {\n",
              "            VEGA_DEBUG[key] = version;\n",
              "            return resolve(paths[lib]);\n",
              "          };\n",
              "          s.onerror = () => reject(`Error loading script: ${paths[lib]}`);\n",
              "          s.src = paths[lib];\n",
              "        });\n",
              "    }\n",
              "\n",
              "    function showError(err) {\n",
              "      outputDiv.innerHTML = `<div class=\"error\" style=\"color:red;\">${err}</div>`;\n",
              "      throw err;\n",
              "    }\n",
              "\n",
              "    function displayChart(vegaEmbed) {\n",
              "      vegaEmbed(outputDiv, spec, embedOpt)\n",
              "        .catch(err => showError(`Javascript Error: ${err.message}<br>This usually means there's a typo in your chart specification. See the javascript console for the full traceback.`));\n",
              "    }\n",
              "\n",
              "    if(typeof define === \"function\" && define.amd) {\n",
              "      requirejs.config({paths});\n",
              "      require([\"vega-embed\"], displayChart, err => showError(`Error loading script: ${err.message}`));\n",
              "    } else {\n",
              "      maybeLoadScript(\"vega\", \"5\")\n",
              "        .then(() => maybeLoadScript(\"vega-lite\", \"4.17.0\"))\n",
              "        .then(() => maybeLoadScript(\"vega-embed\", \"6\"))\n",
              "        .catch(showError)\n",
              "        .then(() => displayChart(vegaEmbed));\n",
              "    }\n",
              "  })({\"config\": {\"view\": {\"continuousWidth\": 400, \"continuousHeight\": 300}}, \"data\": {\"name\": \"data-e8c751016989332c0fd708583cbf1143\"}, \"mark\": \"line\", \"encoding\": {\"color\": {\"field\": \"cell type\", \"type\": \"nominal\"}, \"x\": {\"field\": \"location\", \"type\": \"quantitative\"}, \"y\": {\"field\": \"methylation\", \"type\": \"quantitative\"}}, \"$schema\": \"https://vega.github.io/schema/vega-lite/v4.17.0.json\", \"datasets\": {\"data-e8c751016989332c0fd708583cbf1143\": [{\"cell type\": \"Macrophage\", \"location\": 5530606, \"methylation\": 0.0}, {\"cell type\": \"Macrophage\", \"location\": 5530608, \"methylation\": 0.0}, {\"cell type\": \"Macrophage\", \"location\": 5530611, \"methylation\": 0.0}, {\"cell type\": \"Macrophage\", \"location\": 5530613, \"methylation\": 0.0}, {\"cell type\": \"Macrophage\", \"location\": 5530616, \"methylation\": 0.0}, {\"cell type\": \"Macrophage\", \"location\": 5530633, \"methylation\": 0.0}, {\"cell type\": \"Macrophage\", \"location\": 5530636, \"methylation\": 0.0}, {\"cell type\": \"Macrophage\", \"location\": 5530639, \"methylation\": 0.0}, {\"cell type\": \"Macrophage\", \"location\": 5530641, \"methylation\": 0.0}, {\"cell type\": \"Macrophage\", \"location\": 5530645, \"methylation\": 0.0}, {\"cell type\": \"Macrophage\", \"location\": 5530649, \"methylation\": 0.0}, {\"cell type\": \"Macrophage\", \"location\": 5530670, \"methylation\": 0.0}, {\"cell type\": \"Macrophage\", \"location\": 5530675, \"methylation\": 0.0}, {\"cell type\": \"Macrophage\", \"location\": 5530678, \"methylation\": 0.0}, {\"cell type\": \"Macrophage\", \"location\": 5530682, \"methylation\": 0.0}, {\"cell type\": \"Macrophage\", \"location\": 5530695, \"methylation\": 0.0}, {\"cell type\": \"Macrophage\", \"location\": 5530697, \"methylation\": 0.0}, {\"cell type\": \"Macrophage\", \"location\": 5530700, \"methylation\": 0.0}, {\"cell type\": \"Macrophage\", \"location\": 5530711, \"methylation\": 0.0}, {\"cell type\": \"Macrophage\", \"location\": 5530717, \"methylation\": 0.0}, {\"cell type\": \"Macrophage\", \"location\": 5530720, \"methylation\": 0.0}, {\"cell type\": \"Macrophage\", \"location\": 5530818, \"methylation\": 0.0}, {\"cell type\": \"Macrophage\", \"location\": 5530825, \"methylation\": 0.0}, {\"cell type\": \"Macrophage\", \"location\": 5530844, \"methylation\": 0.0}, {\"cell type\": \"Macrophage\", \"location\": 5530857, \"methylation\": 0.0}, {\"cell type\": \"Macrophage\", \"location\": 5530859, \"methylation\": 0.0}, {\"cell type\": \"Macrophage\", \"location\": 5530861, \"methylation\": 0.0}, {\"cell type\": \"Macrophage\", \"location\": 5530864, \"methylation\": 0.0}, {\"cell type\": \"Macrophage\", \"location\": 5530873, \"methylation\": 0.0}, {\"cell type\": \"Macrophage\", \"location\": 5530875, \"methylation\": 0.0}, {\"cell type\": \"Macrophage\", \"location\": 5530882, \"methylation\": 0.0}, {\"cell type\": \"Macrophage\", \"location\": 5530896, \"methylation\": 0.0}, {\"cell type\": \"Macrophage\", \"location\": 5530901, \"methylation\": 0.0}, {\"cell type\": \"Macrophage\", \"location\": 5530907, \"methylation\": 0.0}, {\"cell type\": \"Macrophage\", \"location\": 5530927, \"methylation\": 0.0}, {\"cell type\": \"Macrophage\", \"location\": 5530936, \"methylation\": 0.0}, {\"cell type\": \"Macrophage\", \"location\": 5530943, \"methylation\": 0.0}, {\"cell type\": \"Macrophage\", \"location\": 5530959, \"methylation\": 0.0}, {\"cell type\": \"Macrophage\", \"location\": 5530961, \"methylation\": 0.0}, {\"cell type\": \"Macrophage\", \"location\": 5530999, \"methylation\": 0.0}, {\"cell type\": \"Macrophage\", \"location\": 5531028, \"methylation\": 0.0}, {\"cell type\": \"Macrophage\", \"location\": 5531054, \"methylation\": 0.0}, {\"cell type\": \"Macrophage\", \"location\": 5530606, \"methylation\": 1.0}, {\"cell type\": \"Macrophage\", \"location\": 5530608, \"methylation\": 0.949999988079071}, {\"cell type\": \"Macrophage\", \"location\": 5530611, \"methylation\": 0.9049999713897705}, {\"cell type\": \"Macrophage\", \"location\": 5530613, \"methylation\": 0.625}, {\"cell type\": \"Macrophage\", \"location\": 5530616, \"methylation\": 0.5809999704360962}, {\"cell type\": \"Macrophage\", \"location\": 5530633, \"methylation\": 0.843999981880188}, {\"cell type\": \"Macrophage\", \"location\": 5530636, \"methylation\": 0.8709999918937683}, {\"cell type\": \"Macrophage\", \"location\": 5530639, \"methylation\": 0.8330000042915344}, {\"cell type\": \"Macrophage\", \"location\": 5530641, \"methylation\": 0.906000018119812}, {\"cell type\": \"Macrophage\", \"location\": 5530645, \"methylation\": 0.9599999785423279}, {\"cell type\": \"Macrophage\", \"location\": 5530649, \"methylation\": 0.9620000123977661}, {\"cell type\": \"Macrophage\", \"location\": 5530670, \"methylation\": 0.968999981880188}, {\"cell type\": \"Macrophage\", \"location\": 5530675, \"methylation\": 0.8989999890327454}, {\"cell type\": \"Macrophage\", \"location\": 5530678, \"methylation\": 0.8270000219345093}, {\"cell type\": \"Macrophage\", \"location\": 5530682, \"methylation\": 0.9750000238418579}, {\"cell type\": \"Macrophage\", \"location\": 5530695, \"methylation\": 0.9309999942779541}, {\"cell type\": \"Macrophage\", \"location\": 5530697, \"methylation\": 0.9610000252723694}, {\"cell type\": \"Macrophage\", \"location\": 5530700, \"methylation\": 0.8450000286102295}, {\"cell type\": \"Macrophage\", \"location\": 5530711, \"methylation\": 0.9610000252723694}, {\"cell type\": \"Macrophage\", \"location\": 5530717, \"methylation\": 0.6840000152587891}, {\"cell type\": \"Macrophage\", \"location\": 5530720, \"methylation\": 0.7789999842643738}, {\"cell type\": \"Macrophage\", \"location\": 5530818, \"methylation\": 0.9070000052452087}, {\"cell type\": \"Macrophage\", \"location\": 5530825, \"methylation\": 0.9089999794960022}, {\"cell type\": \"Macrophage\", \"location\": 5530844, \"methylation\": 0.9750000238418579}, {\"cell type\": \"Macrophage\", \"location\": 5530857, \"methylation\": 0.9639999866485596}, {\"cell type\": \"Macrophage\", \"location\": 5530859, \"methylation\": 0.9229999780654907}, {\"cell type\": \"Macrophage\", \"location\": 5530861, \"methylation\": 0.9769999980926514}, {\"cell type\": \"Macrophage\", \"location\": 5530864, \"methylation\": 0.9879999756813049}, {\"cell type\": \"Macrophage\", \"location\": 5530873, \"methylation\": 0.9049999713897705}, {\"cell type\": \"Macrophage\", \"location\": 5530875, \"methylation\": 0.9750000238418579}, {\"cell type\": \"Macrophage\", \"location\": 5530882, \"methylation\": 0.9179999828338623}, {\"cell type\": \"Macrophage\", \"location\": 5530896, \"methylation\": 0.9660000205039978}, {\"cell type\": \"Macrophage\", \"location\": 5530901, \"methylation\": 0.9290000200271606}, {\"cell type\": \"Macrophage\", \"location\": 5530907, \"methylation\": 0.9629999995231628}, {\"cell type\": \"Macrophage\", \"location\": 5530927, \"methylation\": 0.953000009059906}, {\"cell type\": \"Macrophage\", \"location\": 5530936, \"methylation\": 0.9559999704360962}, {\"cell type\": \"Macrophage\", \"location\": 5530943, \"methylation\": 0.9789999723434448}, {\"cell type\": \"Macrophage\", \"location\": 5530959, \"methylation\": 0.9539999961853027}, {\"cell type\": \"Macrophage\", \"location\": 5530961, \"methylation\": 0.9649999737739563}, {\"cell type\": \"Macrophage\", \"location\": 5530999, \"methylation\": 0.9629999995231628}, {\"cell type\": \"Macrophage\", \"location\": 5531028, \"methylation\": 0.9430000185966492}, {\"cell type\": \"Macrophage\", \"location\": 5531054, \"methylation\": 0.9750000238418579}, {\"cell type\": \"Plasma_cell\", \"location\": 5530606, \"methylation\": 0.0}, {\"cell type\": \"Plasma_cell\", \"location\": 5530608, \"methylation\": 0.0}, {\"cell type\": \"Plasma_cell\", \"location\": 5530611, \"methylation\": 0.0}, {\"cell type\": \"Plasma_cell\", \"location\": 5530613, \"methylation\": 0.0}, {\"cell type\": \"Plasma_cell\", \"location\": 5530616, \"methylation\": 0.0}, {\"cell type\": \"Plasma_cell\", \"location\": 5530633, \"methylation\": 0.0}, {\"cell type\": \"Plasma_cell\", \"location\": 5530636, \"methylation\": 0.0}, {\"cell type\": \"Plasma_cell\", \"location\": 5530639, \"methylation\": 0.0}, {\"cell type\": \"Plasma_cell\", \"location\": 5530641, \"methylation\": 0.0}, {\"cell type\": \"Plasma_cell\", \"location\": 5530645, \"methylation\": 0.0}, {\"cell type\": \"Plasma_cell\", \"location\": 5530649, \"methylation\": 0.0}, {\"cell type\": \"Plasma_cell\", \"location\": 5530670, \"methylation\": 0.0}, {\"cell type\": \"Plasma_cell\", \"location\": 5530675, \"methylation\": 0.0}, {\"cell type\": \"Plasma_cell\", \"location\": 5530678, \"methylation\": 0.0}, {\"cell type\": \"Plasma_cell\", \"location\": 5530682, \"methylation\": 0.0}, {\"cell type\": \"Plasma_cell\", \"location\": 5530695, \"methylation\": 0.0}, {\"cell type\": \"Plasma_cell\", \"location\": 5530697, \"methylation\": 0.0}, {\"cell type\": \"Plasma_cell\", \"location\": 5530700, \"methylation\": 0.0}, {\"cell type\": \"Plasma_cell\", \"location\": 5530711, \"methylation\": 0.0}, {\"cell type\": \"Plasma_cell\", \"location\": 5530717, \"methylation\": 0.0}, {\"cell type\": \"Plasma_cell\", \"location\": 5530720, \"methylation\": 0.0}, {\"cell type\": \"Plasma_cell\", \"location\": 5530818, \"methylation\": 0.0}, {\"cell type\": \"Plasma_cell\", \"location\": 5530825, \"methylation\": 0.0}, {\"cell type\": \"Plasma_cell\", \"location\": 5530844, \"methylation\": 0.0}, {\"cell type\": \"Plasma_cell\", \"location\": 5530857, \"methylation\": 0.0}, {\"cell type\": \"Plasma_cell\", \"location\": 5530859, \"methylation\": 0.0}, {\"cell type\": \"Plasma_cell\", \"location\": 5530861, \"methylation\": 0.0}, {\"cell type\": \"Plasma_cell\", \"location\": 5530864, \"methylation\": 0.0}, {\"cell type\": \"Plasma_cell\", \"location\": 5530873, \"methylation\": 0.0}, {\"cell type\": \"Plasma_cell\", \"location\": 5530875, \"methylation\": 0.0}, {\"cell type\": \"Plasma_cell\", \"location\": 5530882, \"methylation\": 0.0}, {\"cell type\": \"Plasma_cell\", \"location\": 5530896, \"methylation\": 0.0}, {\"cell type\": \"Plasma_cell\", \"location\": 5530901, \"methylation\": 0.0}, {\"cell type\": \"Plasma_cell\", \"location\": 5530907, \"methylation\": 0.0}, {\"cell type\": \"Plasma_cell\", \"location\": 5530927, \"methylation\": 0.0}, {\"cell type\": \"Plasma_cell\", \"location\": 5530936, \"methylation\": 0.0}, {\"cell type\": \"Plasma_cell\", \"location\": 5530943, \"methylation\": 0.0}, {\"cell type\": \"Plasma_cell\", \"location\": 5530959, \"methylation\": 0.0}, {\"cell type\": \"Plasma_cell\", \"location\": 5530961, \"methylation\": 0.0}, {\"cell type\": \"Plasma_cell\", \"location\": 5530999, \"methylation\": 0.0}, {\"cell type\": \"Plasma_cell\", \"location\": 5531028, \"methylation\": 0.0}, {\"cell type\": \"Plasma_cell\", \"location\": 5531054, \"methylation\": 0.0}, {\"cell type\": \"Plasma_cell\", \"location\": 5530606, \"methylation\": 0.42899999022483826}, {\"cell type\": \"Plasma_cell\", \"location\": 5530608, \"methylation\": 0.5180000066757202}, {\"cell type\": \"Plasma_cell\", \"location\": 5530611, \"methylation\": 0.3330000042915344}, {\"cell type\": \"Plasma_cell\", \"location\": 5530613, \"methylation\": 0.24300000071525574}, {\"cell type\": \"Plasma_cell\", \"location\": 5530616, \"methylation\": 0.515999972820282}, {\"cell type\": \"Plasma_cell\", \"location\": 5530633, \"methylation\": 0.7300000190734863}, {\"cell type\": \"Plasma_cell\", \"location\": 5530636, \"methylation\": 0.6389999985694885}, {\"cell type\": \"Plasma_cell\", \"location\": 5530639, \"methylation\": 0.3529999852180481}, {\"cell type\": \"Plasma_cell\", \"location\": 5530641, \"methylation\": 0.3959999978542328}, {\"cell type\": \"Plasma_cell\", \"location\": 5530645, \"methylation\": 0.9300000071525574}, {\"cell type\": \"Plasma_cell\", \"location\": 5530649, \"methylation\": 0.8859999775886536}, {\"cell type\": \"Plasma_cell\", \"location\": 5530670, \"methylation\": 0.9190000295639038}, {\"cell type\": \"Plasma_cell\", \"location\": 5530675, \"methylation\": 0.7429999709129333}, {\"cell type\": \"Plasma_cell\", \"location\": 5530678, \"methylation\": 0.7649999856948853}, {\"cell type\": \"Plasma_cell\", \"location\": 5530682, \"methylation\": 0.9459999799728394}, {\"cell type\": \"Plasma_cell\", \"location\": 5530695, \"methylation\": 0.8119999766349792}, {\"cell type\": \"Plasma_cell\", \"location\": 5530697, \"methylation\": 0.9169999957084656}, {\"cell type\": \"Plasma_cell\", \"location\": 5530700, \"methylation\": 0.6769999861717224}, {\"cell type\": \"Plasma_cell\", \"location\": 5530711, \"methylation\": 0.9430000185966492}, {\"cell type\": \"Plasma_cell\", \"location\": 5530717, \"methylation\": 0.7950000166893005}, {\"cell type\": \"Plasma_cell\", \"location\": 5530720, \"methylation\": 0.800000011920929}, {\"cell type\": \"Plasma_cell\", \"location\": 5530818, \"methylation\": 0.7210000157356262}, {\"cell type\": \"Plasma_cell\", \"location\": 5530825, \"methylation\": 0.7409999966621399}, {\"cell type\": \"Plasma_cell\", \"location\": 5530844, \"methylation\": 0.9509999752044678}, {\"cell type\": \"Plasma_cell\", \"location\": 5530857, \"methylation\": 0.9169999957084656}, {\"cell type\": \"Plasma_cell\", \"location\": 5530859, \"methylation\": 0.6940000057220459}, {\"cell type\": \"Plasma_cell\", \"location\": 5530861, \"methylation\": 0.7409999966621399}, {\"cell type\": \"Plasma_cell\", \"location\": 5530864, \"methylation\": 0.800000011920929}, {\"cell type\": \"Plasma_cell\", \"location\": 5530873, \"methylation\": 0.3880000114440918}, {\"cell type\": \"Plasma_cell\", \"location\": 5530875, \"methylation\": 0.531000018119812}, {\"cell type\": \"Plasma_cell\", \"location\": 5530882, \"methylation\": 0.39100000262260437}, {\"cell type\": \"Plasma_cell\", \"location\": 5530896, \"methylation\": 0.8199999928474426}, {\"cell type\": \"Plasma_cell\", \"location\": 5530901, \"methylation\": 0.4880000054836273}, {\"cell type\": \"Plasma_cell\", \"location\": 5530907, \"methylation\": 0.7440000176429749}, {\"cell type\": \"Plasma_cell\", \"location\": 5530927, \"methylation\": 0.578000009059906}, {\"cell type\": \"Plasma_cell\", \"location\": 5530936, \"methylation\": 0.7950000166893005}, {\"cell type\": \"Plasma_cell\", \"location\": 5530943, \"methylation\": 0.875}, {\"cell type\": \"Plasma_cell\", \"location\": 5530959, \"methylation\": 0.656000018119812}, {\"cell type\": \"Plasma_cell\", \"location\": 5530961, \"methylation\": 0.9639999866485596}, {\"cell type\": \"Plasma_cell\", \"location\": 5530999, \"methylation\": 0.4169999957084656}, {\"cell type\": \"Plasma_cell\", \"location\": 5531028, \"methylation\": 0.5}, {\"cell type\": \"Plasma_cell\", \"location\": 5531054, \"methylation\": 0.8420000076293945}]}}, {\"mode\": \"vega-lite\"});\n",
              "</script>"
            ],
            "text/plain": [
              "alt.Chart(...)"
            ]
          },
          "metadata": {},
          "execution_count": 29
        }
      ]
    },
    {
      "cell_type": "markdown",
      "source": [
        "# Plotting a Heatmap"
      ],
      "metadata": {
        "id": "-iLri-vukNbp"
      }
    },
    {
      "cell_type": "code",
      "source": [
        "! computeMatrix scale-regions -S \"S00BHQ51.CPG_methylation_calls.bs_call.GRCh38.20160531.bw\" \\\n",
        "      -R gene_locs.bed \\\n",
        "      --beforeRegionStartLength 1000 \\\n",
        "      --regionBodyLength 5000 \\\n",
        "      --afterRegionStartLength 1000 \\\n",
        "      --skipZeros -o S00BHQ51_2.mat.gz \\"
      ],
      "metadata": {
        "id": "5r2X9GfxkVIS",
        "colab": {
          "base_uri": "https://localhost:8080/"
        },
        "outputId": "f93d75d3-8d12-4f0c-e0cd-921d02ebf703"
      },
      "execution_count": 43,
      "outputs": [
        {
          "output_type": "stream",
          "name": "stdout",
          "text": [
            "Skipping chr1:64418-72585, due to being absent in the computeMatrix output.\n",
            "Skipping chr1:449739-452678, due to being absent in the computeMatrix output.\n",
            "Skipping chr1:804798-811161, due to being absent in the computeMatrix output.\n",
            "Skipping chr1:13060157-13063878, due to being absent in the computeMatrix output.\n",
            "Skipping chr1:13127817-13132615, due to being absent in the computeMatrix output.\n",
            "Skipping chr1:13128792-13132409, due to being absent in the computeMatrix output.\n",
            "Skipping chr1:13195187-13202409, due to being absent in the computeMatrix output.\n",
            "Skipping chr1:13195329-13199130, due to being absent in the computeMatrix output.\n",
            "Skipping chr1:13302538-13309907, due to being absent in the computeMatrix output.\n",
            "Skipping chr1:16665784-16667948, due to being absent in the computeMatrix output.\n",
            "Skipping chr1:16739515-16741679, due to being absent in the computeMatrix output.\n",
            "Skipping chr1:103624637-103626656, due to being absent in the computeMatrix output.\n",
            "Skipping chr1:103655017-103657990, due to being absent in the computeMatrix output.\n",
            "Skipping chr1:103655806-103660543, due to being absent in the computeMatrix output.\n",
            "Skipping chr1:103744322-103759726, due to being absent in the computeMatrix output.\n",
            "Skipping chr1:103748653-103753750, due to being absent in the computeMatrix output.\n",
            "Skipping chr1:103748897-103759692, due to being absent in the computeMatrix output.\n",
            "Skipping chr1:103749405-103759690, due to being absent in the computeMatrix output.\n",
            "Skipping chr1:108419688-108434184, due to being absent in the computeMatrix output.\n",
            "Skipping chr1:108449320-108466395, due to being absent in the computeMatrix output.\n",
            "Skipping chr1:120125973-120128074, due to being absent in the computeMatrix output.\n",
            "Skipping chr1:120227045-120229295, due to being absent in the computeMatrix output.\n",
            "Skipping chr1:120570119-120572264, due to being absent in the computeMatrix output.\n",
            "Skipping chr1:120669126-120671376, due to being absent in the computeMatrix output.\n",
            "Skipping chr1:121181922-121184398, due to being absent in the computeMatrix output.\n",
            "Skipping chr1:121183810-121188305, due to being absent in the computeMatrix output.\n",
            "Skipping chr1:121184367-121188361, due to being absent in the computeMatrix output.\n",
            "Skipping chr1:121184381-121188295, due to being absent in the computeMatrix output.\n",
            "Skipping chr1:143783375-143785671, due to being absent in the computeMatrix output.\n",
            "Skipping chr1:143790541-143792687, due to being absent in the computeMatrix output.\n",
            "Skipping chr1:143971668-143976076, due to being absent in the computeMatrix output.\n",
            "Skipping chr1:144167751-144169850, due to being absent in the computeMatrix output.\n",
            "Skipping chr1:144411575-144413740, due to being absent in the computeMatrix output.\n",
            "Skipping chr1:144700049-144702159, due to being absent in the computeMatrix output.\n",
            "Skipping chr1:144753571-144787606, due to being absent in the computeMatrix output.\n",
            "Skipping chr1:144796533-144798632, due to being absent in the computeMatrix output.\n",
            "Skipping chr1:145091986-145095979, due to being absent in the computeMatrix output.\n",
            "Skipping chr1:145092042-145096526, due to being absent in the computeMatrix output.\n",
            "Skipping chr1:145092052-145095965, due to being absent in the computeMatrix output.\n",
            "Skipping chr1:145506443-145509607, due to being absent in the computeMatrix output.\n",
            "Skipping chr1:145669984-145673848, due to being absent in the computeMatrix output.\n",
            "Skipping chr1:145669985-145674756, due to being absent in the computeMatrix output.\n",
            "Skipping chr1:145669986-145674710, due to being absent in the computeMatrix output.\n",
            "Skipping chr1:146287595-146289696, due to being absent in the computeMatrix output.\n",
            "Skipping chr1:146297169-146299715, due to being absent in the computeMatrix output.\n",
            "Skipping chr1:148037752-148039916, due to being absent in the computeMatrix output.\n",
            "Skipping chr1:148205001-148218078, due to being absent in the computeMatrix output.\n",
            "Skipping chr1:148206842-148218078, due to being absent in the computeMatrix output.\n",
            "Skipping chr1:148207092-148226324, due to being absent in the computeMatrix output.\n",
            "Skipping chr1:148207093-148219888, due to being absent in the computeMatrix output.\n",
            "Skipping chr1:148207527-148223222, due to being absent in the computeMatrix output.\n",
            "Skipping chr1:148738378-148740479, due to being absent in the computeMatrix output.\n",
            "Skipping chr1:148747773-148753415, due to being absent in the computeMatrix output.\n",
            "Skipping chr1:148771639-148785594, due to being absent in the computeMatrix output.\n",
            "Skipping chr1:148794796-148797325, due to being absent in the computeMatrix output.\n",
            "Skipping chr1:148843518-148869618, due to being absent in the computeMatrix output.\n",
            "Skipping chr1:148843532-148869609, due to being absent in the computeMatrix output.\n",
            "Skipping chr1:148843597-148869784, due to being absent in the computeMatrix output.\n",
            "Skipping chr1:148843612-148871651, due to being absent in the computeMatrix output.\n",
            "Skipping chr1:149016792-149020588, due to being absent in the computeMatrix output.\n",
            "Skipping chr1:149017333-149022071, due to being absent in the computeMatrix output.\n",
            "Skipping chr1:148838482-148840732, due to being absent in the computeMatrix output.\n",
            "Skipping chr1:149175140-149177910, due to being absent in the computeMatrix output.\n",
            "Skipping chr1:149263251-149265816, due to being absent in the computeMatrix output.\n",
            "Skipping chr1:149289512-149291762, due to being absent in the computeMatrix output.\n",
            "Skipping chr1:149344660-149358612, due to being absent in the computeMatrix output.\n",
            "Skipping chr1:149699150-149701296, due to being absent in the computeMatrix output.\n",
            "Skipping chr1:149831656-149834052, due to being absent in the computeMatrix output.\n",
            "Skipping chr1:149839686-149842208, due to being absent in the computeMatrix output.\n",
            "Skipping chr1:149851607-149854125, due to being absent in the computeMatrix output.\n",
            "Skipping chr1:149858184-149862148, due to being absent in the computeMatrix output.\n",
            "Skipping chr1:149859763-149862159, due to being absent in the computeMatrix output.\n",
            "Skipping chr1:149860270-149863504, due to being absent in the computeMatrix output.\n",
            "Skipping chr1:206174059-206178246, due to being absent in the computeMatrix output.\n",
            "Skipping chr1:206200280-206203419, due to being absent in the computeMatrix output.\n",
            "Skipping chr1:206202179-206205093, due to being absent in the computeMatrix output.\n",
            "Skipping chr1:207550924-207553979, due to being absent in the computeMatrix output.\n",
            "Skipping chr1:224029703-224036056, due to being absent in the computeMatrix output.\n",
            "Skipping chr1:248487588-248492113, due to being absent in the computeMatrix output.\n",
            "Skipping chr1:248548443-248550762, due to being absent in the computeMatrix output.\n",
            "Skipping chr1:64418-72585_r1, due to being absent in the computeMatrix output.\n",
            "Skipping chr1:449739-452678_r1, due to being absent in the computeMatrix output.\n",
            "Skipping chr1:804798-811161_r1, due to being absent in the computeMatrix output.\n",
            "Skipping chr1:13060157-13063878_r1, due to being absent in the computeMatrix output.\n",
            "Skipping chr1:13127817-13132615_r1, due to being absent in the computeMatrix output.\n",
            "Skipping chr1:13128792-13132409_r1, due to being absent in the computeMatrix output.\n",
            "Skipping chr1:13195187-13202409_r1, due to being absent in the computeMatrix output.\n",
            "Skipping chr1:13195329-13199130_r1, due to being absent in the computeMatrix output.\n",
            "Skipping chr1:13302538-13309907_r1, due to being absent in the computeMatrix output.\n",
            "Skipping chr1:16665784-16667948_r1, due to being absent in the computeMatrix output.\n",
            "Skipping chr1:16739515-16741679_r1, due to being absent in the computeMatrix output.\n",
            "Skipping chr1:103624637-103626656_r1, due to being absent in the computeMatrix output.\n",
            "Skipping chr1:103655017-103657990_r1, due to being absent in the computeMatrix output.\n",
            "Skipping chr1:103655806-103660543_r1, due to being absent in the computeMatrix output.\n",
            "Skipping chr1:103744322-103759726_r1, due to being absent in the computeMatrix output.\n",
            "Skipping chr1:103748653-103753750_r1, due to being absent in the computeMatrix output.\n",
            "Skipping chr1:103748897-103759692_r1, due to being absent in the computeMatrix output.\n",
            "Skipping chr1:103749405-103759690_r1, due to being absent in the computeMatrix output.\n",
            "Skipping chr1:108419688-108434184_r1, due to being absent in the computeMatrix output.\n",
            "Skipping chr1:108449320-108466395_r1, due to being absent in the computeMatrix output.\n",
            "Skipping chr1:120125973-120128074_r1, due to being absent in the computeMatrix output.\n",
            "Skipping chr1:120227045-120229295_r1, due to being absent in the computeMatrix output.\n",
            "Skipping chr1:120570119-120572264_r1, due to being absent in the computeMatrix output.\n",
            "Skipping chr1:120669126-120671376_r1, due to being absent in the computeMatrix output.\n",
            "Skipping chr1:121181922-121184398_r1, due to being absent in the computeMatrix output.\n",
            "Skipping chr1:121183810-121188305_r1, due to being absent in the computeMatrix output.\n",
            "Skipping chr1:121184367-121188361_r1, due to being absent in the computeMatrix output.\n",
            "Skipping chr1:121184381-121188295_r1, due to being absent in the computeMatrix output.\n",
            "Skipping chr1:143783375-143785671_r1, due to being absent in the computeMatrix output.\n",
            "Skipping chr1:143790541-143792687_r1, due to being absent in the computeMatrix output.\n",
            "Skipping chr1:143971668-143976076_r1, due to being absent in the computeMatrix output.\n",
            "Skipping chr1:144167751-144169850_r1, due to being absent in the computeMatrix output.\n",
            "Skipping chr1:144411575-144413740_r1, due to being absent in the computeMatrix output.\n",
            "Skipping chr1:144700049-144702159_r1, due to being absent in the computeMatrix output.\n",
            "Skipping chr1:144753571-144787606_r1, due to being absent in the computeMatrix output.\n",
            "Skipping chr1:144796533-144798632_r1, due to being absent in the computeMatrix output.\n",
            "Skipping chr1:145091986-145095979_r1, due to being absent in the computeMatrix output.\n",
            "Skipping chr1:145092042-145096526_r1, due to being absent in the computeMatrix output.\n",
            "Skipping chr1:145092052-145095965_r1, due to being absent in the computeMatrix output.\n",
            "Skipping chr1:145506443-145509607_r1, due to being absent in the computeMatrix output.\n",
            "Skipping chr1:145669984-145673848_r1, due to being absent in the computeMatrix output.\n",
            "Skipping chr1:145669985-145674756_r1, due to being absent in the computeMatrix output.\n",
            "Skipping chr1:145669986-145674710_r1, due to being absent in the computeMatrix output.\n",
            "Skipping chr1:146287595-146289696_r1, due to being absent in the computeMatrix output.\n",
            "Skipping chr1:146297169-146299715_r1, due to being absent in the computeMatrix output.\n",
            "Skipping chr1:148037752-148039916_r1, due to being absent in the computeMatrix output.\n",
            "Skipping chr1:148205001-148218078_r1, due to being absent in the computeMatrix output.\n",
            "Skipping chr1:148206842-148218078_r1, due to being absent in the computeMatrix output.\n",
            "Skipping chr1:148207092-148226324_r1, due to being absent in the computeMatrix output.\n",
            "Skipping chr1:148207093-148219888_r1, due to being absent in the computeMatrix output.\n",
            "Skipping chr1:148207527-148223222_r1, due to being absent in the computeMatrix output.\n",
            "Skipping chr1:148738378-148740479_r1, due to being absent in the computeMatrix output.\n",
            "Skipping chr1:148747773-148753415_r1, due to being absent in the computeMatrix output.\n",
            "Skipping chr1:148771639-148785594_r1, due to being absent in the computeMatrix output.\n",
            "Skipping chr1:148794796-148797325_r1, due to being absent in the computeMatrix output.\n",
            "Skipping chr1:148843518-148869618_r1, due to being absent in the computeMatrix output.\n",
            "Skipping chr1:148843532-148869609_r1, due to being absent in the computeMatrix output.\n",
            "Skipping chr1:148843597-148869784_r1, due to being absent in the computeMatrix output.\n",
            "Skipping chr1:148843612-148871651_r1, due to being absent in the computeMatrix output.\n",
            "Skipping chr1:149016792-149020588_r1, due to being absent in the computeMatrix output.\n",
            "Skipping chr1:149017333-149022071_r1, due to being absent in the computeMatrix output.\n",
            "Skipping chr1:148838482-148840732_r1, due to being absent in the computeMatrix output.\n",
            "Skipping chr1:149175140-149177910_r1, due to being absent in the computeMatrix output.\n",
            "Skipping chr1:149263251-149265816_r1, due to being absent in the computeMatrix output.\n",
            "Skipping chr1:149289512-149291762_r1, due to being absent in the computeMatrix output.\n",
            "Skipping chr1:149344660-149358612_r1, due to being absent in the computeMatrix output.\n",
            "Skipping chr1:149699150-149701296_r1, due to being absent in the computeMatrix output.\n",
            "Skipping chr1:149831656-149834052_r1, due to being absent in the computeMatrix output.\n",
            "Skipping chr1:149839686-149842208_r1, due to being absent in the computeMatrix output.\n",
            "Skipping chr1:149851607-149854125_r1, due to being absent in the computeMatrix output.\n",
            "Skipping chr1:149858184-149862148_r1, due to being absent in the computeMatrix output.\n",
            "Skipping chr1:149859763-149862159_r1, due to being absent in the computeMatrix output.\n",
            "Skipping chr1:149860270-149863504_r1, due to being absent in the computeMatrix output.\n",
            "Skipping chr1:206174059-206178246_r1, due to being absent in the computeMatrix output.\n",
            "Skipping chr1:206200280-206203419_r1, due to being absent in the computeMatrix output.\n",
            "Skipping chr1:206202179-206205093_r1, due to being absent in the computeMatrix output.\n",
            "Skipping chr1:207550924-207553979_r1, due to being absent in the computeMatrix output.\n",
            "Skipping chr1:224029703-224036056_r1, due to being absent in the computeMatrix output.\n",
            "Skipping chr1:248487588-248492113_r1, due to being absent in the computeMatrix output.\n",
            "Skipping chr1:248548443-248550762_r1, due to being absent in the computeMatrix output.\n"
          ]
        }
      ]
    },
    {
      "cell_type": "code",
      "source": [
        "! plotHeatmap -m S00BHQ51_2.mat.gz \\\n",
        "      -out S00BHQ51_2.png \\"
      ],
      "metadata": {
        "id": "tBQPjgZFk2ji"
      },
      "execution_count": 44,
      "outputs": []
    },
    {
      "cell_type": "code",
      "source": [
        "# files.download(\"S00BHQ51_2.png\")\n",
        "Image(\"S00BHQ51_2.png\")"
      ],
      "metadata": {
        "colab": {
          "base_uri": "https://localhost:8080/",
          "height": 17
        },
        "id": "lPsbYbBELhpK",
        "outputId": "5f4d5fef-9e0b-47a9-b9b3-d62f0ee432f4"
      },
      "execution_count": 45,
      "outputs": [
        {
          "output_type": "display_data",
          "data": {
            "text/plain": [
              "<IPython.core.display.Javascript object>"
            ],
            "application/javascript": [
              "\n",
              "    async function download(id, filename, size) {\n",
              "      if (!google.colab.kernel.accessAllowed) {\n",
              "        return;\n",
              "      }\n",
              "      const div = document.createElement('div');\n",
              "      const label = document.createElement('label');\n",
              "      label.textContent = `Downloading \"${filename}\": `;\n",
              "      div.appendChild(label);\n",
              "      const progress = document.createElement('progress');\n",
              "      progress.max = size;\n",
              "      div.appendChild(progress);\n",
              "      document.body.appendChild(div);\n",
              "\n",
              "      const buffers = [];\n",
              "      let downloaded = 0;\n",
              "\n",
              "      const channel = await google.colab.kernel.comms.open(id);\n",
              "      // Send a message to notify the kernel that we're ready.\n",
              "      channel.send({})\n",
              "\n",
              "      for await (const message of channel.messages) {\n",
              "        // Send a message to notify the kernel that we're ready.\n",
              "        channel.send({})\n",
              "        if (message.buffers) {\n",
              "          for (const buffer of message.buffers) {\n",
              "            buffers.push(buffer);\n",
              "            downloaded += buffer.byteLength;\n",
              "            progress.value = downloaded;\n",
              "          }\n",
              "        }\n",
              "      }\n",
              "      const blob = new Blob(buffers, {type: 'application/binary'});\n",
              "      const a = document.createElement('a');\n",
              "      a.href = window.URL.createObjectURL(blob);\n",
              "      a.download = filename;\n",
              "      div.appendChild(a);\n",
              "      a.click();\n",
              "      div.remove();\n",
              "    }\n",
              "  "
            ]
          },
          "metadata": {}
        },
        {
          "output_type": "display_data",
          "data": {
            "text/plain": [
              "<IPython.core.display.Javascript object>"
            ],
            "application/javascript": [
              "download(\"download_0ef6c26e-f454-48e9-8122-8f50900fd9b1\", \"S00BHQ51_2.png\", 64255)"
            ]
          },
          "metadata": {}
        }
      ]
    },
    {
      "cell_type": "markdown",
      "source": [
        "# Coverage Plots"
      ],
      "metadata": {
        "id": "8LBAk_oOa4Qx"
      }
    },
    {
      "cell_type": "code",
      "source": [
        "# Upload bw coverage files\n",
        "files.upload()\n",
        "files.upload()"
      ],
      "metadata": {
        "id": "R9A9uzIyfi9l",
        "colab": {
          "resources": {
            "http://localhost:8080/nbextensions/google.colab/files.js": {
              "data": "Ly8gQ29weXJpZ2h0IDIwMTcgR29vZ2xlIExMQwovLwovLyBMaWNlbnNlZCB1bmRlciB0aGUgQXBhY2hlIExpY2Vuc2UsIFZlcnNpb24gMi4wICh0aGUgIkxpY2Vuc2UiKTsKLy8geW91IG1heSBub3QgdXNlIHRoaXMgZmlsZSBleGNlcHQgaW4gY29tcGxpYW5jZSB3aXRoIHRoZSBMaWNlbnNlLgovLyBZb3UgbWF5IG9idGFpbiBhIGNvcHkgb2YgdGhlIExpY2Vuc2UgYXQKLy8KLy8gICAgICBodHRwOi8vd3d3LmFwYWNoZS5vcmcvbGljZW5zZXMvTElDRU5TRS0yLjAKLy8KLy8gVW5sZXNzIHJlcXVpcmVkIGJ5IGFwcGxpY2FibGUgbGF3IG9yIGFncmVlZCB0byBpbiB3cml0aW5nLCBzb2Z0d2FyZQovLyBkaXN0cmlidXRlZCB1bmRlciB0aGUgTGljZW5zZSBpcyBkaXN0cmlidXRlZCBvbiBhbiAiQVMgSVMiIEJBU0lTLAovLyBXSVRIT1VUIFdBUlJBTlRJRVMgT1IgQ09ORElUSU9OUyBPRiBBTlkgS0lORCwgZWl0aGVyIGV4cHJlc3Mgb3IgaW1wbGllZC4KLy8gU2VlIHRoZSBMaWNlbnNlIGZvciB0aGUgc3BlY2lmaWMgbGFuZ3VhZ2UgZ292ZXJuaW5nIHBlcm1pc3Npb25zIGFuZAovLyBsaW1pdGF0aW9ucyB1bmRlciB0aGUgTGljZW5zZS4KCi8qKgogKiBAZmlsZW92ZXJ2aWV3IEhlbHBlcnMgZm9yIGdvb2dsZS5jb2xhYiBQeXRob24gbW9kdWxlLgogKi8KKGZ1bmN0aW9uKHNjb3BlKSB7CmZ1bmN0aW9uIHNwYW4odGV4dCwgc3R5bGVBdHRyaWJ1dGVzID0ge30pIHsKICBjb25zdCBlbGVtZW50ID0gZG9jdW1lbnQuY3JlYXRlRWxlbWVudCgnc3BhbicpOwogIGVsZW1lbnQudGV4dENvbnRlbnQgPSB0ZXh0OwogIGZvciAoY29uc3Qga2V5IG9mIE9iamVjdC5rZXlzKHN0eWxlQXR0cmlidXRlcykpIHsKICAgIGVsZW1lbnQuc3R5bGVba2V5XSA9IHN0eWxlQXR0cmlidXRlc1trZXldOwogIH0KICByZXR1cm4gZWxlbWVudDsKfQoKLy8gTWF4IG51bWJlciBvZiBieXRlcyB3aGljaCB3aWxsIGJlIHVwbG9hZGVkIGF0IGEgdGltZS4KY29uc3QgTUFYX1BBWUxPQURfU0laRSA9IDEwMCAqIDEwMjQ7CgpmdW5jdGlvbiBfdXBsb2FkRmlsZXMoaW5wdXRJZCwgb3V0cHV0SWQpIHsKICBjb25zdCBzdGVwcyA9IHVwbG9hZEZpbGVzU3RlcChpbnB1dElkLCBvdXRwdXRJZCk7CiAgY29uc3Qgb3V0cHV0RWxlbWVudCA9IGRvY3VtZW50LmdldEVsZW1lbnRCeUlkKG91dHB1dElkKTsKICAvLyBDYWNoZSBzdGVwcyBvbiB0aGUgb3V0cHV0RWxlbWVudCB0byBtYWtlIGl0IGF2YWlsYWJsZSBmb3IgdGhlIG5leHQgY2FsbAogIC8vIHRvIHVwbG9hZEZpbGVzQ29udGludWUgZnJvbSBQeXRob24uCiAgb3V0cHV0RWxlbWVudC5zdGVwcyA9IHN0ZXBzOwoKICByZXR1cm4gX3VwbG9hZEZpbGVzQ29udGludWUob3V0cHV0SWQpOwp9CgovLyBUaGlzIGlzIHJvdWdobHkgYW4gYXN5bmMgZ2VuZXJhdG9yIChub3Qgc3VwcG9ydGVkIGluIHRoZSBicm93c2VyIHlldCksCi8vIHdoZXJlIHRoZXJlIGFyZSBtdWx0aXBsZSBhc3luY2hyb25vdXMgc3RlcHMgYW5kIHRoZSBQeXRob24gc2lkZSBpcyBnb2luZwovLyB0byBwb2xsIGZvciBjb21wbGV0aW9uIG9mIGVhY2ggc3RlcC4KLy8gVGhpcyB1c2VzIGEgUHJvbWlzZSB0byBibG9jayB0aGUgcHl0aG9uIHNpZGUgb24gY29tcGxldGlvbiBvZiBlYWNoIHN0ZXAsCi8vIHRoZW4gcGFzc2VzIHRoZSByZXN1bHQgb2YgdGhlIHByZXZpb3VzIHN0ZXAgYXMgdGhlIGlucHV0IHRvIHRoZSBuZXh0IHN0ZXAuCmZ1bmN0aW9uIF91cGxvYWRGaWxlc0NvbnRpbnVlKG91dHB1dElkKSB7CiAgY29uc3Qgb3V0cHV0RWxlbWVudCA9IGRvY3VtZW50LmdldEVsZW1lbnRCeUlkKG91dHB1dElkKTsKICBjb25zdCBzdGVwcyA9IG91dHB1dEVsZW1lbnQuc3RlcHM7CgogIGNvbnN0IG5leHQgPSBzdGVwcy5uZXh0KG91dHB1dEVsZW1lbnQubGFzdFByb21pc2VWYWx1ZSk7CiAgcmV0dXJuIFByb21pc2UucmVzb2x2ZShuZXh0LnZhbHVlLnByb21pc2UpLnRoZW4oKHZhbHVlKSA9PiB7CiAgICAvLyBDYWNoZSB0aGUgbGFzdCBwcm9taXNlIHZhbHVlIHRvIG1ha2UgaXQgYXZhaWxhYmxlIHRvIHRoZSBuZXh0CiAgICAvLyBzdGVwIG9mIHRoZSBnZW5lcmF0b3IuCiAgICBvdXRwdXRFbGVtZW50Lmxhc3RQcm9taXNlVmFsdWUgPSB2YWx1ZTsKICAgIHJldHVybiBuZXh0LnZhbHVlLnJlc3BvbnNlOwogIH0pOwp9CgovKioKICogR2VuZXJhdG9yIGZ1bmN0aW9uIHdoaWNoIGlzIGNhbGxlZCBiZXR3ZWVuIGVhY2ggYXN5bmMgc3RlcCBvZiB0aGUgdXBsb2FkCiAqIHByb2Nlc3MuCiAqIEBwYXJhbSB7c3RyaW5nfSBpbnB1dElkIEVsZW1lbnQgSUQgb2YgdGhlIGlucHV0IGZpbGUgcGlja2VyIGVsZW1lbnQuCiAqIEBwYXJhbSB7c3RyaW5nfSBvdXRwdXRJZCBFbGVtZW50IElEIG9mIHRoZSBvdXRwdXQgZGlzcGxheS4KICogQHJldHVybiB7IUl0ZXJhYmxlPCFPYmplY3Q+fSBJdGVyYWJsZSBvZiBuZXh0IHN0ZXBzLgogKi8KZnVuY3Rpb24qIHVwbG9hZEZpbGVzU3RlcChpbnB1dElkLCBvdXRwdXRJZCkgewogIGNvbnN0IGlucHV0RWxlbWVudCA9IGRvY3VtZW50LmdldEVsZW1lbnRCeUlkKGlucHV0SWQpOwogIGlucHV0RWxlbWVudC5kaXNhYmxlZCA9IGZhbHNlOwoKICBjb25zdCBvdXRwdXRFbGVtZW50ID0gZG9jdW1lbnQuZ2V0RWxlbWVudEJ5SWQob3V0cHV0SWQpOwogIG91dHB1dEVsZW1lbnQuaW5uZXJIVE1MID0gJyc7CgogIGNvbnN0IHBpY2tlZFByb21pc2UgPSBuZXcgUHJvbWlzZSgocmVzb2x2ZSkgPT4gewogICAgaW5wdXRFbGVtZW50LmFkZEV2ZW50TGlzdGVuZXIoJ2NoYW5nZScsIChlKSA9PiB7CiAgICAgIHJlc29sdmUoZS50YXJnZXQuZmlsZXMpOwogICAgfSk7CiAgfSk7CgogIGNvbnN0IGNhbmNlbCA9IGRvY3VtZW50LmNyZWF0ZUVsZW1lbnQoJ2J1dHRvbicpOwogIGlucHV0RWxlbWVudC5wYXJlbnRFbGVtZW50LmFwcGVuZENoaWxkKGNhbmNlbCk7CiAgY2FuY2VsLnRleHRDb250ZW50ID0gJ0NhbmNlbCB1cGxvYWQnOwogIGNvbnN0IGNhbmNlbFByb21pc2UgPSBuZXcgUHJvbWlzZSgocmVzb2x2ZSkgPT4gewogICAgY2FuY2VsLm9uY2xpY2sgPSAoKSA9PiB7CiAgICAgIHJlc29sdmUobnVsbCk7CiAgICB9OwogIH0pOwoKICAvLyBXYWl0IGZvciB0aGUgdXNlciB0byBwaWNrIHRoZSBmaWxlcy4KICBjb25zdCBmaWxlcyA9IHlpZWxkIHsKICAgIHByb21pc2U6IFByb21pc2UucmFjZShbcGlja2VkUHJvbWlzZSwgY2FuY2VsUHJvbWlzZV0pLAogICAgcmVzcG9uc2U6IHsKICAgICAgYWN0aW9uOiAnc3RhcnRpbmcnLAogICAgfQogIH07CgogIGNhbmNlbC5yZW1vdmUoKTsKCiAgLy8gRGlzYWJsZSB0aGUgaW5wdXQgZWxlbWVudCBzaW5jZSBmdXJ0aGVyIHBpY2tzIGFyZSBub3QgYWxsb3dlZC4KICBpbnB1dEVsZW1lbnQuZGlzYWJsZWQgPSB0cnVlOwoKICBpZiAoIWZpbGVzKSB7CiAgICByZXR1cm4gewogICAgICByZXNwb25zZTogewogICAgICAgIGFjdGlvbjogJ2NvbXBsZXRlJywKICAgICAgfQogICAgfTsKICB9CgogIGZvciAoY29uc3QgZmlsZSBvZiBmaWxlcykgewogICAgY29uc3QgbGkgPSBkb2N1bWVudC5jcmVhdGVFbGVtZW50KCdsaScpOwogICAgbGkuYXBwZW5kKHNwYW4oZmlsZS5uYW1lLCB7Zm9udFdlaWdodDogJ2JvbGQnfSkpOwogICAgbGkuYXBwZW5kKHNwYW4oCiAgICAgICAgYCgke2ZpbGUudHlwZSB8fCAnbi9hJ30pIC0gJHtmaWxlLnNpemV9IGJ5dGVzLCBgICsKICAgICAgICBgbGFzdCBtb2RpZmllZDogJHsKICAgICAgICAgICAgZmlsZS5sYXN0TW9kaWZpZWREYXRlID8gZmlsZS5sYXN0TW9kaWZpZWREYXRlLnRvTG9jYWxlRGF0ZVN0cmluZygpIDoKICAgICAgICAgICAgICAgICAgICAgICAgICAgICAgICAgICAgJ24vYSd9IC0gYCkpOwogICAgY29uc3QgcGVyY2VudCA9IHNwYW4oJzAlIGRvbmUnKTsKICAgIGxpLmFwcGVuZENoaWxkKHBlcmNlbnQpOwoKICAgIG91dHB1dEVsZW1lbnQuYXBwZW5kQ2hpbGQobGkpOwoKICAgIGNvbnN0IGZpbGVEYXRhUHJvbWlzZSA9IG5ldyBQcm9taXNlKChyZXNvbHZlKSA9PiB7CiAgICAgIGNvbnN0IHJlYWRlciA9IG5ldyBGaWxlUmVhZGVyKCk7CiAgICAgIHJlYWRlci5vbmxvYWQgPSAoZSkgPT4gewogICAgICAgIHJlc29sdmUoZS50YXJnZXQucmVzdWx0KTsKICAgICAgfTsKICAgICAgcmVhZGVyLnJlYWRBc0FycmF5QnVmZmVyKGZpbGUpOwogICAgfSk7CiAgICAvLyBXYWl0IGZvciB0aGUgZGF0YSB0byBiZSByZWFkeS4KICAgIGxldCBmaWxlRGF0YSA9IHlpZWxkIHsKICAgICAgcHJvbWlzZTogZmlsZURhdGFQcm9taXNlLAogICAgICByZXNwb25zZTogewogICAgICAgIGFjdGlvbjogJ2NvbnRpbnVlJywKICAgICAgfQogICAgfTsKCiAgICAvLyBVc2UgYSBjaHVua2VkIHNlbmRpbmcgdG8gYXZvaWQgbWVzc2FnZSBzaXplIGxpbWl0cy4gU2VlIGIvNjIxMTU2NjAuCiAgICBsZXQgcG9zaXRpb24gPSAwOwogICAgZG8gewogICAgICBjb25zdCBsZW5ndGggPSBNYXRoLm1pbihmaWxlRGF0YS5ieXRlTGVuZ3RoIC0gcG9zaXRpb24sIE1BWF9QQVlMT0FEX1NJWkUpOwogICAgICBjb25zdCBjaHVuayA9IG5ldyBVaW50OEFycmF5KGZpbGVEYXRhLCBwb3NpdGlvbiwgbGVuZ3RoKTsKICAgICAgcG9zaXRpb24gKz0gbGVuZ3RoOwoKICAgICAgY29uc3QgYmFzZTY0ID0gYnRvYShTdHJpbmcuZnJvbUNoYXJDb2RlLmFwcGx5KG51bGwsIGNodW5rKSk7CiAgICAgIHlpZWxkIHsKICAgICAgICByZXNwb25zZTogewogICAgICAgICAgYWN0aW9uOiAnYXBwZW5kJywKICAgICAgICAgIGZpbGU6IGZpbGUubmFtZSwKICAgICAgICAgIGRhdGE6IGJhc2U2NCwKICAgICAgICB9LAogICAgICB9OwoKICAgICAgbGV0IHBlcmNlbnREb25lID0gZmlsZURhdGEuYnl0ZUxlbmd0aCA9PT0gMCA/CiAgICAgICAgICAxMDAgOgogICAgICAgICAgTWF0aC5yb3VuZCgocG9zaXRpb24gLyBmaWxlRGF0YS5ieXRlTGVuZ3RoKSAqIDEwMCk7CiAgICAgIHBlcmNlbnQudGV4dENvbnRlbnQgPSBgJHtwZXJjZW50RG9uZX0lIGRvbmVgOwoKICAgIH0gd2hpbGUgKHBvc2l0aW9uIDwgZmlsZURhdGEuYnl0ZUxlbmd0aCk7CiAgfQoKICAvLyBBbGwgZG9uZS4KICB5aWVsZCB7CiAgICByZXNwb25zZTogewogICAgICBhY3Rpb246ICdjb21wbGV0ZScsCiAgICB9CiAgfTsKfQoKc2NvcGUuZ29vZ2xlID0gc2NvcGUuZ29vZ2xlIHx8IHt9OwpzY29wZS5nb29nbGUuY29sYWIgPSBzY29wZS5nb29nbGUuY29sYWIgfHwge307CnNjb3BlLmdvb2dsZS5jb2xhYi5fZmlsZXMgPSB7CiAgX3VwbG9hZEZpbGVzLAogIF91cGxvYWRGaWxlc0NvbnRpbnVlLAp9Owp9KShzZWxmKTsK",
              "ok": true,
              "headers": [
                [
                  "content-type",
                  "application/javascript"
                ]
              ],
              "status": 200,
              "status_text": ""
            }
          },
          "base_uri": "https://localhost:8080/",
          "height": 130
        },
        "outputId": "3cafe7e1-5d73-4ef9-c6c7-d7ee897ab4f7"
      },
      "execution_count": 3,
      "outputs": [
        {
          "output_type": "display_data",
          "data": {
            "text/plain": [
              "<IPython.core.display.HTML object>"
            ],
            "text/html": [
              "\n",
              "     <input type=\"file\" id=\"files-60f5c2b0-6249-493d-9428-e71a3e5b5ffe\" name=\"files[]\" multiple disabled\n",
              "        style=\"border:none\" />\n",
              "     <output id=\"result-60f5c2b0-6249-493d-9428-e71a3e5b5ffe\">\n",
              "      Upload widget is only available when the cell has been executed in the\n",
              "      current browser session. Please rerun this cell to enable.\n",
              "      </output>\n",
              "      <script src=\"/nbextensions/google.colab/files.js\"></script> "
            ]
          },
          "metadata": {}
        },
        {
          "output_type": "stream",
          "name": "stdout",
          "text": [
            "Saving G202.CPG_methylation_calls.bs_cov.GRCh38.20160531.bw to G202.CPG_methylation_calls.bs_cov.GRCh38.20160531.bw\n"
          ]
        },
        {
          "output_type": "display_data",
          "data": {
            "text/plain": [
              "<IPython.core.display.HTML object>"
            ],
            "text/html": [
              "\n",
              "     <input type=\"file\" id=\"files-02663d05-9d0e-466c-984c-255e78b18a61\" name=\"files[]\" multiple disabled\n",
              "        style=\"border:none\" />\n",
              "     <output id=\"result-02663d05-9d0e-466c-984c-255e78b18a61\">\n",
              "      Upload widget is only available when the cell has been executed in the\n",
              "      current browser session. Please rerun this cell to enable.\n",
              "      </output>\n",
              "      <script src=\"/nbextensions/google.colab/files.js\"></script> "
            ]
          },
          "metadata": {}
        },
        {
          "output_type": "stream",
          "name": "stdout",
          "text": [
            "Saving S00BHQ51.CPG_methylation_calls.bs_cov.GRCh38.20160531.bw to S00BHQ51.CPG_methylation_calls.bs_cov.GRCh38.20160531.bw\n"
          ]
        }
      ]
    },
    {
      "cell_type": "code",
      "source": [
        "# Upload .ini file\n",
        "files.upload()"
      ],
      "metadata": {
        "colab": {
          "resources": {
            "http://localhost:8080/nbextensions/google.colab/files.js": {
              "data": "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",
              "ok": true,
              "headers": [
                [
                  "content-type",
                  "application/javascript"
                ]
              ],
              "status": 200,
              "status_text": ""
            }
          },
          "base_uri": "https://localhost:8080/",
          "height": 126
        },
        "id": "HdCvuSRDE8Wa",
        "outputId": "1a1c21d6-b57e-4e8f-fa92-a9ac68f3a3e7"
      },
      "execution_count": 6,
      "outputs": [
        {
          "output_type": "display_data",
          "data": {
            "text/plain": [
              "<IPython.core.display.HTML object>"
            ],
            "text/html": [
              "\n",
              "     <input type=\"file\" id=\"files-35df4394-c11d-43ee-b093-64cc5aa08589\" name=\"files[]\" multiple disabled\n",
              "        style=\"border:none\" />\n",
              "     <output id=\"result-35df4394-c11d-43ee-b093-64cc5aa08589\">\n",
              "      Upload widget is only available when the cell has been executed in the\n",
              "      current browser session. Please rerun this cell to enable.\n",
              "      </output>\n",
              "      <script src=\"/nbextensions/google.colab/files.js\"></script> "
            ]
          },
          "metadata": {}
        },
        {
          "output_type": "stream",
          "name": "stdout",
          "text": [
            "Saving bigwig_cov.ini to bigwig_cov.ini\n"
          ]
        },
        {
          "output_type": "execute_result",
          "data": {
            "text/plain": [
              "{'bigwig_cov.ini': b'[test bigwig]\\r\\nfile = S00BHQ51.CPG_methylation_calls.bs_cov.GRCh38.20160531.bw\\r\\ncolor = (0.6, 0, 0)\\r\\nalpha = 0.5\\r\\n# height of the track in cm (optional value)\\r\\nheight = 7\\r\\ntitle = bigwig\\r\\nmin_value = 0\\r\\nmax_value = 100\\r\\n\\r\\n[test bigwig]\\r\\nfile = G202.CPG_methylation_calls.bs_cov.GRCh38.20160531.bw\\r\\ncolor = green\\r\\nalpha = 0.5\\r\\nheight = 7\\r\\nmin_value = 0\\r\\nmax_value = 100\\r\\noverlay_previous = share-y\\r\\n'}"
            ]
          },
          "metadata": {},
          "execution_count": 6
        }
      ]
    },
    {
      "cell_type": "code",
      "source": [
        "! pyGenomeTracks --tracks 'bigwig_cov.ini' --region 7:5,520,000-5,540,000 -o bigwig.png\n",
        "# files.download(\"bigwig.png\")\n",
        "Image(\"bigwig.png\")"
      ],
      "metadata": {
        "colab": {
          "base_uri": "https://localhost:8080/",
          "height": 367
        },
        "id": "nvCd_ynwFCqT",
        "outputId": "06259c5a-b3c1-460e-96fe-d29c40e31236"
      },
      "execution_count": 7,
      "outputs": [
        {
          "output_type": "stream",
          "name": "stdout",
          "text": [
            "INFO:pygenometracks.tracksClass:initialize 1. [test bigwig]\n",
            "INFO:pygenometracks.tracksClass:initialize 2. [test bigwig]\n",
            "INFO:pygenometracks.tracksClass:time initializing track(s):\n",
            "INFO:pygenometracks.tracksClass:0.0015044212341308594\n",
            "DEBUG:pygenometracks.tracksClass:Figure size in cm is 40 x 7.446808510638299. Dpi is set to 72\n",
            "\n",
            "INFO:pygenometracks.tracksClass:plotting 1. [test bigwig]\n",
            "INFO:pygenometracks.tracksClass:plotting 2. [test bigwig]\n"
          ]
        },
        {
          "output_type": "execute_result",
          "data": {
            "text/plain": [
              "<IPython.core.display.Image object>"
            ],
            "image/png": "[encoded data removed]"
          },
          "metadata": {},
          "execution_count": 7
        }
      ]
    },
    {
      "cell_type": "code",
      "source": [
        ""
      ],
      "metadata": {
        "id": "Tfj9XIN9tED2"
      },
      "execution_count": null,
      "outputs": []
    },
    {
      "cell_type": "markdown",
      "source": [
        "# Metilene"
      ],
      "metadata": {
        "id": "AGJsZqjUtc1A"
      }
    },
    {
      "cell_type": "code",
      "source": [
        "! wget http://www.bioinf.uni-leipzig.de/Software/metilene/metilene_v02-5.tar.gz"
      ],
      "metadata": {
        "colab": {
          "base_uri": "https://localhost:8080/"
        },
        "id": "FyKh8nzOteGY",
        "outputId": "896d4043-8c0e-4e91-9eae-a8128ce969a4"
      },
      "execution_count": 9,
      "outputs": [
        {
          "output_type": "stream",
          "name": "stdout",
          "text": [
            "--2022-07-25 18:54:44--  http://www.bioinf.uni-leipzig.de/Software/metilene/metilene_v02-5.tar.gz\n",
            "Resolving www.bioinf.uni-leipzig.de (www.bioinf.uni-leipzig.de)... 139.18.75.66\n",
            "Connecting to www.bioinf.uni-leipzig.de (www.bioinf.uni-leipzig.de)|139.18.75.66|:80... connected.\n",
            "HTTP request sent, awaiting response... 200 OK\n",
            "Length: 2125946 (2.0M) [application/x-gzip]\n",
            "Saving to: ‘metilene_v02-5.tar.gz’\n",
            "\n",
            "metilene_v02-5.tar. 100%[===================>]   2.03M  1.43MB/s    in 1.4s    \n",
            "\n",
            "2022-07-25 18:54:46 (1.43 MB/s) - ‘metilene_v02-5.tar.gz’ saved [2125946/2125946]\n",
            "\n"
          ]
        }
      ]
    },
    {
      "cell_type": "code",
      "source": [
        "! tar -xvzf metilene_v02-5.tar.gz"
      ],
      "metadata": {
        "colab": {
          "base_uri": "https://localhost:8080/"
        },
        "id": "zD4E_YGxtie8",
        "outputId": "1344c50b-9457-4e88-a444-2eaa256a7753"
      },
      "execution_count": 14,
      "outputs": [
        {
          "output_type": "stream",
          "name": "stdout",
          "text": [
            "metilene_v0.2-5/\n",
            "metilene_v0.2-5/metilene_linux64\n",
            "metilene_v0.2-5/src/\n",
            "metilene_v0.2-5/src/vstack.c\n",
            "metilene_v0.2-5/src/708.h\n",
            "metilene_v0.2-5/src/info.h\n",
            "metilene_v0.2-5/src/metseg.h\n",
            "metilene_v0.2-5/src/debug.h\n",
            "metilene_v0.2-5/src/manopt.h\n",
            "metilene_v0.2-5/src/mathematics.c\n",
            "metilene_v0.2-5/src/info.c\n",
            "metilene_v0.2-5/src/manopt.c\n",
            "metilene_v0.2-5/src/stringutils.h\n",
            "metilene_v0.2-5/src/metseg.c\n",
            "metilene_v0.2-5/src/memory.c\n",
            "metilene_v0.2-5/src/sort.c\n",
            "metilene_v0.2-5/src/fileio.c\n",
            "metilene_v0.2-5/src/basic-types.h\n",
            "metilene_v0.2-5/src/debug.c\n",
            "metilene_v0.2-5/src/mathematics.h\n",
            "metilene_v0.2-5/src/memory.h\n",
            "metilene_v0.2-5/src/stringutils.c\n",
            "metilene_v0.2-5/src/708.c\n",
            "metilene_v0.2-5/src/sort.h\n",
            "metilene_v0.2-5/src/segmentstack.h\n",
            "metilene_v0.2-5/src/segmentstack.c\n",
            "metilene_v0.2-5/src/fileio.h\n",
            "metilene_v0.2-5/src/stack.c\n",
            "metilene_v0.2-5/src/stack.h\n",
            "metilene_v0.2-5/src/vstack.h\n",
            "metilene_v0.2-5/Makefile\n",
            "metilene_v0.2-5/README\n",
            "metilene_v0.2-5/metilene_linux32\n",
            "metilene_v0.2-5/metilene_input.pl\n",
            "metilene_v0.2-5/metilene_output.R\n",
            "metilene_v0.2-5/LICENSE\n",
            "metilene_v0.2-5/metilene_output.pl\n",
            "metilene_v0.2-5/manual.pdf\n"
          ]
        }
      ]
    },
    {
      "cell_type": "code",
      "source": [
        "%cd \"metilene_v0.2-5\""
      ],
      "metadata": {
        "colab": {
          "base_uri": "https://localhost:8080/"
        },
        "id": "Ch-S5SrGtm_H",
        "outputId": "7b77d5bd-277e-44dc-82ce-0457a2bdaea8"
      },
      "execution_count": 22,
      "outputs": [
        {
          "output_type": "stream",
          "name": "stdout",
          "text": [
            "/content/metilene_v0.2-5\n"
          ]
        }
      ]
    },
    {
      "cell_type": "code",
      "source": [
        "! make"
      ],
      "metadata": {
        "colab": {
          "base_uri": "https://localhost:8080/"
        },
        "id": "eCwfMVNYtpL0",
        "outputId": "2a6d94dd-b81d-4754-855a-ec3ad0e60d14"
      },
      "execution_count": 24,
      "outputs": [
        {
          "output_type": "stream",
          "name": "stdout",
          "text": [
            "gcc -Wall -pedantic -std=c99 -O3 -D_GNU_SOURCE_ -g  -D_LARGEFILE_SOURCE -D_FILE_OFFSET_BITS=64 -DDBGLEVEL=0 -DPROGNFO -I -Lsrc    -c -o src/manopt.o src/manopt.c\n",
            "gcc -Wall -pedantic -std=c99 -O3 -D_GNU_SOURCE_ -g  -D_LARGEFILE_SOURCE -D_FILE_OFFSET_BITS=64 -DDBGLEVEL=0 -DPROGNFO -I -Lsrc    -c -o src/memory.o src/memory.c\n",
            "gcc -Wall -pedantic -std=c99 -O3 -D_GNU_SOURCE_ -g  -D_LARGEFILE_SOURCE -D_FILE_OFFSET_BITS=64 -DDBGLEVEL=0 -DPROGNFO -I -Lsrc    -c -o src/debug.o src/debug.c\n",
            "gcc -Wall -pedantic -std=c99 -O3 -D_GNU_SOURCE_ -g  -D_LARGEFILE_SOURCE -D_FILE_OFFSET_BITS=64 -DDBGLEVEL=0 -DPROGNFO -I -Lsrc    -c -o src/info.o src/info.c\n",
            "gcc -Wall -pedantic -std=c99 -O3 -D_GNU_SOURCE_ -g  -D_LARGEFILE_SOURCE -D_FILE_OFFSET_BITS=64 -DDBGLEVEL=0 -DPROGNFO -I -Lsrc    -c -o src/stringutils.o src/stringutils.c\n",
            "gcc -Wall -pedantic -std=c99 -O3 -D_GNU_SOURCE_ -g  -D_LARGEFILE_SOURCE -D_FILE_OFFSET_BITS=64 -DDBGLEVEL=0 -DPROGNFO -I -Lsrc    -c -o src/fileio.o src/fileio.c\n",
            "\u001b[01m\u001b[Ksrc/fileio.c:\u001b[m\u001b[K In function ‘\u001b[01m\u001b[Kbl_rm\u001b[m\u001b[K’:\n",
            "\u001b[01m\u001b[Ksrc/fileio.c:184:3:\u001b[m\u001b[K \u001b[01;35m\u001b[Kwarning: \u001b[m\u001b[Kignoring return value of ‘\u001b[01m\u001b[Ksystem\u001b[m\u001b[K’, declared with attribute warn_unused_result [\u001b[01;35m\u001b[K-Wunused-result\u001b[m\u001b[K]\n",
            "   \u001b[01;35m\u001b[Ksystem(cmd)\u001b[m\u001b[K;\n",
            "   \u001b[01;35m\u001b[K^~~~~~~~~~~\u001b[m\u001b[K\n",
            "\u001b[01m\u001b[Ksrc/fileio.c:\u001b[m\u001b[K In function ‘\u001b[01m\u001b[Kbl_UnixSort\u001b[m\u001b[K’:\n",
            "\u001b[01m\u001b[Ksrc/fileio.c:203:3:\u001b[m\u001b[K \u001b[01;35m\u001b[Kwarning: \u001b[m\u001b[Kignoring return value of ‘\u001b[01m\u001b[Ksystem\u001b[m\u001b[K’, declared with attribute warn_unused_result [\u001b[01;35m\u001b[K-Wunused-result\u001b[m\u001b[K]\n",
            "   \u001b[01;35m\u001b[Ksystem(cmd)\u001b[m\u001b[K;\n",
            "   \u001b[01;35m\u001b[K^~~~~~~~~~~\u001b[m\u001b[K\n",
            "gcc -Wall -pedantic -std=c99 -O3 -D_GNU_SOURCE_ -g  -D_LARGEFILE_SOURCE -D_FILE_OFFSET_BITS=64 -DDBGLEVEL=0 -DPROGNFO -I -Lsrc    -c -o src/mathematics.o src/mathematics.c\n",
            "gcc -Wall -pedantic -std=c99 -O3 -D_GNU_SOURCE_ -g  -D_LARGEFILE_SOURCE -D_FILE_OFFSET_BITS=64 -DDBGLEVEL=0 -DPROGNFO -I -Lsrc    -c -o src/sort.o src/sort.c\n",
            "gcc -Wall -pedantic -std=c99 -O3 -D_GNU_SOURCE_ -g  -D_LARGEFILE_SOURCE -D_FILE_OFFSET_BITS=64 -DDBGLEVEL=0 -DPROGNFO -I -Lsrc    -c -o src/vstack.o src/vstack.c\n",
            "gcc -Wall -pedantic -std=c99 -O3 -D_GNU_SOURCE_ -g  -D_LARGEFILE_SOURCE -D_FILE_OFFSET_BITS=64 -DDBGLEVEL=0 -DPROGNFO -I -Lsrc    -c -o src/segmentstack.o src/segmentstack.c\n",
            "gcc -Wall -pedantic -std=c99 -O3 -D_GNU_SOURCE_ -g  -D_LARGEFILE_SOURCE -D_FILE_OFFSET_BITS=64 -DDBGLEVEL=0 -DPROGNFO -I -Lsrc    -c -o src/metseg.o src/metseg.c\n",
            "gcc -Wall -pedantic -std=c99 -O3 -D_GNU_SOURCE_ -g  -D_LARGEFILE_SOURCE -D_FILE_OFFSET_BITS=64 -DDBGLEVEL=0 -DPROGNFO -I -Lsrc  src/manopt.o src/memory.o src/debug.o src/info.o src/stringutils.o src/fileio.o src/mathematics.o src/sort.o src/vstack.o src/segmentstack.o src/metseg.o -o metilene -lm -lpthread \n"
          ]
        }
      ]
    },
    {
      "cell_type": "code",
      "source": [
        "! metilene"
      ],
      "metadata": {
        "colab": {
          "base_uri": "https://localhost:8080/"
        },
        "id": "-gLTDJq1t9pS",
        "outputId": "e26f5bdb-ca7e-4edf-c800-f7f8d08def14"
      },
      "execution_count": 25,
      "outputs": [
        {
          "output_type": "stream",
          "name": "stdout",
          "text": [
            "/bin/bash: metilene: command not found\n"
          ]
        }
      ]
    },
    {
      "cell_type": "code",
      "source": [
        ""
      ],
      "metadata": {
        "id": "QgCEv7_3uhm3"
      },
      "execution_count": null,
      "outputs": []
    }
  ],
  "metadata": {
    "colab": {
      "collapsed_sections": [
        "dFQWeUSLi1kE",
        "7dIyxmbVl36W"
      ],
      "name": "data_processing.ipynb",
      "provenance": [],
      "authorship_tag": "ABX9TyOry2ot0f8r51CPeJJgnfsV",
      "include_colab_link": true
    },
    "kernelspec": {
      "display_name": "Python 3",
      "name": "python3"
    },
    "language_info": {
      "name": "python"
    },
    "widgets": {
      "application/vnd.jupyter.widget-state+json": {
        "22c99431fb974af2af22661f1e46038f": {
          "model_module": "@jupyter-widgets/controls",
          "model_name": "HBoxModel",
          "model_module_version": "1.5.0",
          "state": {
            "_dom_classes": [],
            "_model_module": "@jupyter-widgets/controls",
            "_model_module_version": "1.5.0",
            "_model_name": "HBoxModel",
            "_view_count": null,
            "_view_module": "@jupyter-widgets/controls",
            "_view_module_version": "1.5.0",
            "_view_name": "HBoxView",
            "box_style": "",
            "children": [
              "IPY_MODEL_20a5ae576bb44de3b0861031e7cf46f9",
              "IPY_MODEL_f49c46256da84258b8bd829e88028fb6",
              "IPY_MODEL_370efde789dc4df7a0bbd56ffaedbc44"
            ],
            "layout": "IPY_MODEL_e6c9a46955a748d0a26af3af960ff72b"
          }
        },
        "20a5ae576bb44de3b0861031e7cf46f9": {
          "model_module": "@jupyter-widgets/controls",
          "model_name": "HTMLModel",
          "model_module_version": "1.5.0",
          "state": {
            "_dom_classes": [],
            "_model_module": "@jupyter-widgets/controls",
            "_model_module_version": "1.5.0",
            "_model_name": "HTMLModel",
            "_view_count": null,
            "_view_module": "@jupyter-widgets/controls",
            "_view_module_version": "1.5.0",
            "_view_name": "HTMLView",
            "description": "",
            "description_tooltip": null,
            "layout": "IPY_MODEL_dccdd16624f0489c8e6171642774a807",
            "placeholder": "​",
            "style": "IPY_MODEL_f637e191c52344b0a69c72b66c8fc96c",
            "value": "100%"
          }
        },
        "f49c46256da84258b8bd829e88028fb6": {
          "model_module": "@jupyter-widgets/controls",
          "model_name": "FloatProgressModel",
          "model_module_version": "1.5.0",
          "state": {
            "_dom_classes": [],
            "_model_module": "@jupyter-widgets/controls",
            "_model_module_version": "1.5.0",
            "_model_name": "FloatProgressModel",
            "_view_count": null,
            "_view_module": "@jupyter-widgets/controls",
            "_view_module_version": "1.5.0",
            "_view_name": "ProgressView",
            "bar_style": "success",
            "description": "",
            "description_tooltip": null,
            "layout": "IPY_MODEL_0ccce2d63adb41f9a0b05b16476691c6",
            "max": 2,
            "min": 0,
            "orientation": "horizontal",
            "style": "IPY_MODEL_349ae8cdcb374ed9951dc6a836748c71",
            "value": 2
          }
        },
        "370efde789dc4df7a0bbd56ffaedbc44": {
          "model_module": "@jupyter-widgets/controls",
          "model_name": "HTMLModel",
          "model_module_version": "1.5.0",
          "state": {
            "_dom_classes": [],
            "_model_module": "@jupyter-widgets/controls",
            "_model_module_version": "1.5.0",
            "_model_name": "HTMLModel",
            "_view_count": null,
            "_view_module": "@jupyter-widgets/controls",
            "_view_module_version": "1.5.0",
            "_view_name": "HTMLView",
            "description": "",
            "description_tooltip": null,
            "layout": "IPY_MODEL_8d929335c6634f15bd34f7944e91ea61",
            "placeholder": "​",
            "style": "IPY_MODEL_129f58f096214ef1974773a5ac48e08b",
            "value": " 2/2 [00:06&lt;00:00,  3.16s/it]"
          }
        },
        "e6c9a46955a748d0a26af3af960ff72b": {
          "model_module": "@jupyter-widgets/base",
          "model_name": "LayoutModel",
          "model_module_version": "1.2.0",
          "state": {
            "_model_module": "@jupyter-widgets/base",
            "_model_module_version": "1.2.0",
            "_model_name": "LayoutModel",
            "_view_count": null,
            "_view_module": "@jupyter-widgets/base",
            "_view_module_version": "1.2.0",
            "_view_name": "LayoutView",
            "align_content": null,
            "align_items": null,
            "align_self": null,
            "border": null,
            "bottom": null,
            "display": null,
            "flex": null,
            "flex_flow": null,
            "grid_area": null,
            "grid_auto_columns": null,
            "grid_auto_flow": null,
            "grid_auto_rows": null,
            "grid_column": null,
            "grid_gap": null,
            "grid_row": null,
            "grid_template_areas": null,
            "grid_template_columns": null,
            "grid_template_rows": null,
            "height": null,
            "justify_content": null,
            "justify_items": null,
            "left": null,
            "margin": null,
            "max_height": null,
            "max_width": null,
            "min_height": null,
            "min_width": null,
            "object_fit": null,
            "object_position": null,
            "order": null,
            "overflow": null,
            "overflow_x": null,
            "overflow_y": null,
            "padding": null,
            "right": null,
            "top": null,
            "visibility": null,
            "width": null
          }
        },
        "dccdd16624f0489c8e6171642774a807": {
          "model_module": "@jupyter-widgets/base",
          "model_name": "LayoutModel",
          "model_module_version": "1.2.0",
          "state": {
            "_model_module": "@jupyter-widgets/base",
            "_model_module_version": "1.2.0",
            "_model_name": "LayoutModel",
            "_view_count": null,
            "_view_module": "@jupyter-widgets/base",
            "_view_module_version": "1.2.0",
            "_view_name": "LayoutView",
            "align_content": null,
            "align_items": null,
            "align_self": null,
            "border": null,
            "bottom": null,
            "display": null,
            "flex": null,
            "flex_flow": null,
            "grid_area": null,
            "grid_auto_columns": null,
            "grid_auto_flow": null,
            "grid_auto_rows": null,
            "grid_column": null,
            "grid_gap": null,
            "grid_row": null,
            "grid_template_areas": null,
            "grid_template_columns": null,
            "grid_template_rows": null,
            "height": null,
            "justify_content": null,
            "justify_items": null,
            "left": null,
            "margin": null,
            "max_height": null,
            "max_width": null,
            "min_height": null,
            "min_width": null,
            "object_fit": null,
            "object_position": null,
            "order": null,
            "overflow": null,
            "overflow_x": null,
            "overflow_y": null,
            "padding": null,
            "right": null,
            "top": null,
            "visibility": null,
            "width": null
          }
        },
        "f637e191c52344b0a69c72b66c8fc96c": {
          "model_module": "@jupyter-widgets/controls",
          "model_name": "DescriptionStyleModel",
          "model_module_version": "1.5.0",
          "state": {
            "_model_module": "@jupyter-widgets/controls",
            "_model_module_version": "1.5.0",
            "_model_name": "DescriptionStyleModel",
            "_view_count": null,
            "_view_module": "@jupyter-widgets/base",
            "_view_module_version": "1.2.0",
            "_view_name": "StyleView",
            "description_width": ""
          }
        },
        "0ccce2d63adb41f9a0b05b16476691c6": {
          "model_module": "@jupyter-widgets/base",
          "model_name": "LayoutModel",
          "model_module_version": "1.2.0",
          "state": {
            "_model_module": "@jupyter-widgets/base",
            "_model_module_version": "1.2.0",
            "_model_name": "LayoutModel",
            "_view_count": null,
            "_view_module": "@jupyter-widgets/base",
            "_view_module_version": "1.2.0",
            "_view_name": "LayoutView",
            "align_content": null,
            "align_items": null,
            "align_self": null,
            "border": null,
            "bottom": null,
            "display": null,
            "flex": null,
            "flex_flow": null,
            "grid_area": null,
            "grid_auto_columns": null,
            "grid_auto_flow": null,
            "grid_auto_rows": null,
            "grid_column": null,
            "grid_gap": null,
            "grid_row": null,
            "grid_template_areas": null,
            "grid_template_columns": null,
            "grid_template_rows": null,
            "height": null,
            "justify_content": null,
            "justify_items": null,
            "left": null,
            "margin": null,
            "max_height": null,
            "max_width": null,
            "min_height": null,
            "min_width": null,
            "object_fit": null,
            "object_position": null,
            "order": null,
            "overflow": null,
            "overflow_x": null,
            "overflow_y": null,
            "padding": null,
            "right": null,
            "top": null,
            "visibility": null,
            "width": null
          }
        },
        "349ae8cdcb374ed9951dc6a836748c71": {
          "model_module": "@jupyter-widgets/controls",
          "model_name": "ProgressStyleModel",
          "model_module_version": "1.5.0",
          "state": {
            "_model_module": "@jupyter-widgets/controls",
            "_model_module_version": "1.5.0",
            "_model_name": "ProgressStyleModel",
            "_view_count": null,
            "_view_module": "@jupyter-widgets/base",
            "_view_module_version": "1.2.0",
            "_view_name": "StyleView",
            "bar_color": null,
            "description_width": ""
          }
        },
        "8d929335c6634f15bd34f7944e91ea61": {
          "model_module": "@jupyter-widgets/base",
          "model_name": "LayoutModel",
          "model_module_version": "1.2.0",
          "state": {
            "_model_module": "@jupyter-widgets/base",
            "_model_module_version": "1.2.0",
            "_model_name": "LayoutModel",
            "_view_count": null,
            "_view_module": "@jupyter-widgets/base",
            "_view_module_version": "1.2.0",
            "_view_name": "LayoutView",
            "align_content": null,
            "align_items": null,
            "align_self": null,
            "border": null,
            "bottom": null,
            "display": null,
            "flex": null,
            "flex_flow": null,
            "grid_area": null,
            "grid_auto_columns": null,
            "grid_auto_flow": null,
            "grid_auto_rows": null,
            "grid_column": null,
            "grid_gap": null,
            "grid_row": null,
            "grid_template_areas": null,
            "grid_template_columns": null,
            "grid_template_rows": null,
            "height": null,
            "justify_content": null,
            "justify_items": null,
            "left": null,
            "margin": null,
            "max_height": null,
            "max_width": null,
            "min_height": null,
            "min_width": null,
            "object_fit": null,
            "object_position": null,
            "order": null,
            "overflow": null,
            "overflow_x": null,
            "overflow_y": null,
            "padding": null,
            "right": null,
            "top": null,
            "visibility": null,
            "width": null
          }
        },
        "129f58f096214ef1974773a5ac48e08b": {
          "model_module": "@jupyter-widgets/controls",
          "model_name": "DescriptionStyleModel",
          "model_module_version": "1.5.0",
          "state": {
            "_model_module": "@jupyter-widgets/controls",
            "_model_module_version": "1.5.0",
            "_model_name": "DescriptionStyleModel",
            "_view_count": null,
            "_view_module": "@jupyter-widgets/base",
            "_view_module_version": "1.2.0",
            "_view_name": "StyleView",
            "description_width": ""
          }
        },
        "ec0b1df6a4aa47eabbf0269ed566ab61": {
          "model_module": "@jupyter-widgets/controls",
          "model_name": "HBoxModel",
          "model_module_version": "1.5.0",
          "state": {
            "_dom_classes": [],
            "_model_module": "@jupyter-widgets/controls",
            "_model_module_version": "1.5.0",
            "_model_name": "HBoxModel",
            "_view_count": null,
            "_view_module": "@jupyter-widgets/controls",
            "_view_module_version": "1.5.0",
            "_view_name": "HBoxView",
            "box_style": "",
            "children": [
              "IPY_MODEL_0f3d27760359427aa3529016e69b2829",
              "IPY_MODEL_c94eb4c304dc4ebcaccde8fda49af1a1",
              "IPY_MODEL_3541c56d54cb427cbb26b900456d33c2"
            ],
            "layout": "IPY_MODEL_1ba725963fbc4481a789ffe5f03a250f"
          }
        },
        "0f3d27760359427aa3529016e69b2829": {
          "model_module": "@jupyter-widgets/controls",
          "model_name": "HTMLModel",
          "model_module_version": "1.5.0",
          "state": {
            "_dom_classes": [],
            "_model_module": "@jupyter-widgets/controls",
            "_model_module_version": "1.5.0",
            "_model_name": "HTMLModel",
            "_view_count": null,
            "_view_module": "@jupyter-widgets/controls",
            "_view_module_version": "1.5.0",
            "_view_name": "HTMLView",
            "description": "",
            "description_tooltip": null,
            "layout": "IPY_MODEL_5a39af1f84d84f828fc91a31c04e14b9",
            "placeholder": "​",
            "style": "IPY_MODEL_fd3185341a0e47238ea3d509c30c72fa",
            "value": "100%"
          }
        },
        "c94eb4c304dc4ebcaccde8fda49af1a1": {
          "model_module": "@jupyter-widgets/controls",
          "model_name": "FloatProgressModel",
          "model_module_version": "1.5.0",
          "state": {
            "_dom_classes": [],
            "_model_module": "@jupyter-widgets/controls",
            "_model_module_version": "1.5.0",
            "_model_name": "FloatProgressModel",
            "_view_count": null,
            "_view_module": "@jupyter-widgets/controls",
            "_view_module_version": "1.5.0",
            "_view_name": "ProgressView",
            "bar_style": "success",
            "description": "",
            "description_tooltip": null,
            "layout": "IPY_MODEL_df9ba2863f9841dc9791fc63223425ed",
            "max": 2,
            "min": 0,
            "orientation": "horizontal",
            "style": "IPY_MODEL_b88a430089b94b82a4bfbb941cf34305",
            "value": 2
          }
        },
        "3541c56d54cb427cbb26b900456d33c2": {
          "model_module": "@jupyter-widgets/controls",
          "model_name": "HTMLModel",
          "model_module_version": "1.5.0",
          "state": {
            "_dom_classes": [],
            "_model_module": "@jupyter-widgets/controls",
            "_model_module_version": "1.5.0",
            "_model_name": "HTMLModel",
            "_view_count": null,
            "_view_module": "@jupyter-widgets/controls",
            "_view_module_version": "1.5.0",
            "_view_name": "HTMLView",
            "description": "",
            "description_tooltip": null,
            "layout": "IPY_MODEL_93f72a6795f14e15b6496f04269707d6",
            "placeholder": "​",
            "style": "IPY_MODEL_6433a45f30c44cbd9bbe5cec387b5173",
            "value": " 2/2 [03:11&lt;00:00, 96.82s/it]"
          }
        },
        "1ba725963fbc4481a789ffe5f03a250f": {
          "model_module": "@jupyter-widgets/base",
          "model_name": "LayoutModel",
          "model_module_version": "1.2.0",
          "state": {
            "_model_module": "@jupyter-widgets/base",
            "_model_module_version": "1.2.0",
            "_model_name": "LayoutModel",
            "_view_count": null,
            "_view_module": "@jupyter-widgets/base",
            "_view_module_version": "1.2.0",
            "_view_name": "LayoutView",
            "align_content": null,
            "align_items": null,
            "align_self": null,
            "border": null,
            "bottom": null,
            "display": null,
            "flex": null,
            "flex_flow": null,
            "grid_area": null,
            "grid_auto_columns": null,
            "grid_auto_flow": null,
            "grid_auto_rows": null,
            "grid_column": null,
            "grid_gap": null,
            "grid_row": null,
            "grid_template_areas": null,
            "grid_template_columns": null,
            "grid_template_rows": null,
            "height": null,
            "justify_content": null,
            "justify_items": null,
            "left": null,
            "margin": null,
            "max_height": null,
            "max_width": null,
            "min_height": null,
            "min_width": null,
            "object_fit": null,
            "object_position": null,
            "order": null,
            "overflow": null,
            "overflow_x": null,
            "overflow_y": null,
            "padding": null,
            "right": null,
            "top": null,
            "visibility": null,
            "width": null
          }
        },
        "5a39af1f84d84f828fc91a31c04e14b9": {
          "model_module": "@jupyter-widgets/base",
          "model_name": "LayoutModel",
          "model_module_version": "1.2.0",
          "state": {
            "_model_module": "@jupyter-widgets/base",
            "_model_module_version": "1.2.0",
            "_model_name": "LayoutModel",
            "_view_count": null,
            "_view_module": "@jupyter-widgets/base",
            "_view_module_version": "1.2.0",
            "_view_name": "LayoutView",
            "align_content": null,
            "align_items": null,
            "align_self": null,
            "border": null,
            "bottom": null,
            "display": null,
            "flex": null,
            "flex_flow": null,
            "grid_area": null,
            "grid_auto_columns": null,
            "grid_auto_flow": null,
            "grid_auto_rows": null,
            "grid_column": null,
            "grid_gap": null,
            "grid_row": null,
            "grid_template_areas": null,
            "grid_template_columns": null,
            "grid_template_rows": null,
            "height": null,
            "justify_content": null,
            "justify_items": null,
            "left": null,
            "margin": null,
            "max_height": null,
            "max_width": null,
            "min_height": null,
            "min_width": null,
            "object_fit": null,
            "object_position": null,
            "order": null,
            "overflow": null,
            "overflow_x": null,
            "overflow_y": null,
            "padding": null,
            "right": null,
            "top": null,
            "visibility": null,
            "width": null
          }
        },
        "fd3185341a0e47238ea3d509c30c72fa": {
          "model_module": "@jupyter-widgets/controls",
          "model_name": "DescriptionStyleModel",
          "model_module_version": "1.5.0",
          "state": {
            "_model_module": "@jupyter-widgets/controls",
            "_model_module_version": "1.5.0",
            "_model_name": "DescriptionStyleModel",
            "_view_count": null,
            "_view_module": "@jupyter-widgets/base",
            "_view_module_version": "1.2.0",
            "_view_name": "StyleView",
            "description_width": ""
          }
        },
        "df9ba2863f9841dc9791fc63223425ed": {
          "model_module": "@jupyter-widgets/base",
          "model_name": "LayoutModel",
          "model_module_version": "1.2.0",
          "state": {
            "_model_module": "@jupyter-widgets/base",
            "_model_module_version": "1.2.0",
            "_model_name": "LayoutModel",
            "_view_count": null,
            "_view_module": "@jupyter-widgets/base",
            "_view_module_version": "1.2.0",
            "_view_name": "LayoutView",
            "align_content": null,
            "align_items": null,
            "align_self": null,
            "border": null,
            "bottom": null,
            "display": null,
            "flex": null,
            "flex_flow": null,
            "grid_area": null,
            "grid_auto_columns": null,
            "grid_auto_flow": null,
            "grid_auto_rows": null,
            "grid_column": null,
            "grid_gap": null,
            "grid_row": null,
            "grid_template_areas": null,
            "grid_template_columns": null,
            "grid_template_rows": null,
            "height": null,
            "justify_content": null,
            "justify_items": null,
            "left": null,
            "margin": null,
            "max_height": null,
            "max_width": null,
            "min_height": null,
            "min_width": null,
            "object_fit": null,
            "object_position": null,
            "order": null,
            "overflow": null,
            "overflow_x": null,
            "overflow_y": null,
            "padding": null,
            "right": null,
            "top": null,
            "visibility": null,
            "width": null
          }
        },
        "b88a430089b94b82a4bfbb941cf34305": {
          "model_module": "@jupyter-widgets/controls",
          "model_name": "ProgressStyleModel",
          "model_module_version": "1.5.0",
          "state": {
            "_model_module": "@jupyter-widgets/controls",
            "_model_module_version": "1.5.0",
            "_model_name": "ProgressStyleModel",
            "_view_count": null,
            "_view_module": "@jupyter-widgets/base",
            "_view_module_version": "1.2.0",
            "_view_name": "StyleView",
            "bar_color": null,
            "description_width": ""
          }
        },
        "93f72a6795f14e15b6496f04269707d6": {
          "model_module": "@jupyter-widgets/base",
          "model_name": "LayoutModel",
          "model_module_version": "1.2.0",
          "state": {
            "_model_module": "@jupyter-widgets/base",
            "_model_module_version": "1.2.0",
            "_model_name": "LayoutModel",
            "_view_count": null,
            "_view_module": "@jupyter-widgets/base",
            "_view_module_version": "1.2.0",
            "_view_name": "LayoutView",
            "align_content": null,
            "align_items": null,
            "align_self": null,
            "border": null,
            "bottom": null,
            "display": null,
            "flex": null,
            "flex_flow": null,
            "grid_area": null,
            "grid_auto_columns": null,
            "grid_auto_flow": null,
            "grid_auto_rows": null,
            "grid_column": null,
            "grid_gap": null,
            "grid_row": null,
            "grid_template_areas": null,
            "grid_template_columns": null,
            "grid_template_rows": null,
            "height": null,
            "justify_content": null,
            "justify_items": null,
            "left": null,
            "margin": null,
            "max_height": null,
            "max_width": null,
            "min_height": null,
            "min_width": null,
            "object_fit": null,
            "object_position": null,
            "order": null,
            "overflow": null,
            "overflow_x": null,
            "overflow_y": null,
            "padding": null,
            "right": null,
            "top": null,
            "visibility": null,
            "width": null
          }
        },
        "6433a45f30c44cbd9bbe5cec387b5173": {
          "model_module": "@jupyter-widgets/controls",
          "model_name": "DescriptionStyleModel",
          "model_module_version": "1.5.0",
          "state": {
            "_model_module": "@jupyter-widgets/controls",
            "_model_module_version": "1.5.0",
            "_model_name": "DescriptionStyleModel",
            "_view_count": null,
            "_view_module": "@jupyter-widgets/base",
            "_view_module_version": "1.2.0",
            "_view_name": "StyleView",
            "description_width": ""
          }
        }
      }
    }
  },
  "nbformat": 4,
  "nbformat_minor": 0
}