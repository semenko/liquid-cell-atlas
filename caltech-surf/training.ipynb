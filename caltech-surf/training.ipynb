{
  "nbformat": 4,
  "nbformat_minor": 0,
  "metadata": {
    "colab": {
      "name": "training.ipynb",
      "provenance": [],
      "collapsed_sections": [],
      "authorship_tag": "ABX9TyOrGUNEhLGwTTic5SuoFjC1",
      "include_colab_link": true
    },
    "kernelspec": {
      "name": "python3",
      "display_name": "Python 3"
    },
    "language_info": {
      "name": "python"
    },
    "widgets": {
      "application/vnd.jupyter.widget-state+json": {
        "421650c12d414d419ba5efcc5dc966fa": {
          "model_module": "@jupyter-widgets/controls",
          "model_name": "HBoxModel",
          "model_module_version": "1.5.0",
          "state": {
            "_dom_classes": [],
            "_model_module": "@jupyter-widgets/controls",
            "_model_module_version": "1.5.0",
            "_model_name": "HBoxModel",
            "_view_count": null,
            "_view_module": "@jupyter-widgets/controls",
            "_view_module_version": "1.5.0",
            "_view_name": "HBoxView",
            "box_style": "",
            "children": [
              "IPY_MODEL_bd794eb9533749c196226f3acc3417fc",
              "IPY_MODEL_4779b679a0a04d939b36d8e4d2cb808c",
              "IPY_MODEL_98cb54b1d8cd483f9ad4d0badda54e6c"
            ],
            "layout": "IPY_MODEL_858d99bafed04703a3e6d7dab0c11136"
          }
        },
        "bd794eb9533749c196226f3acc3417fc": {
          "model_module": "@jupyter-widgets/controls",
          "model_name": "HTMLModel",
          "model_module_version": "1.5.0",
          "state": {
            "_dom_classes": [],
            "_model_module": "@jupyter-widgets/controls",
            "_model_module_version": "1.5.0",
            "_model_name": "HTMLModel",
            "_view_count": null,
            "_view_module": "@jupyter-widgets/controls",
            "_view_module_version": "1.5.0",
            "_view_name": "HTMLView",
            "description": "",
            "description_tooltip": null,
            "layout": "IPY_MODEL_ae8394652cb843cd9fdf9c226b03a61f",
            "placeholder": "​",
            "style": "IPY_MODEL_a14a0cc2c08f477394b2247f90c7e543",
            "value": "100%"
          }
        },
        "4779b679a0a04d939b36d8e4d2cb808c": {
          "model_module": "@jupyter-widgets/controls",
          "model_name": "FloatProgressModel",
          "model_module_version": "1.5.0",
          "state": {
            "_dom_classes": [],
            "_model_module": "@jupyter-widgets/controls",
            "_model_module_version": "1.5.0",
            "_model_name": "FloatProgressModel",
            "_view_count": null,
            "_view_module": "@jupyter-widgets/controls",
            "_view_module_version": "1.5.0",
            "_view_name": "ProgressView",
            "bar_style": "success",
            "description": "",
            "description_tooltip": null,
            "layout": "IPY_MODEL_42c9765e2bcc4d36808e7e5075216dca",
            "max": 60308,
            "min": 0,
            "orientation": "horizontal",
            "style": "IPY_MODEL_1e8b0d7515d34e2fb0033c95ccf8acdc",
            "value": 60308
          }
        },
        "98cb54b1d8cd483f9ad4d0badda54e6c": {
          "model_module": "@jupyter-widgets/controls",
          "model_name": "HTMLModel",
          "model_module_version": "1.5.0",
          "state": {
            "_dom_classes": [],
            "_model_module": "@jupyter-widgets/controls",
            "_model_module_version": "1.5.0",
            "_model_name": "HTMLModel",
            "_view_count": null,
            "_view_module": "@jupyter-widgets/controls",
            "_view_module_version": "1.5.0",
            "_view_name": "HTMLView",
            "description": "",
            "description_tooltip": null,
            "layout": "IPY_MODEL_75d6c69cb180492aa5398906d8602464",
            "placeholder": "​",
            "style": "IPY_MODEL_cdb8950d87af4fe39850d169a8a68b2b",
            "value": " 60308/60308 [17:35&lt;00:00, 57.48it/s]"
          }
        },
        "858d99bafed04703a3e6d7dab0c11136": {
          "model_module": "@jupyter-widgets/base",
          "model_name": "LayoutModel",
          "model_module_version": "1.2.0",
          "state": {
            "_model_module": "@jupyter-widgets/base",
            "_model_module_version": "1.2.0",
            "_model_name": "LayoutModel",
            "_view_count": null,
            "_view_module": "@jupyter-widgets/base",
            "_view_module_version": "1.2.0",
            "_view_name": "LayoutView",
            "align_content": null,
            "align_items": null,
            "align_self": null,
            "border": null,
            "bottom": null,
            "display": null,
            "flex": null,
            "flex_flow": null,
            "grid_area": null,
            "grid_auto_columns": null,
            "grid_auto_flow": null,
            "grid_auto_rows": null,
            "grid_column": null,
            "grid_gap": null,
            "grid_row": null,
            "grid_template_areas": null,
            "grid_template_columns": null,
            "grid_template_rows": null,
            "height": null,
            "justify_content": null,
            "justify_items": null,
            "left": null,
            "margin": null,
            "max_height": null,
            "max_width": null,
            "min_height": null,
            "min_width": null,
            "object_fit": null,
            "object_position": null,
            "order": null,
            "overflow": null,
            "overflow_x": null,
            "overflow_y": null,
            "padding": null,
            "right": null,
            "top": null,
            "visibility": null,
            "width": null
          }
        },
        "ae8394652cb843cd9fdf9c226b03a61f": {
          "model_module": "@jupyter-widgets/base",
          "model_name": "LayoutModel",
          "model_module_version": "1.2.0",
          "state": {
            "_model_module": "@jupyter-widgets/base",
            "_model_module_version": "1.2.0",
            "_model_name": "LayoutModel",
            "_view_count": null,
            "_view_module": "@jupyter-widgets/base",
            "_view_module_version": "1.2.0",
            "_view_name": "LayoutView",
            "align_content": null,
            "align_items": null,
            "align_self": null,
            "border": null,
            "bottom": null,
            "display": null,
            "flex": null,
            "flex_flow": null,
            "grid_area": null,
            "grid_auto_columns": null,
            "grid_auto_flow": null,
            "grid_auto_rows": null,
            "grid_column": null,
            "grid_gap": null,
            "grid_row": null,
            "grid_template_areas": null,
            "grid_template_columns": null,
            "grid_template_rows": null,
            "height": null,
            "justify_content": null,
            "justify_items": null,
            "left": null,
            "margin": null,
            "max_height": null,
            "max_width": null,
            "min_height": null,
            "min_width": null,
            "object_fit": null,
            "object_position": null,
            "order": null,
            "overflow": null,
            "overflow_x": null,
            "overflow_y": null,
            "padding": null,
            "right": null,
            "top": null,
            "visibility": null,
            "width": null
          }
        },
        "a14a0cc2c08f477394b2247f90c7e543": {
          "model_module": "@jupyter-widgets/controls",
          "model_name": "DescriptionStyleModel",
          "model_module_version": "1.5.0",
          "state": {
            "_model_module": "@jupyter-widgets/controls",
            "_model_module_version": "1.5.0",
            "_model_name": "DescriptionStyleModel",
            "_view_count": null,
            "_view_module": "@jupyter-widgets/base",
            "_view_module_version": "1.2.0",
            "_view_name": "StyleView",
            "description_width": ""
          }
        },
        "42c9765e2bcc4d36808e7e5075216dca": {
          "model_module": "@jupyter-widgets/base",
          "model_name": "LayoutModel",
          "model_module_version": "1.2.0",
          "state": {
            "_model_module": "@jupyter-widgets/base",
            "_model_module_version": "1.2.0",
            "_model_name": "LayoutModel",
            "_view_count": null,
            "_view_module": "@jupyter-widgets/base",
            "_view_module_version": "1.2.0",
            "_view_name": "LayoutView",
            "align_content": null,
            "align_items": null,
            "align_self": null,
            "border": null,
            "bottom": null,
            "display": null,
            "flex": null,
            "flex_flow": null,
            "grid_area": null,
            "grid_auto_columns": null,
            "grid_auto_flow": null,
            "grid_auto_rows": null,
            "grid_column": null,
            "grid_gap": null,
            "grid_row": null,
            "grid_template_areas": null,
            "grid_template_columns": null,
            "grid_template_rows": null,
            "height": null,
            "justify_content": null,
            "justify_items": null,
            "left": null,
            "margin": null,
            "max_height": null,
            "max_width": null,
            "min_height": null,
            "min_width": null,
            "object_fit": null,
            "object_position": null,
            "order": null,
            "overflow": null,
            "overflow_x": null,
            "overflow_y": null,
            "padding": null,
            "right": null,
            "top": null,
            "visibility": null,
            "width": null
          }
        },
        "1e8b0d7515d34e2fb0033c95ccf8acdc": {
          "model_module": "@jupyter-widgets/controls",
          "model_name": "ProgressStyleModel",
          "model_module_version": "1.5.0",
          "state": {
            "_model_module": "@jupyter-widgets/controls",
            "_model_module_version": "1.5.0",
            "_model_name": "ProgressStyleModel",
            "_view_count": null,
            "_view_module": "@jupyter-widgets/base",
            "_view_module_version": "1.2.0",
            "_view_name": "StyleView",
            "bar_color": null,
            "description_width": ""
          }
        },
        "75d6c69cb180492aa5398906d8602464": {
          "model_module": "@jupyter-widgets/base",
          "model_name": "LayoutModel",
          "model_module_version": "1.2.0",
          "state": {
            "_model_module": "@jupyter-widgets/base",
            "_model_module_version": "1.2.0",
            "_model_name": "LayoutModel",
            "_view_count": null,
            "_view_module": "@jupyter-widgets/base",
            "_view_module_version": "1.2.0",
            "_view_name": "LayoutView",
            "align_content": null,
            "align_items": null,
            "align_self": null,
            "border": null,
            "bottom": null,
            "display": null,
            "flex": null,
            "flex_flow": null,
            "grid_area": null,
            "grid_auto_columns": null,
            "grid_auto_flow": null,
            "grid_auto_rows": null,
            "grid_column": null,
            "grid_gap": null,
            "grid_row": null,
            "grid_template_areas": null,
            "grid_template_columns": null,
            "grid_template_rows": null,
            "height": null,
            "justify_content": null,
            "justify_items": null,
            "left": null,
            "margin": null,
            "max_height": null,
            "max_width": null,
            "min_height": null,
            "min_width": null,
            "object_fit": null,
            "object_position": null,
            "order": null,
            "overflow": null,
            "overflow_x": null,
            "overflow_y": null,
            "padding": null,
            "right": null,
            "top": null,
            "visibility": null,
            "width": null
          }
        },
        "cdb8950d87af4fe39850d169a8a68b2b": {
          "model_module": "@jupyter-widgets/controls",
          "model_name": "DescriptionStyleModel",
          "model_module_version": "1.5.0",
          "state": {
            "_model_module": "@jupyter-widgets/controls",
            "_model_module_version": "1.5.0",
            "_model_name": "DescriptionStyleModel",
            "_view_count": null,
            "_view_module": "@jupyter-widgets/base",
            "_view_module_version": "1.2.0",
            "_view_name": "StyleView",
            "description_width": ""
          }
        }
      }
    }
  },
  "cells": [
    {
      "cell_type": "markdown",
      "metadata": {
        "id": "view-in-github",
        "colab_type": "text"
      },
      "source": [
        "<a href=\"https://colab.research.google.com/github/semenko/liquid-cell-atlas/blob/main/training.ipynb\" target=\"_parent\"><img src=\"https://colab.research.google.com/assets/colab-badge.svg\" alt=\"Open In Colab\"/></a>"
      ]
    },
    {
      "cell_type": "markdown",
      "source": [
        "## Import Packages"
      ],
      "metadata": {
        "id": "mpOyRfvvBW0c"
      }
    },
    {
      "cell_type": "code",
      "source": [
        "! pip install pyBigWig pybedtools bedparse\n",
        "!apt install bedtools"
      ],
      "metadata": {
        "colab": {
          "base_uri": "https://localhost:8080/",
          "height": 866
        },
        "id": "q-qPCOYQBkwh",
        "outputId": "27af0154-6a8b-4aa8-9378-566a1e0d3228"
      },
      "execution_count": 1,
      "outputs": [
        {
          "output_type": "stream",
          "name": "stdout",
          "text": [
            "Looking in indexes: https://pypi.org/simple, https://us-python.pkg.dev/colab-wheels/public/simple/\n",
            "Collecting pyBigWig\n",
            "  Downloading pyBigWig-0.3.18.tar.gz (64 kB)\n",
            "\u001b[K     |████████████████████████████████| 64 kB 1.0 MB/s \n",
            "\u001b[?25hCollecting pybedtools\n",
            "  Downloading pybedtools-0.9.0.tar.gz (12.5 MB)\n",
            "\u001b[K     |████████████████████████████████| 12.5 MB 4.9 MB/s \n",
            "\u001b[?25hCollecting bedparse\n",
            "  Downloading bedparse-0.2.3-py3-none-any.whl (21 kB)\n",
            "Requirement already satisfied: six in /usr/local/lib/python3.7/dist-packages (from pybedtools) (1.15.0)\n",
            "Collecting pysam\n",
            "  Downloading pysam-0.19.1-cp37-cp37m-manylinux_2_24_x86_64.whl (15.1 MB)\n",
            "\u001b[K     |████████████████████████████████| 15.1 MB 200 kB/s \n",
            "\u001b[?25hCollecting argparse\n",
            "  Downloading argparse-1.4.0-py2.py3-none-any.whl (23 kB)\n",
            "Requirement already satisfied: setuptools in /usr/local/lib/python3.7/dist-packages (from bedparse) (57.4.0)\n",
            "Building wheels for collected packages: pyBigWig, pybedtools\n",
            "  Building wheel for pyBigWig (setup.py) ... \u001b[?25l\u001b[?25hdone\n",
            "  Created wheel for pyBigWig: filename=pyBigWig-0.3.18-cp37-cp37m-linux_x86_64.whl size=197020 sha256=df1bf71c92fddfd9018eb9f9e72bfa8e57905071565bafbef24a1e3f86634e20\n",
            "  Stored in directory: /root/.cache/pip/wheels/28/eb/46/c761563ba38bd516bcc6accde3d4188cd84eec067f9201cbec\n",
            "  Building wheel for pybedtools (setup.py) ... \u001b[?25l\u001b[?25hdone\n",
            "  Created wheel for pybedtools: filename=pybedtools-0.9.0-cp37-cp37m-linux_x86_64.whl size=13616817 sha256=0e62faf41708b37c4d99fd77993fff8ffbb74bfa27dc4b25ff70fa15f0ff8630\n",
            "  Stored in directory: /root/.cache/pip/wheels/7a/44/0d/3a7449885adaf8ebb157da8c3c834a712f48b3b3b84ba51dda\n",
            "Successfully built pyBigWig pybedtools\n",
            "Installing collected packages: pysam, argparse, pyBigWig, pybedtools, bedparse\n",
            "Successfully installed argparse-1.4.0 bedparse-0.2.3 pyBigWig-0.3.18 pybedtools-0.9.0 pysam-0.19.1\n"
          ]
        },
        {
          "output_type": "display_data",
          "data": {
            "application/vnd.colab-display-data+json": {
              "pip_warning": {
                "packages": [
                  "argparse"
                ]
              }
            }
          },
          "metadata": {}
        },
        {
          "output_type": "stream",
          "name": "stdout",
          "text": [
            "Reading package lists... Done\n",
            "Building dependency tree       \n",
            "Reading state information... Done\n",
            "The following package was automatically installed and is no longer required:\n",
            "  libnvidia-common-460\n",
            "Use 'apt autoremove' to remove it.\n",
            "The following NEW packages will be installed:\n",
            "  bedtools\n",
            "0 upgraded, 1 newly installed, 0 to remove and 19 not upgraded.\n",
            "Need to get 577 kB of archives.\n",
            "After this operation, 2,040 kB of additional disk space will be used.\n",
            "Get:1 http://archive.ubuntu.com/ubuntu bionic/universe amd64 bedtools amd64 2.26.0+dfsg-5 [577 kB]\n",
            "Fetched 577 kB in 1s (715 kB/s)\n",
            "Selecting previously unselected package bedtools.\n",
            "(Reading database ... 155680 files and directories currently installed.)\n",
            "Preparing to unpack .../bedtools_2.26.0+dfsg-5_amd64.deb ...\n",
            "Unpacking bedtools (2.26.0+dfsg-5) ...\n",
            "Setting up bedtools (2.26.0+dfsg-5) ...\n"
          ]
        }
      ]
    },
    {
      "cell_type": "code",
      "source": [
        "import pandas as pd\n",
        "from google.colab import files\n",
        "import io\n",
        "import itertools\n",
        "import numpy as np\n",
        "from tqdm.notebook import tqdm\n",
        "import csv\n",
        "import os\n",
        "import urllib\n",
        "import pickle\n",
        "import json\n",
        "import pyBigWig\n",
        "import pybedtools"
      ],
      "metadata": {
        "id": "HhmIdnrNfN1A"
      },
      "execution_count": 2,
      "outputs": []
    },
    {
      "cell_type": "markdown",
      "source": [
        "# Data Processing"
      ],
      "metadata": {
        "id": "4IgbNzyABaRD"
      }
    },
    {
      "cell_type": "markdown",
      "source": [
        "The TSV contains the links to all of the datasets on the site, as well as their corresponding cell types, file types, and more.\n",
        "\n",
        "We filter the file to get rid of individuals with diseases, and only keep the datasets with the bigWig file format. We also only keep bisulfite sequencing data."
      ],
      "metadata": {
        "id": "5SYLtudY_q9D"
      }
    },
    {
      "cell_type": "code",
      "execution_count": 3,
      "metadata": {
        "colab": {
          "base_uri": "https://localhost:8080/"
        },
        "id": "PwH1DQuPe0g6",
        "outputId": "58eb0b7c-7c95-4814-c96e-e394dc989673"
      },
      "outputs": [
        {
          "output_type": "stream",
          "name": "stdout",
          "text": [
            "--2022-08-05 11:01:41--  http://dcc.blueprint-epigenome.eu/data/blueprint_files.tsv\n",
            "Resolving dcc.blueprint-epigenome.eu (dcc.blueprint-epigenome.eu)... 193.62.192.83, 193.62.193.83\n",
            "Connecting to dcc.blueprint-epigenome.eu (dcc.blueprint-epigenome.eu)|193.62.192.83|:80... connected.\n",
            "HTTP request sent, awaiting response... 200 OK\n",
            "Length: 4341342 (4.1M) [text/tab-separated-values]\n",
            "Saving to: ‘blueprint_files.tsv’\n",
            "\n",
            "blueprint_files.tsv 100%[===================>]   4.14M  1.15MB/s    in 3.6s    \n",
            "\n",
            "2022-08-05 11:01:45 (1.15 MB/s) - ‘blueprint_files.tsv’ saved [4341342/4341342]\n",
            "\n"
          ]
        }
      ],
      "source": [
        "# Download the TSV file from http://dcc.blueprint-epigenome.eu/#/files, and upload it here\n",
        "! wget 'http://dcc.blueprint-epigenome.eu/data/blueprint_files.tsv'\n",
        "data_tsv = pd.read_csv('blueprint_files.tsv', sep='\\t')\n",
        "\n",
        "noDisease_bw_data = data_tsv[(data_tsv['Disease'] == 'None') & \n",
        "                             (data_tsv['Format'] == 'bigWig') & \n",
        "                             (data_tsv['Experiment'] == 'Bisulfite-Seq')]"
      ]
    },
    {
      "cell_type": "markdown",
      "source": [
        "## Gene Locations"
      ],
      "metadata": {
        "id": "26E5hDqI-4Om"
      }
    },
    {
      "cell_type": "markdown",
      "source": [
        "Download the genomic database and convert it into a bed file."
      ],
      "metadata": {
        "id": "BIdyzzqN_wvW"
      }
    },
    {
      "cell_type": "code",
      "source": [
        "! wget https://ftp.ebi.ac.uk/pub/databases/gencode/Gencode_human/release_40/gencode.v40.annotation.gtf.gz\n",
        "! gunzip gencode.v40.annotation.gtf.gz\n",
        "! bedparse gtf2bed <gencode.v40.annotation.gtf> output.bed --extraFields gene_id,gene_name\n",
        "output_bed = pybedtools.BedTool(\"output.bed\")"
      ],
      "metadata": {
        "id": "PvjuuYfRrkxg",
        "colab": {
          "base_uri": "https://localhost:8080/"
        },
        "outputId": "1b93cb10-fae6-42a3-fd70-f6acc6ec3112"
      },
      "execution_count": 4,
      "outputs": [
        {
          "output_type": "stream",
          "name": "stdout",
          "text": [
            "--2022-08-05 11:01:46--  https://ftp.ebi.ac.uk/pub/databases/gencode/Gencode_human/release_40/gencode.v40.annotation.gtf.gz\n",
            "Resolving ftp.ebi.ac.uk (ftp.ebi.ac.uk)... 193.62.193.138\n",
            "Connecting to ftp.ebi.ac.uk (ftp.ebi.ac.uk)|193.62.193.138|:443... connected.\n",
            "HTTP request sent, awaiting response... 200 OK\n",
            "Length: 48043727 (46M) [application/octet-stream]\n",
            "Saving to: ‘gencode.v40.annotation.gtf.gz’\n",
            "\n",
            "gencode.v40.annotat 100%[===================>]  45.82M  8.51MB/s    in 14s     \n",
            "\n",
            "2022-08-05 11:02:00 (3.39 MB/s) - ‘gencode.v40.annotation.gtf.gz’ saved [48043727/48043727]\n",
            "\n"
          ]
        }
      ]
    },
    {
      "cell_type": "markdown",
      "source": [
        "Convert the bed file into a pandas dataframe, and remove any unneccessary colummns! The only ones we keep are those relating to the chromosome number, the start and end base pair, the strandedness, the gene_id, and gene_name."
      ],
      "metadata": {
        "id": "-DkMRYDM_xyv"
      }
    },
    {
      "cell_type": "code",
      "source": [
        "gene_loc = pd.read_csv(\"output.bed\", sep = '\\t', names = [\"chrom\", \"start\", \"end\", \"name\", \"e1\", \"strand\", \"e2\", \"e3\", \"e4\", \"e5\", \"e6\", \"e7\", \"gene_id\", \"gene_name\"])\n",
        "gene_loc = gene_loc[[\"chrom\", \"start\", \"end\", \"strand\", \"gene_id\", \"gene_name\", \"name\"]]"
      ],
      "metadata": {
        "id": "V_SpCztmMarz"
      },
      "execution_count": 5,
      "outputs": []
    },
    {
      "cell_type": "code",
      "source": [
        "gene_locs = {}\n",
        "\n",
        "gene_names = list(set(gene_loc[\"gene_name\"]))\n",
        "for name in tqdm(gene_names):\n",
        "    gene = gene_loc[gene_loc[\"gene_name\"] == name]\n",
        "    chr = gene[\"chrom\"].values[0]\n",
        "    start_loc = min(gene[\"start\"].values) - 1000\n",
        "    end_loc = max(gene[\"end\"].values) + 1000\n",
        "\n",
        "    gene_locs[name] = (chr, start_loc, end_loc)"
      ],
      "metadata": {
        "colab": {
          "base_uri": "https://localhost:8080/",
          "height": 49,
          "referenced_widgets": [
            "421650c12d414d419ba5efcc5dc966fa",
            "bd794eb9533749c196226f3acc3417fc",
            "4779b679a0a04d939b36d8e4d2cb808c",
            "98cb54b1d8cd483f9ad4d0badda54e6c",
            "858d99bafed04703a3e6d7dab0c11136",
            "ae8394652cb843cd9fdf9c226b03a61f",
            "a14a0cc2c08f477394b2247f90c7e543",
            "42c9765e2bcc4d36808e7e5075216dca",
            "1e8b0d7515d34e2fb0033c95ccf8acdc",
            "75d6c69cb180492aa5398906d8602464",
            "cdb8950d87af4fe39850d169a8a68b2b"
          ]
        },
        "id": "e2vUPA4aGy_E",
        "outputId": "713022f2-0b09-4114-a645-eef5c169aa9b"
      },
      "execution_count": 6,
      "outputs": [
        {
          "output_type": "display_data",
          "data": {
            "text/plain": [
              "  0%|          | 0/60308 [00:00<?, ?it/s]"
            ],
            "application/vnd.jupyter.widget-view+json": {
              "version_major": 2,
              "version_minor": 0,
              "model_id": "421650c12d414d419ba5efcc5dc966fa"
            }
          },
          "metadata": {}
        }
      ]
    },
    {
      "cell_type": "code",
      "source": [
        "CHROMOSOMES = [\"chr\" + str(i) for i in range(1, 23)] + [\"chrX\"]\n",
        "track = 0\n",
        "\n",
        "columns = [\"Cell Type\"]\n",
        "for name in gene_names:\n",
        "    columns.append(name + \" (+/- 1kb)\")\n",
        "\n",
        "dataset = pd.DataFrame(columns = columns)\n",
        "\n",
        "while track < len(noDisease_bw_data):\n",
        "    print(str(track/len(noDisease_bw_data)) + \"% Progress\")\n",
        "    cell_type = noDisease_bw_data.iloc[track][\"Cell type\"]\n",
        "\n",
        "    call_url = noDisease_bw_data.iloc[track][\"URL\"]\n",
        "    cov_url = noDisease_bw_data.iloc[track + 1][\"URL\"]\n",
        "    ! wget \"$call_url\" -q\n",
        "    ! wget \"$cov_url\" -q\n",
        "\n",
        "    call_file = call_url.split(\"/\")[-1]\n",
        "    cov_file = cov_url.split(\"/\")[-1]\n",
        "\n",
        "    try:\n",
        "        data = [cell_type]\n",
        "        for name in gene_names:\n",
        "            chr, start, end = gene_locs[name]\n",
        "            gene_cpgs = []\n",
        "            with pyBigWig.open(cov_file) as cov_object:\n",
        "                with pyBigWig.open(call_file) as call_object:\n",
        "                    for pos in range(start, end+1):\n",
        "                        if call_object.intervals(chr, pos,pos+1) is not None:\n",
        "                            if cov_object.intervals(chr, pos, pos+1)[0][2] > 10:\n",
        "                                gene_cpgs.append(call_object.intervals(chr, pos, pos+1)[0][2])\n",
        "                    data.append(sum(gene_cpgs)/len(gene_cpgs))\n",
        "    \n",
        "        dataset.loc[len(dataset.index)] = data\n",
        "    except:\n",
        "        print(\"Unable to open file\")\n",
        "\n",
        "    track += 2"
      ],
      "metadata": {
        "colab": {
          "base_uri": "https://localhost:8080/"
        },
        "id": "-SeYkGtx_meE",
        "outputId": "da7ddb01-65db-4c44-e65f-b22ce4207dc1"
      },
      "execution_count": null,
      "outputs": [
        {
          "output_type": "stream",
          "name": "stdout",
          "text": [
            "0.0% Progress\n",
            "Unable to open file\n",
            "0.006578947368421052% Progress\n",
            "Unable to open file\n",
            "0.013157894736842105% Progress\n"
          ]
        }
      ]
    },
    {
      "cell_type": "code",
      "source": [
        "dataset.to_csv(\"dataset.csv\")\n",
        "files.download(\"dataset.csv\")"
      ],
      "metadata": {
        "colab": {
          "base_uri": "https://localhost:8080/",
          "height": 182
        },
        "id": "fHKV0sFlJhNV",
        "outputId": "a4e8b3af-1584-45f3-c283-b4c3110556ed"
      },
      "execution_count": 1,
      "outputs": [
        {
          "output_type": "error",
          "ename": "NameError",
          "evalue": "ignored",
          "traceback": [
            "\u001b[0;31m---------------------------------------------------------------------------\u001b[0m",
            "\u001b[0;31mNameError\u001b[0m                                 Traceback (most recent call last)",
            "\u001b[0;32m<ipython-input-1-f194e1ef3e31>\u001b[0m in \u001b[0;36m<module>\u001b[0;34m()\u001b[0m\n\u001b[0;32m----> 1\u001b[0;31m \u001b[0mdataset\u001b[0m\u001b[0;34m.\u001b[0m\u001b[0mto_csv\u001b[0m\u001b[0;34m(\u001b[0m\u001b[0;34m\"dataset.csv\"\u001b[0m\u001b[0;34m)\u001b[0m\u001b[0;34m\u001b[0m\u001b[0;34m\u001b[0m\u001b[0m\n\u001b[0m\u001b[1;32m      2\u001b[0m \u001b[0mfiles\u001b[0m\u001b[0;34m.\u001b[0m\u001b[0mdownload\u001b[0m\u001b[0;34m(\u001b[0m\u001b[0;34m\"dataset.csv\"\u001b[0m\u001b[0;34m)\u001b[0m\u001b[0;34m\u001b[0m\u001b[0;34m\u001b[0m\u001b[0m\n",
            "\u001b[0;31mNameError\u001b[0m: name 'dataset' is not defined"
          ]
        }
      ]
    },
    {
      "cell_type": "code",
      "source": [
        "!git clone https://github.com/hussius/tabnet_fork.git"
      ],
      "metadata": {
        "id": "FZ1yf7_2tlfK"
      },
      "execution_count": null,
      "outputs": []
    },
    {
      "cell_type": "code",
      "source": [
        "os.chdir('tabnet_fork')"
      ],
      "metadata": {
        "id": "uwNkdsjRvihE"
      },
      "execution_count": null,
      "outputs": []
    },
    {
      "cell_type": "code",
      "source": [
        "!pip install -r requirements.txt"
      ],
      "metadata": {
        "id": "-7XSWtEsvjOX"
      },
      "execution_count": null,
      "outputs": []
    },
    {
      "cell_type": "code",
      "source": [
        "! python opt_tabnet.py \\\n",
        "       --csv-path PATH_TO_CSV \\\n",
        "       --target-name \"cell_type\" \\\n",
        "       --categorical-features methylation"
      ],
      "metadata": {
        "id": "0T6vFjFuvmZP"
      },
      "execution_count": null,
      "outputs": []
    }
  ]
}