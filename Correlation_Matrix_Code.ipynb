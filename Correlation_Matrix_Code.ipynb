{
  "nbformat": 4,
  "nbformat_minor": 0,
  "metadata": {
    "colab": {
      "provenance": [],
      "authorship_tag": "ABX9TyMFJJGphhdIbzJ5w8O8JnYB",
      "include_colab_link": true
    },
    "kernelspec": {
      "name": "python3",
      "display_name": "Python 3"
    },
    "language_info": {
      "name": "python"
    }
  },
  "cells": [
    {
      "cell_type": "markdown",
      "metadata": {
        "id": "view-in-github",
        "colab_type": "text"
      },
      "source": [
        "<a href=\"https://colab.research.google.com/github/semenko/liquid-cell-atlas/blob/main/Correlation_Matrix_Code.ipynb\" target=\"_parent\"><img src=\"https://colab.research.google.com/assets/colab-badge.svg\" alt=\"Open In Colab\"/></a>"
      ]
    },
    {
      "cell_type": "code",
      "source": [
        "!pip install pyBigWig pybedtools gunzip bedparse deeptools pyGenomeTracks\n",
        "!apt install bedtools"
      ],
      "metadata": {
        "id": "l3YOMai2lDCb"
      },
      "execution_count": null,
      "outputs": []
    },
    {
      "cell_type": "code",
      "execution_count": null,
      "metadata": {
        "id": "kcsnOT-okLMY"
      },
      "outputs": [],
      "source": [
        "import pandas as pd\n",
        "import io\n",
        "import itertools\n",
        "import numpy as np\n",
        "from tqdm import tqdm\n",
        "import csv\n",
        "import os as os\n",
        "import urllib\n",
        "import pickle\n",
        "import json\n",
        "import pyBigWig\n",
        "import pybedtools\n",
        "import sys"
      ]
    },
    {
      "cell_type": "code",
      "source": [
        "! wget 'http://dcc.blueprint-epigenome.eu/data/blueprint_files.tsv' -N \n",
        "data_tsv = pd.read_csv('blueprint_files.tsv', sep='\\t')\n",
        "\n",
        "noDisease_bw_data = data_tsv[(data_tsv['Disease'] == 'None') & \n",
        "                             (data_tsv['Format'] == 'bigWig') & \n",
        "                             (data_tsv['Experiment'] == 'Bisulfite-Seq')]"
      ],
      "metadata": {
        "id": "TJKjiCwbkRya"
      },
      "execution_count": null,
      "outputs": []
    },
    {
      "cell_type": "code",
      "source": [
        "! wget https://ftp.ebi.ac.uk/pub/databases/gencode/Gencode_human/release_40/gencode.v40.annotation.gtf.gz\n",
        "! gunzip gencode.v40.annotation.gtf.gz\n",
        "! bedparse gtf2bed <gencode.v40.annotation.gtf> output.bed --extraFields gene_id,gene_name\n",
        "output_bed = pybedtools.BedTool(\"output.bed\")\n",
        "\n",
        "os.remove(\"gencode.v40.annotation.gtf\")"
      ],
      "metadata": {
        "id": "Dsdko7rtkzQv"
      },
      "execution_count": null,
      "outputs": []
    },
    {
      "cell_type": "code",
      "source": [
        "gene_loc = pd.read_csv(\"output.bed\", sep = '\\t', names = [\"chrom\", \"start\", \"end\", \"name\", \"e1\", \"strand\", \"e2\", \"e3\", \"e4\", \"e5\", \"e6\", \"e7\", \"gene_id\", \"gene_name\"])\n",
        "gene_loc = gene_loc[[\"chrom\", \"start\", \"end\", \"strand\", \"gene_id\", \"gene_name\", \"name\"]]\n",
        "gene_loc = gene_loc.drop(gene_loc[gene_loc[\"chrom\"] == \"chrM\"].index)\n",
        "\n",
        "gene_locs = {}\n",
        "\n",
        "gene_names = list(set(gene_loc[\"gene_name\"]))\n",
        "\n",
        "with open(\"promoter.bed\", 'w') as outfile:\n",
        "    bed_writer = csv.writer(outfile, delimiter='\\t')\n",
        "    for i in tqdm(range(len(gene_names))):\n",
        "        name = gene_names[i]\n",
        "        gene = gene_loc[gene_loc[\"gene_name\"] == name]\n",
        "        chr = gene[\"chrom\"].values[0]\n",
        "        start_loc = min(gene[\"start\"].values) - 500\n",
        "        end_loc = max(gene[\"end\"].values) + 500\n",
        "\n",
        "        # A .bed is just a .tsv with ['chrom', 'chromStart', 'chromEnd']\n",
        "        if gene[\"strand\"].values[0] == '+':\n",
        "            bed_writer.writerow([chr, start_loc - 500, start_loc + 500])\n",
        "        else:\n",
        "            bed_writer.writerow([chr, end_loc - 500, end_loc + 500])"
      ],
      "metadata": {
        "id": "dSmVLhz7n0GC"
      },
      "execution_count": null,
      "outputs": []
    },
    {
      "cell_type": "code",
      "source": [
        "cell_types = noDisease_bw_data['Cell type'].unique()\n",
        "\n",
        "for cell_type in cell_types:\n",
        "    track = 0\n",
        "    for url in noDisease_bw_data[noDisease_bw_data['Cell type'] == cell_type][\"URL\"]:\n",
        "        if track == 1:\n",
        "            break\n",
        "        ! wget \"$url\" -q -N\n",
        "        file_name = url.split(\"/\")[-1]\n",
        "        new_file_name = cell_type + str(track) + \".bw\"\n",
        "        os.rename(file_name, new_file_name)\n",
        "        track += 1"
      ],
      "metadata": {
        "id": "NFB9wl4-n3-W"
      },
      "execution_count": null,
      "outputs": []
    },
    {
      "cell_type": "code",
      "source": [
        "for cell_type in cell_types:\n",
        "    urls = noDisease_bw_data[noDisease_bw_data['Cell type'] == cell_type][\"URL\"]\n",
        "    if len(urls) > 2:\n",
        "        url = urls.iloc[2]\n",
        "        ! wget \"$url\" -q -N\n",
        "        file_name = url.split(\"/\")[-1]\n",
        "        new_file_name = cell_type + str(1) + \".bw\"\n",
        "        os.rename(file_name, new_file_name)"
      ],
      "metadata": {
        "id": "qNkeOZshn4gC"
      },
      "execution_count": null,
      "outputs": []
    },
    {
      "cell_type": "code",
      "source": [
        "! multiBigwigSummary BED-file -b *.bw -o double_results.npz --BED promoter.bed"
      ],
      "metadata": {
        "id": "8JNGTAo9n6f8"
      },
      "execution_count": null,
      "outputs": []
    },
    {
      "cell_type": "code",
      "source": [
        "! plotCorrelation -in double_results.npz --corMethod pearson --skipZeros --whatToPlot heatmap -o double_PearsonCorr_bigwigScores.png --removeOutliers"
      ],
      "metadata": {
        "id": "KQBaauSAn8bw"
      },
      "execution_count": null,
      "outputs": []
    }
  ]
}