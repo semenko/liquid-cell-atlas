{
  "nbformat": 4,
  "nbformat_minor": 0,
  "metadata": {
    "colab": {
      "name": "training.ipynb",
      "provenance": [],
      "authorship_tag": "ABX9TyMNHExHInvX/RfXdRjZPB8S",
      "include_colab_link": true
    },
    "kernelspec": {
      "name": "python3",
      "display_name": "Python 3"
    },
    "language_info": {
      "name": "python"
    }
  },
  "cells": [
    {
      "cell_type": "markdown",
      "metadata": {
        "id": "view-in-github",
        "colab_type": "text"
      },
      "source": [
        "<a href=\"https://colab.research.google.com/github/semenko/liquid-cell-atlas/blob/main/model_training.ipynb\" target=\"_parent\"><img src=\"https://colab.research.google.com/assets/colab-badge.svg\" alt=\"Open In Colab\"/></a>"
      ]
    },
    {
      "cell_type": "code",
      "source": [
        "import pandas as pd\n",
        "from google.colab import files\n",
        "import io\n",
        "import itertools\n",
        "import numpy as np\n",
        "from tqdm.notebook import tqdm\n",
        "import csv\n",
        "import os\n",
        "import urllib\n",
        "import pickle"
      ],
      "metadata": {
        "id": "HhmIdnrNfN1A"
      },
      "execution_count": 1,
      "outputs": []
    },
    {
      "cell_type": "code",
      "execution_count": 2,
      "metadata": {
        "colab": {
          "base_uri": "https://localhost:8080/"
        },
        "id": "PwH1DQuPe0g6",
        "outputId": "a8f6f5b9-f43a-42d8-cad6-44ffcdcbe414"
      },
      "outputs": [
        {
          "output_type": "stream",
          "name": "stdout",
          "text": [
            "--2022-08-01 18:38:10--  http://dcc.blueprint-epigenome.eu/data/blueprint_files.tsv\n",
            "Resolving dcc.blueprint-epigenome.eu (dcc.blueprint-epigenome.eu)... 193.62.192.83, 193.62.193.83\n",
            "Connecting to dcc.blueprint-epigenome.eu (dcc.blueprint-epigenome.eu)|193.62.192.83|:80... connected.\n",
            "HTTP request sent, awaiting response... 200 OK\n",
            "Length: 4341342 (4.1M) [text/tab-separated-values]\n",
            "Saving to: ‘blueprint_files.tsv’\n",
            "\n",
            "blueprint_files.tsv 100%[===================>]   4.14M  1.39MB/s    in 3.0s    \n",
            "\n",
            "2022-08-01 18:38:14 (1.39 MB/s) - ‘blueprint_files.tsv’ saved [4341342/4341342]\n",
            "\n"
          ]
        }
      ],
      "source": [
        "# Download the TSV file from http://dcc.blueprint-epigenome.eu/#/files, and upload it here\n",
        "! wget 'http://dcc.blueprint-epigenome.eu/data/blueprint_files.tsv'\n",
        "data_tsv = pd.read_csv('blueprint_files.tsv', sep='\\t')\n",
        "\n",
        "noDisease_bw_data = data_tsv[(data_tsv['Disease'] == 'None') & \n",
        "                             (data_tsv['Format'] == 'bigWig') & \n",
        "                             (data_tsv['Experiment'] == 'Bisulfite-Seq')]"
      ]
    },
    {
      "cell_type": "code",
      "source": [
        "cov_files = []\n",
        "call_files = []\n",
        "\n",
        "cell_types = noDisease_bw_data['Cell type'].unique()\n",
        "for cell_type in cell_types:\n",
        "    cell_data = noDisease_bw_data[noDisease_bw_data['Cell type'] == cell_type]\n",
        "\n",
        "    cell_call = cell_data.iloc[0]\n",
        "    cell_cov = cell_data.iloc[1]\n",
        "\n",
        "    cell_call_url = cell_call['URL']\n",
        "    cell_cov_url = cell_cov['URL']\n",
        "    \n",
        "    cov_files.append(cell_cov_url)\n",
        "    call_files.append(cell_call_url)"
      ],
      "metadata": {
        "id": "AtRzp-Sfi9Vn"
      },
      "execution_count": 4,
      "outputs": []
    },
    {
      "cell_type": "code",
      "source": [
        "for url in cov_files:\n",
        "    ! wget \"$url\"\n",
        "\n",
        "for url in call_files:\n",
        "    ! wget \"$url\""
      ],
      "metadata": {
        "id": "512j9hRRlQkY",
        "outputId": "fe756abc-6c83-42c0-dd21-c25863e3d3c4",
        "colab": {
          "base_uri": "https://localhost:8080/"
        }
      },
      "execution_count": null,
      "outputs": [
        {
          "output_type": "stream",
          "name": "stdout",
          "text": [
            "--2022-08-01 18:39:27--  http://ftp.ebi.ac.uk/pub/databases/blueprint/data/homo_sapiens/GRCh38/bone_marrow/BM030613/band_form_neutrophil/Bisulfite-Seq/CNAG/S00JGXA1.CPG_methylation_calls.bs_cov.GRCh38.20160531.bw\n",
            "Resolving ftp.ebi.ac.uk (ftp.ebi.ac.uk)... 193.62.193.138\n",
            "Connecting to ftp.ebi.ac.uk (ftp.ebi.ac.uk)|193.62.193.138|:80... connected.\n",
            "HTTP request sent, awaiting response... 200 OK\n",
            "Length: 118280227 (113M) [application/octet-stream]\n",
            "Saving to: ‘S00JGXA1.CPG_methylation_calls.bs_cov.GRCh38.20160531.bw’\n",
            "\n",
            "S00JGXA1.CPG_methyl 100%[===================>] 112.80M  16.3MB/s    in 10s     \n",
            "\n",
            "2022-08-01 18:39:37 (11.0 MB/s) - ‘S00JGXA1.CPG_methylation_calls.bs_cov.GRCh38.20160531.bw’ saved [118280227/118280227]\n",
            "\n",
            "--2022-08-01 18:39:37--  http://ftp.ebi.ac.uk/pub/databases/blueprint/data/homo_sapiens/GRCh38/bone_marrow/BM030613/neutrophilic_metamyelocyte/Bisulfite-Seq/CNAG/S00JFZA1.CPG_methylation_calls.bs_cov.GRCh38.20160531.bw\n",
            "Resolving ftp.ebi.ac.uk (ftp.ebi.ac.uk)... 193.62.193.138\n",
            "Connecting to ftp.ebi.ac.uk (ftp.ebi.ac.uk)|193.62.193.138|:80... connected.\n",
            "HTTP request sent, awaiting response... 200 OK\n",
            "Length: 117876550 (112M) [application/octet-stream]\n",
            "Saving to: ‘S00JFZA1.CPG_methylation_calls.bs_cov.GRCh38.20160531.bw’\n",
            "\n",
            "S00JFZA1.CPG_methyl 100%[===================>] 112.42M  13.6MB/s    in 8.3s    \n",
            "\n",
            "2022-08-01 18:39:46 (13.6 MB/s) - ‘S00JFZA1.CPG_methylation_calls.bs_cov.GRCh38.20160531.bw’ saved [117876550/117876550]\n",
            "\n",
            "--2022-08-01 18:39:46--  http://ftp.ebi.ac.uk/pub/databases/blueprint/data/homo_sapiens/GRCh38/bone_marrow/BM030613/neutrophilic_myelocyte/Bisulfite-Seq/CNAG/S00JE0A1.CPG_methylation_calls.bs_cov.GRCh38.20160531.bw\n",
            "Resolving ftp.ebi.ac.uk (ftp.ebi.ac.uk)... 193.62.193.138\n",
            "Connecting to ftp.ebi.ac.uk (ftp.ebi.ac.uk)|193.62.193.138|:80... connected.\n",
            "HTTP request sent, awaiting response... 200 OK\n",
            "Length: 118261272 (113M) [application/octet-stream]\n",
            "Saving to: ‘S00JE0A1.CPG_methylation_calls.bs_cov.GRCh38.20160531.bw’\n",
            "\n",
            "S00JE0A1.CPG_methyl 100%[===================>] 112.78M  24.0MB/s    in 5.1s    \n",
            "\n",
            "2022-08-01 18:39:51 (22.3 MB/s) - ‘S00JE0A1.CPG_methylation_calls.bs_cov.GRCh38.20160531.bw’ saved [118261272/118261272]\n",
            "\n",
            "--2022-08-01 18:39:51--  http://ftp.ebi.ac.uk/pub/databases/blueprint/data/homo_sapiens/GRCh38/bone_marrow/BM030613/segmented_neutrophil_of_bone_marrow/Bisulfite-Seq/CNAG/S00JHVA1.CPG_methylation_calls.bs_cov.GRCh38.20160531.bw\n",
            "Resolving ftp.ebi.ac.uk (ftp.ebi.ac.uk)... 193.62.193.138\n",
            "Connecting to ftp.ebi.ac.uk (ftp.ebi.ac.uk)|193.62.193.138|:80... connected.\n",
            "HTTP request sent, awaiting response... 200 OK\n",
            "Length: 116934773 (112M) [application/octet-stream]\n",
            "Saving to: ‘S00JHVA1.CPG_methylation_calls.bs_cov.GRCh38.20160531.bw’\n",
            "\n",
            "S00JHVA1.CPG_methyl 100%[===================>] 111.52M  28.4MB/s    in 4.7s    \n",
            "\n",
            "2022-08-01 18:39:56 (23.6 MB/s) - ‘S00JHVA1.CPG_methylation_calls.bs_cov.GRCh38.20160531.bw’ saved [116934773/116934773]\n",
            "\n",
            "--2022-08-01 18:39:56--  http://ftp.ebi.ac.uk/pub/databases/blueprint/data/homo_sapiens/GRCh38/bone_marrow/F2012-2912/hematopoietic_multipotent_progenitor_cell/Bisulfite-Seq/CNAG/G199.CPG_methylation_calls.bs_cov.GRCh38.20160531.bw\n",
            "Resolving ftp.ebi.ac.uk (ftp.ebi.ac.uk)... 193.62.193.138\n",
            "Connecting to ftp.ebi.ac.uk (ftp.ebi.ac.uk)|193.62.193.138|:80... connected.\n",
            "HTTP request sent, awaiting response... 200 OK\n",
            "Length: 123830656 (118M) [application/octet-stream]\n",
            "Saving to: ‘G199.CPG_methylation_calls.bs_cov.GRCh38.20160531.bw’\n",
            "\n",
            "G199.CPG_methylatio   0%[                    ]       0  --.-KB/s    in 15m 0s  \n",
            "\n",
            "2022-08-01 18:54:57 (0.00 B/s) - Read error at byte 0/123830656 (Connection timed out). Retrying.\n",
            "\n",
            "--2022-08-01 18:54:58--  (try: 2)  http://ftp.ebi.ac.uk/pub/databases/blueprint/data/homo_sapiens/GRCh38/bone_marrow/F2012-2912/hematopoietic_multipotent_progenitor_cell/Bisulfite-Seq/CNAG/G199.CPG_methylation_calls.bs_cov.GRCh38.20160531.bw\n",
            "Connecting to ftp.ebi.ac.uk (ftp.ebi.ac.uk)|193.62.193.138|:80... connected.\n",
            "HTTP request sent, awaiting response... 200 OK\n",
            "Length: 123830656 (118M) [application/octet-stream]\n",
            "Saving to: ‘G199.CPG_methylation_calls.bs_cov.GRCh38.20160531.bw’\n",
            "\n",
            "G199.CPG_methylatio 100%[===================>] 118.09M  31.2MB/s    in 4.3s    \n",
            "\n",
            "2022-08-01 18:55:02 (27.2 MB/s) - ‘G199.CPG_methylation_calls.bs_cov.GRCh38.20160531.bw’ saved [123830656/123830656]\n",
            "\n",
            "--2022-08-01 18:55:02--  http://ftp.ebi.ac.uk/pub/databases/blueprint/data/homo_sapiens/GRCh38/bone_marrow/F2012-2912/precursor_B_cell/Bisulfite-Seq/CNAG/PreB2C-V152.CPG_methylation_calls.bs_cov.GRCh38.20160531.bw\n",
            "Resolving ftp.ebi.ac.uk (ftp.ebi.ac.uk)... 193.62.193.138\n",
            "Connecting to ftp.ebi.ac.uk (ftp.ebi.ac.uk)|193.62.193.138|:80... connected.\n",
            "HTTP request sent, awaiting response... 200 OK\n",
            "Length: 124605768 (119M) [application/octet-stream]\n",
            "Saving to: ‘PreB2C-V152.CPG_methylation_calls.bs_cov.GRCh38.20160531.bw’\n",
            "\n",
            "PreB2C-V152.CPG_met 100%[===================>] 118.83M  36.3MB/s    in 3.8s    \n",
            "\n",
            "2022-08-01 18:55:06 (31.1 MB/s) - ‘PreB2C-V152.CPG_methylation_calls.bs_cov.GRCh38.20160531.bw’ saved [124605768/124605768]\n",
            "\n",
            "--2022-08-01 18:55:07--  http://ftp.ebi.ac.uk/pub/databases/blueprint/data/homo_sapiens/GRCh38/bone_marrow/F2012-2912/precursor_lymphocyte_of_B_lineage/Bisulfite-Seq/CNAG/G200.CPG_methylation_calls.bs_cov.GRCh38.20160531.bw\n",
            "Resolving ftp.ebi.ac.uk (ftp.ebi.ac.uk)... 193.62.193.138\n",
            "Connecting to ftp.ebi.ac.uk (ftp.ebi.ac.uk)|193.62.193.138|:80... connected.\n",
            "HTTP request sent, awaiting response... 200 OK\n",
            "Length: 122232962 (117M) [application/octet-stream]\n",
            "Saving to: ‘G200.CPG_methylation_calls.bs_cov.GRCh38.20160531.bw’\n",
            "\n",
            "G200.CPG_methylatio 100%[===================>] 116.57M  27.3MB/s    in 4.8s    \n",
            "\n",
            "2022-08-01 18:55:12 (24.2 MB/s) - ‘G200.CPG_methylation_calls.bs_cov.GRCh38.20160531.bw’ saved [122232962/122232962]\n",
            "\n",
            "--2022-08-01 18:55:12--  http://ftp.ebi.ac.uk/pub/databases/blueprint/data/homo_sapiens/GRCh38/bone_marrow/MO7071/plasma_cell/Bisulfite-Seq/CNAG/G202.CPG_methylation_calls.bs_cov.GRCh38.20160531.bw\n",
            "Resolving ftp.ebi.ac.uk (ftp.ebi.ac.uk)... 193.62.193.138\n",
            "Connecting to ftp.ebi.ac.uk (ftp.ebi.ac.uk)|193.62.193.138|:80... connected.\n",
            "HTTP request sent, awaiting response... 200 OK\n",
            "Length: 121094058 (115M) [application/octet-stream]\n",
            "Saving to: ‘G202.CPG_methylation_calls.bs_cov.GRCh38.20160531.bw’\n",
            "\n",
            "G202.CPG_methylatio 100%[===================>] 115.48M  34.6MB/s    in 3.9s    \n",
            "\n",
            "2022-08-01 18:55:16 (29.7 MB/s) - ‘G202.CPG_methylation_calls.bs_cov.GRCh38.20160531.bw’ saved [121094058/121094058]\n",
            "\n",
            "--2022-08-01 18:55:16--  http://ftp.ebi.ac.uk/pub/databases/blueprint/data/homo_sapiens/GRCh38/cord_blood/C00184/mature_neutrophil/Bisulfite-Seq/CNAG/C00184A3bs.CPG_methylation_calls.bs_cov.GRCh38.20160531.bw\n",
            "Resolving ftp.ebi.ac.uk (ftp.ebi.ac.uk)... 193.62.193.138\n",
            "Connecting to ftp.ebi.ac.uk (ftp.ebi.ac.uk)|193.62.193.138|:80... connected.\n",
            "HTTP request sent, awaiting response... 200 OK\n",
            "Length: 122715098 (117M) [application/octet-stream]\n",
            "Saving to: ‘C00184A3bs.CPG_methylation_calls.bs_cov.GRCh38.20160531.bw’\n",
            "\n",
            "C00184A3bs.CPG_meth 100%[===================>] 117.03M  28.5MB/s    in 4.5s    \n",
            "\n",
            "2022-08-01 18:55:21 (25.8 MB/s) - ‘C00184A3bs.CPG_methylation_calls.bs_cov.GRCh38.20160531.bw’ saved [122715098/122715098]\n",
            "\n",
            "--2022-08-01 18:55:21--  http://ftp.ebi.ac.uk/pub/databases/blueprint/data/homo_sapiens/GRCh38/cord_blood/C003K9/CD38-negative_naive_B_cell/Bisulfite-Seq/CNAG/C003K951.CPG_methylation_calls.bs_cov.GRCh38.20160531.bw\n",
            "Resolving ftp.ebi.ac.uk (ftp.ebi.ac.uk)... 193.62.193.138\n",
            "Connecting to ftp.ebi.ac.uk (ftp.ebi.ac.uk)|193.62.193.138|:80... connected.\n",
            "HTTP request sent, awaiting response... 200 OK\n",
            "Length: 118167377 (113M) [application/octet-stream]\n",
            "Saving to: ‘C003K951.CPG_methylation_calls.bs_cov.GRCh38.20160531.bw’\n",
            "\n",
            "C003K951.CPG_methyl 100%[===================>] 112.69M  22.4MB/s    in 5.4s    \n",
            "\n",
            "2022-08-01 18:55:26 (21.0 MB/s) - ‘C003K951.CPG_methylation_calls.bs_cov.GRCh38.20160531.bw’ saved [118167377/118167377]\n",
            "\n",
            "--2022-08-01 18:55:26--  http://ftp.ebi.ac.uk/pub/databases/blueprint/data/homo_sapiens/GRCh38/cord_blood/C005PS/CD14-positive_CD16-negative_classical_monocyte/Bisulfite-Seq/CNAG/C005PS51.CPG_methylation_calls.bs_cov.GRCh38.20160531.bw\n",
            "Resolving ftp.ebi.ac.uk (ftp.ebi.ac.uk)... 193.62.193.138\n",
            "Connecting to ftp.ebi.ac.uk (ftp.ebi.ac.uk)|193.62.193.138|:80... connected.\n",
            "HTTP request sent, awaiting response... 200 OK\n",
            "Length: 123840909 (118M) [application/octet-stream]\n",
            "Saving to: ‘C005PS51.CPG_methylation_calls.bs_cov.GRCh38.20160531.bw’\n",
            "\n",
            "C005PS51.CPG_methyl 100%[===================>] 118.10M  30.0MB/s    in 4.9s    \n",
            "\n",
            "2022-08-01 18:55:32 (23.9 MB/s) - ‘C005PS51.CPG_methylation_calls.bs_cov.GRCh38.20160531.bw’ saved [123840909/123840909]\n",
            "\n",
            "--2022-08-01 18:55:32--  http://ftp.ebi.ac.uk/pub/databases/blueprint/data/homo_sapiens/GRCh38/cord_blood/C0066P/CD8-positive_alpha-beta_T_cell/Bisulfite-Seq/CNAG/C0066P51.CPG_methylation_calls.bs_cov.GRCh38.20160531.bw\n",
            "Resolving ftp.ebi.ac.uk (ftp.ebi.ac.uk)... 193.62.193.138\n",
            "Connecting to ftp.ebi.ac.uk (ftp.ebi.ac.uk)|193.62.193.138|:80... connected.\n",
            "HTTP request sent, awaiting response... 200 OK\n",
            "Length: 115347893 (110M) [application/octet-stream]\n",
            "Saving to: ‘C0066P51.CPG_methylation_calls.bs_cov.GRCh38.20160531.bw’\n",
            "\n",
            "C0066P51.CPG_methyl 100%[===================>] 110.00M  26.9MB/s    in 4.6s    \n",
            "\n",
            "2022-08-01 18:55:37 (24.1 MB/s) - ‘C0066P51.CPG_methylation_calls.bs_cov.GRCh38.20160531.bw’ saved [115347893/115347893]\n",
            "\n",
            "--2022-08-01 18:55:37--  http://ftp.ebi.ac.uk/pub/databases/blueprint/data/homo_sapiens/GRCh38/cord_blood/C0067N/cytotoxic_CD56-dim_natural_killer_cell/Bisulfite-Seq/CNAG/C0067N51.CPG_methylation_calls.bs_cov.GRCh38.20160531.bw\n",
            "Resolving ftp.ebi.ac.uk (ftp.ebi.ac.uk)... 193.62.193.138\n",
            "Connecting to ftp.ebi.ac.uk (ftp.ebi.ac.uk)|193.62.193.138|:80... connected.\n",
            "HTTP request sent, awaiting response... 200 OK\n",
            "Length: 120699279 (115M) [application/octet-stream]\n",
            "Saving to: ‘C0067N51.CPG_methylation_calls.bs_cov.GRCh38.20160531.bw’\n",
            "\n",
            "ation_calls.bs_cov.   0%[                    ]       0  --.-KB/s               "
          ]
        }
      ]
    },
    {
      "cell_type": "code",
      "source": [
        "CELL_TYPE_TO_FILE_ID = {}\n",
        "\n",
        "for i in range(len(cell_types)):\n",
        "    url = cov_files[i]\n",
        "    file_name = url.split(\"/\")[-1]\n",
        "    ID = file_name.split(\".\")[-1]\n",
        "    CELL_TYPE_TO_FILE_ID[cell_types[i]] = ID\n",
        "\n",
        "FILE_ID_TO_CELL_TYPE = {sample:cell_type for cell_type, sample_list in CELL_TYPE_TO_FILE_ID.items() for sample in sample_list}\n",
        "\n",
        "# If the blueprint dict changes, we need to replace our cache files\n",
        "# This is a tiny checksum of the dictionary state, which we incorporate into\n",
        "# our cache filenames below.\n",
        "CELL_TYPE_DICT_SIG = str(hex(abs(hash(json.dumps(CELL_TYPE_TO_FILE_ID, sort_keys=True))))[2:10])\n",
        "print(f\"Dictionary signature for cache files: {CELL_TYPE_DICT_SIG}\\n\")\n",
        "\n",
        "\n",
        "BLUEPRINT_FILEKEYS = list(itertools.chain.from_iterable(CELL_TYPE_TO_FILE_ID.values()))\n",
        "\n",
        "# Validity testing\n",
        "assert all(len(vals) > 1 for vals in CELL_TYPE_TO_FILE_ID.values()), \"We need more than one example per cell type.\"\n",
        "assert len(BLUEPRINT_FILEKEYS) == len(set(BLUEPRINT_FILEKEYS)), \"One filename is duplicated in the cell types\"\n",
        "\n",
        "print(f\"Number of Blueprint cell types: {len(CELL_TYPE_TO_FILE_ID.keys())}\")\n",
        "print(f\"Number of Blueprint raw files: {len(BLUEPRINT_FILEKEYS)}\")"
      ],
      "metadata": {
        "id": "n7GVNqW6wB4p"
      },
      "execution_count": null,
      "outputs": []
    },
    {
      "cell_type": "code",
      "source": [
        "# Get common coverage between the files, remove ENCODE regions, and find DMRs.\n"
      ],
      "metadata": {
        "id": "Rcw2hICklStw"
      },
      "execution_count": null,
      "outputs": []
    },
    {
      "cell_type": "code",
      "source": [
        "# Create the dataset\n",
        "# Nx1 input with methylation array at proposed locations, and 1x1 string output?\n"
      ],
      "metadata": {
        "id": "PvjuuYfRrkxg"
      },
      "execution_count": null,
      "outputs": []
    },
    {
      "cell_type": "code",
      "source": [
        "!git clone https://github.com/hussius/tabnet_fork.git"
      ],
      "metadata": {
        "id": "FZ1yf7_2tlfK"
      },
      "execution_count": null,
      "outputs": []
    },
    {
      "cell_type": "code",
      "source": [
        "os.chdir('tabnet_fork')"
      ],
      "metadata": {
        "id": "uwNkdsjRvihE"
      },
      "execution_count": null,
      "outputs": []
    },
    {
      "cell_type": "code",
      "source": [
        "!pip install -r requirements.txt"
      ],
      "metadata": {
        "id": "-7XSWtEsvjOX"
      },
      "execution_count": null,
      "outputs": []
    },
    {
      "cell_type": "code",
      "source": [
        "! python opt_tabnet.py \\\n",
        "       --csv-path PATH_TO_CSV \\\n",
        "       --target-name \"cell_type\" \\\n",
        "       --categorical-features methylation"
      ],
      "metadata": {
        "id": "0T6vFjFuvmZP"
      },
      "execution_count": null,
      "outputs": []
    }
  ]
}