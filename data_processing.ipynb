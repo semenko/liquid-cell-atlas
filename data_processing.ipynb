{
  "cells": [
    {
      "cell_type": "markdown",
      "metadata": {
        "id": "view-in-github",
        "colab_type": "text"
      },
      "source": [
        "<a href=\"https://colab.research.google.com/github/semenko/liquid-cell-atlas/blob/main/data_processing.ipynb\" target=\"_parent\"><img src=\"https://colab.research.google.com/assets/colab-badge.svg\" alt=\"Open In Colab\"/></a>"
      ]
    },
    {
      "cell_type": "markdown",
      "metadata": {
        "id": "NT3ulHYicog6"
      },
      "source": [
        "# Import Necessary Libraries"
      ]
    },
    {
      "cell_type": "code",
      "execution_count": 1,
      "metadata": {
        "colab": {
          "base_uri": "https://localhost:8080/"
        },
        "id": "LcfesrKDApQG",
        "outputId": "58fbab8e-0b35-4c85-a7cc-b0cf2830c04d"
      },
      "outputs": [
        {
          "output_type": "stream",
          "name": "stdout",
          "text": [
            "Looking in indexes: https://pypi.org/simple, https://us-python.pkg.dev/colab-wheels/public/simple/\n",
            "Collecting pyBigWig\n",
            "  Downloading pyBigWig-0.3.18.tar.gz (64 kB)\n",
            "\u001b[K     |████████████████████████████████| 64 kB 957 kB/s \n",
            "\u001b[?25hCollecting pybedtools\n",
            "  Downloading pybedtools-0.9.0.tar.gz (12.5 MB)\n",
            "\u001b[K     |████████████████████████████████| 12.5 MB 7.2 MB/s \n",
            "\u001b[?25hCollecting gunzip\n",
            "  Downloading gunzip-0.1.10-py2.py3-none-any.whl (3.0 kB)\n",
            "Requirement already satisfied: six in /usr/local/lib/python3.7/dist-packages (from pybedtools) (1.15.0)\n",
            "Collecting pysam\n",
            "  Downloading pysam-0.19.1-cp37-cp37m-manylinux_2_24_x86_64.whl (15.1 MB)\n",
            "\u001b[K     |████████████████████████████████| 15.1 MB 19.6 MB/s \n",
            "\u001b[?25hCollecting microapp>=0.2.3\n",
            "  Downloading microapp-0.3.15-py2.py3-none-any.whl (31 kB)\n",
            "Building wheels for collected packages: pyBigWig, pybedtools\n",
            "  Building wheel for pyBigWig (setup.py) ... \u001b[?25l\u001b[?25hdone\n",
            "  Created wheel for pyBigWig: filename=pyBigWig-0.3.18-cp37-cp37m-linux_x86_64.whl size=196937 sha256=9e14c71d32334535148abf4abd4c50a083f8c17dafce8096f09a0bc19175b4f7\n",
            "  Stored in directory: /root/.cache/pip/wheels/28/eb/46/c761563ba38bd516bcc6accde3d4188cd84eec067f9201cbec\n",
            "  Building wheel for pybedtools (setup.py) ... \u001b[?25l\u001b[?25hdone\n",
            "  Created wheel for pybedtools: filename=pybedtools-0.9.0-cp37-cp37m-linux_x86_64.whl size=13616821 sha256=b14c4edb5799009875504c8f15d8b5efdfd1578f49f00ca19d3d0fba3aa67c1a\n",
            "  Stored in directory: /root/.cache/pip/wheels/7a/44/0d/3a7449885adaf8ebb157da8c3c834a712f48b3b3b84ba51dda\n",
            "Successfully built pyBigWig pybedtools\n",
            "Installing collected packages: pysam, microapp, pyBigWig, pybedtools, gunzip\n",
            "Successfully installed gunzip-0.1.10 microapp-0.3.15 pyBigWig-0.3.18 pybedtools-0.9.0 pysam-0.19.1\n",
            "Reading package lists... Done\n",
            "Building dependency tree       \n",
            "Reading state information... Done\n",
            "The following package was automatically installed and is no longer required:\n",
            "  libnvidia-common-460\n",
            "Use 'apt autoremove' to remove it.\n",
            "The following NEW packages will be installed:\n",
            "  bedtools\n",
            "0 upgraded, 1 newly installed, 0 to remove and 49 not upgraded.\n",
            "Need to get 577 kB of archives.\n",
            "After this operation, 2,040 kB of additional disk space will be used.\n",
            "Get:1 http://archive.ubuntu.com/ubuntu bionic/universe amd64 bedtools amd64 2.26.0+dfsg-5 [577 kB]\n",
            "Fetched 577 kB in 2s (334 kB/s)\n",
            "Selecting previously unselected package bedtools.\n",
            "(Reading database ... 155639 files and directories currently installed.)\n",
            "Preparing to unpack .../bedtools_2.26.0+dfsg-5_amd64.deb ...\n",
            "Unpacking bedtools (2.26.0+dfsg-5) ...\n",
            "Setting up bedtools (2.26.0+dfsg-5) ...\n"
          ]
        }
      ],
      "source": [
        "!pip install pyBigWig pybedtools gunzip\n",
        "!apt install bedtools"
      ]
    },
    {
      "cell_type": "code",
      "execution_count": 2,
      "metadata": {
        "id": "9_mdlbHEVKH6",
        "colab": {
          "base_uri": "https://localhost:8080/"
        },
        "outputId": "4b2186db-b571-4b78-9ef9-36ae622a3bb3"
      },
      "outputs": [
        {
          "output_type": "stream",
          "name": "stdout",
          "text": [
            "Mounted at /content/drive\n"
          ]
        }
      ],
      "source": [
        "import pandas as pd\n",
        "from google.colab import files\n",
        "import io\n",
        "import json\n",
        "import itertools\n",
        "import numpy as np\n",
        "import altair as alt\n",
        "from tqdm.notebook import tqdm\n",
        "import csv\n",
        "import os\n",
        "import urllib\n",
        "import pandas as pd\n",
        "import altair as alt\n",
        "from altair import data_transformers\n",
        "import pickle\n",
        "from google.colab import drive\n",
        "\n",
        "import pyBigWig\n",
        "import pybedtools\n",
        "\n",
        "drive.mount(\"/content/drive\")"
      ]
    },
    {
      "cell_type": "markdown",
      "metadata": {
        "id": "9NPsWXlCcp99"
      },
      "source": [
        "# Get TSV of all data from Blueprint, Filter and Download it"
      ]
    },
    {
      "cell_type": "code",
      "execution_count": null,
      "metadata": {
        "id": "rUVY8WOqba1c"
      },
      "outputs": [],
      "source": [
        "# Download the TSV file from http://dcc.blueprint-epigenome.eu/#/files, and upload it here\n",
        "# file = files.upload()\n",
        "! wget 'http://dcc.blueprint-epigenome.eu/data/blueprint_files.tsv'\n",
        "data_tsv = pd.read_csv('blueprint_files.tsv', sep='\\t')"
      ]
    },
    {
      "cell_type": "markdown",
      "metadata": {
        "id": "Ymwfdg0jw5VA"
      },
      "source": [
        "Filtering the tsv file to get rid of individuals with diseases, and only keeping the bigWig file format. We also only keep bisulfite sequencing data."
      ]
    },
    {
      "cell_type": "code",
      "execution_count": null,
      "metadata": {
        "id": "VOQY2CHkbzDn"
      },
      "outputs": [],
      "source": [
        "noDisease_bw_data = data_tsv[(data_tsv['Disease'] == 'None') & \n",
        "                             (data_tsv['Format'] == 'bigWig') & \n",
        "                             (data_tsv['Experiment'] == 'Bisulfite-Seq')]"
      ]
    },
    {
      "cell_type": "markdown",
      "metadata": {
        "id": "TcZMPRBRxBF9"
      },
      "source": [
        "Types of cells present in the dataset. For now, I'll choose a macrophage sample, and a plasma cell"
      ]
    },
    {
      "cell_type": "code",
      "execution_count": null,
      "metadata": {
        "colab": {
          "base_uri": "https://localhost:8080/"
        },
        "id": "76vT2Ulwm-v3",
        "outputId": "74cc2d83-eff7-4504-8aec-e8a9ae7314b2"
      },
      "outputs": [
        {
          "output_type": "execute_result",
          "data": {
            "text/plain": [
              "array(['band form neutrophil', 'neutrophilic metamyelocyte',\n",
              "       'neutrophilic myelocyte', 'segmented neutrophil of bone marrow',\n",
              "       'hematopoietic multipotent progenitor cell', 'precursor B cell',\n",
              "       'precursor lymphocyte of B lineage', 'plasma cell',\n",
              "       'mature neutrophil', 'CD38-negative naive B cell',\n",
              "       'CD14-positive, CD16-negative classical monocyte',\n",
              "       'CD8-positive, alpha-beta T cell',\n",
              "       'cytotoxic CD56-dim natural killer cell',\n",
              "       'inflammatory macrophage', 'erythroblast',\n",
              "       'CD34-negative, CD41-positive, CD42-positive megakaryocyte cell',\n",
              "       'macrophage', 'endothelial cell of umbilical vein (proliferating)',\n",
              "       'endothelial cell of umbilical vein (resting)',\n",
              "       'alternatively activated macrophage',\n",
              "       'conventional dendritic cell',\n",
              "       'CD3-negative, CD4-positive, CD8-positive, double positive thymocyte',\n",
              "       'CD3-positive, CD4-positive, CD8-positive, double positive thymocyte',\n",
              "       'CD4-positive, alpha-beta thymocyte',\n",
              "       'CD8-positive, alpha-beta thymocyte', 'thymocyte',\n",
              "       'germinal center B cell', 'CD4-positive, alpha-beta T cell',\n",
              "       'immature conventional dendritic cell',\n",
              "       'mature conventional dendritic cell', 'osteoclast',\n",
              "       'effector memory CD8-positive, alpha-beta T cell',\n",
              "       'class switched memory B cell', 'memory B cell',\n",
              "       'central memory CD8-positive, alpha-beta T cell', 'monocyte',\n",
              "       'naive B cell', 'effector memory CD4-positive, alpha-beta T cell',\n",
              "       'regulatory T cell',\n",
              "       'effector memory CD8-positive, alpha-beta T cell, terminally differentiated',\n",
              "       'mature eosinophil',\n",
              "       'central memory CD4-positive, alpha-beta T cell',\n",
              "       'adult endothelial progenitor cell',\n",
              "       'mesenchymal stem cell of the bone marrow'], dtype=object)"
            ]
          },
          "metadata": {},
          "execution_count": 6
        }
      ],
      "source": [
        "cell_types = noDisease_bw_data['Cell type'].unique()\n",
        "cell_types"
      ]
    },
    {
      "cell_type": "markdown",
      "metadata": {
        "id": "ot6wpC656LXS"
      },
      "source": [
        "Get example of macrophage and plasma data, and extract its url."
      ]
    },
    {
      "cell_type": "code",
      "execution_count": null,
      "metadata": {
        "id": "S_oc8tqHzkXK"
      },
      "outputs": [],
      "source": [
        "cell_type_1 = 'macrophage'\n",
        "cell_type_2 = 'plasma cell'\n",
        "\n",
        "assert cell_type_1 in cell_types, \"{} not a valid cell type\".format(cell_type_1)\n",
        "assert cell_type_2 in cell_types, \"{} not a valid cell type\".format(cell_type_2)\n",
        "\n",
        "cell1_data = noDisease_bw_data[noDisease_bw_data['Cell type'] == cell_type_1]\n",
        "cell2_data = noDisease_bw_data[noDisease_bw_data['Cell type'] == cell_type_2]\n",
        "\n",
        "cell1_call = cell1_data.iloc[0]\n",
        "cell1_cov = cell1_data.iloc[1]\n",
        "cell2_call = cell2_data.iloc[0]\n",
        "cell2_cov = cell2_data.iloc[1]\n",
        "\n",
        "cell1_call_url = cell1_call['URL']\n",
        "cell1_cov_url = cell1_cov['URL']\n",
        "cell2_call_url = cell2_call['URL']\n",
        "cell2_cov_url = cell2_cov['URL']\n",
        "\n",
        "cell1_call_filename = cell1_call_url.split(\"/\")[-1]\n",
        "cell1_cov_filename = cell1_cov_url.split(\"/\")[-1]\n",
        "cell2_call_filename = cell2_call_url.split(\"/\")[-1]\n",
        "cell2_cov_filename = cell2_cov_url.split(\"/\")[-1]"
      ]
    },
    {
      "cell_type": "markdown",
      "metadata": {
        "id": "pgrJ3vQrMP2b"
      },
      "source": [
        "Downloading the data at the four URLs! This will take around 10 minutes."
      ]
    },
    {
      "cell_type": "code",
      "execution_count": null,
      "metadata": {
        "colab": {
          "base_uri": "https://localhost:8080/"
        },
        "id": "HvfCQqP5o71o",
        "outputId": "14c77040-d26d-454f-d69f-e1eec53fc719"
      },
      "outputs": [
        {
          "output_type": "stream",
          "name": "stdout",
          "text": [
            "--2022-07-02 08:15:27--  http://ftp.ebi.ac.uk/pub/databases/blueprint/data/homo_sapiens/GRCh38/cord_blood/S00BHQ/macrophage/Bisulfite-Seq/CNAG/S00BHQ51.CPG_methylation_calls.bs_call.GRCh38.20160531.bw\n",
            "Resolving ftp.ebi.ac.uk (ftp.ebi.ac.uk)... 193.62.193.138\n",
            "Connecting to ftp.ebi.ac.uk (ftp.ebi.ac.uk)|193.62.193.138|:80... connected.\n",
            "HTTP request sent, awaiting response... 200 OK\n",
            "Length: 125016699 (119M) [application/octet-stream]\n",
            "Saving to: ‘S00BHQ51.CPG_methylation_calls.bs_call.GRCh38.20160531.bw.2’\n",
            "\n",
            "S00BHQ51.CPG_methyl 100%[===================>] 119.22M   809KB/s    in 2m 37s  \n",
            "\n",
            "2022-07-02 08:18:04 (779 KB/s) - ‘S00BHQ51.CPG_methylation_calls.bs_call.GRCh38.20160531.bw.2’ saved [125016699/125016699]\n",
            "\n",
            "--2022-07-02 08:18:04--  http://ftp.ebi.ac.uk/pub/databases/blueprint/data/homo_sapiens/GRCh38/cord_blood/S00BHQ/macrophage/Bisulfite-Seq/CNAG/S00BHQ51.CPG_methylation_calls.bs_cov.GRCh38.20160531.bw\n",
            "Resolving ftp.ebi.ac.uk (ftp.ebi.ac.uk)... 193.62.193.138\n",
            "Connecting to ftp.ebi.ac.uk (ftp.ebi.ac.uk)|193.62.193.138|:80... connected.\n",
            "HTTP request sent, awaiting response... 200 OK\n",
            "Length: 112923116 (108M) [application/octet-stream]\n",
            "Saving to: ‘S00BHQ51.CPG_methylation_calls.bs_cov.GRCh38.20160531.bw.2’\n",
            "\n",
            "S00BHQ51.CPG_methyl 100%[===================>] 107.69M   988KB/s    in 1m 55s  \n",
            "\n",
            "2022-07-02 08:20:00 (956 KB/s) - ‘S00BHQ51.CPG_methylation_calls.bs_cov.GRCh38.20160531.bw.2’ saved [112923116/112923116]\n",
            "\n",
            "--2022-07-02 08:20:00--  http://ftp.ebi.ac.uk/pub/databases/blueprint/data/homo_sapiens/GRCh38/bone_marrow/MO7071/plasma_cell/Bisulfite-Seq/CNAG/G202.CPG_methylation_calls.bs_call.GRCh38.20160531.bw\n",
            "Resolving ftp.ebi.ac.uk (ftp.ebi.ac.uk)... 193.62.193.138\n",
            "Connecting to ftp.ebi.ac.uk (ftp.ebi.ac.uk)|193.62.193.138|:80... connected.\n",
            "HTTP request sent, awaiting response... 200 OK\n",
            "Length: 154166573 (147M) [application/octet-stream]\n",
            "Saving to: ‘G202.CPG_methylation_calls.bs_call.GRCh38.20160531.bw.2’\n",
            "\n",
            "G202.CPG_methylatio 100%[===================>] 147.02M  1000KB/s    in 2m 34s  \n",
            "\n",
            "2022-07-02 08:22:34 (978 KB/s) - ‘G202.CPG_methylation_calls.bs_call.GRCh38.20160531.bw.2’ saved [154166573/154166573]\n",
            "\n",
            "--2022-07-02 08:22:34--  http://ftp.ebi.ac.uk/pub/databases/blueprint/data/homo_sapiens/GRCh38/bone_marrow/MO7071/plasma_cell/Bisulfite-Seq/CNAG/G202.CPG_methylation_calls.bs_cov.GRCh38.20160531.bw\n",
            "Resolving ftp.ebi.ac.uk (ftp.ebi.ac.uk)... 193.62.193.138\n",
            "Connecting to ftp.ebi.ac.uk (ftp.ebi.ac.uk)|193.62.193.138|:80... connected.\n",
            "HTTP request sent, awaiting response... 200 OK\n",
            "Length: 121094058 (115M) [application/octet-stream]\n",
            "Saving to: ‘G202.CPG_methylation_calls.bs_cov.GRCh38.20160531.bw.2’\n",
            "\n",
            "G202.CPG_methylatio 100%[===================>] 115.48M   990KB/s    in 2m 0s   \n",
            "\n",
            "2022-07-02 08:24:35 (981 KB/s) - ‘G202.CPG_methylation_calls.bs_cov.GRCh38.20160531.bw.2’ saved [121094058/121094058]\n",
            "\n"
          ]
        }
      ],
      "source": [
        "! wget '$cell1_call_url'\n",
        "! wget '$cell1_cov_url'\n",
        "! wget '$cell2_call_url'\n",
        "! wget '$cell2_cov_url'"
      ]
    },
    {
      "cell_type": "code",
      "execution_count": 6,
      "metadata": {
        "colab": {
          "base_uri": "https://localhost:8080/"
        },
        "id": "sB3SAaUpbO_5",
        "outputId": "16a81f63-c5df-4af1-974c-c57abe5e3659"
      },
      "outputs": [
        {
          "output_type": "stream",
          "name": "stdout",
          "text": [
            "Dictionary signature for cache files: 3b0ee3fc\n",
            "\n",
            "Number of Blueprint cell types: 2\n",
            "Number of Blueprint raw files: 2\n"
          ]
        }
      ],
      "source": [
        "# Annotations & bs_cov / bs_call names\n",
        "CELL_TYPE_TO_FILE_ID = {\n",
        "    \"Macrophage\": [\"S00BHQ51\"],\n",
        "    \"Plasma_cell\": [\"G202\"]\n",
        "}\n",
        "\n",
        "# Reverse mapping of file id -> cell type\n",
        "# e.g.  'S01BHIA1': 'Monocyte'\n",
        "FILE_ID_TO_CELL_TYPE = {sample:cell_type for cell_type, sample_list in CELL_TYPE_TO_FILE_ID.items() for sample in sample_list}\n",
        "\n",
        "# If the blueprint dict changes, we need to replace our cache files\n",
        "# This is a tiny checksum of the dictionary state, which we incorporate into\n",
        "# our cache filenames below.\n",
        "CELL_TYPE_DICT_SIG = str(hex(abs(hash(json.dumps(CELL_TYPE_TO_FILE_ID, sort_keys=True))))[2:10])\n",
        "print(f\"Dictionary signature for cache files: {CELL_TYPE_DICT_SIG}\\n\")\n",
        "\n",
        "\n",
        "BLUEPRINT_FILEKEYS = list(itertools.chain.from_iterable(CELL_TYPE_TO_FILE_ID.values()))\n",
        "\n",
        "# Validity testing\n",
        "# assert all(len(vals) > 1 for vals in CELL_TYPE_TO_FILE_ID.values()), \"We need more than one example per cell type.\"\n",
        "assert len(BLUEPRINT_FILEKEYS) == len(set(BLUEPRINT_FILEKEYS)), \"One filename is duplicated in the cell types\"\n",
        "\n",
        "print(f\"Number of Blueprint cell types: {len(CELL_TYPE_TO_FILE_ID.keys())}\")\n",
        "print(f\"Number of Blueprint raw files: {len(BLUEPRINT_FILEKEYS)}\")"
      ]
    },
    {
      "cell_type": "markdown",
      "metadata": {
        "id": "s0_wxaaTEdZM"
      },
      "source": [
        "# Create shared **cov** map\n",
        "\n",
        "Load coverage (if >minimum below) across all files, then determine the set() shared across **all** samples.\n",
        "\n",
        "IF a locus (e.g. \"chr1:123\") is missing from **one** single sample, it will be **excluded** from our entire analysis.\n",
        "\n",
        "IF a locus has \\<20 reads in **one** single sample, it will be **excluded** from our entire analysis."
      ]
    },
    {
      "cell_type": "code",
      "execution_count": null,
      "metadata": {
        "colab": {
          "base_uri": "https://localhost:8080/",
          "height": 170,
          "referenced_widgets": [
            "6a37496426db49068ab4aa400d3556c7",
            "8d7cd9669308451c910f387c1290f89d",
            "8ebfe95be60148ada751697eec698bba",
            "7e2836e7c37f4a08bf71c0aef6769d48",
            "368d204565574a08a1d38390c10134e4",
            "a40e663fd593493bb8857e9e2e39740d",
            "7a24192b5ade434bb56124172a98040c",
            "89f4232b747b4c3d837ea34c5b80a7d3",
            "3a5c30dcba774e2ba379ccaab3dbc523",
            "9543c8a037954a489b06e8785521f86b",
            "578b217be739419d8d58c4d5bb4d5449"
          ]
        },
        "id": "AFBC6h3kiOmB",
        "outputId": "1a374c3d-a76d-4cca-e005-d41b16f723a2"
      },
      "outputs": [
        {
          "output_type": "stream",
          "name": "stdout",
          "text": [
            "Minimum Blueprint coverage limit: 20\n",
            " (CpGs with fewer than 20 reads in *any* sample will be ignored.)\n",
            "\n",
            "Coverage BED: intersected_bs_cov_min_20_3a29e61a.bed\n",
            "\t.bed does not exist yet -- parsing bs_cov .bw files.\n"
          ]
        },
        {
          "output_type": "display_data",
          "data": {
            "text/plain": [
              "  0%|          | 0/2 [00:00<?, ?it/s]"
            ],
            "application/vnd.jupyter.widget-view+json": {
              "version_major": 2,
              "version_minor": 0,
              "model_id": "6a37496426db49068ab4aa400d3556c7"
            }
          },
          "metadata": {}
        },
        {
          "output_type": "stream",
          "name": "stdout",
          "text": [
            "\n",
            "Wrote data to: intersected_bs_cov_min_20_3a29e61a.bed\n"
          ]
        }
      ],
      "source": [
        "CHROMOSOMES = [\"chr\" + str(i) for i in range(1, 23)] + [\"chrX\"]\n",
        "IGNORE_CACHE = False\n",
        "\n",
        "BLUEPRINT_CPG_COV_MINIMUM = 35\n",
        "\n",
        "RUN_SIGNATURE = f\"{BLUEPRINT_CPG_COV_MINIMUM}_{CELL_TYPE_DICT_SIG}\"\n",
        "\n",
        "assert type(BLUEPRINT_CPG_COV_MINIMUM) is int\n",
        "assert BLUEPRINT_CPG_COV_MINIMUM > 0\n",
        "\n",
        "print(f\"Minimum Blueprint coverage limit: {BLUEPRINT_CPG_COV_MINIMUM}\")\n",
        "print(f\" (CpGs with fewer than {BLUEPRINT_CPG_COV_MINIMUM} reads in *any* sample will be ignored.)\\n\")\n",
        "\n",
        "# Our output / save file\n",
        "INTERSECTED_COVERAGE_BED = f\"intersected_bs_cov_min_{RUN_SIGNATURE}.bed\"\n",
        "CLEAN_INTERSECTED_COVERAGE_BED = f\"intersected_bs_cov_min_{RUN_SIGNATURE}_clean.bed\"\n",
        "\n",
        "print(f\"Coverage BED: {INTERSECTED_COVERAGE_BED}\")\n",
        "\n",
        "if os.path.exists(INTERSECTED_COVERAGE_BED) and not IGNORE_CACHE:\n",
        "    print(\"\\tPost-processed cov .bed already exists. (Skipping raw Blueprint bs_cov parsing.)\")\n",
        "else:\n",
        "    print(\"\\t.bed does not exist yet -- parsing bs_cov .bw files.\")\n",
        "    INTERSECTED_BS_COV_POSITIONS = {}\n",
        "    MAX_CHROMOSOME_SIZE = {}\n",
        "\n",
        "    for file_key in tqdm(BLUEPRINT_FILEKEYS):\n",
        "        with pyBigWig.open(file_key + \".CPG_methylation_calls.bs_cov.GRCh38.20160531.bw\") as bw_object:\n",
        "            bw_header = bw_object.header()\n",
        "            if bw_header['nBasesCovered'] < 1e7 or bw_header['sumData'] < 1e8:\n",
        "                print('\\t\\t*** WARNING: Input .bw has few reads or low coverage. This may cause unexpected results, consider removing this file.')\n",
        "                print(f\"\\t\\tnBasesCovered: {bw_header['nBasesCovered']}, sumData: {bw_header['sumData']}\")\n",
        "            for chrom in CHROMOSOMES:\n",
        "                current_loop_values = set([start for start, _, cov in bw_object.intervals(chrom) if cov >= BLUEPRINT_CPG_COV_MINIMUM])\n",
        "                MAX_CHROMOSOME_SIZE[chrom] = np.max(list(current_loop_values))\n",
        "                existing_values = INTERSECTED_BS_COV_POSITIONS.get(chrom, current_loop_values)\n",
        "                INTERSECTED_BS_COV_POSITIONS[chrom] = existing_values.intersection(current_loop_values)\n",
        "            # print(track)\n",
        "\n",
        "    # Save this hard work as a .bed for later recovery if needed\n",
        "    with open(INTERSECTED_COVERAGE_BED, 'w') as outfile:\n",
        "        # A .bed is just a .tsv with ['chrom', 'chromStart', 'chromEnd']\n",
        "        bed_writer = csv.writer(outfile, delimiter='\\t')\n",
        "        for chr in CHROMOSOMES:\n",
        "            for entry in INTERSECTED_BS_COV_POSITIONS[chr]:\n",
        "                bed_writer.writerow([chr, entry, entry+1])\n",
        "\n",
        "    print(f\"\\nWrote data to: {INTERSECTED_COVERAGE_BED}\") # Unsorted\n",
        "\n",
        "! cat {INTERSECTED_COVERAGE_BED} | tr -d '\\r' > {CLEAN_INTERSECTED_COVERAGE_BED}"
      ]
    },
    {
      "cell_type": "markdown",
      "metadata": {
        "id": "WItxmabtqkIE"
      },
      "source": [
        "# Removing ENCODE Regions (Doesn't Work)"
      ]
    },
    {
      "cell_type": "markdown",
      "metadata": {
        "id": "hI5ItooDEtVF"
      },
      "source": [
        "Encode defines a standard list of \"bad\" regions -- very low complexity / information content, etc. that show up in some studies but are not informative. We remove them and do some other standard data cleaning."
      ]
    },
    {
      "cell_type": "code",
      "execution_count": null,
      "metadata": {
        "colab": {
          "base_uri": "https://localhost:8080/"
        },
        "id": "O2PpXQc-D53g",
        "outputId": "e661b5d2-08b9-4b26-ba5d-91b6947230ce"
      },
      "outputs": [
        {
          "output_type": "stream",
          "name": "stdout",
          "text": [
            "Number of entries in bs_cov (raw): 14,535,030\n",
            "Downloading ENCODE DAC Exclusion List\n",
            "gzip: ENCFF356LFX.bed already exists; do you wish to overwrite (y or n)? y\n",
            "Number of entries in excluded_regions: 910\n",
            "Number of remaining bs_cov entries: 14,487,018\n"
          ]
        }
      ],
      "source": [
        "# Load the .bed from above\n",
        "raw_bs_cov_bed = pybedtools.BedTool(CLEAN_INTERSECTED_COVERAGE_BED)\n",
        "print(f\"Number of entries in bs_cov (raw): {len(raw_bs_cov_bed):,}\")\n",
        "\n",
        "if not os.path.exists(\"ENCFF356LFX.bed.gz\"):\n",
        "    print(\"Downloading ENCODE DAC Exclusion List\")\n",
        "    urllib.request.urlretrieve(\"https://www.encodeproject.org/files/ENCFF356LFX/@@download/ENCFF356LFX.bed.gz\", \"ENCFF356LFX.bed.gz\")\n",
        "\n",
        "! gunzip ENCFF356LFX.bed.gz\n",
        "excluded_regions = pybedtools.BedTool(\"ENCFF356LFX.bed\")\n",
        "print(f\"Number of entries in excluded_regions: {len(excluded_regions):,}\")\n",
        "assert len(excluded_regions) > 900 # 910 as of 1/2022\n",
        "\n",
        "# .saveas forces this to render, otherwise may be a generator\n",
        "# TODO: Fix path to be more specific\n",
        "cleaned_sorted_bs_cov = raw_bs_cov_bed.subtract(excluded_regions).sort().saveas('bs_cov_cleaned_sorted.bed')\n",
        "print(f\"Number of remaining bs_cov entries: {len(cleaned_sorted_bs_cov):,}\")\n",
        "# assert len(cleaned_sorted_bs_cov) > 90000 # We expect about 90k entries\n",
        "\n",
        "\n",
        "# Convert `bs_cov_cleaned_sorted` to a dict too:\n",
        "#  key: chr\n",
        "#  val: [sorted list of bs_cov positions]\n",
        "# NOTE: This works because dicts are insertion ordered as of Python>3.7\n",
        "BS_COV_POSITIONS = {}\n",
        "for bed_entry in cleaned_sorted_bs_cov:\n",
        "    BS_COV_POSITIONS.setdefault(bed_entry.chrom, []).append(bed_entry.start)"
      ]
    },
    {
      "cell_type": "markdown",
      "metadata": {
        "id": "hlav7jFbqshl"
      },
      "source": [
        "# Load bs_call data"
      ]
    },
    {
      "cell_type": "code",
      "execution_count": null,
      "metadata": {
        "colab": {
          "base_uri": "https://localhost:8080/",
          "height": 101,
          "referenced_widgets": [
            "513461e2b1ca4f2f85872487306ba921",
            "4d79edf211a14ecc8a89d32de25b6766",
            "0da1e8c7aa0e4f249845392c15b1895c",
            "65c69b09d37a4d9b8d91498d5eafca6c",
            "f2f214979a3f4287bcc616e5cfbd4bbb",
            "fef29329f2b44221ac9c74337eb11241",
            "159a4eaae0cb4913a47994fe6709c0a2",
            "81bb6b804ddb4456b5abf58af5f6ffa9",
            "adf5a67f20eb4752a19a47c1242936df",
            "153c16b120304e998be900b8dae35fca",
            "9faef0f987a94979828fac5d7c706d74"
          ]
        },
        "id": "gfy9TJrlAfeB",
        "outputId": "0c684e3e-8231-47fd-fc66-182a8c8e9434"
      },
      "outputs": [
        {
          "output_type": "stream",
          "name": "stdout",
          "text": [
            "Parsing bs_call files.\n"
          ]
        },
        {
          "output_type": "display_data",
          "data": {
            "text/plain": [
              "  0%|          | 0/2 [00:00<?, ?it/s]"
            ],
            "application/vnd.jupyter.widget-view+json": {
              "version_major": 2,
              "version_minor": 0,
              "model_id": "513461e2b1ca4f2f85872487306ba921"
            }
          },
          "metadata": {}
        },
        {
          "output_type": "stream",
          "name": "stdout",
          "text": [
            "S00BHQ51\n",
            "G202\n"
          ]
        }
      ],
      "source": [
        "FILE_ID_TO_CPG_CALLS = { }\n",
        "\n",
        "# cache_file = \"bs_call_min_\" + str(BLUEPRINT_CPG_COV_MINIMUM) + \".json\"\n",
        "print(\"Parsing bs_call files.\")\n",
        "for file_key in tqdm(BLUEPRINT_FILEKEYS):\n",
        "    print(f\"{file_key}\")\n",
        "    FILE_ID_TO_CPG_CALLS[file_key] = {}\n",
        "    with pyBigWig.open(file_key + \".CPG_methylation_calls.bs_call.GRCh38.20160531.bw\") as bw_object:\n",
        "        for chrom in CHROMOSOMES:\n",
        "            # This is more nuanced than the bs_cov data, since we only want to look at the \n",
        "            # CpGs that were covered across all samples. (The intervals now in BS_COV_POSITIONS).\n",
        "\n",
        "            # Each .bw interval is a nested tuple of: ((start, end, value))\n",
        "            # We extract all the values that overlap our bs_cov set.\n",
        "            # FILE_ID_TO_CPG_CALLS[file_key][chrom] = [bw_object.intervals(chrom, pos, pos+1)[0][2] for pos in INTERSECTED_BS_COV_POSITIONS[chrom]]\n",
        "            temp = []\n",
        "            for pos in BS_COV_POSITIONS[chrom]:\n",
        "                temp.append(bw_object.intervals(chrom, pos, pos+1)[0][2])\n",
        "                FILE_ID_TO_CPG_CALLS[file_key][chrom] = temp\n",
        "\n",
        "SCALED_BS_COV_POSITIONS = {}\n",
        "for chrom in CHROMOSOMES:\n",
        "    SCALED_BS_COV_POSITIONS[chrom] = np.array(BS_COV_POSITIONS[chrom]) / MAX_CHROMOSOME_SIZE[chrom]"
      ]
    },
    {
      "cell_type": "markdown",
      "source": [
        "# Checkpoint: Download the Relevant Files"
      ],
      "metadata": {
        "id": "Y_t_XEZaIK60"
      }
    },
    {
      "cell_type": "code",
      "source": [
        "pickle.dump(SCALED_BS_COV_POSITIONS, open(\"scaled_bs_cov_positions.p\", \"wb\"))\n",
        "pickle.dump(FILE_ID_TO_CPG_CALLS, open(\"file_id_to_cpg_calls.p\", \"wb\"))\n",
        "files.download(\"scaled_bs_cov_positions.p\")\n",
        "files.download(\"file_id_to_cpg_calls.p\")"
      ],
      "metadata": {
        "id": "JQLy_oLBACp-"
      },
      "execution_count": null,
      "outputs": []
    },
    {
      "cell_type": "markdown",
      "source": [
        "Upload the files into your Google Drive. I put them in the main directory, although you could put them somewhere else. Just change the path below to wherever the file is!"
      ],
      "metadata": {
        "id": "hJTjm2xDjWxX"
      }
    },
    {
      "cell_type": "code",
      "source": [
        "SCALED_BS_COV_POSITIONS = pickle.load(open(\"/content/drive/My Drive/scaled_bs_cov_positions.p\", \"rb\"))\n",
        "FILE_ID_TO_CPG_CALLS = pickle.load(open(\"/content/drive/My Drive/file_id_to_cpg_calls.p\", \"rb\"))"
      ],
      "metadata": {
        "id": "GvpNeYZMK8YD",
        "colab": {
          "base_uri": "https://localhost:8080/",
          "height": 182
        },
        "outputId": "594daeb8-4e9a-450f-8ce7-e131384d2ca8"
      },
      "execution_count": 1,
      "outputs": [
        {
          "output_type": "error",
          "ename": "NameError",
          "evalue": "ignored",
          "traceback": [
            "\u001b[0;31m---------------------------------------------------------------------------\u001b[0m",
            "\u001b[0;31mNameError\u001b[0m                                 Traceback (most recent call last)",
            "\u001b[0;32m<ipython-input-1-f3fcfaa8c464>\u001b[0m in \u001b[0;36m<module>\u001b[0;34m()\u001b[0m\n\u001b[0;32m----> 1\u001b[0;31m \u001b[0mSCALED_BS_COV_POSITIONS\u001b[0m \u001b[0;34m=\u001b[0m \u001b[0mpickle\u001b[0m\u001b[0;34m.\u001b[0m\u001b[0mload\u001b[0m\u001b[0;34m(\u001b[0m\u001b[0mopen\u001b[0m\u001b[0;34m(\u001b[0m\u001b[0;34m\"/content/drive/My Drive/scaled_bs_cov_positions.p\"\u001b[0m\u001b[0;34m,\u001b[0m \u001b[0;34m\"rb\"\u001b[0m\u001b[0;34m)\u001b[0m\u001b[0;34m)\u001b[0m\u001b[0;34m\u001b[0m\u001b[0;34m\u001b[0m\u001b[0m\n\u001b[0m\u001b[1;32m      2\u001b[0m \u001b[0mFILE_ID_TO_CPG_CALLS\u001b[0m \u001b[0;34m=\u001b[0m \u001b[0mpickle\u001b[0m\u001b[0;34m.\u001b[0m\u001b[0mload\u001b[0m\u001b[0;34m(\u001b[0m\u001b[0mopen\u001b[0m\u001b[0;34m(\u001b[0m\u001b[0;34m\"/content/drive/My Drive/file_id_to_cpg_calls.p\"\u001b[0m\u001b[0;34m,\u001b[0m \u001b[0;34m\"rb\"\u001b[0m\u001b[0;34m)\u001b[0m\u001b[0;34m)\u001b[0m\u001b[0;34m\u001b[0m\u001b[0;34m\u001b[0m\u001b[0m\n",
            "\u001b[0;31mNameError\u001b[0m: name 'pickle' is not defined"
          ]
        }
      ]
    },
    {
      "cell_type": "markdown",
      "source": [
        "# Visualize the Methylation Data"
      ],
      "metadata": {
        "id": "dFQWeUSLi1kE"
      }
    },
    {
      "cell_type": "code",
      "source": [
        "line_df = pd.DataFrame(columns = [\"cell type\", \"location_percent\", \"methylation\"])\n",
        "\n",
        "CHROMOSOMES = [\"chr2\"]\n",
        "\n",
        "for file_key in BLUEPRINT_FILEKEYS:\n",
        "    for chrom in CHROMOSOMES:\n",
        "        lengt = len(SCALED_BS_COV_POSITIONS[chrom])\n",
        "        temp = [[(SCALED_BS_COV_POSITIONS[chrom])[i], (FILE_ID_TO_CPG_CALLS[file_key][chrom])[i]] for i in range(lengt)]\n",
        "        temp_df = pd.DataFrame(temp, columns = [\"location_percent\", \"methylation\"])\n",
        "        temp_df_avg = temp_df.groupby(np.arange(len(temp_df))//5000).mean()\n",
        "        temp_df_avg[\"cell type\"] = FILE_ID_TO_CELL_TYPE[file_key]\n",
        "        line_df = pd.concat([line_df, temp_df_avg], axis=0)"
      ],
      "metadata": {
        "id": "wZZmz-VVi5CB"
      },
      "execution_count": 64,
      "outputs": []
    },
    {
      "cell_type": "code",
      "source": [
        "alt.data_transformers.enable('default', max_rows=None)\n",
        "\n",
        "alt.Chart(line_df).mark_line().encode(\n",
        "    x='location_percent',\n",
        "    y='methylation',\n",
        "    color='cell type'\n",
        ").interactive()"
      ],
      "metadata": {
        "colab": {
          "base_uri": "https://localhost:8080/",
          "height": 369
        },
        "id": "EpQVslUq0EKo",
        "outputId": "ec5aab06-bbc5-4793-88e7-379f11eab07c"
      },
      "execution_count": 66,
      "outputs": [
        {
          "output_type": "execute_result",
          "data": {
            "text/html": [
              "\n",
              "<div id=\"altair-viz-7c45bed3bc064fbfbe96bebb33c41097\"></div>\n",
              "<script type=\"text/javascript\">\n",
              "  var VEGA_DEBUG = (typeof VEGA_DEBUG == \"undefined\") ? {} : VEGA_DEBUG;\n",
              "  (function(spec, embedOpt){\n",
              "    let outputDiv = document.currentScript.previousElementSibling;\n",
              "    if (outputDiv.id !== \"altair-viz-7c45bed3bc064fbfbe96bebb33c41097\") {\n",
              "      outputDiv = document.getElementById(\"altair-viz-7c45bed3bc064fbfbe96bebb33c41097\");\n",
              "    }\n",
              "    const paths = {\n",
              "      \"vega\": \"https://cdn.jsdelivr.net/npm//vega@5?noext\",\n",
              "      \"vega-lib\": \"https://cdn.jsdelivr.net/npm//vega-lib?noext\",\n",
              "      \"vega-lite\": \"https://cdn.jsdelivr.net/npm//vega-lite@4.17.0?noext\",\n",
              "      \"vega-embed\": \"https://cdn.jsdelivr.net/npm//vega-embed@6?noext\",\n",
              "    };\n",
              "\n",
              "    function maybeLoadScript(lib, version) {\n",
              "      var key = `${lib.replace(\"-\", \"\")}_version`;\n",
              "      return (VEGA_DEBUG[key] == version) ?\n",
              "        Promise.resolve(paths[lib]) :\n",
              "        new Promise(function(resolve, reject) {\n",
              "          var s = document.createElement('script');\n",
              "          document.getElementsByTagName(\"head\")[0].appendChild(s);\n",
              "          s.async = true;\n",
              "          s.onload = () => {\n",
              "            VEGA_DEBUG[key] = version;\n",
              "            return resolve(paths[lib]);\n",
              "          };\n",
              "          s.onerror = () => reject(`Error loading script: ${paths[lib]}`);\n",
              "          s.src = paths[lib];\n",
              "        });\n",
              "    }\n",
              "\n",
              "    function showError(err) {\n",
              "      outputDiv.innerHTML = `<div class=\"error\" style=\"color:red;\">${err}</div>`;\n",
              "      throw err;\n",
              "    }\n",
              "\n",
              "    function displayChart(vegaEmbed) {\n",
              "      vegaEmbed(outputDiv, spec, embedOpt)\n",
              "        .catch(err => showError(`Javascript Error: ${err.message}<br>This usually means there's a typo in your chart specification. See the javascript console for the full traceback.`));\n",
              "    }\n",
              "\n",
              "    if(typeof define === \"function\" && define.amd) {\n",
              "      requirejs.config({paths});\n",
              "      require([\"vega-embed\"], displayChart, err => showError(`Error loading script: ${err.message}`));\n",
              "    } else {\n",
              "      maybeLoadScript(\"vega\", \"5\")\n",
              "        .then(() => maybeLoadScript(\"vega-lite\", \"4.17.0\"))\n",
              "        .then(() => maybeLoadScript(\"vega-embed\", \"6\"))\n",
              "        .catch(showError)\n",
              "        .then(() => displayChart(vegaEmbed));\n",
              "    }\n",
              "  })({\"config\": {\"view\": {\"continuousWidth\": 400, \"continuousHeight\": 300}}, \"data\": {\"name\": \"data-02829a280c53d54738f46a27ea81cd68\"}, \"mark\": \"line\", \"encoding\": {\"color\": {\"field\": \"cell type\", \"type\": \"nominal\"}, \"x\": {\"field\": \"location_percent\", \"type\": \"quantitative\"}, \"y\": {\"field\": \"methylation\", \"type\": \"quantitative\"}}, \"selection\": {\"selector001\": {\"type\": \"interval\", \"bind\": \"scales\", \"encodings\": [\"x\", \"y\"]}}, \"$schema\": \"https://vega.github.io/schema/vega-lite/v4.17.0.json\", \"datasets\": {\"data-02829a280c53d54738f46a27ea81cd68\": [{\"cell type\": \"Macrophage\", \"location_percent\": 0.001392739471192693, \"methylation\": 0.7646287999354303}, {\"cell type\": \"Macrophage\", \"location_percent\": 0.0033230824844837337, \"methylation\": 0.8210049999667332}, {\"cell type\": \"Macrophage\", \"location_percent\": 0.005740055353978459, \"methylation\": 0.8555107994560153}, {\"cell type\": \"Macrophage\", \"location_percent\": 0.007351452588248299, \"methylation\": 0.8573876000802964}, {\"cell type\": \"Macrophage\", \"location_percent\": 0.009670073104662981, \"methylation\": 0.8682212001850829}, {\"cell type\": \"Macrophage\", \"location_percent\": 0.012017636450962595, \"methylation\": 0.8907738003764302}, {\"cell type\": \"Macrophage\", \"location_percent\": 0.013798574146312213, \"methylation\": 0.9264920007731765}, {\"cell type\": \"Macrophage\", \"location_percent\": 0.015285039919003655, \"methylation\": 0.8075186000000686}, {\"cell type\": \"Macrophage\", \"location_percent\": 0.019378070556653505, \"methylation\": 0.8729401997014881}, {\"cell type\": \"Macrophage\", \"location_percent\": 0.024060377206928753, \"methylation\": 0.7875079993285239}, {\"cell type\": \"Macrophage\", \"location_percent\": 0.028422013716062292, \"methylation\": 0.8361928002377972}, {\"cell type\": \"Macrophage\", \"location_percent\": 0.03258540553832043, \"methylation\": 0.9058186005983502}, {\"cell type\": \"Macrophage\", \"location_percent\": 0.03570102328128847, \"methylation\": 0.8037814002504572}, {\"cell type\": \"Macrophage\", \"location_percent\": 0.03827759678100638, \"methylation\": 0.7976745998172089}, {\"cell type\": \"Macrophage\", \"location_percent\": 0.040482356562165554, \"methylation\": 0.7978744002535939}, {\"cell type\": \"Macrophage\", \"location_percent\": 0.042109949746095277, \"methylation\": 0.7524304002324119}, {\"cell type\": \"Macrophage\", \"location_percent\": 0.04367742615863103, \"methylation\": 0.8148862002680078}, {\"cell type\": \"Macrophage\", \"location_percent\": 0.04571072638515044, \"methylation\": 0.8056258005866781}, {\"cell type\": \"Macrophage\", \"location_percent\": 0.0480425116711336, \"methylation\": 0.8198962003601715}, {\"cell type\": \"Macrophage\", \"location_percent\": 0.051483701927882375, \"methylation\": 0.8696396004267037}, {\"cell type\": \"Macrophage\", \"location_percent\": 0.05904718413724662, \"methylation\": 0.8296619996404275}, {\"cell type\": \"Macrophage\", \"location_percent\": 0.06464381832641747, \"methylation\": 0.8645391998400912}, {\"cell type\": \"Macrophage\", \"location_percent\": 0.06805860043067555, \"methylation\": 0.8696990001002327}, {\"cell type\": \"Macrophage\", \"location_percent\": 0.07421596352272339, \"methylation\": 0.7984923999808728}, {\"cell type\": \"Macrophage\", \"location_percent\": 0.08057693309011703, \"methylation\": 0.7385938000405208}, {\"cell type\": \"Macrophage\", \"location_percent\": 0.08405762494841035, \"methylation\": 0.8138758002845571}, {\"cell type\": \"Macrophage\", \"location_percent\": 0.08733359022443764, \"methylation\": 0.7720891998562962}, {\"cell type\": \"Macrophage\", \"location_percent\": 0.09456654707558411, \"methylation\": 0.8229016000777483}, {\"cell type\": \"Macrophage\", \"location_percent\": 0.0977727205716651, \"methylation\": 0.8399492000345141}, {\"cell type\": \"Macrophage\", \"location_percent\": 0.1004757275877752, \"methylation\": 0.7792557999508455}, {\"cell type\": \"Macrophage\", \"location_percent\": 0.10335157311870402, \"methylation\": 0.8015126002160833}, {\"cell type\": \"Macrophage\", \"location_percent\": 0.1053376325887556, \"methylation\": 0.8152952003056183}, {\"cell type\": \"Macrophage\", \"location_percent\": 0.10803255017482188, \"methylation\": 0.7925986004415899}, {\"cell type\": \"Macrophage\", \"location_percent\": 0.11028199177651665, \"methylation\": 0.7740233999270946}, {\"cell type\": \"Macrophage\", \"location_percent\": 0.11215722750932412, \"methylation\": 0.6801274004349485}, {\"cell type\": \"Macrophage\", \"location_percent\": 0.11424832417787206, \"methylation\": 0.7640450001493096}, {\"cell type\": \"Macrophage\", \"location_percent\": 0.11787181856324684, \"methylation\": 0.7977550000537187}, {\"cell type\": \"Macrophage\", \"location_percent\": 0.12084031666612388, \"methylation\": 0.8642558001531288}, {\"cell type\": \"Macrophage\", \"location_percent\": 0.12504355093497918, \"methylation\": 0.8051624002302066}, {\"cell type\": \"Macrophage\", \"location_percent\": 0.1289665124174625, \"methylation\": 0.849873400045}, {\"cell type\": \"Macrophage\", \"location_percent\": 0.1332187855203062, \"methylation\": 0.852255000462383}, {\"cell type\": \"Macrophage\", \"location_percent\": 0.13715880332165492, \"methylation\": 0.8797001999469474}, {\"cell type\": \"Macrophage\", \"location_percent\": 0.1428123800143291, \"methylation\": 0.8916231994122267}, {\"cell type\": \"Macrophage\", \"location_percent\": 0.15078188161550202, \"methylation\": 0.8635746000198647}, {\"cell type\": \"Macrophage\", \"location_percent\": 0.15498403303524813, \"methylation\": 0.7342052002804353}, {\"cell type\": \"Macrophage\", \"location_percent\": 0.15897889117819294, \"methylation\": 0.8279961999496445}, {\"cell type\": \"Macrophage\", \"location_percent\": 0.16250786205094778, \"methylation\": 0.8154502002183348}, {\"cell type\": \"Macrophage\", \"location_percent\": 0.169719382488861, \"methylation\": 0.8919868002705276}, {\"cell type\": \"Macrophage\", \"location_percent\": 0.17491423121660268, \"methylation\": 0.7938964002402499}, {\"cell type\": \"Macrophage\", \"location_percent\": 0.17762411148954843, \"methylation\": 0.7345216001071035}, {\"cell type\": \"Macrophage\", \"location_percent\": 0.18085618146258486, \"methylation\": 0.8529994005799294}, {\"cell type\": \"Macrophage\", \"location_percent\": 0.1848863818352596, \"methylation\": 0.6426528001254425}, {\"cell type\": \"Macrophage\", \"location_percent\": 0.18839565269987227, \"methylation\": 0.8323660001272336}, {\"cell type\": \"Macrophage\", \"location_percent\": 0.19201371341718018, \"methylation\": 0.8133060001870617}, {\"cell type\": \"Macrophage\", \"location_percent\": 0.19503909816574774, \"methylation\": 0.7915912002887577}, {\"cell type\": \"Macrophage\", \"location_percent\": 0.1981874679525616, \"methylation\": 0.8068583997933194}, {\"cell type\": \"Macrophage\", \"location_percent\": 0.2042044727310146, \"methylation\": 0.8646759993208573}, {\"cell type\": \"Macrophage\", \"location_percent\": 0.2138965591867263, \"methylation\": 0.8895803993694484}, {\"cell type\": \"Macrophage\", \"location_percent\": 0.22195976126179706, \"methylation\": 0.885014400068298}, {\"cell type\": \"Macrophage\", \"location_percent\": 0.22617401313593846, \"methylation\": 0.7868714003309607}, {\"cell type\": \"Macrophage\", \"location_percent\": 0.23056225629062396, \"methylation\": 0.8016946000279859}, {\"cell type\": \"Macrophage\", \"location_percent\": 0.23966849949314933, \"methylation\": 0.8706615998826921}, {\"cell type\": \"Macrophage\", \"location_percent\": 0.24771499743295117, \"methylation\": 0.8695239999186247}, {\"cell type\": \"Macrophage\", \"location_percent\": 0.25167893735117153, \"methylation\": 0.8392312004823238}, {\"cell type\": \"Macrophage\", \"location_percent\": 0.2549105089369837, \"methylation\": 0.8660044000944123}, {\"cell type\": \"Macrophage\", \"location_percent\": 0.25861383378494884, \"methylation\": 0.7703106000132859}, {\"cell type\": \"Macrophage\", \"location_percent\": 0.2644784097248734, \"methylation\": 0.8193110005214811}, {\"cell type\": \"Macrophage\", \"location_percent\": 0.2683292121855422, \"methylation\": 0.7337950004013255}, {\"cell type\": \"Macrophage\", \"location_percent\": 0.27189987196323, \"methylation\": 0.7943112000497058}, {\"cell type\": \"Macrophage\", \"location_percent\": 0.27863201884636113, \"methylation\": 0.821137399729155}, {\"cell type\": \"Macrophage\", \"location_percent\": 0.2845934476792864, \"methylation\": 0.8058898003464565}, {\"cell type\": \"Macrophage\", \"location_percent\": 0.2886370323458143, \"methylation\": 0.7596532002594322}, {\"cell type\": \"Macrophage\", \"location_percent\": 0.2915829741828912, \"methylation\": 0.7003126000333577}, {\"cell type\": \"Macrophage\", \"location_percent\": 0.29465441029944767, \"methylation\": 0.7899382002167403}, {\"cell type\": \"Macrophage\", \"location_percent\": 0.29825606815229583, \"methylation\": 0.7919151998763904}, {\"cell type\": \"Macrophage\", \"location_percent\": 0.30198097856696027, \"methylation\": 0.6061934003945441}, {\"cell type\": \"Macrophage\", \"location_percent\": 0.3052864670551939, \"methylation\": 0.7877006005071103}, {\"cell type\": \"Macrophage\", \"location_percent\": 0.30764291630519897, \"methylation\": 0.5987322000063956}, {\"cell type\": \"Macrophage\", \"location_percent\": 0.3112027986713985, \"methylation\": 0.7979771999524906}, {\"cell type\": \"Macrophage\", \"location_percent\": 0.32012515947366743, \"methylation\": 0.8765561996884644}, {\"cell type\": \"Macrophage\", \"location_percent\": 0.32919276968969213, \"methylation\": 0.8226005996696651}, {\"cell type\": \"Macrophage\", \"location_percent\": 0.3374829430118054, \"methylation\": 0.885400799497962}, {\"cell type\": \"Macrophage\", \"location_percent\": 0.34707514848465293, \"methylation\": 0.8624985995968804}, {\"cell type\": \"Macrophage\", \"location_percent\": 0.3516996013618194, \"methylation\": 0.756910599674657}, {\"cell type\": \"Macrophage\", \"location_percent\": 0.3538100882526438, \"methylation\": 0.7136260004449636}, {\"cell type\": \"Macrophage\", \"location_percent\": 0.3564847634311297, \"methylation\": 0.783017400145717}, {\"cell type\": \"Macrophage\", \"location_percent\": 0.36383532818083636, \"methylation\": 0.7970559999186546}, {\"cell type\": \"Macrophage\", \"location_percent\": 0.37172176698546594, \"methylation\": 0.7059746002034284}, {\"cell type\": \"Macrophage\", \"location_percent\": 0.39012474441689543, \"methylation\": 0.7460697996981442}, {\"cell type\": \"Macrophage\", \"location_percent\": 0.3955135720904476, \"methylation\": 0.7388188000595197}, {\"cell type\": \"Macrophage\", \"location_percent\": 0.3986448501578599, \"methylation\": 0.772828200322017}, {\"cell type\": \"Macrophage\", \"location_percent\": 0.4010845562702348, \"methylation\": 0.7510005999064073}, {\"cell type\": \"Macrophage\", \"location_percent\": 0.40538054582354627, \"methylation\": 0.8347875999655574}, {\"cell type\": \"Macrophage\", \"location_percent\": 0.40846776270994306, \"methylation\": 0.7629683998430148}, {\"cell type\": \"Macrophage\", \"location_percent\": 0.4120385209620174, \"methylation\": 0.8690250004021451}, {\"cell type\": \"Macrophage\", \"location_percent\": 0.41536736115165385, \"methylation\": 0.8096468001764268}, {\"cell type\": \"Macrophage\", \"location_percent\": 0.41790971159042767, \"methylation\": 0.7893028001859784}, {\"cell type\": \"Macrophage\", \"location_percent\": 0.4209653334054442, \"methylation\": 0.8362548004468903}, {\"cell type\": \"Macrophage\", \"location_percent\": 0.42634655338016136, \"methylation\": 0.8561371995689347}, {\"cell type\": \"Macrophage\", \"location_percent\": 0.4326034372998116, \"methylation\": 0.7247955997953192}, {\"cell type\": \"Macrophage\", \"location_percent\": 0.4357809591807754, \"methylation\": 0.8332364001208916}, {\"cell type\": \"Macrophage\", \"location_percent\": 0.4389559326178828, \"methylation\": 0.8590600001366809}, {\"cell type\": \"Macrophage\", \"location_percent\": 0.44462729888058555, \"methylation\": 0.8415841995885596}, {\"cell type\": \"Macrophage\", \"location_percent\": 0.44972466418988444, \"methylation\": 0.8137369999352843}, {\"cell type\": \"Macrophage\", \"location_percent\": 0.45192274518220993, \"methylation\": 0.8629287999739871}, {\"cell type\": \"Macrophage\", \"location_percent\": 0.4578459465752339, \"methylation\": 0.7570238000679761}, {\"cell type\": \"Macrophage\", \"location_percent\": 0.46339892894776624, \"methylation\": 0.7527218000194058}, {\"cell type\": \"Macrophage\", \"location_percent\": 0.46695260487086754, \"methylation\": 0.7477920002680272}, {\"cell type\": \"Macrophage\", \"location_percent\": 0.4722705560894705, \"methylation\": 0.8326246001241728}, {\"cell type\": \"Macrophage\", \"location_percent\": 0.4801106014662736, \"methylation\": 0.8684965999266133}, {\"cell type\": \"Macrophage\", \"location_percent\": 0.48773568594905803, \"methylation\": 0.7910117998521775}, {\"cell type\": \"Macrophage\", \"location_percent\": 0.4917253738489484, \"methylation\": 0.634319600221701}, {\"cell type\": \"Macrophage\", \"location_percent\": 0.4949433557613117, \"methylation\": 0.8102630000976846}, {\"cell type\": \"Macrophage\", \"location_percent\": 0.49750009363960823, \"methylation\": 0.7350884001810104}, {\"cell type\": \"Macrophage\", \"location_percent\": 0.4992517937731269, \"methylation\": 0.8317620001729578}, {\"cell type\": \"Macrophage\", \"location_percent\": 0.5014387739255096, \"methylation\": 0.847316800257191}, {\"cell type\": \"Macrophage\", \"location_percent\": 0.5052595778883083, \"methylation\": 0.8894485995516181}, {\"cell type\": \"Macrophage\", \"location_percent\": 0.5136290969878357, \"methylation\": 0.8709827993504703}, {\"cell type\": \"Macrophage\", \"location_percent\": 0.5214879211949563, \"methylation\": 0.8548469998564571}, {\"cell type\": \"Macrophage\", \"location_percent\": 0.5251367810847554, \"methylation\": 0.7735432000691072}, {\"cell type\": \"Macrophage\", \"location_percent\": 0.5273608512740913, \"methylation\": 0.8180202002502978}, {\"cell type\": \"Macrophage\", \"location_percent\": 0.5296337572565494, \"methylation\": 0.8177028000986204}, {\"cell type\": \"Macrophage\", \"location_percent\": 0.5322525156485842, \"methylation\": 0.8753521998934448}, {\"cell type\": \"Macrophage\", \"location_percent\": 0.5365129396961691, \"methylation\": 0.7841863995512948}, {\"cell type\": \"Macrophage\", \"location_percent\": 0.5403557325483263, \"methylation\": 0.6945521998355165}, {\"cell type\": \"Macrophage\", \"location_percent\": 0.5442390783443544, \"methylation\": 0.7698879998654127}, {\"cell type\": \"Macrophage\", \"location_percent\": 0.5505300743855963, \"methylation\": 0.8287882001506165}, {\"cell type\": \"Macrophage\", \"location_percent\": 0.5554385969583394, \"methylation\": 0.832815400361456}, {\"cell type\": \"Macrophage\", \"location_percent\": 0.5599147134961576, \"methylation\": 0.8730093999942765}, {\"cell type\": \"Macrophage\", \"location_percent\": 0.5650384264111139, \"methylation\": 0.8403495998134837}, {\"cell type\": \"Macrophage\", \"location_percent\": 0.573796676459725, \"methylation\": 0.8713987998416647}, {\"cell type\": \"Macrophage\", \"location_percent\": 0.5838017691489559, \"methylation\": 0.8830383999250829}, {\"cell type\": \"Macrophage\", \"location_percent\": 0.59289340977114, \"methylation\": 0.8997262001750991}, {\"cell type\": \"Macrophage\", \"location_percent\": 0.6007396423824084, \"methylation\": 0.88905900015831}, {\"cell type\": \"Macrophage\", \"location_percent\": 0.610442205989606, \"methylation\": 0.8746026001846418}, {\"cell type\": \"Macrophage\", \"location_percent\": 0.616705088928848, \"methylation\": 0.8099279997007921}, {\"cell type\": \"Macrophage\", \"location_percent\": 0.6236606852800385, \"methylation\": 0.8572124004282057}, {\"cell type\": \"Macrophage\", \"location_percent\": 0.6287805849543229, \"methylation\": 0.8351870002424344}, {\"cell type\": \"Macrophage\", \"location_percent\": 0.6363382080739491, \"methylation\": 0.817532799522765}, {\"cell type\": \"Macrophage\", \"location_percent\": 0.6465777496576935, \"methylation\": 0.7995249999402091}, {\"cell type\": \"Macrophage\", \"location_percent\": 0.6537112527355528, \"methylation\": 0.8700098002841696}, {\"cell type\": \"Macrophage\", \"location_percent\": 0.6586615157891516, \"methylation\": 0.827166199841164}, {\"cell type\": \"Macrophage\", \"location_percent\": 0.6647764300394727, \"methylation\": 0.7688858000343666}, {\"cell type\": \"Macrophage\", \"location_percent\": 0.6731026750478243, \"methylation\": 0.8419210000820458}, {\"cell type\": \"Macrophage\", \"location_percent\": 0.6817931364977805, \"methylation\": 0.8416171999905259}, {\"cell type\": \"Macrophage\", \"location_percent\": 0.6905669260207868, \"methylation\": 0.8767601998168975}, {\"cell type\": \"Macrophage\", \"location_percent\": 0.6971220070124475, \"methylation\": 0.8247432002039626}, {\"cell type\": \"Macrophage\", \"location_percent\": 0.7022481526817764, \"methylation\": 0.8244288004903123}, {\"cell type\": \"Macrophage\", \"location_percent\": 0.7063984396974429, \"methylation\": 0.6851602001886815}, {\"cell type\": \"Macrophage\", \"location_percent\": 0.7105407341454465, \"methylation\": 0.7009564002741128}, {\"cell type\": \"Macrophage\", \"location_percent\": 0.7146683537916216, \"methylation\": 0.8431712002040819}, {\"cell type\": \"Macrophage\", \"location_percent\": 0.7190082067587854, \"methylation\": 0.7350137997772545}, {\"cell type\": \"Macrophage\", \"location_percent\": 0.7233828954241927, \"methylation\": 0.840265800082311}, {\"cell type\": \"Macrophage\", \"location_percent\": 0.7277864436773958, \"methylation\": 0.3836320000614971}, {\"cell type\": \"Macrophage\", \"location_percent\": 0.7328779886115186, \"methylation\": 0.7977666000967846}, {\"cell type\": \"Macrophage\", \"location_percent\": 0.738191585044738, \"methylation\": 0.8274616003343835}, {\"cell type\": \"Macrophage\", \"location_percent\": 0.7463395893546896, \"methylation\": 0.8004285995883867}, {\"cell type\": \"Macrophage\", \"location_percent\": 0.7547084643398645, \"methylation\": 0.8411865996239707}, {\"cell type\": \"Macrophage\", \"location_percent\": 0.764714808806818, \"methylation\": 0.8677335993921385}, {\"cell type\": \"Macrophage\", \"location_percent\": 0.7745559681538537, \"methylation\": 0.8681599998500198}, {\"cell type\": \"Macrophage\", \"location_percent\": 0.7834363255903425, \"methylation\": 0.8037245995951816}, {\"cell type\": \"Macrophage\", \"location_percent\": 0.7890328301980422, \"methylation\": 0.7907120002886281}, {\"cell type\": \"Macrophage\", \"location_percent\": 0.7963551533229822, \"methylation\": 0.8949236003533005}, {\"cell type\": \"Macrophage\", \"location_percent\": 0.8070695004033173, \"methylation\": 0.8713488000908867}, {\"cell type\": \"Macrophage\", \"location_percent\": 0.8133133998948803, \"methylation\": 0.8243198005057871}, {\"cell type\": \"Macrophage\", \"location_percent\": 0.8185005988365655, \"methylation\": 0.813521800211072}, {\"cell type\": \"Macrophage\", \"location_percent\": 0.8252792937059977, \"methylation\": 0.708860400098376}, {\"cell type\": \"Macrophage\", \"location_percent\": 0.829887233762907, \"methylation\": 0.7825956004168838}, {\"cell type\": \"Macrophage\", \"location_percent\": 0.8339641328270695, \"methylation\": 0.8040829998521134}, {\"cell type\": \"Macrophage\", \"location_percent\": 0.8369464654614388, \"methylation\": 0.8680248002097011}, {\"cell type\": \"Macrophage\", \"location_percent\": 0.8408945810592399, \"methylation\": 0.8744136003103107}, {\"cell type\": \"Macrophage\", \"location_percent\": 0.8465542905886209, \"methylation\": 0.8564720005303621}, {\"cell type\": \"Macrophage\", \"location_percent\": 0.8510775655781264, \"methylation\": 0.8228084003061056}, {\"cell type\": \"Macrophage\", \"location_percent\": 0.8557406703143168, \"methylation\": 0.7948942001005634}, {\"cell type\": \"Macrophage\", \"location_percent\": 0.859385833549771, \"methylation\": 0.8204586002200842}, {\"cell type\": \"Macrophage\", \"location_percent\": 0.8663463802836215, \"methylation\": 0.8310980000168086}, {\"cell type\": \"Macrophage\", \"location_percent\": 0.8753776017528712, \"methylation\": 0.8560097997600212}, {\"cell type\": \"Macrophage\", \"location_percent\": 0.8844737899602793, \"methylation\": 0.8456067995406688}, {\"cell type\": \"Macrophage\", \"location_percent\": 0.8909246764558271, \"methylation\": 0.8725756006170065}, {\"cell type\": \"Macrophage\", \"location_percent\": 0.8949585183790095, \"methylation\": 0.8322080004071817}, {\"cell type\": \"Macrophage\", \"location_percent\": 0.8995222296178763, \"methylation\": 0.8625708003336564}, {\"cell type\": \"Macrophage\", \"location_percent\": 0.9022070054090924, \"methylation\": 0.7581135999631137}, {\"cell type\": \"Macrophage\", \"location_percent\": 0.9044968574474122, \"methylation\": 0.4815892001936212}, {\"cell type\": \"Macrophage\", \"location_percent\": 0.9061951347753376, \"methylation\": 0.6169886002244428}, {\"cell type\": \"Macrophage\", \"location_percent\": 0.9091978783544608, \"methylation\": 0.8626657994143665}, {\"cell type\": \"Macrophage\", \"location_percent\": 0.9156370736716273, \"methylation\": 0.7086717998122797}, {\"cell type\": \"Macrophage\", \"location_percent\": 0.9206915868619606, \"methylation\": 0.8242828004764393}, {\"cell type\": \"Macrophage\", \"location_percent\": 0.9255757406345331, \"methylation\": 0.7936856001369655}, {\"cell type\": \"Macrophage\", \"location_percent\": 0.930537238563207, \"methylation\": 0.8844655994681642}, {\"cell type\": \"Macrophage\", \"location_percent\": 0.9373705999369327, \"methylation\": 0.7920611998999492}, {\"cell type\": \"Macrophage\", \"location_percent\": 0.9421089433995374, \"methylation\": 0.8761548002010211}, {\"cell type\": \"Macrophage\", \"location_percent\": 0.948242716623779, \"methylation\": 0.8400218000357971}, {\"cell type\": \"Macrophage\", \"location_percent\": 0.9522879172533052, \"methylation\": 0.8259482000036165}, {\"cell type\": \"Macrophage\", \"location_percent\": 0.9548796058504128, \"methylation\": 0.7491378002000972}, {\"cell type\": \"Macrophage\", \"location_percent\": 0.9566422619886346, \"methylation\": 0.6848498004093766}, {\"cell type\": \"Macrophage\", \"location_percent\": 0.9591153311726265, \"methylation\": 0.7037987998599187}, {\"cell type\": \"Macrophage\", \"location_percent\": 0.9611057216683203, \"methylation\": 0.7529748006239534}, {\"cell type\": \"Macrophage\", \"location_percent\": 0.9631890147785201, \"methylation\": 0.8516028005188331}, {\"cell type\": \"Macrophage\", \"location_percent\": 0.9658957144528194, \"methylation\": 0.8616135999299586}, {\"cell type\": \"Macrophage\", \"location_percent\": 0.969237030434861, \"methylation\": 0.8239098001282662}, {\"cell type\": \"Macrophage\", \"location_percent\": 0.971724122029109, \"methylation\": 0.8114901997400448}, {\"cell type\": \"Macrophage\", \"location_percent\": 0.9735934878035276, \"methylation\": 0.8324033998183906}, {\"cell type\": \"Macrophage\", \"location_percent\": 0.9752222979113382, \"methylation\": 0.7241715999536217}, {\"cell type\": \"Macrophage\", \"location_percent\": 0.9775578989344547, \"methylation\": 0.8788300004605204}, {\"cell type\": \"Macrophage\", \"location_percent\": 0.980312168860169, \"methylation\": 0.8157066001148895}, {\"cell type\": \"Macrophage\", \"location_percent\": 0.9823291048624667, \"methylation\": 0.7803074003122747}, {\"cell type\": \"Macrophage\", \"location_percent\": 0.9838164514145686, \"methylation\": 0.7085476001467556}, {\"cell type\": \"Macrophage\", \"location_percent\": 0.9856144145628392, \"methylation\": 0.8182629998784512}, {\"cell type\": \"Macrophage\", \"location_percent\": 0.9871684675689134, \"methylation\": 0.9164318004187196}, {\"cell type\": \"Macrophage\", \"location_percent\": 0.9883461541222011, \"methylation\": 0.8139074001509696}, {\"cell type\": \"Macrophage\", \"location_percent\": 0.989890625615225, \"methylation\": 0.8994538003867492}, {\"cell type\": \"Macrophage\", \"location_percent\": 0.991663178174114, \"methylation\": 0.8347728000694886}, {\"cell type\": \"Macrophage\", \"location_percent\": 0.9930846471652217, \"methylation\": 0.7103138005083427}, {\"cell type\": \"Macrophage\", \"location_percent\": 0.9943311574295997, \"methylation\": 0.8113512004910037}, {\"cell type\": \"Macrophage\", \"location_percent\": 0.9955572070677381, \"methylation\": 0.782315400393866}, {\"cell type\": \"Macrophage\", \"location_percent\": 0.997092302751856, \"methylation\": 0.7269316005585715}, {\"cell type\": \"Macrophage\", \"location_percent\": 0.998232604314098, \"methylation\": 0.7736084005801007}, {\"cell type\": \"Macrophage\", \"location_percent\": 0.9991170925978168, \"methylation\": 0.8789052203912522}, {\"cell type\": \"Plasma_cell\", \"location_percent\": 0.001392739471192693, \"methylation\": 0.6412831999683752}, {\"cell type\": \"Plasma_cell\", \"location_percent\": 0.0033230824844837337, \"methylation\": 0.6340629999108612}, {\"cell type\": \"Plasma_cell\", \"location_percent\": 0.005740055353978459, \"methylation\": 0.6597837995473296}, {\"cell type\": \"Plasma_cell\", \"location_percent\": 0.007351452588248299, \"methylation\": 0.6623349998889491}, {\"cell type\": \"Plasma_cell\", \"location_percent\": 0.009670073104662981, \"methylation\": 0.6135714001622051}, {\"cell type\": \"Plasma_cell\", \"location_percent\": 0.012017636450962595, \"methylation\": 0.6557171998724342}, {\"cell type\": \"Plasma_cell\", \"location_percent\": 0.013798574146312213, \"methylation\": 0.8730214007474482}, {\"cell type\": \"Plasma_cell\", \"location_percent\": 0.015285039919003655, \"methylation\": 0.6388846001364291}, {\"cell type\": \"Plasma_cell\", \"location_percent\": 0.019378070556653505, \"methylation\": 0.5848320000519976}, {\"cell type\": \"Plasma_cell\", \"location_percent\": 0.024060377206928753, \"methylation\": 0.5906196001708508}, {\"cell type\": \"Plasma_cell\", \"location_percent\": 0.028422013716062292, \"methylation\": 0.6174376002646983}, {\"cell type\": \"Plasma_cell\", \"location_percent\": 0.03258540553832043, \"methylation\": 0.6676822005109861}, {\"cell type\": \"Plasma_cell\", \"location_percent\": 0.03570102328128847, \"methylation\": 0.7044082001356408}, {\"cell type\": \"Plasma_cell\", \"location_percent\": 0.03827759678100638, \"methylation\": 0.6415163999650627}, {\"cell type\": \"Plasma_cell\", \"location_percent\": 0.040482356562165554, \"methylation\": 0.692182800315693}, {\"cell type\": \"Plasma_cell\", \"location_percent\": 0.042109949746095277, \"methylation\": 0.6531850000146776}, {\"cell type\": \"Plasma_cell\", \"location_percent\": 0.04367742615863103, \"methylation\": 0.6955440003223717}, {\"cell type\": \"Plasma_cell\", \"location_percent\": 0.04571072638515044, \"methylation\": 0.6372120000982657}, {\"cell type\": \"Plasma_cell\", \"location_percent\": 0.0480425116711336, \"methylation\": 0.6895652007304132}, {\"cell type\": \"Plasma_cell\", \"location_percent\": 0.051483701927882375, \"methylation\": 0.7479256004573778}, {\"cell type\": \"Plasma_cell\", \"location_percent\": 0.05904718413724662, \"methylation\": 0.5934254001548513}, {\"cell type\": \"Plasma_cell\", \"location_percent\": 0.06464381832641747, \"methylation\": 0.6873927999790758}, {\"cell type\": \"Plasma_cell\", \"location_percent\": 0.06805860043067555, \"methylation\": 0.6071356002489104}, {\"cell type\": \"Plasma_cell\", \"location_percent\": 0.07421596352272339, \"methylation\": 0.5622447998734191}, {\"cell type\": \"Plasma_cell\", \"location_percent\": 0.08057693309011703, \"methylation\": 0.5366351997697726}, {\"cell type\": \"Plasma_cell\", \"location_percent\": 0.08405762494841035, \"methylation\": 0.6386170000083744}, {\"cell type\": \"Plasma_cell\", \"location_percent\": 0.08733359022443764, \"methylation\": 0.561327200104855}, {\"cell type\": \"Plasma_cell\", \"location_percent\": 0.09456654707558411, \"methylation\": 0.5511648003289477}, {\"cell type\": \"Plasma_cell\", \"location_percent\": 0.0977727205716651, \"methylation\": 0.7376412001423538}, {\"cell type\": \"Plasma_cell\", \"location_percent\": 0.1004757275877752, \"methylation\": 0.7208949998708442}, {\"cell type\": \"Plasma_cell\", \"location_percent\": 0.10335157311870402, \"methylation\": 0.7048106000617147}, {\"cell type\": \"Plasma_cell\", \"location_percent\": 0.1053376325887556, \"methylation\": 0.7440488002154976}, {\"cell type\": \"Plasma_cell\", \"location_percent\": 0.10803255017482188, \"methylation\": 0.7183501998934895}, {\"cell type\": \"Plasma_cell\", \"location_percent\": 0.11028199177651665, \"methylation\": 0.5849489999076352}, {\"cell type\": \"Plasma_cell\", \"location_percent\": 0.11215722750932412, \"methylation\": 0.599106799916178}, {\"cell type\": \"Plasma_cell\", \"location_percent\": 0.11424832417787206, \"methylation\": 0.6986912004414946}, {\"cell type\": \"Plasma_cell\", \"location_percent\": 0.11787181856324684, \"methylation\": 0.6823385998530314}, {\"cell type\": \"Plasma_cell\", \"location_percent\": 0.12084031666612388, \"methylation\": 0.6425503998944536}, {\"cell type\": \"Plasma_cell\", \"location_percent\": 0.12504355093497918, \"methylation\": 0.6481466000042856}, {\"cell type\": \"Plasma_cell\", \"location_percent\": 0.1289665124174625, \"methylation\": 0.6969675999198109}, {\"cell type\": \"Plasma_cell\", \"location_percent\": 0.1332187855203062, \"methylation\": 0.8157732007682323}, {\"cell type\": \"Plasma_cell\", \"location_percent\": 0.13715880332165492, \"methylation\": 0.719873400054127}, {\"cell type\": \"Plasma_cell\", \"location_percent\": 0.1428123800143291, \"methylation\": 0.6091886001832784}, {\"cell type\": \"Plasma_cell\", \"location_percent\": 0.15078188161550202, \"methylation\": 0.6634298004820943}, {\"cell type\": \"Plasma_cell\", \"location_percent\": 0.15498403303524813, \"methylation\": 0.6592936005882919}, {\"cell type\": \"Plasma_cell\", \"location_percent\": 0.15897889117819294, \"methylation\": 0.7048884000163526}, {\"cell type\": \"Plasma_cell\", \"location_percent\": 0.16250786205094778, \"methylation\": 0.6993638000877574}, {\"cell type\": \"Plasma_cell\", \"location_percent\": 0.169719382488861, \"methylation\": 0.5812179997419938}, {\"cell type\": \"Plasma_cell\", \"location_percent\": 0.17491423121660268, \"methylation\": 0.7023564000377431}, {\"cell type\": \"Plasma_cell\", \"location_percent\": 0.17762411148954843, \"methylation\": 0.6477843999868259}, {\"cell type\": \"Plasma_cell\", \"location_percent\": 0.18085618146258486, \"methylation\": 0.7596226000474766}, {\"cell type\": \"Plasma_cell\", \"location_percent\": 0.1848863818352596, \"methylation\": 0.6191449998201802}, {\"cell type\": \"Plasma_cell\", \"location_percent\": 0.18839565269987227, \"methylation\": 0.707720000269264}, {\"cell type\": \"Plasma_cell\", \"location_percent\": 0.19201371341718018, \"methylation\": 0.6603950000774116}, {\"cell type\": \"Plasma_cell\", \"location_percent\": 0.19503909816574774, \"methylation\": 0.719058600351587}, {\"cell type\": \"Plasma_cell\", \"location_percent\": 0.1981874679525616, \"methylation\": 0.7024184002092108}, {\"cell type\": \"Plasma_cell\", \"location_percent\": 0.2042044727310146, \"methylation\": 0.5868691996349021}, {\"cell type\": \"Plasma_cell\", \"location_percent\": 0.2138965591867263, \"methylation\": 0.6153993997931481}, {\"cell type\": \"Plasma_cell\", \"location_percent\": 0.22195976126179706, \"methylation\": 0.753756800278835}, {\"cell type\": \"Plasma_cell\", \"location_percent\": 0.22617401313593846, \"methylation\": 0.7092241997446865}, {\"cell type\": \"Plasma_cell\", \"location_percent\": 0.23056225629062396, \"methylation\": 0.6307894000280648}, {\"cell type\": \"Plasma_cell\", \"location_percent\": 0.23966849949314933, \"methylation\": 0.6424887999827043}, {\"cell type\": \"Plasma_cell\", \"location_percent\": 0.24771499743295117, \"methylation\": 0.6908208003493026}, {\"cell type\": \"Plasma_cell\", \"location_percent\": 0.25167893735117153, \"methylation\": 0.7373765997190028}, {\"cell type\": \"Plasma_cell\", \"location_percent\": 0.2549105089369837, \"methylation\": 0.773289600081183}, {\"cell type\": \"Plasma_cell\", \"location_percent\": 0.25861383378494884, \"methylation\": 0.6933470002230256}, {\"cell type\": \"Plasma_cell\", \"location_percent\": 0.2644784097248734, \"methylation\": 0.7091076002826914}, {\"cell type\": \"Plasma_cell\", \"location_percent\": 0.2683292121855422, \"methylation\": 0.6528562004255131}, {\"cell type\": \"Plasma_cell\", \"location_percent\": 0.27189987196323, \"methylation\": 0.5747457996444777}, {\"cell type\": \"Plasma_cell\", \"location_percent\": 0.27863201884636113, \"methylation\": 0.5837861995410174}, {\"cell type\": \"Plasma_cell\", \"location_percent\": 0.2845934476792864, \"methylation\": 0.654417000028491}, {\"cell type\": \"Plasma_cell\", \"location_percent\": 0.2886370323458143, \"methylation\": 0.6838024000922218}, {\"cell type\": \"Plasma_cell\", \"location_percent\": 0.2915829741828912, \"methylation\": 0.5651000000845641}, {\"cell type\": \"Plasma_cell\", \"location_percent\": 0.29465441029944767, \"methylation\": 0.6059139999125153}, {\"cell type\": \"Plasma_cell\", \"location_percent\": 0.29825606815229583, \"methylation\": 0.5683490002799779}, {\"cell type\": \"Plasma_cell\", \"location_percent\": 0.30198097856696027, \"methylation\": 0.5270948000447825}, {\"cell type\": \"Plasma_cell\", \"location_percent\": 0.3052864670551939, \"methylation\": 0.7034270002946258}, {\"cell type\": \"Plasma_cell\", \"location_percent\": 0.30764291630519897, \"methylation\": 0.5428581999793649}, {\"cell type\": \"Plasma_cell\", \"location_percent\": 0.3112027986713985, \"methylation\": 0.6194936001984402}, {\"cell type\": \"Plasma_cell\", \"location_percent\": 0.32012515947366743, \"methylation\": 0.6118721995487809}, {\"cell type\": \"Plasma_cell\", \"location_percent\": 0.32919276968969213, \"methylation\": 0.5677228002848104}, {\"cell type\": \"Plasma_cell\", \"location_percent\": 0.3374829430118054, \"methylation\": 0.6054415998877958}, {\"cell type\": \"Plasma_cell\", \"location_percent\": 0.34707514848465293, \"methylation\": 0.6139643996007741}, {\"cell type\": \"Plasma_cell\", \"location_percent\": 0.3516996013618194, \"methylation\": 0.63590419982858}, {\"cell type\": \"Plasma_cell\", \"location_percent\": 0.3538100882526438, \"methylation\": 0.5927698000194505}, {\"cell type\": \"Plasma_cell\", \"location_percent\": 0.3564847634311297, \"methylation\": 0.7039768003348261}, {\"cell type\": \"Plasma_cell\", \"location_percent\": 0.36383532818083636, \"methylation\": 0.6322716002240777}, {\"cell type\": \"Plasma_cell\", \"location_percent\": 0.37172176698546594, \"methylation\": 0.6162436003897339}, {\"cell type\": \"Plasma_cell\", \"location_percent\": 0.39012474441689543, \"methylation\": 0.611555599671416}, {\"cell type\": \"Plasma_cell\", \"location_percent\": 0.3955135720904476, \"methylation\": 0.5687940002871678}, {\"cell type\": \"Plasma_cell\", \"location_percent\": 0.3986448501578599, \"methylation\": 0.6717520001711323}, {\"cell type\": \"Plasma_cell\", \"location_percent\": 0.4010845562702348, \"methylation\": 0.6439180001618341}, {\"cell type\": \"Plasma_cell\", \"location_percent\": 0.40538054582354627, \"methylation\": 0.7231330002844334}, {\"cell type\": \"Plasma_cell\", \"location_percent\": 0.40846776270994306, \"methylation\": 0.6791301999557763}, {\"cell type\": \"Plasma_cell\", \"location_percent\": 0.4120385209620174, \"methylation\": 0.767701600071229}, {\"cell type\": \"Plasma_cell\", \"location_percent\": 0.41536736115165385, \"methylation\": 0.6127456003440545}, {\"cell type\": \"Plasma_cell\", \"location_percent\": 0.41790971159042767, \"methylation\": 0.6456358001455664}, {\"cell type\": \"Plasma_cell\", \"location_percent\": 0.4209653334054442, \"methylation\": 0.6988077996956185}, {\"cell type\": \"Plasma_cell\", \"location_percent\": 0.42634655338016136, \"methylation\": 0.5935972003346309}, {\"cell type\": \"Plasma_cell\", \"location_percent\": 0.4326034372998116, \"methylation\": 0.5750396000783891}, {\"cell type\": \"Plasma_cell\", \"location_percent\": 0.4357809591807754, \"methylation\": 0.6590486006848514}, {\"cell type\": \"Plasma_cell\", \"location_percent\": 0.4389559326178828, \"methylation\": 0.6665062002407387}, {\"cell type\": \"Plasma_cell\", \"location_percent\": 0.44462729888058555, \"methylation\": 0.5910135997643694}, {\"cell type\": \"Plasma_cell\", \"location_percent\": 0.44972466418988444, \"methylation\": 0.6439130002135411}, {\"cell type\": \"Plasma_cell\", \"location_percent\": 0.45192274518220993, \"methylation\": 0.6291563998719677}, {\"cell type\": \"Plasma_cell\", \"location_percent\": 0.4578459465752339, \"methylation\": 0.5964282002272084}, {\"cell type\": \"Plasma_cell\", \"location_percent\": 0.46339892894776624, \"methylation\": 0.6731936001753435}, {\"cell type\": \"Plasma_cell\", \"location_percent\": 0.46695260487086754, \"methylation\": 0.6394088000334799}, {\"cell type\": \"Plasma_cell\", \"location_percent\": 0.4722705560894705, \"methylation\": 0.6168666001744568}, {\"cell type\": \"Plasma_cell\", \"location_percent\": 0.4801106014662736, \"methylation\": 0.5896848001800478}, {\"cell type\": \"Plasma_cell\", \"location_percent\": 0.48773568594905803, \"methylation\": 0.5830452001184225}, {\"cell type\": \"Plasma_cell\", \"location_percent\": 0.4917253738489484, \"methylation\": 0.521206200154312}, {\"cell type\": \"Plasma_cell\", \"location_percent\": 0.4949433557613117, \"methylation\": 0.6740226000903174}, {\"cell type\": \"Plasma_cell\", \"location_percent\": 0.49750009363960823, \"methylation\": 0.5338025998119265}, {\"cell type\": \"Plasma_cell\", \"location_percent\": 0.4992517937731269, \"methylation\": 0.585701799705252}, {\"cell type\": \"Plasma_cell\", \"location_percent\": 0.5014387739255096, \"methylation\": 0.7172778001287952}, {\"cell type\": \"Plasma_cell\", \"location_percent\": 0.5052595778883083, \"methylation\": 0.5786029998121783}, {\"cell type\": \"Plasma_cell\", \"location_percent\": 0.5136290969878357, \"methylation\": 0.5840630000574514}, {\"cell type\": \"Plasma_cell\", \"location_percent\": 0.5214879211949563, \"methylation\": 0.6053843997478485}, {\"cell type\": \"Plasma_cell\", \"location_percent\": 0.5251367810847554, \"methylation\": 0.655092600238137}, {\"cell type\": \"Plasma_cell\", \"location_percent\": 0.5273608512740913, \"methylation\": 0.7091402000149712}, {\"cell type\": \"Plasma_cell\", \"location_percent\": 0.5296337572565494, \"methylation\": 0.6742476005334407}, {\"cell type\": \"Plasma_cell\", \"location_percent\": 0.5322525156485842, \"methylation\": 0.6040238000433892}, {\"cell type\": \"Plasma_cell\", \"location_percent\": 0.5365129396961691, \"methylation\": 0.5884457999624312}, {\"cell type\": \"Plasma_cell\", \"location_percent\": 0.5403557325483263, \"methylation\": 0.5720966000139713}, {\"cell type\": \"Plasma_cell\", \"location_percent\": 0.5442390783443544, \"methylation\": 0.6313711998462677}, {\"cell type\": \"Plasma_cell\", \"location_percent\": 0.5505300743855963, \"methylation\": 0.5729520002748817}, {\"cell type\": \"Plasma_cell\", \"location_percent\": 0.5554385969583394, \"methylation\": 0.7230773998020217}, {\"cell type\": \"Plasma_cell\", \"location_percent\": 0.5599147134961576, \"methylation\": 0.8224264004552737}, {\"cell type\": \"Plasma_cell\", \"location_percent\": 0.5650384264111139, \"methylation\": 0.5981432007536293}, {\"cell type\": \"Plasma_cell\", \"location_percent\": 0.573796676459725, \"methylation\": 0.6089786002242937}, {\"cell type\": \"Plasma_cell\", \"location_percent\": 0.5838017691489559, \"methylation\": 0.6017149998964741}, {\"cell type\": \"Plasma_cell\", \"location_percent\": 0.59289340977114, \"methylation\": 0.8303118002850562}, {\"cell type\": \"Plasma_cell\", \"location_percent\": 0.6007396423824084, \"methylation\": 0.7354232000781223}, {\"cell type\": \"Plasma_cell\", \"location_percent\": 0.610442205989606, \"methylation\": 0.7183890006575734}, {\"cell type\": \"Plasma_cell\", \"location_percent\": 0.616705088928848, \"methylation\": 0.6086259999433532}, {\"cell type\": \"Plasma_cell\", \"location_percent\": 0.6236606852800385, \"methylation\": 0.6605574002746493}, {\"cell type\": \"Plasma_cell\", \"location_percent\": 0.6287805849543229, \"methylation\": 0.692275999831222}, {\"cell type\": \"Plasma_cell\", \"location_percent\": 0.6363382080739491, \"methylation\": 0.5674769999278709}, {\"cell type\": \"Plasma_cell\", \"location_percent\": 0.6465777496576935, \"methylation\": 0.6059360003476962}, {\"cell type\": \"Plasma_cell\", \"location_percent\": 0.6537112527355528, \"methylation\": 0.6706323997585103}, {\"cell type\": \"Plasma_cell\", \"location_percent\": 0.6586615157891516, \"methylation\": 0.6999859999939799}, {\"cell type\": \"Plasma_cell\", \"location_percent\": 0.6647764300394727, \"methylation\": 0.6072704000249505}, {\"cell type\": \"Plasma_cell\", \"location_percent\": 0.6731026750478243, \"methylation\": 0.5955239997562021}, {\"cell type\": \"Plasma_cell\", \"location_percent\": 0.6817931364977805, \"methylation\": 0.6571856003865599}, {\"cell type\": \"Plasma_cell\", \"location_percent\": 0.6905669260207868, \"methylation\": 0.6222108003783972}, {\"cell type\": \"Plasma_cell\", \"location_percent\": 0.6971220070124475, \"methylation\": 0.6894264003450051}, {\"cell type\": \"Plasma_cell\", \"location_percent\": 0.7022481526817764, \"methylation\": 0.6908088004140184}, {\"cell type\": \"Plasma_cell\", \"location_percent\": 0.7063984396974429, \"methylation\": 0.6369974004074931}, {\"cell type\": \"Plasma_cell\", \"location_percent\": 0.7105407341454465, \"methylation\": 0.6234864001128823}, {\"cell type\": \"Plasma_cell\", \"location_percent\": 0.7146683537916216, \"methylation\": 0.661848400324583}, {\"cell type\": \"Plasma_cell\", \"location_percent\": 0.7190082067587854, \"methylation\": 0.6426692004878074}, {\"cell type\": \"Plasma_cell\", \"location_percent\": 0.7233828954241927, \"methylation\": 0.635157400241308}, {\"cell type\": \"Plasma_cell\", \"location_percent\": 0.7277864436773958, \"methylation\": 0.4956484002646059}, {\"cell type\": \"Plasma_cell\", \"location_percent\": 0.7328779886115186, \"methylation\": 0.6288412004515529}, {\"cell type\": \"Plasma_cell\", \"location_percent\": 0.738191585044738, \"methylation\": 0.7256284003725275}, {\"cell type\": \"Plasma_cell\", \"location_percent\": 0.7463395893546896, \"methylation\": 0.6252337997762486}, {\"cell type\": \"Plasma_cell\", \"location_percent\": 0.7547084643398645, \"methylation\": 0.6527657998392359}, {\"cell type\": \"Plasma_cell\", \"location_percent\": 0.764714808806818, \"methylation\": 0.6597296000314876}, {\"cell type\": \"Plasma_cell\", \"location_percent\": 0.7745559681538537, \"methylation\": 0.59477939988859}, {\"cell type\": \"Plasma_cell\", \"location_percent\": 0.7834363255903425, \"methylation\": 0.654627000282146}, {\"cell type\": \"Plasma_cell\", \"location_percent\": 0.7890328301980422, \"methylation\": 0.6319221999945119}, {\"cell type\": \"Plasma_cell\", \"location_percent\": 0.7963551533229822, \"methylation\": 0.6165046001106501}, {\"cell type\": \"Plasma_cell\", \"location_percent\": 0.8070695004033173, \"methylation\": 0.6499119999520481}, {\"cell type\": \"Plasma_cell\", \"location_percent\": 0.8133133998948803, \"methylation\": 0.7062832002867013}, {\"cell type\": \"Plasma_cell\", \"location_percent\": 0.8185005988365655, \"methylation\": 0.5849046002401039}, {\"cell type\": \"Plasma_cell\", \"location_percent\": 0.8252792937059977, \"methylation\": 0.5343447999568656}, {\"cell type\": \"Plasma_cell\", \"location_percent\": 0.829887233762907, \"methylation\": 0.6829588002614677}, {\"cell type\": \"Plasma_cell\", \"location_percent\": 0.8339641328270695, \"methylation\": 0.6690393996864558}, {\"cell type\": \"Plasma_cell\", \"location_percent\": 0.8369464654614388, \"methylation\": 0.7989787999002262}, {\"cell type\": \"Plasma_cell\", \"location_percent\": 0.8408945810592399, \"methylation\": 0.7029870002988726}, {\"cell type\": \"Plasma_cell\", \"location_percent\": 0.8465542905886209, \"methylation\": 0.5532730000620708}, {\"cell type\": \"Plasma_cell\", \"location_percent\": 0.8510775655781264, \"methylation\": 0.6692196000881493}, {\"cell type\": \"Plasma_cell\", \"location_percent\": 0.8557406703143168, \"methylation\": 0.653159999987483}, {\"cell type\": \"Plasma_cell\", \"location_percent\": 0.859385833549771, \"methylation\": 0.6770046002311632}, {\"cell type\": \"Plasma_cell\", \"location_percent\": 0.8663463802836215, \"methylation\": 0.6283282001094893}, {\"cell type\": \"Plasma_cell\", \"location_percent\": 0.8753776017528712, \"methylation\": 0.5949858001595363}, {\"cell type\": \"Plasma_cell\", \"location_percent\": 0.8844737899602793, \"methylation\": 0.6291102001715452}, {\"cell type\": \"Plasma_cell\", \"location_percent\": 0.8909246764558271, \"methylation\": 0.6908064002793283}, {\"cell type\": \"Plasma_cell\", \"location_percent\": 0.8949585183790095, \"methylation\": 0.5817614000970498}, {\"cell type\": \"Plasma_cell\", \"location_percent\": 0.8995222296178763, \"methylation\": 0.5784175999695436}, {\"cell type\": \"Plasma_cell\", \"location_percent\": 0.9022070054090924, \"methylation\": 0.6777526001596823}, {\"cell type\": \"Plasma_cell\", \"location_percent\": 0.9044968574474122, \"methylation\": 0.4567260002400726}, {\"cell type\": \"Plasma_cell\", \"location_percent\": 0.9061951347753376, \"methylation\": 0.5352136001139879}, {\"cell type\": \"Plasma_cell\", \"location_percent\": 0.9091978783544608, \"methylation\": 0.5873877999410033}, {\"cell type\": \"Plasma_cell\", \"location_percent\": 0.9156370736716273, \"methylation\": 0.5487914000596851}, {\"cell type\": \"Plasma_cell\", \"location_percent\": 0.9206915868619606, \"methylation\": 0.6181738001881167}, {\"cell type\": \"Plasma_cell\", \"location_percent\": 0.9255757406345331, \"methylation\": 0.638052600169368}, {\"cell type\": \"Plasma_cell\", \"location_percent\": 0.930537238563207, \"methylation\": 0.665066000110656}, {\"cell type\": \"Plasma_cell\", \"location_percent\": 0.9373705999369327, \"methylation\": 0.6772158002134413}, {\"cell type\": \"Plasma_cell\", \"location_percent\": 0.9421089433995374, \"methylation\": 0.6037024000138045}, {\"cell type\": \"Plasma_cell\", \"location_percent\": 0.948242716623779, \"methylation\": 0.6434094001680613}, {\"cell type\": \"Plasma_cell\", \"location_percent\": 0.9522879172533052, \"methylation\": 0.6870478001009673}, {\"cell type\": \"Plasma_cell\", \"location_percent\": 0.9548796058504128, \"methylation\": 0.6468177998706699}, {\"cell type\": \"Plasma_cell\", \"location_percent\": 0.9566422619886346, \"methylation\": 0.5779976001149043}, {\"cell type\": \"Plasma_cell\", \"location_percent\": 0.9591153311726265, \"methylation\": 0.6585023998793215}, {\"cell type\": \"Plasma_cell\", \"location_percent\": 0.9611057216683203, \"methylation\": 0.6384836004426703}, {\"cell type\": \"Plasma_cell\", \"location_percent\": 0.9631890147785201, \"methylation\": 0.7681504001216963}, {\"cell type\": \"Plasma_cell\", \"location_percent\": 0.9658957144528194, \"methylation\": 0.6693695999981836}, {\"cell type\": \"Plasma_cell\", \"location_percent\": 0.969237030434861, \"methylation\": 0.5996165998930112}, {\"cell type\": \"Plasma_cell\", \"location_percent\": 0.971724122029109, \"methylation\": 0.5904847999952734}, {\"cell type\": \"Plasma_cell\", \"location_percent\": 0.9735934878035276, \"methylation\": 0.641390199906379}, {\"cell type\": \"Plasma_cell\", \"location_percent\": 0.9752222979113382, \"methylation\": 0.603606400192529}, {\"cell type\": \"Plasma_cell\", \"location_percent\": 0.9775578989344547, \"methylation\": 0.6171604004377499}, {\"cell type\": \"Plasma_cell\", \"location_percent\": 0.980312168860169, \"methylation\": 0.6192092002600431}, {\"cell type\": \"Plasma_cell\", \"location_percent\": 0.9823291048624667, \"methylation\": 0.6867093999629841}, {\"cell type\": \"Plasma_cell\", \"location_percent\": 0.9838164514145686, \"methylation\": 0.6389626001477241}, {\"cell type\": \"Plasma_cell\", \"location_percent\": 0.9856144145628392, \"methylation\": 0.6318989997964353}, {\"cell type\": \"Plasma_cell\", \"location_percent\": 0.9871684675689134, \"methylation\": 0.7869879998700693}, {\"cell type\": \"Plasma_cell\", \"location_percent\": 0.9883461541222011, \"methylation\": 0.719480199897103}, {\"cell type\": \"Plasma_cell\", \"location_percent\": 0.989890625615225, \"methylation\": 0.6477499996786937}, {\"cell type\": \"Plasma_cell\", \"location_percent\": 0.991663178174114, \"methylation\": 0.6519413999900222}, {\"cell type\": \"Plasma_cell\", \"location_percent\": 0.9930846471652217, \"methylation\": 0.6025888000737876}, {\"cell type\": \"Plasma_cell\", \"location_percent\": 0.9943311574295997, \"methylation\": 0.6034670002836734}, {\"cell type\": \"Plasma_cell\", \"location_percent\": 0.9955572070677381, \"methylation\": 0.6599832002237439}, {\"cell type\": \"Plasma_cell\", \"location_percent\": 0.997092302751856, \"methylation\": 0.6683435999378562}, {\"cell type\": \"Plasma_cell\", \"location_percent\": 0.998232604314098, \"methylation\": 0.6878305999901145}, {\"cell type\": \"Plasma_cell\", \"location_percent\": 0.9991170925978168, \"methylation\": 0.7521647718164947}]}}, {\"mode\": \"vega-lite\"});\n",
              "</script>"
            ],
            "text/plain": [
              "alt.Chart(...)"
            ]
          },
          "metadata": {},
          "execution_count": 66
        }
      ]
    },
    {
      "cell_type": "code",
      "source": [
        ""
      ],
      "metadata": {
        "id": "zxUkDDsIkF0V"
      },
      "execution_count": null,
      "outputs": []
    }
  ],
  "metadata": {
    "colab": {
      "collapsed_sections": [],
      "name": "data_processing.ipynb",
      "provenance": [],
      "authorship_tag": "ABX9TyPhNrnUq8MeEvtoT6/A8Mpn",
      "include_colab_link": true
    },
    "kernelspec": {
      "display_name": "Python 3",
      "name": "python3"
    },
    "language_info": {
      "name": "python"
    },
    "widgets": {
      "application/vnd.jupyter.widget-state+json": {
        "6a37496426db49068ab4aa400d3556c7": {
          "model_module": "@jupyter-widgets/controls",
          "model_name": "HBoxModel",
          "model_module_version": "1.5.0",
          "state": {
            "_dom_classes": [],
            "_model_module": "@jupyter-widgets/controls",
            "_model_module_version": "1.5.0",
            "_model_name": "HBoxModel",
            "_view_count": null,
            "_view_module": "@jupyter-widgets/controls",
            "_view_module_version": "1.5.0",
            "_view_name": "HBoxView",
            "box_style": "",
            "children": [
              "IPY_MODEL_8d7cd9669308451c910f387c1290f89d",
              "IPY_MODEL_8ebfe95be60148ada751697eec698bba",
              "IPY_MODEL_7e2836e7c37f4a08bf71c0aef6769d48"
            ],
            "layout": "IPY_MODEL_368d204565574a08a1d38390c10134e4"
          }
        },
        "8d7cd9669308451c910f387c1290f89d": {
          "model_module": "@jupyter-widgets/controls",
          "model_name": "HTMLModel",
          "model_module_version": "1.5.0",
          "state": {
            "_dom_classes": [],
            "_model_module": "@jupyter-widgets/controls",
            "_model_module_version": "1.5.0",
            "_model_name": "HTMLModel",
            "_view_count": null,
            "_view_module": "@jupyter-widgets/controls",
            "_view_module_version": "1.5.0",
            "_view_name": "HTMLView",
            "description": "",
            "description_tooltip": null,
            "layout": "IPY_MODEL_a40e663fd593493bb8857e9e2e39740d",
            "placeholder": "​",
            "style": "IPY_MODEL_7a24192b5ade434bb56124172a98040c",
            "value": "100%"
          }
        },
        "8ebfe95be60148ada751697eec698bba": {
          "model_module": "@jupyter-widgets/controls",
          "model_name": "FloatProgressModel",
          "model_module_version": "1.5.0",
          "state": {
            "_dom_classes": [],
            "_model_module": "@jupyter-widgets/controls",
            "_model_module_version": "1.5.0",
            "_model_name": "FloatProgressModel",
            "_view_count": null,
            "_view_module": "@jupyter-widgets/controls",
            "_view_module_version": "1.5.0",
            "_view_name": "ProgressView",
            "bar_style": "success",
            "description": "",
            "description_tooltip": null,
            "layout": "IPY_MODEL_89f4232b747b4c3d837ea34c5b80a7d3",
            "max": 2,
            "min": 0,
            "orientation": "horizontal",
            "style": "IPY_MODEL_3a5c30dcba774e2ba379ccaab3dbc523",
            "value": 2
          }
        },
        "7e2836e7c37f4a08bf71c0aef6769d48": {
          "model_module": "@jupyter-widgets/controls",
          "model_name": "HTMLModel",
          "model_module_version": "1.5.0",
          "state": {
            "_dom_classes": [],
            "_model_module": "@jupyter-widgets/controls",
            "_model_module_version": "1.5.0",
            "_model_name": "HTMLModel",
            "_view_count": null,
            "_view_module": "@jupyter-widgets/controls",
            "_view_module_version": "1.5.0",
            "_view_name": "HTMLView",
            "description": "",
            "description_tooltip": null,
            "layout": "IPY_MODEL_9543c8a037954a489b06e8785521f86b",
            "placeholder": "​",
            "style": "IPY_MODEL_578b217be739419d8d58c4d5bb4d5449",
            "value": " 2/2 [01:12&lt;00:00, 37.88s/it]"
          }
        },
        "368d204565574a08a1d38390c10134e4": {
          "model_module": "@jupyter-widgets/base",
          "model_name": "LayoutModel",
          "model_module_version": "1.2.0",
          "state": {
            "_model_module": "@jupyter-widgets/base",
            "_model_module_version": "1.2.0",
            "_model_name": "LayoutModel",
            "_view_count": null,
            "_view_module": "@jupyter-widgets/base",
            "_view_module_version": "1.2.0",
            "_view_name": "LayoutView",
            "align_content": null,
            "align_items": null,
            "align_self": null,
            "border": null,
            "bottom": null,
            "display": null,
            "flex": null,
            "flex_flow": null,
            "grid_area": null,
            "grid_auto_columns": null,
            "grid_auto_flow": null,
            "grid_auto_rows": null,
            "grid_column": null,
            "grid_gap": null,
            "grid_row": null,
            "grid_template_areas": null,
            "grid_template_columns": null,
            "grid_template_rows": null,
            "height": null,
            "justify_content": null,
            "justify_items": null,
            "left": null,
            "margin": null,
            "max_height": null,
            "max_width": null,
            "min_height": null,
            "min_width": null,
            "object_fit": null,
            "object_position": null,
            "order": null,
            "overflow": null,
            "overflow_x": null,
            "overflow_y": null,
            "padding": null,
            "right": null,
            "top": null,
            "visibility": null,
            "width": null
          }
        },
        "a40e663fd593493bb8857e9e2e39740d": {
          "model_module": "@jupyter-widgets/base",
          "model_name": "LayoutModel",
          "model_module_version": "1.2.0",
          "state": {
            "_model_module": "@jupyter-widgets/base",
            "_model_module_version": "1.2.0",
            "_model_name": "LayoutModel",
            "_view_count": null,
            "_view_module": "@jupyter-widgets/base",
            "_view_module_version": "1.2.0",
            "_view_name": "LayoutView",
            "align_content": null,
            "align_items": null,
            "align_self": null,
            "border": null,
            "bottom": null,
            "display": null,
            "flex": null,
            "flex_flow": null,
            "grid_area": null,
            "grid_auto_columns": null,
            "grid_auto_flow": null,
            "grid_auto_rows": null,
            "grid_column": null,
            "grid_gap": null,
            "grid_row": null,
            "grid_template_areas": null,
            "grid_template_columns": null,
            "grid_template_rows": null,
            "height": null,
            "justify_content": null,
            "justify_items": null,
            "left": null,
            "margin": null,
            "max_height": null,
            "max_width": null,
            "min_height": null,
            "min_width": null,
            "object_fit": null,
            "object_position": null,
            "order": null,
            "overflow": null,
            "overflow_x": null,
            "overflow_y": null,
            "padding": null,
            "right": null,
            "top": null,
            "visibility": null,
            "width": null
          }
        },
        "7a24192b5ade434bb56124172a98040c": {
          "model_module": "@jupyter-widgets/controls",
          "model_name": "DescriptionStyleModel",
          "model_module_version": "1.5.0",
          "state": {
            "_model_module": "@jupyter-widgets/controls",
            "_model_module_version": "1.5.0",
            "_model_name": "DescriptionStyleModel",
            "_view_count": null,
            "_view_module": "@jupyter-widgets/base",
            "_view_module_version": "1.2.0",
            "_view_name": "StyleView",
            "description_width": ""
          }
        },
        "89f4232b747b4c3d837ea34c5b80a7d3": {
          "model_module": "@jupyter-widgets/base",
          "model_name": "LayoutModel",
          "model_module_version": "1.2.0",
          "state": {
            "_model_module": "@jupyter-widgets/base",
            "_model_module_version": "1.2.0",
            "_model_name": "LayoutModel",
            "_view_count": null,
            "_view_module": "@jupyter-widgets/base",
            "_view_module_version": "1.2.0",
            "_view_name": "LayoutView",
            "align_content": null,
            "align_items": null,
            "align_self": null,
            "border": null,
            "bottom": null,
            "display": null,
            "flex": null,
            "flex_flow": null,
            "grid_area": null,
            "grid_auto_columns": null,
            "grid_auto_flow": null,
            "grid_auto_rows": null,
            "grid_column": null,
            "grid_gap": null,
            "grid_row": null,
            "grid_template_areas": null,
            "grid_template_columns": null,
            "grid_template_rows": null,
            "height": null,
            "justify_content": null,
            "justify_items": null,
            "left": null,
            "margin": null,
            "max_height": null,
            "max_width": null,
            "min_height": null,
            "min_width": null,
            "object_fit": null,
            "object_position": null,
            "order": null,
            "overflow": null,
            "overflow_x": null,
            "overflow_y": null,
            "padding": null,
            "right": null,
            "top": null,
            "visibility": null,
            "width": null
          }
        },
        "3a5c30dcba774e2ba379ccaab3dbc523": {
          "model_module": "@jupyter-widgets/controls",
          "model_name": "ProgressStyleModel",
          "model_module_version": "1.5.0",
          "state": {
            "_model_module": "@jupyter-widgets/controls",
            "_model_module_version": "1.5.0",
            "_model_name": "ProgressStyleModel",
            "_view_count": null,
            "_view_module": "@jupyter-widgets/base",
            "_view_module_version": "1.2.0",
            "_view_name": "StyleView",
            "bar_color": null,
            "description_width": ""
          }
        },
        "9543c8a037954a489b06e8785521f86b": {
          "model_module": "@jupyter-widgets/base",
          "model_name": "LayoutModel",
          "model_module_version": "1.2.0",
          "state": {
            "_model_module": "@jupyter-widgets/base",
            "_model_module_version": "1.2.0",
            "_model_name": "LayoutModel",
            "_view_count": null,
            "_view_module": "@jupyter-widgets/base",
            "_view_module_version": "1.2.0",
            "_view_name": "LayoutView",
            "align_content": null,
            "align_items": null,
            "align_self": null,
            "border": null,
            "bottom": null,
            "display": null,
            "flex": null,
            "flex_flow": null,
            "grid_area": null,
            "grid_auto_columns": null,
            "grid_auto_flow": null,
            "grid_auto_rows": null,
            "grid_column": null,
            "grid_gap": null,
            "grid_row": null,
            "grid_template_areas": null,
            "grid_template_columns": null,
            "grid_template_rows": null,
            "height": null,
            "justify_content": null,
            "justify_items": null,
            "left": null,
            "margin": null,
            "max_height": null,
            "max_width": null,
            "min_height": null,
            "min_width": null,
            "object_fit": null,
            "object_position": null,
            "order": null,
            "overflow": null,
            "overflow_x": null,
            "overflow_y": null,
            "padding": null,
            "right": null,
            "top": null,
            "visibility": null,
            "width": null
          }
        },
        "578b217be739419d8d58c4d5bb4d5449": {
          "model_module": "@jupyter-widgets/controls",
          "model_name": "DescriptionStyleModel",
          "model_module_version": "1.5.0",
          "state": {
            "_model_module": "@jupyter-widgets/controls",
            "_model_module_version": "1.5.0",
            "_model_name": "DescriptionStyleModel",
            "_view_count": null,
            "_view_module": "@jupyter-widgets/base",
            "_view_module_version": "1.2.0",
            "_view_name": "StyleView",
            "description_width": ""
          }
        },
        "513461e2b1ca4f2f85872487306ba921": {
          "model_module": "@jupyter-widgets/controls",
          "model_name": "HBoxModel",
          "model_module_version": "1.5.0",
          "state": {
            "_dom_classes": [],
            "_model_module": "@jupyter-widgets/controls",
            "_model_module_version": "1.5.0",
            "_model_name": "HBoxModel",
            "_view_count": null,
            "_view_module": "@jupyter-widgets/controls",
            "_view_module_version": "1.5.0",
            "_view_name": "HBoxView",
            "box_style": "",
            "children": [
              "IPY_MODEL_4d79edf211a14ecc8a89d32de25b6766",
              "IPY_MODEL_0da1e8c7aa0e4f249845392c15b1895c",
              "IPY_MODEL_65c69b09d37a4d9b8d91498d5eafca6c"
            ],
            "layout": "IPY_MODEL_f2f214979a3f4287bcc616e5cfbd4bbb"
          }
        },
        "4d79edf211a14ecc8a89d32de25b6766": {
          "model_module": "@jupyter-widgets/controls",
          "model_name": "HTMLModel",
          "model_module_version": "1.5.0",
          "state": {
            "_dom_classes": [],
            "_model_module": "@jupyter-widgets/controls",
            "_model_module_version": "1.5.0",
            "_model_name": "HTMLModel",
            "_view_count": null,
            "_view_module": "@jupyter-widgets/controls",
            "_view_module_version": "1.5.0",
            "_view_name": "HTMLView",
            "description": "",
            "description_tooltip": null,
            "layout": "IPY_MODEL_fef29329f2b44221ac9c74337eb11241",
            "placeholder": "​",
            "style": "IPY_MODEL_159a4eaae0cb4913a47994fe6709c0a2",
            "value": "100%"
          }
        },
        "0da1e8c7aa0e4f249845392c15b1895c": {
          "model_module": "@jupyter-widgets/controls",
          "model_name": "FloatProgressModel",
          "model_module_version": "1.5.0",
          "state": {
            "_dom_classes": [],
            "_model_module": "@jupyter-widgets/controls",
            "_model_module_version": "1.5.0",
            "_model_name": "FloatProgressModel",
            "_view_count": null,
            "_view_module": "@jupyter-widgets/controls",
            "_view_module_version": "1.5.0",
            "_view_name": "ProgressView",
            "bar_style": "success",
            "description": "",
            "description_tooltip": null,
            "layout": "IPY_MODEL_81bb6b804ddb4456b5abf58af5f6ffa9",
            "max": 2,
            "min": 0,
            "orientation": "horizontal",
            "style": "IPY_MODEL_adf5a67f20eb4752a19a47c1242936df",
            "value": 2
          }
        },
        "65c69b09d37a4d9b8d91498d5eafca6c": {
          "model_module": "@jupyter-widgets/controls",
          "model_name": "HTMLModel",
          "model_module_version": "1.5.0",
          "state": {
            "_dom_classes": [],
            "_model_module": "@jupyter-widgets/controls",
            "_model_module_version": "1.5.0",
            "_model_name": "HTMLModel",
            "_view_count": null,
            "_view_module": "@jupyter-widgets/controls",
            "_view_module_version": "1.5.0",
            "_view_name": "HTMLView",
            "description": "",
            "description_tooltip": null,
            "layout": "IPY_MODEL_153c16b120304e998be900b8dae35fca",
            "placeholder": "​",
            "style": "IPY_MODEL_9faef0f987a94979828fac5d7c706d74",
            "value": " 2/2 [23:27&lt;00:00, 708.77s/it]"
          }
        },
        "f2f214979a3f4287bcc616e5cfbd4bbb": {
          "model_module": "@jupyter-widgets/base",
          "model_name": "LayoutModel",
          "model_module_version": "1.2.0",
          "state": {
            "_model_module": "@jupyter-widgets/base",
            "_model_module_version": "1.2.0",
            "_model_name": "LayoutModel",
            "_view_count": null,
            "_view_module": "@jupyter-widgets/base",
            "_view_module_version": "1.2.0",
            "_view_name": "LayoutView",
            "align_content": null,
            "align_items": null,
            "align_self": null,
            "border": null,
            "bottom": null,
            "display": null,
            "flex": null,
            "flex_flow": null,
            "grid_area": null,
            "grid_auto_columns": null,
            "grid_auto_flow": null,
            "grid_auto_rows": null,
            "grid_column": null,
            "grid_gap": null,
            "grid_row": null,
            "grid_template_areas": null,
            "grid_template_columns": null,
            "grid_template_rows": null,
            "height": null,
            "justify_content": null,
            "justify_items": null,
            "left": null,
            "margin": null,
            "max_height": null,
            "max_width": null,
            "min_height": null,
            "min_width": null,
            "object_fit": null,
            "object_position": null,
            "order": null,
            "overflow": null,
            "overflow_x": null,
            "overflow_y": null,
            "padding": null,
            "right": null,
            "top": null,
            "visibility": null,
            "width": null
          }
        },
        "fef29329f2b44221ac9c74337eb11241": {
          "model_module": "@jupyter-widgets/base",
          "model_name": "LayoutModel",
          "model_module_version": "1.2.0",
          "state": {
            "_model_module": "@jupyter-widgets/base",
            "_model_module_version": "1.2.0",
            "_model_name": "LayoutModel",
            "_view_count": null,
            "_view_module": "@jupyter-widgets/base",
            "_view_module_version": "1.2.0",
            "_view_name": "LayoutView",
            "align_content": null,
            "align_items": null,
            "align_self": null,
            "border": null,
            "bottom": null,
            "display": null,
            "flex": null,
            "flex_flow": null,
            "grid_area": null,
            "grid_auto_columns": null,
            "grid_auto_flow": null,
            "grid_auto_rows": null,
            "grid_column": null,
            "grid_gap": null,
            "grid_row": null,
            "grid_template_areas": null,
            "grid_template_columns": null,
            "grid_template_rows": null,
            "height": null,
            "justify_content": null,
            "justify_items": null,
            "left": null,
            "margin": null,
            "max_height": null,
            "max_width": null,
            "min_height": null,
            "min_width": null,
            "object_fit": null,
            "object_position": null,
            "order": null,
            "overflow": null,
            "overflow_x": null,
            "overflow_y": null,
            "padding": null,
            "right": null,
            "top": null,
            "visibility": null,
            "width": null
          }
        },
        "159a4eaae0cb4913a47994fe6709c0a2": {
          "model_module": "@jupyter-widgets/controls",
          "model_name": "DescriptionStyleModel",
          "model_module_version": "1.5.0",
          "state": {
            "_model_module": "@jupyter-widgets/controls",
            "_model_module_version": "1.5.0",
            "_model_name": "DescriptionStyleModel",
            "_view_count": null,
            "_view_module": "@jupyter-widgets/base",
            "_view_module_version": "1.2.0",
            "_view_name": "StyleView",
            "description_width": ""
          }
        },
        "81bb6b804ddb4456b5abf58af5f6ffa9": {
          "model_module": "@jupyter-widgets/base",
          "model_name": "LayoutModel",
          "model_module_version": "1.2.0",
          "state": {
            "_model_module": "@jupyter-widgets/base",
            "_model_module_version": "1.2.0",
            "_model_name": "LayoutModel",
            "_view_count": null,
            "_view_module": "@jupyter-widgets/base",
            "_view_module_version": "1.2.0",
            "_view_name": "LayoutView",
            "align_content": null,
            "align_items": null,
            "align_self": null,
            "border": null,
            "bottom": null,
            "display": null,
            "flex": null,
            "flex_flow": null,
            "grid_area": null,
            "grid_auto_columns": null,
            "grid_auto_flow": null,
            "grid_auto_rows": null,
            "grid_column": null,
            "grid_gap": null,
            "grid_row": null,
            "grid_template_areas": null,
            "grid_template_columns": null,
            "grid_template_rows": null,
            "height": null,
            "justify_content": null,
            "justify_items": null,
            "left": null,
            "margin": null,
            "max_height": null,
            "max_width": null,
            "min_height": null,
            "min_width": null,
            "object_fit": null,
            "object_position": null,
            "order": null,
            "overflow": null,
            "overflow_x": null,
            "overflow_y": null,
            "padding": null,
            "right": null,
            "top": null,
            "visibility": null,
            "width": null
          }
        },
        "adf5a67f20eb4752a19a47c1242936df": {
          "model_module": "@jupyter-widgets/controls",
          "model_name": "ProgressStyleModel",
          "model_module_version": "1.5.0",
          "state": {
            "_model_module": "@jupyter-widgets/controls",
            "_model_module_version": "1.5.0",
            "_model_name": "ProgressStyleModel",
            "_view_count": null,
            "_view_module": "@jupyter-widgets/base",
            "_view_module_version": "1.2.0",
            "_view_name": "StyleView",
            "bar_color": null,
            "description_width": ""
          }
        },
        "153c16b120304e998be900b8dae35fca": {
          "model_module": "@jupyter-widgets/base",
          "model_name": "LayoutModel",
          "model_module_version": "1.2.0",
          "state": {
            "_model_module": "@jupyter-widgets/base",
            "_model_module_version": "1.2.0",
            "_model_name": "LayoutModel",
            "_view_count": null,
            "_view_module": "@jupyter-widgets/base",
            "_view_module_version": "1.2.0",
            "_view_name": "LayoutView",
            "align_content": null,
            "align_items": null,
            "align_self": null,
            "border": null,
            "bottom": null,
            "display": null,
            "flex": null,
            "flex_flow": null,
            "grid_area": null,
            "grid_auto_columns": null,
            "grid_auto_flow": null,
            "grid_auto_rows": null,
            "grid_column": null,
            "grid_gap": null,
            "grid_row": null,
            "grid_template_areas": null,
            "grid_template_columns": null,
            "grid_template_rows": null,
            "height": null,
            "justify_content": null,
            "justify_items": null,
            "left": null,
            "margin": null,
            "max_height": null,
            "max_width": null,
            "min_height": null,
            "min_width": null,
            "object_fit": null,
            "object_position": null,
            "order": null,
            "overflow": null,
            "overflow_x": null,
            "overflow_y": null,
            "padding": null,
            "right": null,
            "top": null,
            "visibility": null,
            "width": null
          }
        },
        "9faef0f987a94979828fac5d7c706d74": {
          "model_module": "@jupyter-widgets/controls",
          "model_name": "DescriptionStyleModel",
          "model_module_version": "1.5.0",
          "state": {
            "_model_module": "@jupyter-widgets/controls",
            "_model_module_version": "1.5.0",
            "_model_name": "DescriptionStyleModel",
            "_view_count": null,
            "_view_module": "@jupyter-widgets/base",
            "_view_module_version": "1.2.0",
            "_view_name": "StyleView",
            "description_width": ""
          }
        }
      }
    }
  },
  "nbformat": 4,
  "nbformat_minor": 0
}