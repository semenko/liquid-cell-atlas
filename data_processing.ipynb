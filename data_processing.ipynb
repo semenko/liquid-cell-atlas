{
  "nbformat": 4,
  "nbformat_minor": 0,
  "metadata": {
    "colab": {
      "name": "data_processing.ipynb",
      "provenance": [],
      "collapsed_sections": [],
      "authorship_tag": "ABX9TyPPXg4YRqlOz7IWwJfviXoM",
      "include_colab_link": true
    },
    "kernelspec": {
      "name": "python3",
      "display_name": "Python 3"
    },
    "language_info": {
      "name": "python"
    },
    "widgets": {
      "application/vnd.jupyter.widget-state+json": {
        "76e03c82d3d14b25b0a8c1f45cdc3035": {
          "model_module": "@jupyter-widgets/controls",
          "model_name": "HBoxModel",
          "model_module_version": "1.5.0",
          "state": {
            "_dom_classes": [],
            "_model_module": "@jupyter-widgets/controls",
            "_model_module_version": "1.5.0",
            "_model_name": "HBoxModel",
            "_view_count": null,
            "_view_module": "@jupyter-widgets/controls",
            "_view_module_version": "1.5.0",
            "_view_name": "HBoxView",
            "box_style": "",
            "children": [
              "IPY_MODEL_986c034ba1a844079e03c50bcce7cd45",
              "IPY_MODEL_cc77f649ae87499c8a93e92639f680b0",
              "IPY_MODEL_4a2d4c7183ea4a4c844dbd25bce84f48"
            ],
            "layout": "IPY_MODEL_e7f2e52548294e71beb7bb6201042f57"
          }
        },
        "986c034ba1a844079e03c50bcce7cd45": {
          "model_module": "@jupyter-widgets/controls",
          "model_name": "HTMLModel",
          "model_module_version": "1.5.0",
          "state": {
            "_dom_classes": [],
            "_model_module": "@jupyter-widgets/controls",
            "_model_module_version": "1.5.0",
            "_model_name": "HTMLModel",
            "_view_count": null,
            "_view_module": "@jupyter-widgets/controls",
            "_view_module_version": "1.5.0",
            "_view_name": "HTMLView",
            "description": "",
            "description_tooltip": null,
            "layout": "IPY_MODEL_a5d1b0bca6be4d83be80b3ba7dcf421c",
            "placeholder": "​",
            "style": "IPY_MODEL_7fb9896bed9a4c7da691a6ba2edbad18",
            "value": "100%"
          }
        },
        "cc77f649ae87499c8a93e92639f680b0": {
          "model_module": "@jupyter-widgets/controls",
          "model_name": "FloatProgressModel",
          "model_module_version": "1.5.0",
          "state": {
            "_dom_classes": [],
            "_model_module": "@jupyter-widgets/controls",
            "_model_module_version": "1.5.0",
            "_model_name": "FloatProgressModel",
            "_view_count": null,
            "_view_module": "@jupyter-widgets/controls",
            "_view_module_version": "1.5.0",
            "_view_name": "ProgressView",
            "bar_style": "success",
            "description": "",
            "description_tooltip": null,
            "layout": "IPY_MODEL_c5c7f5f982644baa94026a78da46b38c",
            "max": 2,
            "min": 0,
            "orientation": "horizontal",
            "style": "IPY_MODEL_e9d9e4ee41694ad58694ed1a03c492f4",
            "value": 2
          }
        },
        "4a2d4c7183ea4a4c844dbd25bce84f48": {
          "model_module": "@jupyter-widgets/controls",
          "model_name": "HTMLModel",
          "model_module_version": "1.5.0",
          "state": {
            "_dom_classes": [],
            "_model_module": "@jupyter-widgets/controls",
            "_model_module_version": "1.5.0",
            "_model_name": "HTMLModel",
            "_view_count": null,
            "_view_module": "@jupyter-widgets/controls",
            "_view_module_version": "1.5.0",
            "_view_name": "HTMLView",
            "description": "",
            "description_tooltip": null,
            "layout": "IPY_MODEL_9c61fbf420f1436a9f1cccc20868e73b",
            "placeholder": "​",
            "style": "IPY_MODEL_a9c19f20da7c4756a0d7628c877caa9d",
            "value": " 2/2 [01:32&lt;00:00, 48.03s/it]"
          }
        },
        "e7f2e52548294e71beb7bb6201042f57": {
          "model_module": "@jupyter-widgets/base",
          "model_name": "LayoutModel",
          "model_module_version": "1.2.0",
          "state": {
            "_model_module": "@jupyter-widgets/base",
            "_model_module_version": "1.2.0",
            "_model_name": "LayoutModel",
            "_view_count": null,
            "_view_module": "@jupyter-widgets/base",
            "_view_module_version": "1.2.0",
            "_view_name": "LayoutView",
            "align_content": null,
            "align_items": null,
            "align_self": null,
            "border": null,
            "bottom": null,
            "display": null,
            "flex": null,
            "flex_flow": null,
            "grid_area": null,
            "grid_auto_columns": null,
            "grid_auto_flow": null,
            "grid_auto_rows": null,
            "grid_column": null,
            "grid_gap": null,
            "grid_row": null,
            "grid_template_areas": null,
            "grid_template_columns": null,
            "grid_template_rows": null,
            "height": null,
            "justify_content": null,
            "justify_items": null,
            "left": null,
            "margin": null,
            "max_height": null,
            "max_width": null,
            "min_height": null,
            "min_width": null,
            "object_fit": null,
            "object_position": null,
            "order": null,
            "overflow": null,
            "overflow_x": null,
            "overflow_y": null,
            "padding": null,
            "right": null,
            "top": null,
            "visibility": null,
            "width": null
          }
        },
        "a5d1b0bca6be4d83be80b3ba7dcf421c": {
          "model_module": "@jupyter-widgets/base",
          "model_name": "LayoutModel",
          "model_module_version": "1.2.0",
          "state": {
            "_model_module": "@jupyter-widgets/base",
            "_model_module_version": "1.2.0",
            "_model_name": "LayoutModel",
            "_view_count": null,
            "_view_module": "@jupyter-widgets/base",
            "_view_module_version": "1.2.0",
            "_view_name": "LayoutView",
            "align_content": null,
            "align_items": null,
            "align_self": null,
            "border": null,
            "bottom": null,
            "display": null,
            "flex": null,
            "flex_flow": null,
            "grid_area": null,
            "grid_auto_columns": null,
            "grid_auto_flow": null,
            "grid_auto_rows": null,
            "grid_column": null,
            "grid_gap": null,
            "grid_row": null,
            "grid_template_areas": null,
            "grid_template_columns": null,
            "grid_template_rows": null,
            "height": null,
            "justify_content": null,
            "justify_items": null,
            "left": null,
            "margin": null,
            "max_height": null,
            "max_width": null,
            "min_height": null,
            "min_width": null,
            "object_fit": null,
            "object_position": null,
            "order": null,
            "overflow": null,
            "overflow_x": null,
            "overflow_y": null,
            "padding": null,
            "right": null,
            "top": null,
            "visibility": null,
            "width": null
          }
        },
        "7fb9896bed9a4c7da691a6ba2edbad18": {
          "model_module": "@jupyter-widgets/controls",
          "model_name": "DescriptionStyleModel",
          "model_module_version": "1.5.0",
          "state": {
            "_model_module": "@jupyter-widgets/controls",
            "_model_module_version": "1.5.0",
            "_model_name": "DescriptionStyleModel",
            "_view_count": null,
            "_view_module": "@jupyter-widgets/base",
            "_view_module_version": "1.2.0",
            "_view_name": "StyleView",
            "description_width": ""
          }
        },
        "c5c7f5f982644baa94026a78da46b38c": {
          "model_module": "@jupyter-widgets/base",
          "model_name": "LayoutModel",
          "model_module_version": "1.2.0",
          "state": {
            "_model_module": "@jupyter-widgets/base",
            "_model_module_version": "1.2.0",
            "_model_name": "LayoutModel",
            "_view_count": null,
            "_view_module": "@jupyter-widgets/base",
            "_view_module_version": "1.2.0",
            "_view_name": "LayoutView",
            "align_content": null,
            "align_items": null,
            "align_self": null,
            "border": null,
            "bottom": null,
            "display": null,
            "flex": null,
            "flex_flow": null,
            "grid_area": null,
            "grid_auto_columns": null,
            "grid_auto_flow": null,
            "grid_auto_rows": null,
            "grid_column": null,
            "grid_gap": null,
            "grid_row": null,
            "grid_template_areas": null,
            "grid_template_columns": null,
            "grid_template_rows": null,
            "height": null,
            "justify_content": null,
            "justify_items": null,
            "left": null,
            "margin": null,
            "max_height": null,
            "max_width": null,
            "min_height": null,
            "min_width": null,
            "object_fit": null,
            "object_position": null,
            "order": null,
            "overflow": null,
            "overflow_x": null,
            "overflow_y": null,
            "padding": null,
            "right": null,
            "top": null,
            "visibility": null,
            "width": null
          }
        },
        "e9d9e4ee41694ad58694ed1a03c492f4": {
          "model_module": "@jupyter-widgets/controls",
          "model_name": "ProgressStyleModel",
          "model_module_version": "1.5.0",
          "state": {
            "_model_module": "@jupyter-widgets/controls",
            "_model_module_version": "1.5.0",
            "_model_name": "ProgressStyleModel",
            "_view_count": null,
            "_view_module": "@jupyter-widgets/base",
            "_view_module_version": "1.2.0",
            "_view_name": "StyleView",
            "bar_color": null,
            "description_width": ""
          }
        },
        "9c61fbf420f1436a9f1cccc20868e73b": {
          "model_module": "@jupyter-widgets/base",
          "model_name": "LayoutModel",
          "model_module_version": "1.2.0",
          "state": {
            "_model_module": "@jupyter-widgets/base",
            "_model_module_version": "1.2.0",
            "_model_name": "LayoutModel",
            "_view_count": null,
            "_view_module": "@jupyter-widgets/base",
            "_view_module_version": "1.2.0",
            "_view_name": "LayoutView",
            "align_content": null,
            "align_items": null,
            "align_self": null,
            "border": null,
            "bottom": null,
            "display": null,
            "flex": null,
            "flex_flow": null,
            "grid_area": null,
            "grid_auto_columns": null,
            "grid_auto_flow": null,
            "grid_auto_rows": null,
            "grid_column": null,
            "grid_gap": null,
            "grid_row": null,
            "grid_template_areas": null,
            "grid_template_columns": null,
            "grid_template_rows": null,
            "height": null,
            "justify_content": null,
            "justify_items": null,
            "left": null,
            "margin": null,
            "max_height": null,
            "max_width": null,
            "min_height": null,
            "min_width": null,
            "object_fit": null,
            "object_position": null,
            "order": null,
            "overflow": null,
            "overflow_x": null,
            "overflow_y": null,
            "padding": null,
            "right": null,
            "top": null,
            "visibility": null,
            "width": null
          }
        },
        "a9c19f20da7c4756a0d7628c877caa9d": {
          "model_module": "@jupyter-widgets/controls",
          "model_name": "DescriptionStyleModel",
          "model_module_version": "1.5.0",
          "state": {
            "_model_module": "@jupyter-widgets/controls",
            "_model_module_version": "1.5.0",
            "_model_name": "DescriptionStyleModel",
            "_view_count": null,
            "_view_module": "@jupyter-widgets/base",
            "_view_module_version": "1.2.0",
            "_view_name": "StyleView",
            "description_width": ""
          }
        },
        "8baa44d862454696b5eee0bab94ade65": {
          "model_module": "@jupyter-widgets/controls",
          "model_name": "HBoxModel",
          "model_module_version": "1.5.0",
          "state": {
            "_dom_classes": [],
            "_model_module": "@jupyter-widgets/controls",
            "_model_module_version": "1.5.0",
            "_model_name": "HBoxModel",
            "_view_count": null,
            "_view_module": "@jupyter-widgets/controls",
            "_view_module_version": "1.5.0",
            "_view_name": "HBoxView",
            "box_style": "",
            "children": [
              "IPY_MODEL_e5d4d2ee5acd492085733ff80244348d",
              "IPY_MODEL_3ff9ddfdf9564c2a94f521a0d2e40988",
              "IPY_MODEL_a5ebc854d91e421c86ecfe216e5ad0ba"
            ],
            "layout": "IPY_MODEL_ddef7df94223497ea1c15cdd676e24a6"
          }
        },
        "e5d4d2ee5acd492085733ff80244348d": {
          "model_module": "@jupyter-widgets/controls",
          "model_name": "HTMLModel",
          "model_module_version": "1.5.0",
          "state": {
            "_dom_classes": [],
            "_model_module": "@jupyter-widgets/controls",
            "_model_module_version": "1.5.0",
            "_model_name": "HTMLModel",
            "_view_count": null,
            "_view_module": "@jupyter-widgets/controls",
            "_view_module_version": "1.5.0",
            "_view_name": "HTMLView",
            "description": "",
            "description_tooltip": null,
            "layout": "IPY_MODEL_a401473571e84fada0e9ddb599e5c0e0",
            "placeholder": "​",
            "style": "IPY_MODEL_c565bda6896647368681d04691394fc8",
            "value": "100%"
          }
        },
        "3ff9ddfdf9564c2a94f521a0d2e40988": {
          "model_module": "@jupyter-widgets/controls",
          "model_name": "FloatProgressModel",
          "model_module_version": "1.5.0",
          "state": {
            "_dom_classes": [],
            "_model_module": "@jupyter-widgets/controls",
            "_model_module_version": "1.5.0",
            "_model_name": "FloatProgressModel",
            "_view_count": null,
            "_view_module": "@jupyter-widgets/controls",
            "_view_module_version": "1.5.0",
            "_view_name": "ProgressView",
            "bar_style": "success",
            "description": "",
            "description_tooltip": null,
            "layout": "IPY_MODEL_bdee2a9201cd4bcc97c73611fdd4e25a",
            "max": 2,
            "min": 0,
            "orientation": "horizontal",
            "style": "IPY_MODEL_e1f796dc71014fcabbb94f303fe3660f",
            "value": 2
          }
        },
        "a5ebc854d91e421c86ecfe216e5ad0ba": {
          "model_module": "@jupyter-widgets/controls",
          "model_name": "HTMLModel",
          "model_module_version": "1.5.0",
          "state": {
            "_dom_classes": [],
            "_model_module": "@jupyter-widgets/controls",
            "_model_module_version": "1.5.0",
            "_model_name": "HTMLModel",
            "_view_count": null,
            "_view_module": "@jupyter-widgets/controls",
            "_view_module_version": "1.5.0",
            "_view_name": "HTMLView",
            "description": "",
            "description_tooltip": null,
            "layout": "IPY_MODEL_2070279b8f284b8fb6fd426beda197d8",
            "placeholder": "​",
            "style": "IPY_MODEL_5af1532d8c064a96badef1fb82989af6",
            "value": " 2/2 [03:22&lt;00:00, 102.11s/it]"
          }
        },
        "ddef7df94223497ea1c15cdd676e24a6": {
          "model_module": "@jupyter-widgets/base",
          "model_name": "LayoutModel",
          "model_module_version": "1.2.0",
          "state": {
            "_model_module": "@jupyter-widgets/base",
            "_model_module_version": "1.2.0",
            "_model_name": "LayoutModel",
            "_view_count": null,
            "_view_module": "@jupyter-widgets/base",
            "_view_module_version": "1.2.0",
            "_view_name": "LayoutView",
            "align_content": null,
            "align_items": null,
            "align_self": null,
            "border": null,
            "bottom": null,
            "display": null,
            "flex": null,
            "flex_flow": null,
            "grid_area": null,
            "grid_auto_columns": null,
            "grid_auto_flow": null,
            "grid_auto_rows": null,
            "grid_column": null,
            "grid_gap": null,
            "grid_row": null,
            "grid_template_areas": null,
            "grid_template_columns": null,
            "grid_template_rows": null,
            "height": null,
            "justify_content": null,
            "justify_items": null,
            "left": null,
            "margin": null,
            "max_height": null,
            "max_width": null,
            "min_height": null,
            "min_width": null,
            "object_fit": null,
            "object_position": null,
            "order": null,
            "overflow": null,
            "overflow_x": null,
            "overflow_y": null,
            "padding": null,
            "right": null,
            "top": null,
            "visibility": null,
            "width": null
          }
        },
        "a401473571e84fada0e9ddb599e5c0e0": {
          "model_module": "@jupyter-widgets/base",
          "model_name": "LayoutModel",
          "model_module_version": "1.2.0",
          "state": {
            "_model_module": "@jupyter-widgets/base",
            "_model_module_version": "1.2.0",
            "_model_name": "LayoutModel",
            "_view_count": null,
            "_view_module": "@jupyter-widgets/base",
            "_view_module_version": "1.2.0",
            "_view_name": "LayoutView",
            "align_content": null,
            "align_items": null,
            "align_self": null,
            "border": null,
            "bottom": null,
            "display": null,
            "flex": null,
            "flex_flow": null,
            "grid_area": null,
            "grid_auto_columns": null,
            "grid_auto_flow": null,
            "grid_auto_rows": null,
            "grid_column": null,
            "grid_gap": null,
            "grid_row": null,
            "grid_template_areas": null,
            "grid_template_columns": null,
            "grid_template_rows": null,
            "height": null,
            "justify_content": null,
            "justify_items": null,
            "left": null,
            "margin": null,
            "max_height": null,
            "max_width": null,
            "min_height": null,
            "min_width": null,
            "object_fit": null,
            "object_position": null,
            "order": null,
            "overflow": null,
            "overflow_x": null,
            "overflow_y": null,
            "padding": null,
            "right": null,
            "top": null,
            "visibility": null,
            "width": null
          }
        },
        "c565bda6896647368681d04691394fc8": {
          "model_module": "@jupyter-widgets/controls",
          "model_name": "DescriptionStyleModel",
          "model_module_version": "1.5.0",
          "state": {
            "_model_module": "@jupyter-widgets/controls",
            "_model_module_version": "1.5.0",
            "_model_name": "DescriptionStyleModel",
            "_view_count": null,
            "_view_module": "@jupyter-widgets/base",
            "_view_module_version": "1.2.0",
            "_view_name": "StyleView",
            "description_width": ""
          }
        },
        "bdee2a9201cd4bcc97c73611fdd4e25a": {
          "model_module": "@jupyter-widgets/base",
          "model_name": "LayoutModel",
          "model_module_version": "1.2.0",
          "state": {
            "_model_module": "@jupyter-widgets/base",
            "_model_module_version": "1.2.0",
            "_model_name": "LayoutModel",
            "_view_count": null,
            "_view_module": "@jupyter-widgets/base",
            "_view_module_version": "1.2.0",
            "_view_name": "LayoutView",
            "align_content": null,
            "align_items": null,
            "align_self": null,
            "border": null,
            "bottom": null,
            "display": null,
            "flex": null,
            "flex_flow": null,
            "grid_area": null,
            "grid_auto_columns": null,
            "grid_auto_flow": null,
            "grid_auto_rows": null,
            "grid_column": null,
            "grid_gap": null,
            "grid_row": null,
            "grid_template_areas": null,
            "grid_template_columns": null,
            "grid_template_rows": null,
            "height": null,
            "justify_content": null,
            "justify_items": null,
            "left": null,
            "margin": null,
            "max_height": null,
            "max_width": null,
            "min_height": null,
            "min_width": null,
            "object_fit": null,
            "object_position": null,
            "order": null,
            "overflow": null,
            "overflow_x": null,
            "overflow_y": null,
            "padding": null,
            "right": null,
            "top": null,
            "visibility": null,
            "width": null
          }
        },
        "e1f796dc71014fcabbb94f303fe3660f": {
          "model_module": "@jupyter-widgets/controls",
          "model_name": "ProgressStyleModel",
          "model_module_version": "1.5.0",
          "state": {
            "_model_module": "@jupyter-widgets/controls",
            "_model_module_version": "1.5.0",
            "_model_name": "ProgressStyleModel",
            "_view_count": null,
            "_view_module": "@jupyter-widgets/base",
            "_view_module_version": "1.2.0",
            "_view_name": "StyleView",
            "bar_color": null,
            "description_width": ""
          }
        },
        "2070279b8f284b8fb6fd426beda197d8": {
          "model_module": "@jupyter-widgets/base",
          "model_name": "LayoutModel",
          "model_module_version": "1.2.0",
          "state": {
            "_model_module": "@jupyter-widgets/base",
            "_model_module_version": "1.2.0",
            "_model_name": "LayoutModel",
            "_view_count": null,
            "_view_module": "@jupyter-widgets/base",
            "_view_module_version": "1.2.0",
            "_view_name": "LayoutView",
            "align_content": null,
            "align_items": null,
            "align_self": null,
            "border": null,
            "bottom": null,
            "display": null,
            "flex": null,
            "flex_flow": null,
            "grid_area": null,
            "grid_auto_columns": null,
            "grid_auto_flow": null,
            "grid_auto_rows": null,
            "grid_column": null,
            "grid_gap": null,
            "grid_row": null,
            "grid_template_areas": null,
            "grid_template_columns": null,
            "grid_template_rows": null,
            "height": null,
            "justify_content": null,
            "justify_items": null,
            "left": null,
            "margin": null,
            "max_height": null,
            "max_width": null,
            "min_height": null,
            "min_width": null,
            "object_fit": null,
            "object_position": null,
            "order": null,
            "overflow": null,
            "overflow_x": null,
            "overflow_y": null,
            "padding": null,
            "right": null,
            "top": null,
            "visibility": null,
            "width": null
          }
        },
        "5af1532d8c064a96badef1fb82989af6": {
          "model_module": "@jupyter-widgets/controls",
          "model_name": "DescriptionStyleModel",
          "model_module_version": "1.5.0",
          "state": {
            "_model_module": "@jupyter-widgets/controls",
            "_model_module_version": "1.5.0",
            "_model_name": "DescriptionStyleModel",
            "_view_count": null,
            "_view_module": "@jupyter-widgets/base",
            "_view_module_version": "1.2.0",
            "_view_name": "StyleView",
            "description_width": ""
          }
        }
      }
    }
  },
  "cells": [
    {
      "cell_type": "markdown",
      "metadata": {
        "id": "view-in-github",
        "colab_type": "text"
      },
      "source": [
        "<a href=\"https://colab.research.google.com/github/semenko/liquid-cell-atlas/blob/main/data_processing.ipynb\" target=\"_parent\"><img src=\"https://colab.research.google.com/assets/colab-badge.svg\" alt=\"Open In Colab\"/></a>"
      ]
    },
    {
      "cell_type": "markdown",
      "source": [
        "# Import Necessary Libraries"
      ],
      "metadata": {
        "id": "NT3ulHYicog6"
      }
    },
    {
      "cell_type": "code",
      "source": [
        "!pip install pyBigWig pybedtools\n",
        "!apt install bedtools"
      ],
      "metadata": {
        "colab": {
          "base_uri": "https://localhost:8080/"
        },
        "id": "LcfesrKDApQG",
        "outputId": "4e34d400-80c3-44a7-dfed-bff732955b0c"
      },
      "execution_count": 1,
      "outputs": [
        {
          "output_type": "stream",
          "name": "stdout",
          "text": [
            "Looking in indexes: https://pypi.org/simple, https://us-python.pkg.dev/colab-wheels/public/simple/\n",
            "Collecting pyBigWig\n",
            "  Downloading pyBigWig-0.3.18.tar.gz (64 kB)\n",
            "\u001b[K     |████████████████████████████████| 64 kB 964 kB/s \n",
            "\u001b[?25hCollecting pybedtools\n",
            "  Downloading pybedtools-0.9.0.tar.gz (12.5 MB)\n",
            "\u001b[K     |████████████████████████████████| 12.5 MB 322 kB/s \n",
            "\u001b[?25hRequirement already satisfied: six in /usr/local/lib/python3.7/dist-packages (from pybedtools) (1.15.0)\n",
            "Collecting pysam\n",
            "  Downloading pysam-0.19.1-cp37-cp37m-manylinux_2_24_x86_64.whl (15.1 MB)\n",
            "\u001b[K     |████████████████████████████████| 15.1 MB 13.5 MB/s \n",
            "\u001b[?25hBuilding wheels for collected packages: pyBigWig, pybedtools\n",
            "  Building wheel for pyBigWig (setup.py) ... \u001b[?25l\u001b[?25hdone\n",
            "  Created wheel for pyBigWig: filename=pyBigWig-0.3.18-cp37-cp37m-linux_x86_64.whl size=196784 sha256=33108ef2d568d71791e7bbe87e42ffac11625d412001a5dd00ba20953791dd74\n",
            "  Stored in directory: /root/.cache/pip/wheels/28/eb/46/c761563ba38bd516bcc6accde3d4188cd84eec067f9201cbec\n",
            "  Building wheel for pybedtools (setup.py) ... \u001b[?25l\u001b[?25hdone\n",
            "  Created wheel for pybedtools: filename=pybedtools-0.9.0-cp37-cp37m-linux_x86_64.whl size=13616824 sha256=070fcc628c3a967aebe60ab36263b8730e7950be0a27dd1c442b1f327a3c3b75\n",
            "  Stored in directory: /root/.cache/pip/wheels/7a/44/0d/3a7449885adaf8ebb157da8c3c834a712f48b3b3b84ba51dda\n",
            "Successfully built pyBigWig pybedtools\n",
            "Installing collected packages: pysam, pyBigWig, pybedtools\n",
            "Successfully installed pyBigWig-0.3.18 pybedtools-0.9.0 pysam-0.19.1\n",
            "Reading package lists... Done\n",
            "Building dependency tree       \n",
            "Reading state information... Done\n",
            "The following package was automatically installed and is no longer required:\n",
            "  libnvidia-common-460\n",
            "Use 'apt autoremove' to remove it.\n",
            "The following NEW packages will be installed:\n",
            "  bedtools\n",
            "0 upgraded, 1 newly installed, 0 to remove and 49 not upgraded.\n",
            "Need to get 577 kB of archives.\n",
            "After this operation, 2,040 kB of additional disk space will be used.\n",
            "Get:1 http://archive.ubuntu.com/ubuntu bionic/universe amd64 bedtools amd64 2.26.0+dfsg-5 [577 kB]\n",
            "Fetched 577 kB in 1s (511 kB/s)\n",
            "Selecting previously unselected package bedtools.\n",
            "(Reading database ... 155639 files and directories currently installed.)\n",
            "Preparing to unpack .../bedtools_2.26.0+dfsg-5_amd64.deb ...\n",
            "Unpacking bedtools (2.26.0+dfsg-5) ...\n",
            "Setting up bedtools (2.26.0+dfsg-5) ...\n"
          ]
        }
      ]
    },
    {
      "cell_type": "code",
      "execution_count": 2,
      "metadata": {
        "id": "9_mdlbHEVKH6"
      },
      "outputs": [],
      "source": [
        "import pandas as pd\n",
        "from google.colab import files\n",
        "import io\n",
        "import json\n",
        "import itertools\n",
        "import numpy as np\n",
        "import altair as alt\n",
        "from tqdm.notebook import tqdm\n",
        "import csv\n",
        "import os\n",
        "import urllib\n",
        "\n",
        "import pyBigWig\n",
        "import pybedtools"
      ]
    },
    {
      "cell_type": "markdown",
      "source": [
        "# Get TSV of all data from Blueprint, Filter and Download it"
      ],
      "metadata": {
        "id": "9NPsWXlCcp99"
      }
    },
    {
      "cell_type": "code",
      "source": [
        "# Download the TSV file from http://dcc.blueprint-epigenome.eu/#/files, and upload it here\n",
        "file = files.upload()\n",
        "data_tsv = pd.read_csv(io.BytesIO(file['blueprint_files.tsv']), sep='\\t')"
      ],
      "metadata": {
        "colab": {
          "resources": {
            "http://localhost:8080/nbextensions/google.colab/files.js": {
              "data": "Ly8gQ29weXJpZ2h0IDIwMTcgR29vZ2xlIExMQwovLwovLyBMaWNlbnNlZCB1bmRlciB0aGUgQXBhY2hlIExpY2Vuc2UsIFZlcnNpb24gMi4wICh0aGUgIkxpY2Vuc2UiKTsKLy8geW91IG1heSBub3QgdXNlIHRoaXMgZmlsZSBleGNlcHQgaW4gY29tcGxpYW5jZSB3aXRoIHRoZSBMaWNlbnNlLgovLyBZb3UgbWF5IG9idGFpbiBhIGNvcHkgb2YgdGhlIExpY2Vuc2UgYXQKLy8KLy8gICAgICBodHRwOi8vd3d3LmFwYWNoZS5vcmcvbGljZW5zZXMvTElDRU5TRS0yLjAKLy8KLy8gVW5sZXNzIHJlcXVpcmVkIGJ5IGFwcGxpY2FibGUgbGF3IG9yIGFncmVlZCB0byBpbiB3cml0aW5nLCBzb2Z0d2FyZQovLyBkaXN0cmlidXRlZCB1bmRlciB0aGUgTGljZW5zZSBpcyBkaXN0cmlidXRlZCBvbiBhbiAiQVMgSVMiIEJBU0lTLAovLyBXSVRIT1VUIFdBUlJBTlRJRVMgT1IgQ09ORElUSU9OUyBPRiBBTlkgS0lORCwgZWl0aGVyIGV4cHJlc3Mgb3IgaW1wbGllZC4KLy8gU2VlIHRoZSBMaWNlbnNlIGZvciB0aGUgc3BlY2lmaWMgbGFuZ3VhZ2UgZ292ZXJuaW5nIHBlcm1pc3Npb25zIGFuZAovLyBsaW1pdGF0aW9ucyB1bmRlciB0aGUgTGljZW5zZS4KCi8qKgogKiBAZmlsZW92ZXJ2aWV3IEhlbHBlcnMgZm9yIGdvb2dsZS5jb2xhYiBQeXRob24gbW9kdWxlLgogKi8KKGZ1bmN0aW9uKHNjb3BlKSB7CmZ1bmN0aW9uIHNwYW4odGV4dCwgc3R5bGVBdHRyaWJ1dGVzID0ge30pIHsKICBjb25zdCBlbGVtZW50ID0gZG9jdW1lbnQuY3JlYXRlRWxlbWVudCgnc3BhbicpOwogIGVsZW1lbnQudGV4dENvbnRlbnQgPSB0ZXh0OwogIGZvciAoY29uc3Qga2V5IG9mIE9iamVjdC5rZXlzKHN0eWxlQXR0cmlidXRlcykpIHsKICAgIGVsZW1lbnQuc3R5bGVba2V5XSA9IHN0eWxlQXR0cmlidXRlc1trZXldOwogIH0KICByZXR1cm4gZWxlbWVudDsKfQoKLy8gTWF4IG51bWJlciBvZiBieXRlcyB3aGljaCB3aWxsIGJlIHVwbG9hZGVkIGF0IGEgdGltZS4KY29uc3QgTUFYX1BBWUxPQURfU0laRSA9IDEwMCAqIDEwMjQ7CgpmdW5jdGlvbiBfdXBsb2FkRmlsZXMoaW5wdXRJZCwgb3V0cHV0SWQpIHsKICBjb25zdCBzdGVwcyA9IHVwbG9hZEZpbGVzU3RlcChpbnB1dElkLCBvdXRwdXRJZCk7CiAgY29uc3Qgb3V0cHV0RWxlbWVudCA9IGRvY3VtZW50LmdldEVsZW1lbnRCeUlkKG91dHB1dElkKTsKICAvLyBDYWNoZSBzdGVwcyBvbiB0aGUgb3V0cHV0RWxlbWVudCB0byBtYWtlIGl0IGF2YWlsYWJsZSBmb3IgdGhlIG5leHQgY2FsbAogIC8vIHRvIHVwbG9hZEZpbGVzQ29udGludWUgZnJvbSBQeXRob24uCiAgb3V0cHV0RWxlbWVudC5zdGVwcyA9IHN0ZXBzOwoKICByZXR1cm4gX3VwbG9hZEZpbGVzQ29udGludWUob3V0cHV0SWQpOwp9CgovLyBUaGlzIGlzIHJvdWdobHkgYW4gYXN5bmMgZ2VuZXJhdG9yIChub3Qgc3VwcG9ydGVkIGluIHRoZSBicm93c2VyIHlldCksCi8vIHdoZXJlIHRoZXJlIGFyZSBtdWx0aXBsZSBhc3luY2hyb25vdXMgc3RlcHMgYW5kIHRoZSBQeXRob24gc2lkZSBpcyBnb2luZwovLyB0byBwb2xsIGZvciBjb21wbGV0aW9uIG9mIGVhY2ggc3RlcC4KLy8gVGhpcyB1c2VzIGEgUHJvbWlzZSB0byBibG9jayB0aGUgcHl0aG9uIHNpZGUgb24gY29tcGxldGlvbiBvZiBlYWNoIHN0ZXAsCi8vIHRoZW4gcGFzc2VzIHRoZSByZXN1bHQgb2YgdGhlIHByZXZpb3VzIHN0ZXAgYXMgdGhlIGlucHV0IHRvIHRoZSBuZXh0IHN0ZXAuCmZ1bmN0aW9uIF91cGxvYWRGaWxlc0NvbnRpbnVlKG91dHB1dElkKSB7CiAgY29uc3Qgb3V0cHV0RWxlbWVudCA9IGRvY3VtZW50LmdldEVsZW1lbnRCeUlkKG91dHB1dElkKTsKICBjb25zdCBzdGVwcyA9IG91dHB1dEVsZW1lbnQuc3RlcHM7CgogIGNvbnN0IG5leHQgPSBzdGVwcy5uZXh0KG91dHB1dEVsZW1lbnQubGFzdFByb21pc2VWYWx1ZSk7CiAgcmV0dXJuIFByb21pc2UucmVzb2x2ZShuZXh0LnZhbHVlLnByb21pc2UpLnRoZW4oKHZhbHVlKSA9PiB7CiAgICAvLyBDYWNoZSB0aGUgbGFzdCBwcm9taXNlIHZhbHVlIHRvIG1ha2UgaXQgYXZhaWxhYmxlIHRvIHRoZSBuZXh0CiAgICAvLyBzdGVwIG9mIHRoZSBnZW5lcmF0b3IuCiAgICBvdXRwdXRFbGVtZW50Lmxhc3RQcm9taXNlVmFsdWUgPSB2YWx1ZTsKICAgIHJldHVybiBuZXh0LnZhbHVlLnJlc3BvbnNlOwogIH0pOwp9CgovKioKICogR2VuZXJhdG9yIGZ1bmN0aW9uIHdoaWNoIGlzIGNhbGxlZCBiZXR3ZWVuIGVhY2ggYXN5bmMgc3RlcCBvZiB0aGUgdXBsb2FkCiAqIHByb2Nlc3MuCiAqIEBwYXJhbSB7c3RyaW5nfSBpbnB1dElkIEVsZW1lbnQgSUQgb2YgdGhlIGlucHV0IGZpbGUgcGlja2VyIGVsZW1lbnQuCiAqIEBwYXJhbSB7c3RyaW5nfSBvdXRwdXRJZCBFbGVtZW50IElEIG9mIHRoZSBvdXRwdXQgZGlzcGxheS4KICogQHJldHVybiB7IUl0ZXJhYmxlPCFPYmplY3Q+fSBJdGVyYWJsZSBvZiBuZXh0IHN0ZXBzLgogKi8KZnVuY3Rpb24qIHVwbG9hZEZpbGVzU3RlcChpbnB1dElkLCBvdXRwdXRJZCkgewogIGNvbnN0IGlucHV0RWxlbWVudCA9IGRvY3VtZW50LmdldEVsZW1lbnRCeUlkKGlucHV0SWQpOwogIGlucHV0RWxlbWVudC5kaXNhYmxlZCA9IGZhbHNlOwoKICBjb25zdCBvdXRwdXRFbGVtZW50ID0gZG9jdW1lbnQuZ2V0RWxlbWVudEJ5SWQob3V0cHV0SWQpOwogIG91dHB1dEVsZW1lbnQuaW5uZXJIVE1MID0gJyc7CgogIGNvbnN0IHBpY2tlZFByb21pc2UgPSBuZXcgUHJvbWlzZSgocmVzb2x2ZSkgPT4gewogICAgaW5wdXRFbGVtZW50LmFkZEV2ZW50TGlzdGVuZXIoJ2NoYW5nZScsIChlKSA9PiB7CiAgICAgIHJlc29sdmUoZS50YXJnZXQuZmlsZXMpOwogICAgfSk7CiAgfSk7CgogIGNvbnN0IGNhbmNlbCA9IGRvY3VtZW50LmNyZWF0ZUVsZW1lbnQoJ2J1dHRvbicpOwogIGlucHV0RWxlbWVudC5wYXJlbnRFbGVtZW50LmFwcGVuZENoaWxkKGNhbmNlbCk7CiAgY2FuY2VsLnRleHRDb250ZW50ID0gJ0NhbmNlbCB1cGxvYWQnOwogIGNvbnN0IGNhbmNlbFByb21pc2UgPSBuZXcgUHJvbWlzZSgocmVzb2x2ZSkgPT4gewogICAgY2FuY2VsLm9uY2xpY2sgPSAoKSA9PiB7CiAgICAgIHJlc29sdmUobnVsbCk7CiAgICB9OwogIH0pOwoKICAvLyBXYWl0IGZvciB0aGUgdXNlciB0byBwaWNrIHRoZSBmaWxlcy4KICBjb25zdCBmaWxlcyA9IHlpZWxkIHsKICAgIHByb21pc2U6IFByb21pc2UucmFjZShbcGlja2VkUHJvbWlzZSwgY2FuY2VsUHJvbWlzZV0pLAogICAgcmVzcG9uc2U6IHsKICAgICAgYWN0aW9uOiAnc3RhcnRpbmcnLAogICAgfQogIH07CgogIGNhbmNlbC5yZW1vdmUoKTsKCiAgLy8gRGlzYWJsZSB0aGUgaW5wdXQgZWxlbWVudCBzaW5jZSBmdXJ0aGVyIHBpY2tzIGFyZSBub3QgYWxsb3dlZC4KICBpbnB1dEVsZW1lbnQuZGlzYWJsZWQgPSB0cnVlOwoKICBpZiAoIWZpbGVzKSB7CiAgICByZXR1cm4gewogICAgICByZXNwb25zZTogewogICAgICAgIGFjdGlvbjogJ2NvbXBsZXRlJywKICAgICAgfQogICAgfTsKICB9CgogIGZvciAoY29uc3QgZmlsZSBvZiBmaWxlcykgewogICAgY29uc3QgbGkgPSBkb2N1bWVudC5jcmVhdGVFbGVtZW50KCdsaScpOwogICAgbGkuYXBwZW5kKHNwYW4oZmlsZS5uYW1lLCB7Zm9udFdlaWdodDogJ2JvbGQnfSkpOwogICAgbGkuYXBwZW5kKHNwYW4oCiAgICAgICAgYCgke2ZpbGUudHlwZSB8fCAnbi9hJ30pIC0gJHtmaWxlLnNpemV9IGJ5dGVzLCBgICsKICAgICAgICBgbGFzdCBtb2RpZmllZDogJHsKICAgICAgICAgICAgZmlsZS5sYXN0TW9kaWZpZWREYXRlID8gZmlsZS5sYXN0TW9kaWZpZWREYXRlLnRvTG9jYWxlRGF0ZVN0cmluZygpIDoKICAgICAgICAgICAgICAgICAgICAgICAgICAgICAgICAgICAgJ24vYSd9IC0gYCkpOwogICAgY29uc3QgcGVyY2VudCA9IHNwYW4oJzAlIGRvbmUnKTsKICAgIGxpLmFwcGVuZENoaWxkKHBlcmNlbnQpOwoKICAgIG91dHB1dEVsZW1lbnQuYXBwZW5kQ2hpbGQobGkpOwoKICAgIGNvbnN0IGZpbGVEYXRhUHJvbWlzZSA9IG5ldyBQcm9taXNlKChyZXNvbHZlKSA9PiB7CiAgICAgIGNvbnN0IHJlYWRlciA9IG5ldyBGaWxlUmVhZGVyKCk7CiAgICAgIHJlYWRlci5vbmxvYWQgPSAoZSkgPT4gewogICAgICAgIHJlc29sdmUoZS50YXJnZXQucmVzdWx0KTsKICAgICAgfTsKICAgICAgcmVhZGVyLnJlYWRBc0FycmF5QnVmZmVyKGZpbGUpOwogICAgfSk7CiAgICAvLyBXYWl0IGZvciB0aGUgZGF0YSB0byBiZSByZWFkeS4KICAgIGxldCBmaWxlRGF0YSA9IHlpZWxkIHsKICAgICAgcHJvbWlzZTogZmlsZURhdGFQcm9taXNlLAogICAgICByZXNwb25zZTogewogICAgICAgIGFjdGlvbjogJ2NvbnRpbnVlJywKICAgICAgfQogICAgfTsKCiAgICAvLyBVc2UgYSBjaHVua2VkIHNlbmRpbmcgdG8gYXZvaWQgbWVzc2FnZSBzaXplIGxpbWl0cy4gU2VlIGIvNjIxMTU2NjAuCiAgICBsZXQgcG9zaXRpb24gPSAwOwogICAgZG8gewogICAgICBjb25zdCBsZW5ndGggPSBNYXRoLm1pbihmaWxlRGF0YS5ieXRlTGVuZ3RoIC0gcG9zaXRpb24sIE1BWF9QQVlMT0FEX1NJWkUpOwogICAgICBjb25zdCBjaHVuayA9IG5ldyBVaW50OEFycmF5KGZpbGVEYXRhLCBwb3NpdGlvbiwgbGVuZ3RoKTsKICAgICAgcG9zaXRpb24gKz0gbGVuZ3RoOwoKICAgICAgY29uc3QgYmFzZTY0ID0gYnRvYShTdHJpbmcuZnJvbUNoYXJDb2RlLmFwcGx5KG51bGwsIGNodW5rKSk7CiAgICAgIHlpZWxkIHsKICAgICAgICByZXNwb25zZTogewogICAgICAgICAgYWN0aW9uOiAnYXBwZW5kJywKICAgICAgICAgIGZpbGU6IGZpbGUubmFtZSwKICAgICAgICAgIGRhdGE6IGJhc2U2NCwKICAgICAgICB9LAogICAgICB9OwoKICAgICAgbGV0IHBlcmNlbnREb25lID0gZmlsZURhdGEuYnl0ZUxlbmd0aCA9PT0gMCA/CiAgICAgICAgICAxMDAgOgogICAgICAgICAgTWF0aC5yb3VuZCgocG9zaXRpb24gLyBmaWxlRGF0YS5ieXRlTGVuZ3RoKSAqIDEwMCk7CiAgICAgIHBlcmNlbnQudGV4dENvbnRlbnQgPSBgJHtwZXJjZW50RG9uZX0lIGRvbmVgOwoKICAgIH0gd2hpbGUgKHBvc2l0aW9uIDwgZmlsZURhdGEuYnl0ZUxlbmd0aCk7CiAgfQoKICAvLyBBbGwgZG9uZS4KICB5aWVsZCB7CiAgICByZXNwb25zZTogewogICAgICBhY3Rpb246ICdjb21wbGV0ZScsCiAgICB9CiAgfTsKfQoKc2NvcGUuZ29vZ2xlID0gc2NvcGUuZ29vZ2xlIHx8IHt9OwpzY29wZS5nb29nbGUuY29sYWIgPSBzY29wZS5nb29nbGUuY29sYWIgfHwge307CnNjb3BlLmdvb2dsZS5jb2xhYi5fZmlsZXMgPSB7CiAgX3VwbG9hZEZpbGVzLAogIF91cGxvYWRGaWxlc0NvbnRpbnVlLAp9Owp9KShzZWxmKTsK",
              "ok": true,
              "headers": [
                [
                  "content-type",
                  "application/javascript"
                ]
              ],
              "status": 200,
              "status_text": ""
            }
          },
          "base_uri": "https://localhost:8080/",
          "height": 74
        },
        "id": "rUVY8WOqba1c",
        "outputId": "71c71ae7-2e30-4597-cc7e-11a08bb01ce3"
      },
      "execution_count": 3,
      "outputs": [
        {
          "output_type": "display_data",
          "data": {
            "text/plain": [
              "<IPython.core.display.HTML object>"
            ],
            "text/html": [
              "\n",
              "     <input type=\"file\" id=\"files-d3daef6c-872a-4af5-8219-2086c678ed3f\" name=\"files[]\" multiple disabled\n",
              "        style=\"border:none\" />\n",
              "     <output id=\"result-d3daef6c-872a-4af5-8219-2086c678ed3f\">\n",
              "      Upload widget is only available when the cell has been executed in the\n",
              "      current browser session. Please rerun this cell to enable.\n",
              "      </output>\n",
              "      <script src=\"/nbextensions/google.colab/files.js\"></script> "
            ]
          },
          "metadata": {}
        },
        {
          "output_type": "stream",
          "name": "stdout",
          "text": [
            "Saving blueprint_files.tsv to blueprint_files.tsv\n"
          ]
        }
      ]
    },
    {
      "cell_type": "markdown",
      "source": [
        "Filtering the tsv file to get rid of individuals with diseases, and only keeping the bigWig file format. We also only keep bisulfite sequencing data."
      ],
      "metadata": {
        "id": "Ymwfdg0jw5VA"
      }
    },
    {
      "cell_type": "code",
      "source": [
        "noDisease_bw_data = data_tsv[(data_tsv['Disease'] == 'None') & \n",
        "                             (data_tsv['Format'] == 'bigWig') & \n",
        "                             (data_tsv['Experiment'] == 'Bisulfite-Seq')]"
      ],
      "metadata": {
        "id": "VOQY2CHkbzDn"
      },
      "execution_count": 4,
      "outputs": []
    },
    {
      "cell_type": "markdown",
      "source": [
        "Types of cells present in the dataset. For now, I'll choose a macrophage sample, and a plasma cell"
      ],
      "metadata": {
        "id": "TcZMPRBRxBF9"
      }
    },
    {
      "cell_type": "code",
      "source": [
        "cell_types = noDisease_bw_data['Cell type'].unique()\n",
        "cell_types"
      ],
      "metadata": {
        "colab": {
          "base_uri": "https://localhost:8080/"
        },
        "id": "76vT2Ulwm-v3",
        "outputId": "3f652f21-678d-4aae-f258-6ce1c935cb16"
      },
      "execution_count": 5,
      "outputs": [
        {
          "output_type": "execute_result",
          "data": {
            "text/plain": [
              "array(['band form neutrophil', 'neutrophilic metamyelocyte',\n",
              "       'neutrophilic myelocyte', 'segmented neutrophil of bone marrow',\n",
              "       'hematopoietic multipotent progenitor cell', 'precursor B cell',\n",
              "       'precursor lymphocyte of B lineage', 'plasma cell',\n",
              "       'mature neutrophil', 'CD38-negative naive B cell',\n",
              "       'CD14-positive, CD16-negative classical monocyte',\n",
              "       'CD8-positive, alpha-beta T cell',\n",
              "       'cytotoxic CD56-dim natural killer cell',\n",
              "       'inflammatory macrophage', 'erythroblast',\n",
              "       'CD34-negative, CD41-positive, CD42-positive megakaryocyte cell',\n",
              "       'macrophage', 'endothelial cell of umbilical vein (proliferating)',\n",
              "       'endothelial cell of umbilical vein (resting)',\n",
              "       'alternatively activated macrophage',\n",
              "       'conventional dendritic cell',\n",
              "       'CD3-negative, CD4-positive, CD8-positive, double positive thymocyte',\n",
              "       'CD3-positive, CD4-positive, CD8-positive, double positive thymocyte',\n",
              "       'CD4-positive, alpha-beta thymocyte',\n",
              "       'CD8-positive, alpha-beta thymocyte', 'thymocyte',\n",
              "       'germinal center B cell', 'CD4-positive, alpha-beta T cell',\n",
              "       'immature conventional dendritic cell',\n",
              "       'mature conventional dendritic cell', 'osteoclast',\n",
              "       'effector memory CD8-positive, alpha-beta T cell',\n",
              "       'class switched memory B cell', 'memory B cell',\n",
              "       'central memory CD8-positive, alpha-beta T cell', 'monocyte',\n",
              "       'naive B cell', 'effector memory CD4-positive, alpha-beta T cell',\n",
              "       'regulatory T cell',\n",
              "       'effector memory CD8-positive, alpha-beta T cell, terminally differentiated',\n",
              "       'mature eosinophil',\n",
              "       'central memory CD4-positive, alpha-beta T cell',\n",
              "       'adult endothelial progenitor cell',\n",
              "       'mesenchymal stem cell of the bone marrow'], dtype=object)"
            ]
          },
          "metadata": {},
          "execution_count": 5
        }
      ]
    },
    {
      "cell_type": "markdown",
      "source": [
        "Get example of macrophage and plasma data, and extract its url."
      ],
      "metadata": {
        "id": "ot6wpC656LXS"
      }
    },
    {
      "cell_type": "code",
      "source": [
        "cell_type_1 = 'macrophage'\n",
        "cell_type_2 = 'plasma cell'\n",
        "\n",
        "assert cell_type_1 in cell_types, \"{} not a valid cell type\".format(cell_type_1)\n",
        "assert cell_type_2 in cell_types, \"{} not a valid cell type\".format(cell_type_2)\n",
        "\n",
        "cell1_data = noDisease_bw_data[noDisease_bw_data['Cell type'] == cell_type_1]\n",
        "cell2_data = noDisease_bw_data[noDisease_bw_data['Cell type'] == cell_type_2]\n",
        "\n",
        "cell1_call = cell1_data.iloc[0]\n",
        "cell1_cov = cell1_data.iloc[1]\n",
        "cell2_call = cell2_data.iloc[0]\n",
        "cell2_cov = cell2_data.iloc[1]\n",
        "\n",
        "cell1_call_url = cell1_call['URL']\n",
        "cell1_cov_url = cell1_cov['URL']\n",
        "cell2_call_url = cell2_call['URL']\n",
        "cell2_cov_url = cell2_cov['URL']\n",
        "\n",
        "cell1_call_filename = cell1_call_url.split(\"/\")[-1]\n",
        "cell1_cov_filename = cell1_cov_url.split(\"/\")[-1]\n",
        "cell2_call_filename = cell2_call_url.split(\"/\")[-1]\n",
        "cell2_cov_filename = cell2_cov_url.split(\"/\")[-1]"
      ],
      "metadata": {
        "id": "S_oc8tqHzkXK"
      },
      "execution_count": 6,
      "outputs": []
    },
    {
      "cell_type": "markdown",
      "source": [
        "Downloading the data at the four URLs! This will take around 10 minutes."
      ],
      "metadata": {
        "id": "pgrJ3vQrMP2b"
      }
    },
    {
      "cell_type": "code",
      "source": [
        "!wget '$cell1_call_url'\n",
        "!wget '$cell1_cov_url'\n",
        "!wget '$cell2_call_url'\n",
        "!wget '$cell2_cov_url'"
      ],
      "metadata": {
        "colab": {
          "base_uri": "https://localhost:8080/"
        },
        "id": "HvfCQqP5o71o",
        "outputId": "51cc57ea-6305-4343-ee15-794bbfaf5630"
      },
      "execution_count": 7,
      "outputs": [
        {
          "output_type": "stream",
          "name": "stdout",
          "text": [
            "--2022-06-30 18:08:38--  http://ftp.ebi.ac.uk/pub/databases/blueprint/data/homo_sapiens/GRCh38/cord_blood/S00BHQ/macrophage/Bisulfite-Seq/CNAG/S00BHQ51.CPG_methylation_calls.bs_call.GRCh38.20160531.bw\n",
            "Resolving ftp.ebi.ac.uk (ftp.ebi.ac.uk)... 193.62.193.138\n",
            "Connecting to ftp.ebi.ac.uk (ftp.ebi.ac.uk)|193.62.193.138|:80... connected.\n",
            "HTTP request sent, awaiting response... 200 OK\n",
            "Length: 125016699 (119M) [application/octet-stream]\n",
            "Saving to: ‘S00BHQ51.CPG_methylation_calls.bs_call.GRCh38.20160531.bw’\n",
            "\n",
            "S00BHQ51.CPG_methyl 100%[===================>] 119.22M   931KB/s    in 2m 13s  \n",
            "\n",
            "2022-06-30 18:10:53 (916 KB/s) - ‘S00BHQ51.CPG_methylation_calls.bs_call.GRCh38.20160531.bw’ saved [125016699/125016699]\n",
            "\n",
            "--2022-06-30 18:10:53--  http://ftp.ebi.ac.uk/pub/databases/blueprint/data/homo_sapiens/GRCh38/cord_blood/S00BHQ/macrophage/Bisulfite-Seq/CNAG/S00BHQ51.CPG_methylation_calls.bs_cov.GRCh38.20160531.bw\n",
            "Resolving ftp.ebi.ac.uk (ftp.ebi.ac.uk)... 193.62.193.138\n",
            "Connecting to ftp.ebi.ac.uk (ftp.ebi.ac.uk)|193.62.193.138|:80... connected.\n",
            "HTTP request sent, awaiting response... 200 OK\n",
            "Length: 112923116 (108M) [application/octet-stream]\n",
            "Saving to: ‘S00BHQ51.CPG_methylation_calls.bs_cov.GRCh38.20160531.bw’\n",
            "\n",
            "S00BHQ51.CPG_methyl  11%[=>                  ]  12.03M  25.5KB/s    in 2m 32s  \n",
            "\n",
            "2022-06-30 18:13:28 (80.9 KB/s) - Connection closed at byte 12616224. Retrying.\n",
            "\n",
            "--2022-06-30 18:13:29--  (try: 2)  http://ftp.ebi.ac.uk/pub/databases/blueprint/data/homo_sapiens/GRCh38/cord_blood/S00BHQ/macrophage/Bisulfite-Seq/CNAG/S00BHQ51.CPG_methylation_calls.bs_cov.GRCh38.20160531.bw\n",
            "Connecting to ftp.ebi.ac.uk (ftp.ebi.ac.uk)|193.62.193.138|:80... connected.\n",
            "HTTP request sent, awaiting response... 206 Partial Content\n",
            "Length: 112923116 (108M), 100306892 (96M) remaining [application/octet-stream]\n",
            "Saving to: ‘S00BHQ51.CPG_methylation_calls.bs_cov.GRCh38.20160531.bw’\n",
            "\n",
            "S00BHQ51.CPG_methyl  15%[++>                 ]  16.55M  13.6KB/s    in 65s     \n",
            "\n",
            "2022-06-30 18:14:37 (71.3 KB/s) - Connection closed at byte 17352248. Retrying.\n",
            "\n",
            "--2022-06-30 18:14:39--  (try: 3)  http://ftp.ebi.ac.uk/pub/databases/blueprint/data/homo_sapiens/GRCh38/cord_blood/S00BHQ/macrophage/Bisulfite-Seq/CNAG/S00BHQ51.CPG_methylation_calls.bs_cov.GRCh38.20160531.bw\n",
            "Connecting to ftp.ebi.ac.uk (ftp.ebi.ac.uk)|193.62.193.138|:80... connected.\n",
            "HTTP request sent, awaiting response... 206 Partial Content\n",
            "Length: 112923116 (108M), 95570868 (91M) remaining [application/octet-stream]\n",
            "Saving to: ‘S00BHQ51.CPG_methylation_calls.bs_cov.GRCh38.20160531.bw’\n",
            "\n",
            "S00BHQ51.CPG_methyl  86%[+++=============>   ]  92.96M  19.0KB/s    in 5m 14s  \n",
            "\n",
            "2022-06-30 18:19:55 (249 KB/s) - Connection closed at byte 97474240. Retrying.\n",
            "\n",
            "--2022-06-30 18:19:58--  (try: 4)  http://ftp.ebi.ac.uk/pub/databases/blueprint/data/homo_sapiens/GRCh38/cord_blood/S00BHQ/macrophage/Bisulfite-Seq/CNAG/S00BHQ51.CPG_methylation_calls.bs_cov.GRCh38.20160531.bw\n",
            "Connecting to ftp.ebi.ac.uk (ftp.ebi.ac.uk)|193.62.193.138|:80... connected.\n",
            "HTTP request sent, awaiting response... 206 Partial Content\n",
            "Length: 112923116 (108M), 15448876 (15M) remaining [application/octet-stream]\n",
            "Saving to: ‘S00BHQ51.CPG_methylation_calls.bs_cov.GRCh38.20160531.bw’\n",
            "\n",
            "S00BHQ51.CPG_methyl 100%[+++++++++++++++++==>] 107.69M   943KB/s    in 18s     \n",
            "\n",
            "2022-06-30 18:20:20 (835 KB/s) - ‘S00BHQ51.CPG_methylation_calls.bs_cov.GRCh38.20160531.bw’ saved [112923116/112923116]\n",
            "\n",
            "--2022-06-30 18:20:20--  http://ftp.ebi.ac.uk/pub/databases/blueprint/data/homo_sapiens/GRCh38/bone_marrow/MO7071/plasma_cell/Bisulfite-Seq/CNAG/G202.CPG_methylation_calls.bs_call.GRCh38.20160531.bw\n",
            "Resolving ftp.ebi.ac.uk (ftp.ebi.ac.uk)... 193.62.193.138\n",
            "Connecting to ftp.ebi.ac.uk (ftp.ebi.ac.uk)|193.62.193.138|:80... connected.\n",
            "HTTP request sent, awaiting response... 200 OK\n",
            "Length: 154166573 (147M) [application/octet-stream]\n",
            "Saving to: ‘G202.CPG_methylation_calls.bs_call.GRCh38.20160531.bw’\n",
            "\n",
            "G202.CPG_methylatio   2%[                    ]   4.01M  13.6KB/s    in 65s     \n",
            "\n",
            "2022-06-30 18:21:30 (63.5 KB/s) - Connection closed at byte 4208184. Retrying.\n",
            "\n",
            "--2022-06-30 18:21:31--  (try: 2)  http://ftp.ebi.ac.uk/pub/databases/blueprint/data/homo_sapiens/GRCh38/bone_marrow/MO7071/plasma_cell/Bisulfite-Seq/CNAG/G202.CPG_methylation_calls.bs_call.GRCh38.20160531.bw\n",
            "Connecting to ftp.ebi.ac.uk (ftp.ebi.ac.uk)|193.62.193.138|:80... connected.\n",
            "HTTP request sent, awaiting response... 206 Partial Content\n",
            "Length: 154166573 (147M), 149958389 (143M) remaining [application/octet-stream]\n",
            "Saving to: ‘G202.CPG_methylation_calls.bs_call.GRCh38.20160531.bw’\n",
            "\n",
            "G202.CPG_methylatio 100%[===================>] 147.02M   929KB/s    in 4m 9s   \n",
            "\n",
            "2022-06-30 18:25:41 (588 KB/s) - ‘G202.CPG_methylation_calls.bs_call.GRCh38.20160531.bw’ saved [154166573/154166573]\n",
            "\n",
            "--2022-06-30 18:25:41--  http://ftp.ebi.ac.uk/pub/databases/blueprint/data/homo_sapiens/GRCh38/bone_marrow/MO7071/plasma_cell/Bisulfite-Seq/CNAG/G202.CPG_methylation_calls.bs_cov.GRCh38.20160531.bw\n",
            "Resolving ftp.ebi.ac.uk (ftp.ebi.ac.uk)... 193.62.193.138\n",
            "Connecting to ftp.ebi.ac.uk (ftp.ebi.ac.uk)|193.62.193.138|:80... connected.\n",
            "HTTP request sent, awaiting response... 200 OK\n",
            "Length: 121094058 (115M) [application/octet-stream]\n",
            "Saving to: ‘G202.CPG_methylation_calls.bs_cov.GRCh38.20160531.bw’\n",
            "\n",
            "G202.CPG_methylatio   0%[                    ] 292.01K   265KB/s    in 1.1s    \n",
            "\n",
            "2022-06-30 18:25:56 (265 KB/s) - Connection closed at byte 299020. Retrying.\n",
            "\n",
            "--2022-06-30 18:25:57--  (try: 2)  http://ftp.ebi.ac.uk/pub/databases/blueprint/data/homo_sapiens/GRCh38/bone_marrow/MO7071/plasma_cell/Bisulfite-Seq/CNAG/G202.CPG_methylation_calls.bs_cov.GRCh38.20160531.bw\n",
            "Connecting to ftp.ebi.ac.uk (ftp.ebi.ac.uk)|193.62.193.138|:80... connected.\n",
            "HTTP request sent, awaiting response... 206 Partial Content\n",
            "Length: 121094058 (115M), 120795038 (115M) remaining [application/octet-stream]\n",
            "Saving to: ‘G202.CPG_methylation_calls.bs_cov.GRCh38.20160531.bw’\n",
            "\n",
            "G202.CPG_methylatio 100%[===================>] 115.48M   919KB/s    in 2m 8s   \n",
            "\n",
            "2022-06-30 18:28:07 (922 KB/s) - ‘G202.CPG_methylation_calls.bs_cov.GRCh38.20160531.bw’ saved [121094058/121094058]\n",
            "\n"
          ]
        }
      ]
    },
    {
      "cell_type": "code",
      "source": [
        "# Annotations & bs_cov / bs_call names\n",
        "CELL_TYPE_TO_FILE_ID = {\n",
        "    \"Macrophage\": [\"S00BHQ51\"],\n",
        "    \"Plasma_cell\": [\"G202\"]\n",
        "}\n",
        "\n",
        "# Reverse mapping of file id -> cell type\n",
        "# e.g.  'S01BHIA1': 'Monocyte'\n",
        "FILE_ID_TO_CELL_TYPE = {sample:cell_type for cell_type, sample_list in CELL_TYPE_TO_FILE_ID.items() for sample in sample_list}\n",
        "\n",
        "# If the blueprint dict changes, we need to replace our cache files\n",
        "# This is a tiny checksum of the dictionary state, which we incorporate into\n",
        "# our cache filenames below.\n",
        "CELL_TYPE_DICT_SIG = str(hex(abs(hash(json.dumps(CELL_TYPE_TO_FILE_ID, sort_keys=True))))[2:10])\n",
        "print(f\"Dictionary signature for cache files: {CELL_TYPE_DICT_SIG}\\n\")\n",
        "\n",
        "\n",
        "BLUEPRINT_FILEKEYS = list(itertools.chain.from_iterable(CELL_TYPE_TO_FILE_ID.values()))\n",
        "\n",
        "# Validity testing\n",
        "# assert all(len(vals) > 1 for vals in CELL_TYPE_TO_FILE_ID.values()), \"We need more than one example per cell type.\"\n",
        "assert len(BLUEPRINT_FILEKEYS) == len(set(BLUEPRINT_FILEKEYS)), \"One filename is duplicated in the cell types\"\n",
        "\n",
        "print(f\"Number of Blueprint cell types: {len(CELL_TYPE_TO_FILE_ID.keys())}\")\n",
        "print(f\"Number of Blueprint raw files: {len(BLUEPRINT_FILEKEYS)}\")"
      ],
      "metadata": {
        "colab": {
          "base_uri": "https://localhost:8080/"
        },
        "id": "sB3SAaUpbO_5",
        "outputId": "50c8b630-8cc0-439a-a13c-eb60614b13be"
      },
      "execution_count": 8,
      "outputs": [
        {
          "output_type": "stream",
          "name": "stdout",
          "text": [
            "Dictionary signature for cache files: 1fd742fe\n",
            "\n",
            "Number of Blueprint cell types: 2\n",
            "Number of Blueprint raw files: 2\n"
          ]
        }
      ]
    },
    {
      "cell_type": "markdown",
      "source": [
        "# Create shared **cov** map\n",
        "\n",
        "Load coverage (if >minimum below) across all files, then determine the set() shared across **all** samples.\n",
        "\n",
        "IF a locus (e.g. \"chr1:123\") is missing from **one** single sample, it will be **excluded** from our entire analysis.\n",
        "\n",
        "IF a locus has \\<10 reads in **one** single sample, it will be **excluded** from our entire analysis."
      ],
      "metadata": {
        "id": "s0_wxaaTEdZM"
      }
    },
    {
      "cell_type": "code",
      "source": [
        "CHROMOSOMES = [\"chr\" + str(i) for i in range(1, 23)] + [\"chrX\"] + [\"chrY\"]\n",
        "IGNORE_CACHE = False\n",
        "\n",
        "BLUEPRINT_CPG_COV_MINIMUM = 10\n",
        "\n",
        "RUN_SIGNATURE = f\"{BLUEPRINT_CPG_COV_MINIMUM}_{CELL_TYPE_DICT_SIG}\"\n",
        "\n",
        "assert type(BLUEPRINT_CPG_COV_MINIMUM) is int\n",
        "assert BLUEPRINT_CPG_COV_MINIMUM > 0\n",
        "\n",
        "print(f\"Minimum Blueprint coverage limit: {BLUEPRINT_CPG_COV_MINIMUM}\")\n",
        "print(f\" (CpGs with fewer than {BLUEPRINT_CPG_COV_MINIMUM} reads in *any* sample will be ignored.)\\n\")\n",
        "\n",
        "# Our output / save file\n",
        "INTERSECTED_COVERAGE_BED = f\"intersected_bs_cov_min_{RUN_SIGNATURE}.bed\"\n",
        "\n",
        "print(f\"Coverage BED: {INTERSECTED_COVERAGE_BED}\")\n",
        "\n",
        "if os.path.exists(INTERSECTED_COVERAGE_BED) and not IGNORE_CACHE:\n",
        "    print(\"\\tPost-processed cov .bed already exists. (Skipping raw Blueprint bs_cov parsing.)\")\n",
        "else:\n",
        "    print(\"\\t.bed does not exist yet -- parsing bs_cov .bw files.\")\n",
        "    INTERSECTED_BS_COV_POSITIONS = {}\n",
        "\n",
        "    for file_key in tqdm(BLUEPRINT_FILEKEYS):\n",
        "        with pyBigWig.open(file_key + \".CPG_methylation_calls.bs_cov.GRCh38.20160531.bw\") as bw_object:\n",
        "            bw_header = bw_object.header()\n",
        "            if bw_header['nBasesCovered'] < 1e7 or bw_header['sumData'] < 1e8:\n",
        "                print('\\t\\t*** WARNING: Input .bw has few reads or low coverage. This may cause unexpected results, consider removing this file.')\n",
        "                print(f\"\\t\\tnBasesCovered: {bw_header['nBasesCovered']}, sumData: {bw_header['sumData']}\")\n",
        "            for chrom in CHROMOSOMES:\n",
        "                current_loop_values = set([start for start, _, cov in bw_object.intervals(\"chr1\") if cov >= BLUEPRINT_CPG_COV_MINIMUM])\n",
        "                existing_values = INTERSECTED_BS_COV_POSITIONS.get(chrom, current_loop_values)\n",
        "                INTERSECTED_BS_COV_POSITIONS[chrom] = existing_values.intersection(current_loop_values)\n",
        "            # print(track)\n",
        "\n",
        "    # Save this hard work as a .bed for later recovery if needed\n",
        "    with open(INTERSECTED_COVERAGE_BED, 'w') as outfile:\n",
        "        # A .bed is just a .tsv with ['chrom', 'chromStart', 'chromEnd']\n",
        "        bed_writer = csv.writer(outfile, delimiter='\\t')\n",
        "        for chr in CHROMOSOMES:\n",
        "            for entry in INTERSECTED_BS_COV_POSITIONS[chr]:\n",
        "                bed_writer.writerow([chr, entry, entry+1])\n",
        "\n",
        "    print(f\"\\nWrote data to: {INTERSECTED_COVERAGE_BED}\") # Unsorted"
      ],
      "metadata": {
        "colab": {
          "base_uri": "https://localhost:8080/",
          "height": 170,
          "referenced_widgets": [
            "76e03c82d3d14b25b0a8c1f45cdc3035",
            "986c034ba1a844079e03c50bcce7cd45",
            "cc77f649ae87499c8a93e92639f680b0",
            "4a2d4c7183ea4a4c844dbd25bce84f48",
            "e7f2e52548294e71beb7bb6201042f57",
            "a5d1b0bca6be4d83be80b3ba7dcf421c",
            "7fb9896bed9a4c7da691a6ba2edbad18",
            "c5c7f5f982644baa94026a78da46b38c",
            "e9d9e4ee41694ad58694ed1a03c492f4",
            "9c61fbf420f1436a9f1cccc20868e73b",
            "a9c19f20da7c4756a0d7628c877caa9d"
          ]
        },
        "id": "AFBC6h3kiOmB",
        "outputId": "8d4814e7-9e1b-4ba6-9567-b8113e9e61aa"
      },
      "execution_count": 9,
      "outputs": [
        {
          "output_type": "stream",
          "name": "stdout",
          "text": [
            "Minimum Blueprint coverage limit: 10\n",
            " (CpGs with fewer than 10 reads in *any* sample will be ignored.)\n",
            "\n",
            "Coverage BED: intersected_bs_cov_min_10_1fd742fe.bed\n",
            "\t.bed does not exist yet -- parsing bs_cov .bw files.\n"
          ]
        },
        {
          "output_type": "display_data",
          "data": {
            "text/plain": [
              "  0%|          | 0/2 [00:00<?, ?it/s]"
            ],
            "application/vnd.jupyter.widget-view+json": {
              "version_major": 2,
              "version_minor": 0,
              "model_id": "76e03c82d3d14b25b0a8c1f45cdc3035"
            }
          },
          "metadata": {}
        },
        {
          "output_type": "stream",
          "name": "stdout",
          "text": [
            "\n",
            "Wrote data to: intersected_bs_cov_min_10_1fd742fe.bed\n"
          ]
        }
      ]
    },
    {
      "cell_type": "markdown",
      "source": [
        "# Removing ENCODE Regions (Doesn't Work)"
      ],
      "metadata": {
        "id": "WItxmabtqkIE"
      }
    },
    {
      "cell_type": "markdown",
      "source": [
        "Encode defines a standard list of \"bad\" regions -- very low complexity / information content, etc. that show up in some studies but are not informative. We remove them and do some other standard data cleaning."
      ],
      "metadata": {
        "id": "hI5ItooDEtVF"
      }
    },
    {
      "cell_type": "code",
      "source": [
        "# Load the .bed from above\n",
        "raw_bs_cov_bed = pybedtools.BedTool(INTERSECTED_COVERAGE_BED)\n",
        "print(f\"Number of entries in bs_cov (raw): {len(raw_bs_cov_bed):,}\")\n",
        "\n",
        "if not os.path.exists(\"ENCFF356LFX.bed.gz\"):\n",
        "    print(\"Downloading ENCODE DAC Exclusion List\")\n",
        "    urllib.request.urlretrieve(\"https://www.encodeproject.org/files/ENCFF356LFX/@@download/ENCFF356LFX.bed.gz\", \"ENCFF356LFX.bed.gz\")\n",
        "\n",
        "excluded_regions = pybedtools.BedTool(\"ENCFF356LFX.bed.gz\")\n",
        "print(f\"Number of entries in excluded_regions: {len(excluded_regions):,}\")\n",
        "assert len(excluded_regions) > 900 # 910 as of 1/2022\n",
        "\n",
        "# .saveas forces this to render, otherwise may be a generator\n",
        "# TODO: Fix path to be more specific\n",
        "cleaned_sorted_bs_cov = raw_bs_cov_bed.subtract(excluded_regions).sort().saveas('bs_cov_cleaned_sorted.bed')\n",
        "print(f\"Number of remaining bs_cov entries: {len(cleaned_sorted_bs_cov):,}\")\n",
        "# assert len(cleaned_sorted_bs_cov) > 90000 # We expect about 90k entries\n",
        "\n",
        "\n",
        "# Convert `bs_cov_cleaned_sorted` to a dict too:\n",
        "#  key: chr\n",
        "#  val: [sorted list of bs_cov positions]\n",
        "# NOTE: This works because dicts are insertion ordered as of Python>3.7\n",
        "BS_COV_POSITIONS = {}\n",
        "for bed_entry in cleaned_sorted_bs_cov:\n",
        "    BS_COV_POSITIONS.setdefault(bed_entry.chrom, []).append(bed_entry.start)"
      ],
      "metadata": {
        "colab": {
          "base_uri": "https://localhost:8080/"
        },
        "id": "O2PpXQc-D53g",
        "outputId": "75b8a150-a760-4a93-d3c4-2ad7d50238de"
      },
      "execution_count": 10,
      "outputs": [
        {
          "output_type": "stream",
          "name": "stdout",
          "text": [
            "Number of entries in bs_cov (raw): 38,494,608\n",
            "Downloading ENCODE DAC Exclusion List\n",
            "Number of entries in excluded_regions: 910\n"
          ]
        },
        {
          "output_type": "stream",
          "name": "stderr",
          "text": [
            "***** WARNING: File groupby has inconsistent naming convention for record:\n",
            "chr1\t8388609\t8388610\r\n",
            "\n",
            "***** WARNING: File groupby has inconsistent naming convention for record:\n",
            "chr1\t8388609\t8388610\r\n",
            "\n"
          ]
        },
        {
          "output_type": "stream",
          "name": "stdout",
          "text": [
            "Number of remaining bs_cov entries: 0\n"
          ]
        }
      ]
    },
    {
      "cell_type": "markdown",
      "source": [
        "# Load bs_call data"
      ],
      "metadata": {
        "id": "hlav7jFbqshl"
      }
    },
    {
      "cell_type": "code",
      "source": [
        "FILE_ID_TO_CPG_CALLS = { }\n",
        "\n",
        "# cache_file = \"bs_call_min_\" + str(BLUEPRINT_CPG_COV_MINIMUM) + \".json\"\n",
        "print(\"Parsing bs_call files. [This should take ~10 minutes.]\")\n",
        "for file_key in tqdm(BLUEPRINT_FILEKEYS):\n",
        "    print(f\"{file_key}\")\n",
        "    FILE_ID_TO_CPG_CALLS[file_key] = {}\n",
        "    with pyBigWig.open(file_key + \".CPG_methylation_calls.bs_call.GRCh38.20160531.bw\") as bw_object:\n",
        "        for chrom in CHROMOSOMES:\n",
        "            # This is more nuanced than the bs_cov data, since we only want to look at the \n",
        "            # CpGs that were covered across all samples. (The intervals now in BS_COV_POSITIONS).\n",
        "\n",
        "            # Grabbing the entire chr interval is super slow\n",
        "            # FILE_ID_TO_CPG_CALLS[file_key][chrom] = [i for pos, _, i in bw_object.intervals(chrom) if pos in shared_pos_for_this_chromosome]\n",
        "            \n",
        "            # Each .bw interval is a nested tuple of: ((start, end, value))\n",
        "            # We extract all the values that overlap our bs_cov set.\n",
        "            # FILE_ID_TO_CPG_CALLS[file_key][chrom] = [bw_object.intervals(chrom, pos, pos+1)[0][2] for pos in INTERSECTED_BS_COV_POSITIONS[chrom]]\n",
        "            temp = []\n",
        "            for pos in INTERSECTED_BS_COV_POSITIONS[chrom]:\n",
        "                try:\n",
        "                  temp.append(bw_object.intervals(chrom, pos, pos+1)[0][2])\n",
        "                  FILE_ID_TO_CPG_CALLS[file_key][chrom] = temp\n",
        "                except:\n",
        "                  print(bw_object.intervals(chrom, pos, pos+1))\n",
        "                  break"
      ],
      "metadata": {
        "colab": {
          "base_uri": "https://localhost:8080/",
          "height": 899,
          "referenced_widgets": [
            "8baa44d862454696b5eee0bab94ade65",
            "e5d4d2ee5acd492085733ff80244348d",
            "3ff9ddfdf9564c2a94f521a0d2e40988",
            "a5ebc854d91e421c86ecfe216e5ad0ba",
            "ddef7df94223497ea1c15cdd676e24a6",
            "a401473571e84fada0e9ddb599e5c0e0",
            "c565bda6896647368681d04691394fc8",
            "bdee2a9201cd4bcc97c73611fdd4e25a",
            "e1f796dc71014fcabbb94f303fe3660f",
            "2070279b8f284b8fb6fd426beda197d8",
            "5af1532d8c064a96badef1fb82989af6"
          ]
        },
        "id": "gfy9TJrlAfeB",
        "outputId": "60ff2acc-6b63-4364-d209-11d6865cebc1"
      },
      "execution_count": 25,
      "outputs": [
        {
          "output_type": "stream",
          "name": "stdout",
          "text": [
            "Parsing bs_call files. [This should take ~10 minutes.]\n"
          ]
        },
        {
          "output_type": "display_data",
          "data": {
            "text/plain": [
              "  0%|          | 0/2 [00:00<?, ?it/s]"
            ],
            "application/vnd.jupyter.widget-view+json": {
              "version_major": 2,
              "version_minor": 0,
              "model_id": "8baa44d862454696b5eee0bab94ade65"
            }
          },
          "metadata": {}
        },
        {
          "output_type": "stream",
          "name": "stdout",
          "text": [
            "S00BHQ51\n",
            "None\n",
            "None\n",
            "None\n",
            "None\n",
            "None\n",
            "None\n",
            "None\n",
            "None\n",
            "None\n",
            "None\n",
            "None\n",
            "None\n",
            "None\n",
            "None\n",
            "None\n",
            "None\n",
            "None\n",
            "None\n",
            "None\n",
            "None\n",
            "None\n",
            "None\n",
            "None\n",
            "G202\n",
            "None\n",
            "None\n",
            "None\n",
            "None\n",
            "None\n",
            "None\n",
            "None\n",
            "None\n",
            "None\n",
            "None\n",
            "None\n",
            "None\n",
            "None\n",
            "None\n",
            "None\n",
            "None\n",
            "None\n",
            "None\n",
            "None\n",
            "None\n",
            "None\n",
            "None\n",
            "None\n"
          ]
        }
      ]
    },
    {
      "cell_type": "code",
      "source": [
        "r"
      ],
      "metadata": {
        "id": "FZ_JeTds5qff"
      },
      "execution_count": null,
      "outputs": []
    }
  ]
}