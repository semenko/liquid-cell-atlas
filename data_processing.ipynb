{
  "cells": [
    {
      "cell_type": "markdown",
      "metadata": {
        "id": "view-in-github",
        "colab_type": "text"
      },
      "source": [
        "<a href=\"https://colab.research.google.com/github/semenko/liquid-cell-atlas/blob/main/data_processing.ipynb\" target=\"_parent\"><img src=\"https://colab.research.google.com/assets/colab-badge.svg\" alt=\"Open In Colab\"/></a>"
      ]
    },
    {
      "cell_type": "markdown",
      "metadata": {
        "id": "NT3ulHYicog6"
      },
      "source": [
        "# Import Necessary Libraries"
      ]
    },
    {
      "cell_type": "code",
      "execution_count": 2,
      "metadata": {
        "colab": {
          "base_uri": "https://localhost:8080/"
        },
        "id": "LcfesrKDApQG",
        "outputId": "1d712871-6843-4a99-9c6b-f0f152aac5a6"
      },
      "outputs": [
        {
          "output_type": "stream",
          "name": "stdout",
          "text": [
            "Looking in indexes: https://pypi.org/simple, https://us-python.pkg.dev/colab-wheels/public/simple/\n",
            "Collecting pyBigWig\n",
            "  Downloading pyBigWig-0.3.18.tar.gz (64 kB)\n",
            "\u001b[K     |████████████████████████████████| 64 kB 3.4 MB/s \n",
            "\u001b[?25hCollecting pybedtools\n",
            "  Downloading pybedtools-0.9.0.tar.gz (12.5 MB)\n",
            "\u001b[K     |████████████████████████████████| 12.5 MB 30.7 MB/s \n",
            "\u001b[?25hCollecting gunzip\n",
            "  Downloading gunzip-0.1.10-py2.py3-none-any.whl (3.0 kB)\n",
            "Requirement already satisfied: six in /usr/local/lib/python3.7/dist-packages (from pybedtools) (1.15.0)\n",
            "Collecting pysam\n",
            "  Downloading pysam-0.19.1-cp37-cp37m-manylinux_2_24_x86_64.whl (15.1 MB)\n",
            "\u001b[K     |████████████████████████████████| 15.1 MB 49.2 MB/s \n",
            "\u001b[?25hCollecting microapp>=0.2.3\n",
            "  Downloading microapp-0.3.15-py2.py3-none-any.whl (31 kB)\n",
            "Building wheels for collected packages: pyBigWig, pybedtools\n",
            "  Building wheel for pyBigWig (setup.py) ... \u001b[?25l\u001b[?25hdone\n",
            "  Created wheel for pyBigWig: filename=pyBigWig-0.3.18-cp37-cp37m-linux_x86_64.whl size=197008 sha256=18e3c5d6f4745d50ab0cc0a10bb1b1a8c4bbf159d3cff3939ab0f186e5143158\n",
            "  Stored in directory: /root/.cache/pip/wheels/28/eb/46/c761563ba38bd516bcc6accde3d4188cd84eec067f9201cbec\n",
            "  Building wheel for pybedtools (setup.py) ... \u001b[?25l\u001b[?25hdone\n",
            "  Created wheel for pybedtools: filename=pybedtools-0.9.0-cp37-cp37m-linux_x86_64.whl size=13616834 sha256=b6b9a4ec3a0ae10c32690621a2ef0a5c062cd3ab291b96251eb4f820c78d2ab8\n",
            "  Stored in directory: /root/.cache/pip/wheels/7a/44/0d/3a7449885adaf8ebb157da8c3c834a712f48b3b3b84ba51dda\n",
            "Successfully built pyBigWig pybedtools\n",
            "Installing collected packages: pysam, microapp, pyBigWig, pybedtools, gunzip\n",
            "Successfully installed gunzip-0.1.10 microapp-0.3.15 pyBigWig-0.3.18 pybedtools-0.9.0 pysam-0.19.1\n",
            "Reading package lists... Done\n",
            "Building dependency tree       \n",
            "Reading state information... Done\n",
            "The following package was automatically installed and is no longer required:\n",
            "  libnvidia-common-460\n",
            "Use 'apt autoremove' to remove it.\n",
            "The following NEW packages will be installed:\n",
            "  bedtools\n",
            "0 upgraded, 1 newly installed, 0 to remove and 62 not upgraded.\n",
            "Need to get 577 kB of archives.\n",
            "After this operation, 2,040 kB of additional disk space will be used.\n",
            "Get:1 http://archive.ubuntu.com/ubuntu bionic/universe amd64 bedtools amd64 2.26.0+dfsg-5 [577 kB]\n",
            "Fetched 577 kB in 1s (893 kB/s)\n",
            "Selecting previously unselected package bedtools.\n",
            "(Reading database ... 155639 files and directories currently installed.)\n",
            "Preparing to unpack .../bedtools_2.26.0+dfsg-5_amd64.deb ...\n",
            "Unpacking bedtools (2.26.0+dfsg-5) ...\n",
            "Setting up bedtools (2.26.0+dfsg-5) ...\n"
          ]
        }
      ],
      "source": [
        "!pip install pyBigWig pybedtools gunzip\n",
        "!apt install bedtools"
      ]
    },
    {
      "cell_type": "code",
      "execution_count": 3,
      "metadata": {
        "id": "9_mdlbHEVKH6",
        "colab": {
          "base_uri": "https://localhost:8080/"
        },
        "outputId": "b4592881-62c6-4b78-fe08-0a470f925301"
      },
      "outputs": [
        {
          "output_type": "stream",
          "name": "stdout",
          "text": [
            "Mounted at /content/drive\n"
          ]
        }
      ],
      "source": [
        "import pandas as pd\n",
        "from google.colab import files\n",
        "import io\n",
        "import json\n",
        "import itertools\n",
        "import numpy as np\n",
        "import altair as alt\n",
        "from tqdm.notebook import tqdm\n",
        "import csv\n",
        "import os\n",
        "import urllib\n",
        "import pandas as pd\n",
        "import altair as alt\n",
        "from altair import data_transformers\n",
        "import pickle\n",
        "from google.colab import drive\n",
        "\n",
        "import pyBigWig\n",
        "import pybedtools\n",
        "\n",
        "drive.mount(\"/content/drive\")"
      ]
    },
    {
      "cell_type": "markdown",
      "metadata": {
        "id": "9NPsWXlCcp99"
      },
      "source": [
        "# Get TSV of all data from Blueprint, Filter and Download it"
      ]
    },
    {
      "cell_type": "code",
      "execution_count": null,
      "metadata": {
        "id": "rUVY8WOqba1c"
      },
      "outputs": [],
      "source": [
        "# Download the TSV file from http://dcc.blueprint-epigenome.eu/#/files, and upload it here\n",
        "# file = files.upload()\n",
        "! wget 'http://dcc.blueprint-epigenome.eu/data/blueprint_files.tsv'\n",
        "data_tsv = pd.read_csv('blueprint_files.tsv', sep='\\t')"
      ]
    },
    {
      "cell_type": "markdown",
      "metadata": {
        "id": "Ymwfdg0jw5VA"
      },
      "source": [
        "Filtering the tsv file to get rid of individuals with diseases, and only keeping the bigWig file format. We also only keep bisulfite sequencing data."
      ]
    },
    {
      "cell_type": "code",
      "execution_count": null,
      "metadata": {
        "id": "VOQY2CHkbzDn"
      },
      "outputs": [],
      "source": [
        "noDisease_bw_data = data_tsv[(data_tsv['Disease'] == 'None') & \n",
        "                             (data_tsv['Format'] == 'bigWig') & \n",
        "                             (data_tsv['Experiment'] == 'Bisulfite-Seq')]"
      ]
    },
    {
      "cell_type": "markdown",
      "metadata": {
        "id": "TcZMPRBRxBF9"
      },
      "source": [
        "Types of cells present in the dataset. For now, I'll choose a macrophage sample, and a plasma cell"
      ]
    },
    {
      "cell_type": "code",
      "execution_count": null,
      "metadata": {
        "colab": {
          "base_uri": "https://localhost:8080/"
        },
        "id": "76vT2Ulwm-v3",
        "outputId": "74cc2d83-eff7-4504-8aec-e8a9ae7314b2"
      },
      "outputs": [
        {
          "output_type": "execute_result",
          "data": {
            "text/plain": [
              "array(['band form neutrophil', 'neutrophilic metamyelocyte',\n",
              "       'neutrophilic myelocyte', 'segmented neutrophil of bone marrow',\n",
              "       'hematopoietic multipotent progenitor cell', 'precursor B cell',\n",
              "       'precursor lymphocyte of B lineage', 'plasma cell',\n",
              "       'mature neutrophil', 'CD38-negative naive B cell',\n",
              "       'CD14-positive, CD16-negative classical monocyte',\n",
              "       'CD8-positive, alpha-beta T cell',\n",
              "       'cytotoxic CD56-dim natural killer cell',\n",
              "       'inflammatory macrophage', 'erythroblast',\n",
              "       'CD34-negative, CD41-positive, CD42-positive megakaryocyte cell',\n",
              "       'macrophage', 'endothelial cell of umbilical vein (proliferating)',\n",
              "       'endothelial cell of umbilical vein (resting)',\n",
              "       'alternatively activated macrophage',\n",
              "       'conventional dendritic cell',\n",
              "       'CD3-negative, CD4-positive, CD8-positive, double positive thymocyte',\n",
              "       'CD3-positive, CD4-positive, CD8-positive, double positive thymocyte',\n",
              "       'CD4-positive, alpha-beta thymocyte',\n",
              "       'CD8-positive, alpha-beta thymocyte', 'thymocyte',\n",
              "       'germinal center B cell', 'CD4-positive, alpha-beta T cell',\n",
              "       'immature conventional dendritic cell',\n",
              "       'mature conventional dendritic cell', 'osteoclast',\n",
              "       'effector memory CD8-positive, alpha-beta T cell',\n",
              "       'class switched memory B cell', 'memory B cell',\n",
              "       'central memory CD8-positive, alpha-beta T cell', 'monocyte',\n",
              "       'naive B cell', 'effector memory CD4-positive, alpha-beta T cell',\n",
              "       'regulatory T cell',\n",
              "       'effector memory CD8-positive, alpha-beta T cell, terminally differentiated',\n",
              "       'mature eosinophil',\n",
              "       'central memory CD4-positive, alpha-beta T cell',\n",
              "       'adult endothelial progenitor cell',\n",
              "       'mesenchymal stem cell of the bone marrow'], dtype=object)"
            ]
          },
          "metadata": {},
          "execution_count": 6
        }
      ],
      "source": [
        "cell_types = noDisease_bw_data['Cell type'].unique()\n",
        "cell_types"
      ]
    },
    {
      "cell_type": "markdown",
      "metadata": {
        "id": "ot6wpC656LXS"
      },
      "source": [
        "Get example of macrophage and plasma data, and extract its url."
      ]
    },
    {
      "cell_type": "code",
      "execution_count": null,
      "metadata": {
        "id": "S_oc8tqHzkXK"
      },
      "outputs": [],
      "source": [
        "cell_type_1 = 'macrophage'\n",
        "cell_type_2 = 'plasma cell'\n",
        "\n",
        "assert cell_type_1 in cell_types, \"{} not a valid cell type\".format(cell_type_1)\n",
        "assert cell_type_2 in cell_types, \"{} not a valid cell type\".format(cell_type_2)\n",
        "\n",
        "cell1_data = noDisease_bw_data[noDisease_bw_data['Cell type'] == cell_type_1]\n",
        "cell2_data = noDisease_bw_data[noDisease_bw_data['Cell type'] == cell_type_2]\n",
        "\n",
        "cell1_call = cell1_data.iloc[0]\n",
        "cell1_cov = cell1_data.iloc[1]\n",
        "cell2_call = cell2_data.iloc[0]\n",
        "cell2_cov = cell2_data.iloc[1]\n",
        "\n",
        "cell1_call_url = cell1_call['URL']\n",
        "cell1_cov_url = cell1_cov['URL']\n",
        "cell2_call_url = cell2_call['URL']\n",
        "cell2_cov_url = cell2_cov['URL']\n",
        "\n",
        "cell1_call_filename = cell1_call_url.split(\"/\")[-1]\n",
        "cell1_cov_filename = cell1_cov_url.split(\"/\")[-1]\n",
        "cell2_call_filename = cell2_call_url.split(\"/\")[-1]\n",
        "cell2_cov_filename = cell2_cov_url.split(\"/\")[-1]"
      ]
    },
    {
      "cell_type": "markdown",
      "metadata": {
        "id": "pgrJ3vQrMP2b"
      },
      "source": [
        "Downloading the data at the four URLs! This will take around 10 minutes."
      ]
    },
    {
      "cell_type": "code",
      "execution_count": null,
      "metadata": {
        "colab": {
          "base_uri": "https://localhost:8080/"
        },
        "id": "HvfCQqP5o71o",
        "outputId": "14c77040-d26d-454f-d69f-e1eec53fc719"
      },
      "outputs": [
        {
          "output_type": "stream",
          "name": "stdout",
          "text": [
            "--2022-07-02 08:15:27--  http://ftp.ebi.ac.uk/pub/databases/blueprint/data/homo_sapiens/GRCh38/cord_blood/S00BHQ/macrophage/Bisulfite-Seq/CNAG/S00BHQ51.CPG_methylation_calls.bs_call.GRCh38.20160531.bw\n",
            "Resolving ftp.ebi.ac.uk (ftp.ebi.ac.uk)... 193.62.193.138\n",
            "Connecting to ftp.ebi.ac.uk (ftp.ebi.ac.uk)|193.62.193.138|:80... connected.\n",
            "HTTP request sent, awaiting response... 200 OK\n",
            "Length: 125016699 (119M) [application/octet-stream]\n",
            "Saving to: ‘S00BHQ51.CPG_methylation_calls.bs_call.GRCh38.20160531.bw.2’\n",
            "\n",
            "S00BHQ51.CPG_methyl 100%[===================>] 119.22M   809KB/s    in 2m 37s  \n",
            "\n",
            "2022-07-02 08:18:04 (779 KB/s) - ‘S00BHQ51.CPG_methylation_calls.bs_call.GRCh38.20160531.bw.2’ saved [125016699/125016699]\n",
            "\n",
            "--2022-07-02 08:18:04--  http://ftp.ebi.ac.uk/pub/databases/blueprint/data/homo_sapiens/GRCh38/cord_blood/S00BHQ/macrophage/Bisulfite-Seq/CNAG/S00BHQ51.CPG_methylation_calls.bs_cov.GRCh38.20160531.bw\n",
            "Resolving ftp.ebi.ac.uk (ftp.ebi.ac.uk)... 193.62.193.138\n",
            "Connecting to ftp.ebi.ac.uk (ftp.ebi.ac.uk)|193.62.193.138|:80... connected.\n",
            "HTTP request sent, awaiting response... 200 OK\n",
            "Length: 112923116 (108M) [application/octet-stream]\n",
            "Saving to: ‘S00BHQ51.CPG_methylation_calls.bs_cov.GRCh38.20160531.bw.2’\n",
            "\n",
            "S00BHQ51.CPG_methyl 100%[===================>] 107.69M   988KB/s    in 1m 55s  \n",
            "\n",
            "2022-07-02 08:20:00 (956 KB/s) - ‘S00BHQ51.CPG_methylation_calls.bs_cov.GRCh38.20160531.bw.2’ saved [112923116/112923116]\n",
            "\n",
            "--2022-07-02 08:20:00--  http://ftp.ebi.ac.uk/pub/databases/blueprint/data/homo_sapiens/GRCh38/bone_marrow/MO7071/plasma_cell/Bisulfite-Seq/CNAG/G202.CPG_methylation_calls.bs_call.GRCh38.20160531.bw\n",
            "Resolving ftp.ebi.ac.uk (ftp.ebi.ac.uk)... 193.62.193.138\n",
            "Connecting to ftp.ebi.ac.uk (ftp.ebi.ac.uk)|193.62.193.138|:80... connected.\n",
            "HTTP request sent, awaiting response... 200 OK\n",
            "Length: 154166573 (147M) [application/octet-stream]\n",
            "Saving to: ‘G202.CPG_methylation_calls.bs_call.GRCh38.20160531.bw.2’\n",
            "\n",
            "G202.CPG_methylatio 100%[===================>] 147.02M  1000KB/s    in 2m 34s  \n",
            "\n",
            "2022-07-02 08:22:34 (978 KB/s) - ‘G202.CPG_methylation_calls.bs_call.GRCh38.20160531.bw.2’ saved [154166573/154166573]\n",
            "\n",
            "--2022-07-02 08:22:34--  http://ftp.ebi.ac.uk/pub/databases/blueprint/data/homo_sapiens/GRCh38/bone_marrow/MO7071/plasma_cell/Bisulfite-Seq/CNAG/G202.CPG_methylation_calls.bs_cov.GRCh38.20160531.bw\n",
            "Resolving ftp.ebi.ac.uk (ftp.ebi.ac.uk)... 193.62.193.138\n",
            "Connecting to ftp.ebi.ac.uk (ftp.ebi.ac.uk)|193.62.193.138|:80... connected.\n",
            "HTTP request sent, awaiting response... 200 OK\n",
            "Length: 121094058 (115M) [application/octet-stream]\n",
            "Saving to: ‘G202.CPG_methylation_calls.bs_cov.GRCh38.20160531.bw.2’\n",
            "\n",
            "G202.CPG_methylatio 100%[===================>] 115.48M   990KB/s    in 2m 0s   \n",
            "\n",
            "2022-07-02 08:24:35 (981 KB/s) - ‘G202.CPG_methylation_calls.bs_cov.GRCh38.20160531.bw.2’ saved [121094058/121094058]\n",
            "\n"
          ]
        }
      ],
      "source": [
        "! wget '$cell1_call_url'\n",
        "! wget '$cell1_cov_url'\n",
        "! wget '$cell2_call_url'\n",
        "! wget '$cell2_cov_url'"
      ]
    },
    {
      "cell_type": "code",
      "execution_count": null,
      "metadata": {
        "colab": {
          "base_uri": "https://localhost:8080/"
        },
        "id": "sB3SAaUpbO_5",
        "outputId": "8ac48376-7400-4663-dca8-89d6862820c9"
      },
      "outputs": [
        {
          "output_type": "stream",
          "name": "stdout",
          "text": [
            "Dictionary signature for cache files: 20d6029d\n",
            "\n",
            "Number of Blueprint cell types: 2\n",
            "Number of Blueprint raw files: 2\n"
          ]
        }
      ],
      "source": [
        "# Annotations & bs_cov / bs_call names\n",
        "CELL_TYPE_TO_FILE_ID = {\n",
        "    \"Macrophage\": [\"S00BHQ51\"],\n",
        "    \"Plasma_cell\": [\"G202\"]\n",
        "}\n",
        "\n",
        "# Reverse mapping of file id -> cell type\n",
        "# e.g.  'S01BHIA1': 'Monocyte'\n",
        "FILE_ID_TO_CELL_TYPE = {sample:cell_type for cell_type, sample_list in CELL_TYPE_TO_FILE_ID.items() for sample in sample_list}\n",
        "\n",
        "# If the blueprint dict changes, we need to replace our cache files\n",
        "# This is a tiny checksum of the dictionary state, which we incorporate into\n",
        "# our cache filenames below.\n",
        "CELL_TYPE_DICT_SIG = str(hex(abs(hash(json.dumps(CELL_TYPE_TO_FILE_ID, sort_keys=True))))[2:10])\n",
        "print(f\"Dictionary signature for cache files: {CELL_TYPE_DICT_SIG}\\n\")\n",
        "\n",
        "\n",
        "BLUEPRINT_FILEKEYS = list(itertools.chain.from_iterable(CELL_TYPE_TO_FILE_ID.values()))\n",
        "\n",
        "# Validity testing\n",
        "# assert all(len(vals) > 1 for vals in CELL_TYPE_TO_FILE_ID.values()), \"We need more than one example per cell type.\"\n",
        "assert len(BLUEPRINT_FILEKEYS) == len(set(BLUEPRINT_FILEKEYS)), \"One filename is duplicated in the cell types\"\n",
        "\n",
        "print(f\"Number of Blueprint cell types: {len(CELL_TYPE_TO_FILE_ID.keys())}\")\n",
        "print(f\"Number of Blueprint raw files: {len(BLUEPRINT_FILEKEYS)}\")"
      ]
    },
    {
      "cell_type": "markdown",
      "metadata": {
        "id": "s0_wxaaTEdZM"
      },
      "source": [
        "# Create shared **cov** map\n",
        "\n",
        "Load coverage (if >minimum below) across all files, then determine the set() shared across **all** samples.\n",
        "\n",
        "IF a locus (e.g. \"chr1:123\") is missing from **one** single sample, it will be **excluded** from our entire analysis.\n",
        "\n",
        "IF a locus has \\<20 reads in **one** single sample, it will be **excluded** from our entire analysis."
      ]
    },
    {
      "cell_type": "code",
      "execution_count": null,
      "metadata": {
        "colab": {
          "base_uri": "https://localhost:8080/",
          "height": 170,
          "referenced_widgets": [
            "6a37496426db49068ab4aa400d3556c7",
            "8d7cd9669308451c910f387c1290f89d",
            "8ebfe95be60148ada751697eec698bba",
            "7e2836e7c37f4a08bf71c0aef6769d48",
            "368d204565574a08a1d38390c10134e4",
            "a40e663fd593493bb8857e9e2e39740d",
            "7a24192b5ade434bb56124172a98040c",
            "89f4232b747b4c3d837ea34c5b80a7d3",
            "3a5c30dcba774e2ba379ccaab3dbc523",
            "9543c8a037954a489b06e8785521f86b",
            "578b217be739419d8d58c4d5bb4d5449"
          ]
        },
        "id": "AFBC6h3kiOmB",
        "outputId": "1a374c3d-a76d-4cca-e005-d41b16f723a2"
      },
      "outputs": [
        {
          "output_type": "stream",
          "name": "stdout",
          "text": [
            "Minimum Blueprint coverage limit: 20\n",
            " (CpGs with fewer than 20 reads in *any* sample will be ignored.)\n",
            "\n",
            "Coverage BED: intersected_bs_cov_min_20_3a29e61a.bed\n",
            "\t.bed does not exist yet -- parsing bs_cov .bw files.\n"
          ]
        },
        {
          "output_type": "display_data",
          "data": {
            "text/plain": [
              "  0%|          | 0/2 [00:00<?, ?it/s]"
            ],
            "application/vnd.jupyter.widget-view+json": {
              "version_major": 2,
              "version_minor": 0,
              "model_id": "6a37496426db49068ab4aa400d3556c7"
            }
          },
          "metadata": {}
        },
        {
          "output_type": "stream",
          "name": "stdout",
          "text": [
            "\n",
            "Wrote data to: intersected_bs_cov_min_20_3a29e61a.bed\n"
          ]
        }
      ],
      "source": [
        "CHROMOSOMES = [\"chr\" + str(i) for i in range(1, 23)] + [\"chrX\"]\n",
        "IGNORE_CACHE = False\n",
        "\n",
        "BLUEPRINT_CPG_COV_MINIMUM = 35\n",
        "\n",
        "RUN_SIGNATURE = f\"{BLUEPRINT_CPG_COV_MINIMUM}_{CELL_TYPE_DICT_SIG}\"\n",
        "\n",
        "assert type(BLUEPRINT_CPG_COV_MINIMUM) is int\n",
        "assert BLUEPRINT_CPG_COV_MINIMUM > 0\n",
        "\n",
        "print(f\"Minimum Blueprint coverage limit: {BLUEPRINT_CPG_COV_MINIMUM}\")\n",
        "print(f\" (CpGs with fewer than {BLUEPRINT_CPG_COV_MINIMUM} reads in *any* sample will be ignored.)\\n\")\n",
        "\n",
        "# Our output / save file\n",
        "INTERSECTED_COVERAGE_BED = f\"intersected_bs_cov_min_{RUN_SIGNATURE}.bed\"\n",
        "CLEAN_INTERSECTED_COVERAGE_BED = f\"intersected_bs_cov_min_{RUN_SIGNATURE}_clean.bed\"\n",
        "\n",
        "print(f\"Coverage BED: {INTERSECTED_COVERAGE_BED}\")\n",
        "\n",
        "if os.path.exists(INTERSECTED_COVERAGE_BED) and not IGNORE_CACHE:\n",
        "    print(\"\\tPost-processed cov .bed already exists. (Skipping raw Blueprint bs_cov parsing.)\")\n",
        "else:\n",
        "    print(\"\\t.bed does not exist yet -- parsing bs_cov .bw files.\")\n",
        "    INTERSECTED_BS_COV_POSITIONS = {}\n",
        "    MAX_CHROMOSOME_SIZE = {}\n",
        "\n",
        "    for file_key in tqdm(BLUEPRINT_FILEKEYS):\n",
        "        with pyBigWig.open(file_key + \".CPG_methylation_calls.bs_cov.GRCh38.20160531.bw\") as bw_object:\n",
        "            bw_header = bw_object.header()\n",
        "            if bw_header['nBasesCovered'] < 1e7 or bw_header['sumData'] < 1e8:\n",
        "                print('\\t\\t*** WARNING: Input .bw has few reads or low coverage. This may cause unexpected results, consider removing this file.')\n",
        "                print(f\"\\t\\tnBasesCovered: {bw_header['nBasesCovered']}, sumData: {bw_header['sumData']}\")\n",
        "            for chrom in CHROMOSOMES:\n",
        "                current_loop_values = set([start for start, _, cov in bw_object.intervals(chrom) if cov >= BLUEPRINT_CPG_COV_MINIMUM])\n",
        "                MAX_CHROMOSOME_SIZE[chrom] = np.max(list(current_loop_values))\n",
        "                existing_values = INTERSECTED_BS_COV_POSITIONS.get(chrom, current_loop_values)\n",
        "                INTERSECTED_BS_COV_POSITIONS[chrom] = existing_values.intersection(current_loop_values)\n",
        "            # print(track)\n",
        "\n",
        "    # Save this hard work as a .bed for later recovery if needed\n",
        "    with open(INTERSECTED_COVERAGE_BED, 'w') as outfile:\n",
        "        # A .bed is just a .tsv with ['chrom', 'chromStart', 'chromEnd']\n",
        "        bed_writer = csv.writer(outfile, delimiter='\\t')\n",
        "        for chr in CHROMOSOMES:\n",
        "            for entry in INTERSECTED_BS_COV_POSITIONS[chr]:\n",
        "                bed_writer.writerow([chr, entry, entry+1])\n",
        "\n",
        "    print(f\"\\nWrote data to: {INTERSECTED_COVERAGE_BED}\") # Unsorted\n",
        "\n",
        "! cat {INTERSECTED_COVERAGE_BED} | tr -d '\\r' > {CLEAN_INTERSECTED_COVERAGE_BED}"
      ]
    },
    {
      "cell_type": "markdown",
      "metadata": {
        "id": "WItxmabtqkIE"
      },
      "source": [
        "# Removing ENCODE Regions (Doesn't Work)"
      ]
    },
    {
      "cell_type": "markdown",
      "metadata": {
        "id": "hI5ItooDEtVF"
      },
      "source": [
        "Encode defines a standard list of \"bad\" regions -- very low complexity / information content, etc. that show up in some studies but are not informative. We remove them and do some other standard data cleaning."
      ]
    },
    {
      "cell_type": "code",
      "execution_count": null,
      "metadata": {
        "colab": {
          "base_uri": "https://localhost:8080/"
        },
        "id": "O2PpXQc-D53g",
        "outputId": "e661b5d2-08b9-4b26-ba5d-91b6947230ce"
      },
      "outputs": [
        {
          "output_type": "stream",
          "name": "stdout",
          "text": [
            "Number of entries in bs_cov (raw): 14,535,030\n",
            "Downloading ENCODE DAC Exclusion List\n",
            "gzip: ENCFF356LFX.bed already exists; do you wish to overwrite (y or n)? y\n",
            "Number of entries in excluded_regions: 910\n",
            "Number of remaining bs_cov entries: 14,487,018\n"
          ]
        }
      ],
      "source": [
        "# Load the .bed from above\n",
        "raw_bs_cov_bed = pybedtools.BedTool(CLEAN_INTERSECTED_COVERAGE_BED)\n",
        "print(f\"Number of entries in bs_cov (raw): {len(raw_bs_cov_bed):,}\")\n",
        "\n",
        "if not os.path.exists(\"ENCFF356LFX.bed.gz\"):\n",
        "    print(\"Downloading ENCODE DAC Exclusion List\")\n",
        "    urllib.request.urlretrieve(\"https://www.encodeproject.org/files/ENCFF356LFX/@@download/ENCFF356LFX.bed.gz\", \"ENCFF356LFX.bed.gz\")\n",
        "\n",
        "! gunzip ENCFF356LFX.bed.gz\n",
        "excluded_regions = pybedtools.BedTool(\"ENCFF356LFX.bed\")\n",
        "print(f\"Number of entries in excluded_regions: {len(excluded_regions):,}\")\n",
        "assert len(excluded_regions) > 900 # 910 as of 1/2022\n",
        "\n",
        "# .saveas forces this to render, otherwise may be a generator\n",
        "# TODO: Fix path to be more specific\n",
        "cleaned_sorted_bs_cov = raw_bs_cov_bed.subtract(excluded_regions).sort().saveas('bs_cov_cleaned_sorted.bed')\n",
        "print(f\"Number of remaining bs_cov entries: {len(cleaned_sorted_bs_cov):,}\")\n",
        "# assert len(cleaned_sorted_bs_cov) > 90000 # We expect about 90k entries\n",
        "\n",
        "\n",
        "# Convert `bs_cov_cleaned_sorted` to a dict too:\n",
        "#  key: chr\n",
        "#  val: [sorted list of bs_cov positions]\n",
        "# NOTE: This works because dicts are insertion ordered as of Python>3.7\n",
        "BS_COV_POSITIONS = {}\n",
        "for bed_entry in cleaned_sorted_bs_cov:\n",
        "    BS_COV_POSITIONS.setdefault(bed_entry.chrom, []).append(bed_entry.start)"
      ]
    },
    {
      "cell_type": "markdown",
      "metadata": {
        "id": "hlav7jFbqshl"
      },
      "source": [
        "# Load bs_call data"
      ]
    },
    {
      "cell_type": "code",
      "execution_count": null,
      "metadata": {
        "colab": {
          "base_uri": "https://localhost:8080/",
          "height": 101,
          "referenced_widgets": [
            "513461e2b1ca4f2f85872487306ba921",
            "4d79edf211a14ecc8a89d32de25b6766",
            "0da1e8c7aa0e4f249845392c15b1895c",
            "65c69b09d37a4d9b8d91498d5eafca6c",
            "f2f214979a3f4287bcc616e5cfbd4bbb",
            "fef29329f2b44221ac9c74337eb11241",
            "159a4eaae0cb4913a47994fe6709c0a2",
            "81bb6b804ddb4456b5abf58af5f6ffa9",
            "adf5a67f20eb4752a19a47c1242936df",
            "153c16b120304e998be900b8dae35fca",
            "9faef0f987a94979828fac5d7c706d74"
          ]
        },
        "id": "gfy9TJrlAfeB",
        "outputId": "0c684e3e-8231-47fd-fc66-182a8c8e9434"
      },
      "outputs": [
        {
          "output_type": "stream",
          "name": "stdout",
          "text": [
            "Parsing bs_call files.\n"
          ]
        },
        {
          "output_type": "display_data",
          "data": {
            "text/plain": [
              "  0%|          | 0/2 [00:00<?, ?it/s]"
            ],
            "application/vnd.jupyter.widget-view+json": {
              "version_major": 2,
              "version_minor": 0,
              "model_id": "513461e2b1ca4f2f85872487306ba921"
            }
          },
          "metadata": {}
        },
        {
          "output_type": "stream",
          "name": "stdout",
          "text": [
            "S00BHQ51\n",
            "G202\n"
          ]
        }
      ],
      "source": [
        "FILE_ID_TO_CPG_CALLS = { }\n",
        "\n",
        "# cache_file = \"bs_call_min_\" + str(BLUEPRINT_CPG_COV_MINIMUM) + \".json\"\n",
        "print(\"Parsing bs_call files.\")\n",
        "for file_key in tqdm(BLUEPRINT_FILEKEYS):\n",
        "    print(f\"{file_key}\")\n",
        "    FILE_ID_TO_CPG_CALLS[file_key] = {}\n",
        "    with pyBigWig.open(file_key + \".CPG_methylation_calls.bs_call.GRCh38.20160531.bw\") as bw_object:\n",
        "        for chrom in CHROMOSOMES:\n",
        "            # This is more nuanced than the bs_cov data, since we only want to look at the \n",
        "            # CpGs that were covered across all samples. (The intervals now in BS_COV_POSITIONS).\n",
        "\n",
        "            # Each .bw interval is a nested tuple of: ((start, end, value))\n",
        "            # We extract all the values that overlap our bs_cov set.\n",
        "            # FILE_ID_TO_CPG_CALLS[file_key][chrom] = [bw_object.intervals(chrom, pos, pos+1)[0][2] for pos in INTERSECTED_BS_COV_POSITIONS[chrom]]\n",
        "            temp = []\n",
        "            for pos in BS_COV_POSITIONS[chrom]:\n",
        "                temp.append(bw_object.intervals(chrom, pos, pos+1)[0][2])\n",
        "                FILE_ID_TO_CPG_CALLS[file_key][chrom] = temp\n",
        "\n",
        "SCALED_BS_COV_POSITIONS = {}\n",
        "for chrom in CHROMOSOMES:\n",
        "    SCALED_BS_COV_POSITIONS[chrom] = np.array(BS_COV_POSITIONS[chrom]) / MAX_CHROMOSOME_SIZE[chrom]"
      ]
    },
    {
      "cell_type": "markdown",
      "source": [
        "# Checkpoint: Download the Relevant Files"
      ],
      "metadata": {
        "id": "Y_t_XEZaIK60"
      }
    },
    {
      "cell_type": "code",
      "source": [
        "pickle.dump(SCALED_BS_COV_POSITIONS, open(\"scaled_bs_cov_positions.p\", \"wb\"))\n",
        "pickle.dump(FILE_ID_TO_CPG_CALLS, open(\"file_id_to_cpg_calls.p\", \"wb\"))\n",
        "files.download(\"scaled_bs_cov_positions.p\")\n",
        "files.download(\"file_id_to_cpg_calls.p\")"
      ],
      "metadata": {
        "id": "JQLy_oLBACp-"
      },
      "execution_count": null,
      "outputs": []
    },
    {
      "cell_type": "markdown",
      "source": [
        "Upload the files into your Google Drive. I put them in the main directory, although you could put them somewhere else. Just change the path below to wherever the file is!"
      ],
      "metadata": {
        "id": "hJTjm2xDjWxX"
      }
    },
    {
      "cell_type": "code",
      "source": [
        "SCALED_BS_COV_POSITIONS = pickle.load(open(\"/content/drive/My Drive/scaled_bs_cov_positions.p\", \"rb\"))\n",
        "FILE_ID_TO_CPG_CALLS = pickle.load(open(\"/content/drive/My Drive/file_id_to_cpg_calls.p\", \"rb\"))"
      ],
      "metadata": {
        "id": "GvpNeYZMK8YD"
      },
      "execution_count": null,
      "outputs": []
    },
    {
      "cell_type": "markdown",
      "source": [
        "# Visualize the Methylation Data"
      ],
      "metadata": {
        "id": "dFQWeUSLi1kE"
      }
    },
    {
      "cell_type": "code",
      "source": [
        "line_df = pd.DataFrame(columns = [\"cell type\", \"location_percent\", \"methylation\"])\n",
        "\n",
        "CHROMOSOMES = [\"chr1\"]\n",
        "\n",
        "for file_key in BLUEPRINT_FILEKEYS:\n",
        "    for chrom in CHROMOSOMES:\n",
        "        lengt = len(SCALED_BS_COV_POSITIONS[chrom])\n",
        "        temp = [[(SCALED_BS_COV_POSITIONS[chrom])[i], (FILE_ID_TO_CPG_CALLS[file_key][chrom])[i]] for i in range(lengt)]\n",
        "        temp_df = pd.DataFrame(temp, columns = [\"location_percent\", \"methylation\"])\n",
        "        temp_df_avg = temp_df.groupby(np.arange(len(temp_df))//5000).mean()\n",
        "        temp_df_avg[\"cell type\"] = FILE_ID_TO_CELL_TYPE[file_key]\n",
        "        line_df = pd.concat([line_df, temp_df_avg], axis=0)"
      ],
      "metadata": {
        "id": "wZZmz-VVi5CB"
      },
      "execution_count": null,
      "outputs": []
    },
    {
      "cell_type": "code",
      "source": [
        "alt.data_transformers.enable('default', max_rows=None)\n",
        "\n",
        "alt.Chart(line_df).mark_line().encode(\n",
        "    x='location_percent',\n",
        "    y='methylation',\n",
        "    color='cell type'\n",
        ").interactive()"
      ],
      "metadata": {
        "colab": {
          "base_uri": "https://localhost:8080/",
          "height": 369
        },
        "id": "EpQVslUq0EKo",
        "outputId": "346a5ca8-4154-484e-9ba5-2d110d16e5bf"
      },
      "execution_count": null,
      "outputs": [
        {
          "output_type": "execute_result",
          "data": {
            "text/html": [
              "\n",
              "<div id=\"altair-viz-cb0a51bc98e94460818c1a050960abb7\"></div>\n",
              "<script type=\"text/javascript\">\n",
              "  var VEGA_DEBUG = (typeof VEGA_DEBUG == \"undefined\") ? {} : VEGA_DEBUG;\n",
              "  (function(spec, embedOpt){\n",
              "    let outputDiv = document.currentScript.previousElementSibling;\n",
              "    if (outputDiv.id !== \"altair-viz-cb0a51bc98e94460818c1a050960abb7\") {\n",
              "      outputDiv = document.getElementById(\"altair-viz-cb0a51bc98e94460818c1a050960abb7\");\n",
              "    }\n",
              "    const paths = {\n",
              "      \"vega\": \"https://cdn.jsdelivr.net/npm//vega@5?noext\",\n",
              "      \"vega-lib\": \"https://cdn.jsdelivr.net/npm//vega-lib?noext\",\n",
              "      \"vega-lite\": \"https://cdn.jsdelivr.net/npm//vega-lite@4.17.0?noext\",\n",
              "      \"vega-embed\": \"https://cdn.jsdelivr.net/npm//vega-embed@6?noext\",\n",
              "    };\n",
              "\n",
              "    function maybeLoadScript(lib, version) {\n",
              "      var key = `${lib.replace(\"-\", \"\")}_version`;\n",
              "      return (VEGA_DEBUG[key] == version) ?\n",
              "        Promise.resolve(paths[lib]) :\n",
              "        new Promise(function(resolve, reject) {\n",
              "          var s = document.createElement('script');\n",
              "          document.getElementsByTagName(\"head\")[0].appendChild(s);\n",
              "          s.async = true;\n",
              "          s.onload = () => {\n",
              "            VEGA_DEBUG[key] = version;\n",
              "            return resolve(paths[lib]);\n",
              "          };\n",
              "          s.onerror = () => reject(`Error loading script: ${paths[lib]}`);\n",
              "          s.src = paths[lib];\n",
              "        });\n",
              "    }\n",
              "\n",
              "    function showError(err) {\n",
              "      outputDiv.innerHTML = `<div class=\"error\" style=\"color:red;\">${err}</div>`;\n",
              "      throw err;\n",
              "    }\n",
              "\n",
              "    function displayChart(vegaEmbed) {\n",
              "      vegaEmbed(outputDiv, spec, embedOpt)\n",
              "        .catch(err => showError(`Javascript Error: ${err.message}<br>This usually means there's a typo in your chart specification. See the javascript console for the full traceback.`));\n",
              "    }\n",
              "\n",
              "    if(typeof define === \"function\" && define.amd) {\n",
              "      requirejs.config({paths});\n",
              "      require([\"vega-embed\"], displayChart, err => showError(`Error loading script: ${err.message}`));\n",
              "    } else {\n",
              "      maybeLoadScript(\"vega\", \"5\")\n",
              "        .then(() => maybeLoadScript(\"vega-lite\", \"4.17.0\"))\n",
              "        .then(() => maybeLoadScript(\"vega-embed\", \"6\"))\n",
              "        .catch(showError)\n",
              "        .then(() => displayChart(vegaEmbed));\n",
              "    }\n",
              "  })({\"config\": {\"view\": {\"continuousWidth\": 400, \"continuousHeight\": 300}}, \"data\": {\"name\": \"data-c09e5781e91e43a092118354ddee278b\"}, \"mark\": \"line\", \"encoding\": {\"color\": {\"field\": \"cell type\", \"type\": \"nominal\"}, \"x\": {\"field\": \"location_percent\", \"type\": \"quantitative\"}, \"y\": {\"field\": \"methylation\", \"type\": \"quantitative\"}}, \"selection\": {\"selector004\": {\"type\": \"interval\", \"bind\": \"scales\", \"encodings\": [\"x\", \"y\"]}}, \"$schema\": \"https://vega.github.io/schema/vega-lite/v4.17.0.json\", \"datasets\": {\"data-c09e5781e91e43a092118354ddee278b\": [{\"cell type\": \"Macrophage\", \"location_percent\": 0.003676119763053545, \"methylation\": 0.5582042004946619}, {\"cell type\": \"Macrophage\", \"location_percent\": 0.004465720273871209, \"methylation\": 0.7666112001178786}, {\"cell type\": \"Macrophage\", \"location_percent\": 0.0051001949308608656, \"methylation\": 0.7187010001178831}, {\"cell type\": \"Macrophage\", \"location_percent\": 0.005732162152368408, \"methylation\": 0.6719960001025349}, {\"cell type\": \"Macrophage\", \"location_percent\": 0.006603782688887392, \"methylation\": 0.7016594006147235}, {\"cell type\": \"Macrophage\", \"location_percent\": 0.0077641144942953684, \"methylation\": 0.7673066001169383}, {\"cell type\": \"Macrophage\", \"location_percent\": 0.008547084066766198, \"methylation\": 0.8034454004202038}, {\"cell type\": \"Macrophage\", \"location_percent\": 0.009266068247657518, \"methylation\": 0.7640076001316309}, {\"cell type\": \"Macrophage\", \"location_percent\": 0.009999537494175072, \"methylation\": 0.7046304002104327}, {\"cell type\": \"Macrophage\", \"location_percent\": 0.011260355398151518, \"methylation\": 0.8194621999572963}, {\"cell type\": \"Macrophage\", \"location_percent\": 0.01236374524192954, \"methylation\": 0.7875032002441585}, {\"cell type\": \"Macrophage\", \"location_percent\": 0.013180077405713593, \"methylation\": 0.8661408003292977}, {\"cell type\": \"Macrophage\", \"location_percent\": 0.014015607969029682, \"methylation\": 0.8618038002658636}, {\"cell type\": \"Macrophage\", \"location_percent\": 0.014848286059466687, \"methylation\": 0.7079820002246648}, {\"cell type\": \"Macrophage\", \"location_percent\": 0.015976448039732954, \"methylation\": 0.8308697999488562}, {\"cell type\": \"Macrophage\", \"location_percent\": 0.0180896116743192, \"methylation\": 0.7849235997445881}, {\"cell type\": \"Macrophage\", \"location_percent\": 0.02041491478511762, \"methylation\": 0.8565401998266577}, {\"cell type\": \"Macrophage\", \"location_percent\": 0.022996190597601787, \"methylation\": 0.8610137999802828}, {\"cell type\": \"Macrophage\", \"location_percent\": 0.024356066097746522, \"methylation\": 0.8049385999588295}, {\"cell type\": \"Macrophage\", \"location_percent\": 0.025349393752694696, \"methylation\": 0.6501758004114032}, {\"cell type\": \"Macrophage\", \"location_percent\": 0.026379789968144354, \"methylation\": 0.6827896001545712}, {\"cell type\": \"Macrophage\", \"location_percent\": 0.028012696572336654, \"methylation\": 0.8297296000363306}, {\"cell type\": \"Macrophage\", \"location_percent\": 0.030060316146137696, \"methylation\": 0.8695609999343753}, {\"cell type\": \"Macrophage\", \"location_percent\": 0.031769214034499775, \"methylation\": 0.7502164002865553}, {\"cell type\": \"Macrophage\", \"location_percent\": 0.03375410728584114, \"methylation\": 0.8503286004256457}, {\"cell type\": \"Macrophage\", \"location_percent\": 0.036169383744949574, \"methylation\": 0.7944147998675704}, {\"cell type\": \"Macrophage\", \"location_percent\": 0.03763205595750637, \"methylation\": 0.8088818001639098}, {\"cell type\": \"Macrophage\", \"location_percent\": 0.03897295142184893, \"methylation\": 0.7789946002488956}, {\"cell type\": \"Macrophage\", \"location_percent\": 0.0406708003993602, \"methylation\": 0.8173116001531482}, {\"cell type\": \"Macrophage\", \"location_percent\": 0.042509547502040695, \"methylation\": 0.8142946000576019}, {\"cell type\": \"Macrophage\", \"location_percent\": 0.04374688586169062, \"methylation\": 0.7879354001713916}, {\"cell type\": \"Macrophage\", \"location_percent\": 0.04552760753532779, \"methylation\": 0.8209736001372337}, {\"cell type\": \"Macrophage\", \"location_percent\": 0.047202162765234236, \"methylation\": 0.7215456001546234}, {\"cell type\": \"Macrophage\", \"location_percent\": 0.0487361095843471, \"methylation\": 0.8210000001983717}, {\"cell type\": \"Macrophage\", \"location_percent\": 0.05179764520695356, \"methylation\": 0.8366701998820528}, {\"cell type\": \"Macrophage\", \"location_percent\": 0.05552232233015758, \"methylation\": 0.8130434000235051}, {\"cell type\": \"Macrophage\", \"location_percent\": 0.05881692233144541, \"methylation\": 0.8414081999577582}, {\"cell type\": \"Macrophage\", \"location_percent\": 0.0607528680861553, \"methylation\": 0.8236682007467374}, {\"cell type\": \"Macrophage\", \"location_percent\": 0.06254098394406007, \"methylation\": 0.7985068003851921}, {\"cell type\": \"Macrophage\", \"location_percent\": 0.0641523559694098, \"methylation\": 0.7499250001071021}, {\"cell type\": \"Macrophage\", \"location_percent\": 0.06607136459262927, \"methylation\": 0.747571599962283}, {\"cell type\": \"Macrophage\", \"location_percent\": 0.06884246590923274, \"methylation\": 0.8335204004948958}, {\"cell type\": \"Macrophage\", \"location_percent\": 0.07063640412588974, \"methylation\": 0.8137166004667059}, {\"cell type\": \"Macrophage\", \"location_percent\": 0.07278444585808003, \"methylation\": 0.7916767997892573}, {\"cell type\": \"Macrophage\", \"location_percent\": 0.07519659228923681, \"methylation\": 0.7174068000571803}, {\"cell type\": \"Macrophage\", \"location_percent\": 0.07711387744231522, \"methylation\": 0.7894040003269911}, {\"cell type\": \"Macrophage\", \"location_percent\": 0.07914268042914459, \"methylation\": 0.7780408001353964}, {\"cell type\": \"Macrophage\", \"location_percent\": 0.0816932947621655, \"methylation\": 0.7168775994999335}, {\"cell type\": \"Macrophage\", \"location_percent\": 0.08382884105705694, \"methylation\": 0.7843500002609566}, {\"cell type\": \"Macrophage\", \"location_percent\": 0.08625534036570597, \"methylation\": 0.746816600002721}, {\"cell type\": \"Macrophage\", \"location_percent\": 0.08803454684396413, \"methylation\": 0.812585800251551}, {\"cell type\": \"Macrophage\", \"location_percent\": 0.0899805551807631, \"methylation\": 0.7964980001250281}, {\"cell type\": \"Macrophage\", \"location_percent\": 0.09195357171975715, \"methylation\": 0.7969480000013486}, {\"cell type\": \"Macrophage\", \"location_percent\": 0.09427404100827994, \"methylation\": 0.7373276002798229}, {\"cell type\": \"Macrophage\", \"location_percent\": 0.09634276493368989, \"methylation\": 0.7589810002360493}, {\"cell type\": \"Macrophage\", \"location_percent\": 0.09861375662013698, \"methylation\": 0.7982092000631615}, {\"cell type\": \"Macrophage\", \"location_percent\": 0.10072550466600903, \"methylation\": 0.7852046005442739}, {\"cell type\": \"Macrophage\", \"location_percent\": 0.10314810654485072, \"methylation\": 0.7420384002052247}, {\"cell type\": \"Macrophage\", \"location_percent\": 0.10500989629568619, \"methylation\": 0.6826508003091439}, {\"cell type\": \"Macrophage\", \"location_percent\": 0.10696839320080212, \"methylation\": 0.7109945999788121}, {\"cell type\": \"Macrophage\", \"location_percent\": 0.1088393614258599, \"methylation\": 0.78831420033928}, {\"cell type\": \"Macrophage\", \"location_percent\": 0.1106391993813546, \"methylation\": 0.7088128000713885}, {\"cell type\": \"Macrophage\", \"location_percent\": 0.11287308602376726, \"methylation\": 0.7869088001163677}, {\"cell type\": \"Macrophage\", \"location_percent\": 0.1149275348526619, \"methylation\": 0.7735252002913505}, {\"cell type\": \"Macrophage\", \"location_percent\": 0.11687812663694418, \"methylation\": 0.7374402003722266}, {\"cell type\": \"Macrophage\", \"location_percent\": 0.1194711289889599, \"methylation\": 0.8308936000339687}, {\"cell type\": \"Macrophage\", \"location_percent\": 0.12266920308550329, \"methylation\": 0.7925561997717246}, {\"cell type\": \"Macrophage\", \"location_percent\": 0.1252249086934554, \"methylation\": 0.7947160003146156}, {\"cell type\": \"Macrophage\", \"location_percent\": 0.12753433901869862, \"methylation\": 0.7587697999997064}, {\"cell type\": \"Macrophage\", \"location_percent\": 0.12952089101509007, \"methylation\": 0.7339928000330925}, {\"cell type\": \"Macrophage\", \"location_percent\": 0.13146775860046847, \"methylation\": 0.7348412002103403}, {\"cell type\": \"Macrophage\", \"location_percent\": 0.13363001110095765, \"methylation\": 0.7270380003495142}, {\"cell type\": \"Macrophage\", \"location_percent\": 0.13691717304084958, \"methylation\": 0.8080788001671434}, {\"cell type\": \"Macrophage\", \"location_percent\": 0.1405201083761454, \"methylation\": 0.7683486003641039}, {\"cell type\": \"Macrophage\", \"location_percent\": 0.14346140693805493, \"methylation\": 0.7744332003235816}, {\"cell type\": \"Macrophage\", \"location_percent\": 0.14576311543903747, \"methylation\": 0.7442338000604883}, {\"cell type\": \"Macrophage\", \"location_percent\": 0.148083932949594, \"methylation\": 0.7662141997480765}, {\"cell type\": \"Macrophage\", \"location_percent\": 0.1509290806684358, \"methylation\": 0.6878214002171531}, {\"cell type\": \"Macrophage\", \"location_percent\": 0.15301173763916362, \"methylation\": 0.7453118001904339}, {\"cell type\": \"Macrophage\", \"location_percent\": 0.15599036303931144, \"methylation\": 0.7664597998585552}, {\"cell type\": \"Macrophage\", \"location_percent\": 0.15855704044877122, \"methylation\": 0.7432794003542512}, {\"cell type\": \"Macrophage\", \"location_percent\": 0.161017342693857, \"methylation\": 0.7440456004658714}, {\"cell type\": \"Macrophage\", \"location_percent\": 0.16379412579610042, \"methylation\": 0.7335584003830329}, {\"cell type\": \"Macrophage\", \"location_percent\": 0.16652037774949732, \"methylation\": 0.7614597999958321}, {\"cell type\": \"Macrophage\", \"location_percent\": 0.16964790396813012, \"methylation\": 0.7704864005165175}, {\"cell type\": \"Macrophage\", \"location_percent\": 0.17278576043178726, \"methylation\": 0.8055116000894457}, {\"cell type\": \"Macrophage\", \"location_percent\": 0.17496416900991005, \"methylation\": 0.8137712002923713}, {\"cell type\": \"Macrophage\", \"location_percent\": 0.17717439249970804, \"methylation\": 0.7382594000073149}, {\"cell type\": \"Macrophage\", \"location_percent\": 0.17949280176770155, \"methylation\": 0.7768506004516035}, {\"cell type\": \"Macrophage\", \"location_percent\": 0.18201696530315353, \"methylation\": 0.7839933998873457}, {\"cell type\": \"Macrophage\", \"location_percent\": 0.18500077710840998, \"methylation\": 0.8216710002295673}, {\"cell type\": \"Macrophage\", \"location_percent\": 0.1878000537821199, \"methylation\": 0.6700639998128638}, {\"cell type\": \"Macrophage\", \"location_percent\": 0.19113291148438302, \"methylation\": 0.6601262000130489}, {\"cell type\": \"Macrophage\", \"location_percent\": 0.19509046546386563, \"methylation\": 0.8371773996941745}, {\"cell type\": \"Macrophage\", \"location_percent\": 0.20231891742081426, \"methylation\": 0.7462598001474514}, {\"cell type\": \"Macrophage\", \"location_percent\": 0.20677058627069914, \"methylation\": 0.8157496000340209}, {\"cell type\": \"Macrophage\", \"location_percent\": 0.21031169639273484, \"methylation\": 0.7765722002632915}, {\"cell type\": \"Macrophage\", \"location_percent\": 0.21297447779077183, \"methylation\": 0.8357312002182007}, {\"cell type\": \"Macrophage\", \"location_percent\": 0.2150321480709555, \"methylation\": 0.8189964005837217}, {\"cell type\": \"Macrophage\", \"location_percent\": 0.21743524913590517, \"methylation\": 0.8565348003659398}, {\"cell type\": \"Macrophage\", \"location_percent\": 0.2195583145388682, \"methylation\": 0.7807634002456442}, {\"cell type\": \"Macrophage\", \"location_percent\": 0.22294307000646635, \"methylation\": 0.8491407999312505}, {\"cell type\": \"Macrophage\", \"location_percent\": 0.22901837034175423, \"methylation\": 0.8060303997509182}, {\"cell type\": \"Macrophage\", \"location_percent\": 0.23476671318199283, \"methylation\": 0.7549204000735655}, {\"cell type\": \"Macrophage\", \"location_percent\": 0.24033117140335658, \"methylation\": 0.8786372002795338}, {\"cell type\": \"Macrophage\", \"location_percent\": 0.2464464129202352, \"methylation\": 0.8170684004675597}, {\"cell type\": \"Macrophage\", \"location_percent\": 0.25036602955118764, \"methylation\": 0.8350092002926395}, {\"cell type\": \"Macrophage\", \"location_percent\": 0.2544928921040527, \"methylation\": 0.7262026004400104}, {\"cell type\": \"Macrophage\", \"location_percent\": 0.25932785080333487, \"methylation\": 0.8322640001825988}, {\"cell type\": \"Macrophage\", \"location_percent\": 0.2640151825918596, \"methylation\": 0.7799619996637106}, {\"cell type\": \"Macrophage\", \"location_percent\": 0.2706226402342726, \"methylation\": 0.8071376003576443}, {\"cell type\": \"Macrophage\", \"location_percent\": 0.2766666142770889, \"methylation\": 0.8350685997156426}, {\"cell type\": \"Macrophage\", \"location_percent\": 0.2847918813711238, \"methylation\": 0.851346799678728}, {\"cell type\": \"Macrophage\", \"location_percent\": 0.29537009721766505, \"methylation\": 0.8613391997359693}, {\"cell type\": \"Macrophage\", \"location_percent\": 0.3045138566634441, \"methylation\": 0.8060891999289393}, {\"cell type\": \"Macrophage\", \"location_percent\": 0.3115117321451832, \"methylation\": 0.808716400087066}, {\"cell type\": \"Macrophage\", \"location_percent\": 0.3189619716298273, \"methylation\": 0.8779317993214354}, {\"cell type\": \"Macrophage\", \"location_percent\": 0.32834059771365975, \"methylation\": 0.8850319998191669}, {\"cell type\": \"Macrophage\", \"location_percent\": 0.33746458840544213, \"methylation\": 0.8039037997853011}, {\"cell type\": \"Macrophage\", \"location_percent\": 0.3431155959916944, \"methylation\": 0.7174442002920434}, {\"cell type\": \"Macrophage\", \"location_percent\": 0.349223177236014, \"methylation\": 0.8230189996125177}, {\"cell type\": \"Macrophage\", \"location_percent\": 0.3551782492072984, \"methylation\": 0.8778953999496997}, {\"cell type\": \"Macrophage\", \"location_percent\": 0.3613557431632069, \"methylation\": 0.7766620000824332}, {\"cell type\": \"Macrophage\", \"location_percent\": 0.3666328984015835, \"methylation\": 0.7649167999824509}, {\"cell type\": \"Macrophage\", \"location_percent\": 0.3709133591322385, \"methylation\": 0.7940628000028431}, {\"cell type\": \"Macrophage\", \"location_percent\": 0.3752804868199321, \"methylation\": 0.7861208000935614}, {\"cell type\": \"Macrophage\", \"location_percent\": 0.3792445783766482, \"methylation\": 0.770575400048308}, {\"cell type\": \"Macrophage\", \"location_percent\": 0.3845214066161367, \"methylation\": 0.8417155999355018}, {\"cell type\": \"Macrophage\", \"location_percent\": 0.39332841692634596, \"methylation\": 0.8485888000210747}, {\"cell type\": \"Macrophage\", \"location_percent\": 0.4015865050029145, \"methylation\": 0.8115621998516843}, {\"cell type\": \"Macrophage\", \"location_percent\": 0.40851637072207087, \"methylation\": 0.8545149999961257}, {\"cell type\": \"Macrophage\", \"location_percent\": 0.41991969660196965, \"methylation\": 0.8648753997290507}, {\"cell type\": \"Macrophage\", \"location_percent\": 0.43055078448131806, \"methylation\": 0.8222404000388458}, {\"cell type\": \"Macrophage\", \"location_percent\": 0.4369902250330292, \"methylation\": 0.7594804003307596}, {\"cell type\": \"Macrophage\", \"location_percent\": 0.4395067366592089, \"methylation\": 0.7388932001736015}, {\"cell type\": \"Macrophage\", \"location_percent\": 0.4420931474502205, \"methylation\": 0.6734513996200636}, {\"cell type\": \"Macrophage\", \"location_percent\": 0.4452618576669903, \"methylation\": 0.7429072001082823}, {\"cell type\": \"Macrophage\", \"location_percent\": 0.4499488783765972, \"methylation\": 0.7508517998315394}, {\"cell type\": \"Macrophage\", \"location_percent\": 0.4534552790646619, \"methylation\": 0.7952515998482704}, {\"cell type\": \"Macrophage\", \"location_percent\": 0.4573720282025615, \"methylation\": 0.7962108000632375}, {\"cell type\": \"Macrophage\", \"location_percent\": 0.4619238703841752, \"methylation\": 0.7935792002305389}, {\"cell type\": \"Macrophage\", \"location_percent\": 0.46672478787931104, \"methylation\": 0.7707222003094852}, {\"cell type\": \"Macrophage\", \"location_percent\": 0.4706645074671437, \"methylation\": 0.8188222000349313}, {\"cell type\": \"Macrophage\", \"location_percent\": 0.4765971852181486, \"methylation\": 0.7680979999210685}, {\"cell type\": \"Macrophage\", \"location_percent\": 0.49318729804896927, \"methylation\": 0.7721384005162865}, {\"cell type\": \"Macrophage\", \"location_percent\": 0.5837070715570246, \"methylation\": 0.6355608000587673}, {\"cell type\": \"Macrophage\", \"location_percent\": 0.5932961326920843, \"methylation\": 0.736063199939765}, {\"cell type\": \"Macrophage\", \"location_percent\": 0.6029214567580978, \"methylation\": 0.7574622001679614}, {\"cell type\": \"Macrophage\", \"location_percent\": 0.6055732679091862, \"methylation\": 0.7988614001052454}, {\"cell type\": \"Macrophage\", \"location_percent\": 0.6077022394427554, \"methylation\": 0.7808114000525326}, {\"cell type\": \"Macrophage\", \"location_percent\": 0.6104178443585025, \"methylation\": 0.7291510001605377}, {\"cell type\": \"Macrophage\", \"location_percent\": 0.6157125803800931, \"methylation\": 0.7845111999532208}, {\"cell type\": \"Macrophage\", \"location_percent\": 0.6184204048811724, \"methylation\": 0.799183199818246}, {\"cell type\": \"Macrophage\", \"location_percent\": 0.6207319653467976, \"methylation\": 0.7711288000481203}, {\"cell type\": \"Macrophage\", \"location_percent\": 0.622788606610108, \"methylation\": 0.6513454002857209}, {\"cell type\": \"Macrophage\", \"location_percent\": 0.6246950499637894, \"methylation\": 0.8222032003475354}, {\"cell type\": \"Macrophage\", \"location_percent\": 0.6270935050341544, \"methylation\": 0.7674674001280218}, {\"cell type\": \"Macrophage\", \"location_percent\": 0.6291087694448274, \"methylation\": 0.5990182000871748}, {\"cell type\": \"Macrophage\", \"location_percent\": 0.6315553395201383, \"methylation\": 0.7833190001912415}, {\"cell type\": \"Macrophage\", \"location_percent\": 0.6369300797855547, \"methylation\": 0.8630742001786827}, {\"cell type\": \"Macrophage\", \"location_percent\": 0.6426828889551266, \"methylation\": 0.7857624003022909}, {\"cell type\": \"Macrophage\", \"location_percent\": 0.6462539087541876, \"methylation\": 0.8121940003709868}, {\"cell type\": \"Macrophage\", \"location_percent\": 0.6492823702385347, \"methylation\": 0.7216906000947579}, {\"cell type\": \"Macrophage\", \"location_percent\": 0.6540522282959242, \"methylation\": 0.8693027999922633}, {\"cell type\": \"Macrophage\", \"location_percent\": 0.6612437606834008, \"methylation\": 0.8450103994959965}, {\"cell type\": \"Macrophage\", \"location_percent\": 0.6661231769994157, \"methylation\": 0.7329695998024195}, {\"cell type\": \"Macrophage\", \"location_percent\": 0.6712346930191128, \"methylation\": 0.7628147999882698}, {\"cell type\": \"Macrophage\", \"location_percent\": 0.6748450476172889, \"methylation\": 0.79682380005382}, {\"cell type\": \"Macrophage\", \"location_percent\": 0.6805365489485318, \"methylation\": 0.8443677999868989}, {\"cell type\": \"Macrophage\", \"location_percent\": 0.6876716958374319, \"methylation\": 0.8121018002215773}, {\"cell type\": \"Macrophage\", \"location_percent\": 0.694325260010548, \"methylation\": 0.8737858001725748}, {\"cell type\": \"Macrophage\", \"location_percent\": 0.7004137970732184, \"methylation\": 0.8661894002418965}, {\"cell type\": \"Macrophage\", \"location_percent\": 0.7054695633583825, \"methylation\": 0.8537049997920171}, {\"cell type\": \"Macrophage\", \"location_percent\": 0.7118303446916582, \"methylation\": 0.8383925997957588}, {\"cell type\": \"Macrophage\", \"location_percent\": 0.7174651007399062, \"methylation\": 0.814890000090003}, {\"cell type\": \"Macrophage\", \"location_percent\": 0.7212811779511834, \"methylation\": 0.7845372001914307}, {\"cell type\": \"Macrophage\", \"location_percent\": 0.7248587794970401, \"methylation\": 0.7948600002463907}, {\"cell type\": \"Macrophage\", \"location_percent\": 0.7284803735170797, \"methylation\": 0.764939399892278}, {\"cell type\": \"Macrophage\", \"location_percent\": 0.7330908291358866, \"methylation\": 0.7793794001080095}, {\"cell type\": \"Macrophage\", \"location_percent\": 0.7374085680523033, \"methylation\": 0.8129365999070928}, {\"cell type\": \"Macrophage\", \"location_percent\": 0.7425568189502147, \"methylation\": 0.824906400251016}, {\"cell type\": \"Macrophage\", \"location_percent\": 0.7494033132658772, \"methylation\": 0.8827705998998135}, {\"cell type\": \"Macrophage\", \"location_percent\": 0.759217443257359, \"methylation\": 0.8929031995452941}, {\"cell type\": \"Macrophage\", \"location_percent\": 0.7706853867844782, \"methylation\": 0.9001879999596626}, {\"cell type\": \"Macrophage\", \"location_percent\": 0.7792251973449464, \"methylation\": 0.8718301995113492}, {\"cell type\": \"Macrophage\", \"location_percent\": 0.7898608836140232, \"methylation\": 0.8748089998843148}, {\"cell type\": \"Macrophage\", \"location_percent\": 0.7985752763376359, \"methylation\": 0.8369448002368212}, {\"cell type\": \"Macrophage\", \"location_percent\": 0.8049222505151525, \"methylation\": 0.8187738000687211}, {\"cell type\": \"Macrophage\", \"location_percent\": 0.8079318178894391, \"methylation\": 0.7940927997685969}, {\"cell type\": \"Macrophage\", \"location_percent\": 0.810279670180732, \"methylation\": 0.7577575999386609}, {\"cell type\": \"Macrophage\", \"location_percent\": 0.8129344940255101, \"methylation\": 0.7921572003267705}, {\"cell type\": \"Macrophage\", \"location_percent\": 0.8160544135608904, \"methylation\": 0.7540933997780085}, {\"cell type\": \"Macrophage\", \"location_percent\": 0.8189395613015843, \"methylation\": 0.819543600565195}, {\"cell type\": \"Macrophage\", \"location_percent\": 0.8216391194296188, \"methylation\": 0.8082809999793767}, {\"cell type\": \"Macrophage\", \"location_percent\": 0.8242860105482898, \"methylation\": 0.7976578000729904}, {\"cell type\": \"Macrophage\", \"location_percent\": 0.8269761212842719, \"methylation\": 0.8017490004394203}, {\"cell type\": \"Macrophage\", \"location_percent\": 0.8310516870008683, \"methylation\": 0.7737910004287958}, {\"cell type\": \"Macrophage\", \"location_percent\": 0.8355418661229882, \"methylation\": 0.7722317999968306}, {\"cell type\": \"Macrophage\", \"location_percent\": 0.840376011175697, \"methylation\": 0.8350866000181064}, {\"cell type\": \"Macrophage\", \"location_percent\": 0.8451330140860845, \"methylation\": 0.8034961997419596}, {\"cell type\": \"Macrophage\", \"location_percent\": 0.8496745395051599, \"methylation\": 0.752692600190267}, {\"cell type\": \"Macrophage\", \"location_percent\": 0.8531758783159292, \"methylation\": 0.7644842002518475}, {\"cell type\": \"Macrophage\", \"location_percent\": 0.856714572359139, \"methylation\": 0.8432891998240725}, {\"cell type\": \"Macrophage\", \"location_percent\": 0.8612751257892354, \"methylation\": 0.809821399869956}, {\"cell type\": \"Macrophage\", \"location_percent\": 0.8677996284354785, \"methylation\": 0.846535999879241}, {\"cell type\": \"Macrophage\", \"location_percent\": 0.8749202297088777, \"methylation\": 0.8034809995315969}, {\"cell type\": \"Macrophage\", \"location_percent\": 0.88159259376087, \"methylation\": 0.8535305999366567}, {\"cell type\": \"Macrophage\", \"location_percent\": 0.8866891622292005, \"methylation\": 0.7690768000837416}, {\"cell type\": \"Macrophage\", \"location_percent\": 0.892249445162003, \"methylation\": 0.854193999807164}, {\"cell type\": \"Macrophage\", \"location_percent\": 0.8969789503849379, \"methylation\": 0.8267413999630139}, {\"cell type\": \"Macrophage\", \"location_percent\": 0.9005567096337822, \"methylation\": 0.7954884003231302}, {\"cell type\": \"Macrophage\", \"location_percent\": 0.9046366042984666, \"methylation\": 0.8412748000895605}, {\"cell type\": \"Macrophage\", \"location_percent\": 0.9077000767787482, \"methylation\": 0.722574600334838}, {\"cell type\": \"Macrophage\", \"location_percent\": 0.9098472533919907, \"methylation\": 0.7762157999863848}, {\"cell type\": \"Macrophage\", \"location_percent\": 0.9125930484175775, \"methylation\": 0.813342799751088}, {\"cell type\": \"Macrophage\", \"location_percent\": 0.9155984321191282, \"methylation\": 0.6616874000579118}, {\"cell type\": \"Macrophage\", \"location_percent\": 0.9169905774913368, \"methylation\": 0.7852028004089371}, {\"cell type\": \"Macrophage\", \"location_percent\": 0.918998821902921, \"methylation\": 0.7265637999694794}, {\"cell type\": \"Macrophage\", \"location_percent\": 0.9219377527765761, \"methylation\": 0.7562664002997801}, {\"cell type\": \"Macrophage\", \"location_percent\": 0.9247761978023201, \"methylation\": 0.8264348002310842}, {\"cell type\": \"Macrophage\", \"location_percent\": 0.9275374539228393, \"methylation\": 0.7805977996537462}, {\"cell type\": \"Macrophage\", \"location_percent\": 0.9304286387956668, \"methylation\": 0.8297280001593754}, {\"cell type\": \"Macrophage\", \"location_percent\": 0.9344372594491072, \"methylation\": 0.8616915998240933}, {\"cell type\": \"Macrophage\", \"location_percent\": 0.9385212190640084, \"methylation\": 0.8092690003311261}, {\"cell type\": \"Macrophage\", \"location_percent\": 0.9422075720017229, \"methylation\": 0.7609190002165734}, {\"cell type\": \"Macrophage\", \"location_percent\": 0.9447104832469769, \"methylation\": 0.8390502002634108}, {\"cell type\": \"Macrophage\", \"location_percent\": 0.9473024342840383, \"methylation\": 0.7706324001776055}, {\"cell type\": \"Macrophage\", \"location_percent\": 0.9499878036470109, \"methylation\": 0.8222875999946148}, {\"cell type\": \"Macrophage\", \"location_percent\": 0.9534658990722653, \"methylation\": 0.8641836000634358}, {\"cell type\": \"Macrophage\", \"location_percent\": 0.9594835723119759, \"methylation\": 0.8914206000320614}, {\"cell type\": \"Macrophage\", \"location_percent\": 0.9647579441344416, \"methylation\": 0.8351347995245829}, {\"cell type\": \"Macrophage\", \"location_percent\": 0.9686440305604781, \"methylation\": 0.8322861998360604}, {\"cell type\": \"Macrophage\", \"location_percent\": 0.973088910002595, \"methylation\": 0.8563517996998504}, {\"cell type\": \"Macrophage\", \"location_percent\": 0.9785908489792103, \"methylation\": 0.8489304001724347}, {\"cell type\": \"Macrophage\", \"location_percent\": 0.9820751162031897, \"methylation\": 0.8470094001561403}, {\"cell type\": \"Macrophage\", \"location_percent\": 0.9845915049051218, \"methylation\": 0.7763026002814993}, {\"cell type\": \"Macrophage\", \"location_percent\": 0.9868355889287743, \"methylation\": 0.91095600030981}, {\"cell type\": \"Macrophage\", \"location_percent\": 0.9900470819912088, \"methylation\": 0.8723186003440991}, {\"cell type\": \"Macrophage\", \"location_percent\": 0.9927289756035415, \"methylation\": 0.7936676000718027}, {\"cell type\": \"Macrophage\", \"location_percent\": 0.9967784688411874, \"methylation\": 0.807841000143066}, {\"cell type\": \"Macrophage\", \"location_percent\": 0.9997851491467284, \"methylation\": 0.5778705883917271}, {\"cell type\": \"Plasma_cell\", \"location_percent\": 0.003676119763053545, \"methylation\": 0.45805380001850426}, {\"cell type\": \"Plasma_cell\", \"location_percent\": 0.004465720273871209, \"methylation\": 0.5980377999836579}, {\"cell type\": \"Plasma_cell\", \"location_percent\": 0.0051001949308608656, \"methylation\": 0.6252418002812192}, {\"cell type\": \"Plasma_cell\", \"location_percent\": 0.005732162152368408, \"methylation\": 0.6108261998612433}, {\"cell type\": \"Plasma_cell\", \"location_percent\": 0.006603782688887392, \"methylation\": 0.639062999852933}, {\"cell type\": \"Plasma_cell\", \"location_percent\": 0.0077641144942953684, \"methylation\": 0.6242105998136103}, {\"cell type\": \"Plasma_cell\", \"location_percent\": 0.008547084066766198, \"methylation\": 0.7042376002378762}, {\"cell type\": \"Plasma_cell\", \"location_percent\": 0.009266068247657518, \"methylation\": 0.6460956003233791}, {\"cell type\": \"Plasma_cell\", \"location_percent\": 0.009999537494175072, \"methylation\": 0.5437941997561604}, {\"cell type\": \"Plasma_cell\", \"location_percent\": 0.011260355398151518, \"methylation\": 0.6322751995965838}, {\"cell type\": \"Plasma_cell\", \"location_percent\": 0.01236374524192954, \"methylation\": 0.6273446003861726}, {\"cell type\": \"Plasma_cell\", \"location_percent\": 0.013180077405713593, \"methylation\": 0.6660191999496892}, {\"cell type\": \"Plasma_cell\", \"location_percent\": 0.014015607969029682, \"methylation\": 0.5950645999850706}, {\"cell type\": \"Plasma_cell\", \"location_percent\": 0.014848286059466687, \"methylation\": 0.5935472000965849}, {\"cell type\": \"Plasma_cell\", \"location_percent\": 0.015976448039732954, \"methylation\": 0.6748811999626457}, {\"cell type\": \"Plasma_cell\", \"location_percent\": 0.0180896116743192, \"methylation\": 0.5725520001577213}, {\"cell type\": \"Plasma_cell\", \"location_percent\": 0.02041491478511762, \"methylation\": 0.5790579997239634}, {\"cell type\": \"Plasma_cell\", \"location_percent\": 0.022996190597601787, \"methylation\": 0.6530868001230061}, {\"cell type\": \"Plasma_cell\", \"location_percent\": 0.024356066097746522, \"methylation\": 0.7172948002895341}, {\"cell type\": \"Plasma_cell\", \"location_percent\": 0.025349393752694696, \"methylation\": 0.5998028004009277}, {\"cell type\": \"Plasma_cell\", \"location_percent\": 0.026379789968144354, \"methylation\": 0.6055346003770828}, {\"cell type\": \"Plasma_cell\", \"location_percent\": 0.028012696572336654, \"methylation\": 0.6383536002261564}, {\"cell type\": \"Plasma_cell\", \"location_percent\": 0.030060316146137696, \"methylation\": 0.584288000193052}, {\"cell type\": \"Plasma_cell\", \"location_percent\": 0.031769214034499775, \"methylation\": 0.6277938001073897}, {\"cell type\": \"Plasma_cell\", \"location_percent\": 0.03375410728584114, \"methylation\": 0.7377215998265892}, {\"cell type\": \"Plasma_cell\", \"location_percent\": 0.036169383744949574, \"methylation\": 0.6568066004311666}, {\"cell type\": \"Plasma_cell\", \"location_percent\": 0.03763205595750637, \"methylation\": 0.6845285997714847}, {\"cell type\": \"Plasma_cell\", \"location_percent\": 0.03897295142184893, \"methylation\": 0.6896710002083332}, {\"cell type\": \"Plasma_cell\", \"location_percent\": 0.0406708003993602, \"methylation\": 0.7698742002433165}, {\"cell type\": \"Plasma_cell\", \"location_percent\": 0.042509547502040695, \"methylation\": 0.7632203998919577}, {\"cell type\": \"Plasma_cell\", \"location_percent\": 0.04374688586169062, \"methylation\": 0.6010246002830565}, {\"cell type\": \"Plasma_cell\", \"location_percent\": 0.04552760753532779, \"methylation\": 0.6708372001498938}, {\"cell type\": \"Plasma_cell\", \"location_percent\": 0.047202162765234236, \"methylation\": 0.5938006001757458}, {\"cell type\": \"Plasma_cell\", \"location_percent\": 0.0487361095843471, \"methylation\": 0.7272102003447711}, {\"cell type\": \"Plasma_cell\", \"location_percent\": 0.05179764520695356, \"methylation\": 0.647719199948199}, {\"cell type\": \"Plasma_cell\", \"location_percent\": 0.05552232233015758, \"methylation\": 0.6197350003384053}, {\"cell type\": \"Plasma_cell\", \"location_percent\": 0.05881692233144541, \"methylation\": 0.5788770001348108}, {\"cell type\": \"Plasma_cell\", \"location_percent\": 0.0607528680861553, \"methylation\": 0.5990997997952625}, {\"cell type\": \"Plasma_cell\", \"location_percent\": 0.06254098394406007, \"methylation\": 0.702269000130333}, {\"cell type\": \"Plasma_cell\", \"location_percent\": 0.0641523559694098, \"methylation\": 0.5981512003213167}, {\"cell type\": \"Plasma_cell\", \"location_percent\": 0.06607136459262927, \"methylation\": 0.6676642001211643}, {\"cell type\": \"Plasma_cell\", \"location_percent\": 0.06884246590923274, \"methylation\": 0.6425445997193455}, {\"cell type\": \"Plasma_cell\", \"location_percent\": 0.07063640412588974, \"methylation\": 0.5973834001833573}, {\"cell type\": \"Plasma_cell\", \"location_percent\": 0.07278444585808003, \"methylation\": 0.5279610001422465}, {\"cell type\": \"Plasma_cell\", \"location_percent\": 0.07519659228923681, \"methylation\": 0.5608701998749748}, {\"cell type\": \"Plasma_cell\", \"location_percent\": 0.07711387744231522, \"methylation\": 0.7015092005103827}, {\"cell type\": \"Plasma_cell\", \"location_percent\": 0.07914268042914459, \"methylation\": 0.6640574000637979}, {\"cell type\": \"Plasma_cell\", \"location_percent\": 0.0816932947621655, \"methylation\": 0.5460046000603587}, {\"cell type\": \"Plasma_cell\", \"location_percent\": 0.08382884105705694, \"methylation\": 0.7141740001969039}, {\"cell type\": \"Plasma_cell\", \"location_percent\": 0.08625534036570597, \"methylation\": 0.6161441999979317}, {\"cell type\": \"Plasma_cell\", \"location_percent\": 0.08803454684396413, \"methylation\": 0.6693304000766948}, {\"cell type\": \"Plasma_cell\", \"location_percent\": 0.0899805551807631, \"methylation\": 0.6134393998589367}, {\"cell type\": \"Plasma_cell\", \"location_percent\": 0.09195357171975715, \"methylation\": 0.601867600329779}, {\"cell type\": \"Plasma_cell\", \"location_percent\": 0.09427404100827994, \"methylation\": 0.6097186001690105}, {\"cell type\": \"Plasma_cell\", \"location_percent\": 0.09634276493368989, \"methylation\": 0.6404433998659254}, {\"cell type\": \"Plasma_cell\", \"location_percent\": 0.09861375662013698, \"methylation\": 0.7014596005136147}, {\"cell type\": \"Plasma_cell\", \"location_percent\": 0.10072550466600903, \"methylation\": 0.624398600162752}, {\"cell type\": \"Plasma_cell\", \"location_percent\": 0.10314810654485072, \"methylation\": 0.5972300000129268}, {\"cell type\": \"Plasma_cell\", \"location_percent\": 0.10500989629568619, \"methylation\": 0.5764550001163036}, {\"cell type\": \"Plasma_cell\", \"location_percent\": 0.10696839320080212, \"methylation\": 0.639655200120993}, {\"cell type\": \"Plasma_cell\", \"location_percent\": 0.1088393614258599, \"methylation\": 0.6739318000968546}, {\"cell type\": \"Plasma_cell\", \"location_percent\": 0.1106391993813546, \"methylation\": 0.6502186001202092}, {\"cell type\": \"Plasma_cell\", \"location_percent\": 0.11287308602376726, \"methylation\": 0.7083422002274543}, {\"cell type\": \"Plasma_cell\", \"location_percent\": 0.1149275348526619, \"methylation\": 0.7134934005493299}, {\"cell type\": \"Plasma_cell\", \"location_percent\": 0.11687812663694418, \"methylation\": 0.6490266002796591}, {\"cell type\": \"Plasma_cell\", \"location_percent\": 0.1194711289889599, \"methylation\": 0.5094376001326367}, {\"cell type\": \"Plasma_cell\", \"location_percent\": 0.12266920308550329, \"methylation\": 0.502733000282757}, {\"cell type\": \"Plasma_cell\", \"location_percent\": 0.1252249086934554, \"methylation\": 0.6417633998697624}, {\"cell type\": \"Plasma_cell\", \"location_percent\": 0.12753433901869862, \"methylation\": 0.59423000042364}, {\"cell type\": \"Plasma_cell\", \"location_percent\": 0.12952089101509007, \"methylation\": 0.651210400063172}, {\"cell type\": \"Plasma_cell\", \"location_percent\": 0.13146775860046847, \"methylation\": 0.6413950002824887}, {\"cell type\": \"Plasma_cell\", \"location_percent\": 0.13363001110095765, \"methylation\": 0.6195921999527142}, {\"cell type\": \"Plasma_cell\", \"location_percent\": 0.13691717304084958, \"methylation\": 0.5444774001283571}, {\"cell type\": \"Plasma_cell\", \"location_percent\": 0.1405201083761454, \"methylation\": 0.6354315998125821}, {\"cell type\": \"Plasma_cell\", \"location_percent\": 0.14346140693805493, \"methylation\": 0.7308578003026545}, {\"cell type\": \"Plasma_cell\", \"location_percent\": 0.14576311543903747, \"methylation\": 0.6737366001293064}, {\"cell type\": \"Plasma_cell\", \"location_percent\": 0.148083932949594, \"methylation\": 0.5074729998758063}, {\"cell type\": \"Plasma_cell\", \"location_percent\": 0.1509290806684358, \"methylation\": 0.5696730001168325}, {\"cell type\": \"Plasma_cell\", \"location_percent\": 0.15301173763916362, \"methylation\": 0.6447894001752138}, {\"cell type\": \"Plasma_cell\", \"location_percent\": 0.15599036303931144, \"methylation\": 0.6490958003010601}, {\"cell type\": \"Plasma_cell\", \"location_percent\": 0.15855704044877122, \"methylation\": 0.6864930002870038}, {\"cell type\": \"Plasma_cell\", \"location_percent\": 0.161017342693857, \"methylation\": 0.6745080000594258}, {\"cell type\": \"Plasma_cell\", \"location_percent\": 0.16379412579610042, \"methylation\": 0.6360019999813289}, {\"cell type\": \"Plasma_cell\", \"location_percent\": 0.16652037774949732, \"methylation\": 0.6147598000284284}, {\"cell type\": \"Plasma_cell\", \"location_percent\": 0.16964790396813012, \"methylation\": 0.6402034002348781}, {\"cell type\": \"Plasma_cell\", \"location_percent\": 0.17278576043178726, \"methylation\": 0.6711656001562253}, {\"cell type\": \"Plasma_cell\", \"location_percent\": 0.17496416900991005, \"methylation\": 0.6970212003778666}, {\"cell type\": \"Plasma_cell\", \"location_percent\": 0.17717439249970804, \"methylation\": 0.6556828002570197}, {\"cell type\": \"Plasma_cell\", \"location_percent\": 0.17949280176770155, \"methylation\": 0.6609810000604018}, {\"cell type\": \"Plasma_cell\", \"location_percent\": 0.18201696530315353, \"methylation\": 0.6867640004713088}, {\"cell type\": \"Plasma_cell\", \"location_percent\": 0.18500077710840998, \"methylation\": 0.7329770001936704}, {\"cell type\": \"Plasma_cell\", \"location_percent\": 0.1878000537821199, \"methylation\": 0.568348400032334}, {\"cell type\": \"Plasma_cell\", \"location_percent\": 0.19113291148438302, \"methylation\": 0.5140539998902008}, {\"cell type\": \"Plasma_cell\", \"location_percent\": 0.19509046546386563, \"methylation\": 0.5686267998985947}, {\"cell type\": \"Plasma_cell\", \"location_percent\": 0.20231891742081426, \"methylation\": 0.6492902001997456}, {\"cell type\": \"Plasma_cell\", \"location_percent\": 0.20677058627069914, \"methylation\": 0.7010258001964539}, {\"cell type\": \"Plasma_cell\", \"location_percent\": 0.21031169639273484, \"methylation\": 0.6903474001329393}, {\"cell type\": \"Plasma_cell\", \"location_percent\": 0.21297447779077183, \"methylation\": 0.7425264001440257}, {\"cell type\": \"Plasma_cell\", \"location_percent\": 0.2150321480709555, \"methylation\": 0.6097416003528983}, {\"cell type\": \"Plasma_cell\", \"location_percent\": 0.21743524913590517, \"methylation\": 0.7845220001026988}, {\"cell type\": \"Plasma_cell\", \"location_percent\": 0.2195583145388682, \"methylation\": 0.6320293998422101}, {\"cell type\": \"Plasma_cell\", \"location_percent\": 0.22294307000646635, \"methylation\": 0.6097804001534358}, {\"cell type\": \"Plasma_cell\", \"location_percent\": 0.22901837034175423, \"methylation\": 0.5606960000447929}, {\"cell type\": \"Plasma_cell\", \"location_percent\": 0.23476671318199283, \"methylation\": 0.6048686003705487}, {\"cell type\": \"Plasma_cell\", \"location_percent\": 0.24033117140335658, \"methylation\": 0.6652132003145292}, {\"cell type\": \"Plasma_cell\", \"location_percent\": 0.2464464129202352, \"methylation\": 0.6153187998564914}, {\"cell type\": \"Plasma_cell\", \"location_percent\": 0.25036602955118764, \"methylation\": 0.6815434001669287}, {\"cell type\": \"Plasma_cell\", \"location_percent\": 0.2544928921040527, \"methylation\": 0.6095578003687784}, {\"cell type\": \"Plasma_cell\", \"location_percent\": 0.25932785080333487, \"methylation\": 0.6152134001528844}, {\"cell type\": \"Plasma_cell\", \"location_percent\": 0.2640151825918596, \"methylation\": 0.5623884002443403}, {\"cell type\": \"Plasma_cell\", \"location_percent\": 0.2706226402342726, \"methylation\": 0.6397554002027959}, {\"cell type\": \"Plasma_cell\", \"location_percent\": 0.2766666142770889, \"methylation\": 0.5708435996763408}, {\"cell type\": \"Plasma_cell\", \"location_percent\": 0.2847918813711238, \"methylation\": 0.6305080001702532}, {\"cell type\": \"Plasma_cell\", \"location_percent\": 0.29537009721766505, \"methylation\": 0.6118920000350103}, {\"cell type\": \"Plasma_cell\", \"location_percent\": 0.3045138566634441, \"methylation\": 0.5830115996520966}, {\"cell type\": \"Plasma_cell\", \"location_percent\": 0.3115117321451832, \"methylation\": 0.6617588005334138}, {\"cell type\": \"Plasma_cell\", \"location_percent\": 0.3189619716298273, \"methylation\": 0.6392809997487813}, {\"cell type\": \"Plasma_cell\", \"location_percent\": 0.32834059771365975, \"methylation\": 0.6152872000703589}, {\"cell type\": \"Plasma_cell\", \"location_percent\": 0.33746458840544213, \"methylation\": 0.636038000266999}, {\"cell type\": \"Plasma_cell\", \"location_percent\": 0.3431155959916944, \"methylation\": 0.576149600093253}, {\"cell type\": \"Plasma_cell\", \"location_percent\": 0.349223177236014, \"methylation\": 0.6900669997494667}, {\"cell type\": \"Plasma_cell\", \"location_percent\": 0.3551782492072984, \"methylation\": 0.7605232003478334}, {\"cell type\": \"Plasma_cell\", \"location_percent\": 0.3613557431632069, \"methylation\": 0.6529000000305474}, {\"cell type\": \"Plasma_cell\", \"location_percent\": 0.3666328984015835, \"methylation\": 0.6607882001543418}, {\"cell type\": \"Plasma_cell\", \"location_percent\": 0.3709133591322385, \"methylation\": 0.7074479996057227}, {\"cell type\": \"Plasma_cell\", \"location_percent\": 0.3752804868199321, \"methylation\": 0.6911472001478076}, {\"cell type\": \"Plasma_cell\", \"location_percent\": 0.3792445783766482, \"methylation\": 0.56209340008609}, {\"cell type\": \"Plasma_cell\", \"location_percent\": 0.3845214066161367, \"methylation\": 0.5991896001473069}, {\"cell type\": \"Plasma_cell\", \"location_percent\": 0.39332841692634596, \"methylation\": 0.5774478002488613}, {\"cell type\": \"Plasma_cell\", \"location_percent\": 0.4015865050029145, \"methylation\": 0.6689652000810951}, {\"cell type\": \"Plasma_cell\", \"location_percent\": 0.40851637072207087, \"methylation\": 0.6564854001544416}, {\"cell type\": \"Plasma_cell\", \"location_percent\": 0.41991969660196965, \"methylation\": 0.6134064003180713}, {\"cell type\": \"Plasma_cell\", \"location_percent\": 0.43055078448131806, \"methylation\": 0.6409900001851842}, {\"cell type\": \"Plasma_cell\", \"location_percent\": 0.4369902250330292, \"methylation\": 0.6755432001810521}, {\"cell type\": \"Plasma_cell\", \"location_percent\": 0.4395067366592089, \"methylation\": 0.6229492002617568}, {\"cell type\": \"Plasma_cell\", \"location_percent\": 0.4420931474502205, \"methylation\": 0.5416870001737029}, {\"cell type\": \"Plasma_cell\", \"location_percent\": 0.4452618576669903, \"methylation\": 0.6041707995733246}, {\"cell type\": \"Plasma_cell\", \"location_percent\": 0.4499488783765972, \"methylation\": 0.5562164002414792}, {\"cell type\": \"Plasma_cell\", \"location_percent\": 0.4534552790646619, \"methylation\": 0.7140680002620444}, {\"cell type\": \"Plasma_cell\", \"location_percent\": 0.4573720282025615, \"methylation\": 0.6204956003626808}, {\"cell type\": \"Plasma_cell\", \"location_percent\": 0.4619238703841752, \"methylation\": 0.5957415999678894}, {\"cell type\": \"Plasma_cell\", \"location_percent\": 0.46672478787931104, \"methylation\": 0.603755599958077}, {\"cell type\": \"Plasma_cell\", \"location_percent\": 0.4706645074671437, \"methylation\": 0.670714799929969}, {\"cell type\": \"Plasma_cell\", \"location_percent\": 0.4765971852181486, \"methylation\": 0.6330272002095356}, {\"cell type\": \"Plasma_cell\", \"location_percent\": 0.49318729804896927, \"methylation\": 0.6713160000873729}, {\"cell type\": \"Plasma_cell\", \"location_percent\": 0.5837070715570246, \"methylation\": 0.6048124002307653}, {\"cell type\": \"Plasma_cell\", \"location_percent\": 0.5932961326920843, \"methylation\": 0.6324216002438218}, {\"cell type\": \"Plasma_cell\", \"location_percent\": 0.6029214567580978, \"methylation\": 0.7062598000800238}, {\"cell type\": \"Plasma_cell\", \"location_percent\": 0.6055732679091862, \"methylation\": 0.7352930001236498}, {\"cell type\": \"Plasma_cell\", \"location_percent\": 0.6077022394427554, \"methylation\": 0.7206469998670741}, {\"cell type\": \"Plasma_cell\", \"location_percent\": 0.6104178443585025, \"methylation\": 0.6195268000703305}, {\"cell type\": \"Plasma_cell\", \"location_percent\": 0.6157125803800931, \"methylation\": 0.5718187997689471}, {\"cell type\": \"Plasma_cell\", \"location_percent\": 0.6184204048811724, \"methylation\": 0.7138503997860476}, {\"cell type\": \"Plasma_cell\", \"location_percent\": 0.6207319653467976, \"methylation\": 0.6782380003683269}, {\"cell type\": \"Plasma_cell\", \"location_percent\": 0.622788606610108, \"methylation\": 0.552281400003098}, {\"cell type\": \"Plasma_cell\", \"location_percent\": 0.6246950499637894, \"methylation\": 0.7823712002916261}, {\"cell type\": \"Plasma_cell\", \"location_percent\": 0.6270935050341544, \"methylation\": 0.693318399831839}, {\"cell type\": \"Plasma_cell\", \"location_percent\": 0.6291087694448274, \"methylation\": 0.5407631998378783}, {\"cell type\": \"Plasma_cell\", \"location_percent\": 0.6315553395201383, \"methylation\": 0.5959752004990354}, {\"cell type\": \"Plasma_cell\", \"location_percent\": 0.6369300797855547, \"methylation\": 0.6501728000570088}, {\"cell type\": \"Plasma_cell\", \"location_percent\": 0.6426828889551266, \"methylation\": 0.6275308000355959}, {\"cell type\": \"Plasma_cell\", \"location_percent\": 0.6462539087541876, \"methylation\": 0.7024100003261119}, {\"cell type\": \"Plasma_cell\", \"location_percent\": 0.6492823702385347, \"methylation\": 0.6278096005897968}, {\"cell type\": \"Plasma_cell\", \"location_percent\": 0.6540522282959242, \"methylation\": 0.6632545998418704}, {\"cell type\": \"Plasma_cell\", \"location_percent\": 0.6612437606834008, \"methylation\": 0.571404199773632}, {\"cell type\": \"Plasma_cell\", \"location_percent\": 0.6661231769994157, \"methylation\": 0.5815334002731368}, {\"cell type\": \"Plasma_cell\", \"location_percent\": 0.6712346930191128, \"methylation\": 0.6131356001097709}, {\"cell type\": \"Plasma_cell\", \"location_percent\": 0.6748450476172889, \"methylation\": 0.6882956001138315}, {\"cell type\": \"Plasma_cell\", \"location_percent\": 0.6805365489485318, \"methylation\": 0.6614553999314084}, {\"cell type\": \"Plasma_cell\", \"location_percent\": 0.6876716958374319, \"methylation\": 0.6311326000206172}, {\"cell type\": \"Plasma_cell\", \"location_percent\": 0.694325260010548, \"methylation\": 0.7373776000738144}, {\"cell type\": \"Plasma_cell\", \"location_percent\": 0.7004137970732184, \"methylation\": 0.7935050000388175}, {\"cell type\": \"Plasma_cell\", \"location_percent\": 0.7054695633583825, \"methylation\": 0.6998319999771193}, {\"cell type\": \"Plasma_cell\", \"location_percent\": 0.7118303446916582, \"methylation\": 0.5500326000407338}, {\"cell type\": \"Plasma_cell\", \"location_percent\": 0.7174651007399062, \"methylation\": 0.6627818003758789}, {\"cell type\": \"Plasma_cell\", \"location_percent\": 0.7212811779511834, \"methylation\": 0.6921098002197221}, {\"cell type\": \"Plasma_cell\", \"location_percent\": 0.7248587794970401, \"methylation\": 0.7035734002804384}, {\"cell type\": \"Plasma_cell\", \"location_percent\": 0.7284803735170797, \"methylation\": 0.5963356000879779}, {\"cell type\": \"Plasma_cell\", \"location_percent\": 0.7330908291358866, \"methylation\": 0.6386567999362945}, {\"cell type\": \"Plasma_cell\", \"location_percent\": 0.7374085680523033, \"methylation\": 0.6292051999714225}, {\"cell type\": \"Plasma_cell\", \"location_percent\": 0.7425568189502147, \"methylation\": 0.6766234000569209}, {\"cell type\": \"Plasma_cell\", \"location_percent\": 0.7494033132658772, \"methylation\": 0.6570109999170527}, {\"cell type\": \"Plasma_cell\", \"location_percent\": 0.759217443257359, \"methylation\": 0.6259991995910182}, {\"cell type\": \"Plasma_cell\", \"location_percent\": 0.7706853867844782, \"methylation\": 0.627379800234735}, {\"cell type\": \"Plasma_cell\", \"location_percent\": 0.7792251973449464, \"methylation\": 0.6467868000481277}, {\"cell type\": \"Plasma_cell\", \"location_percent\": 0.7898608836140232, \"methylation\": 0.6373416000723838}, {\"cell type\": \"Plasma_cell\", \"location_percent\": 0.7985752763376359, \"methylation\": 0.6828305999690667}, {\"cell type\": \"Plasma_cell\", \"location_percent\": 0.8049222505151525, \"methylation\": 0.6848136003402993}, {\"cell type\": \"Plasma_cell\", \"location_percent\": 0.8079318178894391, \"methylation\": 0.6275779999449849}, {\"cell type\": \"Plasma_cell\", \"location_percent\": 0.810279670180732, \"methylation\": 0.6193466003904119}, {\"cell type\": \"Plasma_cell\", \"location_percent\": 0.8129344940255101, \"methylation\": 0.6338847999382764}, {\"cell type\": \"Plasma_cell\", \"location_percent\": 0.8160544135608904, \"methylation\": 0.5725856003720313}, {\"cell type\": \"Plasma_cell\", \"location_percent\": 0.8189395613015843, \"methylation\": 0.6575380000859499}, {\"cell type\": \"Plasma_cell\", \"location_percent\": 0.8216391194296188, \"methylation\": 0.6086007999863475}, {\"cell type\": \"Plasma_cell\", \"location_percent\": 0.8242860105482898, \"methylation\": 0.6335114001944662}, {\"cell type\": \"Plasma_cell\", \"location_percent\": 0.8269761212842719, \"methylation\": 0.6689686001228169}, {\"cell type\": \"Plasma_cell\", \"location_percent\": 0.8310516870008683, \"methylation\": 0.6354876003777609}, {\"cell type\": \"Plasma_cell\", \"location_percent\": 0.8355418661229882, \"methylation\": 0.5881571999063715}, {\"cell type\": \"Plasma_cell\", \"location_percent\": 0.840376011175697, \"methylation\": 0.585123000029102}, {\"cell type\": \"Plasma_cell\", \"location_percent\": 0.8451330140860845, \"methylation\": 0.5869249998327345}, {\"cell type\": \"Plasma_cell\", \"location_percent\": 0.8496745395051599, \"methylation\": 0.6344378001965583}, {\"cell type\": \"Plasma_cell\", \"location_percent\": 0.8531758783159292, \"methylation\": 0.6763142004098743}, {\"cell type\": \"Plasma_cell\", \"location_percent\": 0.856714572359139, \"methylation\": 0.6599850002812222}, {\"cell type\": \"Plasma_cell\", \"location_percent\": 0.8612751257892354, \"methylation\": 0.6293784001685679}, {\"cell type\": \"Plasma_cell\", \"location_percent\": 0.8677996284354785, \"methylation\": 0.5722327997367829}, {\"cell type\": \"Plasma_cell\", \"location_percent\": 0.8749202297088777, \"methylation\": 0.6206270001400263}, {\"cell type\": \"Plasma_cell\", \"location_percent\": 0.88159259376087, \"methylation\": 0.6654806000364945}, {\"cell type\": \"Plasma_cell\", \"location_percent\": 0.8866891622292005, \"methylation\": 0.6536073996232823}, {\"cell type\": \"Plasma_cell\", \"location_percent\": 0.892249445162003, \"methylation\": 0.6703446003604681}, {\"cell type\": \"Plasma_cell\", \"location_percent\": 0.8969789503849379, \"methylation\": 0.6092119998127222}, {\"cell type\": \"Plasma_cell\", \"location_percent\": 0.9005567096337822, \"methylation\": 0.705410600292869}, {\"cell type\": \"Plasma_cell\", \"location_percent\": 0.9046366042984666, \"methylation\": 0.6308180000398308}, {\"cell type\": \"Plasma_cell\", \"location_percent\": 0.9077000767787482, \"methylation\": 0.6229720002837479}, {\"cell type\": \"Plasma_cell\", \"location_percent\": 0.9098472533919907, \"methylation\": 0.6363108000652865}, {\"cell type\": \"Plasma_cell\", \"location_percent\": 0.9125930484175775, \"methylation\": 0.6802797999948264}, {\"cell type\": \"Plasma_cell\", \"location_percent\": 0.9155984321191282, \"methylation\": 0.5260810000911355}, {\"cell type\": \"Plasma_cell\", \"location_percent\": 0.9169905774913368, \"methylation\": 0.6453973995998502}, {\"cell type\": \"Plasma_cell\", \"location_percent\": 0.918998821902921, \"methylation\": 0.5889137997421436}, {\"cell type\": \"Plasma_cell\", \"location_percent\": 0.9219377527765761, \"methylation\": 0.6562510004315525}, {\"cell type\": \"Plasma_cell\", \"location_percent\": 0.9247761978023201, \"methylation\": 0.6836072000650689}, {\"cell type\": \"Plasma_cell\", \"location_percent\": 0.9275374539228393, \"methylation\": 0.6422462004611269}, {\"cell type\": \"Plasma_cell\", \"location_percent\": 0.9304286387956668, \"methylation\": 0.6675910002481192}, {\"cell type\": \"Plasma_cell\", \"location_percent\": 0.9344372594491072, \"methylation\": 0.6135852000324056}, {\"cell type\": \"Plasma_cell\", \"location_percent\": 0.9385212190640084, \"methylation\": 0.6161589999761432}, {\"cell type\": \"Plasma_cell\", \"location_percent\": 0.9422075720017229, \"methylation\": 0.6601260000312701}, {\"cell type\": \"Plasma_cell\", \"location_percent\": 0.9447104832469769, \"methylation\": 0.7730750002402812}, {\"cell type\": \"Plasma_cell\", \"location_percent\": 0.9473024342840383, \"methylation\": 0.660233200215362}, {\"cell type\": \"Plasma_cell\", \"location_percent\": 0.9499878036470109, \"methylation\": 0.6794897998463363}, {\"cell type\": \"Plasma_cell\", \"location_percent\": 0.9534658990722653, \"methylation\": 0.6362431997977197}, {\"cell type\": \"Plasma_cell\", \"location_percent\": 0.9594835723119759, \"methylation\": 0.6008158003004268}, {\"cell type\": \"Plasma_cell\", \"location_percent\": 0.9647579441344416, \"methylation\": 0.6096434001430869}, {\"cell type\": \"Plasma_cell\", \"location_percent\": 0.9686440305604781, \"methylation\": 0.6158172001084313}, {\"cell type\": \"Plasma_cell\", \"location_percent\": 0.973088910002595, \"methylation\": 0.636086400311999}, {\"cell type\": \"Plasma_cell\", \"location_percent\": 0.9785908489792103, \"methylation\": 0.7455822001855821}, {\"cell type\": \"Plasma_cell\", \"location_percent\": 0.9820751162031897, \"methylation\": 0.6946200002146885}, {\"cell type\": \"Plasma_cell\", \"location_percent\": 0.9845915049051218, \"methylation\": 0.6103866003591567}, {\"cell type\": \"Plasma_cell\", \"location_percent\": 0.9868355889287743, \"methylation\": 0.7392622000191361}, {\"cell type\": \"Plasma_cell\", \"location_percent\": 0.9900470819912088, \"methylation\": 0.8107250003345311}, {\"cell type\": \"Plasma_cell\", \"location_percent\": 0.9927289756035415, \"methylation\": 0.7280156000450253}, {\"cell type\": \"Plasma_cell\", \"location_percent\": 0.9967784688411874, \"methylation\": 0.6330117999142035}, {\"cell type\": \"Plasma_cell\", \"location_percent\": 0.9997851491467284, \"methylation\": 0.5212117644702541}]}}, {\"mode\": \"vega-lite\"});\n",
              "</script>"
            ],
            "text/plain": [
              "alt.Chart(...)"
            ]
          },
          "metadata": {},
          "execution_count": 15
        }
      ]
    },
    {
      "cell_type": "markdown",
      "source": [
        "# Promoters"
      ],
      "metadata": {
        "id": "7dIyxmbVl36W"
      }
    },
    {
      "cell_type": "code",
      "source": [
        "! wget https://ftp.ebi.ac.uk/pub/databases/gencode/Gencode_human/release_40/gencode.v40.annotation.gtf.gz\n",
        "! gunzip gencode.v40.annotation.gtf.gz"
      ],
      "metadata": {
        "id": "zxUkDDsIkF0V",
        "colab": {
          "base_uri": "https://localhost:8080/"
        },
        "outputId": "069dd3c1-2069-4d68-976e-310c37fec75a"
      },
      "execution_count": 4,
      "outputs": [
        {
          "output_type": "stream",
          "name": "stdout",
          "text": [
            "--2022-07-11 18:50:04--  https://ftp.ebi.ac.uk/pub/databases/gencode/Gencode_human/release_40/gencode.v40.annotation.gtf.gz\n",
            "Resolving ftp.ebi.ac.uk (ftp.ebi.ac.uk)... 193.62.193.138\n",
            "Connecting to ftp.ebi.ac.uk (ftp.ebi.ac.uk)|193.62.193.138|:443... connected.\n",
            "HTTP request sent, awaiting response... 200 OK\n",
            "Length: 48043727 (46M) [application/octet-stream]\n",
            "Saving to: ‘gencode.v40.annotation.gtf.gz’\n",
            "\n",
            "gencode.v40.annotat 100%[===================>]  45.82M  2.96MB/s    in 9.6s    \n",
            "\n",
            "2022-07-11 18:50:13 (4.78 MB/s) - ‘gencode.v40.annotation.gtf.gz’ saved [48043727/48043727]\n",
            "\n"
          ]
        }
      ]
    },
    {
      "cell_type": "code",
      "source": [
        "! pip install bedparse"
      ],
      "metadata": {
        "colab": {
          "base_uri": "https://localhost:8080/",
          "height": 242
        },
        "id": "FT0Q15oWl_7J",
        "outputId": "0ceee919-d35a-4db8-ea75-382f88932a10"
      },
      "execution_count": 5,
      "outputs": [
        {
          "output_type": "stream",
          "name": "stdout",
          "text": [
            "Looking in indexes: https://pypi.org/simple, https://us-python.pkg.dev/colab-wheels/public/simple/\n",
            "Collecting bedparse\n",
            "  Downloading bedparse-0.2.3-py3-none-any.whl (21 kB)\n",
            "Collecting argparse\n",
            "  Downloading argparse-1.4.0-py2.py3-none-any.whl (23 kB)\n",
            "Requirement already satisfied: setuptools in /usr/local/lib/python3.7/dist-packages (from bedparse) (57.4.0)\n",
            "Installing collected packages: argparse, bedparse\n",
            "Successfully installed argparse-1.4.0 bedparse-0.2.3\n"
          ]
        },
        {
          "output_type": "display_data",
          "data": {
            "application/vnd.colab-display-data+json": {
              "pip_warning": {
                "packages": [
                  "argparse"
                ]
              }
            }
          },
          "metadata": {}
        }
      ]
    },
    {
      "cell_type": "code",
      "source": [
        "! bedparse gtf2bed <gencode.v40.annotation.gtf> output.bed\n",
        "output_bed = pybedtools.BedTool(\"output.bed\")"
      ],
      "metadata": {
        "id": "ABpX2T9t5s0q"
      },
      "execution_count": 6,
      "outputs": []
    },
    {
      "cell_type": "code",
      "source": [
        "output_bed[]"
      ],
      "metadata": {
        "colab": {
          "base_uri": "https://localhost:8080/",
          "height": 287
        },
        "id": "doDwlJqI94_2",
        "outputId": "84de5b4f-9def-4e95-ec2c-f2351f624a35"
      },
      "execution_count": 11,
      "outputs": [
        {
          "output_type": "error",
          "ename": "ValueError",
          "evalue": "ignored",
          "traceback": [
            "\u001b[0;31m---------------------------------------------------------------------------\u001b[0m",
            "\u001b[0;31mValueError\u001b[0m                                Traceback (most recent call last)",
            "\u001b[0;32m<ipython-input-11-13df617989eb>\u001b[0m in \u001b[0;36m<module>\u001b[0;34m()\u001b[0m\n\u001b[0;32m----> 1\u001b[0;31m \u001b[0moutput_bed\u001b[0m\u001b[0;34m[\u001b[0m\u001b[0;34m\"chrom\"\u001b[0m\u001b[0;34m]\u001b[0m\u001b[0;34m\u001b[0m\u001b[0;34m\u001b[0m\u001b[0m\n\u001b[0m",
            "\u001b[0;32m/usr/local/lib/python3.7/dist-packages/pybedtools/bedtool.py\u001b[0m in \u001b[0;36m__getitem__\u001b[0;34m(self, key)\u001b[0m\n\u001b[1;32m   1263\u001b[0m         \u001b[0;32melse\u001b[0m\u001b[0;34m:\u001b[0m\u001b[0;34m\u001b[0m\u001b[0;34m\u001b[0m\u001b[0m\n\u001b[1;32m   1264\u001b[0m             raise ValueError(\n\u001b[0;32m-> 1265\u001b[0;31m                 \u001b[0;34m\"Only slices or integers allowed for indexing \"\u001b[0m \u001b[0;34m\"into a BedTool\"\u001b[0m\u001b[0;34m\u001b[0m\u001b[0;34m\u001b[0m\u001b[0m\n\u001b[0m\u001b[1;32m   1266\u001b[0m             )\n\u001b[1;32m   1267\u001b[0m \u001b[0;34m\u001b[0m\u001b[0m\n",
            "\u001b[0;31mValueError\u001b[0m: Only slices or integers allowed for indexing into a BedTool"
          ]
        }
      ]
    },
    {
      "cell_type": "code",
      "source": [
        ""
      ],
      "metadata": {
        "id": "dCvpAhJ2nYew"
      },
      "execution_count": null,
      "outputs": []
    }
  ],
  "metadata": {
    "colab": {
      "collapsed_sections": [],
      "name": "data_processing.ipynb",
      "provenance": [],
      "authorship_tag": "ABX9TyPgy8oRNrV5ouvSZqr5gCBR",
      "include_colab_link": true
    },
    "kernelspec": {
      "display_name": "Python 3",
      "name": "python3"
    },
    "language_info": {
      "name": "python"
    },
    "widgets": {
      "application/vnd.jupyter.widget-state+json": {
        "6a37496426db49068ab4aa400d3556c7": {
          "model_module": "@jupyter-widgets/controls",
          "model_name": "HBoxModel",
          "model_module_version": "1.5.0",
          "state": {
            "_dom_classes": [],
            "_model_module": "@jupyter-widgets/controls",
            "_model_module_version": "1.5.0",
            "_model_name": "HBoxModel",
            "_view_count": null,
            "_view_module": "@jupyter-widgets/controls",
            "_view_module_version": "1.5.0",
            "_view_name": "HBoxView",
            "box_style": "",
            "children": [
              "IPY_MODEL_8d7cd9669308451c910f387c1290f89d",
              "IPY_MODEL_8ebfe95be60148ada751697eec698bba",
              "IPY_MODEL_7e2836e7c37f4a08bf71c0aef6769d48"
            ],
            "layout": "IPY_MODEL_368d204565574a08a1d38390c10134e4"
          }
        },
        "8d7cd9669308451c910f387c1290f89d": {
          "model_module": "@jupyter-widgets/controls",
          "model_name": "HTMLModel",
          "model_module_version": "1.5.0",
          "state": {
            "_dom_classes": [],
            "_model_module": "@jupyter-widgets/controls",
            "_model_module_version": "1.5.0",
            "_model_name": "HTMLModel",
            "_view_count": null,
            "_view_module": "@jupyter-widgets/controls",
            "_view_module_version": "1.5.0",
            "_view_name": "HTMLView",
            "description": "",
            "description_tooltip": null,
            "layout": "IPY_MODEL_a40e663fd593493bb8857e9e2e39740d",
            "placeholder": "​",
            "style": "IPY_MODEL_7a24192b5ade434bb56124172a98040c",
            "value": "100%"
          }
        },
        "8ebfe95be60148ada751697eec698bba": {
          "model_module": "@jupyter-widgets/controls",
          "model_name": "FloatProgressModel",
          "model_module_version": "1.5.0",
          "state": {
            "_dom_classes": [],
            "_model_module": "@jupyter-widgets/controls",
            "_model_module_version": "1.5.0",
            "_model_name": "FloatProgressModel",
            "_view_count": null,
            "_view_module": "@jupyter-widgets/controls",
            "_view_module_version": "1.5.0",
            "_view_name": "ProgressView",
            "bar_style": "success",
            "description": "",
            "description_tooltip": null,
            "layout": "IPY_MODEL_89f4232b747b4c3d837ea34c5b80a7d3",
            "max": 2,
            "min": 0,
            "orientation": "horizontal",
            "style": "IPY_MODEL_3a5c30dcba774e2ba379ccaab3dbc523",
            "value": 2
          }
        },
        "7e2836e7c37f4a08bf71c0aef6769d48": {
          "model_module": "@jupyter-widgets/controls",
          "model_name": "HTMLModel",
          "model_module_version": "1.5.0",
          "state": {
            "_dom_classes": [],
            "_model_module": "@jupyter-widgets/controls",
            "_model_module_version": "1.5.0",
            "_model_name": "HTMLModel",
            "_view_count": null,
            "_view_module": "@jupyter-widgets/controls",
            "_view_module_version": "1.5.0",
            "_view_name": "HTMLView",
            "description": "",
            "description_tooltip": null,
            "layout": "IPY_MODEL_9543c8a037954a489b06e8785521f86b",
            "placeholder": "​",
            "style": "IPY_MODEL_578b217be739419d8d58c4d5bb4d5449",
            "value": " 2/2 [01:12&lt;00:00, 37.88s/it]"
          }
        },
        "368d204565574a08a1d38390c10134e4": {
          "model_module": "@jupyter-widgets/base",
          "model_name": "LayoutModel",
          "model_module_version": "1.2.0",
          "state": {
            "_model_module": "@jupyter-widgets/base",
            "_model_module_version": "1.2.0",
            "_model_name": "LayoutModel",
            "_view_count": null,
            "_view_module": "@jupyter-widgets/base",
            "_view_module_version": "1.2.0",
            "_view_name": "LayoutView",
            "align_content": null,
            "align_items": null,
            "align_self": null,
            "border": null,
            "bottom": null,
            "display": null,
            "flex": null,
            "flex_flow": null,
            "grid_area": null,
            "grid_auto_columns": null,
            "grid_auto_flow": null,
            "grid_auto_rows": null,
            "grid_column": null,
            "grid_gap": null,
            "grid_row": null,
            "grid_template_areas": null,
            "grid_template_columns": null,
            "grid_template_rows": null,
            "height": null,
            "justify_content": null,
            "justify_items": null,
            "left": null,
            "margin": null,
            "max_height": null,
            "max_width": null,
            "min_height": null,
            "min_width": null,
            "object_fit": null,
            "object_position": null,
            "order": null,
            "overflow": null,
            "overflow_x": null,
            "overflow_y": null,
            "padding": null,
            "right": null,
            "top": null,
            "visibility": null,
            "width": null
          }
        },
        "a40e663fd593493bb8857e9e2e39740d": {
          "model_module": "@jupyter-widgets/base",
          "model_name": "LayoutModel",
          "model_module_version": "1.2.0",
          "state": {
            "_model_module": "@jupyter-widgets/base",
            "_model_module_version": "1.2.0",
            "_model_name": "LayoutModel",
            "_view_count": null,
            "_view_module": "@jupyter-widgets/base",
            "_view_module_version": "1.2.0",
            "_view_name": "LayoutView",
            "align_content": null,
            "align_items": null,
            "align_self": null,
            "border": null,
            "bottom": null,
            "display": null,
            "flex": null,
            "flex_flow": null,
            "grid_area": null,
            "grid_auto_columns": null,
            "grid_auto_flow": null,
            "grid_auto_rows": null,
            "grid_column": null,
            "grid_gap": null,
            "grid_row": null,
            "grid_template_areas": null,
            "grid_template_columns": null,
            "grid_template_rows": null,
            "height": null,
            "justify_content": null,
            "justify_items": null,
            "left": null,
            "margin": null,
            "max_height": null,
            "max_width": null,
            "min_height": null,
            "min_width": null,
            "object_fit": null,
            "object_position": null,
            "order": null,
            "overflow": null,
            "overflow_x": null,
            "overflow_y": null,
            "padding": null,
            "right": null,
            "top": null,
            "visibility": null,
            "width": null
          }
        },
        "7a24192b5ade434bb56124172a98040c": {
          "model_module": "@jupyter-widgets/controls",
          "model_name": "DescriptionStyleModel",
          "model_module_version": "1.5.0",
          "state": {
            "_model_module": "@jupyter-widgets/controls",
            "_model_module_version": "1.5.0",
            "_model_name": "DescriptionStyleModel",
            "_view_count": null,
            "_view_module": "@jupyter-widgets/base",
            "_view_module_version": "1.2.0",
            "_view_name": "StyleView",
            "description_width": ""
          }
        },
        "89f4232b747b4c3d837ea34c5b80a7d3": {
          "model_module": "@jupyter-widgets/base",
          "model_name": "LayoutModel",
          "model_module_version": "1.2.0",
          "state": {
            "_model_module": "@jupyter-widgets/base",
            "_model_module_version": "1.2.0",
            "_model_name": "LayoutModel",
            "_view_count": null,
            "_view_module": "@jupyter-widgets/base",
            "_view_module_version": "1.2.0",
            "_view_name": "LayoutView",
            "align_content": null,
            "align_items": null,
            "align_self": null,
            "border": null,
            "bottom": null,
            "display": null,
            "flex": null,
            "flex_flow": null,
            "grid_area": null,
            "grid_auto_columns": null,
            "grid_auto_flow": null,
            "grid_auto_rows": null,
            "grid_column": null,
            "grid_gap": null,
            "grid_row": null,
            "grid_template_areas": null,
            "grid_template_columns": null,
            "grid_template_rows": null,
            "height": null,
            "justify_content": null,
            "justify_items": null,
            "left": null,
            "margin": null,
            "max_height": null,
            "max_width": null,
            "min_height": null,
            "min_width": null,
            "object_fit": null,
            "object_position": null,
            "order": null,
            "overflow": null,
            "overflow_x": null,
            "overflow_y": null,
            "padding": null,
            "right": null,
            "top": null,
            "visibility": null,
            "width": null
          }
        },
        "3a5c30dcba774e2ba379ccaab3dbc523": {
          "model_module": "@jupyter-widgets/controls",
          "model_name": "ProgressStyleModel",
          "model_module_version": "1.5.0",
          "state": {
            "_model_module": "@jupyter-widgets/controls",
            "_model_module_version": "1.5.0",
            "_model_name": "ProgressStyleModel",
            "_view_count": null,
            "_view_module": "@jupyter-widgets/base",
            "_view_module_version": "1.2.0",
            "_view_name": "StyleView",
            "bar_color": null,
            "description_width": ""
          }
        },
        "9543c8a037954a489b06e8785521f86b": {
          "model_module": "@jupyter-widgets/base",
          "model_name": "LayoutModel",
          "model_module_version": "1.2.0",
          "state": {
            "_model_module": "@jupyter-widgets/base",
            "_model_module_version": "1.2.0",
            "_model_name": "LayoutModel",
            "_view_count": null,
            "_view_module": "@jupyter-widgets/base",
            "_view_module_version": "1.2.0",
            "_view_name": "LayoutView",
            "align_content": null,
            "align_items": null,
            "align_self": null,
            "border": null,
            "bottom": null,
            "display": null,
            "flex": null,
            "flex_flow": null,
            "grid_area": null,
            "grid_auto_columns": null,
            "grid_auto_flow": null,
            "grid_auto_rows": null,
            "grid_column": null,
            "grid_gap": null,
            "grid_row": null,
            "grid_template_areas": null,
            "grid_template_columns": null,
            "grid_template_rows": null,
            "height": null,
            "justify_content": null,
            "justify_items": null,
            "left": null,
            "margin": null,
            "max_height": null,
            "max_width": null,
            "min_height": null,
            "min_width": null,
            "object_fit": null,
            "object_position": null,
            "order": null,
            "overflow": null,
            "overflow_x": null,
            "overflow_y": null,
            "padding": null,
            "right": null,
            "top": null,
            "visibility": null,
            "width": null
          }
        },
        "578b217be739419d8d58c4d5bb4d5449": {
          "model_module": "@jupyter-widgets/controls",
          "model_name": "DescriptionStyleModel",
          "model_module_version": "1.5.0",
          "state": {
            "_model_module": "@jupyter-widgets/controls",
            "_model_module_version": "1.5.0",
            "_model_name": "DescriptionStyleModel",
            "_view_count": null,
            "_view_module": "@jupyter-widgets/base",
            "_view_module_version": "1.2.0",
            "_view_name": "StyleView",
            "description_width": ""
          }
        },
        "513461e2b1ca4f2f85872487306ba921": {
          "model_module": "@jupyter-widgets/controls",
          "model_name": "HBoxModel",
          "model_module_version": "1.5.0",
          "state": {
            "_dom_classes": [],
            "_model_module": "@jupyter-widgets/controls",
            "_model_module_version": "1.5.0",
            "_model_name": "HBoxModel",
            "_view_count": null,
            "_view_module": "@jupyter-widgets/controls",
            "_view_module_version": "1.5.0",
            "_view_name": "HBoxView",
            "box_style": "",
            "children": [
              "IPY_MODEL_4d79edf211a14ecc8a89d32de25b6766",
              "IPY_MODEL_0da1e8c7aa0e4f249845392c15b1895c",
              "IPY_MODEL_65c69b09d37a4d9b8d91498d5eafca6c"
            ],
            "layout": "IPY_MODEL_f2f214979a3f4287bcc616e5cfbd4bbb"
          }
        },
        "4d79edf211a14ecc8a89d32de25b6766": {
          "model_module": "@jupyter-widgets/controls",
          "model_name": "HTMLModel",
          "model_module_version": "1.5.0",
          "state": {
            "_dom_classes": [],
            "_model_module": "@jupyter-widgets/controls",
            "_model_module_version": "1.5.0",
            "_model_name": "HTMLModel",
            "_view_count": null,
            "_view_module": "@jupyter-widgets/controls",
            "_view_module_version": "1.5.0",
            "_view_name": "HTMLView",
            "description": "",
            "description_tooltip": null,
            "layout": "IPY_MODEL_fef29329f2b44221ac9c74337eb11241",
            "placeholder": "​",
            "style": "IPY_MODEL_159a4eaae0cb4913a47994fe6709c0a2",
            "value": "100%"
          }
        },
        "0da1e8c7aa0e4f249845392c15b1895c": {
          "model_module": "@jupyter-widgets/controls",
          "model_name": "FloatProgressModel",
          "model_module_version": "1.5.0",
          "state": {
            "_dom_classes": [],
            "_model_module": "@jupyter-widgets/controls",
            "_model_module_version": "1.5.0",
            "_model_name": "FloatProgressModel",
            "_view_count": null,
            "_view_module": "@jupyter-widgets/controls",
            "_view_module_version": "1.5.0",
            "_view_name": "ProgressView",
            "bar_style": "success",
            "description": "",
            "description_tooltip": null,
            "layout": "IPY_MODEL_81bb6b804ddb4456b5abf58af5f6ffa9",
            "max": 2,
            "min": 0,
            "orientation": "horizontal",
            "style": "IPY_MODEL_adf5a67f20eb4752a19a47c1242936df",
            "value": 2
          }
        },
        "65c69b09d37a4d9b8d91498d5eafca6c": {
          "model_module": "@jupyter-widgets/controls",
          "model_name": "HTMLModel",
          "model_module_version": "1.5.0",
          "state": {
            "_dom_classes": [],
            "_model_module": "@jupyter-widgets/controls",
            "_model_module_version": "1.5.0",
            "_model_name": "HTMLModel",
            "_view_count": null,
            "_view_module": "@jupyter-widgets/controls",
            "_view_module_version": "1.5.0",
            "_view_name": "HTMLView",
            "description": "",
            "description_tooltip": null,
            "layout": "IPY_MODEL_153c16b120304e998be900b8dae35fca",
            "placeholder": "​",
            "style": "IPY_MODEL_9faef0f987a94979828fac5d7c706d74",
            "value": " 2/2 [23:27&lt;00:00, 708.77s/it]"
          }
        },
        "f2f214979a3f4287bcc616e5cfbd4bbb": {
          "model_module": "@jupyter-widgets/base",
          "model_name": "LayoutModel",
          "model_module_version": "1.2.0",
          "state": {
            "_model_module": "@jupyter-widgets/base",
            "_model_module_version": "1.2.0",
            "_model_name": "LayoutModel",
            "_view_count": null,
            "_view_module": "@jupyter-widgets/base",
            "_view_module_version": "1.2.0",
            "_view_name": "LayoutView",
            "align_content": null,
            "align_items": null,
            "align_self": null,
            "border": null,
            "bottom": null,
            "display": null,
            "flex": null,
            "flex_flow": null,
            "grid_area": null,
            "grid_auto_columns": null,
            "grid_auto_flow": null,
            "grid_auto_rows": null,
            "grid_column": null,
            "grid_gap": null,
            "grid_row": null,
            "grid_template_areas": null,
            "grid_template_columns": null,
            "grid_template_rows": null,
            "height": null,
            "justify_content": null,
            "justify_items": null,
            "left": null,
            "margin": null,
            "max_height": null,
            "max_width": null,
            "min_height": null,
            "min_width": null,
            "object_fit": null,
            "object_position": null,
            "order": null,
            "overflow": null,
            "overflow_x": null,
            "overflow_y": null,
            "padding": null,
            "right": null,
            "top": null,
            "visibility": null,
            "width": null
          }
        },
        "fef29329f2b44221ac9c74337eb11241": {
          "model_module": "@jupyter-widgets/base",
          "model_name": "LayoutModel",
          "model_module_version": "1.2.0",
          "state": {
            "_model_module": "@jupyter-widgets/base",
            "_model_module_version": "1.2.0",
            "_model_name": "LayoutModel",
            "_view_count": null,
            "_view_module": "@jupyter-widgets/base",
            "_view_module_version": "1.2.0",
            "_view_name": "LayoutView",
            "align_content": null,
            "align_items": null,
            "align_self": null,
            "border": null,
            "bottom": null,
            "display": null,
            "flex": null,
            "flex_flow": null,
            "grid_area": null,
            "grid_auto_columns": null,
            "grid_auto_flow": null,
            "grid_auto_rows": null,
            "grid_column": null,
            "grid_gap": null,
            "grid_row": null,
            "grid_template_areas": null,
            "grid_template_columns": null,
            "grid_template_rows": null,
            "height": null,
            "justify_content": null,
            "justify_items": null,
            "left": null,
            "margin": null,
            "max_height": null,
            "max_width": null,
            "min_height": null,
            "min_width": null,
            "object_fit": null,
            "object_position": null,
            "order": null,
            "overflow": null,
            "overflow_x": null,
            "overflow_y": null,
            "padding": null,
            "right": null,
            "top": null,
            "visibility": null,
            "width": null
          }
        },
        "159a4eaae0cb4913a47994fe6709c0a2": {
          "model_module": "@jupyter-widgets/controls",
          "model_name": "DescriptionStyleModel",
          "model_module_version": "1.5.0",
          "state": {
            "_model_module": "@jupyter-widgets/controls",
            "_model_module_version": "1.5.0",
            "_model_name": "DescriptionStyleModel",
            "_view_count": null,
            "_view_module": "@jupyter-widgets/base",
            "_view_module_version": "1.2.0",
            "_view_name": "StyleView",
            "description_width": ""
          }
        },
        "81bb6b804ddb4456b5abf58af5f6ffa9": {
          "model_module": "@jupyter-widgets/base",
          "model_name": "LayoutModel",
          "model_module_version": "1.2.0",
          "state": {
            "_model_module": "@jupyter-widgets/base",
            "_model_module_version": "1.2.0",
            "_model_name": "LayoutModel",
            "_view_count": null,
            "_view_module": "@jupyter-widgets/base",
            "_view_module_version": "1.2.0",
            "_view_name": "LayoutView",
            "align_content": null,
            "align_items": null,
            "align_self": null,
            "border": null,
            "bottom": null,
            "display": null,
            "flex": null,
            "flex_flow": null,
            "grid_area": null,
            "grid_auto_columns": null,
            "grid_auto_flow": null,
            "grid_auto_rows": null,
            "grid_column": null,
            "grid_gap": null,
            "grid_row": null,
            "grid_template_areas": null,
            "grid_template_columns": null,
            "grid_template_rows": null,
            "height": null,
            "justify_content": null,
            "justify_items": null,
            "left": null,
            "margin": null,
            "max_height": null,
            "max_width": null,
            "min_height": null,
            "min_width": null,
            "object_fit": null,
            "object_position": null,
            "order": null,
            "overflow": null,
            "overflow_x": null,
            "overflow_y": null,
            "padding": null,
            "right": null,
            "top": null,
            "visibility": null,
            "width": null
          }
        },
        "adf5a67f20eb4752a19a47c1242936df": {
          "model_module": "@jupyter-widgets/controls",
          "model_name": "ProgressStyleModel",
          "model_module_version": "1.5.0",
          "state": {
            "_model_module": "@jupyter-widgets/controls",
            "_model_module_version": "1.5.0",
            "_model_name": "ProgressStyleModel",
            "_view_count": null,
            "_view_module": "@jupyter-widgets/base",
            "_view_module_version": "1.2.0",
            "_view_name": "StyleView",
            "bar_color": null,
            "description_width": ""
          }
        },
        "153c16b120304e998be900b8dae35fca": {
          "model_module": "@jupyter-widgets/base",
          "model_name": "LayoutModel",
          "model_module_version": "1.2.0",
          "state": {
            "_model_module": "@jupyter-widgets/base",
            "_model_module_version": "1.2.0",
            "_model_name": "LayoutModel",
            "_view_count": null,
            "_view_module": "@jupyter-widgets/base",
            "_view_module_version": "1.2.0",
            "_view_name": "LayoutView",
            "align_content": null,
            "align_items": null,
            "align_self": null,
            "border": null,
            "bottom": null,
            "display": null,
            "flex": null,
            "flex_flow": null,
            "grid_area": null,
            "grid_auto_columns": null,
            "grid_auto_flow": null,
            "grid_auto_rows": null,
            "grid_column": null,
            "grid_gap": null,
            "grid_row": null,
            "grid_template_areas": null,
            "grid_template_columns": null,
            "grid_template_rows": null,
            "height": null,
            "justify_content": null,
            "justify_items": null,
            "left": null,
            "margin": null,
            "max_height": null,
            "max_width": null,
            "min_height": null,
            "min_width": null,
            "object_fit": null,
            "object_position": null,
            "order": null,
            "overflow": null,
            "overflow_x": null,
            "overflow_y": null,
            "padding": null,
            "right": null,
            "top": null,
            "visibility": null,
            "width": null
          }
        },
        "9faef0f987a94979828fac5d7c706d74": {
          "model_module": "@jupyter-widgets/controls",
          "model_name": "DescriptionStyleModel",
          "model_module_version": "1.5.0",
          "state": {
            "_model_module": "@jupyter-widgets/controls",
            "_model_module_version": "1.5.0",
            "_model_name": "DescriptionStyleModel",
            "_view_count": null,
            "_view_module": "@jupyter-widgets/base",
            "_view_module_version": "1.2.0",
            "_view_name": "StyleView",
            "description_width": ""
          }
        }
      }
    }
  },
  "nbformat": 4,
  "nbformat_minor": 0
}