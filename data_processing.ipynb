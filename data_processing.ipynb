{
  "nbformat": 4,
  "nbformat_minor": 0,
  "metadata": {
    "colab": {
      "name": "data_processing.ipynb",
      "provenance": [],
      "collapsed_sections": [],
      "authorship_tag": "ABX9TyMLrM9gxMAnEIX+LRcu9Oab",
      "include_colab_link": true
    },
    "kernelspec": {
      "name": "python3",
      "display_name": "Python 3"
    },
    "language_info": {
      "name": "python"
    }
  },
  "cells": [
    {
      "cell_type": "markdown",
      "metadata": {
        "id": "view-in-github",
        "colab_type": "text"
      },
      "source": [
        "<a href=\"https://colab.research.google.com/github/semenko/liquid-cell-atlas/blob/main/data_processing.ipynb\" target=\"_parent\"><img src=\"https://colab.research.google.com/assets/colab-badge.svg\" alt=\"Open In Colab\"/></a>"
      ]
    },
    {
      "cell_type": "markdown",
      "source": [
        "# Import Necessary Libraries"
      ],
      "metadata": {
        "id": "NT3ulHYicog6"
      }
    },
    {
      "cell_type": "code",
      "source": [
        "!pip install pyBigWig pybedtools\n",
        "!pip install pybedtools --upgrade"
      ],
      "metadata": {
        "colab": {
          "base_uri": "https://localhost:8080/"
        },
        "id": "LcfesrKDApQG",
        "outputId": "1cb4ec17-01ae-46c8-d74e-54139bbfdc4b"
      },
      "execution_count": 20,
      "outputs": [
        {
          "output_type": "stream",
          "name": "stdout",
          "text": [
            "Looking in indexes: https://pypi.org/simple, https://us-python.pkg.dev/colab-wheels/public/simple/\n",
            "Requirement already satisfied: pyBigWig in /usr/local/lib/python3.7/dist-packages (0.3.18)\n",
            "Requirement already satisfied: pybedtools in /usr/local/lib/python3.7/dist-packages (0.9.0)\n",
            "Requirement already satisfied: pysam in /usr/local/lib/python3.7/dist-packages (from pybedtools) (0.19.1)\n",
            "Requirement already satisfied: six in /usr/local/lib/python3.7/dist-packages (from pybedtools) (1.15.0)\n",
            "Looking in indexes: https://pypi.org/simple, https://us-python.pkg.dev/colab-wheels/public/simple/\n",
            "Requirement already satisfied: pybedtools in /usr/local/lib/python3.7/dist-packages (0.9.0)\n",
            "Requirement already satisfied: six in /usr/local/lib/python3.7/dist-packages (from pybedtools) (1.15.0)\n",
            "Requirement already satisfied: pysam in /usr/local/lib/python3.7/dist-packages (from pybedtools) (0.19.1)\n"
          ]
        }
      ]
    },
    {
      "cell_type": "code",
      "execution_count": 12,
      "metadata": {
        "id": "9_mdlbHEVKH6"
      },
      "outputs": [],
      "source": [
        "import pandas as pd\n",
        "from google.colab import files\n",
        "import io\n",
        "import json\n",
        "import itertools\n",
        "import numpy as np\n",
        "import altair as alt\n",
        "from tqdm.notebook import tqdm\n",
        "import csv\n",
        "import os\n",
        "import urllib\n",
        "\n",
        "import pyBigWig\n",
        "import pybedtools"
      ]
    },
    {
      "cell_type": "markdown",
      "source": [
        "# Get TSV of all data from Blueprint, Filter and Download it"
      ],
      "metadata": {
        "id": "9NPsWXlCcp99"
      }
    },
    {
      "cell_type": "code",
      "source": [
        "# Download the TSV file from http://dcc.blueprint-epigenome.eu/#/files, and upload it here\n",
        "file = files.upload()\n",
        "data_tsv = pd.read_csv(io.BytesIO(file['blueprint_files.tsv']), sep='\\t')"
      ],
      "metadata": {
        "colab": {
          "resources": {
            "http://localhost:8080/nbextensions/google.colab/files.js": {
              "data": "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",
              "ok": true,
              "headers": [
                [
                  "content-type",
                  "application/javascript"
                ]
              ],
              "status": 200,
              "status_text": ""
            }
          },
          "base_uri": "https://localhost:8080/",
          "height": 74
        },
        "id": "rUVY8WOqba1c",
        "outputId": "cf42a27a-625b-42e5-ef81-9434895cec05"
      },
      "execution_count": 3,
      "outputs": [
        {
          "output_type": "display_data",
          "data": {
            "text/plain": [
              "<IPython.core.display.HTML object>"
            ],
            "text/html": [
              "\n",
              "     <input type=\"file\" id=\"files-46fe30fd-2be3-499e-a1c4-67456d0ed561\" name=\"files[]\" multiple disabled\n",
              "        style=\"border:none\" />\n",
              "     <output id=\"result-46fe30fd-2be3-499e-a1c4-67456d0ed561\">\n",
              "      Upload widget is only available when the cell has been executed in the\n",
              "      current browser session. Please rerun this cell to enable.\n",
              "      </output>\n",
              "      <script src=\"/nbextensions/google.colab/files.js\"></script> "
            ]
          },
          "metadata": {}
        },
        {
          "output_type": "stream",
          "name": "stdout",
          "text": [
            "Saving blueprint_files.tsv to blueprint_files.tsv\n"
          ]
        }
      ]
    },
    {
      "cell_type": "markdown",
      "source": [
        "Filtering the tsv file to get rid of individuals with diseases, and only keeping the bigWig file format. We also only keep bisulfite sequencing data."
      ],
      "metadata": {
        "id": "Ymwfdg0jw5VA"
      }
    },
    {
      "cell_type": "code",
      "source": [
        "noDisease_bw_data = data_tsv[(data_tsv['Disease'] == 'None') & \n",
        "                             (data_tsv['Format'] == 'bigWig') & \n",
        "                             (data_tsv['Experiment'] == 'Bisulfite-Seq')]"
      ],
      "metadata": {
        "id": "VOQY2CHkbzDn"
      },
      "execution_count": 4,
      "outputs": []
    },
    {
      "cell_type": "markdown",
      "source": [
        "Types of cells present in the dataset. For now, I'll choose a macrophage sample, and a plasma cell"
      ],
      "metadata": {
        "id": "TcZMPRBRxBF9"
      }
    },
    {
      "cell_type": "code",
      "source": [
        "cell_types = noDisease_bw_data['Cell type'].unique()\n",
        "cell_types"
      ],
      "metadata": {
        "colab": {
          "base_uri": "https://localhost:8080/"
        },
        "id": "76vT2Ulwm-v3",
        "outputId": "6dea0006-38bf-4c56-afc4-aa490fe2cc99"
      },
      "execution_count": 5,
      "outputs": [
        {
          "output_type": "execute_result",
          "data": {
            "text/plain": [
              "array(['band form neutrophil', 'neutrophilic metamyelocyte',\n",
              "       'neutrophilic myelocyte', 'segmented neutrophil of bone marrow',\n",
              "       'hematopoietic multipotent progenitor cell', 'precursor B cell',\n",
              "       'precursor lymphocyte of B lineage', 'plasma cell',\n",
              "       'mature neutrophil', 'CD38-negative naive B cell',\n",
              "       'CD14-positive, CD16-negative classical monocyte',\n",
              "       'CD8-positive, alpha-beta T cell',\n",
              "       'cytotoxic CD56-dim natural killer cell',\n",
              "       'inflammatory macrophage', 'erythroblast',\n",
              "       'CD34-negative, CD41-positive, CD42-positive megakaryocyte cell',\n",
              "       'macrophage', 'endothelial cell of umbilical vein (proliferating)',\n",
              "       'endothelial cell of umbilical vein (resting)',\n",
              "       'alternatively activated macrophage',\n",
              "       'conventional dendritic cell',\n",
              "       'CD3-negative, CD4-positive, CD8-positive, double positive thymocyte',\n",
              "       'CD3-positive, CD4-positive, CD8-positive, double positive thymocyte',\n",
              "       'CD4-positive, alpha-beta thymocyte',\n",
              "       'CD8-positive, alpha-beta thymocyte', 'thymocyte',\n",
              "       'germinal center B cell', 'CD4-positive, alpha-beta T cell',\n",
              "       'immature conventional dendritic cell',\n",
              "       'mature conventional dendritic cell', 'osteoclast',\n",
              "       'effector memory CD8-positive, alpha-beta T cell',\n",
              "       'class switched memory B cell', 'memory B cell',\n",
              "       'central memory CD8-positive, alpha-beta T cell', 'monocyte',\n",
              "       'naive B cell', 'effector memory CD4-positive, alpha-beta T cell',\n",
              "       'regulatory T cell',\n",
              "       'effector memory CD8-positive, alpha-beta T cell, terminally differentiated',\n",
              "       'mature eosinophil',\n",
              "       'central memory CD4-positive, alpha-beta T cell',\n",
              "       'adult endothelial progenitor cell',\n",
              "       'mesenchymal stem cell of the bone marrow'], dtype=object)"
            ]
          },
          "metadata": {},
          "execution_count": 5
        }
      ]
    },
    {
      "cell_type": "markdown",
      "source": [
        "Get example of macrophage and plasma data, and extract its url."
      ],
      "metadata": {
        "id": "ot6wpC656LXS"
      }
    },
    {
      "cell_type": "code",
      "source": [
        "cell_type_1 = 'macrophage'\n",
        "cell_type_2 = 'plasma cell'\n",
        "\n",
        "assert cell_type_1 in cell_types, \"{} not a valid cell type\".format(cell_type_1)\n",
        "assert cell_type_2 in cell_types, \"{} not a valid cell type\".format(cell_type_2)\n",
        "\n",
        "cell1_data = noDisease_bw_data[noDisease_bw_data['Cell type'] == cell_type_1]\n",
        "cell2_data = noDisease_bw_data[noDisease_bw_data['Cell type'] == cell_type_2]\n",
        "\n",
        "cell1_call = cell1_data.iloc[0]\n",
        "cell1_cov = cell1_data.iloc[1]\n",
        "cell2_call = cell2_data.iloc[0]\n",
        "cell2_cov = cell2_data.iloc[1]\n",
        "\n",
        "cell1_call_url = cell1_call['URL']\n",
        "cell1_cov_url = cell1_cov['URL']\n",
        "cell2_call_url = cell2_call['URL']\n",
        "cell2_cov_url = cell2_cov['URL']\n",
        "\n",
        "cell1_call_filename = cell1_call_url.split(\"/\")[-1]\n",
        "cell1_cov_filename = cell1_cov_url.split(\"/\")[-1]\n",
        "cell2_call_filename = cell2_call_url.split(\"/\")[-1]\n",
        "cell2_cov_filename = cell2_cov_url.split(\"/\")[-1]"
      ],
      "metadata": {
        "id": "S_oc8tqHzkXK"
      },
      "execution_count": 6,
      "outputs": []
    },
    {
      "cell_type": "markdown",
      "source": [
        "Downloading the data at the four URLs! This will take around 10 minutes."
      ],
      "metadata": {
        "id": "pgrJ3vQrMP2b"
      }
    },
    {
      "cell_type": "code",
      "source": [
        "!wget '$cell1_call_url'\n",
        "!wget '$cell1_cov_url'\n",
        "!wget '$cell2_call_url'\n",
        "!wget '$cell2_cov_url'"
      ],
      "metadata": {
        "colab": {
          "base_uri": "https://localhost:8080/"
        },
        "id": "HvfCQqP5o71o",
        "outputId": "1eb49f00-4728-4102-a688-5d71b89e351d"
      },
      "execution_count": 7,
      "outputs": [
        {
          "output_type": "stream",
          "name": "stdout",
          "text": [
            "--2022-06-28 22:34:26--  http://ftp.ebi.ac.uk/pub/databases/blueprint/data/homo_sapiens/GRCh38/cord_blood/S00BHQ/macrophage/Bisulfite-Seq/CNAG/S00BHQ51.CPG_methylation_calls.bs_call.GRCh38.20160531.bw\n",
            "Resolving ftp.ebi.ac.uk (ftp.ebi.ac.uk)... 193.62.193.138\n",
            "Connecting to ftp.ebi.ac.uk (ftp.ebi.ac.uk)|193.62.193.138|:80... connected.\n",
            "HTTP request sent, awaiting response... 200 OK\n",
            "Length: 125016699 (119M) [application/octet-stream]\n",
            "Saving to: ‘S00BHQ51.CPG_methylation_calls.bs_call.GRCh38.20160531.bw’\n",
            "\n",
            "S00BHQ51.CPG_methyl 100%[===================>] 119.22M   907KB/s    in 2m 13s  \n",
            "\n",
            "2022-06-28 22:36:39 (919 KB/s) - ‘S00BHQ51.CPG_methylation_calls.bs_call.GRCh38.20160531.bw’ saved [125016699/125016699]\n",
            "\n",
            "--2022-06-28 22:36:39--  http://ftp.ebi.ac.uk/pub/databases/blueprint/data/homo_sapiens/GRCh38/cord_blood/S00BHQ/macrophage/Bisulfite-Seq/CNAG/S00BHQ51.CPG_methylation_calls.bs_cov.GRCh38.20160531.bw\n",
            "Resolving ftp.ebi.ac.uk (ftp.ebi.ac.uk)... 193.62.193.138\n",
            "Connecting to ftp.ebi.ac.uk (ftp.ebi.ac.uk)|193.62.193.138|:80... connected.\n",
            "HTTP request sent, awaiting response... 200 OK\n",
            "Length: 112923116 (108M) [application/octet-stream]\n",
            "Saving to: ‘S00BHQ51.CPG_methylation_calls.bs_cov.GRCh38.20160531.bw’\n",
            "\n",
            "S00BHQ51.CPG_methyl 100%[===================>] 107.69M   945KB/s    in 2m 1s   \n",
            "\n",
            "2022-06-28 22:38:40 (913 KB/s) - ‘S00BHQ51.CPG_methylation_calls.bs_cov.GRCh38.20160531.bw’ saved [112923116/112923116]\n",
            "\n",
            "--2022-06-28 22:38:40--  http://ftp.ebi.ac.uk/pub/databases/blueprint/data/homo_sapiens/GRCh38/bone_marrow/MO7071/plasma_cell/Bisulfite-Seq/CNAG/G202.CPG_methylation_calls.bs_call.GRCh38.20160531.bw\n",
            "Resolving ftp.ebi.ac.uk (ftp.ebi.ac.uk)... 193.62.193.138\n",
            "Connecting to ftp.ebi.ac.uk (ftp.ebi.ac.uk)|193.62.193.138|:80... connected.\n",
            "HTTP request sent, awaiting response... 200 OK\n",
            "Length: 154166573 (147M) [application/octet-stream]\n",
            "Saving to: ‘G202.CPG_methylation_calls.bs_call.GRCh38.20160531.bw’\n",
            "\n",
            "G202.CPG_methylatio 100%[===================>] 147.02M   925KB/s    in 2m 41s  \n",
            "\n",
            "2022-06-28 22:41:22 (933 KB/s) - ‘G202.CPG_methylation_calls.bs_call.GRCh38.20160531.bw’ saved [154166573/154166573]\n",
            "\n",
            "--2022-06-28 22:41:22--  http://ftp.ebi.ac.uk/pub/databases/blueprint/data/homo_sapiens/GRCh38/bone_marrow/MO7071/plasma_cell/Bisulfite-Seq/CNAG/G202.CPG_methylation_calls.bs_cov.GRCh38.20160531.bw\n",
            "Resolving ftp.ebi.ac.uk (ftp.ebi.ac.uk)... 193.62.193.138\n",
            "Connecting to ftp.ebi.ac.uk (ftp.ebi.ac.uk)|193.62.193.138|:80... connected.\n",
            "HTTP request sent, awaiting response... 200 OK\n",
            "Length: 121094058 (115M) [application/octet-stream]\n",
            "Saving to: ‘G202.CPG_methylation_calls.bs_cov.GRCh38.20160531.bw’\n",
            "\n",
            "G202.CPG_methylatio 100%[===================>] 115.48M   935KB/s    in 2m 7s   \n",
            "\n",
            "2022-06-28 22:43:30 (932 KB/s) - ‘G202.CPG_methylation_calls.bs_cov.GRCh38.20160531.bw’ saved [121094058/121094058]\n",
            "\n"
          ]
        }
      ]
    },
    {
      "cell_type": "code",
      "source": [
        "# Annotations & bs_cov / bs_call names\n",
        "CELL_TYPE_TO_FILE_ID = {\n",
        "    \"Macrophage\": [\"SOOBHQ51\"],\n",
        "    \"Plasma_cell\": [\"G202\"]\n",
        "}\n",
        "\n",
        "# Reverse mapping of file id -> cell type\n",
        "# e.g.  'S01BHIA1': 'Monocyte'\n",
        "FILE_ID_TO_CELL_TYPE = {sample:cell_type for cell_type, sample_list in CELL_TYPE_TO_FILE_ID.items() for sample in sample_list}\n",
        "\n",
        "# If the blueprint dict changes, we need to replace our cache files\n",
        "# This is a tiny checksum of the dictionary state, which we incorporate into\n",
        "# our cache filenames below.\n",
        "CELL_TYPE_DICT_SIG = str(hex(abs(hash(json.dumps(CELL_TYPE_TO_FILE_ID, sort_keys=True))))[2:10])\n",
        "print(f\"Dictionary signature for cache files: {CELL_TYPE_DICT_SIG}\\n\")\n",
        "\n",
        "\n",
        "BLUEPRINT_FILEKEYS = list(itertools.chain.from_iterable(CELL_TYPE_TO_FILE_ID.values()))\n",
        "\n",
        "# Validity testing\n",
        "# assert all(len(vals) > 1 for vals in CELL_TYPE_TO_FILE_ID.values()), \"We need more than one example per cell type.\"\n",
        "assert len(BLUEPRINT_FILEKEYS) == len(set(BLUEPRINT_FILEKEYS)), \"One filename is duplicated in the cell types\"\n",
        "\n",
        "print(f\"Number of Blueprint cell types: {len(CELL_TYPE_TO_FILE_ID.keys())}\")\n",
        "print(f\"Number of Blueprint raw files: {len(BLUEPRINT_FILEKEYS)}\")"
      ],
      "metadata": {
        "colab": {
          "base_uri": "https://localhost:8080/"
        },
        "id": "sB3SAaUpbO_5",
        "outputId": "a4411196-6bcb-44aa-a71b-eed6b9731490"
      },
      "execution_count": 8,
      "outputs": [
        {
          "output_type": "stream",
          "name": "stdout",
          "text": [
            "Dictionary signature for cache files: 478590e1\n",
            "\n",
            "Number of Blueprint cell types: 2\n",
            "Number of Blueprint raw files: 2\n"
          ]
        }
      ]
    },
    {
      "cell_type": "markdown",
      "source": [
        "# Create shared **cov** map\n",
        "\n",
        "Load coverage (if >minimum below) across all files, then determine the set() shared across **all** samples.\n",
        "\n",
        "IF a locus (e.g. \"chr1:123\") is missing from **one** single sample, it will be **excluded** from our entire analysis.\n",
        "\n",
        "IF a locus has \\<10 reads in **one** single sample, it will be **excluded** from our entire analysis."
      ],
      "metadata": {
        "id": "s0_wxaaTEdZM"
      }
    },
    {
      "cell_type": "code",
      "source": [
        "CHROMOSOMES = [\"chr\" + str(i) for i in range(1, 23)] + [\"chrX\"]\n",
        "IGNORE_CACHE = False\n",
        "\n",
        "BLUEPRINT_CPG_COV_MINIMUM = 10\n",
        "\n",
        "RUN_SIGNATURE = f\"{BLUEPRINT_CPG_COV_MINIMUM}_{CELL_TYPE_DICT_SIG}\"\n",
        "\n",
        "assert type(BLUEPRINT_CPG_COV_MINIMUM) is int\n",
        "assert BLUEPRINT_CPG_COV_MINIMUM > 0\n",
        "\n",
        "print(f\"Minimum Blueprint coverage limit: {BLUEPRINT_CPG_COV_MINIMUM}\")\n",
        "print(f\" (CpGs with fewer than {BLUEPRINT_CPG_COV_MINIMUM} reads in *any* sample will be ignored.)\\n\")\n",
        "\n",
        "# Our output / save file\n",
        "INTERSECTED_COVERAGE_BED = f\"intersected_bs_cov_min_{RUN_SIGNATURE}.bed\"\n",
        "\n",
        "print(f\"Coverage BED: {INTERSECTED_COVERAGE_BED}\")\n",
        "\n",
        "if os.path.exists(INTERSECTED_COVERAGE_BED) and not IGNORE_CACHE:\n",
        "    print(\"\\tPost-processed cov .bed already exists. (Skipping raw Blueprint bs_cov parsing.)\")\n",
        "else:\n",
        "    print(\"\\t.bed does not exist yet -- parsing bs_cov .bw files.\")\n",
        "    INTERSECTED_BS_COV_POSITIONS = {}\n",
        "    track = 0\n",
        "\n",
        "    for file_key in tqdm(BLUEPRINT_FILEKEYS):\n",
        "        with pyBigWig.open(cell1_cov_filename) as bw_object:\n",
        "            bw_header = bw_object.header()\n",
        "            if bw_header['nBasesCovered'] < 1e7 or bw_header['sumData'] < 1e8:\n",
        "                print('\\t\\t*** WARNING: Input .bw has few reads or low coverage. This may cause unexpected results, consider removing this file.')\n",
        "                print(f\"\\t\\tnBasesCovered: {bw_header['nBasesCovered']}, sumData: {bw_header['sumData']}\")\n",
        "            for chrom in CHROMOSOMES:\n",
        "                current_loop_values = set([start for start, _, cov in bw_object.intervals(\"chr1\") if cov >= BLUEPRINT_CPG_COV_MINIMUM])\n",
        "                track += len(current_loop_values)\n",
        "                existing_values = INTERSECTED_BS_COV_POSITIONS.get(chrom, current_loop_values)\n",
        "                INTERSECTED_BS_COV_POSITIONS[chrom] = existing_values.intersection(current_loop_values)\n",
        "            print(track)\n",
        "\n",
        "    # Save this hard work as a .bed for later recovery if needed\n",
        "    with open(INTERSECTED_COVERAGE_BED, 'w') as outfile:\n",
        "        # A .bed is just a .tsv with ['chrom', 'chromStart', 'chromEnd']\n",
        "        bed_writer = csv.writer(outfile, delimiter='\\t')\n",
        "        for chr in CHROMOSOMES:\n",
        "            for entry in INTERSECTED_BS_COV_POSITIONS[chr]:\n",
        "                bed_writer.writerow([chr, entry, entry+1])\n",
        "\n",
        "    print(f\"\\nWrote data to: {INTERSECTED_COVERAGE_BED}\") # Unsorted"
      ],
      "metadata": {
        "colab": {
          "base_uri": "https://localhost:8080/"
        },
        "id": "AFBC6h3kiOmB",
        "outputId": "5899c1a4-8ed1-442d-c5b7-e0c89e2f3597"
      },
      "execution_count": 11,
      "outputs": [
        {
          "output_type": "stream",
          "name": "stdout",
          "text": [
            "Minimum Blueprint coverage limit: 10\n",
            " (CpGs with fewer than 10 reads in *any* sample will be ignored.)\n",
            "\n",
            "Coverage BED: intersected_bs_cov_min_10_478590e1.bed\n",
            "\tPost-processed cov .bed already exists. (Skipping raw Blueprint bs_cov parsing.)\n"
          ]
        }
      ]
    },
    {
      "cell_type": "markdown",
      "source": [
        "Encode defines a standard list of \"bad\" regions -- very low complexity / information content, etc. that show up in some studies but are not informative. We remove them and do some other standard data cleaning."
      ],
      "metadata": {
        "id": "hI5ItooDEtVF"
      }
    },
    {
      "cell_type": "code",
      "source": [
        "# Load the .bed from above\n",
        "raw_bs_cov_bed = pybedtools.BedTool(INTERSECTED_COVERAGE_BED)\n",
        "print(f\"Number of entries in bs_cov (raw): {len(raw_bs_cov_bed):,}\")\n",
        "\n",
        "if not os.path.exists(\"ENCFF356LFX.bed.gz\"):\n",
        "    print(\"Downloading ENCODE DAC Exclusion List\")\n",
        "    urllib.request.urlretrieve(\"https://www.encodeproject.org/files/ENCFF356LFX/@@download/ENCFF356LFX.bed.gz\", \"ENCFF356LFX.bed.gz\")\n",
        "\n",
        "excluded_regions = pybedtools.BedTool(\"ENCFF356LFX.bed.gz\")\n",
        "print(f\"Number of entries in excluded_regions: {len(excluded_regions):,}\")\n",
        "assert len(excluded_regions) > 900 # 910 as of 1/2022\n",
        "\n",
        "# .saveas forces this to render, otherwise may be a generator\n",
        "# TODO: Fix path to be more specific\n",
        "cleaned_sorted_bs_cov = raw_bs_cov_bed.subtract(excluded_regions).sort().saveas('bs_cov_cleaned_sorted.bed')\n",
        "print(f\"Number of remaining bs_cov entries: {len(cleaned_sorted_bs_cov):,}\")\n",
        "# assert len(cleaned_sorted_bs_cov) > 90000 # We expect about 90k entries\n",
        "\n",
        "\n",
        "# Convert `bs_cov_cleaned_sorted` to a dict too:\n",
        "#  key: chr\n",
        "#  val: [sorted list of bs_cov positions]\n",
        "# NOTE: This works because dicts are insertion ordered as of Python>3.7\n",
        "BS_COV_POSITIONS = {}\n",
        "for bed_entry in cleaned_sorted_bs_cov:\n",
        "    BS_COV_POSITIONS.setdefault(bed_entry.chrom, []).append(bed_entry.start)"
      ],
      "metadata": {
        "colab": {
          "base_uri": "https://localhost:8080/",
          "height": 432
        },
        "id": "O2PpXQc-D53g",
        "outputId": "4b460a59-1520-4887-fe34-2f1d276fb5f5"
      },
      "execution_count": 21,
      "outputs": [
        {
          "output_type": "stream",
          "name": "stdout",
          "text": [
            "Number of entries in bs_cov (raw): 38,354,179\n",
            "Number of entries in excluded_regions: 910\n"
          ]
        },
        {
          "output_type": "error",
          "ename": "NotImplementedError",
          "evalue": "ignored",
          "traceback": [
            "\u001b[0;31m---------------------------------------------------------------------------\u001b[0m",
            "\u001b[0;31mNotImplementedError\u001b[0m                       Traceback (most recent call last)",
            "\u001b[0;32m<ipython-input-21-b283a84f0a6c>\u001b[0m in \u001b[0;36m<module>\u001b[0;34m()\u001b[0m\n\u001b[1;32m     13\u001b[0m \u001b[0;31m# .saveas forces this to render, otherwise may be a generator\u001b[0m\u001b[0;34m\u001b[0m\u001b[0;34m\u001b[0m\u001b[0;34m\u001b[0m\u001b[0m\n\u001b[1;32m     14\u001b[0m \u001b[0;31m# TODO: Fix path to be more specific\u001b[0m\u001b[0;34m\u001b[0m\u001b[0;34m\u001b[0m\u001b[0;34m\u001b[0m\u001b[0m\n\u001b[0;32m---> 15\u001b[0;31m \u001b[0mcleaned_sorted_bs_cov\u001b[0m \u001b[0;34m=\u001b[0m \u001b[0mraw_bs_cov_bed\u001b[0m\u001b[0;34m.\u001b[0m\u001b[0msubtract\u001b[0m\u001b[0;34m(\u001b[0m\u001b[0mexcluded_regions\u001b[0m\u001b[0;34m)\u001b[0m\u001b[0;34m.\u001b[0m\u001b[0msort\u001b[0m\u001b[0;34m(\u001b[0m\u001b[0;34m)\u001b[0m\u001b[0;34m.\u001b[0m\u001b[0msaveas\u001b[0m\u001b[0;34m(\u001b[0m\u001b[0;34m'bs_cov_cleaned_sorted.bed'\u001b[0m\u001b[0;34m)\u001b[0m\u001b[0;34m\u001b[0m\u001b[0;34m\u001b[0m\u001b[0m\n\u001b[0m\u001b[1;32m     16\u001b[0m \u001b[0mprint\u001b[0m\u001b[0;34m(\u001b[0m\u001b[0;34mf\"Number of remaining bs_cov entries: {len(cleaned_sorted_bs_cov):,}\"\u001b[0m\u001b[0;34m)\u001b[0m\u001b[0;34m\u001b[0m\u001b[0;34m\u001b[0m\u001b[0m\n\u001b[1;32m     17\u001b[0m \u001b[0;31m# assert len(cleaned_sorted_bs_cov) > 90000 # We expect about 90k entries\u001b[0m\u001b[0;34m\u001b[0m\u001b[0;34m\u001b[0m\u001b[0;34m\u001b[0m\u001b[0m\n",
            "\u001b[0;32m/usr/local/lib/python3.7/dist-packages/pybedtools/bedtool.py\u001b[0m in \u001b[0;36mdecorated\u001b[0;34m(self, *args, **kwargs)\u001b[0m\n\u001b[1;32m    921\u001b[0m             \u001b[0;31m# this calls the actual method in the first place; *result* is\u001b[0m\u001b[0;34m\u001b[0m\u001b[0;34m\u001b[0m\u001b[0;34m\u001b[0m\u001b[0m\n\u001b[1;32m    922\u001b[0m             \u001b[0;31m# whatever you get back\u001b[0m\u001b[0;34m\u001b[0m\u001b[0;34m\u001b[0m\u001b[0;34m\u001b[0m\u001b[0m\n\u001b[0;32m--> 923\u001b[0;31m             \u001b[0mresult\u001b[0m \u001b[0;34m=\u001b[0m \u001b[0mmethod\u001b[0m\u001b[0;34m(\u001b[0m\u001b[0mself\u001b[0m\u001b[0;34m,\u001b[0m \u001b[0;34m*\u001b[0m\u001b[0margs\u001b[0m\u001b[0;34m,\u001b[0m \u001b[0;34m**\u001b[0m\u001b[0mkwargs\u001b[0m\u001b[0;34m)\u001b[0m\u001b[0;34m\u001b[0m\u001b[0;34m\u001b[0m\u001b[0m\n\u001b[0m\u001b[1;32m    924\u001b[0m \u001b[0;34m\u001b[0m\u001b[0m\n\u001b[1;32m    925\u001b[0m             \u001b[0;31m# add appropriate tags\u001b[0m\u001b[0;34m\u001b[0m\u001b[0;34m\u001b[0m\u001b[0;34m\u001b[0m\u001b[0m\n",
            "\u001b[0;32m/usr/local/lib/python3.7/dist-packages/pybedtools/bedtool.py\u001b[0m in \u001b[0;36mnot_implemented_func\u001b[0;34m(*args, **kwargs)\u001b[0m\n\u001b[1;32m    242\u001b[0m \u001b[0;34m\u001b[0m\u001b[0m\n\u001b[1;32m    243\u001b[0m             \u001b[0;32mdef\u001b[0m \u001b[0mnot_implemented_func\u001b[0m\u001b[0;34m(\u001b[0m\u001b[0;34m*\u001b[0m\u001b[0margs\u001b[0m\u001b[0;34m,\u001b[0m \u001b[0;34m**\u001b[0m\u001b[0mkwargs\u001b[0m\u001b[0;34m)\u001b[0m\u001b[0;34m:\u001b[0m\u001b[0;34m\u001b[0m\u001b[0;34m\u001b[0m\u001b[0m\n\u001b[0;32m--> 244\u001b[0;31m                 \u001b[0;32mraise\u001b[0m \u001b[0mNotImplementedError\u001b[0m\u001b[0;34m(\u001b[0m\u001b[0mhelp_str\u001b[0m\u001b[0;34m)\u001b[0m\u001b[0;34m\u001b[0m\u001b[0;34m\u001b[0m\u001b[0m\n\u001b[0m\u001b[1;32m    245\u001b[0m \u001b[0;34m\u001b[0m\u001b[0m\n\u001b[1;32m    246\u001b[0m             \u001b[0;32mreturn\u001b[0m \u001b[0mnot_implemented_func\u001b[0m\u001b[0;34m\u001b[0m\u001b[0;34m\u001b[0m\u001b[0m\n",
            "\u001b[0;31mNotImplementedError\u001b[0m: \"subtractBed\" does not appear to be installed or on the path, so this method is disabled.  Please install a more recent version of BEDTools and re-import to use this method."
          ]
        }
      ]
    },
    {
      "cell_type": "code",
      "source": [
        ""
      ],
      "metadata": {
        "id": "XuVkNgt_RVMb"
      },
      "execution_count": null,
      "outputs": []
    }
  ]
}